{
 "cells": [
  {
   "cell_type": "markdown",
   "metadata": {},
   "source": [
    "# Task 2: Making GPT-2 speak!"
   ]
  },
  {
   "cell_type": "markdown",
   "metadata": {},
   "source": [
    "We will\n",
    "* Learn how we can trigger conversational behaviour of GPT-2 with a simple \"hack\"\n",
    "* Be introduced to Huggingface's transformers project\n",
    "* See the logic which was so far abstracted away from us (by gpt-2-simple)"
   ]
  }
 ],
 "metadata": {
  "jupytext": {
   "formats": "ipynb,py:light"
  },
  "kernelspec": {
   "display_name": "Python 3",
   "language": "python",
   "name": "python3"
  }
 },
 "nbformat": 4,
 "nbformat_minor": 4
}
