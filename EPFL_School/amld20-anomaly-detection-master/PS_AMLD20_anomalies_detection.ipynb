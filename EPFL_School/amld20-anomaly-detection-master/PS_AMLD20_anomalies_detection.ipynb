{
  "nbformat": 4,
  "nbformat_minor": 0,
  "metadata": {
    "kernelspec": {
      "display_name": "Python 3",
      "language": "python",
      "name": "python3"
    },
    "language_info": {
      "codemirror_mode": {
        "name": "ipython",
        "version": 3
      },
      "file_extension": ".py",
      "mimetype": "text/x-python",
      "name": "python",
      "nbconvert_exporter": "python",
      "pygments_lexer": "ipython3",
      "version": "3.7.1"
    },
    "colab": {
      "name": "Copy of AMLD20_anomalies_detection.ipynb",
      "provenance": [],
      "collapsed_sections": []
    }
  },
  "cells": [
    {
      "cell_type": "markdown",
      "metadata": {
        "id": "RcbDwWzbrYFz",
        "colab_type": "text"
      },
      "source": [
        "<div class=\"alert alert-danger\">\n",
        "<h3>Setup for Google Colab only- otherwise ignore first cell</h3>\n",
        "</div>"
      ]
    },
    {
      "cell_type": "code",
      "metadata": {
        "id": "fWNVEFNYrYF3",
        "colab_type": "code",
        "colab": {
          "base_uri": "https://localhost:8080/",
          "height": 956
        },
        "outputId": "e0a61381-e910-495e-ea78-32418db9b1f8"
      },
      "source": [
        "#@title << Setup Google Colab by running this cell {display-mode: \"form\"}\n",
        "import sys\n",
        "if 'google.colab' in sys.modules:\n",
        "    # Clone GitHub repository\n",
        "    !git clone https://github.com/epfl-exts/amld20-anomaly-detection.git\n",
        "        \n",
        "    # Copy files required to run the code\n",
        "    !cp -r \"amld20-anomaly-detection/data\" \"amld20-anomaly-detection/anomaly_helpers.py\" .\n",
        "    \n",
        "    # Install packages via pip\n",
        "    !pip install -r \"amld20-anomaly-detection/colab-requirements.txt\"\n",
        "    \n",
        "    # Restart Runtime\n",
        "    import os\n",
        "    os.kill(os.getpid(), 9)"
      ],
      "execution_count": 0,
      "outputs": [
        {
          "output_type": "stream",
          "text": [
            "Cloning into 'amld20-anomaly-detection'...\n",
            "remote: Enumerating objects: 48, done.\u001b[K\n",
            "remote: Counting objects: 100% (48/48), done.\u001b[K\n",
            "remote: Compressing objects: 100% (36/36), done.\u001b[K\n",
            "remote: Total 48 (delta 21), reused 38 (delta 12), pack-reused 0\u001b[K\n",
            "Unpacking objects: 100% (48/48), done.\n",
            "Collecting numpy==1.16\n",
            "\u001b[?25l  Downloading https://files.pythonhosted.org/packages/7b/74/54c5f9bb9bd4dae27a61ec1b39076a39d359b3fb7ba15da79ef23858a9d8/numpy-1.16.0-cp36-cp36m-manylinux1_x86_64.whl (17.3MB)\n",
            "\u001b[K     |████████████████████████████████| 17.3MB 237kB/s \n",
            "\u001b[?25hCollecting pandas==0.24.2\n",
            "\u001b[?25l  Downloading https://files.pythonhosted.org/packages/19/74/e50234bc82c553fecdbd566d8650801e3fe2d6d8c8d940638e3d8a7c5522/pandas-0.24.2-cp36-cp36m-manylinux1_x86_64.whl (10.1MB)\n",
            "\u001b[K     |████████████████████████████████| 10.1MB 33.6MB/s \n",
            "\u001b[?25hCollecting matplotlib==3.0.3\n",
            "\u001b[?25l  Downloading https://files.pythonhosted.org/packages/e9/69/f5e05f578585ed9935247be3788b374f90701296a70c8871bcd6d21edb00/matplotlib-3.0.3-cp36-cp36m-manylinux1_x86_64.whl (13.0MB)\n",
            "\u001b[K     |████████████████████████████████| 13.0MB 166kB/s \n",
            "\u001b[?25hRequirement already satisfied: seaborn==0.9.0 in /usr/local/lib/python3.6/dist-packages (from -r amld20-anomaly-detection/colab-requirements.txt (line 4)) (0.9.0)\n",
            "Collecting scikit-learn==0.21.3\n",
            "\u001b[?25l  Downloading https://files.pythonhosted.org/packages/a0/c5/d2238762d780dde84a20b8c761f563fe882b88c5a5fb03c056547c442a19/scikit_learn-0.21.3-cp36-cp36m-manylinux1_x86_64.whl (6.7MB)\n",
            "\u001b[K     |████████████████████████████████| 6.7MB 30.2MB/s \n",
            "\u001b[?25hRequirement already satisfied: pytz>=2011k in /usr/local/lib/python3.6/dist-packages (from pandas==0.24.2->-r amld20-anomaly-detection/colab-requirements.txt (line 2)) (2018.9)\n",
            "Requirement already satisfied: python-dateutil>=2.5.0 in /usr/local/lib/python3.6/dist-packages (from pandas==0.24.2->-r amld20-anomaly-detection/colab-requirements.txt (line 2)) (2.6.1)\n",
            "Requirement already satisfied: pyparsing!=2.0.4,!=2.1.2,!=2.1.6,>=2.0.1 in /usr/local/lib/python3.6/dist-packages (from matplotlib==3.0.3->-r amld20-anomaly-detection/colab-requirements.txt (line 3)) (2.4.6)\n",
            "Requirement already satisfied: kiwisolver>=1.0.1 in /usr/local/lib/python3.6/dist-packages (from matplotlib==3.0.3->-r amld20-anomaly-detection/colab-requirements.txt (line 3)) (1.1.0)\n",
            "Requirement already satisfied: cycler>=0.10 in /usr/local/lib/python3.6/dist-packages (from matplotlib==3.0.3->-r amld20-anomaly-detection/colab-requirements.txt (line 3)) (0.10.0)\n",
            "Requirement already satisfied: scipy>=0.14.0 in /usr/local/lib/python3.6/dist-packages (from seaborn==0.9.0->-r amld20-anomaly-detection/colab-requirements.txt (line 4)) (1.4.1)\n",
            "Requirement already satisfied: joblib>=0.11 in /usr/local/lib/python3.6/dist-packages (from scikit-learn==0.21.3->-r amld20-anomaly-detection/colab-requirements.txt (line 5)) (0.14.1)\n",
            "Requirement already satisfied: six>=1.5 in /usr/local/lib/python3.6/dist-packages (from python-dateutil>=2.5.0->pandas==0.24.2->-r amld20-anomaly-detection/colab-requirements.txt (line 2)) (1.12.0)\n",
            "Requirement already satisfied: setuptools in /usr/local/lib/python3.6/dist-packages (from kiwisolver>=1.0.1->matplotlib==3.0.3->-r amld20-anomaly-detection/colab-requirements.txt (line 3)) (42.0.2)\n",
            "\u001b[31mERROR: plotnine 0.6.0 has requirement matplotlib>=3.1.1, but you'll have matplotlib 3.0.3 which is incompatible.\u001b[0m\n",
            "\u001b[31mERROR: plotnine 0.6.0 has requirement pandas>=0.25.0, but you'll have pandas 0.24.2 which is incompatible.\u001b[0m\n",
            "\u001b[31mERROR: mizani 0.6.0 has requirement matplotlib>=3.1.1, but you'll have matplotlib 3.0.3 which is incompatible.\u001b[0m\n",
            "\u001b[31mERROR: mizani 0.6.0 has requirement pandas>=0.25.0, but you'll have pandas 0.24.2 which is incompatible.\u001b[0m\n",
            "\u001b[31mERROR: google-colab 1.0.0 has requirement pandas~=0.25.0; python_version >= \"3.0\", but you'll have pandas 0.24.2 which is incompatible.\u001b[0m\n",
            "\u001b[31mERROR: datascience 0.10.6 has requirement folium==0.2.1, but you'll have folium 0.8.3 which is incompatible.\u001b[0m\n",
            "\u001b[31mERROR: albumentations 0.1.12 has requirement imgaug<0.2.7,>=0.2.5, but you'll have imgaug 0.2.9 which is incompatible.\u001b[0m\n",
            "Installing collected packages: numpy, pandas, matplotlib, scikit-learn\n",
            "  Found existing installation: numpy 1.17.5\n",
            "    Uninstalling numpy-1.17.5:\n",
            "      Successfully uninstalled numpy-1.17.5\n",
            "  Found existing installation: pandas 0.25.3\n",
            "    Uninstalling pandas-0.25.3:\n",
            "      Successfully uninstalled pandas-0.25.3\n",
            "  Found existing installation: matplotlib 3.1.2\n",
            "    Uninstalling matplotlib-3.1.2:\n",
            "      Successfully uninstalled matplotlib-3.1.2\n",
            "  Found existing installation: scikit-learn 0.22.1\n",
            "    Uninstalling scikit-learn-0.22.1:\n",
            "      Successfully uninstalled scikit-learn-0.22.1\n",
            "Successfully installed matplotlib-3.0.3 numpy-1.16.0 pandas-0.24.2 scikit-learn-0.21.3\n"
          ],
          "name": "stdout"
        },
        {
          "output_type": "display_data",
          "data": {
            "application/vnd.colab-display-data+json": {
              "pip_warning": {
                "packages": [
                  "matplotlib",
                  "mpl_toolkits",
                  "numpy",
                  "pandas"
                ]
              }
            }
          },
          "metadata": {
            "tags": []
          }
        }
      ]
    },
    {
      "cell_type": "markdown",
      "metadata": {
        "id": "tF4ufCLarYF-",
        "colab_type": "text"
      },
      "source": [
        "## Load settings and functions"
      ]
    },
    {
      "cell_type": "code",
      "metadata": {
        "id": "41w9AO9YrYF_",
        "colab_type": "code",
        "colab": {}
      },
      "source": [
        "%run anomaly_helpers.py"
      ],
      "execution_count": 0,
      "outputs": []
    },
    {
      "cell_type": "markdown",
      "metadata": {
        "id": "DIWvok6DrYGD",
        "colab_type": "text"
      },
      "source": [
        "## Create dataset"
      ]
    },
    {
      "cell_type": "code",
      "metadata": {
        "id": "d-YlsGpRrYGE",
        "colab_type": "code",
        "colab": {
          "base_uri": "https://localhost:8080/",
          "height": 170
        },
        "outputId": "7f8a11b0-5f36-4055-a4fc-525926b9b087"
      },
      "source": [
        "dataset=create_dataset()"
      ],
      "execution_count": 2,
      "outputs": [
        {
          "output_type": "stream",
          "text": [
            "Number of training samples to be used:\n",
            "Please choose a number between 100 and 80819\n",
            " 5639\n",
            "\n",
            "Portion of training samples to be attacks:\n",
            "Please choose a number between 0 and 0.5 .\n",
            " 0.3\n",
            "\n",
            "Your dataset has been created.\n"
          ],
          "name": "stdout"
        }
      ]
    },
    {
      "cell_type": "code",
      "metadata": {
        "id": "u-UTzGm6sgKE",
        "colab_type": "code",
        "colab": {
          "base_uri": "https://localhost:8080/",
          "height": 697
        },
        "outputId": "3af4f0ff-a500-4665-b960-1fc42ce0fd75"
      },
      "source": [
        "type(dataset); len(dataset); dir(dataset)"
      ],
      "execution_count": 11,
      "outputs": [
        {
          "output_type": "execute_result",
          "data": {
            "text/plain": [
              "['__class__',\n",
              " '__contains__',\n",
              " '__delattr__',\n",
              " '__delitem__',\n",
              " '__dir__',\n",
              " '__doc__',\n",
              " '__eq__',\n",
              " '__format__',\n",
              " '__ge__',\n",
              " '__getattribute__',\n",
              " '__getitem__',\n",
              " '__gt__',\n",
              " '__hash__',\n",
              " '__init__',\n",
              " '__init_subclass__',\n",
              " '__iter__',\n",
              " '__le__',\n",
              " '__len__',\n",
              " '__lt__',\n",
              " '__ne__',\n",
              " '__new__',\n",
              " '__reduce__',\n",
              " '__reduce_ex__',\n",
              " '__repr__',\n",
              " '__setattr__',\n",
              " '__setitem__',\n",
              " '__sizeof__',\n",
              " '__str__',\n",
              " '__subclasshook__',\n",
              " 'clear',\n",
              " 'copy',\n",
              " 'fromkeys',\n",
              " 'get',\n",
              " 'items',\n",
              " 'keys',\n",
              " 'pop',\n",
              " 'popitem',\n",
              " 'setdefault',\n",
              " 'update',\n",
              " 'values']"
            ]
          },
          "metadata": {
            "tags": []
          },
          "execution_count": 11
        }
      ]
    },
    {
      "cell_type": "markdown",
      "metadata": {
        "id": "YTARL3KzrYGH",
        "colab_type": "text"
      },
      "source": [
        "<div class=\"alert alert-info\">\n",
        "<h3>Important</h3>\n",
        "\n",
        "<p>When training the model we will only pass it the features of the samples. The model will never see the class labels, and hence can not gain any feedback from comparing them against its own 'decisions'.<br>\n",
        "We call this <b>unsupervised learning</b>.</p>\n",
        "    \n",
        "<p>However, here we will use the class labels to gain further insight by analysing and visualising the data and later for evaluating our model in some more detail.</p>\n",
        "</div>"
      ]
    },
    {
      "cell_type": "code",
      "metadata": {
        "id": "u_MhoO_DtqI9",
        "colab_type": "code",
        "colab": {}
      },
      "source": [
        "dataset.items()"
      ],
      "execution_count": 0,
      "outputs": []
    },
    {
      "cell_type": "code",
      "metadata": {
        "id": "sd9slsIfuR5T",
        "colab_type": "code",
        "colab": {
          "base_uri": "https://localhost:8080/",
          "height": 1000
        },
        "outputId": "d5ccc7b2-065a-497a-b3f6-c031b3d54618"
      },
      "source": [
        "dataset"
      ],
      "execution_count": 14,
      "outputs": [
        {
          "output_type": "execute_result",
          "data": {
            "text/plain": [
              "{'data_test1':      land  wrong_fragment  urgent   hot  logged_in  ...   S1  RSTOS0   S3   S2  OTH\n",
              " 0     0.0             0.0     0.0   0.0        1.0  ...  0.0     0.0  0.0  0.0  0.0\n",
              " 1     0.0             0.0     0.0   0.0        0.0  ...  0.0     0.0  0.0  0.0  0.0\n",
              " 2     0.0             0.0     0.0   0.0        1.0  ...  0.0     0.0  0.0  0.0  0.0\n",
              " 3     0.0             0.0     0.0   2.0        1.0  ...  0.0     0.0  0.0  0.0  0.0\n",
              " 4     0.0             0.0     0.0   0.0        1.0  ...  0.0     0.0  0.0  0.0  0.0\n",
              " 5     0.0             0.0     0.0   0.0        0.0  ...  0.0     0.0  0.0  0.0  0.0\n",
              " 6     0.0             0.0     0.0   0.0        0.0  ...  0.0     0.0  0.0  0.0  0.0\n",
              " 7     0.0             0.0     0.0   0.0        0.0  ...  0.0     0.0  0.0  0.0  0.0\n",
              " 8     0.0             0.0     0.0  30.0        1.0  ...  0.0     0.0  0.0  0.0  0.0\n",
              " 9     0.0             0.0     0.0   0.0        1.0  ...  0.0     0.0  0.0  0.0  0.0\n",
              " 10    0.0             0.0     0.0   0.0        1.0  ...  0.0     0.0  0.0  0.0  0.0\n",
              " 11    0.0             0.0     0.0   0.0        1.0  ...  0.0     0.0  0.0  0.0  0.0\n",
              " 12    0.0             0.0     0.0   0.0        1.0  ...  0.0     0.0  0.0  0.0  0.0\n",
              " 13    0.0             0.0     0.0   0.0        0.0  ...  0.0     0.0  0.0  0.0  0.0\n",
              " 14    0.0             0.0     0.0   0.0        1.0  ...  0.0     0.0  0.0  0.0  0.0\n",
              " 15    0.0             0.0     0.0   0.0        1.0  ...  0.0     0.0  0.0  0.0  0.0\n",
              " 16    0.0             0.0     0.0   0.0        0.0  ...  0.0     0.0  0.0  0.0  0.0\n",
              " 17    0.0             0.0     0.0   0.0        1.0  ...  0.0     0.0  0.0  0.0  0.0\n",
              " 18    0.0             0.0     0.0   0.0        1.0  ...  0.0     0.0  0.0  0.0  0.0\n",
              " 19    0.0             0.0     0.0  14.0        1.0  ...  0.0     0.0  0.0  0.0  0.0\n",
              " 20    0.0             0.0     0.0   0.0        0.0  ...  0.0     0.0  0.0  0.0  0.0\n",
              " 21    0.0             0.0     0.0   0.0        1.0  ...  0.0     0.0  0.0  0.0  0.0\n",
              " 22    0.0             0.0     0.0   0.0        1.0  ...  0.0     0.0  0.0  0.0  0.0\n",
              " 23    0.0             0.0     0.0   0.0        0.0  ...  0.0     0.0  0.0  0.0  0.0\n",
              " 24    0.0             0.0     0.0   0.0        0.0  ...  0.0     0.0  0.0  0.0  0.0\n",
              " 25    0.0             0.0     0.0   0.0        0.0  ...  0.0     0.0  0.0  0.0  0.0\n",
              " 26    0.0             0.0     0.0   0.0        1.0  ...  0.0     0.0  0.0  0.0  0.0\n",
              " 27    0.0             0.0     0.0  18.0        1.0  ...  0.0     0.0  0.0  0.0  0.0\n",
              " 28    0.0             0.0     0.0   0.0        1.0  ...  0.0     0.0  0.0  0.0  0.0\n",
              " 29    0.0             0.0     0.0   0.0        1.0  ...  0.0     0.0  0.0  0.0  0.0\n",
              " ..    ...             ...     ...   ...        ...  ...  ...     ...  ...  ...  ...\n",
              " 970   0.0             0.0     0.0   0.0        0.0  ...  0.0     0.0  0.0  0.0  0.0\n",
              " 971   0.0             0.0     0.0   0.0        0.0  ...  0.0     0.0  0.0  0.0  0.0\n",
              " 972   0.0             0.0     0.0   0.0        1.0  ...  0.0     0.0  0.0  0.0  0.0\n",
              " 973   0.0             3.0     0.0   0.0        0.0  ...  0.0     0.0  0.0  0.0  0.0\n",
              " 974   0.0             0.0     0.0   0.0        0.0  ...  0.0     0.0  0.0  0.0  0.0\n",
              " 975   0.0             0.0     0.0   0.0        1.0  ...  0.0     0.0  0.0  0.0  0.0\n",
              " 976   0.0             1.0     0.0   0.0        0.0  ...  0.0     0.0  0.0  0.0  0.0\n",
              " 977   0.0             0.0     0.0   0.0        0.0  ...  0.0     0.0  0.0  0.0  0.0\n",
              " 978   0.0             0.0     0.0   0.0        1.0  ...  0.0     0.0  0.0  0.0  0.0\n",
              " 979   0.0             0.0     0.0  28.0        1.0  ...  0.0     0.0  0.0  0.0  0.0\n",
              " 980   0.0             0.0     0.0   0.0        1.0  ...  0.0     0.0  0.0  0.0  0.0\n",
              " 981   0.0             0.0     0.0   0.0        1.0  ...  0.0     0.0  0.0  0.0  0.0\n",
              " 982   0.0             0.0     0.0   0.0        1.0  ...  0.0     0.0  0.0  0.0  0.0\n",
              " 983   0.0             0.0     0.0   0.0        0.0  ...  0.0     0.0  0.0  0.0  0.0\n",
              " 984   0.0             0.0     0.0   0.0        0.0  ...  0.0     0.0  0.0  0.0  0.0\n",
              " 985   0.0             0.0     0.0   0.0        1.0  ...  0.0     0.0  0.0  0.0  0.0\n",
              " 986   0.0             0.0     0.0   0.0        1.0  ...  0.0     0.0  0.0  0.0  0.0\n",
              " 987   0.0             0.0     0.0   0.0        1.0  ...  0.0     0.0  0.0  0.0  0.0\n",
              " 988   0.0             0.0     0.0   2.0        1.0  ...  0.0     0.0  0.0  0.0  0.0\n",
              " 989   0.0             0.0     0.0   0.0        0.0  ...  0.0     0.0  0.0  0.0  0.0\n",
              " 990   0.0             0.0     0.0   0.0        1.0  ...  0.0     0.0  0.0  0.0  0.0\n",
              " 991   0.0             0.0     0.0   0.0        1.0  ...  0.0     0.0  0.0  0.0  0.0\n",
              " 992   0.0             0.0     0.0   0.0        1.0  ...  0.0     0.0  0.0  0.0  0.0\n",
              " 993   0.0             0.0     0.0   0.0        0.0  ...  0.0     0.0  0.0  0.0  0.0\n",
              " 994   0.0             0.0     0.0   0.0        1.0  ...  0.0     0.0  0.0  0.0  0.0\n",
              " 995   0.0             0.0     0.0   0.0        1.0  ...  0.0     0.0  0.0  0.0  0.0\n",
              " 996   0.0             0.0     0.0   0.0        1.0  ...  0.0     0.0  0.0  0.0  0.0\n",
              " 997   0.0             0.0     0.0   0.0        0.0  ...  0.0     0.0  0.0  0.0  0.0\n",
              " 998   0.0             0.0     0.0   0.0        0.0  ...  0.0     0.0  0.0  0.0  0.0\n",
              " 999   0.0             0.0     0.0   0.0        1.0  ...  0.0     0.0  0.0  0.0  0.0\n",
              " \n",
              " [1000 rows x 51 columns],\n",
              " 'data_test1_PCA':      land  wrong_fragment  urgent  hot  logged_in  ...  S1  RSTOS0  S3  S2  OTH\n",
              " 0       0               0       0    0          1  ...   0       0   0   0    0\n",
              " 1       0               0       0    0          0  ...   0       0   0   0    0\n",
              " 2       0               0       0    0          1  ...   0       0   0   0    0\n",
              " 3       0               0       0    2          1  ...   0       0   0   0    0\n",
              " 4       0               0       0    0          1  ...   0       0   0   0    0\n",
              " 5       0               0       0    0          0  ...   0       0   0   0    0\n",
              " 6       0               0       0    0          0  ...   0       0   0   0    0\n",
              " 7       0               0       0    0          0  ...   0       0   0   0    0\n",
              " 8       0               0       0   30          1  ...   0       0   0   0    0\n",
              " 9       0               0       0    0          1  ...   0       0   0   0    0\n",
              " 10      0               0       0    0          1  ...   0       0   0   0    0\n",
              " 11      0               0       0    0          1  ...   0       0   0   0    0\n",
              " 12      0               0       0    0          1  ...   0       0   0   0    0\n",
              " 13      0               0       0    0          0  ...   0       0   0   0    0\n",
              " 14      0               0       0    0          1  ...   0       0   0   0    0\n",
              " 15      0               0       0    0          1  ...   0       0   0   0    0\n",
              " 16      0               0       0    0          0  ...   0       0   0   0    0\n",
              " 17      0               0       0    0          1  ...   0       0   0   0    0\n",
              " 18      0               0       0    0          1  ...   0       0   0   0    0\n",
              " 19      0               0       0   14          1  ...   0       0   0   0    0\n",
              " 20      0               0       0    0          0  ...   0       0   0   0    0\n",
              " 21      0               0       0    0          1  ...   0       0   0   0    0\n",
              " 22      0               0       0    0          1  ...   0       0   0   0    0\n",
              " 23      0               0       0    0          0  ...   0       0   0   0    0\n",
              " 24      0               0       0    0          0  ...   0       0   0   0    0\n",
              " 25      0               0       0    0          0  ...   0       0   0   0    0\n",
              " 26      0               0       0    0          1  ...   0       0   0   0    0\n",
              " 27      0               0       0   18          1  ...   0       0   0   0    0\n",
              " 28      0               0       0    0          1  ...   0       0   0   0    0\n",
              " 29      0               0       0    0          1  ...   0       0   0   0    0\n",
              " ..    ...             ...     ...  ...        ...  ...  ..     ...  ..  ..  ...\n",
              " 970     0               0       0    0          0  ...   0       0   0   0    0\n",
              " 971     0               0       0    0          0  ...   0       0   0   0    0\n",
              " 972     0               0       0    0          1  ...   0       0   0   0    0\n",
              " 973     0               3       0    0          0  ...   0       0   0   0    0\n",
              " 974     0               0       0    0          0  ...   0       0   0   0    0\n",
              " 975     0               0       0    0          1  ...   0       0   0   0    0\n",
              " 976     0               1       0    0          0  ...   0       0   0   0    0\n",
              " 977     0               0       0    0          0  ...   0       0   0   0    0\n",
              " 978     0               0       0    0          1  ...   0       0   0   0    0\n",
              " 979     0               0       0   28          1  ...   0       0   0   0    0\n",
              " 980     0               0       0    0          1  ...   0       0   0   0    0\n",
              " 981     0               0       0    0          1  ...   0       0   0   0    0\n",
              " 982     0               0       0    0          1  ...   0       0   0   0    0\n",
              " 983     0               0       0    0          0  ...   0       0   0   0    0\n",
              " 984     0               0       0    0          0  ...   0       0   0   0    0\n",
              " 985     0               0       0    0          1  ...   0       0   0   0    0\n",
              " 986     0               0       0    0          1  ...   0       0   0   0    0\n",
              " 987     0               0       0    0          1  ...   0       0   0   0    0\n",
              " 988     0               0       0    2          1  ...   0       0   0   0    0\n",
              " 989     0               0       0    0          0  ...   0       0   0   0    0\n",
              " 990     0               0       0    0          1  ...   0       0   0   0    0\n",
              " 991     0               0       0    0          1  ...   0       0   0   0    0\n",
              " 992     0               0       0    0          1  ...   0       0   0   0    0\n",
              " 993     0               0       0    0          0  ...   0       0   0   0    0\n",
              " 994     0               0       0    0          1  ...   0       0   0   0    0\n",
              " 995     0               0       0    0          1  ...   0       0   0   0    0\n",
              " 996     0               0       0    0          1  ...   0       0   0   0    0\n",
              " 997     0               0       0    0          0  ...   0       0   0   0    0\n",
              " 998     0               0       0    0          0  ...   0       0   0   0    0\n",
              " 999     0               0       0    0          1  ...   0       0   0   0    0\n",
              " \n",
              " [1000 rows x 51 columns],\n",
              " 'data_train':        land  wrong_fragment  urgent  hot  logged_in  ...   S1  RSTOS0   S3   S2  OTH\n",
              " 41027   0.0             0.0     0.0  0.0        1.0  ...  0.0     0.0  0.0  0.0  0.0\n",
              " 62089   0.0             0.0     0.0  0.0        0.0  ...  0.0     0.0  0.0  0.0  0.0\n",
              " 57290   0.0             0.0     0.0  0.0        0.0  ...  0.0     0.0  0.0  0.0  0.0\n",
              " 78983   0.0             0.0     0.0  0.0        1.0  ...  0.0     0.0  0.0  0.0  0.0\n",
              " 74473   0.0             0.0     0.0  0.0        1.0  ...  0.0     0.0  0.0  0.0  0.0\n",
              " 5580    0.0             0.0     0.0  0.0        1.0  ...  0.0     0.0  0.0  0.0  0.0\n",
              " 12575   0.0             0.0     0.0  0.0        1.0  ...  0.0     0.0  0.0  0.0  0.0\n",
              " 74960   0.0             0.0     0.0  0.0        1.0  ...  0.0     0.0  0.0  0.0  0.0\n",
              " 26807   0.0             0.0     0.0  0.0        1.0  ...  0.0     0.0  0.0  0.0  0.0\n",
              " 14906   0.0             0.0     0.0  0.0        1.0  ...  0.0     0.0  0.0  0.0  0.0\n",
              " 53489   0.0             0.0     0.0  0.0        1.0  ...  0.0     0.0  0.0  0.0  0.0\n",
              " 16940   0.0             0.0     0.0  0.0        0.0  ...  0.0     0.0  0.0  0.0  0.0\n",
              " 74360   0.0             0.0     0.0  0.0        1.0  ...  0.0     0.0  0.0  0.0  0.0\n",
              " 62430   0.0             0.0     0.0  0.0        1.0  ...  0.0     0.0  0.0  0.0  0.0\n",
              " 28890   0.0             0.0     0.0  0.0        1.0  ...  0.0     0.0  0.0  0.0  0.0\n",
              " 27827   0.0             0.0     0.0  0.0        0.0  ...  0.0     0.0  0.0  0.0  0.0\n",
              " 35654   0.0             0.0     0.0  0.0        1.0  ...  0.0     0.0  0.0  0.0  0.0\n",
              " 39365   0.0             0.0     0.0  0.0        0.0  ...  0.0     0.0  0.0  0.0  0.0\n",
              " 57061   0.0             0.0     0.0  0.0        1.0  ...  0.0     0.0  0.0  0.0  0.0\n",
              " 13524   0.0             0.0     0.0  0.0        1.0  ...  0.0     0.0  0.0  0.0  0.0\n",
              " 9287    0.0             0.0     0.0  0.0        0.0  ...  0.0     0.0  0.0  0.0  0.0\n",
              " 56724   0.0             0.0     0.0  0.0        1.0  ...  0.0     0.0  0.0  0.0  0.0\n",
              " 45124   0.0             0.0     0.0  0.0        1.0  ...  0.0     0.0  0.0  0.0  0.0\n",
              " 24429   0.0             0.0     0.0  0.0        0.0  ...  0.0     0.0  0.0  0.0  0.0\n",
              " 39390   0.0             0.0     0.0  0.0        1.0  ...  0.0     0.0  0.0  0.0  0.0\n",
              " 59900   0.0             0.0     0.0  0.0        1.0  ...  0.0     0.0  0.0  0.0  0.0\n",
              " 12523   0.0             0.0     0.0  0.0        1.0  ...  0.0     0.0  0.0  0.0  0.0\n",
              " 25716   0.0             0.0     0.0  0.0        1.0  ...  0.0     0.0  0.0  0.0  0.0\n",
              " 34142   0.0             0.0     0.0  0.0        1.0  ...  0.0     0.0  0.0  0.0  0.0\n",
              " 66671   0.0             0.0     0.0  0.0        1.0  ...  0.0     0.0  0.0  0.0  0.0\n",
              " ...     ...             ...     ...  ...        ...  ...  ...     ...  ...  ...  ...\n",
              " 79336   0.0             0.0     0.0  0.0        0.0  ...  0.0     0.0  0.0  0.0  0.0\n",
              " 71979   0.0             3.0     0.0  0.0        0.0  ...  0.0     0.0  0.0  0.0  0.0\n",
              " 57469   0.0             0.0     0.0  0.0        0.0  ...  0.0     0.0  0.0  0.0  0.0\n",
              " 49643   0.0             0.0     0.0  0.0        0.0  ...  0.0     0.0  0.0  0.0  0.0\n",
              " 3163    0.0             0.0     0.0  0.0        0.0  ...  0.0     0.0  0.0  0.0  0.0\n",
              " 26783   0.0             0.0     0.0  0.0        0.0  ...  0.0     0.0  0.0  0.0  0.0\n",
              " 36387   0.0             0.0     0.0  0.0        0.0  ...  0.0     0.0  0.0  0.0  0.0\n",
              " 1578    0.0             0.0     0.0  0.0        0.0  ...  0.0     0.0  0.0  0.0  0.0\n",
              " 40603   0.0             0.0     0.0  0.0        0.0  ...  0.0     0.0  0.0  0.0  0.0\n",
              " 55071   0.0             0.0     0.0  0.0        0.0  ...  0.0     0.0  0.0  0.0  0.0\n",
              " 148     0.0             0.0     0.0  0.0        1.0  ...  0.0     0.0  0.0  0.0  0.0\n",
              " 23387   0.0             0.0     0.0  0.0        0.0  ...  0.0     0.0  0.0  0.0  0.0\n",
              " 72100   0.0             0.0     0.0  0.0        0.0  ...  0.0     0.0  0.0  0.0  0.0\n",
              " 40222   0.0             0.0     0.0  0.0        0.0  ...  0.0     0.0  0.0  0.0  0.0\n",
              " 62048   0.0             0.0     0.0  0.0        0.0  ...  0.0     0.0  0.0  0.0  0.0\n",
              " 25572   0.0             0.0     0.0  0.0        0.0  ...  0.0     0.0  0.0  0.0  0.0\n",
              " 24663   0.0             0.0     0.0  0.0        0.0  ...  0.0     0.0  0.0  0.0  0.0\n",
              " 40075   0.0             0.0     0.0  0.0        0.0  ...  0.0     0.0  0.0  0.0  0.0\n",
              " 272     0.0             0.0     0.0  0.0        0.0  ...  0.0     0.0  0.0  0.0  0.0\n",
              " 31432   0.0             0.0     0.0  0.0        0.0  ...  0.0     0.0  0.0  0.0  0.0\n",
              " 63567   0.0             0.0     0.0  0.0        0.0  ...  0.0     0.0  0.0  0.0  0.0\n",
              " 39860   0.0             0.0     0.0  0.0        0.0  ...  0.0     0.0  0.0  0.0  0.0\n",
              " 40134   0.0             0.0     0.0  0.0        1.0  ...  0.0     0.0  0.0  0.0  0.0\n",
              " 70789   0.0             0.0     0.0  0.0        0.0  ...  0.0     0.0  0.0  0.0  0.0\n",
              " 63418   0.0             0.0     0.0  0.0        0.0  ...  0.0     0.0  0.0  0.0  0.0\n",
              " 4519    0.0             0.0     0.0  0.0        0.0  ...  0.0     0.0  0.0  0.0  0.0\n",
              " 7653    0.0             3.0     0.0  0.0        0.0  ...  0.0     0.0  0.0  0.0  0.0\n",
              " 44908   0.0             0.0     0.0  0.0        1.0  ...  0.0     0.0  0.0  0.0  0.0\n",
              " 77429   0.0             0.0     0.0  0.0        0.0  ...  0.0     0.0  0.0  0.0  0.0\n",
              " 60902   0.0             0.0     0.0  0.0        0.0  ...  0.0     0.0  0.0  0.0  0.0\n",
              " \n",
              " [5639 rows x 51 columns],\n",
              " 'labels_test1':      attack attack_class attack_detail\n",
              " 0         0       normal        normal\n",
              " 1         1      probing          nmap\n",
              " 2         0       normal        normal\n",
              " 3         1          dos          back\n",
              " 4         0       normal        normal\n",
              " 5         1      probing         satan\n",
              " 6         0       normal        normal\n",
              " 7         1      probing     portsweep\n",
              " 8         0       normal        normal\n",
              " 9         0       normal        normal\n",
              " 10        0       normal        normal\n",
              " 11        0       normal        normal\n",
              " 12        0       normal        normal\n",
              " 13        1          dos       neptune\n",
              " 14        0       normal        normal\n",
              " 15        0       normal        normal\n",
              " 16        1          dos         smurf\n",
              " 17        0       normal        normal\n",
              " 18        0       normal        normal\n",
              " 19        0       normal        normal\n",
              " 20        0       normal        normal\n",
              " 21        0       normal        normal\n",
              " 22        0       normal        normal\n",
              " 23        1      probing       ipsweep\n",
              " 24        0       normal        normal\n",
              " 25        0       normal        normal\n",
              " 26        0       normal        normal\n",
              " 27        0       normal        normal\n",
              " 28        0       normal        normal\n",
              " 29        0       normal        normal\n",
              " ..      ...          ...           ...\n",
              " 970       0       normal        normal\n",
              " 971       0       normal        normal\n",
              " 972       0       normal        normal\n",
              " 973       1          dos      teardrop\n",
              " 974       1      probing         satan\n",
              " 975       0       normal        normal\n",
              " 976       1          dos           pod\n",
              " 977       1          dos       neptune\n",
              " 978       0       normal        normal\n",
              " 979       1          r2l   warezclient\n",
              " 980       0       normal        normal\n",
              " 981       0       normal        normal\n",
              " 982       0       normal        normal\n",
              " 983       0       normal        normal\n",
              " 984       1          dos       neptune\n",
              " 985       0       normal        normal\n",
              " 986       0       normal        normal\n",
              " 987       0       normal        normal\n",
              " 988       0       normal        normal\n",
              " 989       0       normal        normal\n",
              " 990       1          r2l   warezclient\n",
              " 991       0       normal        normal\n",
              " 992       0       normal        normal\n",
              " 993       1          dos         smurf\n",
              " 994       0       normal        normal\n",
              " 995       0       normal        normal\n",
              " 996       0       normal        normal\n",
              " 997       0       normal        normal\n",
              " 998       1          dos       neptune\n",
              " 999       0       normal        normal\n",
              " \n",
              " [1000 rows x 3 columns],\n",
              " 'labels_train':        attack attack_class attack_detail\n",
              " 41027       0       normal        normal\n",
              " 62089       0       normal        normal\n",
              " 57290       0       normal        normal\n",
              " 78983       0       normal        normal\n",
              " 74473       0       normal        normal\n",
              " 5580        0       normal        normal\n",
              " 12575       0       normal        normal\n",
              " 74960       0       normal        normal\n",
              " 26807       0       normal        normal\n",
              " 14906       0       normal        normal\n",
              " 53489       0       normal        normal\n",
              " 16940       0       normal        normal\n",
              " 74360       0       normal        normal\n",
              " 62430       0       normal        normal\n",
              " 28890       0       normal        normal\n",
              " 27827       0       normal        normal\n",
              " 35654       0       normal        normal\n",
              " 39365       0       normal        normal\n",
              " 57061       0       normal        normal\n",
              " 13524       0       normal        normal\n",
              " 9287        0       normal        normal\n",
              " 56724       0       normal        normal\n",
              " 45124       0       normal        normal\n",
              " 24429       0       normal        normal\n",
              " 39390       0       normal        normal\n",
              " 59900       0       normal        normal\n",
              " 12523       0       normal        normal\n",
              " 25716       0       normal        normal\n",
              " 34142       0       normal        normal\n",
              " 66671       0       normal        normal\n",
              " ...       ...          ...           ...\n",
              " 79336       1      probing          nmap\n",
              " 71979       1          dos      teardrop\n",
              " 57469       1      probing         satan\n",
              " 49643       1      probing          nmap\n",
              " 3163        1      probing     portsweep\n",
              " 26783       1          dos       neptune\n",
              " 36387       1          dos         smurf\n",
              " 1578        1      probing     portsweep\n",
              " 40603       1          dos       neptune\n",
              " 55071       1          dos       neptune\n",
              " 148         1          r2l   warezclient\n",
              " 23387       1          dos       neptune\n",
              " 72100       1      probing         satan\n",
              " 40222       1      probing     portsweep\n",
              " 62048       1      probing     portsweep\n",
              " 25572       1      probing       ipsweep\n",
              " 24663       1          dos       neptune\n",
              " 40075       1          dos       neptune\n",
              " 272         1      probing       ipsweep\n",
              " 31432       1          dos         smurf\n",
              " 63567       1      probing          nmap\n",
              " 39860       1          dos       neptune\n",
              " 40134       1          r2l   warezclient\n",
              " 70789       1          dos         smurf\n",
              " 63418       1          dos       neptune\n",
              " 4519        1      probing       ipsweep\n",
              " 7653        1          dos      teardrop\n",
              " 44908       1          r2l   warezclient\n",
              " 77429       1      probing         satan\n",
              " 60902       1      probing          nmap\n",
              " \n",
              " [5639 rows x 3 columns]}"
            ]
          },
          "metadata": {
            "tags": []
          },
          "execution_count": 14
        }
      ]
    },
    {
      "cell_type": "code",
      "metadata": {
        "id": "lFZzNyn7vqZq",
        "colab_type": "code",
        "colab": {
          "base_uri": "https://localhost:8080/",
          "height": 34
        },
        "outputId": "0f571918-7af7-4edc-af7f-f204e6b03e96"
      },
      "source": [
        "dataset.keys()"
      ],
      "execution_count": 22,
      "outputs": [
        {
          "output_type": "execute_result",
          "data": {
            "text/plain": [
              "dict_keys(['data_train', 'labels_train', 'data_test1', 'labels_test1', 'data_test1_PCA'])"
            ]
          },
          "metadata": {
            "tags": []
          },
          "execution_count": 22
        }
      ]
    },
    {
      "cell_type": "markdown",
      "metadata": {
        "id": "v7WqzBmVrYGI",
        "colab_type": "text"
      },
      "source": [
        "## Explore the training data and visualise 1000 samples\n",
        "\n",
        "1) We look at the distribution of different attack types in our training data.\n",
        "\n",
        "2) We use a TSNE-plot to explore part of our training data.  \n",
        "The TSNE-plot reduces our 51 features to 2 dimensions by trying to represent local structures faithfully."
      ]
    },
    {
      "cell_type": "code",
      "metadata": {
        "id": "JMyiighgrYGJ",
        "colab_type": "code",
        "colab": {
          "base_uri": "https://localhost:8080/",
          "height": 1000
        },
        "outputId": "ca3fa849-33fd-42bb-8f02-81d39bf1a3a4"
      },
      "source": [
        "explore_and_visualise_training_data(dataset)"
      ],
      "execution_count": 3,
      "outputs": [
        {
          "output_type": "stream",
          "text": [
            "Your training set has the following composition:\n"
          ],
          "name": "stdout"
        },
        {
          "output_type": "display_data",
          "data": {
            "text/html": [
              "<div>\n",
              "<style scoped>\n",
              "    .dataframe tbody tr th:only-of-type {\n",
              "        vertical-align: middle;\n",
              "    }\n",
              "\n",
              "    .dataframe tbody tr th {\n",
              "        vertical-align: top;\n",
              "    }\n",
              "\n",
              "    .dataframe thead th {\n",
              "        text-align: right;\n",
              "    }\n",
              "</style>\n",
              "<table border=\"1\" class=\"dataframe\">\n",
              "  <thead>\n",
              "    <tr style=\"text-align: right;\">\n",
              "      <th></th>\n",
              "      <th>frequency</th>\n",
              "    </tr>\n",
              "    <tr>\n",
              "      <th>class</th>\n",
              "      <th></th>\n",
              "    </tr>\n",
              "  </thead>\n",
              "  <tbody>\n",
              "    <tr>\n",
              "      <th>normal</th>\n",
              "      <td>3947</td>\n",
              "    </tr>\n",
              "    <tr>\n",
              "      <th>neptune</th>\n",
              "      <td>421</td>\n",
              "    </tr>\n",
              "    <tr>\n",
              "      <th>satan</th>\n",
              "      <td>273</td>\n",
              "    </tr>\n",
              "    <tr>\n",
              "      <th>ipsweep</th>\n",
              "      <td>271</td>\n",
              "    </tr>\n",
              "    <tr>\n",
              "      <th>portsweep</th>\n",
              "      <td>207</td>\n",
              "    </tr>\n",
              "    <tr>\n",
              "      <th>smurf</th>\n",
              "      <td>193</td>\n",
              "    </tr>\n",
              "    <tr>\n",
              "      <th>nmap</th>\n",
              "      <td>100</td>\n",
              "    </tr>\n",
              "    <tr>\n",
              "      <th>warezclient</th>\n",
              "      <td>86</td>\n",
              "    </tr>\n",
              "    <tr>\n",
              "      <th>teardrop</th>\n",
              "      <td>66</td>\n",
              "    </tr>\n",
              "    <tr>\n",
              "      <th>back</th>\n",
              "      <td>62</td>\n",
              "    </tr>\n",
              "    <tr>\n",
              "      <th>pod</th>\n",
              "      <td>9</td>\n",
              "    </tr>\n",
              "    <tr>\n",
              "      <th>guess_passwd</th>\n",
              "      <td>4</td>\n",
              "    </tr>\n",
              "  </tbody>\n",
              "</table>\n",
              "</div>"
            ],
            "text/plain": [
              "              frequency\n",
              "class                  \n",
              "normal             3947\n",
              "neptune             421\n",
              "satan               273\n",
              "ipsweep             271\n",
              "portsweep           207\n",
              "smurf               193\n",
              "nmap                100\n",
              "warezclient          86\n",
              "teardrop             66\n",
              "back                 62\n",
              "pod                   9\n",
              "guess_passwd          4"
            ]
          },
          "metadata": {
            "tags": []
          }
        },
        {
          "output_type": "stream",
          "text": [
            "Plotting 1000 samples of the training data\n"
          ],
          "name": "stdout"
        },
        {
          "output_type": "display_data",
          "data": {
            "image/png": "[encoded data removed]",
            "text/plain": [
              "<Figure size 864x864 with 1 Axes>"
            ]
          },
          "metadata": {
            "tags": []
          }
        }
      ]
    },
    {
      "cell_type": "markdown",
      "metadata": {
        "id": "G6m3U9lBrYGL",
        "colab_type": "text"
      },
      "source": [
        "## Training our model\n",
        "\n",
        "The **expected_contamination** is the portion of anomalies (attacks) that we expect in the real-life test set. This value is independent of the *portion of attacks* we chose to place in the training data.\n",
        "\n",
        "**PCA (Principal Component Analysis)** transforms our data by trying to identify the directions (= combinations of features) in the data in which the data varies most. This might help the Isolation Forest algorithm to isolate anomalies faster, or it might not. "
      ]
    },
    {
      "cell_type": "code",
      "metadata": {
        "id": "xxqj_v4_rYGM",
        "colab_type": "code",
        "colab": {}
      },
      "source": [
        "model, dataset=build_anomaly_detector(dataset, \n",
        "                       expected_contamination=0.1,     # value between 0 and 0.5\n",
        "                       with_PCA = False)                 # True / False"
      ],
      "execution_count": 0,
      "outputs": []
    },
    {
      "cell_type": "markdown",
      "metadata": {
        "id": "fvC4-iNcrYGO",
        "colab_type": "text"
      },
      "source": [
        "## Evaluating the performance\n",
        "\n",
        "1) We take at look at the scores assigned by the **decision function** to our different samples. Samples with negative scores are marked as anomalies."
      ]
    },
    {
      "cell_type": "code",
      "metadata": {
        "id": "X3Wv-XbErYGP",
        "colab_type": "code",
        "colab": {
          "base_uri": "https://localhost:8080/",
          "height": 840
        },
        "outputId": "81cada97-ffc9-4553-c344-dc62a73983fd"
      },
      "source": [
        "evaluate_model(dataset,model)"
      ],
      "execution_count": 17,
      "outputs": [
        {
          "output_type": "display_data",
          "data": {
            "image/png": "[encoded data removed]",
            "text/plain": [
              "<Figure size 864x432 with 1 Axes>"
            ]
          },
          "metadata": {
            "tags": []
          }
        },
        {
          "output_type": "display_data",
          "data": {
            "image/png": "[encoded data removed]",
            "text/plain": [
              "<Figure size 432x360 with 2 Axes>"
            ]
          },
          "metadata": {
            "tags": []
          }
        },
        {
          "output_type": "stream",
          "text": [
            "Summary report:\n",
            "Attacks identified correctly (true positive): 64  of  259 ( 24.7 %)\n",
            "Attacks missed (false negative): 195  of  259 ( 75.3 %)\n",
            "False alarms (false positive): 27  of 741 ( 3.6 %)\n",
            "Total number of misclassified samples: 222\n"
          ],
          "name": "stdout"
        }
      ]
    },
    {
      "cell_type": "code",
      "metadata": {
        "id": "TYvL2o7pyd5z",
        "colab_type": "code",
        "colab": {
          "base_uri": "https://localhost:8080/",
          "height": 34
        },
        "outputId": "ba197dc0-4138-4230-cd3f-f3dde3406e6c"
      },
      "source": [
        "# Define X_test, y_test\n",
        "X_test = dataset[\"data_test1_PCA\"]\n",
        "scoring = model.decision_function(X_test)\n",
        "len(scoring)\n",
        "scoring[1]\n"
      ],
      "execution_count": 32,
      "outputs": [
        {
          "output_type": "execute_result",
          "data": {
            "text/plain": [
              "0.08896094582538566"
            ]
          },
          "metadata": {
            "tags": []
          },
          "execution_count": 32
        }
      ]
    },
    {
      "cell_type": "code",
      "metadata": {
        "id": "b83Jhccixef4",
        "colab_type": "code",
        "colab": {
          "base_uri": "https://localhost:8080/",
          "height": 164
        },
        "outputId": "c7eb7f08-8ad0-4147-b929-885450c20265"
      },
      "source": [
        "type(model); model.decision_function(X_test)"
      ],
      "execution_count": 28,
      "outputs": [
        {
          "output_type": "error",
          "ename": "TypeError",
          "evalue": "ignored",
          "traceback": [
            "\u001b[0;31m---------------------------------------------------------------------------\u001b[0m",
            "\u001b[0;31mTypeError\u001b[0m                                 Traceback (most recent call last)",
            "\u001b[0;32m<ipython-input-28-c98b8a140343>\u001b[0m in \u001b[0;36m<module>\u001b[0;34m()\u001b[0m\n\u001b[0;32m----> 1\u001b[0;31m \u001b[0mtype\u001b[0m\u001b[0;34m(\u001b[0m\u001b[0mmodel\u001b[0m\u001b[0;34m)\u001b[0m\u001b[0;34m;\u001b[0m \u001b[0mmodel\u001b[0m\u001b[0;34m.\u001b[0m\u001b[0mdecision_function\u001b[0m\u001b[0;34m(\u001b[0m\u001b[0;34m)\u001b[0m\u001b[0;34m\u001b[0m\u001b[0;34m\u001b[0m\u001b[0m\n\u001b[0m",
            "\u001b[0;31mTypeError\u001b[0m: decision_function() missing 1 required positional argument: 'X'"
          ]
        }
      ]
    },
    {
      "cell_type": "markdown",
      "metadata": {
        "id": "v72lsy_lrYGR",
        "colab_type": "text"
      },
      "source": [
        "## Taking a more detailed look at our performance\n",
        "\n",
        "1) We look at the performance of our predictions at the level of individual attack types.\n",
        "\n",
        "2) We locate the misclassified samples (triangles, colour gives true label) inside our test set."
      ]
    },
    {
      "cell_type": "code",
      "metadata": {
        "id": "2GEfb-1zu9kh",
        "colab_type": "code",
        "colab": {
          "base_uri": "https://localhost:8080/",
          "height": 1000
        },
        "outputId": "0e2465fb-31ce-400e-d47c-5de75dfde7d0"
      },
      "source": [
        "X_train = dataset[\"data_train\"]; type(X_train); X_train.head"
      ],
      "execution_count": 19,
      "outputs": [
        {
          "output_type": "execute_result",
          "data": {
            "text/plain": [
              "<bound method NDFrame.head of        land  wrong_fragment  urgent  hot  logged_in  ...   S1  RSTOS0   S3   S2  OTH\n",
              "41027   0.0             0.0     0.0  0.0        1.0  ...  0.0     0.0  0.0  0.0  0.0\n",
              "62089   0.0             0.0     0.0  0.0        0.0  ...  0.0     0.0  0.0  0.0  0.0\n",
              "57290   0.0             0.0     0.0  0.0        0.0  ...  0.0     0.0  0.0  0.0  0.0\n",
              "78983   0.0             0.0     0.0  0.0        1.0  ...  0.0     0.0  0.0  0.0  0.0\n",
              "74473   0.0             0.0     0.0  0.0        1.0  ...  0.0     0.0  0.0  0.0  0.0\n",
              "5580    0.0             0.0     0.0  0.0        1.0  ...  0.0     0.0  0.0  0.0  0.0\n",
              "12575   0.0             0.0     0.0  0.0        1.0  ...  0.0     0.0  0.0  0.0  0.0\n",
              "74960   0.0             0.0     0.0  0.0        1.0  ...  0.0     0.0  0.0  0.0  0.0\n",
              "26807   0.0             0.0     0.0  0.0        1.0  ...  0.0     0.0  0.0  0.0  0.0\n",
              "14906   0.0             0.0     0.0  0.0        1.0  ...  0.0     0.0  0.0  0.0  0.0\n",
              "53489   0.0             0.0     0.0  0.0        1.0  ...  0.0     0.0  0.0  0.0  0.0\n",
              "16940   0.0             0.0     0.0  0.0        0.0  ...  0.0     0.0  0.0  0.0  0.0\n",
              "74360   0.0             0.0     0.0  0.0        1.0  ...  0.0     0.0  0.0  0.0  0.0\n",
              "62430   0.0             0.0     0.0  0.0        1.0  ...  0.0     0.0  0.0  0.0  0.0\n",
              "28890   0.0             0.0     0.0  0.0        1.0  ...  0.0     0.0  0.0  0.0  0.0\n",
              "27827   0.0             0.0     0.0  0.0        0.0  ...  0.0     0.0  0.0  0.0  0.0\n",
              "35654   0.0             0.0     0.0  0.0        1.0  ...  0.0     0.0  0.0  0.0  0.0\n",
              "39365   0.0             0.0     0.0  0.0        0.0  ...  0.0     0.0  0.0  0.0  0.0\n",
              "57061   0.0             0.0     0.0  0.0        1.0  ...  0.0     0.0  0.0  0.0  0.0\n",
              "13524   0.0             0.0     0.0  0.0        1.0  ...  0.0     0.0  0.0  0.0  0.0\n",
              "9287    0.0             0.0     0.0  0.0        0.0  ...  0.0     0.0  0.0  0.0  0.0\n",
              "56724   0.0             0.0     0.0  0.0        1.0  ...  0.0     0.0  0.0  0.0  0.0\n",
              "45124   0.0             0.0     0.0  0.0        1.0  ...  0.0     0.0  0.0  0.0  0.0\n",
              "24429   0.0             0.0     0.0  0.0        0.0  ...  0.0     0.0  0.0  0.0  0.0\n",
              "39390   0.0             0.0     0.0  0.0        1.0  ...  0.0     0.0  0.0  0.0  0.0\n",
              "59900   0.0             0.0     0.0  0.0        1.0  ...  0.0     0.0  0.0  0.0  0.0\n",
              "12523   0.0             0.0     0.0  0.0        1.0  ...  0.0     0.0  0.0  0.0  0.0\n",
              "25716   0.0             0.0     0.0  0.0        1.0  ...  0.0     0.0  0.0  0.0  0.0\n",
              "34142   0.0             0.0     0.0  0.0        1.0  ...  0.0     0.0  0.0  0.0  0.0\n",
              "66671   0.0             0.0     0.0  0.0        1.0  ...  0.0     0.0  0.0  0.0  0.0\n",
              "...     ...             ...     ...  ...        ...  ...  ...     ...  ...  ...  ...\n",
              "79336   0.0             0.0     0.0  0.0        0.0  ...  0.0     0.0  0.0  0.0  0.0\n",
              "71979   0.0             3.0     0.0  0.0        0.0  ...  0.0     0.0  0.0  0.0  0.0\n",
              "57469   0.0             0.0     0.0  0.0        0.0  ...  0.0     0.0  0.0  0.0  0.0\n",
              "49643   0.0             0.0     0.0  0.0        0.0  ...  0.0     0.0  0.0  0.0  0.0\n",
              "3163    0.0             0.0     0.0  0.0        0.0  ...  0.0     0.0  0.0  0.0  0.0\n",
              "26783   0.0             0.0     0.0  0.0        0.0  ...  0.0     0.0  0.0  0.0  0.0\n",
              "36387   0.0             0.0     0.0  0.0        0.0  ...  0.0     0.0  0.0  0.0  0.0\n",
              "1578    0.0             0.0     0.0  0.0        0.0  ...  0.0     0.0  0.0  0.0  0.0\n",
              "40603   0.0             0.0     0.0  0.0        0.0  ...  0.0     0.0  0.0  0.0  0.0\n",
              "55071   0.0             0.0     0.0  0.0        0.0  ...  0.0     0.0  0.0  0.0  0.0\n",
              "148     0.0             0.0     0.0  0.0        1.0  ...  0.0     0.0  0.0  0.0  0.0\n",
              "23387   0.0             0.0     0.0  0.0        0.0  ...  0.0     0.0  0.0  0.0  0.0\n",
              "72100   0.0             0.0     0.0  0.0        0.0  ...  0.0     0.0  0.0  0.0  0.0\n",
              "40222   0.0             0.0     0.0  0.0        0.0  ...  0.0     0.0  0.0  0.0  0.0\n",
              "62048   0.0             0.0     0.0  0.0        0.0  ...  0.0     0.0  0.0  0.0  0.0\n",
              "25572   0.0             0.0     0.0  0.0        0.0  ...  0.0     0.0  0.0  0.0  0.0\n",
              "24663   0.0             0.0     0.0  0.0        0.0  ...  0.0     0.0  0.0  0.0  0.0\n",
              "40075   0.0             0.0     0.0  0.0        0.0  ...  0.0     0.0  0.0  0.0  0.0\n",
              "272     0.0             0.0     0.0  0.0        0.0  ...  0.0     0.0  0.0  0.0  0.0\n",
              "31432   0.0             0.0     0.0  0.0        0.0  ...  0.0     0.0  0.0  0.0  0.0\n",
              "63567   0.0             0.0     0.0  0.0        0.0  ...  0.0     0.0  0.0  0.0  0.0\n",
              "39860   0.0             0.0     0.0  0.0        0.0  ...  0.0     0.0  0.0  0.0  0.0\n",
              "40134   0.0             0.0     0.0  0.0        1.0  ...  0.0     0.0  0.0  0.0  0.0\n",
              "70789   0.0             0.0     0.0  0.0        0.0  ...  0.0     0.0  0.0  0.0  0.0\n",
              "63418   0.0             0.0     0.0  0.0        0.0  ...  0.0     0.0  0.0  0.0  0.0\n",
              "4519    0.0             0.0     0.0  0.0        0.0  ...  0.0     0.0  0.0  0.0  0.0\n",
              "7653    0.0             3.0     0.0  0.0        0.0  ...  0.0     0.0  0.0  0.0  0.0\n",
              "44908   0.0             0.0     0.0  0.0        1.0  ...  0.0     0.0  0.0  0.0  0.0\n",
              "77429   0.0             0.0     0.0  0.0        0.0  ...  0.0     0.0  0.0  0.0  0.0\n",
              "60902   0.0             0.0     0.0  0.0        0.0  ...  0.0     0.0  0.0  0.0  0.0\n",
              "\n",
              "[5639 rows x 51 columns]>"
            ]
          },
          "metadata": {
            "tags": []
          },
          "execution_count": 19
        }
      ]
    },
    {
      "cell_type": "code",
      "metadata": {
        "id": "V6ZrtrwivPew",
        "colab_type": "code",
        "colab": {
          "base_uri": "https://localhost:8080/",
          "height": 884
        },
        "outputId": "bbe17ed2-b836-42ee-dd60-0b1687231bd6"
      },
      "source": [
        "list(X_train.columns)"
      ],
      "execution_count": 20,
      "outputs": [
        {
          "output_type": "execute_result",
          "data": {
            "text/plain": [
              "['land',\n",
              " 'wrong_fragment',\n",
              " 'urgent',\n",
              " 'hot',\n",
              " 'logged_in',\n",
              " 'root_shell',\n",
              " 'su_attempted',\n",
              " 'num_root',\n",
              " 'num_shells',\n",
              " 'is_host_login',\n",
              " 'is_guest_login',\n",
              " 'count',\n",
              " 'srv_count',\n",
              " 'serror_rate',\n",
              " 'srv_serror_rate',\n",
              " 'rerror_rate',\n",
              " 'srv_rerror_rate',\n",
              " 'same_srv_rate',\n",
              " 'diff_srv_rate',\n",
              " 'srv_diff_host_rate',\n",
              " 'dst_host_count',\n",
              " 'dst_host_srv_count',\n",
              " 'dst_host_same_srv_rate',\n",
              " 'dst_host_diff_srv_rate',\n",
              " 'dst_host_same_src_port_rate',\n",
              " 'dst_host_srv_diff_host_rate',\n",
              " 'dst_host_serror_rate',\n",
              " 'dst_host_srv_serror_rate',\n",
              " 'dst_host_rerror_rate',\n",
              " 'dst_host_srv_rerror_rate',\n",
              " 'log_duration',\n",
              " 'log_dst_bytes',\n",
              " 'log_num_access_files',\n",
              " 'log_num_compromised',\n",
              " 'log_num_failed_logins',\n",
              " 'log_num_file_creations',\n",
              " 'log_src_bytes',\n",
              " 'tcp',\n",
              " 'udp',\n",
              " 'icmp',\n",
              " 'SF',\n",
              " 'S0',\n",
              " 'REJ',\n",
              " 'RSTR',\n",
              " 'SH',\n",
              " 'RSTO',\n",
              " 'S1',\n",
              " 'RSTOS0',\n",
              " 'S3',\n",
              " 'S2',\n",
              " 'OTH']"
            ]
          },
          "metadata": {
            "tags": []
          },
          "execution_count": 20
        }
      ]
    },
    {
      "cell_type": "code",
      "metadata": {
        "id": "uF1-T-QGrYGS",
        "colab_type": "code",
        "colab": {}
      },
      "source": [
        "detailed_evaluation(dataset, model)"
      ],
      "execution_count": 0,
      "outputs": []
    },
    {
      "cell_type": "markdown",
      "metadata": {
        "id": "JhVrxUDlrYGU",
        "colab_type": "text"
      },
      "source": [
        "<div class=\"alert alert-success\">\n",
        "<h3>Task 1</h3>\n",
        "\n",
        "Vary the `expected_contamination` parameter which is used by the model to make decisions.<br>    \n",
        "What do you observe about distribution of the outlier scores and the position of the decision boundary?<br>\n",
        "</div>"
      ]
    },
    {
      "cell_type": "markdown",
      "metadata": {
        "id": "J2sO0QxirYGV",
        "colab_type": "text"
      },
      "source": [
        "<div class=\"alert alert-success\">\n",
        "<h3>Task 2</h3>\n",
        "    \n",
        "Vary the size of your training data.<br> \n",
        "Vary the portion of attacks in your training data.<br>\n",
        "In particular see how the model performs on totally clean data.<br>\n",
        "</div>"
      ]
    },
    {
      "cell_type": "markdown",
      "metadata": {
        "id": "hpemUylDrYGW",
        "colab_type": "text"
      },
      "source": [
        "<div class=\"alert alert-success\">\n",
        "<h3>Task 3</h3>\n",
        "    \n",
        "Use PCA for training your model by setting `with_PCA = True` when training the model. \n",
        "</div>"
      ]
    },
    {
      "cell_type": "code",
      "metadata": {
        "id": "XPjwea7drYGW",
        "colab_type": "code",
        "colab": {}
      },
      "source": [
        ""
      ],
      "execution_count": 0,
      "outputs": []
    }
  ]
}