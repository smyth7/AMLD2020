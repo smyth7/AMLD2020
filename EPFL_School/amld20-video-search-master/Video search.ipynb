{
 "cells": [
  {
   "cell_type": "markdown",
   "metadata": {},
   "source": [
    "# Video search with Face Recognition"
   ]
  },
  {
   "cell_type": "markdown",
   "metadata": {},
   "source": [
    "Google Colab Setup\n",
    "---\n",
    "\n",
    "Make sure to select GPU in `Runtime` > `Change runtime type` > `Hardware accelerator`"
   ]
  },
  {
   "cell_type": "code",
   "execution_count": null,
   "metadata": {},
   "outputs": [],
   "source": [
    "#@title << Setup Google Colab by running this cell {display-mode: \"form\"}\n",
    "import sys\n",
    "if 'google.colab' in sys.modules:\n",
    "    # Check GPU instance\n",
    "    import torch\n",
    "    if not torch.cuda.is_available():\n",
    "        print('Select GPU in Google Colab: Runtime > Change runtime type > Hardware accelerator')\n",
    "        \n",
    "    else:\n",
    "        # Cleanup previous files\n",
    "        !rm -r *\n",
    "        \n",
    "        # Clone GitHub repository\n",
    "        !git clone https://github.com/epfl-exts/amld20-video-search.git\n",
    "\n",
    "        # Copy files required to run the code\n",
    "        !cp -r \"amld20-video-search/data\" \"amld20-video-search/helpers.py\" \"amld20-video-search/fonts\" .\n",
    "\n",
    "        # Install packages via pip\n",
    "        !pip install -r \"amld20-video-search/colab-requirements.txt\"\n",
    "\n",
    "        # Restart Runtime\n",
    "        import os\n",
    "        os.kill(os.getpid(), 9)"
   ]
  },
  {
   "cell_type": "markdown",
   "metadata": {},
   "source": [
    "Get Data\n",
    "---"
   ]
  },
  {
   "cell_type": "markdown",
   "metadata": {},
   "source": [
    "Open the video in a new tab: [Youtube link](https://www.youtube.com/watch?v=NpQlxN4xbKM) or [NASA Video Library](https://images.nasa.gov/details-KSC-20191220-VP-MMS02-0001-CCP_Boeing_Orbital_Flight_Test_Post_Launch_News_Conference-3239211)"
   ]
  },
  {
   "cell_type": "code",
   "execution_count": null,
   "metadata": {},
   "outputs": [],
   "source": [
    "%run helpers.py\n",
    "\n",
    "# Download video\n",
    "name = 'boeing-oft.mp4'\n",
    "url = 'https://images-assets.nasa.gov/video/NHQ_2019_1220_Boeing%20Orbital%20Flight%20Test%20Launch%20Team%20Post-Launch%20News%20Conference/NHQ_2019_1220_Boeing%20Orbital%20Flight%20Test%20Launch%20Team%20Post-Launch%20News%20Conference~small.mp4'\n",
    "download_video(url, name);"
   ]
  },
  {
   "cell_type": "markdown",
   "metadata": {},
   "source": [
    "Extract frames\n",
    "---"
   ]
  },
  {
   "cell_type": "code",
   "execution_count": null,
   "metadata": {},
   "outputs": [],
   "source": [
    "frames_df = extract_frames('boeing-oft.mp4', n_frames=300, max_frame_size=512)\n",
    "frames_df.head()"
   ]
  },
  {
   "cell_type": "markdown",
   "metadata": {},
   "source": [
    "Face recognition\n",
    "---"
   ]
  },
  {
   "cell_type": "code",
   "execution_count": null,
   "metadata": {},
   "outputs": [],
   "source": [
    "import dlib\n",
    "\n",
    "# Face detectors: finding bounding boxes around faces (rectangles)\n",
    "hog_detector = dlib.get_frontal_face_detector()\n",
    "cnn_detector = dlib.cnn_face_detection_model_v1(get_dlib_path('mmod_human_face_detector.dat'))"
   ]
  },
  {
   "cell_type": "code",
   "execution_count": null,
   "metadata": {},
   "outputs": [],
   "source": [
    "# Exercise: Bolivian dancers\n",
    "face_recognition(\n",
    "    'data/images/bolivian-dancers.jpg',\n",
    "    face_detector=hog_detector,\n",
    "    resize_img=512 # <-- Hint: Try changing 512 to another size ex. 256, 1024, 2048, 4096\n",
    ")"
   ]
  },
  {
   "cell_type": "code",
   "execution_count": null,
   "metadata": {},
   "outputs": [],
   "source": [
    "# Exercise: Stephen Hawking\n",
    "face_recognition(\n",
    "    'data/images/stephen-hawking.jpg',\n",
    "    face_detector=hog_detector, # <-- Hint: Try changing \"hog_detector\" to \"cnn_detector\"\n",
    "    resize_img=512 # You might want to change this again\n",
    ")"
   ]
  },
  {
   "cell_type": "code",
   "execution_count": null,
   "metadata": {},
   "outputs": [],
   "source": [
    "# Exercise: Solvay conference 1927\n",
    "face_recognition(\n",
    "    'data/images/solvay-conference-1927.jpg',\n",
    "    face_detector=hog_detector,\n",
    "    resize_img=512\n",
    ")"
   ]
  },
  {
   "cell_type": "code",
   "execution_count": null,
   "metadata": {},
   "outputs": [],
   "source": [
    "# Exercise: Swiss cow\n",
    "face_recognition(\n",
    "    'data/images/swiss-cow.jpg',\n",
    "    face_detector=hog_detector,\n",
    "    resize_img=512\n",
    ")"
   ]
  },
  {
   "cell_type": "code",
   "execution_count": null,
   "metadata": {},
   "outputs": [],
   "source": [
    "# Test with your own images!\n",
    "url = 'https://upload.wikimedia.org/wikipedia/commons/d/d7/Leonhard_Euler.jpg'\n",
    "download_image(url, 'example.jpg')\n",
    "face_recognition(\n",
    "    'data/images/example.jpg',\n",
    "    face_detector=hog_detector,\n",
    "    resize_img=512\n",
    ")"
   ]
  },
  {
   "cell_type": "markdown",
   "metadata": {},
   "source": [
    "Face recognition on video\n",
    "---"
   ]
  },
  {
   "cell_type": "code",
   "execution_count": null,
   "metadata": {},
   "outputs": [],
   "source": [
    "# Extract faces from video frames\n",
    "extract_faces('data/frames', face_detector=hog_detector, resize_img=None)"
   ]
  },
  {
   "cell_type": "markdown",
   "metadata": {},
   "source": [
    "Visualize embeddings\n",
    "---"
   ]
  },
  {
   "cell_type": "code",
   "execution_count": null,
   "metadata": {},
   "outputs": [],
   "source": [
    "# Visualize the face \"embeddings\"\n",
    "plot_embeddings('data/faces')"
   ]
  },
  {
   "cell_type": "markdown",
   "metadata": {},
   "source": [
    "Clustering\n",
    "---"
   ]
  },
  {
   "cell_type": "code",
   "execution_count": null,
   "metadata": {},
   "outputs": [],
   "source": [
    "# Visualize clusters of faces according to the embedding\n",
    "plot_clusters('data/faces')"
   ]
  },
  {
   "cell_type": "markdown",
   "metadata": {},
   "source": [
    "Video timeline\n",
    "---\n"
   ]
  },
  {
   "cell_type": "code",
   "execution_count": null,
   "metadata": {},
   "outputs": [],
   "source": [
    "# Plot video timeline\n",
    "plot_timeline('data/frames', 'data/faces')"
   ]
  }
 ],
 "metadata": {
  "kernelspec": {
   "display_name": "Python 3",
   "language": "python",
   "name": "python3"
  },
  "language_info": {
   "codemirror_mode": {
    "name": "ipython",
    "version": 3
   },
   "file_extension": ".py",
   "mimetype": "text/x-python",
   "name": "python",
   "nbconvert_exporter": "python",
   "pygments_lexer": "ipython3",
   "version": "3.6.7"
  }
 },
 "nbformat": 4,
 "nbformat_minor": 4
}
