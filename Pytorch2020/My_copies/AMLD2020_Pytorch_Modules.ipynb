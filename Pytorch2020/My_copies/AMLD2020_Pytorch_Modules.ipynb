{
  "nbformat": 4,
  "nbformat_minor": 0,
  "metadata": {
    "kernelspec": {
      "name": "python3",
      "display_name": "Python 3"
    },
    "language_info": {
      "codemirror_mode": {
        "name": "ipython",
        "version": 3
      },
      "file_extension": ".py",
      "mimetype": "text/x-python",
      "name": "python",
      "nbconvert_exporter": "python",
      "pygments_lexer": "ipython3",
      "version": "3.7.4"
    },
    "colab": {
      "name": "AMLD2020 Pytorch Modules.ipynb",
      "provenance": [],
      "collapsed_sections": [
        "XrscFWSTNk1J",
        "2zElDuKxNk1M"
      ]
    },
    "accelerator": "GPU"
  },
  "cells": [
    {
      "cell_type": "markdown",
      "metadata": {
        "id": "2pbzXa_gNkzQ",
        "colab_type": "text"
      },
      "source": [
        "<div>\n",
        "<img src=\"https://discuss.pytorch.org/uploads/default/original/2X/3/35226d9fbc661ced1c5d17e374638389178c3176.png\" width=\"400\" style=\"margin: 50px auto; display: block; position: relative; left: -30px;\" />\n",
        "</div>\n",
        "\n",
        "<!--NAVIGATION-->\n",
        "# < [Optimization](3-Optimization.ipynb) | Modules | [CNN](5-CNN.ipynb) >"
      ]
    },
    {
      "cell_type": "markdown",
      "metadata": {
        "id": "58uf7vT-NkzT",
        "colab_type": "text"
      },
      "source": [
        "### PyTorch Modules\n",
        "\n",
        "Modules are a way to build re-usable model components and to manage model parameters.\n",
        "PyTorch has many built-in modules for common operations like convolutions, recurrent neural networks, max pooling, common activation functions, etc.\n",
        "You can also build your own modules.\n",
        "\n",
        "This notenook introduces modules, and you will build a small neural network to perform image classification on MNIST.\n",
        "\n",
        "### Table of Contents\n",
        "#### 1. [Modules](#Modules)\n",
        "#### 2. [Building and Training a Neural Network](#Building-and-Training-a-Neural-Network)"
      ]
    },
    {
      "cell_type": "markdown",
      "metadata": {
        "id": "rVPS4BY1NkzV",
        "colab_type": "text"
      },
      "source": [
        "---\n",
        "\n",
        "# Modules"
      ]
    },
    {
      "cell_type": "markdown",
      "metadata": {
        "id": "BYmWdDgTNkzW",
        "colab_type": "text"
      },
      "source": [
        "### Modules manage parameters\n",
        "\n",
        "They help to\n",
        "- keep track of the parameters in your model.\n",
        "- save/load of your model.\n",
        "- reset gradients (with `model.zero_grad()`)\n",
        "- move all parameters to the gpu (with `model.cuda()`)\n",
        "\n",
        "The model parameter's are represented by `torch.nn.Parameter` objects.\n",
        "A `Parameter` is a tensor with `requires_grad` set to `True` by default, and which is automatically added to the list of parameters when used within a model. If you are interested, you can have a look at the [torch.nn.Parameter documentation](https://pytorch.org/docs/stable/_modules/torch/nn/parameter.html)."
      ]
    },
    {
      "cell_type": "markdown",
      "metadata": {
        "id": "vmm2gMwENkzY",
        "colab_type": "text"
      },
      "source": [
        "As an example, a `Conv1d` module has two parameters: `weight` as `bias`:"
      ]
    },
    {
      "cell_type": "code",
      "metadata": {
        "id": "-j1pvqyaNkza",
        "colab_type": "code",
        "colab": {}
      },
      "source": [
        "import torch\n",
        "import matplotlib.pyplot as plt"
      ],
      "execution_count": 0,
      "outputs": []
    },
    {
      "cell_type": "code",
      "metadata": {
        "id": "SKziYpfiNkzd",
        "colab_type": "code",
        "colab": {
          "base_uri": "https://localhost:8080/",
          "height": 221
        },
        "outputId": "7a2daf3e-6c1f-4206-fa7e-5a1dcf3e3822"
      },
      "source": [
        "module = torch.nn.Conv1d(5, 2, 3)\n",
        "print(module.weight)"
      ],
      "execution_count": 2,
      "outputs": [
        {
          "output_type": "stream",
          "text": [
            "Parameter containing:\n",
            "tensor([[[-0.1558,  0.1440, -0.2207],\n",
            "         [ 0.0481,  0.1372,  0.0622],\n",
            "         [ 0.1867, -0.0912, -0.1304],\n",
            "         [-0.2502,  0.1512, -0.1497],\n",
            "         [-0.2282, -0.2377,  0.0279]],\n",
            "\n",
            "        [[ 0.1316,  0.2579,  0.2547],\n",
            "         [ 0.2069, -0.2146, -0.0430],\n",
            "         [-0.1838, -0.2480,  0.1647],\n",
            "         [-0.1884,  0.1834,  0.1668],\n",
            "         [-0.1321, -0.0003, -0.1440]]], requires_grad=True)\n"
          ],
          "name": "stdout"
        }
      ]
    },
    {
      "cell_type": "markdown",
      "metadata": {
        "id": "zb87gL9fNkzg",
        "colab_type": "text"
      },
      "source": [
        "---\n",
        "\n",
        "## Basic usage\n",
        "\n",
        "Each instance of a model has its own __parameters__.\n",
        "The parameters are initialized randomly when the model is instantiated."
      ]
    },
    {
      "cell_type": "code",
      "metadata": {
        "id": "-dKn4gu_Nkzh",
        "colab_type": "code",
        "colab": {
          "base_uri": "https://localhost:8080/",
          "height": 68
        },
        "outputId": "af34800b-a6e7-416c-ce24-c4361f46a940"
      },
      "source": [
        "linear_regression_model = torch.nn.Linear(5, 2)  # 5 input dimensions, 2 output dimensions\n",
        "\n",
        "linear_regression_model.weight  # running this cell more than once, you'll see different outputs"
      ],
      "execution_count": 3,
      "outputs": [
        {
          "output_type": "execute_result",
          "data": {
            "text/plain": [
              "Parameter containing:\n",
              "tensor([[ 0.2448, -0.1887, -0.3816,  0.0501, -0.2270],\n",
              "        [-0.1158, -0.3796,  0.1035,  0.3248, -0.3272]], requires_grad=True)"
            ]
          },
          "metadata": {
            "tags": []
          },
          "execution_count": 3
        }
      ]
    },
    {
      "cell_type": "markdown",
      "metadata": {
        "id": "6UY8LG1hNkzk",
        "colab_type": "text"
      },
      "source": [
        "Models operate on __batches__ of data. If a model is designed to operate on datapoints with 5 features, the shape of the model's inputs will be `(batch, 5)`. This allows us to process multiple datapoints in parallel and increase efficiency."
      ]
    },
    {
      "cell_type": "code",
      "metadata": {
        "id": "Ful09P0uNkzk",
        "colab_type": "code",
        "colab": {
          "base_uri": "https://localhost:8080/",
          "height": 119
        },
        "outputId": "e9864e84-ebec-4d4d-a5e2-2c95f3779fec"
      },
      "source": [
        "batch_size = 3\n",
        "x = torch.randn(batch_size, 5)\n",
        "y = torch.randn(batch_size, 2)\n",
        "\n",
        "print(\"x = {}\\ny = {}\".format(x, y))"
      ],
      "execution_count": 4,
      "outputs": [
        {
          "output_type": "stream",
          "text": [
            "x = tensor([[-0.3001,  2.4366,  1.5277, -0.5393, -0.5692],\n",
            "        [-0.9455,  0.6452, -0.8166, -1.6170,  1.3204],\n",
            "        [ 0.7241, -0.0366,  0.1380, -2.4934, -0.5083]])\n",
            "y = tensor([[-0.5250,  1.7239],\n",
            "        [-1.8024, -0.0761],\n",
            "        [ 1.0230, -1.2565]])\n"
          ],
          "name": "stdout"
        }
      ]
    },
    {
      "cell_type": "markdown",
      "metadata": {
        "id": "BNcCuKCpNkzm",
        "colab_type": "text"
      },
      "source": [
        "You can __call__ the model on an input (forward pass). This evaluation uses the current model parameters."
      ]
    },
    {
      "cell_type": "code",
      "metadata": {
        "id": "AuJUkOPBNkzn",
        "colab_type": "code",
        "colab": {
          "base_uri": "https://localhost:8080/",
          "height": 68
        },
        "outputId": "ac48e9b9-463d-4266-ac35-fc6263ce0df8"
      },
      "source": [
        "predicted_y = linear_regression_model(x)\n",
        "print(\"predicted y = {}\".format(predicted_y))"
      ],
      "execution_count": 5,
      "outputs": [
        {
          "output_type": "stream",
          "text": [
            "predicted y = tensor([[-1.2876, -1.1031],\n",
            "        [-0.6957, -1.5593],\n",
            "        [-0.1515, -1.0813]], grad_fn=<AddmmBackward>)\n"
          ],
          "name": "stdout"
        }
      ]
    },
    {
      "cell_type": "markdown",
      "metadata": {
        "id": "xuxlifxmNkzp",
        "colab_type": "text"
      },
      "source": [
        "To optimize the model, you compute a __measure of error__ (loss) on the predictions. In this case, we use a squared error:"
      ]
    },
    {
      "cell_type": "code",
      "metadata": {
        "id": "E--1IfYANkzp",
        "colab_type": "code",
        "colab": {
          "base_uri": "https://localhost:8080/",
          "height": 34
        },
        "outputId": "80df8ecf-1a19-4bcf-efeb-81990f6ad4c7"
      },
      "source": [
        "# Compute a loss\n",
        "loss = torch.sum((y - predicted_y)**2)\n",
        "loss"
      ],
      "execution_count": 6,
      "outputs": [
        {
          "output_type": "execute_result",
          "data": {
            "text/plain": [
              "tensor(13.4087, grad_fn=<SumBackward0>)"
            ]
          },
          "metadata": {
            "tags": []
          },
          "execution_count": 6
        }
      ]
    },
    {
      "cell_type": "markdown",
      "metadata": {
        "id": "KR_MLIqlNkzr",
        "colab_type": "text"
      },
      "source": [
        "With the loss computed, we compute __gradients__ of the loss with respect to all model parameters using automatic differentiation."
      ]
    },
    {
      "cell_type": "code",
      "metadata": {
        "id": "JY03AjLrNkzs",
        "colab_type": "code",
        "colab": {
          "base_uri": "https://localhost:8080/",
          "height": 102
        },
        "outputId": "e401b4ab-f274-480b-b08e-36256ff4c7c0"
      },
      "source": [
        "linear_regression_model.zero_grad()  # clear previous gradient\n",
        "loss.backward()\n",
        "\n",
        "print(\"\\nGradients:\")\n",
        "print(linear_regression_model.weight.grad)\n",
        "print(linear_regression_model.bias.grad)"
      ],
      "execution_count": 7,
      "outputs": [
        {
          "output_type": "stream",
          "text": [
            "\n",
            "Gradients:\n",
            "tensor([[ -3.3358,  -2.2027,  -4.4621,   3.1003,   4.9849],\n",
            "        [  4.7552, -15.7037,  -6.1672,   6.9725,  -0.8767]])\n",
            "tensor([-1.6609, -8.2701])\n"
          ],
          "name": "stdout"
        }
      ]
    },
    {
      "cell_type": "markdown",
      "metadata": {
        "id": "oYQonmdlNkzt",
        "colab_type": "text"
      },
      "source": [
        "You can now use these gradients to optimize the model parameters."
      ]
    },
    {
      "cell_type": "markdown",
      "metadata": {
        "id": "Xx96QkfQNkzu",
        "colab_type": "text"
      },
      "source": [
        "---\n",
        "\n",
        "## Composing modules with `torch.nn.Sequential`\n",
        "\n",
        "If the model you want to build is a simple chain of other modules, you can compose them using `torch.nn.Sequential`:"
      ]
    },
    {
      "cell_type": "code",
      "metadata": {
        "id": "Q2awHfyDNkzu",
        "colab_type": "code",
        "colab": {
          "base_uri": "https://localhost:8080/",
          "height": 68
        },
        "outputId": "5188c9c9-4c0c-450b-9bce-c9eb86add934"
      },
      "source": [
        "neural_net = torch.nn.Sequential(\n",
        "    torch.nn.Linear(5, 10),\n",
        "    torch.nn.ReLU(),\n",
        "    torch.nn.Linear(10, 2),\n",
        ")\n",
        "\n",
        "# Run the model:\n",
        "neural_net(x)"
      ],
      "execution_count": 8,
      "outputs": [
        {
          "output_type": "execute_result",
          "data": {
            "text/plain": [
              "tensor([[ 0.2345,  0.1927],\n",
              "        [ 0.3738, -0.1847],\n",
              "        [ 0.4717,  0.2260]], grad_fn=<AddmmBackward>)"
            ]
          },
          "metadata": {
            "tags": []
          },
          "execution_count": 8
        }
      ]
    },
    {
      "cell_type": "markdown",
      "metadata": {
        "id": "PQJutQZdNkzw",
        "colab_type": "text"
      },
      "source": [
        "---\n",
        "\n",
        "## Module parameters\n",
        "\n",
        "You can inspect your network's parameters using `.parameters()` or `.named_parameters()`:"
      ]
    },
    {
      "cell_type": "code",
      "metadata": {
        "id": "bMBIvzDyNkzw",
        "colab_type": "code",
        "colab": {
          "base_uri": "https://localhost:8080/",
          "height": 85
        },
        "outputId": "6db066dd-4e2b-4191-bfee-82182e81be19"
      },
      "source": [
        "for param, tensor in neural_net.named_parameters():\n",
        "    print(\"{:10s} shape = {}\".format(param, tensor.shape))"
      ],
      "execution_count": 9,
      "outputs": [
        {
          "output_type": "stream",
          "text": [
            "0.weight   shape = torch.Size([10, 5])\n",
            "0.bias     shape = torch.Size([10])\n",
            "2.weight   shape = torch.Size([2, 10])\n",
            "2.bias     shape = torch.Size([2])\n"
          ],
          "name": "stdout"
        }
      ]
    },
    {
      "cell_type": "markdown",
      "metadata": {
        "id": "FZ1PBbXYNkzy",
        "colab_type": "text"
      },
      "source": [
        "---\n",
        "\n",
        "## Custom modules"
      ]
    },
    {
      "cell_type": "markdown",
      "metadata": {
        "id": "pu6H6t_TNkzy",
        "colab_type": "text"
      },
      "source": [
        "A module has to implement two functions:\n",
        "\n",
        "- the `__init__` function, where you define all the sub-components that have learnable parameters. This makes sure that your module becomes aware all its parameters. The sub-components (layers) do not need to be defined in order of execution or connceted together. Don't forget to initialize the parent class `torch.nn.Module` with `super().__init__()`.\n",
        "\n",
        "\n",
        "- the `forward` function, which is the method that defines what has to be executed during the forward pass and especially how the layers are connected. This is where you call the layers that you defined inside `__init__`.\n"
      ]
    },
    {
      "cell_type": "code",
      "metadata": {
        "id": "LdoQqrAJNkz1",
        "colab_type": "code",
        "colab": {}
      },
      "source": [
        "# This is the most basic form of a custom module:\n",
        "class MySuperSimpleModule(torch.nn.Module):\n",
        "    def __init__(self, input_size, num_classes):\n",
        "        super().__init__() # initialise from parent class\n",
        "        \n",
        "        # Define sub-modules or parameters\n",
        "        # torch.nn.Module takes care of adding their parameters to your new module\n",
        "        self.linear = torch.nn.Linear(input_size, num_classes)\n",
        "    \n",
        "    def forward(self, x):\n",
        "        out = self.linear(x)\n",
        "        return out"
      ],
      "execution_count": 0,
      "outputs": []
    },
    {
      "cell_type": "markdown",
      "metadata": {
        "id": "YKPImjuqNkz3",
        "colab_type": "text"
      },
      "source": [
        "You can use the `print` function to list a model's submodules and parameters:"
      ]
    },
    {
      "cell_type": "code",
      "metadata": {
        "id": "uxGY6V2yNkz3",
        "colab_type": "code",
        "colab": {
          "base_uri": "https://localhost:8080/",
          "height": 68
        },
        "outputId": "f814f70d-6df3-4a47-dac3-425a13ade561"
      },
      "source": [
        "model = MySuperSimpleModule(input_size=20, num_classes=5)\n",
        "print(model)"
      ],
      "execution_count": 11,
      "outputs": [
        {
          "output_type": "stream",
          "text": [
            "MySuperSimpleModule(\n",
            "  (linear): Linear(in_features=20, out_features=5, bias=True)\n",
            ")\n"
          ],
          "name": "stdout"
        }
      ]
    },
    {
      "cell_type": "markdown",
      "metadata": {
        "id": "TvxRfobeNk0y",
        "colab_type": "text"
      },
      "source": [
        "You can use `model.parameters()` to get the list of parameters of your model automatically inferred by PyTorch."
      ]
    },
    {
      "cell_type": "code",
      "metadata": {
        "id": "6yoVs9maNk0z",
        "colab_type": "code",
        "colab": {
          "base_uri": "https://localhost:8080/",
          "height": 357
        },
        "outputId": "f48f1e14-6b69-423a-b46b-e355cc7470aa"
      },
      "source": [
        "for name, p in model.named_parameters():  # Here we use a sligtly different version of the parameters() function\n",
        "    print(name, \":\\n\", p)                 # which also returns the parameter name"
      ],
      "execution_count": 12,
      "outputs": [
        {
          "output_type": "stream",
          "text": [
            "linear.weight :\n",
            " Parameter containing:\n",
            "tensor([[ 0.1550, -0.0019,  0.1778,  0.2124, -0.0644,  0.0588, -0.0475,  0.1749,\n",
            "          0.0418,  0.1175,  0.1130, -0.0289, -0.0716, -0.2224, -0.0476, -0.1832,\n",
            "          0.0538,  0.1858, -0.0181, -0.0951],\n",
            "        [-0.0784, -0.0137, -0.1376,  0.0189, -0.1963, -0.1175, -0.1321, -0.2008,\n",
            "         -0.1476,  0.1345, -0.1782,  0.0968,  0.1965,  0.2138, -0.1965, -0.0122,\n",
            "         -0.1692,  0.0206, -0.0355, -0.1863],\n",
            "        [-0.1806, -0.0510, -0.0015, -0.1116,  0.0608,  0.0171,  0.1257,  0.0306,\n",
            "         -0.0862,  0.1175,  0.1457,  0.0622, -0.0889,  0.1515, -0.0072,  0.0048,\n",
            "          0.0891, -0.1616, -0.0555,  0.0903],\n",
            "        [-0.0283, -0.1980, -0.0944, -0.0455, -0.0536, -0.1514,  0.1236, -0.1304,\n",
            "          0.1520,  0.0404,  0.0145,  0.0433, -0.2147, -0.1342,  0.0269,  0.0527,\n",
            "          0.1948,  0.0953,  0.0609,  0.1652],\n",
            "        [-0.1493,  0.1712, -0.0271,  0.1650,  0.1918, -0.0936, -0.0582,  0.1113,\n",
            "         -0.1037,  0.0447,  0.0044,  0.0980,  0.2048,  0.1338,  0.1580,  0.2049,\n",
            "          0.1063, -0.2172, -0.2057,  0.1796]], requires_grad=True)\n",
            "linear.bias :\n",
            " Parameter containing:\n",
            "tensor([-0.1152, -0.1343, -0.2107,  0.1017,  0.2123], requires_grad=True)\n"
          ],
          "name": "stdout"
        }
      ]
    },
    {
      "cell_type": "markdown",
      "metadata": {
        "id": "44k24u42Nk01",
        "colab_type": "text"
      },
      "source": [
        "---\n",
        "\n",
        "# Building and Training a Neural Network"
      ]
    },
    {
      "cell_type": "markdown",
      "metadata": {
        "id": "Kc9FSHm_Nk01",
        "colab_type": "text"
      },
      "source": [
        "It's time to implement a neural network now. In this section, you will learn to classify handwritten digits from the widely known MNIST dataset.\n",
        "The dataset consists of 60,000 training images of size 28x28, and another 10,000 images for evaluating the quality of the trained model."
      ]
    },
    {
      "cell_type": "markdown",
      "metadata": {
        "id": "uvXYjAq2Nk02",
        "colab_type": "text"
      },
      "source": [
        "![MNIST](https://github.com/theevann/amld-pytorch-workshop/blob/master/figures/mnist.jpeg?raw=1)"
      ]
    },
    {
      "cell_type": "markdown",
      "metadata": {
        "id": "QKW5FfkbNk02",
        "colab_type": "text"
      },
      "source": [
        "## Loading the dataset\n",
        "\n",
        "MNIST is widely used and a dataset and it is available in the `torchvision` library."
      ]
    },
    {
      "cell_type": "code",
      "metadata": {
        "id": "uhrmmnnzNk03",
        "colab_type": "code",
        "colab": {
          "base_uri": "https://localhost:8080/",
          "height": 255
        },
        "outputId": "9a2645b5-f76a-4010-f472-fc4bbe24b67b"
      },
      "source": [
        "import torchvision\n",
        "\n",
        "# MNIST Dataset (Images and Labels)\n",
        "train_dataset = torchvision.datasets.MNIST(\n",
        "    root='./data',\n",
        "    train=True,\n",
        "    transform=torchvision.transforms.ToTensor(),\n",
        "    download=True\n",
        ")\n",
        "test_dataset = torchvision.datasets.MNIST(\n",
        "    root='./data',\n",
        "    train=False,\n",
        "    transform=torchvision.transforms.ToTensor()\n",
        ")"
      ],
      "execution_count": 13,
      "outputs": [
        {
          "output_type": "stream",
          "text": [
            "  0%|          | 16384/9912422 [00:00<01:14, 133034.96it/s]"
          ],
          "name": "stderr"
        },
        {
          "output_type": "stream",
          "text": [
            "Downloading http://yann.lecun.com/exdb/mnist/train-images-idx3-ubyte.gz to ./data/MNIST/raw/train-images-idx3-ubyte.gz\n"
          ],
          "name": "stdout"
        },
        {
          "output_type": "stream",
          "text": [
            "9920512it [00:00, 30273161.54it/s]                           \n"
          ],
          "name": "stderr"
        },
        {
          "output_type": "stream",
          "text": [
            "Extracting ./data/MNIST/raw/train-images-idx3-ubyte.gz to ./data/MNIST/raw\n"
          ],
          "name": "stdout"
        },
        {
          "output_type": "stream",
          "text": [
            "32768it [00:00, 439419.37it/s]\n",
            "  1%|          | 16384/1648877 [00:00<00:11, 143235.40it/s]"
          ],
          "name": "stderr"
        },
        {
          "output_type": "stream",
          "text": [
            "Downloading http://yann.lecun.com/exdb/mnist/train-labels-idx1-ubyte.gz to ./data/MNIST/raw/train-labels-idx1-ubyte.gz\n",
            "Extracting ./data/MNIST/raw/train-labels-idx1-ubyte.gz to ./data/MNIST/raw\n",
            "Downloading http://yann.lecun.com/exdb/mnist/t10k-images-idx3-ubyte.gz to ./data/MNIST/raw/t10k-images-idx3-ubyte.gz\n"
          ],
          "name": "stdout"
        },
        {
          "output_type": "stream",
          "text": [
            "1654784it [00:00, 7516905.62it/s]                            \n",
            "8192it [00:00, 185166.81it/s]\n"
          ],
          "name": "stderr"
        },
        {
          "output_type": "stream",
          "text": [
            "Extracting ./data/MNIST/raw/t10k-images-idx3-ubyte.gz to ./data/MNIST/raw\n",
            "Downloading http://yann.lecun.com/exdb/mnist/t10k-labels-idx1-ubyte.gz to ./data/MNIST/raw/t10k-labels-idx1-ubyte.gz\n",
            "Extracting ./data/MNIST/raw/t10k-labels-idx1-ubyte.gz to ./data/MNIST/raw\n",
            "Processing...\n",
            "Done!\n"
          ],
          "name": "stdout"
        }
      ]
    },
    {
      "cell_type": "markdown",
      "metadata": {
        "id": "o1RXA3MANk04",
        "colab_type": "text"
      },
      "source": [
        "A dataset in PyTorch behalves _like an array_. It has a length, and you can access its entries with `dataset[i]`.\n",
        "\n",
        "__Exercise__<br>\n",
        "Verify how many images there are in the training dataset. How is one training example represented? What is the type and shape of an entry from the dataset?"
      ]
    },
    {
      "cell_type": "code",
      "metadata": {
        "id": "fUsPkkEsNk05",
        "colab_type": "code",
        "colab": {
          "base_uri": "https://localhost:8080/",
          "height": 85
        },
        "outputId": "7d3b66fd-9d6a-4161-dc7a-23a39467c81a"
      },
      "source": [
        "n_images = len(train_dataset)\n",
        "print(f\"There are {n_images} images in the train dataset.\")\n",
        "\n",
        "first_datapoint = train_dataset[0]\n",
        "print(f\"Data points are a {type(first_datapoint)} of length {len(first_datapoint)}.\")\n",
        "print(\"The entries are the input and the correct class (the digit.)\")\n",
        "\n",
        "X, y = first_datapoint\n",
        "print(f\"The images are {type(X)}'s of shape {X.shape}.\")"
      ],
      "execution_count": 17,
      "outputs": [
        {
          "output_type": "stream",
          "text": [
            "There are 60000 images in the train dataset.\n",
            "Data points are a <class 'tuple'> of length 2.\n",
            "The entries are the input and the correct class (the digit.)\n",
            "The images are <class 'torch.Tensor'>'s of shape torch.Size([1, 28, 28]).\n"
          ],
          "name": "stdout"
        }
      ]
    },
    {
      "cell_type": "markdown",
      "metadata": {
        "id": "5wcha5uBNk06",
        "colab_type": "text"
      },
      "source": [
        "When we train a model, we make multiple passes through all the examples in the training set. Each pass, the data points are shuffled and batched together. For this purpose, we use a `DataLoader`. The `DataLoader` support multi-threading to optize your data-loading pipeline."
      ]
    },
    {
      "cell_type": "code",
      "metadata": {
        "id": "W8XeHvwVNk07",
        "colab_type": "code",
        "colab": {}
      },
      "source": [
        "# Dataset Loader (Input Batcher)\n",
        "batch_size = 100\n",
        "train_loader = torch.utils.data.DataLoader(dataset=train_dataset, batch_size=batch_size, shuffle=True)\n",
        "test_loader = torch.utils.data.DataLoader(dataset=test_dataset, batch_size=batch_size, shuffle=False)"
      ],
      "execution_count": 0,
      "outputs": []
    },
    {
      "cell_type": "markdown",
      "metadata": {
        "id": "TBw0ibVpNk09",
        "colab_type": "text"
      },
      "source": [
        "We can now iterate through the dataset in shuffled batches. Everytime you do this, the order will be different."
      ]
    },
    {
      "cell_type": "code",
      "metadata": {
        "id": "Itwx-XQxNk0-",
        "colab_type": "code",
        "colab": {}
      },
      "source": [
        "for images, labels in train_loader:\n",
        "    assert len(images) == batch_size\n",
        "    assert len(labels) == batch_size"
      ],
      "execution_count": 0,
      "outputs": []
    },
    {
      "cell_type": "markdown",
      "metadata": {
        "id": "QL9Y-cw5Nk0_",
        "colab_type": "text"
      },
      "source": [
        "__Exercise__<br>\n",
        "Search in the documentation how to enable multi-threading in the data loaders."
      ]
    },
    {
      "cell_type": "code",
      "metadata": {
        "id": "CP92C4kNNk1A",
        "colab_type": "code",
        "colab": {}
      },
      "source": [
        "### Multi-threading in dataloaders\n",
        "\n",
        "train_loader = torch.utils.data.DataLoader(\n",
        "    dataset=train_dataset, batch_size=batch_size, shuffle=True, num_workers=1\n",
        ")"
      ],
      "execution_count": 0,
      "outputs": []
    },
    {
      "cell_type": "markdown",
      "metadata": {
        "id": "BYKF4mBENk1B",
        "colab_type": "text"
      },
      "source": [
        "## Defining the model"
      ]
    },
    {
      "cell_type": "markdown",
      "metadata": {
        "id": "V1K8-rboNk1B",
        "colab_type": "text"
      },
      "source": [
        "A fully-connected neural network consists of layers that contain a number of values (neurons) computed as linear combinations of the neurons in the layer before. The first layer contains the network's input (your features), and the last layer contains the prediction. In our case, the last layer contains 10 neurons that are trained to be large when an input image is of the corresponding digit (0, 1, 2, 3, 4, 5, 6, 7, 8, 9).\n",
        "\n",
        "The parameters of this model that are optimized (trained), are the weights that connect the neurons. These are drawn as edges in the illustration below."
      ]
    },
    {
      "cell_type": "markdown",
      "metadata": {
        "id": "28AFxflUNk1C",
        "colab_type": "text"
      },
      "source": [
        "![](https://raw.githubusercontent.com/ledell/sldm4-h2o/master/mlp_network.png)"
      ]
    },
    {
      "cell_type": "markdown",
      "metadata": {
        "id": "3UGv4h1tNk1C",
        "colab_type": "text"
      },
      "source": [
        "To make sure that neural networks can approximate non-linear functions, each neuron's value is transformed with some non-linear transformation function $\\sigma(\\cdot)$, often called an ‘activation function’ before being fed as input to the next layer. \n",
        "\n",
        "To be precise, the neurons $\\vec x_{i+1}$ in layer $i+1$ are computed from the neurons $\\vec x_i$ in layer $i$ as \n",
        "\n",
        "$$ \\vec x_{i+1} = \\sigma\\left(W_{i+1} \\vec x_i + \\vec b_{i+1} \\right) $$\n",
        "\n",
        "where $W_{i+1}$ encodes the network parameters between each pair of input/output neurons in layer $i+1$, and $\\vec b_{i+1}$ contains 'bias terms'. $\\sigma$ operates element-wise.\n",
        "\n",
        "A layer like that can be implemented using `torch.nn.Linear` followed by an activation function such as `torch.nn.ReLU` or `torch.nn.Sigmoid`."
      ]
    },
    {
      "cell_type": "markdown",
      "metadata": {
        "id": "e9QEI4-gNk1D",
        "colab_type": "text"
      },
      "source": [
        "---\n",
        "\n",
        "__Exercise__<br>\n",
        "Implement a multi-layer fully-connected neural network with two hidden layers and the following numbers of neurons in each layer:\n",
        "\n",
        "- Input-size: *input_size*\n",
        "- 1st hidden layer: 75\n",
        "- 2nd hidden layer: 50\n",
        "- Output layer: *num_classes*\n",
        "\n",
        "Use `ReLU`s as ‘activation functions’ in between each pair of layers, but not after the last layer."
      ]
    },
    {
      "cell_type": "code",
      "metadata": {
        "id": "AeKo4xqbNk1D",
        "colab_type": "code",
        "colab": {}
      },
      "source": [
        "import torch.nn.functional as F  # provides some helper functions like Relu's, Sigmoids, Tanh, etc.\n",
        "\n",
        "class MyNeuralNetwork(torch.nn.Module):\n",
        "    def __init__(self, input_size, num_classes):\n",
        "        super(MyNeuralNetwork, self).__init__()\n",
        "        \n",
        "        self.input_size = input_size\n",
        "        self.num_classes = num_classes\n",
        "        \n",
        "        self.linear_1 = torch.nn.Linear(input_size, 75)\n",
        "        self.linear_2 = torch.nn.Linear(75,50)\n",
        "        self.linear_3 = torch.nn.Linear(50, num_classes)\n",
        "        \n",
        "    \n",
        "    def forward(self, x):\n",
        "        out = F.relu(self.linear_1(x))\n",
        "        out = F.relu(self.linear_2(out))\n",
        "        out = self.linear_3(out)\n",
        "        return out"
      ],
      "execution_count": 0,
      "outputs": []
    },
    {
      "cell_type": "markdown",
      "metadata": {
        "id": "CrgMlFGbNk1F",
        "colab_type": "text"
      },
      "source": [
        "Now feed an input to your network:"
      ]
    },
    {
      "cell_type": "code",
      "metadata": {
        "id": "2K6DJMEMNk1F",
        "colab_type": "code",
        "colab": {
          "base_uri": "https://localhost:8080/",
          "height": 51
        },
        "outputId": "020ab526-8f8f-489b-8a9e-e813757045e4"
      },
      "source": [
        "x = torch.rand(16, 28 * 28)  # the first dimension is reserved for the 'batch_size'\n",
        "model = MyNeuralNetwork(input_size=28 * 28, num_classes=10)\n",
        "out = model(x)  # this calls model.forward(x)\n",
        "out[0, :]"
      ],
      "execution_count": 22,
      "outputs": [
        {
          "output_type": "execute_result",
          "data": {
            "text/plain": [
              "tensor([ 0.1579, -0.1346, -0.0773,  0.0448,  0.0337, -0.0154, -0.0247,  0.0481,\n",
              "         0.0048,  0.1203], grad_fn=<SliceBackward>)"
            ]
          },
          "metadata": {
            "tags": []
          },
          "execution_count": 22
        }
      ]
    },
    {
      "cell_type": "markdown",
      "metadata": {
        "id": "epYNR7EQNk1H",
        "colab_type": "text"
      },
      "source": [
        "__Exercise__ <br>\n",
        "What does `out[0, :]` above represent?"
      ]
    },
    {
      "cell_type": "markdown",
      "metadata": {
        "id": "EtFZQvOTNk1H",
        "colab_type": "text"
      },
      "source": [
        "---\n",
        "\n",
        "## Training the model\n",
        "\n",
        "Most of the functions to train a model follow a similar pattern in PyTorch.\n",
        "In most of the cases in consists of the following steps:\n",
        "- Loop over data (in batches)\n",
        "- Create a prediction (forward pass)\n",
        "- Clear previous gradients (!)\n",
        "- Compute gradients (backward pass)\n",
        "- Parameter update (using an optimizer)"
      ]
    },
    {
      "cell_type": "code",
      "metadata": {
        "id": "iISbhomONk1H",
        "colab_type": "code",
        "colab": {
          "base_uri": "https://localhost:8080/",
          "height": 102
        },
        "outputId": "3b84325b-e617-4940-cd06-62b52022f6d0"
      },
      "source": [
        "device = torch.device('cuda' if torch.cuda.is_available() else 'cpu')\n",
        "\n",
        "# Copy all model parameters to the GPU\n",
        "model = model.to(device)\n",
        "\n",
        "# Define the Loss function and Optimizer that you want to use\n",
        "criterion = torch.nn.CrossEntropyLoss()  \n",
        "optimizer = torch.optim.Adam(model.parameters(), lr=1e-3)  # NOTE: model.parameters()\n",
        "\n",
        "# Passes over the whole dataset\n",
        "for epoch in range(5):\n",
        "    total_loss = 0.0\n",
        "    \n",
        "    # Loop over batches in the training set\n",
        "    for (inputs, labels) in train_loader:\n",
        "        \n",
        "        # Move inputs from CPU memory to GPU memory\n",
        "        inputs = inputs.to(device)\n",
        "        labels = labels.to(device)\n",
        "\n",
        "        # The pixels in our images have a square 28x28 structure, but the network\n",
        "        # accepts a *vector* of inputs. We therefore reshape it.\n",
        "        # -1 is a special number that indicates 'whatever is left'\n",
        "        inputs = inputs.view(-1, 28*28)\n",
        "\n",
        "        # Do a forward pass, loss computation, compute gradient, and optimize\n",
        "        optimizer.zero_grad()\n",
        "        outputs = model(inputs)\n",
        "        loss = criterion(outputs, labels)\n",
        "        loss.backward()\n",
        "        optimizer.step()\n",
        "\n",
        "        # Add up training losses so we can compute an average later\n",
        "        total_loss += loss.item()\n",
        "        \n",
        "    print(\"Epoch %d, Loss=%.4f\" % (epoch+1, total_loss/len(train_loader)))"
      ],
      "execution_count": 23,
      "outputs": [
        {
          "output_type": "stream",
          "text": [
            "Epoch 1, Loss=0.4280\n",
            "Epoch 2, Loss=0.1765\n",
            "Epoch 3, Loss=0.1303\n",
            "Epoch 4, Loss=0.1028\n",
            "Epoch 5, Loss=0.0841\n"
          ],
          "name": "stdout"
        }
      ]
    },
    {
      "cell_type": "markdown",
      "metadata": {
        "id": "XrscFWSTNk1J",
        "colab_type": "text"
      },
      "source": [
        "Note:\n",
        "- We can use the `.to` function on the model directly. Indeed, since PyTorch knows all the model parameters, it can put all the parameters on the correct device.\n",
        "- We use `model.parameters()` to get all the parameters of the model and we can instantiate an optimizer that will optimize these parameters `torch.optim.SGD(model.parameters())`.\n",
        "- To apply the forward function of the module, we write `model(input)`. In most cases, `model.forward(inputs)` would also work, but there is a slight difference : PyTorch allows you to register hook functions for a model that are automatically called when you do a forward pass on your model. Using `model(input)` will call these hooks and then call the forward function, while using `model.forward(inputs)` will just silently ignore them.\n",
        "\n",
        "Do you see the convenience of Modules?\n",
        "\n",
        "### Loss functions\n",
        "\n",
        "PyTorch comes with a lot of predefined loss functions :\n",
        "- `L1Loss`\n",
        "- `MSELoss`\n",
        "- `CrossEntropyLoss`\n",
        "- `NLLLoss`\n",
        "- `PoissonNLLLoss`\n",
        "- `KLDivLoss`\n",
        "- `BCELoss`\n",
        "- `...`\n",
        "\n",
        "Check out the [PyTorch Documentation](https://pytorch.org/docs/master/nn.html#loss-functions)."
      ]
    },
    {
      "cell_type": "markdown",
      "metadata": {
        "id": "L7gqWSTRNk1J",
        "colab_type": "text"
      },
      "source": [
        "### Assessing model performance \n",
        "This function loops over another `data_loader` (usually containing test/validation data) and computes the model's accuracy on it."
      ]
    },
    {
      "cell_type": "code",
      "metadata": {
        "id": "WRFec_CINk1J",
        "colab_type": "code",
        "colab": {}
      },
      "source": [
        "def accuracy(model, data_loader, device):\n",
        "    with torch.no_grad(): # during model evaluation, we don't need the autograd mechanism (speeds things up)\n",
        "        correct = 0\n",
        "        total = 0\n",
        "        for inputs, labels in data_loader:\n",
        "            inputs = inputs.to(device)     \n",
        "            inputs = inputs.view(-1, 28*28)\n",
        "            \n",
        "            outputs = model(inputs)\n",
        "            _, predicted = outputs.max(1)\n",
        "            \n",
        "            correct += (predicted.cpu() == labels).sum().item()\n",
        "            total += labels.size(0)\n",
        "            \n",
        "    acc = correct / total\n",
        "    return acc"
      ],
      "execution_count": 0,
      "outputs": []
    },
    {
      "cell_type": "code",
      "metadata": {
        "id": "Rkw1_4gUNk1L",
        "colab_type": "code",
        "colab": {
          "base_uri": "https://localhost:8080/",
          "height": 34
        },
        "outputId": "562fb340-5662-4ce4-fe07-4db52c6a5626"
      },
      "source": [
        "accuracy(model, test_loader, device)  # look at: accuracy(model, train_loader, device)"
      ],
      "execution_count": 25,
      "outputs": [
        {
          "output_type": "execute_result",
          "data": {
            "text/plain": [
              "0.9674"
            ]
          },
          "metadata": {
            "tags": []
          },
          "execution_count": 25
        }
      ]
    },
    {
      "cell_type": "markdown",
      "metadata": {
        "id": "2zElDuKxNk1M",
        "colab_type": "text"
      },
      "source": [
        "### We get an accuracy of around 97%. Can you improve this?"
      ]
    },
    {
      "cell_type": "markdown",
      "metadata": {
        "id": "cp5s1dblNk1M",
        "colab_type": "text"
      },
      "source": [
        "---\n",
        "\n",
        "## Storing and loading models"
      ]
    },
    {
      "cell_type": "code",
      "metadata": {
        "id": "KqspVtDzNk1M",
        "colab_type": "code",
        "colab": {
          "base_uri": "https://localhost:8080/",
          "height": 105
        },
        "outputId": "873b5936-d7c0-4d9e-cb93-c4b42601db53"
      },
      "source": [
        "torch.save(model, \"my_model.pt\")"
      ],
      "execution_count": 26,
      "outputs": [
        {
          "output_type": "stream",
          "text": [
            "/usr/local/lib/python3.6/dist-packages/torch/serialization.py:292: UserWarning: Couldn't retrieve source code for container of type MyNeuralNetwork. It won't be checked for correctness upon loading.\n",
            "  \"type \" + obj.__name__ + \". It won't be checked \"\n",
            "/usr/local/lib/python3.6/dist-packages/torch/serialization.py:292: UserWarning: Couldn't retrieve source code for container of type Linear. It won't be checked for correctness upon loading.\n",
            "  \"type \" + obj.__name__ + \". It won't be checked \"\n"
          ],
          "name": "stderr"
        }
      ]
    },
    {
      "cell_type": "code",
      "metadata": {
        "id": "aadCIxb3Nk1O",
        "colab_type": "code",
        "colab": {}
      },
      "source": [
        "my_model_loaded = torch.load(\"my_model.pt\")"
      ],
      "execution_count": 0,
      "outputs": []
    },
    {
      "cell_type": "code",
      "metadata": {
        "id": "FUr31EMnNk1O",
        "colab_type": "code",
        "colab": {}
      },
      "source": [
        "print(model.linear_3.bias)\n",
        "print(my_model_loaded.linear_3.bias)"
      ],
      "execution_count": 0,
      "outputs": []
    },
    {
      "cell_type": "markdown",
      "metadata": {
        "id": "1LtryvdNNk1Q",
        "colab_type": "text"
      },
      "source": [
        "___\n",
        "\n",
        "This intro to modules used [this medium post](https://medium.com/deeplearningbrasilia/deep-learning-introduction-to-pytorch-5bd39421c84) as a resource."
      ]
    },
    {
      "cell_type": "markdown",
      "metadata": {
        "id": "FY3GAOAmNk1Q",
        "colab_type": "text"
      },
      "source": [
        "<!--NAVIGATION-->\n",
        "# < [Optimization](3-Optimization.ipynb) | Modules | [CNN](5-CNN.ipynb) >"
      ]
    }
  ]
}