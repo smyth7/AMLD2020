{
  "nbformat": 4,
  "nbformat_minor": 0,
  "metadata": {
    "colab": {
      "name": "Copie de Copie de sklearn_LASER_cross_language_embd.ipynb",
      "provenance": [],
      "collapsed_sections": []
    },
    "kernelspec": {
      "name": "python3",
      "display_name": "Python 3"
    }
  },
  "cells": [
    {
      "cell_type": "markdown",
      "metadata": {
        "id": "a9x6-u2lxYkP",
        "colab_type": "text"
      },
      "source": [
        "# Cross lingual processing and Transfer Learning using multi-linguale embedding\n",
        "\n",
        "On this notebook, we will work on a multilingual dataset containing sentences in six languages: english, dutch, spanish, russian, arabic and turkish. Every sentence of every language comes along a with sentiment label indicating *positive* or *negative* content. There is no sentence overlap between idioms. \n",
        "\n",
        "Working with the LASER multilinguale representation, we directly provide the sentence embedding for all languages. Every sentence is represented by a 1024 dimensional vector indicating its position in LASER."
      ]
    },
    {
      "cell_type": "markdown",
      "metadata": {
        "id": "QGG1H0Vk2gWl",
        "colab_type": "text"
      },
      "source": [
        "# Loading data from Github"
      ]
    },
    {
      "cell_type": "code",
      "metadata": {
        "id": "9qnXLnDSxFCL",
        "colab_type": "code",
        "colab": {}
      },
      "source": [
        "#Let's download the dataset (if not done already) and define path\n",
        "import os\n",
        "!git clone https://github.com/ioannispartalas/CrossLingual-NLP-AMLD2020.git\n",
        "#With this command, the path to the data is \n",
        "workdir = './CrossLingual-NLP-AMLD2020/'\n",
        "os.environ[\"WORKDIR\"] = workdir\n",
        "#Please check if this correct, otherwise correct path_to_data\n",
        "!ls $WORKDIR/data/laser"
      ],
      "execution_count": 0,
      "outputs": []
    },
    {
      "cell_type": "markdown",
      "metadata": {
        "id": "v5uVWdjc4US0",
        "colab_type": "text"
      },
      "source": [
        "The dataset is made of numpy files:\n",
        "```\n",
        "'en_laser_train.npy'\n",
        "'en_laser_test.npy'\n",
        "'nl_laser_test.npy'\n",
        "...\n",
        "```\n",
        "containing respectively training and test set for every language. \n",
        "\n",
        "Corresponding labels are stored in \n",
        "```\n",
        "en_train_labels_adan.txt\n",
        "en_test_labels_adan.txt\n",
        "nl_laser_train.npy\n",
        "...\n",
        "```\n"
      ]
    },
    {
      "cell_type": "markdown",
      "metadata": {
        "id": "CXfmDUITycJ7",
        "colab_type": "text"
      },
      "source": [
        "# Importing functions"
      ]
    },
    {
      "cell_type": "code",
      "metadata": {
        "id": "kLIhEatowOB4",
        "colab_type": "code",
        "colab": {}
      },
      "source": [
        "import sys\n",
        "import numpy as np\n",
        "import pandas as pd\n",
        "from sklearn.linear_model import LogisticRegression\n",
        "from sklearn.metrics import f1_score, confusion_matrix\n",
        "from sklearn.model_selection import StratifiedKFold\n",
        "from sklearn.model_selection import cross_val_score\n",
        "sys.path.insert(1, workdir)\n",
        "\n",
        "from src.utils import load_training_languages, model_evaluation, get_statistics\n"
      ],
      "execution_count": 0,
      "outputs": []
    },
    {
      "cell_type": "markdown",
      "metadata": {
        "id": "ldZjtvZdmEMz",
        "colab_type": "text"
      },
      "source": [
        "The 3 following utility functions will be used in this notebook:\n",
        "\n",
        "- ```\n",
        "model_evaluation(model, [languages])\n",
        "```: evaluate the ```model``` over list of ```languages```. Returns [F1](https://en.wikipedia.org/wiki/F1_score) score, more suited for imbalanced dataset and [Confusion matrix](https://en.wikipedia.org/wiki/Confusion_matrix) to analyse model outputs in details.\n",
        "- ```x_train, y_train = load_training_languages([languages])```: Returns concatenated features and labels for languages specified in ```languages```.\n",
        "- ```get_statistics([languages]```: print out class population for languages specified in ```languages```."
      ]
    },
    {
      "cell_type": "markdown",
      "metadata": {
        "id": "p9q6Ce_pyiTP",
        "colab_type": "text"
      },
      "source": [
        "# Dataset statistics"
      ]
    },
    {
      "cell_type": "markdown",
      "metadata": {
        "id": "XGkvj85TxuCY",
        "colab_type": "text"
      },
      "source": [
        "The multilingual dataset consists in 6 different languages: english (```en```), spanish (`es`), dutch (`nl`), russian (`ru`), arabic (`a`r) and turkish (`tr`)."
      ]
    },
    {
      "cell_type": "code",
      "metadata": {
        "id": "AloTmSlbk-Lo",
        "colab_type": "code",
        "colab": {}
      },
      "source": [
        "all_languages = ['en','es','nl','ru','ar','tr']"
      ],
      "execution_count": 0,
      "outputs": []
    },
    {
      "cell_type": "code",
      "metadata": {
        "id": "AafUgnCfjUdw",
        "colab_type": "code",
        "colab": {}
      },
      "source": [
        "get_statistics(all_languages)"
      ],
      "execution_count": 0,
      "outputs": []
    },
    {
      "cell_type": "markdown",
      "metadata": {
        "id": "7QUqPAIW0M1j",
        "colab_type": "text"
      },
      "source": [
        "#Few Shot Learning\n",
        "While learning a language classification model generally requires abundance of training materials, it happens frequently that some languages are systematically under representated, leading to poor prediction performance. \n",
        "\n",
        "In that situation, using a common language representation such as LASER permits to increase the training data by adding to the initial (small) set, (possibly larger) dataset from other languages. \n",
        "\n",
        "As shown in figure below, poplulating the training space increases the chances to accurately determine the decision function.  \n",
        "\n",
        "![Few Shot Learning](https://upload.wikimedia.org/wikipedia/commons/d/d0/Example_of_unlabeled_data_in_semisupervised_learning.png)\n",
        "\n",
        "In the following, we are going to experiment the Few Shot Learning concepts by training and testing classifier on different combinations of languague."
      ]
    },
    {
      "cell_type": "markdown",
      "metadata": {
        "id": "YjsJKOSmpEo0",
        "colab_type": "text"
      },
      "source": [
        "Let's train a [Logistic Regression](https://fr.wikipedia.org/wiki/R%C3%A9gression_logistique) (a linear classifier) on russian, and look at the model accuracy"
      ]
    },
    {
      "cell_type": "code",
      "metadata": {
        "id": "ZqEBpoKS-7pc",
        "colab_type": "code",
        "colab": {}
      },
      "source": [
        "x_train,y_train = load_training_languages(['ru'])\n",
        "lr = LogisticRegression(C = 10,max_iter = 200,random_state = 1).fit(x_train,y_train)\n",
        "_ = model_evaluation(lr, ['ru'])"
      ],
      "execution_count": 0,
      "outputs": []
    },
    {
      "cell_type": "markdown",
      "metadata": {
        "id": "wim0DcAopcNL",
        "colab_type": "text"
      },
      "source": [
        "The overall performance is not fantastic. Could we do better? Let's add more languages to the training data"
      ]
    },
    {
      "cell_type": "code",
      "metadata": {
        "id": "M-IH0vRjeaal",
        "colab_type": "code",
        "colab": {}
      },
      "source": [
        "x_train,y_train = load_training_languages(all_languages)\n",
        "lr = LogisticRegression(C = 10,max_iter = 200,random_state = 1).fit(x_train,y_train)\n",
        "_ = model_evaluation(lr, ['ru'])\n"
      ],
      "execution_count": 0,
      "outputs": []
    },
    {
      "cell_type": "markdown",
      "metadata": {
        "id": "msQlJTsC_U6L",
        "colab_type": "text"
      },
      "source": [
        "The F1 score has improved by 0.1! Quite impressive.\n",
        "\n",
        "Same operation with turkish"
      ]
    },
    {
      "cell_type": "code",
      "metadata": {
        "id": "ZB4oz2LD72lj",
        "colab_type": "code",
        "colab": {}
      },
      "source": [
        "x_train,y_train = load_training_languages(['tr'])\n",
        "lr = LogisticRegression(C = 10,random_state = 1).fit(x_train,y_train)\n",
        "_ = model_evaluation(lr, ['tr'])"
      ],
      "execution_count": 0,
      "outputs": []
    },
    {
      "cell_type": "markdown",
      "metadata": {
        "id": "0GZ3DlLYALnp",
        "colab_type": "text"
      },
      "source": [
        "The F1 score is now quite low. Small dataset, data quality, language complexity may explain the poor performance.\n",
        "\n",
        "Fair enough, let's use all available languages to improve our model"
      ]
    },
    {
      "cell_type": "code",
      "metadata": {
        "id": "pU1No16mLALv",
        "colab_type": "code",
        "colab": {}
      },
      "source": [
        "x_train,y_train = load_training_languages(all_languages)\n",
        "lr = LogisticRegression(C = 10,max_iter = 200,random_state = 1).fit(x_train,y_train)\n",
        "_ = model_evaluation(lr, ['tr'])"
      ],
      "execution_count": 0,
      "outputs": []
    },
    {
      "cell_type": "markdown",
      "metadata": {
        "id": "tUaxHSMFBUvC",
        "colab_type": "text"
      },
      "source": [
        "No improvement... Maybe another combination of languages leads to different results. What happen if we remove spanish and russian from the training set"
      ]
    },
    {
      "cell_type": "code",
      "metadata": {
        "id": "y4vnNbolBWhG",
        "colab_type": "code",
        "colab": {}
      },
      "source": [
        "x_train,y_train = load_training_languages(['ar','tr','nl','en'])\n",
        "lr = LogisticRegression(C = 10,max_iter = 200,random_state = 1).fit(x_train,y_train)\n",
        "_ = model_evaluation(lr, ['tr'])"
      ],
      "execution_count": 0,
      "outputs": []
    },
    {
      "cell_type": "markdown",
      "metadata": {
        "id": "EcFDEuQtpoFL",
        "colab_type": "text"
      },
      "source": [
        "Better! Apparently spanish and russian were perturbing the model for turkish language.\n",
        "\n",
        "Could we imagine a more systematic source language selection to optimize performance on a specific target language? (Beware that the test set of the target language cannot be used to perform this selection)"
      ]
    },
    {
      "cell_type": "markdown",
      "metadata": {
        "id": "ZvAUeCZosnce",
        "colab_type": "text"
      },
      "source": [
        "#Non linear model\n",
        "Until now we have used Logisitic Regression. However more complex models, such as [multi layer perceptron](https://en.wikipedia.org/wiki/Multilayer_perceptron) (MLP) "
      ]
    },
    {
      "cell_type": "code",
      "metadata": {
        "id": "YCA27E34vlHO",
        "colab_type": "code",
        "colab": {}
      },
      "source": [
        " from sklearn.neural_network import MLPClassifier\n",
        " mlp = MLPClassifier(solver='lbfgs', \n",
        "                     hidden_layer_sizes=(16),\n",
        "                     activation = 'relu',\n",
        "                     alpha=1e-3,\n",
        "                     max_iter = 50,\n",
        "                     early_stopping =True,\n",
        "                     validation_fraction = 0.2, \n",
        "                     random_state=1)\\\n",
        "      \n",
        " _ = model_evaluation(mlp.fit(x_train,y_train),['ru'])"
      ],
      "execution_count": 0,
      "outputs": []
    },
    {
      "cell_type": "markdown",
      "metadata": {
        "id": "WWVM12v_RXG3",
        "colab_type": "text"
      },
      "source": [
        "or [extreme gradient boosting](https://en.wikipedia.org/wiki/XGBoost) (xgboost) are obviously possible."
      ]
    },
    {
      "cell_type": "code",
      "metadata": {
        "id": "BUaqSmH4Pvni",
        "colab_type": "code",
        "colab": {}
      },
      "source": [
        "import xgboost as xgb\n",
        "boost = xgb_model = xgb.XGBClassifier(objective=\"binary:logistic\",max_depth =5, random_state=42)\n",
        "_ = model_evaluation(boost.fit(x_train,y_train),['ru'])"
      ],
      "execution_count": 0,
      "outputs": []
    },
    {
      "cell_type": "markdown",
      "metadata": {
        "id": "JvX_liTERnBB",
        "colab_type": "text"
      },
      "source": [
        "What can we conclude from the above results?"
      ]
    }
  ]
}