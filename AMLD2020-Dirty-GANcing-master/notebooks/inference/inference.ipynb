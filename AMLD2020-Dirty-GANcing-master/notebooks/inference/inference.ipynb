{
 "cells": [
  {
   "cell_type": "code",
   "execution_count": null,
   "metadata": {},
   "outputs": [],
   "source": [
    "import argparse\n",
    "import os\n",
    "import datetime\n",
    "import json\n",
    "import numpy as np\n",
    "import sys\n",
    "import cv2\n",
    "import time\n",
    "\n",
    "from tqdm import tqdm\n",
    "\n",
    "dir_name = os.path.abspath('.')\n",
    "\n",
    "sys.path.append(os.path.join(dir_name, '../../src'))\n",
    "sys.path.append(os.path.join(dir_name, '../../src/PoseEstimation/'))\n",
    "sys.path.append(os.path.join(dir_name, '../../src/utils'))\n",
    "\n",
    "from data_preparation.prepare_source import prepare_source\n",
    "from data_postprocessing.normalization import normalize\n",
    "from data_postprocessing.transfer import test_transfer\n",
    "from data_postprocessing.make_video import make_video\n"
   ]
  },
  {
   "cell_type": "code",
   "execution_count": null,
   "metadata": {},
   "outputs": [],
   "source": [
    "def record_and_makevideo(target_name, run_name, target_runname, already_recorded):\n",
    "    source_dir = os.path.join(dir_name, '../../data/sources', run_name)\n",
    "    os.makedirs(source_dir, exist_ok=True)\n",
    "\n",
    "    target_dir = os.path.join(dir_name, '../../data/targets/', target_name)\n",
    "\n",
    "    if not already_recorded:\n",
    "        countdown(t=5)\n",
    "\n",
    "        record_video(source_dir)\n",
    "\n",
    "        prepare_source(source_dir, frames=True)\n",
    "\n",
    "    normalize(source_dir, target_dir)\n",
    "\n",
    "    os.makedirs(os.path.join(dir_name, '../../checkpoints/', run_name), exist_ok=True)\n",
    "\n",
    "    test_transfer(source_dir, target_runname, live_run_name=run_name)\n",
    "\n",
    "    make_video(source_dir, os.path.join(dir_name, '../../results', run_name))\n",
    "\n",
    "\n",
    "def record_video(source_dir):\n",
    "    img_dir = os.path.join(source_dir, 'images')\n",
    "    os.makedirs(img_dir, exist_ok=True)\n",
    "\n",
    "    stream = cv2.VideoCapture('http://127.0.0.1:8080')\n",
    "\n",
    "    # Check if the webcam is opened correctly\n",
    "    if not stream.isOpened():\n",
    "        raise IOError(\"Cannot open webcam\")\n",
    "\n",
    "    for i in tqdm(range(100), 'acquiring frames'):\n",
    "        ret, frame = stream.read()\n",
    "        frame = cv2.resize(frame, None, fx=0.5, fy=0.5, interpolation=cv2.INTER_AREA)\n",
    "        cv2.imwrite(os.path.join(img_dir, '{:05d}.png'.format(i)), frame)\n",
    "\n",
    "    stream.release()\n",
    "\n",
    "\n",
    "def countdown(t):\n",
    "    while t > 0:\n",
    "        print(t)\n",
    "        t -= 1\n",
    "        if t == 0:\n",
    "            print('DANCING TIME!')\n",
    "            break\n",
    "        time.sleep(1)\n"
   ]
  },
  {
   "cell_type": "code",
   "execution_count": null,
   "metadata": {},
   "outputs": [],
   "source": [
    "target_name = 'gianluca'\n",
    "run_name = 'test_pelayo'\n",
    "target_runname = 'gianluca'\n",
    "already_recorded = False\n",
    "\n"
   ]
  },
  {
   "cell_type": "code",
   "execution_count": null,
   "metadata": {},
   "outputs": [],
   "source": [
    "record_and_makevideo(target_name, run_name, target_runname, already_recorded)"
   ]
  },
  {
   "cell_type": "code",
   "execution_count": null,
   "metadata": {},
   "outputs": [],
   "source": [
    "from ipywidgets import Video\n",
    "video = Video.from_file(os.path.join(dir_name, '../../results/',run_name, \"output.mp4\"), play=True)\n",
    "video"
   ]
  },
  {
   "cell_type": "code",
   "execution_count": null,
   "metadata": {},
   "outputs": [],
   "source": []
  }
 ],
 "metadata": {
  "kernelspec": {
   "display_name": "Python 3",
   "language": "python",
   "name": "python3"
  },
  "language_info": {
   "codemirror_mode": {
    "name": "ipython",
    "version": 3
   },
   "file_extension": ".py",
   "mimetype": "text/x-python",
   "name": "python",
   "nbconvert_exporter": "python",
   "pygments_lexer": "ipython3",
   "version": "3.6.8"
  }
 },
 "nbformat": 4,
 "nbformat_minor": 4
}
