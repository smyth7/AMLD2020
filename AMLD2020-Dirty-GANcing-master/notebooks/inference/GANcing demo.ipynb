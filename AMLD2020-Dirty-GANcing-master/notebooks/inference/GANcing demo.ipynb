{
 "cells": [
  {
   "cell_type": "code",
   "execution_count": null,
   "metadata": {
    "scrolled": true
   },
   "outputs": [],
   "source": [
    "from inference_utils import GAN_inference\n",
    "\n",
    "from ipywidgets import interact, interactive, fixed, interact_manual\n",
    "import ipywidgets as widgets\n",
    "\n",
    "target_name = widgets.Combobox(options=[\"gianluca\", \"sarra\", \"corina\", \"pelayo\"], value=\"\")\n",
    "run_name = 'demo'\n",
    "target_runname = widgets.Combobox(options=[\"gianluca\", \"sarra\", \"corina\", \"pelayo\"], value=\"\")\n",
    "already_recorded = False\n",
    "    \n",
    "interact_manual(GAN_inference, target_name=target_name, run_name=run_name, target_runname=target_name, already_recorded=False)"
   ]
  },
  {
   "cell_type": "code",
   "execution_count": null,
   "metadata": {},
   "outputs": [],
   "source": []
  },
  {
   "cell_type": "code",
   "execution_count": null,
   "metadata": {},
   "outputs": [],
   "source": []
  }
 ],
 "metadata": {
  "kernelspec": {
   "display_name": "Python 3",
   "language": "python",
   "name": "python3"
  },
  "language_info": {
   "codemirror_mode": {
    "name": "ipython",
    "version": 3
   },
   "file_extension": ".py",
   "mimetype": "text/x-python",
   "name": "python",
   "nbconvert_exporter": "python",
   "pygments_lexer": "ipython3",
   "version": "3.6.8"
  }
 },
 "nbformat": 4,
 "nbformat_minor": 4
}
