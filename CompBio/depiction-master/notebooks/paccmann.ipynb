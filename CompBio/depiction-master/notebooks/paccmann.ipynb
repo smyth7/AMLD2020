{
 "cells": [
  {
   "cell_type": "markdown",
   "metadata": {},
   "source": [
    "# Understanding PaccMann"
   ]
  },
  {
   "cell_type": "code",
   "execution_count": null,
   "metadata": {},
   "outputs": [],
   "source": [
    "%%capture\n",
    "# import all the needed libraries\n",
    "import numpy as np\n",
    "import pandas as pd\n",
    "import tempfile\n",
    "from rdkit import Chem\n",
    "from sklearn.model_selection import train_test_split\n",
    "import ipywidgets as widgets\n",
    "from ipywidgets import interact, interact_manual\n",
    "from IPython.display import SVG, display\n",
    "from depiction.models.examples.paccmann import PaccMannSmiles, PaccMannCellLine\n",
    "from depiction.models.examples.paccmann.smiles import (\n",
    "    get_smiles_language, smiles_attention_to_svg,\n",
    "    process_smiles, get_atoms\n",
    ")\n",
    "from depiction.core import Task, DataType\n",
    "from depiction.interpreters.u_wash.u_washer import UWasher\n",
    "\n",
    "cache_dir = tempfile.mkdtemp()"
   ]
  },
  {
   "cell_type": "markdown",
   "metadata": {},
   "source": [
    "## Data"
   ]
  },
  {
   "cell_type": "code",
   "execution_count": null,
   "metadata": {},
   "outputs": [],
   "source": [
    "# Parse data from GDSC\n",
    "# drugs\n",
    "drugs = pd.read_csv(\n",
    "    '../data/paccmann/gdsc.smi', sep='\\t',\n",
    "    index_col=1, header=None,\n",
    "    names=['smiles']\n",
    ")\n",
    "# cell lines\n",
    "cell_lines = pd.read_csv('../data/paccmann/gdsc.csv.gz', index_col=1)\n",
    "genes = cell_lines.columns[3:].tolist()\n",
    "# sensitivity data\n",
    "drug_sensitivity = pd.read_csv('../data/paccmann/gdsc_sensitivity.csv.gz', index_col=0)\n",
    "# labels\n",
    "class_names = ['Not Effective', 'Effective']"
   ]
  },
  {
   "cell_type": "markdown",
   "metadata": {},
   "source": [
    "## Interpretability on the drug level for a cell line of interest"
   ]
  },
  {
   "cell_type": "markdown",
   "metadata": {},
   "source": [
    "### LIME and Anchor"
   ]
  },
  {
   "cell_type": "code",
   "execution_count": null,
   "metadata": {},
   "outputs": [],
   "source": [
    "# pick a cell line\n",
    "selected_cell_line = 'NCI-H1648'\n",
    "# filter and prepare data\n",
    "selected_drug_sensitivity = drug_sensitivity[\n",
    "    drug_sensitivity['cell_line'] == selected_cell_line\n",
    "]\n",
    "selected_drugs = drugs.reindex(selected_drug_sensitivity['drug']).dropna()\n",
    "selected_drug_sensitivity = selected_drug_sensitivity.set_index('drug').reindex(\n",
    "    selected_drugs.index\n",
    ").dropna()\n",
    "# setup a classifier for the specific cell line\n",
    "classifier = PaccMannSmiles(cell_lines.loc[selected_cell_line][genes].values, cache_dir=cache_dir)\n",
    "# interpretablity methods\n",
    "def interpret_smiles_with_lime(example):\n",
    "    explanation_configs = {\n",
    "        'labels': (1,),\n",
    "    }\n",
    "    interpreter_params = {\n",
    "        'class_names': class_names,\n",
    "        'split_expression': list,\n",
    "        'bow': False,\n",
    "        'char_level': True\n",
    "    }\n",
    "    explainer = UWasher('lime', classifier, **interpreter_params)\n",
    "    explainer.interpret(example, explanation_configs=explanation_configs)\n",
    "\n",
    "\n",
    "def interpret_smiles_with_anchor(example):\n",
    "    explanation_configs = {\n",
    "        'use_proba': False,\n",
    "        'batch_size': 32,\n",
    "    }\n",
    "    interpreter_params = {\n",
    "        'class_names': class_names,\n",
    "        'nlp': get_smiles_language(),\n",
    "        'unk_token': '*',\n",
    "        'sep_token': '',\n",
    "        'use_unk_distribution': True\n",
    "    }\n",
    "    explainer = UWasher('anchors', classifier, **interpreter_params)\n",
    "    def predict_wrapper(samples):\n",
    "        return np.argmax(classifier.predict(samples), axis=1)\n",
    "    explainer.interpret(example, explanation_configs=explanation_configs, callback=predict_wrapper)\n",
    "\n",
    "    \n",
    "def interpret_smiles(interpreter, drug):\n",
    "    if interpreter == 'lime':\n",
    "        interpret_smiles_with_lime(drugs.loc[drug].item())\n",
    "    else:\n",
    "        interpret_smiles_with_anchor(drugs.loc[drug].item())"
   ]
  },
  {
   "cell_type": "code",
   "execution_count": null,
   "metadata": {},
   "outputs": [],
   "source": [
    "interact_manual(\n",
    "    interpret_smiles, interpreter=['lime', 'anchor'],\n",
    "    drug=drugs.index\n",
    ");"
   ]
  },
  {
   "cell_type": "markdown",
   "metadata": {},
   "source": [
    "### What about PaccMann's attention?"
   ]
  },
  {
   "cell_type": "code",
   "execution_count": null,
   "metadata": {},
   "outputs": [],
   "source": [
    "# pick a cell line\n",
    "selected_cell_line = 'NCI-H1648'\n",
    "# setup a classifier for the specific cell line\n",
    "classifier = PaccMannSmiles(cell_lines.loc[selected_cell_line][genes].values, cache_dir=cache_dir)"
   ]
  },
  {
   "cell_type": "code",
   "execution_count": null,
   "metadata": {},
   "outputs": [],
   "source": [
    "def attention_smiles(drug):\n",
    "    try:\n",
    "        smiles = drugs.loc[drug].item()\n",
    "        molecule = Chem.MolFromSmiles(smiles)\n",
    "        atoms = get_atoms(smiles)\n",
    "        _ = classifier.predict([smiles])\n",
    "        smiles_attention = next(classifier.predictor.predictions)['smiles_attention'][0]\n",
    "        display(SVG(smiles_attention_to_svg(smiles_attention, atoms, molecule)))\n",
    "    except:\n",
    "        print('Structure visualization not supported')"
   ]
  },
  {
   "cell_type": "code",
   "execution_count": null,
   "metadata": {},
   "outputs": [],
   "source": [
    "interact(\n",
    "    attention_smiles,\n",
    "    drug=drugs.index\n",
    ");"
   ]
  },
  {
   "cell_type": "markdown",
   "metadata": {},
   "source": [
    "## Interpretability on the cell line level for a drug of interest"
   ]
  },
  {
   "cell_type": "markdown",
   "metadata": {},
   "source": [
    "### LIME and Anchor"
   ]
  },
  {
   "cell_type": "code",
   "execution_count": null,
   "metadata": {},
   "outputs": [],
   "source": [
    "# pick a drug\n",
    "selected_drug = 'Imatinib'\n",
    "# filter and prepare data\n",
    "selected_drug_sensitivity = drug_sensitivity[\n",
    "    drug_sensitivity['drug'] == selected_drug\n",
    "]\n",
    "selected_cell_lines = cell_lines.reindex(selected_drug_sensitivity['cell_line']).dropna()\n",
    "selected_drug_sensitivity = selected_drug_sensitivity.set_index('cell_line').reindex(\n",
    "    selected_cell_lines.index\n",
    ").dropna()\n",
    "X_train, X_test, y_train, y_test = train_test_split(\n",
    "    selected_cell_lines[genes].values, selected_drug_sensitivity['effective'].values\n",
    ")\n",
    "X_test, X_valid, y_test, y_valid = train_test_split(\n",
    "    X_test, y_test\n",
    ")\n",
    "# setup a classifier for the specific drug\n",
    "classifier = PaccMannCellLine(drugs.loc[selected_drug].item(), cache_dir=cache_dir)\n",
    "# interpretablity methods\n",
    "def interpret_cell_line_with_lime(example):\n",
    "    explanation_configs = {\n",
    "        'labels': (1,),\n",
    "    }\n",
    "    interpreter_params = {\n",
    "        'training_data': X_train,\n",
    "        'training_labels': y_train,\n",
    "        'feature_names': genes,\n",
    "        'class_names': class_names,\n",
    "        'discretize_continuous': False,\n",
    "        'sample_around_instance': True\n",
    "    }\n",
    "    explainer = UWasher('lime', classifier, **interpreter_params)\n",
    "    explainer.interpret(example, explanation_configs=explanation_configs)\n",
    "\n",
    "\n",
    "def interpret_cell_line_with_anchor(example):\n",
    "    explanation_configs = {}\n",
    "    interpreter_params = {\n",
    "        'feature_names': genes,\n",
    "        'class_names': class_names,\n",
    "        'categorical_names': {}\n",
    "    }\n",
    "\n",
    "    explainer = UWasher('anchors', classifier, **interpreter_params)\n",
    "    explainer.explainer.fit(\n",
    "        X_train, y_train, X_valid, y_valid\n",
    "    )\n",
    "    def predict_wrapper(samples):\n",
    "        return np.argmax(classifier.predict(samples), axis=1)\n",
    "    explainer.interpret(example, explanation_configs=explanation_configs, callback=predict_wrapper)\n",
    "\n",
    "    \n",
    "def interpret_cell_line(interpreter, cell_line):\n",
    "    if interpreter == 'lime':\n",
    "        interpret_cell_line_with_lime(\n",
    "            cell_lines.loc[cell_line][genes].values\n",
    "        )\n",
    "    else:\n",
    "        interpret_cell_line_with_anchor(\n",
    "            cell_lines.loc[cell_line][genes].values\n",
    "        )"
   ]
  },
  {
   "cell_type": "code",
   "execution_count": null,
   "metadata": {},
   "outputs": [],
   "source": [
    "interact_manual(\n",
    "    interpret_cell_line, interpreter=['lime', 'anchor'],\n",
    "    cell_line=cell_lines.index\n",
    ");"
   ]
  },
  {
   "cell_type": "markdown",
   "metadata": {},
   "source": [
    "### What about PaccMann's attention?"
   ]
  },
  {
   "cell_type": "code",
   "execution_count": null,
   "metadata": {},
   "outputs": [],
   "source": [
    "# pick a drug\n",
    "selected_drug = 'Imatinib'\n",
    "classifier = PaccMannCellLine(drugs.loc[selected_drug].item(), cache_dir=cache_dir)"
   ]
  },
  {
   "cell_type": "code",
   "execution_count": null,
   "metadata": {},
   "outputs": [],
   "source": [
    "def attention_cell_line(cell_line, top_k=10):\n",
    "    try:\n",
    "        _ = classifier.predict([cell_lines.loc[cell_line][genes].values])\n",
    "        gene_attention = next(classifier.predictor.predictions)['gene_attention'][0]\n",
    "        pd.Series(dict(zip(genes, gene_attention))).sort_values(ascending=False)[:top_k].plot.bar()\n",
    "    except:\n",
    "        print('Cell line visualization not supported')"
   ]
  },
  {
   "cell_type": "code",
   "execution_count": null,
   "metadata": {},
   "outputs": [],
   "source": [
    "interact(\n",
    "    attention_cell_line, cell_line=cell_lines.index,\n",
    "    top_k=(1, 30, 1)\n",
    ");"
   ]
  },
  {
   "cell_type": "code",
   "execution_count": null,
   "metadata": {},
   "outputs": [],
   "source": []
  }
 ],
 "metadata": {
  "kernelspec": {
   "display_name": "Python 3",
   "language": "python",
   "name": "python3"
  },
  "language_info": {
   "codemirror_mode": {
    "name": "ipython",
    "version": 3
   },
   "file_extension": ".py",
   "mimetype": "text/x-python",
   "name": "python",
   "nbconvert_exporter": "python",
   "pygments_lexer": "ipython3",
   "version": "3.6.5"
  }
 },
 "nbformat": 4,
 "nbformat_minor": 2
}
