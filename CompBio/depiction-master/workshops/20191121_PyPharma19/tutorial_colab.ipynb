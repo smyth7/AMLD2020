{
 "cells": [
  {
   "cell_type": "code",
   "execution_count": null,
   "metadata": {
    "colab": {},
    "colab_type": "code",
    "id": "BI0iVW92iSJd"
   },
   "outputs": [],
   "source": [
    "!git clone https://github.com/IBM/dl-interpretability-compbio.git\n",
    "!pip3 install dl-interpretability-compbio/"
   ]
  },
  {
   "cell_type": "code",
   "execution_count": null,
   "metadata": {
    "colab": {},
    "colab_type": "code",
    "id": "aSAvcwv1iVQO"
   },
   "outputs": [],
   "source": [
    "!pip3 install -I scikit-image>=0.14.2"
   ]
  },
  {
   "cell_type": "markdown",
   "metadata": {
    "colab_type": "text",
    "id": "UAqIrqFGiSJj"
   },
   "source": [
    "TODO NOW: Restart the runtime "
   ]
  },
  {
   "cell_type": "code",
   "execution_count": null,
   "metadata": {
    "colab": {},
    "colab_type": "code",
    "id": "Fq9eHyvuibYp"
   },
   "outputs": [],
   "source": [
    "import skimage\n",
    "print(skimage.__version__)"
   ]
  },
  {
   "cell_type": "code",
   "execution_count": null,
   "metadata": {
    "colab": {},
    "colab_type": "code",
    "id": "3MUp7-fOiSJl"
   },
   "outputs": [],
   "source": [
    "!wget https://repo.anaconda.com/archive/Anaconda3-5.2.0-Linux-x86_64.sh\n",
    "!bash Anaconda3-5.2.0-Linux-x86_64.sh -b -f -p /usr/local\n",
    "!conda install -y rdkit=2019.03.1=py36hc20afe1_1 -c https://conda.anaconda.org/rdkit"
   ]
  },
  {
   "cell_type": "code",
   "execution_count": null,
   "metadata": {
    "colab": {},
    "colab_type": "code",
    "id": "21wgjLuJiSJo"
   },
   "outputs": [],
   "source": [
    "import sys\n",
    "sys.path.insert(0, '/usr/local/lib/python3.6/site-packages')\n",
    "%cd /content/dl-interpretability-compbio/notebooks"
   ]
  },
  {
   "cell_type": "markdown",
   "metadata": {
    "colab_type": "text",
    "id": "REAVyd2-iSJr"
   },
   "source": [
    "# Training of a super simple model for celltype classification"
   ]
  },
  {
   "cell_type": "code",
   "execution_count": null,
   "metadata": {
    "colab": {},
    "colab_type": "code",
    "id": "55vponomiSJs"
   },
   "outputs": [],
   "source": [
    "import tensorflow as tf\n",
    "!which python\n",
    "!python --version\n",
    "print(tf.VERSION)\n",
    "print(tf.keras.__version__)\n",
    "!pwd #  start jupyter under notebooks/ for correct relative paths"
   ]
  },
  {
   "cell_type": "code",
   "execution_count": null,
   "metadata": {
    "colab": {},
    "colab_type": "code",
    "id": "Jawnc9gBiSJu"
   },
   "outputs": [],
   "source": [
    "import datetime\n",
    "import inspect\n",
    "import pandas as pd\n",
    "import numpy as np\n",
    "import seaborn as sns\n",
    "from tensorflow.keras import layers\n",
    "from tensorflow.keras.utils import to_categorical\n",
    "from sklearn.model_selection import train_test_split\n",
    "from sklearn.preprocessing import MinMaxScaler\n",
    "from depiction.models.examples.celltype.celltype import one_hot_encoding, one_hot_decoding"
   ]
  },
  {
   "cell_type": "markdown",
   "metadata": {
    "colab_type": "text",
    "id": "eV99rgAwiSJx"
   },
   "source": [
    "### a look at the data\n",
    "labels are categories 1-20, here's the associated celltype:"
   ]
  },
  {
   "cell_type": "code",
   "execution_count": null,
   "metadata": {
    "colab": {},
    "colab_type": "code",
    "id": "q8ZrSw9CiSJy"
   },
   "outputs": [],
   "source": [
    "meta_series = pd.read_csv('../data/single-cell/metadata.csv', index_col=0)\n",
    "meta_series"
   ]
  },
  {
   "cell_type": "markdown",
   "metadata": {
    "colab_type": "text",
    "id": "mPDAVEQmiSJ0"
   },
   "source": [
    "There are 13 unbalanced classes, and over 80k samples"
   ]
  },
  {
   "cell_type": "code",
   "execution_count": null,
   "metadata": {
    "colab": {},
    "colab_type": "code",
    "id": "GVakpKb1iSJ1"
   },
   "outputs": [],
   "source": [
    "data_df = pd.read_csv('../data/single-cell/data.csv')\n",
    "data_df.groupby('category').count()['CD45']"
   ]
  },
  {
   "cell_type": "code",
   "execution_count": null,
   "metadata": {
    "colab": {},
    "colab_type": "code",
    "id": "xb-1Jj1kiSJ3"
   },
   "outputs": [],
   "source": [
    "data_df.sample(n=10)"
   ]
  },
  {
   "cell_type": "code",
   "execution_count": null,
   "metadata": {
    "colab": {},
    "colab_type": "code",
    "id": "NsLSuRHUiSJ5"
   },
   "outputs": [],
   "source": [
    "print(inspect.getsource(one_hot_encoding)) # from keras, but taking care of 1 indexed classes\n",
    "print(inspect.getsource(one_hot_decoding))"
   ]
  },
  {
   "cell_type": "code",
   "execution_count": null,
   "metadata": {
    "colab": {},
    "colab_type": "code",
    "id": "BxWRaWAeiSJ7"
   },
   "outputs": [],
   "source": [
    "classes = data_df['category'].values\n",
    "labels = one_hot_encoding(classes)\n",
    "\n",
    "#scale the data from 0 to 1\n",
    "min_max_scaler = MinMaxScaler(feature_range=(0, 1), copy=True)\n",
    "data = min_max_scaler.fit_transform(data_df.drop('category', axis=1).values)\n",
    "data.shape"
   ]
  },
  {
   "cell_type": "code",
   "execution_count": null,
   "metadata": {
    "colab": {},
    "colab_type": "code",
    "id": "IQ8HhcwKiSJ-"
   },
   "outputs": [],
   "source": [
    "one_hot_decoding(labels)"
   ]
  },
  {
   "cell_type": "code",
   "execution_count": null,
   "metadata": {
    "colab": {},
    "colab_type": "code",
    "id": "l6eON_pCiSKA"
   },
   "outputs": [],
   "source": [
    "data_train, data_test, labels_train, labels_test = train_test_split(\n",
    "    data, labels, test_size=0.33, random_state=42, stratify=data_df.category)"
   ]
  },
  {
   "cell_type": "code",
   "execution_count": null,
   "metadata": {
    "colab": {},
    "colab_type": "code",
    "id": "S64rOJlKiSKD"
   },
   "outputs": [],
   "source": [
    "labels"
   ]
  },
  {
   "cell_type": "code",
   "execution_count": null,
   "metadata": {
    "colab": {},
    "colab_type": "code",
    "id": "aEjhisuLiSKF"
   },
   "outputs": [],
   "source": [
    "batchsize = 32"
   ]
  },
  {
   "cell_type": "code",
   "execution_count": null,
   "metadata": {
    "colab": {},
    "colab_type": "code",
    "id": "InmbMsjtiSKH"
   },
   "outputs": [],
   "source": [
    "dataset = tf.data.Dataset.from_tensor_slices((data_train, labels_train))\n",
    "dataset = dataset.shuffle(2 * batchsize).batch(batchsize)\n",
    "dataset = dataset.repeat()\n",
    "\n",
    "testset = tf.data.Dataset.from_tensor_slices((data_test, labels_test))\n",
    "testset = testset.batch(batchsize)"
   ]
  },
  {
   "cell_type": "markdown",
   "metadata": {
    "colab_type": "text",
    "id": "8rESJF4JiSKK"
   },
   "source": [
    "### I don't know how a simpler network would look like"
   ]
  },
  {
   "cell_type": "code",
   "execution_count": null,
   "metadata": {
    "colab": {},
    "colab_type": "code",
    "id": "cQtHkUufiSKK",
    "scrolled": false
   },
   "outputs": [],
   "source": [
    "model = tf.keras.Sequential()\n",
    "# Add a softmax layer with output units per celltype:\n",
    "model.add(layers.Dense(\n",
    "    len(meta_series), activation='softmax',\n",
    "    batch_input_shape=tf.data.get_output_shapes(dataset)[0]\n",
    "))"
   ]
  },
  {
   "cell_type": "code",
   "execution_count": null,
   "metadata": {
    "colab": {},
    "colab_type": "code",
    "id": "eAeszUQliSKN"
   },
   "outputs": [],
   "source": [
    "model.summary()"
   ]
  },
  {
   "cell_type": "code",
   "execution_count": null,
   "metadata": {
    "colab": {},
    "colab_type": "code",
    "id": "X7CgpdruiSKP"
   },
   "outputs": [],
   "source": [
    "model.compile(optimizer=tf.keras.optimizers.Adam(0.001),\n",
    "              loss='categorical_crossentropy',\n",
    "              metrics=[tf.keras.metrics.categorical_accuracy])"
   ]
  },
  {
   "cell_type": "code",
   "execution_count": null,
   "metadata": {
    "colab": {},
    "colab_type": "code",
    "id": "5eFeD1IIiSKR",
    "scrolled": true
   },
   "outputs": [],
   "source": [
    "# evaluation on testset on every epoch\n",
    "# log_dir=\"logs/fit/\" + datetime.datetime.now().strftime(\"%Y%m%d-%H%M%S\")\n",
    "# tensorboard_callback = tf.keras.callbacks.TensorBoard(log_dir=log_dir, histogram_freq=1)\n",
    "model.fit(\n",
    "    dataset,\n",
    "    epochs=20, steps_per_epoch=np.ceil(data_train.shape[0]/batchsize),\n",
    "    validation_data=testset, #  callbacks=[tensorboard_callback]\n",
    ")"
   ]
  },
  {
   "cell_type": "markdown",
   "metadata": {
    "colab_type": "text",
    "id": "eGPzA56qiSKV"
   },
   "source": [
    "### Is such a simple model interpretable?"
   ]
  },
  {
   "cell_type": "code",
   "execution_count": null,
   "metadata": {
    "colab": {},
    "colab_type": "code",
    "id": "TmjmEdh6iSKX"
   },
   "outputs": [],
   "source": [
    "# Save entire model to a HDF5 file\n",
    "model.save('./celltype_model.h5')"
   ]
  },
  {
   "cell_type": "code",
   "execution_count": null,
   "metadata": {
    "colab": {},
    "colab_type": "code",
    "id": "h0frkNhEiSKa"
   },
   "outputs": [],
   "source": [
    "# tensorboard --logdir logs/fit"
   ]
  },
  {
   "cell_type": "code",
   "execution_count": null,
   "metadata": {
    "colab": {},
    "colab_type": "code",
    "id": "0NNW9sjdiSKb"
   },
   "outputs": [],
   "source": [
    "# To recreate the exact same model, including weights and optimizer.\n",
    "# model = tf.keras.models.load_model('../data/models/celltype_dnn_model.h5')"
   ]
  },
  {
   "cell_type": "markdown",
   "metadata": {
    "colab_type": "text",
    "id": "2EMPgmwMiSKd"
   },
   "source": [
    "## What is the effect of increasing model complexity? \n",
    "Play around by adding some layers, train and save the model under some name to use with the other notebook."
   ]
  },
  {
   "cell_type": "markdown",
   "metadata": {
    "colab_type": "text",
    "id": "VQeWMkhxiSKe"
   },
   "source": [
    "![title](https://i.kym-cdn.com/photos/images/newsfeed/000/531/557/a88.jpg)"
   ]
  },
  {
   "cell_type": "code",
   "execution_count": null,
   "metadata": {
    "colab": {},
    "colab_type": "code",
    "id": "GpcD6psdiSKe"
   },
   "outputs": [],
   "source": [
    "model = tf.keras.Sequential()\n",
    "# Adds a densely-connected layers with 64 units to the model:\n",
    "model.add(layers.Dense(64, activation='relu', batch_input_shape=tf.data.get_output_shapes(dataset)[0])) # \n",
    "# ...\n",
    "# do whatever you want\n",
    "# model.add(layers.Dense(64, activation='relu'))\n",
    "# model.add(layers.Dropout(0.5))\n",
    "# ...\n",
    "# Add a softmax layer with output units per celltype:\n",
    "model.add(layers.Dense(len(meta_series), activation='softmax'))"
   ]
  },
  {
   "cell_type": "code",
   "execution_count": null,
   "metadata": {
    "colab": {},
    "colab_type": "code",
    "id": "ev4jSLwDinZm"
   },
   "outputs": [],
   "source": [
    "%reset"
   ]
  },
  {
   "cell_type": "markdown",
   "metadata": {
    "colab_type": "text",
    "id": "y9eFrzKRiSKh"
   },
   "source": [
    "# Interpreting Cell Typer"
   ]
  },
  {
   "cell_type": "code",
   "execution_count": null,
   "metadata": {
    "colab": {},
    "colab_type": "code",
    "id": "6DENxkXAiSKi"
   },
   "outputs": [],
   "source": [
    "import pandas as pd\n",
    "import numpy as np\n",
    "import seaborn as sns\n",
    "import ipywidgets as widgets\n",
    "from ipywidgets import interact, interact_manual\n",
    "from sklearn.model_selection import train_test_split\n",
    "from sklearn.preprocessing import MinMaxScaler\n",
    "from depiction.models.base.base_model import BaseModel\n",
    "from depiction.models.examples.celltype.celltype import CellTyper\n",
    "from depiction.interpreters.u_wash.u_washer import UWasher\n",
    "from depiction.interpreters.alibi import Counterfactual\n",
    "from depiction.interpreters.aix360.rule_based_model import RuleAIX360\n",
    "from depiction.models.base import BinarizedClassifier\n",
    "from depiction.core import Task, DataType\n",
    "from tensorflow import keras"
   ]
  },
  {
   "cell_type": "markdown",
   "metadata": {
    "colab_type": "text",
    "id": "ngLakJpmiSKk"
   },
   "source": [
    "### Data"
   ]
  },
  {
   "cell_type": "code",
   "execution_count": null,
   "metadata": {
    "colab": {},
    "colab_type": "code",
    "id": "EYzJqtxAiSKk"
   },
   "outputs": [],
   "source": [
    "# Load data \n",
    "datapath = '../data/single-cell/data.csv'\n",
    "data_df = pd.read_csv(datapath)\n",
    "\n",
    "#scale the data from 0 to 1\n",
    "min_max_scaler = MinMaxScaler(feature_range=(0, 1), copy=True)\n",
    "data = min_max_scaler.fit_transform(data_df.drop('category', axis=1).values)\n",
    "data_df = pd.DataFrame(\n",
    "    np.append(data, data_df['category'].values[:, None], axis=1), index=data_df.index, columns=data_df.columns\n",
    ")\n",
    "\n",
    "#  split as in traing of the model\n",
    "train_df, test_df = train_test_split(data_df, test_size=0.33, random_state=42, stratify=data_df.category)\n",
    "test_df, valid_df = train_test_split(test_df, test_size=0.67, random_state=42, stratify=test_df.category)\n",
    "\n",
    "\n",
    "train_df.head()"
   ]
  },
  {
   "cell_type": "code",
   "execution_count": null,
   "metadata": {
    "colab": {},
    "colab_type": "code",
    "id": "MRzHOTWqiSKm"
   },
   "outputs": [],
   "source": [
    "markers = train_df.columns[:-1]\n",
    "\n",
    "X_train = train_df[markers].values\n",
    "X_test = test_df[markers].values\n",
    "X_valid = valid_df[markers].values\n",
    "\n",
    "y_train = train_df['category'].values.astype(np.int)\n",
    "y_test = test_df['category'].values.astype(np.int)\n",
    "y_valid = valid_df['category'].values.astype(np.int)\n"
   ]
  },
  {
   "cell_type": "code",
   "execution_count": null,
   "metadata": {
    "colab": {},
    "colab_type": "code",
    "id": "P8T5vhFGiSKo"
   },
   "outputs": [],
   "source": [
    "sns.countplot(data_df.category)\n",
    "CellTyper.celltype_names"
   ]
  },
  {
   "cell_type": "markdown",
   "metadata": {
    "colab_type": "text",
    "id": "Kjs3N2JyiSKq"
   },
   "source": [
    "### Loading a pretrained model\n",
    "is actually done under the hood by a child implementation of `depiction.models.uri.HTTPModel`. \n",
    "Change `filename`, `cache_dir` (with fixed subdir `models/`) and/or `origin` to load/download a different model.\n",
    "Or have a look at other uri models, e.g `FileSystemModel` or `RESTAPIModel`."
   ]
  },
  {
   "cell_type": "code",
   "execution_count": null,
   "metadata": {
    "colab": {},
    "colab_type": "code",
    "id": "OYAIrv76iSKr"
   },
   "outputs": [],
   "source": [
    "# Import trained classifier\n",
    "classifier = CellTyper(filename='celltype_model.h5', cache_dir='/Users/dow/Box/Molecular_SysBio/data/dl-interpretability-compbio')  # FIX"
   ]
  },
  {
   "cell_type": "code",
   "execution_count": null,
   "metadata": {
    "colab": {},
    "colab_type": "code",
    "id": "aH3BX_a6iSKu"
   },
   "outputs": [],
   "source": [
    "classifier.model.summary()"
   ]
  },
  {
   "cell_type": "markdown",
   "metadata": {
    "colab_type": "text",
    "id": "XBrX2_iMiSKx"
   },
   "source": [
    "### Layer weights"
   ]
  },
  {
   "cell_type": "code",
   "execution_count": null,
   "metadata": {
    "colab": {},
    "colab_type": "code",
    "id": "rdqdqiGKiSKx"
   },
   "outputs": [],
   "source": [
    "weights = classifier.model.layers[0].get_weights()[0]\n",
    "sns.heatmap(pd.DataFrame(\n",
    "    weights,\n",
    "    index=markers,\n",
    "#     columns=CellTyper.celltype_names.values()\n",
    ").T)"
   ]
  },
  {
   "cell_type": "markdown",
   "metadata": {
    "colab_type": "text",
    "id": "M15PQCQxiSKz"
   },
   "source": [
    "Compare qualitatively to __B__ and **C** (thought the image is not depicting this exact dataset)\n",
    "![manual_gated](https://science.sciencemag.org/content/sci/332/6030/687/F2.large.jpg?width=800&height=600&carousel=1)\n",
    "from https://science.sciencemag.org/content/332/6030/687/tab-figures-data"
   ]
  },
  {
   "cell_type": "markdown",
   "metadata": {
    "colab_type": "text",
    "id": "MNpC4qYIiSK0"
   },
   "source": [
    "helper/widget functions"
   ]
  },
  {
   "cell_type": "code",
   "execution_count": null,
   "metadata": {
    "colab": {},
    "colab_type": "code",
    "id": "eE0UnzXjiSK0"
   },
   "outputs": [],
   "source": [
    "def random_from_class(label):\n",
    "    id_sample_to_explain = test_df.reset_index().query('category==@label').sample(n=1).index[0]\n",
    "    print('Interpreting sample with index {} in test_df'.format(id_sample_to_explain))\n",
    "    return id_sample_to_explain\n",
    "\n"
   ]
  },
  {
   "cell_type": "code",
   "execution_count": null,
   "metadata": {
    "colab": {},
    "colab_type": "code",
    "id": "MlDToOWuiSK2"
   },
   "outputs": [],
   "source": [
    "def visualize_logits(id_sample_to_explain):\n",
    "    sample = X_test[id_sample_to_explain]\n",
    "    logits = pd.DataFrame(classifier.predict([[sample]]), columns=CellTyper.celltype_names.values()).T\n",
    "    sns.heatmap(logits)\n",
    "\n",
    "\n",
    "def visualize(id_sample_to_explain, layer):\n",
    "    sample = X_test[id_sample_to_explain]\n",
    "    if layer is None:\n",
    "        visualize_logits(id_sample_to_explain)\n",
    "        return\n",
    "    elif layer==0:\n",
    "        # output of last \"layer\" is the sample\n",
    "        layer_output = sample.transpose()\n",
    "    else:\n",
    "        # for vizualization of output of a layer we access the model\n",
    "        activation_model = keras.models.Model(\n",
    "            inputs=classifier.model.input,\n",
    "            outputs=classifier.model.layers[layer-1].output\n",
    "        )\n",
    "        layer_output = activation_model.predict([[sample]])[0]\n",
    "    \n",
    "    weights = classifier.model.layers[layer].get_weights()[0]\n",
    "    weighted_output = (weights.transpose() * layer_output)\n",
    "    sns.heatmap(weighted_output)\n",
    "\n",
    "\n",
    "def visualize_random_from_class(label, layer):\n",
    "    visualize(random_from_class(label), layer)\n",
    "\n"
   ]
  },
  {
   "cell_type": "code",
   "execution_count": null,
   "metadata": {
    "colab": {},
    "colab_type": "code",
    "id": "fSnQhwUNiSK3"
   },
   "outputs": [],
   "source": [
    "interact_manual(\n",
    "    visualize_random_from_class,\n",
    "    label=[(v, k) for k, v in classifier.celltype_names.items()],\n",
    "    layer=dict(\n",
    "        **{layer.name: i for i, layer in enumerate(classifier.model.layers)}, logits=None\n",
    "    )\n",
    ");"
   ]
  },
  {
   "cell_type": "code",
   "execution_count": null,
   "metadata": {
    "colab": {},
    "colab_type": "code",
    "id": "C-miVx5niSK5"
   },
   "outputs": [],
   "source": [
    "visualize_logits(4368)"
   ]
  },
  {
   "cell_type": "markdown",
   "metadata": {
    "colab_type": "text",
    "id": "udEv_avZiSK7"
   },
   "source": [
    "## Interpretability methods\n",
    "starting with \"local\" methods, explaining a given sample."
   ]
  },
  {
   "cell_type": "markdown",
   "metadata": {
    "colab_type": "text",
    "id": "iC6x1bWYiSK7"
   },
   "source": [
    "### Lime"
   ]
  },
  {
   "cell_type": "code",
   "execution_count": null,
   "metadata": {
    "colab": {},
    "colab_type": "code",
    "id": "0LRUbxytiSK8"
   },
   "outputs": [],
   "source": [
    "# Create a LIME tabular interpreter\n",
    "lime_params = {\n",
    "    'training_data': X_train,\n",
    "    'training_labels': y_train,\n",
    "    'feature_names': markers,\n",
    "    'verbose': True,\n",
    "    'class_names': classifier.celltype_names.values(),\n",
    "    'discretize_continuous': False,\n",
    "    'sample_around_instance': True\n",
    "}\n",
    "\n",
    "lime = UWasher(\"lime\", classifier, **lime_params)"
   ]
  },
  {
   "cell_type": "markdown",
   "metadata": {
    "colab_type": "text",
    "id": "-6qrEnSbiSK-"
   },
   "source": [
    "### Anchor"
   ]
  },
  {
   "cell_type": "code",
   "execution_count": null,
   "metadata": {
    "colab": {},
    "colab_type": "code",
    "id": "ZumEHjyyiSK-"
   },
   "outputs": [],
   "source": [
    "anchors_params = {\n",
    "    'feature_names': markers,\n",
    "    'class_names': classifier.celltype_names.values(),\n",
    "    'categorical_names': {}\n",
    "}\n",
    "fit_params = {  # depiction fits the anchor (tabular) on contruction.\n",
    "    'train_data': X_train,\n",
    "    'train_labels': y_train,\n",
    "    'validation_data': X_valid,\n",
    "    'validation_labels': y_valid\n",
    "}\n",
    "\n",
    "anchors = UWasher('anchors', classifier, **fit_params, **anchors_params)"
   ]
  },
  {
   "cell_type": "markdown",
   "metadata": {
    "colab_type": "text",
    "id": "puFPXmFMiSLA"
   },
   "source": [
    "### Counterfactual"
   ]
  },
  {
   "cell_type": "code",
   "execution_count": null,
   "metadata": {
    "colab": {},
    "colab_type": "code",
    "id": "ux8jtGm4iSLA"
   },
   "outputs": [],
   "source": [
    "counterfactual_params = {\n",
    "    # setting some parameters\n",
    "    'shape': (1, 13), # with batch size\n",
    "    'target_proba': 1.0,\n",
    "    'tol': 0.1, # tolerance for counterfactuals\n",
    "    'max_iter': 10,\n",
    "    'lam_init': 1e-1,\n",
    "    'max_lam_steps': 10,\n",
    "    'learning_rate_init': 0.1,\n",
    "    'feature_range': (X_train.min(),X_train.max())\n",
    "}\n",
    "\n",
    "counterfactual = Counterfactual(\n",
    "    classifier,\n",
    "    target_class='other',  # any other class\n",
    "    **counterfactual_params,\n",
    ")\n"
   ]
  },
  {
   "cell_type": "markdown",
   "metadata": {
    "colab_type": "text",
    "id": "2TZuV4qZiSLC"
   },
   "source": [
    "helper/widget functions"
   ]
  },
  {
   "cell_type": "code",
   "execution_count": null,
   "metadata": {
    "colab": {},
    "colab_type": "code",
    "id": "5RX1nHYeiSLD"
   },
   "outputs": [],
   "source": [
    "def interpret_with_lime(id_sample_to_explain):\n",
    "    \"\"\"Explain the chosen instance wrt the chosen label.\"\"\"\n",
    "    lime.interpret(X_test[id_sample_to_explain], explanation_configs={'top_labels': 1})\n",
    "\n",
    "\n",
    "def anchor_callback(sample, **kwargs):\n",
    "    \"\"\"Explain the chosen instance wrt the chosen labels.\"\"\"\n",
    "    return np.argmax(classifier.predict(sample,**kwargs), axis=1)\n",
    "\n",
    "\n",
    "def interpret_with_anchor(id_sample_to_explain):\n",
    "    anchors.interpret(X_test[id_sample_to_explain], explanation_configs={},callback=anchor_callback)\n",
    "\n",
    "\n",
    "def interpret_with_counterfactual(id_sample_to_explain):\n",
    "    \"\"\"Explain the chosen instance wrt the chosen label.\"\"\"\n",
    "    explanation = counterfactual.interpret(np.expand_dims(X_test[id_sample_to_explain], axis=0))  # with batch size\n",
    "    predicted_class = explanation['cf']['class']\n",
    "    probability = explanation['cf']['proba'][0][predicted_class]\n",
    "    print(f'Counterfactual prediction: {predicted_class} with probability {probability}')\n",
    "    print(explanation['cf']['X'])\n"
   ]
  },
  {
   "cell_type": "code",
   "execution_count": null,
   "metadata": {
    "colab": {},
    "colab_type": "code",
    "id": "_QOXqYlUjRwQ"
   },
   "outputs": [],
   "source": [
    "interpret_with_lime(4368)"
   ]
  },
  {
   "cell_type": "code",
   "execution_count": null,
   "metadata": {
    "colab": {},
    "colab_type": "code",
    "id": "ok_mixlIiSLI"
   },
   "outputs": [],
   "source": [
    "interpret_with_anchor(4368)"
   ]
  },
  {
   "cell_type": "code",
   "execution_count": null,
   "metadata": {
    "colab": {},
    "colab_type": "code",
    "id": "Qhl8HCDVjRIJ"
   },
   "outputs": [],
   "source": [
    "interpret_with_counterfactual(4368)"
   ]
  },
  {
   "cell_type": "markdown",
   "metadata": {
    "colab_type": "text",
    "id": "g_CH6WLEiSLK"
   },
   "source": [
    "## Global interpretation with rule-based models "
   ]
  },
  {
   "cell_type": "code",
   "execution_count": null,
   "metadata": {
    "colab": {},
    "colab_type": "code",
    "id": "49qpykyBiSLL"
   },
   "outputs": [],
   "source": [
    "LABEL2ID = {CellTyper.celltype_names[i]: i for i in CellTyper.celltype_names.keys()}"
   ]
  },
  {
   "cell_type": "code",
   "execution_count": null,
   "metadata": {
    "colab": {},
    "colab_type": "code",
    "id": "lZjxJ4hFiSLM"
   },
   "outputs": [],
   "source": [
    "LABEL_TO_EXPLAIN = 'Mature CD4+ T'\n",
    "LABEL_ID = LABEL2ID[LABEL_TO_EXPLAIN]"
   ]
  },
  {
   "cell_type": "markdown",
   "metadata": {
    "colab_type": "text",
    "id": "kE7hBlIGiSLP"
   },
   "source": [
    "### Data preparation and auxiliary functions"
   ]
  },
  {
   "cell_type": "code",
   "execution_count": null,
   "metadata": {
    "colab": {},
    "colab_type": "code",
    "id": "_tV-CwjwiSLP"
   },
   "outputs": [],
   "source": [
    "# Binarize the task to use this method\n",
    "model = BinarizedClassifier(classifier, data_type=DataType.TABULAR, label_index=LABEL_ID)"
   ]
  },
  {
   "cell_type": "markdown",
   "metadata": {
    "colab_type": "text",
    "id": "KhFhOYehiSLQ"
   },
   "source": [
    "### Post-Hoc explanation "
   ]
  },
  {
   "cell_type": "markdown",
   "metadata": {
    "colab_type": "text",
    "id": "B3GzOI4niSLR"
   },
   "source": [
    "#### BRCG"
   ]
  },
  {
   "cell_type": "code",
   "execution_count": null,
   "metadata": {
    "colab": {},
    "colab_type": "code",
    "id": "6oq_RSfxiSLR"
   },
   "outputs": [],
   "source": [
    "interpreter = RuleAIX360('brcg', X=X_train, model=model)\n",
    "interpreter.interpret()"
   ]
  },
  {
   "cell_type": "markdown",
   "metadata": {
    "colab_type": "text",
    "id": "a_J86oImiSLT"
   },
   "source": [
    "#### GLRM - Linear"
   ]
  },
  {
   "cell_type": "code",
   "execution_count": null,
   "metadata": {
    "colab": {},
    "colab_type": "code",
    "id": "0Tz1yzsjiSLU"
   },
   "outputs": [],
   "source": [
    "interpreter = RuleAIX360('glrm_linear', X=X_train, model=model)\n",
    "interpreter.interpret()"
   ]
  },
  {
   "cell_type": "markdown",
   "metadata": {
    "colab_type": "text",
    "id": "i8X06lUMiSLV"
   },
   "source": [
    "#### GLRM - Logistic"
   ]
  },
  {
   "cell_type": "code",
   "execution_count": null,
   "metadata": {
    "colab": {},
    "colab_type": "code",
    "id": "KPZiAcWAiSLW"
   },
   "outputs": [],
   "source": [
    "interpreter = RuleAIX360('glrm_logistic', X=X_train, model=model)\n",
    "interpreter.interpret()"
   ]
  },
  {
   "cell_type": "markdown",
   "metadata": {
    "colab_type": "text",
    "id": "xtK1dmS7iSLX"
   },
   "source": [
    "### Ante-Hoc explanation"
   ]
  },
  {
   "cell_type": "code",
   "execution_count": null,
   "metadata": {
    "colab": {},
    "colab_type": "code",
    "id": "BvgKj6WRiSLY"
   },
   "outputs": [],
   "source": [
    "y_train_binary = y_train == LABEL_ID"
   ]
  },
  {
   "cell_type": "markdown",
   "metadata": {
    "colab_type": "text",
    "id": "xdysL5mtiSLa"
   },
   "source": [
    "#### BRCG"
   ]
  },
  {
   "cell_type": "code",
   "execution_count": null,
   "metadata": {
    "colab": {},
    "colab_type": "code",
    "id": "NLI3f8OOiSLa"
   },
   "outputs": [],
   "source": [
    "interpreter = RuleAIX360('brcg', X=X_train, y=y_train_binary)\n",
    "interpreter.interpret()"
   ]
  },
  {
   "cell_type": "markdown",
   "metadata": {
    "colab_type": "text",
    "id": "wQbK3FbBiSLc"
   },
   "source": [
    "#### GLRM - Linear"
   ]
  },
  {
   "cell_type": "code",
   "execution_count": null,
   "metadata": {
    "colab": {},
    "colab_type": "code",
    "id": "toLPn-R8iSLc"
   },
   "outputs": [],
   "source": [
    "interpreter = RuleAIX360('glrm_linear', X=X_train, y=y_train_binary)\n",
    "interpreter.interpret()"
   ]
  },
  {
   "cell_type": "markdown",
   "metadata": {
    "colab_type": "text",
    "id": "37c9s7hdiSLd"
   },
   "source": [
    "#### GLRM - Logistic"
   ]
  },
  {
   "cell_type": "code",
   "execution_count": null,
   "metadata": {
    "colab": {},
    "colab_type": "code",
    "id": "0D1TeBo4iSLe"
   },
   "outputs": [],
   "source": [
    "interpreter = RuleAIX360('glrm_logistic', X=X_train, y=y_train_binary)\n",
    "interpreter.interpret()"
   ]
  },
  {
   "cell_type": "code",
   "execution_count": null,
   "metadata": {
    "colab": {},
    "colab_type": "code",
    "id": "pXaAyU_VjmwD"
   },
   "outputs": [],
   "source": [
    "%reset"
   ]
  },
  {
   "cell_type": "markdown",
   "metadata": {
    "colab_type": "text",
    "id": "kMbwiDk_iSLf"
   },
   "source": [
    "# Having fun with DeepBind"
   ]
  },
  {
   "cell_type": "code",
   "execution_count": null,
   "metadata": {
    "colab": {},
    "colab_type": "code",
    "id": "0C6L0pJYiSLf"
   },
   "outputs": [],
   "source": [
    "from depiction.models.examples.deepbind.deepbind_cli import DeepBind\n",
    "from depiction.core import Task, DataType\n",
    "from depiction.interpreters.u_wash.u_washer import UWasher\n",
    "from depiction.models.examples.deepbind.deepbind_cli import create_DNA_language\n",
    "from ipywidgets import interact"
   ]
  },
  {
   "cell_type": "markdown",
   "metadata": {
    "colab_type": "text",
    "id": "WGelUbnEiSLh"
   },
   "source": [
    "### Setup task"
   ]
  },
  {
   "cell_type": "code",
   "execution_count": null,
   "metadata": {
    "colab": {},
    "colab_type": "code",
    "id": "-_TDAJpniSLh"
   },
   "outputs": [],
   "source": [
    "class_names = ['NOT BINDING', 'BINDING']\n",
    "tf_factor_id = 'D00328.003' # CTCF\n",
    "classifier = DeepBind(tf_factor_id = tf_factor_id)"
   ]
  },
  {
   "cell_type": "markdown",
   "metadata": {
    "colab_type": "text",
    "id": "MhycDJg1iSLl"
   },
   "source": [
    "## Instantiate the interpreters"
   ]
  },
  {
   "cell_type": "code",
   "execution_count": null,
   "metadata": {
    "colab": {},
    "colab_type": "code",
    "id": "tBVe1f1fiSLl"
   },
   "outputs": [],
   "source": [
    "# Create a LIME text interpreter\n",
    "interpreter = 'lime'\n",
    "lime_explanation_configs = {\n",
    "    'labels': (1,),\n",
    "}\n",
    "interpreter_params = {\n",
    "    'class_names': class_names,\n",
    "    'split_expression': list,\n",
    "    'bow': False,\n",
    "    'char_level': True\n",
    "}\n",
    "\n",
    "lime_explainer = UWasher(interpreter, classifier, **interpreter_params)\n",
    "\n",
    "# Create Anchor text intepreter\n",
    "interpreter = 'anchors'\n",
    "anchors_explanation_configs = {\n",
    "    'use_proba': False,\n",
    "    'batch_size': 100\n",
    "}\n",
    "interpreter_params = {\n",
    "    'class_names': class_names,\n",
    "    'nlp': create_DNA_language(),\n",
    "    'unk_token': 'N',\n",
    "    'sep_token': '',\n",
    "    'use_unk_distribution': True\n",
    "}\n",
    "\n",
    "anchor_explainer = UWasher(interpreter, classifier, **interpreter_params)"
   ]
  },
  {
   "cell_type": "markdown",
   "metadata": {
    "colab_type": "text",
    "id": "TiJgyKaJiSLq"
   },
   "source": [
    "## Let's use LIME and Anchors"
   ]
  },
  {
   "cell_type": "code",
   "execution_count": null,
   "metadata": {
    "colab": {},
    "colab_type": "code",
    "id": "j7y4z_6miSLr"
   },
   "outputs": [],
   "source": [
    "# sequences = [\n",
    "#        'AGGCTAGCTAGGGGCGCCC', 'AGGCTAGCTAGGGGCGCTT', 'AGGGTAGCTAGGGGCGCTT',\n",
    "#        'AGGGTAGCTGGGGGCGCTT', 'AGGCTAGGTGGGGGCGCTT', 'AGGCTCGGTGGGGGCGCTT',\n",
    "#        'AGGCTCGGTAGGGGGCGATT'\n",
    "#    ]\n",
    "sequence = 'AGGCTCGGTAGGGGGCGATT'\n",
    "\n",
    "classifier.use_labels = False\n",
    "lime_explainer.interpret(sequence, explanation_configs=lime_explanation_configs)\n",
    "\n",
    "classifier.use_labels = True\n",
    "anchor_explainer.interpret(sequence, explanation_configs=anchors_explanation_configs)"
   ]
  },
  {
   "cell_type": "markdown",
   "metadata": {
    "colab_type": "text",
    "id": "ZDZmQgtpiSLt"
   },
   "source": [
    "CTCF binding motif\n",
    "![CTCF binding motif](https://media.springernature.com/full/springer-static/image/art%3A10.1186%2Fgb-2009-10-11-r131/MediaObjects/13059_2009_Article_2281_Fig2_HTML.jpg?as=webp)\n",
    "from Essien, Kobby, et al. \"CTCF binding site classes exhibit distinct evolutionary, genomic, epigenomic and transcriptomic features.\" Genome biology 10.11 (2009): R131."
   ]
  },
  {
   "cell_type": "code",
   "execution_count": null,
   "metadata": {
    "colab": {},
    "colab_type": "code",
    "id": "3cP4GKyXiSLt"
   },
   "outputs": [],
   "source": [
    "tf_factor_id = 'D00761.001' # FOXA1\n",
    "classifier.tf_factor_id = tf_factor_id"
   ]
  },
  {
   "cell_type": "code",
   "execution_count": null,
   "metadata": {
    "colab": {},
    "colab_type": "code",
    "id": "xSwBJ-gakCMb"
   },
   "outputs": [],
   "source": [
    "sequence = 'TGTGTGTGTG'\n",
    "\n",
    "classifier.use_labels = False\n",
    "lime_explainer.interpret(sequence, explanation_configs=lime_explanation_configs)\n",
    "\n",
    "classifier.use_labels = True\n",
    "anchor_explainer.interpret(sequence, explanation_configs=anchors_explanation_configs)"
   ]
  },
  {
   "cell_type": "markdown",
   "metadata": {
    "colab_type": "text",
    "id": "8teB12aXiSLu"
   },
   "source": [
    "FOXA1 binding motif\n",
    "![FOXA1 binding motif](https://ismara.unibas.ch/supp/dataset1_IBM_v2/ismara_report/logos/FOXA1.png)\n",
    "from https://ismara.unibas.ch/supp/dataset1_IBM_v2/ismara_report/pages/FOXA1.html"
   ]
  },
  {
   "cell_type": "code",
   "execution_count": null,
   "metadata": {
    "colab": {},
    "colab_type": "code",
    "id": "Er_2zKiNkFm8"
   },
   "outputs": [],
   "source": [
    "%reset"
   ]
  },
  {
   "cell_type": "markdown",
   "metadata": {
    "colab_type": "text",
    "id": "zKE7J7g-iSLv"
   },
   "source": [
    "# Understanding PaccMann"
   ]
  },
  {
   "cell_type": "code",
   "execution_count": null,
   "metadata": {
    "colab": {},
    "colab_type": "code",
    "id": "2jD1S2g5iSLv"
   },
   "outputs": [],
   "source": [
    "%%capture\n",
    "# import all the needed libraries\n",
    "import numpy as np\n",
    "import pandas as pd\n",
    "import tempfile\n",
    "from rdkit import Chem\n",
    "from sklearn.model_selection import train_test_split\n",
    "import ipywidgets as widgets\n",
    "from ipywidgets import interact, interact_manual\n",
    "from IPython.display import SVG, display\n",
    "from depiction.models.examples.paccmann import PaccMannSmiles, PaccMannCellLine\n",
    "from depiction.models.examples.paccmann.smiles import (\n",
    "    get_smiles_language, smiles_attention_to_svg,\n",
    "    process_smiles, get_atoms\n",
    ")\n",
    "from depiction.core import Task, DataType\n",
    "from depiction.interpreters.u_wash.u_washer import UWasher\n",
    "\n",
    "cache_dir = tempfile.mkdtemp()"
   ]
  },
  {
   "cell_type": "markdown",
   "metadata": {
    "colab_type": "text",
    "id": "T0zz9L-CiSLz"
   },
   "source": [
    "### Data"
   ]
  },
  {
   "cell_type": "code",
   "execution_count": null,
   "metadata": {
    "colab": {},
    "colab_type": "code",
    "id": "lLpPOiwiiSL0"
   },
   "outputs": [],
   "source": [
    "# Parse data from GDSC\n",
    "# drugs\n",
    "drugs = pd.read_csv(\n",
    "    '../data/paccmann/gdsc.smi', sep='\\t',\n",
    "    index_col=1, header=None,\n",
    "    names=['smiles']\n",
    ")\n",
    "# cell lines\n",
    "cell_lines = pd.read_csv('../data/paccmann/gdsc.csv.gz', index_col=1)\n",
    "genes = cell_lines.columns[3:].tolist()\n",
    "# sensitivity data\n",
    "drug_sensitivity = pd.read_csv('../data/paccmann/gdsc_sensitivity.csv.gz', index_col=0)\n",
    "# labels\n",
    "class_names = ['Not Effective', 'Effective']"
   ]
  },
  {
   "cell_type": "markdown",
   "metadata": {
    "colab_type": "text",
    "id": "__OHTJMjiSL2"
   },
   "source": [
    "### Interpretability on the drug level for a cell line of interest"
   ]
  },
  {
   "cell_type": "markdown",
   "metadata": {
    "colab_type": "text",
    "id": "VPXGSQ8PiSL2"
   },
   "source": [
    "#### LIME and Anchor"
   ]
  },
  {
   "cell_type": "code",
   "execution_count": null,
   "metadata": {
    "colab": {},
    "colab_type": "code",
    "id": "goRqf0l8iSL3"
   },
   "outputs": [],
   "source": [
    "# pick a cell line\n",
    "selected_cell_line = 'NCI-H1648'\n",
    "# filter and prepare data\n",
    "selected_drug_sensitivity = drug_sensitivity[\n",
    "    drug_sensitivity['cell_line'] == selected_cell_line\n",
    "]\n",
    "selected_drugs = drugs.reindex(selected_drug_sensitivity['drug']).dropna()\n",
    "selected_drug_sensitivity = selected_drug_sensitivity.set_index('drug').reindex(\n",
    "    selected_drugs.index\n",
    ").dropna()\n",
    "# setup a classifier for the specific cell line\n",
    "classifier = PaccMannSmiles(cell_lines.loc[selected_cell_line][genes].values, cache_dir=cache_dir)\n",
    "# interpretablity methods\n",
    "def interpret_smiles_with_lime(example):\n",
    "    explanation_configs = {\n",
    "        'labels': (1,),\n",
    "    }\n",
    "    interpreter_params = {\n",
    "        'class_names': class_names,\n",
    "        'split_expression': list,\n",
    "        'bow': False,\n",
    "        'char_level': True\n",
    "    }\n",
    "    explainer = UWasher('lime', classifier, **interpreter_params)\n",
    "    explainer.interpret(example, explanation_configs=explanation_configs)\n",
    "\n",
    "\n",
    "def interpret_smiles_with_anchor(example):\n",
    "    explanation_configs = {\n",
    "        'use_proba': False,\n",
    "        'batch_size': 32,\n",
    "    }\n",
    "    interpreter_params = {\n",
    "        'class_names': class_names,\n",
    "        'nlp': get_smiles_language(),\n",
    "        'unk_token': '*',\n",
    "        'sep_token': '',\n",
    "        'use_unk_distribution': True\n",
    "    }\n",
    "    explainer = UWasher('anchors', classifier, **interpreter_params)\n",
    "    def predict_wrapper(samples):\n",
    "        return np.argmax(classifier.predict(samples), axis=1)\n",
    "    explainer.interpret(example, explanation_configs=explanation_configs, callback=predict_wrapper)\n",
    "\n",
    "    \n",
    "def interpret_smiles(interpreter, drug):\n",
    "    if interpreter == 'lime':\n",
    "        interpret_smiles_with_lime(drugs.loc[drug].item())\n",
    "    else:\n",
    "        interpret_smiles_with_anchor(drugs.loc[drug].item())"
   ]
  },
  {
   "cell_type": "code",
   "execution_count": null,
   "metadata": {
    "colab": {},
    "colab_type": "code",
    "id": "YKOVmjtIiSL5"
   },
   "outputs": [],
   "source": [
    "# Dummy just to visualize the drugs neatly in Colab\n",
    "interact_manual(\n",
    "    lambda drug: print(drug), \n",
    "    drug=drugs.index\n",
    ");"
   ]
  },
  {
   "cell_type": "code",
   "execution_count": null,
   "metadata": {
    "colab": {},
    "colab_type": "code",
    "id": "Zu-CDGwgkRuh"
   },
   "outputs": [],
   "source": [
    "interpret_smiles_with_lime(drugs.loc['PHA-793887'].item())"
   ]
  },
  {
   "cell_type": "code",
   "execution_count": null,
   "metadata": {
    "colab": {},
    "colab_type": "code",
    "id": "BImYLoe3kUZa"
   },
   "outputs": [],
   "source": [
    "interpret_smiles_with_anchor(drugs.loc['PHA-793887'].item())"
   ]
  },
  {
   "cell_type": "markdown",
   "metadata": {
    "colab_type": "text",
    "id": "uAkABHTeiSL7"
   },
   "source": [
    "#### What about PaccMann's attention?"
   ]
  },
  {
   "cell_type": "code",
   "execution_count": null,
   "metadata": {
    "colab": {},
    "colab_type": "code",
    "id": "sUbhTly4iSL7"
   },
   "outputs": [],
   "source": [
    "# pick a cell line\n",
    "selected_cell_line = 'NCI-H1648'\n",
    "# setup a classifier for the specific cell line\n",
    "classifier = PaccMannSmiles(cell_lines.loc[selected_cell_line][genes].values, cache_dir=cache_dir)"
   ]
  },
  {
   "cell_type": "code",
   "execution_count": null,
   "metadata": {
    "colab": {},
    "colab_type": "code",
    "id": "qaTxmpA3iSL8"
   },
   "outputs": [],
   "source": [
    "def attention_smiles(drug):\n",
    "    try:\n",
    "        smiles = drugs.loc[drug].item()\n",
    "        molecule = Chem.MolFromSmiles(smiles)\n",
    "        atoms = get_atoms(smiles)\n",
    "        _ = classifier.predict([smiles])\n",
    "        smiles_attention = next(classifier.predictor.predictions)['smiles_attention'][0]\n",
    "        display(SVG(smiles_attention_to_svg(smiles_attention, atoms, molecule)))\n",
    "    except:\n",
    "        print('Structure visualization not supported')"
   ]
  },
  {
   "cell_type": "code",
   "execution_count": null,
   "metadata": {
    "colab": {},
    "colab_type": "code",
    "id": "362fNGJOiSL-"
   },
   "outputs": [],
   "source": [
    "interact(\n",
    "    attention_smiles,\n",
    "    drug=drugs.index\n",
    ");"
   ]
  },
  {
   "cell_type": "markdown",
   "metadata": {
    "colab_type": "text",
    "id": "mRCCc8ONiSL_"
   },
   "source": [
    "### Interpretability on the cell line level for a drug of interest"
   ]
  },
  {
   "cell_type": "markdown",
   "metadata": {
    "colab_type": "text",
    "id": "b1Mh0ApkiSL_"
   },
   "source": [
    "#### LIME and Anchor"
   ]
  },
  {
   "cell_type": "code",
   "execution_count": null,
   "metadata": {
    "colab": {},
    "colab_type": "code",
    "id": "fjcSoA67iSMA"
   },
   "outputs": [],
   "source": [
    "# pick a drug\n",
    "selected_drug = 'Imatinib'\n",
    "# filter and prepare data\n",
    "selected_drug_sensitivity = drug_sensitivity[\n",
    "    drug_sensitivity['drug'] == selected_drug\n",
    "]\n",
    "selected_cell_lines = cell_lines.reindex(selected_drug_sensitivity['cell_line']).dropna()\n",
    "selected_drug_sensitivity = selected_drug_sensitivity.set_index('cell_line').reindex(\n",
    "    selected_cell_lines.index\n",
    ").dropna()\n",
    "X_train, X_test, y_train, y_test = train_test_split(\n",
    "    selected_cell_lines[genes].values, selected_drug_sensitivity['effective'].values\n",
    ")\n",
    "X_test, X_valid, y_test, y_valid = train_test_split(\n",
    "    X_test, y_test\n",
    ")\n",
    "# setup a classifier for the specific drug\n",
    "classifier = PaccMannCellLine(drugs.loc[selected_drug].item(), cache_dir=cache_dir)\n",
    "# interpretablity methods\n",
    "def interpret_cell_line_with_lime(example):\n",
    "    explanation_configs = {\n",
    "        'labels': (1,),\n",
    "    }\n",
    "    interpreter_params = {\n",
    "        'training_data': X_train,\n",
    "        'training_labels': y_train,\n",
    "        'feature_names': genes,\n",
    "        'class_names': class_names,\n",
    "        'discretize_continuous': False,\n",
    "        'sample_around_instance': True\n",
    "    }\n",
    "    explainer = UWasher('lime', classifier, **interpreter_params)\n",
    "    explainer.interpret(example, explanation_configs=explanation_configs)\n",
    "\n",
    "\n",
    "def interpret_cell_line_with_anchor(example):\n",
    "    explanation_configs = {}\n",
    "    interpreter_params = {\n",
    "        'feature_names': genes,\n",
    "        'class_names': class_names,\n",
    "        'categorical_names': {}\n",
    "    }\n",
    "\n",
    "    explainer = UWasher('anchors', classifier, **interpreter_params)\n",
    "    explainer.explainer.fit(\n",
    "        X_train, y_train, X_valid, y_valid\n",
    "    )\n",
    "    def predict_wrapper(samples):\n",
    "        return np.argmax(classifier.predict(samples), axis=1)\n",
    "    explainer.interpret(example, explanation_configs=explanation_configs, callback=predict_wrapper)\n",
    "\n",
    "    \n",
    "def interpret_cell_line(interpreter, cell_line):\n",
    "    if interpreter == 'lime':\n",
    "        interpret_cell_line_with_lime(\n",
    "            cell_lines.loc[cell_line][genes].values\n",
    "        )\n",
    "    else:\n",
    "        interpret_cell_line_with_anchor(\n",
    "            cell_lines.loc[cell_line][genes].values\n",
    "        )"
   ]
  },
  {
   "cell_type": "code",
   "execution_count": null,
   "metadata": {
    "colab": {},
    "colab_type": "code",
    "id": "uoXjLbSRiSMB"
   },
   "outputs": [],
   "source": [
    "# Dummy just to visualize the cell lines neatly\n",
    "interact_manual(\n",
    "    lambda cell_line: print(cell_line), \n",
    "    cell_line=cell_lines.index\n",
    ");"
   ]
  },
  {
   "cell_type": "code",
   "execution_count": null,
   "metadata": {
    "colab": {},
    "colab_type": "code",
    "id": "FMxvtFZJkikp"
   },
   "outputs": [],
   "source": [
    "interpret_cell_line_with_lime(\n",
    "    cell_lines.loc['JiyoyeP-2003'][genes].values\n",
    ")"
   ]
  },
  {
   "cell_type": "code",
   "execution_count": null,
   "metadata": {
    "colab": {},
    "colab_type": "code",
    "id": "YjMI87FekkXI"
   },
   "outputs": [],
   "source": [
    "interpret_cell_line_with_anchor(\n",
    "    cell_lines.loc['JiyoyeP-2003'][genes].values\n",
    ")"
   ]
  },
  {
   "cell_type": "markdown",
   "metadata": {
    "colab_type": "text",
    "id": "mL5Z8YjviSMC"
   },
   "source": [
    "#### What about PaccMann's attention?"
   ]
  },
  {
   "cell_type": "code",
   "execution_count": null,
   "metadata": {
    "colab": {},
    "colab_type": "code",
    "id": "FJ1wJFYoiSMC"
   },
   "outputs": [],
   "source": [
    "# pick a drug\n",
    "selected_drug = 'Imatinib'\n",
    "classifier = PaccMannCellLine(drugs.loc[selected_drug].item(), cache_dir=cache_dir)"
   ]
  },
  {
   "cell_type": "code",
   "execution_count": null,
   "metadata": {
    "colab": {},
    "colab_type": "code",
    "id": "gDM6Sy8WiSMD"
   },
   "outputs": [],
   "source": [
    "def attention_cell_line(cell_line, top_k=10):\n",
    "    try:\n",
    "        _ = classifier.predict([cell_lines.loc[cell_line][genes].values])\n",
    "        gene_attention = next(classifier.predictor.predictions)['gene_attention'][0]\n",
    "        pd.Series(dict(zip(genes, gene_attention))).sort_values(ascending=False)[:top_k].plot.bar()\n",
    "    except:\n",
    "        print('Cell line visualization not supported')"
   ]
  },
  {
   "cell_type": "code",
   "execution_count": null,
   "metadata": {
    "colab": {},
    "colab_type": "code",
    "id": "29phf-POiSMG"
   },
   "outputs": [],
   "source": [
    "interact(\n",
    "    attention_cell_line, cell_line=cell_lines.index,\n",
    "    top_k=(1, 30, 1)\n",
    ");"
   ]
  },
  {
   "cell_type": "code",
   "execution_count": null,
   "metadata": {
    "colab": {},
    "colab_type": "code",
    "id": "jMWjBB62iSMI"
   },
   "outputs": [],
   "source": []
  }
 ],
 "metadata": {
  "colab": {
   "collapsed_sections": [],
   "name": "tutorial_colab.ipynb",
   "provenance": []
  },
  "kernelspec": {
   "display_name": "Python 3",
   "language": "python",
   "name": "python3"
  },
  "language_info": {
   "codemirror_mode": {
    "name": "ipython",
    "version": 3
   },
   "file_extension": ".py",
   "mimetype": "text/x-python",
   "name": "python",
   "nbconvert_exporter": "python",
   "pygments_lexer": "ipython3",
   "version": "3.6.5"
  }
 },
 "nbformat": 4,
 "nbformat_minor": 1
}
