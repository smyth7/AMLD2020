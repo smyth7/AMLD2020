{
 "cells": [
  {
   "cell_type": "markdown",
   "metadata": {},
   "source": [
    "# Interpreting a breast cancer classification task"
   ]
  },
  {
   "cell_type": "markdown",
   "metadata": {},
   "source": [
    "In this tutorial we will implement a breast cancer image classifier with the task of distinguishing IDC ([Invasive Ductal Carcinoma](https://www.hopkinsmedicine.org/breast_center/breast_cancers_other_conditions/invasive_ductal_carcinoma.html)) vs non-IDC images. \n",
    "We will use a [small dataset](https://www.kaggle.com/simjeg/lymphoma-subtype-classification-fl-vs-cll) publicly available on Kaggle. \n",
    "\n",
    "We thank the Kaggle user [Jegs](https://www.kaggle.com/simjeg) for the reduced dataset used in this tutorial and [Andrew Janowczyk](http://www.andrewjanowczyk.com/use-case-6-invasive-ductal-carcinoma-idc-segmentation/) for the original dataset.\n",
    "\n",
    "In the following, we will train a small ConvNet model, and we will try to interpret it using LIME, Anchors, contrastive and gradient-based methods.\n",
    "\n",
    "__NOTE: To download the dataset and follow this tutorial, you need to have an account on Kaggle.__"
   ]
  },
  {
   "cell_type": "code",
   "execution_count": null,
   "metadata": {},
   "outputs": [],
   "source": [
    "import os\n",
    "import stat\n",
    "import json\n",
    "from ipywidgets import Password\n",
    "from ipywidgets import widgets\n",
    "from IPython.display import display\n",
    "from IPython.display import Image"
   ]
  },
  {
   "cell_type": "markdown",
   "metadata": {},
   "source": [
    "## Download the dataset"
   ]
  },
  {
   "cell_type": "markdown",
   "metadata": {},
   "source": [
    "### Create and place your API token"
   ]
  },
  {
   "cell_type": "markdown",
   "metadata": {},
   "source": [
    "To be able to download datasets using the Kaggle API, please create and download your API token.\n",
    "1. Go to [Kaggle](https://www.kaggle.com/) and log in.\n",
    "2. Go to your account (locate your profile image at the top-right corner of the page)"
   ]
  },
  {
   "cell_type": "code",
   "execution_count": null,
   "metadata": {},
   "outputs": [],
   "source": [
    "Image('./kaggle_go_to_your_account.png')"
   ]
  },
  {
   "cell_type": "markdown",
   "metadata": {},
   "source": [
    "3. Scroll down your account page until you find the API cell, and click on the \"Create new API token\" button."
   ]
  },
  {
   "cell_type": "code",
   "execution_count": null,
   "metadata": {},
   "outputs": [],
   "source": [
    "Image('./kaggle_create_a_new_api_token.png')"
   ]
  },
  {
   "cell_type": "markdown",
   "metadata": {},
   "source": [
    "This will download a file called `kaggle.json`. This file contains the credentials that the Kaggle API will need, but you need to place it in the correct folder. You have 2 main ways to do this, depending on how you setup these tutorials.\n",
    "\n",
    "1. If you're NOT working in a Docker container: \n",
    "  - If you're on a UNIX system: you should place it in the `~/.kaggle`.\n",
    "  - If that is not the correct folder, or you're working on WINDOWS, or on another setup: you can try to open a new cell and run `import kaggle`. If the credentials are not setup correctly, this import will throw an error mentioning the folder where the package is trying to retrieve the credentials file.\n",
    "  \n",
    "2. If you're working in a Docker container: run the next cell. On prompt (1) insert your Kaggle username, and press Enter; (2) when prompted for the `Key`, copy in the textbox the key from the `kaggle.json` file you just downloaded, and press Enter. This should correctly place the credential file."
   ]
  },
  {
   "cell_type": "code",
   "execution_count": null,
   "metadata": {},
   "outputs": [],
   "source": [
    "user = widgets.Text(\n",
    "    placeholder='Insert your Kaggle username!',\n",
    "    description='User',\n",
    "    disabled=False\n",
    ")\n",
    "\n",
    "pwd = Password(\n",
    "    description='Key',\n",
    "    placeholder='Insert key for user {}'.format(user.value)\n",
    ")\n",
    "\n",
    "def callback(wdgt):\n",
    "    folder = os.path.expanduser('~/.kaggle')\n",
    "    os.makedirs(folder, exist_ok=True)\n",
    "    file = '{}/kaggle.json'.format(folder)\n",
    "    with open(file, 'w') as kaggle_file:\n",
    "        json.dump({\n",
    "            'username': user.value,\n",
    "            'key': wdgt.value\n",
    "        }, kaggle_file)\n",
    "        \n",
    "        print(\"Credentials created in {}\".format(folder))\n",
    "    os.chmod(file, stat.S_IREAD | stat.S_IWRITE)\n",
    "\n",
    "user.on_submit(lambda wdg: display(pwd))\n",
    "pwd.on_submit(callback)\n",
    "\n",
    "display(user)"
   ]
  },
  {
   "cell_type": "markdown",
   "metadata": {},
   "source": [
    "### Download the breast cancer dataset"
   ]
  },
  {
   "cell_type": "code",
   "execution_count": null,
   "metadata": {},
   "outputs": [],
   "source": [
    "import kaggle\n",
    "\n",
    "DATASET_FOLDER = './breast_cancer/'\n",
    "os.makedirs(DATASET_FOLDER, exist_ok=True)"
   ]
  },
  {
   "cell_type": "code",
   "execution_count": null,
   "metadata": {},
   "outputs": [],
   "source": [
    "kaggle.api.authenticate()\n",
    "kaggle.api.dataset_download_files('simjeg/lymphoma-subtype-classification-fl-vs-cll', path=DATASET_FOLDER, unzip=True)"
   ]
  },
  {
   "cell_type": "code",
   "execution_count": null,
   "metadata": {},
   "outputs": [],
   "source": [
    "os.listdir(DATASET_FOLDER)"
   ]
  },
  {
   "cell_type": "markdown",
   "metadata": {},
   "source": [
    "## Setup the task"
   ]
  },
  {
   "cell_type": "markdown",
   "metadata": {},
   "source": [
    "### Load dataset"
   ]
  },
  {
   "cell_type": "markdown",
   "metadata": {},
   "source": [
    "Let's load the dataset and split it in train (60%), validation (20%) and test (20%). "
   ]
  },
  {
   "cell_type": "code",
   "execution_count": null,
   "metadata": {},
   "outputs": [],
   "source": [
    "import numpy as np\n",
    "from sklearn.model_selection import train_test_split"
   ]
  },
  {
   "cell_type": "code",
   "execution_count": null,
   "metadata": {},
   "outputs": [],
   "source": [
    "# If you want replicate the same results, fix the seed\n",
    "seed = 100\n",
    "# seed = None\n",
    "np.random.seed(seed)\n",
    "\n",
    "X = np.load(os.path.join(DATASET_FOLDER, 'X.npy'))\n",
    "y = np.load(os.path.join(DATASET_FOLDER, 'Y.npy'))\n",
    "\n",
    "X_train, X_test, y_train, y_test = train_test_split(X, y, test_size=0.2, random_state=seed)\n",
    "X_train, X_val, y_train, y_val = train_test_split(X_train, y_train, test_size=0.25, random_state=seed)"
   ]
  },
  {
   "cell_type": "markdown",
   "metadata": {},
   "source": [
    "Sanity check of the splits distributions"
   ]
  },
  {
   "cell_type": "code",
   "execution_count": null,
   "metadata": {},
   "outputs": [],
   "source": [
    "label2idx = {\n",
    "    'non-IDC': 0,\n",
    "    'IDC': 1\n",
    "}\n",
    "idx2label = ['non-IDC', 'IDC']"
   ]
  },
  {
   "cell_type": "code",
   "execution_count": null,
   "metadata": {},
   "outputs": [],
   "source": [
    "%matplotlib inline\n",
    "import matplotlib.pyplot as plt\n",
    "\n",
    "bar_width = 0.2\n",
    "\n",
    "pos_train = np.array([-0.2, 0.8])\n",
    "pos_val = pos_train + bar_width\n",
    "pos_test = pos_val + bar_width\n",
    "\n",
    "plt.bar(pos_train, [np.mean(y_train==label2idx['non-IDC']), np.mean(y_train==label2idx['IDC'])], width=bar_width, color='r', edgecolor='k', label='train')\n",
    "plt.bar(pos_val, [np.mean(y_val==label2idx['non-IDC']), np.mean(y_val==label2idx['IDC'])], width=bar_width, color='g', edgecolor='k', label='val')\n",
    "plt.bar(pos_test, [np.mean(y_test==label2idx['non-IDC']), np.mean(y_test==label2idx['IDC'])], width=bar_width, color='b', edgecolor='k', label='test')\n",
    "\n",
    "plt.xticks([0, 1])\n",
    "plt.legend()\n",
    "\n",
    "plt.show()"
   ]
  },
  {
   "cell_type": "markdown",
   "metadata": {},
   "source": [
    "To have a sense of the data let's have a look at some samples."
   ]
  },
  {
   "cell_type": "code",
   "execution_count": null,
   "metadata": {},
   "outputs": [],
   "source": [
    "def show_samples():\n",
    "    non_idc_sample_idx = np.random.choice(np.argwhere(y == label2idx['non-IDC']).squeeze())\n",
    "    non_idc_sample = X[non_idc_sample_idx]\n",
    "    \n",
    "    idc_sample_idx = np.random.choice(np.argwhere(y == label2idx['IDC']).squeeze())\n",
    "    idc_sample = X[idc_sample_idx]\n",
    "    \n",
    "    plt.figure()\n",
    "    \n",
    "    plt.subplot(121)\n",
    "    plt.imshow(non_idc_sample)\n",
    "    plt.title('non-IDC (sample idx: {})'.format(non_idc_sample_idx))\n",
    "    plt.axis('off')\n",
    "    \n",
    "    plt.subplot(122)\n",
    "    plt.imshow(idc_sample)\n",
    "    plt.title('IDC (sample idx: {})'.format(idc_sample_idx))\n",
    "    plt.axis('off')\n",
    "    \n",
    "    plt.show()"
   ]
  },
  {
   "cell_type": "code",
   "execution_count": null,
   "metadata": {},
   "outputs": [],
   "source": [
    "show_samples()"
   ]
  },
  {
   "cell_type": "markdown",
   "metadata": {},
   "source": [
    "What's the image size? And are the images normalized?"
   ]
  },
  {
   "cell_type": "code",
   "execution_count": null,
   "metadata": {},
   "outputs": [],
   "source": [
    "print('Image shape: {}'.format(X.shape[1:]))\n",
    "\n",
    "print('Min value: {}\\nMax value: {}'.format(\n",
    "    np.max(X),\n",
    "    np.min(X)\n",
    "))"
   ]
  },
  {
   "cell_type": "markdown",
   "metadata": {},
   "source": [
    "Let's create a preprocessing pipeline in PyTorch to convert the `np.array`s to `torch.tensor`s and then normalize them to the range `[-1.0, 1.0]` for each channel."
   ]
  },
  {
   "cell_type": "code",
   "execution_count": null,
   "metadata": {},
   "outputs": [],
   "source": [
    "import torch\n",
    "import torchvision\n",
    "\n",
    "preprocessor = torchvision.transforms.Compose([\n",
    "    torchvision.transforms.ToTensor(),\n",
    "    torchvision.transforms.Normalize([0]*3, [255]*3, inplace=True)\n",
    "])"
   ]
  },
  {
   "cell_type": "markdown",
   "metadata": {},
   "source": [
    "We now create a `torch.utils.data.Dataset` wrapper around our data so we can use the `torch.utils.data.DataLoader` to then perform some training utilities (i.e. batching)."
   ]
  },
  {
   "cell_type": "code",
   "execution_count": null,
   "metadata": {},
   "outputs": [],
   "source": [
    "class BreastCancerDataset(torch.utils.data.Dataset):\n",
    "    def __init__(self, _X, _y):\n",
    "        # Preprocess the data\n",
    "        self._X = torch.stack([preprocessor(x) for x in _X])\n",
    "        self._y = torch.tensor(_y.astype(np.int))\n",
    "        \n",
    "    def __len__(self):\n",
    "        return len(self._X)\n",
    "    \n",
    "    def __getitem__(self, idx):\n",
    "        if torch.is_tensor(idx):\n",
    "            idx = idx.tolist()\n",
    "        \n",
    "        return {'image': self._X[idx], 'label': self._y[idx]}\n",
    "    \n",
    "    @property\n",
    "    def X(self):\n",
    "        return self._X"
   ]
  },
  {
   "cell_type": "code",
   "execution_count": null,
   "metadata": {},
   "outputs": [],
   "source": [
    "train_set = BreastCancerDataset(X_train, y_train)\n",
    "valid_set = BreastCancerDataset(X_val, y_val)\n",
    "test_set  = BreastCancerDataset(X_test, y_test)"
   ]
  },
  {
   "cell_type": "markdown",
   "metadata": {},
   "source": [
    "### Let's create our CNN"
   ]
  },
  {
   "cell_type": "markdown",
   "metadata": {},
   "source": [
    "Define the model ..."
   ]
  },
  {
   "cell_type": "code",
   "execution_count": null,
   "metadata": {},
   "outputs": [],
   "source": [
    "from torch import nn\n",
    "\n",
    "class CancerCNN(nn.Module):\n",
    "    def _conv_op(self, in_channels, out_channels):\n",
    "        return nn.Sequential(\n",
    "            nn.Conv2d(in_channels, out_channels, 9, padding=4), # this maintains the same size\n",
    "            nn.Tanh()\n",
    "        )\n",
    "    \n",
    "    def _fc_op(self, in_dim, out_dim):\n",
    "        return nn.Sequential(\n",
    "            nn.Linear(in_dim, out_dim),\n",
    "            nn.Tanh()\n",
    "        )\n",
    "    \n",
    "    def __init__(self):\n",
    "        super().__init__()\n",
    "        \n",
    "        self.conv1 = self._conv_op(3, 32)\n",
    "        self.conv2 = self._conv_op(32, 64)\n",
    "        self.conv3 = self._conv_op(64, 128)\n",
    "        \n",
    "        self.max_pool_2 = nn.MaxPool2d(2)\n",
    "        self.max_pool_5 = nn.MaxPool2d(5)\n",
    "        \n",
    "        self.fc1 = self._fc_op(128, 32)\n",
    "        self.fc2 = self._fc_op(32, 2)\n",
    "        \n",
    "    def forward(self, x, return_argmax=False):\n",
    "        # size = (?, 50, 50, 3)\n",
    "        x = self.conv1(x)\n",
    "        # size = (?, 50, 50, 32)\n",
    "        x = self.max_pool_2(x)\n",
    "        # size = (?, 25, 25, 32)\n",
    "        x = self.conv2(x)\n",
    "        # size = (?, 25, 25, 64)\n",
    "        x = self.max_pool_5(x)\n",
    "        # size = (?, 5, 5, 64)\n",
    "        x = self.conv3(x)\n",
    "        # size = (?, 5, 5, 128)\n",
    "        x = self.max_pool_5(x)\n",
    "        # size = (?, 1, 1, 128)\n",
    "        x = x.view(-1, 128)\n",
    "        # size = (?, 128)\n",
    "        x = self.fc1(x)\n",
    "        # size = (?, 32)\n",
    "        x = self.fc2(x)\n",
    "        # size = (?, 2)\n",
    "        if return_argmax:\n",
    "            argmax = torch.argmax(x, dim=1)\n",
    "            return argmax\n",
    "        return x"
   ]
  },
  {
   "cell_type": "markdown",
   "metadata": {},
   "source": [
    "... and then instantiate it."
   ]
  },
  {
   "cell_type": "code",
   "execution_count": null,
   "metadata": {},
   "outputs": [],
   "source": [
    "# set the seed for reproducibility\n",
    "torch.manual_seed(1123)\n",
    "\n",
    "cnn_model = CancerCNN()\n",
    "print(cnn_model)"
   ]
  },
  {
   "cell_type": "markdown",
   "metadata": {},
   "source": [
    "### Now let's train the model"
   ]
  },
  {
   "cell_type": "code",
   "execution_count": null,
   "metadata": {},
   "outputs": [],
   "source": [
    "batch_size = 4\n",
    "learning_rate = 1e-4\n",
    "n_epochs = 20\n",
    "\n",
    "ce_loss = nn.CrossEntropyLoss()\n",
    "optimizer = torch.optim.Adam(cnn_model.parameters(), lr=learning_rate)\n",
    "\n",
    "model_file = os.path.join(DATASET_FOLDER, 'cancer_cnn_trained.model')"
   ]
  },
  {
   "cell_type": "code",
   "execution_count": null,
   "metadata": {},
   "outputs": [],
   "source": [
    "torch.manual_seed(13901)\n",
    "\n",
    "# randomized data loader for training\n",
    "train_loader = torch.utils.data.DataLoader(train_set, batch_size=batch_size, shuffle=True)\n",
    "val_loader = torch.utils.data.DataLoader(valid_set, batch_size=batch_size, shuffle=False)\n",
    "test_loader = torch.utils.data.DataLoader(test_set, batch_size=batch_size, shuffle=False)"
   ]
  },
  {
   "cell_type": "code",
   "execution_count": null,
   "metadata": {},
   "outputs": [],
   "source": [
    "def compute_metrics(model, loader, set_name, set_size):\n",
    "    total_loss = 0\n",
    "    correct = 0\n",
    "    TP = 0\n",
    "    TN = 0\n",
    "    FP = 0\n",
    "    FN = 0\n",
    "    \n",
    "    def precision_and_recall(t, f, f_other):\n",
    "        if t == 0:\n",
    "            return 0, 0\n",
    "        return (np.float(t)/np.float(t+f_other), np.float(t)/np.float(t+f))\n",
    "    \n",
    "    for i, data in enumerate(loader):\n",
    "        images = data['image']\n",
    "        labels = data['label']\n",
    "        \n",
    "        logits = model(images)\n",
    "        loss = ce_loss(logits, labels)\n",
    "        \n",
    "        predicted = torch.argmax(logits, dim=1)\n",
    "        curr_correct = (labels == predicted).sum().item()\n",
    "        pos_count = (predicted == 1).sum().item()\n",
    "        neg_count = len(predicted) - pos_count\n",
    "        curr_correct = (labels == predicted)\n",
    "        curr_tp = ((labels == 1) & curr_correct).sum().item()\n",
    "        curr_tn = ((labels == 0) & curr_correct).sum().item()\n",
    "        correct += curr_correct.sum().item()\n",
    "        \n",
    "        TP += curr_tp \n",
    "        TN += curr_tn\n",
    "        FP += pos_count - curr_tp\n",
    "        FN += neg_count - curr_tn\n",
    "        \n",
    "        total_loss += loss.item()*len(images)\n",
    "        \n",
    "    print('{}..'.format(set_name))\n",
    "    print('\\t.. loss: {}'.format(total_loss/set_size))\n",
    "    print('\\t.. accuracy: {}%'.format((correct*100.0)/set_size))\n",
    "    print('\\t.. TP={}, TN={}, FP={}, FN={}'.format(TP, TN, FP, FN))\n",
    "    precision_0, recall_0 = precision_and_recall(TN, FN, FP)\n",
    "    precision_1, recall_1 = precision_and_recall(TP, FP, FN)\n",
    "    print('\\t.. precision(0): {}'.format(precision_0))\n",
    "    print('\\t.. recall(0): {}'.format(recall_0))\n",
    "    print('\\t.. precision(1): {}'.format(precision_1))\n",
    "    print('\\t.. recall(1): {}'.format(recall_1))"
   ]
  },
  {
   "cell_type": "code",
   "execution_count": null,
   "metadata": {},
   "outputs": [],
   "source": [
    "from IPython.display import clear_output\n",
    "def print_summary(model, train_loss, print_test=False):\n",
    "    clear_output()\n",
    "    print('================= Summary =================')\n",
    "    print('Training loss: {}'.format(train_loss/len(train_set)))\n",
    "    compute_metrics(model, val_loader, 'Validation', len(valid_set))\n",
    "    if print_test:\n",
    "        compute_metrics(model, test_loader, 'Test', len(test_set))\n",
    "    print('===========================================')\n",
    "    print()"
   ]
  },
  {
   "cell_type": "code",
   "execution_count": null,
   "metadata": {},
   "outputs": [],
   "source": [
    "import sys\n",
    "\n",
    "LEN_BAR = 40\n",
    "\n",
    "for e in range(1, n_epochs+1):\n",
    "    \n",
    "    if e > 1:\n",
    "        clear_output()\n",
    "        print_summary(total_train_loss, False)\n",
    "    \n",
    "    total_train_loss = 0\n",
    "    n_samples = 0\n",
    "    \n",
    "    for i, data in enumerate(train_loader):\n",
    "        # get current data\n",
    "        images = data['image']\n",
    "        labels = data['label']\n",
    "        \n",
    "        n_samples += len(images)\n",
    "\n",
    "        # \n",
    "        optimizer.zero_grad()\n",
    "\n",
    "        logits = cnn_model(images)\n",
    "        loss = ce_loss(logits, labels)\n",
    "        total_train_loss += loss.item()*len(images)\n",
    "        loss.backward()\n",
    "        optimizer.step()\n",
    "\n",
    "        if i % 20 == 0:\n",
    "            frac = i/len(train_loader)\n",
    "            n_progress = int(frac*LEN_BAR)\n",
    "            message = ('Epoch {} |{}{}{}| {:0.2f}% (Batch Loss: {:0.5f}, Average Loss: {:0.5f})'.format(\n",
    "                e,\n",
    "                '='*n_progress,\n",
    "                '>' if n_progress < LEN_BAR else '',\n",
    "                '.'*max(0, LEN_BAR - n_progress - 1),\n",
    "                frac*100,\n",
    "                loss.item(),\n",
    "                total_train_loss/n_samples\n",
    "            ))\n",
    "            sys.stdout.write('\\r' + message)\n",
    "            sys.stdout.flush()\n",
    "            torch.save(cnn_model.state_dict(), model_file) # save\n",
    "\n",
    "    \n",
    "clear_output()\n",
    "print_summary(total_train_loss, True)  \n",
    "torch.save(cnn_model.state_dict(), model_file) # save"
   ]
  },
  {
   "cell_type": "markdown",
   "metadata": {},
   "source": [
    "If you are too impatient to train the model (or you want to reproduce the results in this notebook), you can download and load the pre-trained model by running the following cell."
   ]
  },
  {
   "cell_type": "code",
   "execution_count": null,
   "metadata": {},
   "outputs": [],
   "source": [
    "def import_model_from_box():\n",
    "    import wget, math, shutil\n",
    "    pretrained_model_file = os.path.join(DATASET_FOLDER, 'pretrained.model')\n",
    "    file = wget.download('https://ibm.box.com/shared/static/rgoxyepbdwahd65m9ou3t9cmobq38qxa.model', pretrained_model_file)\n",
    "    shutil.move(file,pretrained_model_file)\n",
    "    cnn_model = CancerCNN()\n",
    "    cnn_model.load_state_dict(torch.load(pretrained_model_file))\n",
    "    print_summary(cnn_model, math.nan, True)  \n",
    "    return cnn_model"
   ]
  },
  {
   "cell_type": "code",
   "execution_count": null,
   "metadata": {},
   "outputs": [],
   "source": [
    "# NOTE: to actually run this cell, please uncomment the following lines.\n",
    "cnn_model = import_model_from_box()"
   ]
  },
  {
   "cell_type": "markdown",
   "metadata": {},
   "source": [
    "## Time to interpret!"
   ]
  },
  {
   "cell_type": "markdown",
   "metadata": {},
   "source": [
    "In the case of ConvNets on images, instead of just using interpretability methods, we can actually have a look at filters and activations to have an idea of how the model is working. This is conceptually similar to inspecting the weights of a linear model.\n",
    "\n",
    "Let's have a look first at the `conv1` filters."
   ]
  },
  {
   "cell_type": "code",
   "execution_count": null,
   "metadata": {},
   "outputs": [],
   "source": [
    "filter_grid = torchvision.utils.make_grid(cnn_model.conv1[0].weight, nrow=8, normalize=True, scale_each=True)\n",
    "filter_grid_pil = torchvision.transforms.functional.to_pil_image(filter_grid)\n",
    "fig = plt.figure(figsize=(25, 25))\n",
    "ax = plt.axes()\n",
    "ax.set_aspect('equal')\n",
    "plt.imshow(filter_grid_pil)\n",
    "plt.axis('off')\n",
    "plt.show()"
   ]
  },
  {
   "cell_type": "markdown",
   "metadata": {},
   "source": [
    "Not very easy to interpret. Maybe let's have a look at the activation maps of the CNN for some given example."
   ]
  },
  {
   "cell_type": "code",
   "execution_count": null,
   "metadata": {},
   "outputs": [],
   "source": [
    "data = test_set[:]\n",
    "images = data['image']\n",
    "labels = data['label'].numpy()\n",
    "predicted = cnn_model(images, return_argmax=True).numpy()\n",
    "correctly_predicted = (labels == predicted)\n",
    "positive_samples = (predicted == 1)\n",
    "negative_samples = (predicted == 0)\n",
    "\n",
    "TP = (correctly_predicted & positive_samples)\n",
    "TN = (correctly_predicted & negative_samples)\n",
    "FP = (~correctly_predicted & positive_samples)\n",
    "FN = (~correctly_predicted & negative_samples) "
   ]
  },
  {
   "cell_type": "code",
   "execution_count": null,
   "metadata": {},
   "outputs": [],
   "source": [
    "conv1_activations = cnn_model.conv1(images)\n",
    "conv1_activations_maxed = cnn_model.max_pool_2(conv1_activations)\n",
    "conv2_activations = cnn_model.conv2(conv1_activations_maxed)\n",
    "conv2_activations_maxed = cnn_model.max_pool_5(conv2_activations)\n",
    "conv3_activations = cnn_model.conv3(conv2_activations_maxed)\n",
    "conv3_activations_maxed = cnn_model.max_pool_5(conv3_activations)\n",
    "\n",
    "activations = {\n",
    "    1: {\n",
    "        True: conv1_activations_maxed,\n",
    "        False: conv1_activations\n",
    "    },\n",
    "    2: {\n",
    "        True: conv2_activations_maxed,\n",
    "        False: conv2_activations\n",
    "    },\n",
    "    3: {\n",
    "        True: conv3_activations_maxed,\n",
    "        False: conv3_activations\n",
    "    }\n",
    "}"
   ]
  },
  {
   "cell_type": "code",
   "execution_count": null,
   "metadata": {},
   "outputs": [],
   "source": [
    "%matplotlib inline\n",
    "def visualize_activations(sample_idx, conv_layer, return_max_activation):\n",
    "    \n",
    "    plt.figure()\n",
    "    plt.imshow(torchvision.transforms.functional.to_pil_image(images[sample_idx]*255))\n",
    "    plt.axis('off')\n",
    "    \n",
    "    fig = plt.figure(figsize=(25, 25))\n",
    "    ax = plt.axes()\n",
    "    plt.title('Predicted: {}, Correct: {}'.format(predicted[sample_idx], labels[sample_idx]),\n",
    "              fontsize=20)\n",
    "    \n",
    "    activs = activations[conv_layer][return_max_activation][sample_idx].unsqueeze(1)\n",
    "    torch_images = torchvision.utils.make_grid(activs, nrow=8, normalize=(conv_layer!=3), pad_value=0.5, scale_each=True)\n",
    "    pil_images = torchvision.transforms.functional.to_pil_image(torch_images)\n",
    "    \n",
    "    plt.axis('off')\n",
    "    plt.imshow(pil_images)\n",
    "    ax.set_aspect('equal')\n",
    "    \n",
    "    plt.show()"
   ]
  },
  {
   "cell_type": "code",
   "execution_count": null,
   "metadata": {},
   "outputs": [],
   "source": [
    "from ipywidgets import interact, interact_manual"
   ]
  },
  {
   "cell_type": "code",
   "execution_count": null,
   "metadata": {},
   "outputs": [],
   "source": [
    "tp_sample_idx = np.random.choice(np.argwhere(TP).squeeze())\n",
    "tn_sample_idx = np.random.choice(np.argwhere(TN).squeeze())\n",
    "fp_sample_idx = np.random.choice(np.argwhere(FP).squeeze())\n",
    "fn_sample_idx = np.random.choice(np.argwhere(FN).squeeze())\n",
    "\n",
    "print('Correctly predicted as Non-IDC: sample with idx {}'.format(tn_sample_idx))\n",
    "print('Correctly predicted as IDC: sample with idx {}'.format(tp_sample_idx))\n",
    "print('Misclassified as Non-IDC: sample with idx {}'.format(fn_sample_idx))\n",
    "print('Misclassified as IDC: sample with idx {}'.format(fp_sample_idx))"
   ]
  },
  {
   "cell_type": "code",
   "execution_count": null,
   "metadata": {
    "scrolled": false
   },
   "outputs": [],
   "source": [
    "interact(visualize_activations, sample_idx=range(len(labels)), conv_layer=[1,2,3], return_max_activation=[True, False]);"
   ]
  },
  {
   "cell_type": "markdown",
   "metadata": {},
   "source": [
    "## Interpreting with `depiction`!"
   ]
  },
  {
   "cell_type": "markdown",
   "metadata": {},
   "source": [
    "Let's now see what insights can we get with `depiction`. First we wrap our previously implemented CNN model into one of `depiction` interface model. In this case we are gonna use `depiction.models.torch.core.TorchModel`. "
   ]
  },
  {
   "cell_type": "code",
   "execution_count": null,
   "metadata": {},
   "outputs": [],
   "source": [
    "# just to ignore nasty yet non-important messages\n",
    "import warnings\n",
    "warnings.filterwarnings(\"ignore\", category=FutureWarning) \n",
    "warnings.filterwarnings(\"ignore\", category=UserWarning) \n",
    "import tensorflow as tf; tf.logging.set_verbosity(tf.logging.ERROR)  # suppress deprecation messages\n",
    "\n",
    "from depiction.core import Task, DataType\n",
    "from depiction.models.torch.core import TorchModel\n",
    "\n",
    "class DepictionCNN(TorchModel):\n",
    "    def __init__(self, model, double):\n",
    "        super(DepictionCNN, self).__init__(model, Task.CLASSIFICATION, DataType.IMAGE, double)\n",
    "        \n",
    "    def _prepare_sample(self, samples):\n",
    "        return torch.stack([\n",
    "            preprocessor(s) for s in samples\n",
    "        ])\n",
    "\n",
    "depiction_model = DepictionCNN(cnn_model, double=False)"
   ]
  },
  {
   "cell_type": "code",
   "execution_count": null,
   "metadata": {},
   "outputs": [],
   "source": [
    "from skimage.segmentation import quickshift\n",
    "segmenter = lambda x: quickshift(x, kernel_size=4, max_dist=14, ratio=0.4)"
   ]
  },
  {
   "cell_type": "code",
   "execution_count": null,
   "metadata": {},
   "outputs": [],
   "source": [
    "tp_sample_idx = np.random.choice(np.argwhere(TP).squeeze())\n",
    "tn_sample_idx = np.random.choice(np.argwhere(TN).squeeze())\n",
    "fp_sample_idx = np.random.choice(np.argwhere(FP).squeeze())\n",
    "fn_sample_idx = np.random.choice(np.argwhere(FN).squeeze())\n",
    "\n",
    "print('Correctly predicted as Non-IDC: sample with idx {}'.format(tn_sample_idx))\n",
    "print('Correctly predicted as IDC: sample with idx {}'.format(tp_sample_idx))\n",
    "print('Misclassified as Non-IDC: sample with idx {}'.format(fn_sample_idx))\n",
    "print('Misclassified as IDC: sample with idx {}'.format(fp_sample_idx))"
   ]
  },
  {
   "cell_type": "code",
   "execution_count": null,
   "metadata": {},
   "outputs": [],
   "source": [
    "example = X_test[420] # choose the sample you want to interpret"
   ]
  },
  {
   "cell_type": "markdown",
   "metadata": {},
   "source": [
    "### Time for LIME"
   ]
  },
  {
   "cell_type": "code",
   "execution_count": null,
   "metadata": {},
   "outputs": [],
   "source": [
    "from depiction.interpreters.u_wash import UWasher\n",
    "\n",
    "lime = UWasher('lime', depiction_model, class_names=idx2label)\n",
    "explanation = lime.interpret(example, explanation_configs={'segmentation_fn': segmenter})"
   ]
  },
  {
   "cell_type": "markdown",
   "metadata": {},
   "source": [
    "### Alors, gimme some Anchors!"
   ]
  },
  {
   "cell_type": "code",
   "execution_count": null,
   "metadata": {},
   "outputs": [],
   "source": [
    "anchors = UWasher('anchors', depiction_model, class_names=idx2label, segmentation_fn=segmenter)\n",
    "explanation = anchors.interpret(example, explanation_configs={'delta': 0.1, 'tau': 7, 'threshold': 0.95})"
   ]
  },
  {
   "cell_type": "markdown",
   "metadata": {},
   "source": [
    "### Excellent, now some gradient! "
   ]
  },
  {
   "cell_type": "code",
   "execution_count": null,
   "metadata": {},
   "outputs": [],
   "source": [
    "from depiction.interpreters.backprop.backpropeter import BackPropeter\n",
    "from captum.attr import visualization as viz\n",
    "from matplotlib.colors import Normalize\n",
    "\n",
    "methods = ['integrated_grads', 'inputxgrad']\n",
    "attrs_sign = ['positive', 'negative']\n",
    "normalizer = Normalize()\n",
    "img = normalizer(example)\n",
    "\n",
    "captum = BackPropeter(depiction_model, methods[1])\n",
    "explanation = captum.interpret(np.expand_dims(example, 0), \n",
    "                               explanation_configs={'target': 0}, \n",
    "                               show_in_notebook=True, \n",
    "                               vis_configs={\n",
    "                                   'method': 'blended_heat_map', \n",
    "                                   'sign': attrs_sign[1]\n",
    "                               })\n",
    "plt.show()"
   ]
  }
 ],
 "metadata": {
  "kernelspec": {
   "display_name": "Python 3",
   "language": "python",
   "name": "python3"
  },
  "language_info": {
   "codemirror_mode": {
    "name": "ipython",
    "version": 3
   },
   "file_extension": ".py",
   "mimetype": "text/x-python",
   "name": "python",
   "nbconvert_exporter": "python",
   "pygments_lexer": "ipython3",
   "version": "3.6.5"
  }
 },
 "nbformat": 4,
 "nbformat_minor": 2
}
