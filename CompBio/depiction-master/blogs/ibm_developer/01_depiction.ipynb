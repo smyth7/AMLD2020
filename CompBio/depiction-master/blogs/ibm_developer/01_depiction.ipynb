{
 "cells": [
  {
   "cell_type": "markdown",
   "metadata": {},
   "source": [
    "# `depiction` - A meta-interpretability toolbox"
   ]
  },
  {
   "cell_type": "markdown",
   "metadata": {},
   "source": [
    "## Why interpretability?"
   ]
  },
  {
   "cell_type": "markdown",
   "metadata": {},
   "source": [
    "In the last decade, the application of deep neural networks to long-standing problems has brought a break-through in performance and prediction power. However, high accuracy, deriving from the increased model complexity, often comes at the price of loss of interpretability, i.e., many of these models behave as black-boxes and fail to provide explanations on their predictions. While in certain application fields this issue may play a secondary role, in high risk domains, e.g., health care, it is crucial to build trust in a model and being able to understand its behaviour."
   ]
  },
  {
   "cell_type": "markdown",
   "metadata": {},
   "source": [
    "## What is interpretability?"
   ]
  },
  {
   "cell_type": "markdown",
   "metadata": {},
   "source": [
    "The definition of the verb *interpret* is \"to explain or tell the meaning of : present in understandable terms\" ([Merriam-Webster 2019](https://www.merriam-webster.com/dictionary/interpret)). Despite the apparent simplicity of this statement, the machine learning research community is struggling to agree upon a formal definition of the concept of interpretability/explainability. In the last years, in the room left by this lack of formalism, many methodologies have been proposed based on different \"interpretations\" (pun intended) of the above defintion. While the proliferation of this multitude of disparate algorithms has posed challenges on rigorously comparing them, it is nevertheless interesting and useful to apply these techniques to analyze the behaviour of deep learning models."
   ]
  },
  {
   "cell_type": "markdown",
   "metadata": {},
   "source": [
    "## `depiction`"
   ]
  },
  {
   "cell_type": "markdown",
   "metadata": {},
   "source": [
    "The group of Cognitive Health Care and Life Sciences at IBM Research Zürich has opensourced a python toolbox, [`depiction`](https://github.com/IBM/depiction), with the aim of providing a framework to ease the application of explainability methods on custom models, especially for less experienced users. The module provide wrappers for multiple algorithms and is continously updated including the latest algorithms from [AIX360](https://github.com/IBM/AIX360.git). The core concept behind `depiction` is to allow users to seamlessly run state-of-art interpretability methods with minimal requirements in terms of programming skills. Below an example of how `depiction` can be used to analyze a pretrained model."
   ]
  },
  {
   "cell_type": "markdown",
   "metadata": {},
   "source": [
    "### A simple example - Wrapping a pretrained Keras Model"
   ]
  },
  {
   "cell_type": "markdown",
   "metadata": {},
   "source": [
    "Let's assume to have a fancy model for classification of tabular data pretrained in Keras and available at a public url. Explaining its predictions with `depiction` is easy as implementing a lightweight wrapper of `depiction.models.uri.HTTPModel` where its `predict` method is overridden."
   ]
  },
  {
   "cell_type": "markdown",
   "metadata": {},
   "source": [
    "```python\n",
    "from depiction.core import Task, DataType\n",
    "from depiction.models.uri import HTTPModel\n",
    "\n",
    "\n",
    "class FancyModel(HTTPModel):\n",
    "    \"\"\"A fancy classifier.\"\"\"\n",
    "\n",
    "\n",
    "    def __init__(self,\n",
    "        filename='fancy_model.h5',\n",
    "        origin='https://url/to/my/fancy_model.h5',\n",
    "        cache_dir='/path/to/cache/models',\n",
    "        *args, **kwargs):\n",
    "        \"\"\"Initialize the FancyModel.\"\"\"\n",
    "        super().__init__(\n",
    "            uri=origin,\n",
    "            task=Task.CLASSIFICATION,\n",
    "            data_type=DataType.TABULAR,\n",
    "            cache_dir=cache_dir,\n",
    "            filename=filename\n",
    "        )\n",
    "        self.model = keras.models.load_model(self.model_path)\n",
    "\n",
    "    def predict(self, sample, *args, **kwargs):\n",
    "        \"\"\"\n",
    "        Run the fancy model for inference on a given sample and with the provided\n",
    "        parameters.\n",
    "\n",
    "        Args:\n",
    "            sample (object): an input sample for the model.\n",
    "            args (list): list of arguments.\n",
    "            kwargs (dict): list of key-value arguments.\n",
    "\n",
    "        Returns:\n",
    "            a prediction for the model on the given sample.\n",
    "        \"\"\"\n",
    "        return self.model.predict(\n",
    "            sample,\n",
    "            batch_size=None, verbose=0,\n",
    "            steps=None, callbacks=None\n",
    "        )\n",
    "```"
   ]
  },
  {
   "cell_type": "markdown",
   "metadata": {},
   "source": [
    "Once `FancyModel` is implemented, using any of the `depiction.interpreters` available in the library, is as easy as typing:"
   ]
  },
  {
   "cell_type": "markdown",
   "metadata": {},
   "source": [
    "```python\n",
    "fancy_model = FancyModel()\n",
    "# NOTE: interpreters are implemented inheriting from\n",
    "# depiction.interpreters.base.base_interpreter.BaseInterpreter\n",
    "# and they share a common interface.\n",
    "explanations = interpreter.interpret(example)\n",
    "```"
   ]
  },
  {
   "cell_type": "markdown",
   "metadata": {},
   "source": [
    "### Run an intepreter from AIX360 - Rule-based interpretable method"
   ]
  },
  {
   "cell_type": "code",
   "execution_count": 1,
   "metadata": {},
   "outputs": [],
   "source": [
    "import warnings\n",
    "from sklearn.exceptions import ConvergenceWarning\n",
    "warnings.filterwarnings('ignore', category=RuntimeWarning)\n",
    "warnings.filterwarnings('ignore', category=FutureWarning)\n",
    "warnings.filterwarnings('ignore', category=ConvergenceWarning)\n",
    "import numpy as np\n",
    "import pandas as pd\n",
    "pd.set_option('display.max_colwidth', -1)\n",
    "import seaborn as sns\n",
    "import matplotlib.pyplot as plt\n",
    "from sklearn import neural_network\n",
    "from sklearn.metrics import accuracy_score\n",
    "from sklearn.datasets import load_iris\n",
    "from sklearn.preprocessing import OneHotEncoder\n",
    "from sklearn.model_selection import train_test_split\n",
    "from depiction.core import Task, DataType\n",
    "from depiction.models.base import BinarizedClassifier\n",
    "from depiction.interpreters.aix360.rule_based_model import RuleAIX360"
   ]
  },
  {
   "cell_type": "markdown",
   "metadata": {},
   "source": [
    "Here we show as an example how *easy* is to use **Generalized linear rule models** in `depiction` [(Wei D. et al. 2019)](http://proceedings.mlr.press/v97/wei19a/wei19a.pdf)."
   ]
  },
  {
   "cell_type": "markdown",
   "metadata": {},
   "source": [
    "#### Get the data\n",
    "Let's get some data to play with."
   ]
  },
  {
   "cell_type": "code",
   "execution_count": 2,
   "metadata": {},
   "outputs": [],
   "source": [
    "# Create a dataset. \n",
    "dataset = load_iris()\n",
    "\n",
    "# Rule-based explainers work only with binary classifiers.\n",
    "# In this example, we want to explain class 'setosa'\n",
    "X = pd.DataFrame(dataset.data, columns=dataset.feature_names)\n",
    "y_one_hot = OneHotEncoder().fit_transform(dataset.target.reshape(-1, 1)).todense()\n",
    "\n",
    "label = 'setosa'\n",
    "label_index = np.where(dataset.target_names == label)[0].item()\n",
    "y = np.array(dataset.target == label_index).astype(np.int).flatten()\n",
    "\n",
    "# NOTE: for the purpose of this example, we avoid to generate a validation split.\n",
    "X_train, X_test, y_train, y_test, y_train_one_hot, y_test_one_hot = train_test_split(\n",
    "    X, y, y_one_hot, test_size=0.33, random_state=42, stratify=y\n",
    ")"
   ]
  },
  {
   "cell_type": "markdown",
   "metadata": {},
   "source": [
    "#### Ante-hoc version\n",
    "In the following we are using the model as an *ante-hoc global interpretable method*."
   ]
  },
  {
   "cell_type": "code",
   "execution_count": 3,
   "metadata": {},
   "outputs": [],
   "source": [
    "# Create explainable model, interpreting the whole dataset\n",
    "ante_hoc_model = RuleAIX360('glrm_linear', X=X, y=y)"
   ]
  },
  {
   "cell_type": "code",
   "execution_count": 4,
   "metadata": {
    "scrolled": true
   },
   "outputs": [
    {
     "name": "stdout",
     "output_type": "stream",
     "text": [
      "                                                   rule coefficient\n",
      "0  (intercept)                                           0.524881  \n",
      "1  sepal width (cm) > 2.70 AND petal width (cm) <= 1.16  0.616186  \n",
      "2  petal length (cm) > 1.70 AND petal width (cm) > 0.40 -0.587525  \n",
      "3  sepal length (cm) > 5.27 AND petal width (cm) > 0.40 -0.0871229 \n",
      "4  sepal width (cm) <= 3.20 AND petal width (cm) > 0.40 -0.0698256 \n",
      "5  petal width (cm) <= 1.16                              0.0311023 \n",
      "6  petal width (cm) <= 0.40                              0.0122838 \n",
      "7  petal length (cm) <= 1.70                             0.012283  \n",
      "8  petal length (cm) <= 3.90                            -0.00140309\n"
     ]
    }
   ],
   "source": [
    "# Explain model\n",
    "ante_hoc_model.interpret();"
   ]
  },
  {
   "cell_type": "markdown",
   "metadata": {},
   "source": [
    "Since the *iris* dataset is a relatively easy one, i.e., it can be solved with a linear model, we can easily double check if the rules learned by the **interpretable model** make sense. In the following, we show the samples from the dataset on a 2D plot where the axes are the *sepal width* and *petal width*. The *setosa* samples are shown in blue, while the others are in red. The blue area denotes the region described by the most important rule inferred by the interpretable model (line 1 of the output)."
   ]
  },
  {
   "cell_type": "code",
   "execution_count": 5,
   "metadata": {},
   "outputs": [
    {
     "data": {
      "image/png": "[encoded data removed]",
      "text/plain": [
       "<Figure size 432x288 with 1 Axes>"
      ]
     },
     "metadata": {
      "needs_background": "light"
     },
     "output_type": "display_data"
    }
   ],
   "source": [
    "sns.scatterplot(x='sepal width (cm)', y='petal width (cm)', data=X.iloc[y == 1], color='b')\n",
    "sns.scatterplot(x='sepal width (cm)', y='petal width (cm)', data=X.iloc[y == 0], color='r')\n",
    "ax = plt.gca()\n",
    "_ = ax.axvspan(\n",
    "    xmin=2.70, xmax=ax.get_xlim()[1], ymin=0, ymax=(1.16 - ax.get_ylim()[0])/ax.get_ylim()[1],\n",
    "    facecolor='b', alpha=0.4\n",
    ")"
   ]
  },
  {
   "cell_type": "markdown",
   "metadata": {},
   "source": [
    "![already_trained](https://memeshappen.com/media/created/2019/12/Hmmmm-What-if-I-have-an-already-trained-model.jpg)"
   ]
  },
  {
   "cell_type": "markdown",
   "metadata": {},
   "source": [
    "#### Post-hoc version\n",
    "In the following we are using the model as a *post-hoc global interpretable method*, by analysing a very bad MLP."
   ]
  },
  {
   "cell_type": "code",
   "execution_count": 6,
   "metadata": {},
   "outputs": [
    {
     "name": "stdout",
     "output_type": "stream",
     "text": [
      "Accuracy: 0.7\n"
     ]
    }
   ],
   "source": [
    "# train a dummy model to interpret\n",
    "classifier = neural_network.MLPClassifier(hidden_layer_sizes=(8,), alpha=0.0001, random_state=84)\n",
    "_ = classifier.fit(X_train, y_train_one_hot)\n",
    "print(\"Accuracy: {}\".format(accuracy_score(y_test_one_hot, classifier.predict(X_test))))"
   ]
  },
  {
   "cell_type": "markdown",
   "metadata": {},
   "source": [
    "This a pretty bad performance on the IRIS dataset. Let's assume that we are in a real word scenario, and we actually don't know that we are dealing with an MLP, i.e. let's assume we are dealing with a *black-box* model. Can we get a feeling of what is going wrong in the model? Let's use the Generalised Linear Rule Model in a post-hoc fashion!"
   ]
  },
  {
   "cell_type": "code",
   "execution_count": 7,
   "metadata": {},
   "outputs": [],
   "source": [
    "# First, binarize the model to be compatible with the rule-based interpreter\n",
    "model = BinarizedClassifier(\n",
    "    classifier, data_type=DataType.TABULAR,\n",
    "    label_index=label_index\n",
    ")\n",
    "# Create explainable model, interpreting the model\n",
    "post_hoc_model = RuleAIX360(\n",
    "    'glrm_logistic', X=X_test,\n",
    "    # binarize the model to be compatible with the rule-based interpreter\n",
    "    model=model\n",
    ")"
   ]
  },
  {
   "cell_type": "code",
   "execution_count": 8,
   "metadata": {
    "scrolled": false
   },
   "outputs": [
    {
     "name": "stdout",
     "output_type": "stream",
     "text": [
      "                                                    rule coefficient\n",
      "0  (intercept)                                           -0.712175  \n",
      "1  sepal width (cm) > 2.70 AND petal length (cm) <= 5.23  11.2239   \n",
      "2  petal length (cm) > 4.65                              -5.21811   \n",
      "3  petal length (cm) <= 4.65                              4.62463   \n",
      "4  petal length (cm) > 5.23                              -2.89786   \n",
      "5  petal length (cm) <= 5.23                              2.30438   \n",
      "6  petal length (cm) > 5.04                              -0.853485  \n",
      "7  petal length (cm) <= 5.04                              0.260006  \n"
     ]
    }
   ],
   "source": [
    "# Explain model\n",
    "post_hoc_model.interpret();"
   ]
  },
  {
   "cell_type": "markdown",
   "metadata": {},
   "source": [
    "Okay, our interpretability method unveiled the underlying classification rules of the MLP. Let's visualize them.\n",
    "Here we show the predictions of the MLP on the test samples (left) and the ground truth (right) on a 2D plot with *petal length* and *sepal width* on the axes. We use the same color coding as before: *setosa* samples are blue, the others are red, and the area described by the most important rule (line 1 of the rule list) is in blue. "
   ]
  },
  {
   "cell_type": "code",
   "execution_count": 9,
   "metadata": {
    "scrolled": false
   },
   "outputs": [
    {
     "data": {
      "image/png": "[encoded data removed]",
      "text/plain": [
       "<Figure size 432x288 with 2 Axes>"
      ]
     },
     "metadata": {
      "needs_background": "light"
     },
     "output_type": "display_data"
    }
   ],
   "source": [
    "# Plot MLP predictions\n",
    "ax = plt.subplot(1,2,1)\n",
    "y_hat = model.predict(X_test)\n",
    "sns.scatterplot(x=\"petal length (cm)\", y=\"sepal width (cm)\", data=X_test.iloc[y_hat == 1], color='b')\n",
    "sns.scatterplot(x=\"petal length (cm)\", y=\"sepal width (cm)\", data=X_test.iloc[y_hat == 0], color='r')\n",
    "_ = ax.axvspan(\n",
    "    xmin=ax.get_xlim()[0], xmax=5.23, ymin=(2.7 - ax.get_ylim()[0])/ax.get_ylim()[1], ymax=1.0,\n",
    "    facecolor='b', alpha=0.4\n",
    ")\n",
    "ax.set_title('Predictions for setosa')\n",
    "\n",
    "# Plot ground truth\n",
    "ax = plt.subplot(1,2,2)\n",
    "sns.scatterplot(x=\"petal length (cm)\", y=\"sepal width (cm)\", data=X_test.iloc[y_test == 1], color='b')\n",
    "sns.scatterplot(x=\"petal length (cm)\", y=\"sepal width (cm)\", data=X_test.iloc[y_test == 0], color='r')\n",
    "_ = ax.axvspan(\n",
    "    xmin=ax.get_xlim()[0], xmax=5.23, ymin=(2.7 - ax.get_ylim()[0])/ax.get_ylim()[1], ymax=1.0,\n",
    "    facecolor='b', alpha=0.4\n",
    ")\n",
    "ax.set_title('Ground truth for setosa')\n",
    "\n",
    "plt.subplots_adjust(wspace=0.5)"
   ]
  },
  {
   "cell_type": "markdown",
   "metadata": {},
   "source": [
    "As we can see there are quite some samples that are misclassified. The interpretable method helps us see why: apparently the MLP is using the *petal length* in the \"wrong way\", by thresholding it incorrectly. This is evident from the misclassification of the points with *petal length* values between 3 and 5. We'd call this a successful debugging! *Hurray*!"
   ]
  },
  {
   "cell_type": "markdown",
   "metadata": {},
   "source": [
    "## Want to know more?"
   ]
  },
  {
   "cell_type": "markdown",
   "metadata": {},
   "source": [
    "![tell_me_more](https://memeshappen.com/media/created/2019/12/Youve-got-my-attention-Tell-me-more.jpg)"
   ]
  },
  {
   "cell_type": "markdown",
   "metadata": {},
   "source": [
    "This is the first post in a series from the Cognitive Health Care and Life Sciences at IBM Research Zürich and was authored by [An-phi Nguyen](http://researcher.watson.ibm.com/researcher/view.php?person=zurich-UYE) ([github](https://github.com/phineasng), [twitter](https://twitter.com/phineas_zu)), [Joris Cadow](https://researcher.watson.ibm.com/researcher/view.php?person=zurich-DOW) ([github](https://github.com/C-nit/), [twitter](https://twitter.com/tse_nit)), and [Matteo Manica](http://researcher.watson.ibm.com/researcher/view.php?person=zurich-TTE) ([github](https://github.com/drugilsberg), [twitter](https://twitter.com/drugilsberg)). If you found this blog post interesting and you want to know more about `depiction`. Just take a look at the repo, the examples and the workshop in our [repo](https://github.com/IBM/depiction)."
   ]
  }
 ],
 "metadata": {
  "kernelspec": {
   "display_name": "Python 3",
   "language": "python",
   "name": "python3"
  },
  "language_info": {
   "codemirror_mode": {
    "name": "ipython",
    "version": 3
   },
   "file_extension": ".py",
   "mimetype": "text/x-python",
   "name": "python",
   "nbconvert_exporter": "python",
   "pygments_lexer": "ipython3",
   "version": "3.7.5"
  }
 },
 "nbformat": 4,
 "nbformat_minor": 2
}
