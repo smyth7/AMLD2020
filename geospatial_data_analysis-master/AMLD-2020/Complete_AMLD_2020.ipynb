{
 "cells": [
  {
   "cell_type": "code",
   "execution_count": 2,
   "metadata": {
    "colab": {},
    "colab_type": "code",
    "id": "OxsTPZphD2ol"
   },
   "outputs": [
    {
     "data": {
      "application/javascript": [
       "IPython.notebook.set_autosave_interval(0)"
      ]
     },
     "metadata": {},
     "output_type": "display_data"
    },
    {
     "name": "stdout",
     "output_type": "stream",
     "text": [
      "Autosave disabled\n"
     ]
    }
   ],
   "source": [
    "# libraries\n",
    "import matplotlib.pyplot as plt\n",
    "import shapely.wkb as wkblib\n",
    "import numpy as np\n",
    "import keplergl\n",
    "import pickle\n",
    "import pandas as pd\n",
    "import time\n",
    "import osmium\n",
    "import os\n",
    "\n",
    "from collections import OrderedDict\n",
    "from pyproj import Proj\n",
    "from h3 import h3\n",
    "\n",
    "from sklearn.model_selection import train_test_split\n",
    "from sklearn.linear_model import LinearRegression\n",
    "from sklearn.metrics import mean_squared_error\n",
    "from sklearn.preprocessing import StandardScaler\n",
    "from sklearn.neighbors import KNeighborsRegressor\n",
    "from geopandas import GeoSeries, GeoDataFrame\n",
    "from rtree import index\n",
    "\n",
    "from utils.OSRMFramework import OSRMFramework\n",
    "from utils.RouteAnnotator import RouteAnnotator\n",
    "from utils.plot_geometry import plot_geometry\n",
    "from utils.conversor import latlon2linestring\n",
    "\n",
    "%load_ext autoreload\n",
    "%autoreload 2\n",
    "%autosave 0\n",
    "\n",
    "###### constants\n",
    "TARGET = 'fare_amount'\n",
    "DATASET_PATH = 'data/taxi_fare_sample_100000.csv'\n",
    "H3_RES_ANALYSIS = 7\n",
    "\n",
    "IS_DOCKER = os.environ.get('IS_DOCKER', False)\n",
    "if IS_DOCKER:\n",
    "    OSRM_PATH = 'osrm-router:5000'  # OSRM path for when it's instantiated through docker-compose (service name)\n",
    "else:\n",
    "    OSRM_PATH = 'localhost:5000'    # OSRM path for when it's instantiated locally\n",
    "\n"
   ]
  },
  {
   "cell_type": "markdown",
   "metadata": {},
   "source": [
    "---------------\n",
    "Notebook for AMLD 2020 Workshop: [Feature Engineering for Spatial Data Analysis](https://appliedmldays.org/workshops/feature-engineering-for-spatial-data-analysis).  \n",
    "  \n",
    "Authors:  \n",
    "* Caio Miyashiro: caiohenrique37@gmail.com  \n",
    "* Eva Jaumann: eva.jaumann@mytaxi.com  \n",
    "* Selim Onat: selim.onat@mytaxi.com  \n",
    "\n",
    "Github Repository: https://github.com/caiomiyashiro/geospatial_data_analysis/tree/master/AMLD-2020 \n",
    "\n",
    "# Installation\n",
    "\n",
    "If you did not already: Please follow the README file for setup instructions.\n",
    "\n",
    "Make sure that you have a kaggle account.\n",
    "\n",
    "---------------\n",
    "  \n",
    "# Introduction\n",
    "  \n",
    "Welcome to the workshop! Today you're going to learn several techniques related to the processing of geospatial data. We're going to use as background motivation the Kaggle dataset on [Prediction of Taxis Fares](https://www.kaggle.com/c/new-york-city-taxi-fare-prediction) but our main goal is for you to learn the concepts and techniques on how to process such kind of datasets. We'll iteratively build models with higher level features and go through the concepts oh what do they mean and how were they created. At the end, we're going to check one more advanced example on how we can make use of mobility data in order to calculate and incorporate traffic information to your feature engineering processes:\n",
    " \n",
    "<img src=\"images/wordcloud_.png\" width=\"500\"> \n",
    "\n",
    "The main sections we're going to cover are:\n",
    "\n",
    "<img src=\"images/toc_0.png\" width=\"500\"> \n",
    "\n",
    "## Dataset\n",
    "\n",
    "<img src=\"images/kaggle_page.png\" width=\"700\"> \n",
    "<center>Kaggle Taxi Prediction Homepage Picture</center>  \n",
    "\n",
    "The challenge of this dataset is the predict the final fare paid by user by just having a small set of variables to work with:\n",
    "* **pickup_datetime**: Time that a user was picked-up by a taxi\n",
    "* **pickup_latitude**:   pickup location\n",
    "* **pickup_longitude**:  pickup location\n",
    "* **dropoff_latitude**:  drop-off location\n",
    "* **dropoff_longitude**: drop-off location   \n",
    "* **passenger_count**: amount of passengers in this trip\n",
    "  \n",
    "This creates a few challenges, as we don't exactly know the route that the driver took. This means that any fixed taxes or tolls are not explicited coded as variables, so we'll see a few ways to try to identify these hidden features.  \n",
    "\n",
    "<div class=\"alert alert-block alert-info\">\n",
    "    1. The main focus of this workshop will be <b>not</b> about minimizing your model error score, but rather to explain to you the main concepts and techniques when working with spatial data :) <br/><br/>\n",
    "    2. The original dataset is big (> 5Gb of data) so, for this workshop, we've randomly sampled it and made it available for you as a csv file. Lets take a look at it:\n",
    "</div>\n",
    "\n",
    "\n"
   ]
  },
  {
   "cell_type": "code",
   "execution_count": 3,
   "metadata": {
    "colab": {
     "base_uri": "https://localhost:8080/",
     "height": 336
    },
    "colab_type": "code",
    "id": "1SLycpVN9BM-",
    "outputId": "1855cfed-4c48-4817-9b74-6e8b04d7ce40"
   },
   "outputs": [
    {
     "data": {
      "text/html": [
       "<div>\n",
       "<style scoped>\n",
       "    .dataframe tbody tr th:only-of-type {\n",
       "        vertical-align: middle;\n",
       "    }\n",
       "\n",
       "    .dataframe tbody tr th {\n",
       "        vertical-align: top;\n",
       "    }\n",
       "\n",
       "    .dataframe thead th {\n",
       "        text-align: right;\n",
       "    }\n",
       "</style>\n",
       "<table border=\"1\" class=\"dataframe\">\n",
       "  <thead>\n",
       "    <tr style=\"text-align: right;\">\n",
       "      <th></th>\n",
       "      <th>fare_amount</th>\n",
       "      <th>pickup_datetime</th>\n",
       "      <th>pickup_longitude</th>\n",
       "      <th>pickup_latitude</th>\n",
       "      <th>dropoff_longitude</th>\n",
       "      <th>dropoff_latitude</th>\n",
       "      <th>passenger_count</th>\n",
       "    </tr>\n",
       "  </thead>\n",
       "  <tbody>\n",
       "    <tr>\n",
       "      <th>0</th>\n",
       "      <td>8.1</td>\n",
       "      <td>2009-01-23 07:28:00</td>\n",
       "      <td>-73.996070</td>\n",
       "      <td>40.732605</td>\n",
       "      <td>-73.980675</td>\n",
       "      <td>40.761864</td>\n",
       "      <td>1</td>\n",
       "    </tr>\n",
       "    <tr>\n",
       "      <th>1</th>\n",
       "      <td>9.0</td>\n",
       "      <td>2014-01-04 21:11:00</td>\n",
       "      <td>-73.977640</td>\n",
       "      <td>40.752346</td>\n",
       "      <td>-73.970390</td>\n",
       "      <td>40.768867</td>\n",
       "      <td>2</td>\n",
       "    </tr>\n",
       "    <tr>\n",
       "      <th>2</th>\n",
       "      <td>6.5</td>\n",
       "      <td>2015-06-22 01:54:24</td>\n",
       "      <td>-74.000080</td>\n",
       "      <td>40.728610</td>\n",
       "      <td>-73.988730</td>\n",
       "      <td>40.722170</td>\n",
       "      <td>6</td>\n",
       "    </tr>\n",
       "    <tr>\n",
       "      <th>3</th>\n",
       "      <td>4.5</td>\n",
       "      <td>2010-11-24 12:46:52</td>\n",
       "      <td>-73.962685</td>\n",
       "      <td>40.775646</td>\n",
       "      <td>-73.957436</td>\n",
       "      <td>40.777767</td>\n",
       "      <td>1</td>\n",
       "    </tr>\n",
       "    <tr>\n",
       "      <th>4</th>\n",
       "      <td>4.5</td>\n",
       "      <td>2011-11-01 02:19:34</td>\n",
       "      <td>-73.996300</td>\n",
       "      <td>40.753600</td>\n",
       "      <td>-73.998800</td>\n",
       "      <td>40.761100</td>\n",
       "      <td>1</td>\n",
       "    </tr>\n",
       "  </tbody>\n",
       "</table>\n",
       "</div>"
      ],
      "text/plain": [
       "   fare_amount     pickup_datetime  pickup_longitude  pickup_latitude  \\\n",
       "0          8.1 2009-01-23 07:28:00        -73.996070        40.732605   \n",
       "1          9.0 2014-01-04 21:11:00        -73.977640        40.752346   \n",
       "2          6.5 2015-06-22 01:54:24        -74.000080        40.728610   \n",
       "3          4.5 2010-11-24 12:46:52        -73.962685        40.775646   \n",
       "4          4.5 2011-11-01 02:19:34        -73.996300        40.753600   \n",
       "\n",
       "   dropoff_longitude  dropoff_latitude  passenger_count  \n",
       "0         -73.980675         40.761864                1  \n",
       "1         -73.970390         40.768867                2  \n",
       "2         -73.988730         40.722170                6  \n",
       "3         -73.957436         40.777767                1  \n",
       "4         -73.998800         40.761100                1  "
      ]
     },
     "metadata": {},
     "output_type": "display_data"
    },
    {
     "data": {
      "text/plain": [
       "fare_amount                 float64\n",
       "pickup_datetime      datetime64[ns]\n",
       "pickup_longitude            float64\n",
       "pickup_latitude             float64\n",
       "dropoff_longitude           float64\n",
       "dropoff_latitude            float64\n",
       "passenger_count               int64\n",
       "dtype: object"
      ]
     },
     "metadata": {},
     "output_type": "display_data"
    }
   ],
   "source": [
    "df = pd.read_csv(DATASET_PATH)\n",
    "df['pickup_datetime'] = pd.to_datetime(df['pickup_datetime'])\n",
    "display(df.head())\n",
    "display(df.dtypes)\n"
   ]
  },
  {
   "cell_type": "markdown",
   "metadata": {},
   "source": [
    "### Latitude/Longitude\n",
    "\n",
    "Latitude and longitude are imaginary horizontal and vertical lines respectively that run around the earth.  \n",
    "\n",
    "* Latitude run across the globe, and the latitude that runs through the middle of the Earth is given the number zero degrees (0°) and is called the Equator.  \n",
    "\n",
    "* Longitude are vertical lines around Earth. They meet at the poles and are wide apart at Equator.  \n",
    "\n",
    "Together, latitude and longitude identify a point on a spherical system, in our case on our planet The Earth.  \n",
    "\n",
    "<img src=\"images/latitude_longitude.png\" width=\"600\"> \n",
    "<center>Image source - <a href=\"https://en.wikipedia.org/wiki/Geographic_coordinate_system\">https://en.wikipedia.org/wiki/Geographic_coordinate_system</a></center> "
   ]
  },
  {
   "cell_type": "code",
   "execution_count": 4,
   "metadata": {
    "scrolled": true
   },
   "outputs": [
    {
     "data": {
      "text/html": [
       "<div>\n",
       "<style scoped>\n",
       "    .dataframe tbody tr th:only-of-type {\n",
       "        vertical-align: middle;\n",
       "    }\n",
       "\n",
       "    .dataframe tbody tr th {\n",
       "        vertical-align: top;\n",
       "    }\n",
       "\n",
       "    .dataframe thead th {\n",
       "        text-align: right;\n",
       "    }\n",
       "</style>\n",
       "<table border=\"1\" class=\"dataframe\">\n",
       "  <thead>\n",
       "    <tr style=\"text-align: right;\">\n",
       "      <th></th>\n",
       "      <th>fare_amount</th>\n",
       "      <th>pickup_longitude</th>\n",
       "      <th>pickup_latitude</th>\n",
       "      <th>dropoff_longitude</th>\n",
       "      <th>dropoff_latitude</th>\n",
       "      <th>passenger_count</th>\n",
       "    </tr>\n",
       "  </thead>\n",
       "  <tbody>\n",
       "    <tr>\n",
       "      <th>count</th>\n",
       "      <td>100000.000000</td>\n",
       "      <td>100000.000000</td>\n",
       "      <td>100000.000000</td>\n",
       "      <td>99997.000000</td>\n",
       "      <td>99997.000000</td>\n",
       "      <td>100000.000000</td>\n",
       "    </tr>\n",
       "    <tr>\n",
       "      <th>mean</th>\n",
       "      <td>11.298185</td>\n",
       "      <td>-72.503374</td>\n",
       "      <td>39.936948</td>\n",
       "      <td>-72.509601</td>\n",
       "      <td>39.883197</td>\n",
       "      <td>1.683030</td>\n",
       "    </tr>\n",
       "    <tr>\n",
       "      <th>std</th>\n",
       "      <td>9.694575</td>\n",
       "      <td>11.145909</td>\n",
       "      <td>11.092231</td>\n",
       "      <td>12.491615</td>\n",
       "      <td>8.350488</td>\n",
       "      <td>1.462362</td>\n",
       "    </tr>\n",
       "    <tr>\n",
       "      <th>min</th>\n",
       "      <td>-10.100000</td>\n",
       "      <td>-736.600000</td>\n",
       "      <td>-74.013110</td>\n",
       "      <td>-1843.172200</td>\n",
       "      <td>-1723.679800</td>\n",
       "      <td>0.000000</td>\n",
       "    </tr>\n",
       "    <tr>\n",
       "      <th>25%</th>\n",
       "      <td>6.000000</td>\n",
       "      <td>-73.992100</td>\n",
       "      <td>40.734930</td>\n",
       "      <td>-73.991400</td>\n",
       "      <td>40.733967</td>\n",
       "      <td>1.000000</td>\n",
       "    </tr>\n",
       "    <tr>\n",
       "      <th>50%</th>\n",
       "      <td>8.500000</td>\n",
       "      <td>-73.981810</td>\n",
       "      <td>40.752501</td>\n",
       "      <td>-73.980240</td>\n",
       "      <td>40.753143</td>\n",
       "      <td>1.000000</td>\n",
       "    </tr>\n",
       "    <tr>\n",
       "      <th>75%</th>\n",
       "      <td>12.500000</td>\n",
       "      <td>-73.967255</td>\n",
       "      <td>40.766987</td>\n",
       "      <td>-73.963660</td>\n",
       "      <td>40.768120</td>\n",
       "      <td>2.000000</td>\n",
       "    </tr>\n",
       "    <tr>\n",
       "      <th>max</th>\n",
       "      <td>500.000000</td>\n",
       "      <td>40.804394</td>\n",
       "      <td>2925.007300</td>\n",
       "      <td>40.800520</td>\n",
       "      <td>73.979050</td>\n",
       "      <td>208.000000</td>\n",
       "    </tr>\n",
       "  </tbody>\n",
       "</table>\n",
       "</div>"
      ],
      "text/plain": [
       "         fare_amount  pickup_longitude  pickup_latitude  dropoff_longitude  \\\n",
       "count  100000.000000     100000.000000    100000.000000       99997.000000   \n",
       "mean       11.298185        -72.503374        39.936948         -72.509601   \n",
       "std         9.694575         11.145909        11.092231          12.491615   \n",
       "min       -10.100000       -736.600000       -74.013110       -1843.172200   \n",
       "25%         6.000000        -73.992100        40.734930         -73.991400   \n",
       "50%         8.500000        -73.981810        40.752501         -73.980240   \n",
       "75%        12.500000        -73.967255        40.766987         -73.963660   \n",
       "max       500.000000         40.804394      2925.007300          40.800520   \n",
       "\n",
       "       dropoff_latitude  passenger_count  \n",
       "count      99997.000000    100000.000000  \n",
       "mean          39.883197         1.683030  \n",
       "std            8.350488         1.462362  \n",
       "min        -1723.679800         0.000000  \n",
       "25%           40.733967         1.000000  \n",
       "50%           40.753143         1.000000  \n",
       "75%           40.768120         2.000000  \n",
       "max           73.979050       208.000000  "
      ]
     },
     "metadata": {},
     "output_type": "display_data"
    }
   ],
   "source": [
    "df.describe()"
   ]
  },
  {
   "cell_type": "markdown",
   "metadata": {
    "colab_type": "text",
    "id": "fe6TjpszDVbG"
   },
   "source": [
    "# First Analysis  \n",
    "\n",
    "Before we start understanding our data, we should check its integrity. We apply some sanity checks in the data to remove anything that'd be impossible to happen, such as negative fares.\n",
    "\n",
    "## Check amount of NaN\n",
    "\n",
    "The number of nan elements are irrelevant. So we just remove them.  "
   ]
  },
  {
   "cell_type": "code",
   "execution_count": 3,
   "metadata": {
    "scrolled": true
   },
   "outputs": [
    {
     "data": {
      "text/plain": [
       "fare_amount          0\n",
       "pickup_datetime      0\n",
       "pickup_longitude     0\n",
       "pickup_latitude      0\n",
       "dropoff_longitude    3\n",
       "dropoff_latitude     3\n",
       "passenger_count      0\n",
       "dtype: int64"
      ]
     },
     "metadata": {},
     "output_type": "display_data"
    }
   ],
   "source": [
    "# check amount of NaN - just remove them\n",
    "display(df.isna().sum())\n",
    "\n",
    "df.dropna(subset=['dropoff_longitude', 'dropoff_latitude'], inplace=True)"
   ]
  },
  {
   "cell_type": "markdown",
   "metadata": {},
   "source": [
    "## Check impossible fares\n",
    "\n",
    "Note that we're removing only **impossible** fares for now. Any filter based on value distribution should be done only using the training set."
   ]
  },
  {
   "cell_type": "code",
   "execution_count": 4,
   "metadata": {},
   "outputs": [
    {
     "data": {
      "text/plain": [
       "count    99997.000000\n",
       "mean        11.297973\n",
       "std          9.694583\n",
       "min        -10.100000\n",
       "25%          6.000000\n",
       "50%          8.500000\n",
       "75%         12.500000\n",
       "max        500.000000\n",
       "Name: fare_amount, dtype: float64"
      ]
     },
     "metadata": {},
     "output_type": "display_data"
    },
    {
     "name": "stdout",
     "output_type": "stream",
     "text": [
      "\n",
      "11 rows with fare under or equal 0\n"
     ]
    }
   ],
   "source": [
    "display(df['fare_amount'].describe())\n",
    "print('')\n",
    "\n",
    "fare_under_0 = np.sum(df['fare_amount']<=0)\n",
    "print(f'{fare_under_0} rows with fare under or equal 0')\n",
    "\n",
    "df = df.loc[df['fare_amount'] >= 0]"
   ]
  },
  {
   "cell_type": "markdown",
   "metadata": {},
   "source": [
    "## Spatial Data Visual Analysis\n",
    "  \n",
    "From the first `describe` function in the section above, we see that there're a few latitudes/longitudes for both pick up and drop-off that are away from the main mass of data. In order to confirm we can use a visual tool.   \n",
    "\n",
    "### Kepler\n",
    "\n",
    "[Kepler.gl](https://eng.uber.com/keplergl/) is an open source tool from Uber that allow us to easily plot and visualize different types of geospatial data. It's originally created in React, but you can upload csv's directly to their [application website](https://kepler.gl/) and now also in Python with the [Jupyter extension](https://medium.com/vis-gl/introducing-kepler-gl-for-jupyter-f72d41659fbf).  \n",
    "  \n",
    "Kepler can visualize the following polygons:   \n",
    "<img src=\"images/kepler_polygons_.jpg\" width=\"200\"> \n",
    "  \n",
    "* **Point**: Unique points associated to 1 pair of columns `latitude`/`longitude`\n",
    "* **Line**: Origin-Destination line, drawing a line from point A to point B. It needs 2 pairs of columns `lat`/`lon`\n",
    "* **Arc**: Same as line but lines are curved that puts longer distances in evidence.\n",
    "* **Heatmap**: Aggregate close by `Points` in a way that, in places where more points are together, the more the heatmap's color change\n",
    "* **Grid**: Similar to heatmaps, but aggregate data in quadratic polygons\n",
    "* **HexBin**: Similar to heatmaps, but aggregate data in hexagonal polygons\n",
    "* **Polygon**: Custom geometries defined in your dataset. Can be constructed by using [GeoPandas](http://geopandas.org/) + [GeoJSON](https://macwright.org/2015/03/23/geojson-second-bite.html) structures. You can check some examples [here](https://github.com/keplergl/kepler.gl/blob/master/bindings/kepler.gl-jupyter/notebooks/GeoDataFrame.ipynb) but it's not in the scope of this workshop. However, feel free to approach and ask us :)\n",
    "* **Cluster**: Cluster data `points` similar to Heatmap, but is customizable by how much data is aggregated by its *radius* parameter\n",
    "* **Icon**: Similar to `Point` but allow user to use a column \"*icon*\" containing strings that represent visual icons. In order to check for examples create a new **Icon** layer and click on the link `how to` right above the layer type:\n",
    "* **H3**: Visualize data based on H3 indexes `hex_id` column. We're going to look at H3 in the next section.\n",
    "* **3D**: Allow users upload 3d city models, such as relief maps or building plants and join them into the analysis with the already mentioned geometries.\n",
    "* **Trip**: Similar as `Polygon`, a *polyline* is a kind of polygons composed of a sequence of connected points, except for the first and last `Point`. Polylines are defined in GeoJSON and can be used with GeoPandas\n",
    "  \n",
    "You can check a few visuals in the [examples section](https://github.com/keplergl/kepler.gl/blob/master/docs/user-guides/c-types-of-layers.md) of kepler Github repository.  \n",
    "\n",
    "### Check pickup and dropoff points points  \n",
    "\n",
    "For checking pick-up and drop-off locations, we're going to check these `Points` in kepler by sending the latitudes and longitudes from both fields and build a Points layer in Kepler\n",
    "  \n"
   ]
  },
  {
   "cell_type": "code",
   "execution_count": 67,
   "metadata": {
    "scrolled": false
   },
   "outputs": [
    {
     "name": "stdout",
     "output_type": "stream",
     "text": [
      "User Guide: https://github.com/keplergl/kepler.gl/blob/master/docs/keplergl-jupyter/user-guide.md\n"
     ]
    },
    {
     "data": {
      "application/vnd.jupyter.widget-view+json": {
       "model_id": "b4aedaf7696742cd86c3b1fd37726495",
       "version_major": 2,
       "version_minor": 0
      },
      "text/plain": [
       "KeplerGl(data={'points': {'index': [0, 1, 2, 3, 4, 5, 6, 7, 8, 9, 10, 11, 12, 13, 14, 16, 17, 18, 19, 20, 21, …"
      ]
     },
     "metadata": {},
     "output_type": "display_data"
    }
   ],
   "source": [
    "w1 = keplergl.KeplerGl(height=500)\n",
    "w1.add_data(data=df[['pickup_latitude', 'pickup_longitude',\n",
    "                     'dropoff_latitude', 'dropoff_longitude']], name='points')\n",
    "w1"
   ]
  },
  {
   "cell_type": "markdown",
   "metadata": {},
   "source": [
    "We can see that some points are quite wrong, being not just outside New York, but rather in other countries or even in the middle of the ocean. Lets do a simple approach to remove those points and build a [bounding box](https://wiki.openstreetmap.org/wiki/Bounding_Box) (bbox), *i.e.*, a square around New York.  \n",
    "  \n",
    "In order to build a squared bbox, we need two pairs of [latitude, longitude] points, the bottom left and top right corners. In order to get them, we can click on specific places on [Google Maps](https://www.google.com/maps) and get the returned latitude/longitudes points. Finally, everything that's outside the bbox definition, we will filter out from our dataset.\n",
    "\n",
    "<img src=\"images/ny_bbox.png\" width=\"600\"> \n",
    "<center>Image source - <a href=\"https://gis.stackexchange.com/questions/255158/get-minimum-and-maximum-latitude-and-longitude-of-new-york\">https://gis.stackexchange.com/questions/255158/get-minimum-and-maximum-latitude-and-longitude-of-new-york</a></center> \n"
   ]
  },
  {
   "cell_type": "code",
   "execution_count": 6,
   "metadata": {},
   "outputs": [],
   "source": [
    "def remove_outside_bbox(df, bbox, lat_col, lon_col):\n",
    "    df_ = df.copy()\n",
    "    mask_lat = (df_[lat_col] > bbox[0][0]) & (df_[lat_col] < bbox[1][0])\n",
    "    mask_lon = (df_[lon_col] > bbox[0][1]) & (df_[lon_col] < bbox[1][1])\n",
    "    return df_.loc[(mask_lat) & (mask_lon)]\n",
    "\n",
    "bottom_left_lat_lon = [40.492016, -74.279034]\n",
    "upper_right_lat_lon = [40.913473, -73.689152]\n",
    "bbox = [bottom_left_lat_lon, upper_right_lat_lon]\n",
    "\n",
    "df = remove_outside_bbox(df, bbox, 'pickup_latitude', 'pickup_longitude')\n",
    "df = remove_outside_bbox(df, bbox, 'dropoff_latitude', 'dropoff_longitude')\n",
    "\n"
   ]
  },
  {
   "cell_type": "markdown",
   "metadata": {},
   "source": [
    "Lets check it again:"
   ]
  },
  {
   "cell_type": "code",
   "execution_count": 7,
   "metadata": {},
   "outputs": [],
   "source": [
    "w1 = keplergl.KeplerGl(height=500)\n",
    "w1.add_data(data=df[['pickup_latitude', 'pickup_longitude',\n",
    "                     'dropoff_latitude', 'dropoff_longitude']], name='points')\n",
    "w1"
   ]
  },
  {
   "cell_type": "markdown",
   "metadata": {
    "colab_type": "text",
    "id": "3bypvW8YD-Ih"
   },
   "source": [
    "# Split training and testing"
   ]
  },
  {
   "cell_type": "code",
   "execution_count": 8,
   "metadata": {
    "colab": {
     "base_uri": "https://localhost:8080/",
     "height": 52
    },
    "colab_type": "code",
    "id": "MRKsnouKEAvN",
    "outputId": "07716d2f-065f-4330-89df-513f69eb0fe9"
   },
   "outputs": [
    {
     "name": "stdout",
     "output_type": "stream",
     "text": [
      "Shape X_train (78180, 6)\n",
      "Shape X_test (19546, 6)\n"
     ]
    }
   ],
   "source": [
    "######\n",
    "###### Helper functions\n",
    "def split_training_test(df, target=TARGET, test_size=0.2):\n",
    "    X = df.drop(TARGET, axis=1)\n",
    "    y = df[TARGET]\n",
    "    return train_test_split(X, y, test_size=test_size, random_state=42) \n",
    "\n",
    "def join_Xy(df, target, target_str=TARGET):\n",
    "    df_ = df.copy()\n",
    "    df_[target_str] = target\n",
    "    return df_\n",
    "\n",
    "######\n",
    "###### Main function\n",
    "def get_initial_training_testing_set(df):\n",
    "    X_train, X_test, y_train, y_test = split_training_test(df)\n",
    "    print(f'Shape X_train {X_train.shape}')\n",
    "    print(f'Shape X_test {X_test.shape}')\n",
    "\n",
    "    # join target for easier exploratory analysis\n",
    "    df_train = join_Xy(X_train, y_train)\n",
    "    df_test = join_Xy(X_test, y_test)\n",
    "    return df_train, df_test\n",
    "\n",
    "df_train, df_test = get_initial_training_testing_set(df)"
   ]
  },
  {
   "cell_type": "markdown",
   "metadata": {},
   "source": [
    "# Data Analysis\n",
    "\n",
    "In the machine learning context, we want to have the best quality data in our training procedure, as outliers can impact your model training process and therefore, create bad predictions for when your model is in production. With this second step on data analysis, we check the data distribution to check for extreme variations in our dataset. Besides serving for the purpose explained above, this also indicate the type of rules that we should consider when the model is in `production`.  \n",
    "  \n",
    "- For example, what should we do if we have a model for predicting Taxi fares made for NY in production and we receive a fare prediction request with a pick-up latitude/longitude referencing Brazil? \n",
    "\n",
    "\n",
    "## Remove fares < minimum fare and outliers > 99th percentile\n",
    "\n",
    "Lets use a simple percentil rule in order to remove training data whose fare is minimum that the city regulation defines and more than 99% of the other fares presenting in our training set."
   ]
  },
  {
   "cell_type": "code",
   "execution_count": 9,
   "metadata": {},
   "outputs": [
    {
     "data": {
      "text/plain": [
       "count    78180.000000\n",
       "mean        11.245007\n",
       "std          9.485479\n",
       "min          0.000000\n",
       "1%           3.300000\n",
       "5%           4.100000\n",
       "10%          4.500000\n",
       "50%          8.500000\n",
       "90%         20.000000\n",
       "95%         30.000000\n",
       "99%         52.000000\n",
       "max        500.000000\n",
       "Name: fare_amount, dtype: float64"
      ]
     },
     "metadata": {},
     "output_type": "display_data"
    },
    {
     "data": {
      "image/png": "[encoded data removed]",
      "text/plain": [
       "<Figure size 432x288 with 1 Axes>"
      ]
     },
     "metadata": {
      "needs_background": "light"
     },
     "output_type": "display_data"
    }
   ],
   "source": [
    "# minimum fare = $2.5: https://www1.nyc.gov/site/tlc/passengers/taxi-fare.page\n",
    "\n",
    "display(df_train['fare_amount'].describe(percentiles=[.01, .05, .1, .90,.95,.99]))\n",
    "\n",
    "### df_train = df_train.loc[(df_train['fare_amount'] > 2.5) & (df_train['fare_amount'] < 52)]\n",
    "df_train = df_train.loc[(df_train['fare_amount'] >= 2.5) & (df_train['fare_amount'] < 52)]\n",
    "\n",
    "\n",
    "plt.hist(df_train['fare_amount'], bins='auto')\n",
    "plt.title('Histogram of Fare')\n",
    "plt.xlabel('Dollars ($)');\n",
    "# display(df_train['fare_amount'].hist(bins='auto'));\n"
   ]
  },
  {
   "cell_type": "markdown",
   "metadata": {},
   "source": [
    "## Average demand per region over 1 weekday - H3\n",
    "\n",
    "The analysis of large location data sets can be done by aggregating the locations in areas. To do this we could use zip codes, but the areas all have different sizes and may not describe real neigbour hood similarities. \n",
    "\n",
    "Therefore, a regular grid is a better solution. Only three polygons tile regularly (triangles, squares and hexagons) and only hexagons have the same distances to their neighbor cells (you may want to check this with a small drawing). Furthermore, the earth is not flat, but almost a sphere. Since a grid is only two dimensional, [projection](https://xkcd.com/977/) is needed. With the gnomonic projection, the earth is projected on an icosahedron, where the hexagons can be put on its surfaces ([more information](https://eng.uber.com/h3/)).   \n",
    "\n",
    "<img src=\"images/h3_proj.png\" width=\"200\"> \n",
    "<center>Image source - <a href=\"https://eng.uber.com/h3/\">https://eng.uber.com/h3/</a></center> \n",
    "\n",
    "\n",
    "We will use [H3](https://uber.github.io/h3), Uber's open source geospational indexing system and use it for visualisations. The size of the hexagons is defined by the [resolution](https://uber.github.io/h3/#/documentation/core-library/resolution-table), e.g. a resolution of 7 results in a hexagon area of 5 square km. The size is like a zoom level, the higher the value, the higher the resolution and the lower the area.\n",
    "\n",
    "In the following we will calculate the demand per heaxagon on a given weekday and visualise it with kepler."
   ]
  },
  {
   "cell_type": "code",
   "execution_count": 11,
   "metadata": {},
   "outputs": [
    {
     "data": {
      "text/html": [
       "<div>\n",
       "<style scoped>\n",
       "    .dataframe tbody tr th:only-of-type {\n",
       "        vertical-align: middle;\n",
       "    }\n",
       "\n",
       "    .dataframe tbody tr th {\n",
       "        vertical-align: top;\n",
       "    }\n",
       "\n",
       "    .dataframe thead th {\n",
       "        text-align: right;\n",
       "    }\n",
       "</style>\n",
       "<table border=\"1\" class=\"dataframe\">\n",
       "  <thead>\n",
       "    <tr style=\"text-align: right;\">\n",
       "      <th></th>\n",
       "      <th>pickup_datetime</th>\n",
       "      <th>pickup_longitude</th>\n",
       "      <th>pickup_latitude</th>\n",
       "      <th>dropoff_longitude</th>\n",
       "      <th>dropoff_latitude</th>\n",
       "      <th>passenger_count</th>\n",
       "      <th>fare_amount</th>\n",
       "      <th>pickup_h3</th>\n",
       "      <th>dropoff_h3</th>\n",
       "      <th>weekday</th>\n",
       "      <th>counts</th>\n",
       "    </tr>\n",
       "  </thead>\n",
       "  <tbody>\n",
       "    <tr>\n",
       "      <th>0</th>\n",
       "      <td>2015-04-05 14:04:06</td>\n",
       "      <td>-73.97853</td>\n",
       "      <td>40.764107</td>\n",
       "      <td>-73.976875</td>\n",
       "      <td>40.751816</td>\n",
       "      <td>1</td>\n",
       "      <td>10.5</td>\n",
       "      <td>872a100d6ffffff</td>\n",
       "      <td>872a100d6ffffff</td>\n",
       "      <td>6</td>\n",
       "      <td>1986</td>\n",
       "    </tr>\n",
       "    <tr>\n",
       "      <th>1</th>\n",
       "      <td>2014-11-30 01:35:00</td>\n",
       "      <td>-73.96109</td>\n",
       "      <td>40.759340</td>\n",
       "      <td>-73.979660</td>\n",
       "      <td>40.739180</td>\n",
       "      <td>1</td>\n",
       "      <td>9.0</td>\n",
       "      <td>872a100d6ffffff</td>\n",
       "      <td>872a100d2ffffff</td>\n",
       "      <td>6</td>\n",
       "      <td>1986</td>\n",
       "    </tr>\n",
       "    <tr>\n",
       "      <th>2</th>\n",
       "      <td>2014-03-09 16:05:00</td>\n",
       "      <td>-73.98131</td>\n",
       "      <td>40.759434</td>\n",
       "      <td>-73.988625</td>\n",
       "      <td>40.746037</td>\n",
       "      <td>1</td>\n",
       "      <td>7.5</td>\n",
       "      <td>872a100d6ffffff</td>\n",
       "      <td>872a100d2ffffff</td>\n",
       "      <td>6</td>\n",
       "      <td>1986</td>\n",
       "    </tr>\n",
       "    <tr>\n",
       "      <th>3</th>\n",
       "      <td>2011-12-18 09:59:00</td>\n",
       "      <td>-73.97392</td>\n",
       "      <td>40.750492</td>\n",
       "      <td>-73.973000</td>\n",
       "      <td>40.753740</td>\n",
       "      <td>5</td>\n",
       "      <td>3.3</td>\n",
       "      <td>872a100d6ffffff</td>\n",
       "      <td>872a100d6ffffff</td>\n",
       "      <td>6</td>\n",
       "      <td>1986</td>\n",
       "    </tr>\n",
       "    <tr>\n",
       "      <th>4</th>\n",
       "      <td>2015-01-11 19:08:40</td>\n",
       "      <td>-73.97714</td>\n",
       "      <td>40.758244</td>\n",
       "      <td>-73.998040</td>\n",
       "      <td>40.717827</td>\n",
       "      <td>2</td>\n",
       "      <td>15.0</td>\n",
       "      <td>872a100d6ffffff</td>\n",
       "      <td>872a1072cffffff</td>\n",
       "      <td>6</td>\n",
       "      <td>1986</td>\n",
       "    </tr>\n",
       "  </tbody>\n",
       "</table>\n",
       "</div>"
      ],
      "text/plain": [
       "      pickup_datetime  pickup_longitude  pickup_latitude  dropoff_longitude  \\\n",
       "0 2015-04-05 14:04:06         -73.97853        40.764107         -73.976875   \n",
       "1 2014-11-30 01:35:00         -73.96109        40.759340         -73.979660   \n",
       "2 2014-03-09 16:05:00         -73.98131        40.759434         -73.988625   \n",
       "3 2011-12-18 09:59:00         -73.97392        40.750492         -73.973000   \n",
       "4 2015-01-11 19:08:40         -73.97714        40.758244         -73.998040   \n",
       "\n",
       "   dropoff_latitude  passenger_count  fare_amount        pickup_h3  \\\n",
       "0         40.751816                1         10.5  872a100d6ffffff   \n",
       "1         40.739180                1          9.0  872a100d6ffffff   \n",
       "2         40.746037                1          7.5  872a100d6ffffff   \n",
       "3         40.753740                5          3.3  872a100d6ffffff   \n",
       "4         40.717827                2         15.0  872a100d6ffffff   \n",
       "\n",
       "        dropoff_h3  weekday  counts  \n",
       "0  872a100d6ffffff        6    1986  \n",
       "1  872a100d2ffffff        6    1986  \n",
       "2  872a100d2ffffff        6    1986  \n",
       "3  872a100d6ffffff        6    1986  \n",
       "4  872a1072cffffff        6    1986  "
      ]
     },
     "execution_count": 11,
     "metadata": {},
     "output_type": "execute_result"
    }
   ],
   "source": [
    "## helper function\n",
    "from datetime import timedelta\n",
    "\n",
    "\n",
    "def add_day(day, reference_day='2019-01-07'):\n",
    "    return pd.to_datetime(reference_day) + timedelta(days=day)\n",
    "\n",
    "def average_demand_weekday(df,\n",
    "                           pickup_latitude='pickup_latitude', pickup_longitude='pickup_longitude',\n",
    "                           dropoff_latitude='dropoff_latitude', dropoff_longitude='dropoff_longitude',\n",
    "                           pickup_datetime='pickup_datetime', resolution=H3_RES_ANALYSIS):\n",
    "    df = df.copy()\n",
    "    \n",
    "    # hexagon indices\n",
    "    df['pickup_h3'] = [h3.geo_to_h3(lat, long, res=resolution) for lat, long in zip(df[pickup_latitude], \n",
    "                                                                                    df[pickup_longitude])]\n",
    "    df['dropoff_h3'] = [h3.geo_to_h3(lat, long, res=resolution) for lat, long in zip(df[dropoff_latitude], \n",
    "                                                                                    df[dropoff_longitude])]\n",
    "    \n",
    "    df['pickup_datetime'] = pd.to_datetime(df_train['pickup_datetime'], utc=True).dt.tz_convert('Europe/Berlin')\n",
    "\n",
    "\n",
    "    \n",
    "    # weekday\n",
    "    df['weekday'] = df[pickup_datetime].dt.dayofweek\n",
    "    \n",
    "    # aggregate per hexagon and weekday \n",
    "    df_aggregated = df.groupby(['pickup_h3','weekday']).size().reset_index(name='counts')\n",
    "    \n",
    "    df_demand = df.merge(df_aggregated, how = 'inner', on = ['pickup_h3', 'weekday'])\n",
    "    \n",
    "    # introduce a reference day as a reference week to have a playback option in kepler\n",
    "    df_demand['ref_week_date'] = df_demand.weekday.apply(add_day)\n",
    "\n",
    "\n",
    "    return df_demand\n",
    "\n",
    "df_hex = average_demand_weekday(df_train, resolution=H3_RES_ANALYSIS)\n",
    "\n",
    "df_hex.head()"
   ]
  },
  {
   "cell_type": "markdown",
   "metadata": {},
   "source": [
    "In the following cell you can play a little bit with hexagons.\n",
    "Ideas to do:\n",
    "\n",
    "* Open the menu >\n",
    "* Toggle the views of the already loaded visualisations\n",
    "* Create a new H3 layer and choose as the hex_id either pickup_h3 and dropoff_h3\n",
    "* Set the color to count (single hue to distinguish between pickup and dropoff) To do that, click on the 3 points menue.\n",
    "* Right next to the layer tool is the filter tool where you can add a filter with the weekday"
   ]
  },
  {
   "cell_type": "code",
   "execution_count": 69,
   "metadata": {},
   "outputs": [
    {
     "name": "stdout",
     "output_type": "stream",
     "text": [
      "User Guide: https://github.com/keplergl/kepler.gl/blob/master/docs/keplergl-jupyter/user-guide.md\n"
     ]
    },
    {
     "data": {
      "application/vnd.jupyter.widget-view+json": {
       "model_id": "9df6e55589b449bf907aa72c36e1981a",
       "version_major": 2,
       "version_minor": 0
      },
      "text/plain": [
       "KeplerGl(data={'hexagons': {'index': [0, 1, 2, 3, 4, 5, 6, 7, 8, 9, 10, 11, 12, 13, 14, 15, 16, 17, 18, 19, 20…"
      ]
     },
     "metadata": {},
     "output_type": "display_data"
    }
   ],
   "source": [
    "w1 = keplergl.KeplerGl(height=500)\n",
    "w1.add_data(data=df_hex, name='hexagons')\n",
    "w1"
   ]
  },
  {
   "cell_type": "markdown",
   "metadata": {},
   "source": [
    "## Exercise: Origin-Destination map over 1 Week - H3\n",
    "\n",
    "To see which routes are the most demanded, we connect the pickup hexagon centers with the dropoff hexagon centers.  \n",
    "  \n",
    "**Can you think on the most popular drop-off?**"
   ]
  },
  {
   "cell_type": "code",
   "execution_count": 13,
   "metadata": {},
   "outputs": [
    {
     "data": {
      "text/html": [
       "<div>\n",
       "<style scoped>\n",
       "    .dataframe tbody tr th:only-of-type {\n",
       "        vertical-align: middle;\n",
       "    }\n",
       "\n",
       "    .dataframe tbody tr th {\n",
       "        vertical-align: top;\n",
       "    }\n",
       "\n",
       "    .dataframe thead th {\n",
       "        text-align: right;\n",
       "    }\n",
       "</style>\n",
       "<table border=\"1\" class=\"dataframe\">\n",
       "  <thead>\n",
       "    <tr style=\"text-align: right;\">\n",
       "      <th></th>\n",
       "      <th>lat_pickup</th>\n",
       "      <th>lng_pickup</th>\n",
       "      <th>lat_dropoff</th>\n",
       "      <th>lng_dropoff</th>\n",
       "      <th>counts</th>\n",
       "      <th>weekday</th>\n",
       "    </tr>\n",
       "  </thead>\n",
       "  <tbody>\n",
       "    <tr>\n",
       "      <th>0</th>\n",
       "      <td>40.760835</td>\n",
       "      <td>-73.973311</td>\n",
       "      <td>40.760835</td>\n",
       "      <td>-73.973311</td>\n",
       "      <td>1986</td>\n",
       "      <td>6</td>\n",
       "    </tr>\n",
       "    <tr>\n",
       "      <th>1</th>\n",
       "      <td>40.760835</td>\n",
       "      <td>-73.973311</td>\n",
       "      <td>40.741943</td>\n",
       "      <td>-73.987555</td>\n",
       "      <td>1986</td>\n",
       "      <td>6</td>\n",
       "    </tr>\n",
       "    <tr>\n",
       "      <th>4</th>\n",
       "      <td>40.760835</td>\n",
       "      <td>-73.973311</td>\n",
       "      <td>40.723054</td>\n",
       "      <td>-74.001787</td>\n",
       "      <td>1986</td>\n",
       "      <td>6</td>\n",
       "    </tr>\n",
       "    <tr>\n",
       "      <th>6</th>\n",
       "      <td>40.760835</td>\n",
       "      <td>-73.973311</td>\n",
       "      <td>40.778923</td>\n",
       "      <td>-73.989006</td>\n",
       "      <td>1986</td>\n",
       "      <td>6</td>\n",
       "    </tr>\n",
       "    <tr>\n",
       "      <th>12</th>\n",
       "      <td>40.760835</td>\n",
       "      <td>-73.973311</td>\n",
       "      <td>40.798625</td>\n",
       "      <td>-73.944790</td>\n",
       "      <td>1986</td>\n",
       "      <td>6</td>\n",
       "    </tr>\n",
       "  </tbody>\n",
       "</table>\n",
       "</div>"
      ],
      "text/plain": [
       "    lat_pickup  lng_pickup  lat_dropoff  lng_dropoff  counts  weekday\n",
       "0    40.760835  -73.973311    40.760835   -73.973311    1986        6\n",
       "1    40.760835  -73.973311    40.741943   -73.987555    1986        6\n",
       "4    40.760835  -73.973311    40.723054   -74.001787    1986        6\n",
       "6    40.760835  -73.973311    40.778923   -73.989006    1986        6\n",
       "12   40.760835  -73.973311    40.798625   -73.944790    1986        6"
      ]
     },
     "execution_count": 13,
     "metadata": {},
     "output_type": "execute_result"
    }
   ],
   "source": [
    "def average_arc_weekday(df,\n",
    "                        pickup_hex='pickup_h3', dropoff_hex='dropoff_h3',\n",
    "                        counts='counts', weekday='weekday'):\n",
    "    \n",
    "    center_pickup_hex = 'center_pickup_hex'\n",
    "    center_dropoff_hex = 'center_dropoff_hex'\n",
    "    df[center_pickup_hex] = df[pickup_hex].apply(lambda x: h3.h3_to_geo(x))\n",
    "    df[center_dropoff_hex] = df[dropoff_hex].apply(lambda x: h3.h3_to_geo(x))\n",
    "    \n",
    "    df['lng_pickup'] = df[center_pickup_hex].apply(lambda x: x[1])\n",
    "    df['lat_pickup'] = df[center_pickup_hex].apply(lambda x: x[0])\n",
    "    df['lng_dropoff'] = df[center_dropoff_hex].apply(lambda x: x[1])\n",
    "    df['lat_dropoff'] = df[center_dropoff_hex].apply(lambda x: x[0])\n",
    "    return df[['lat_pickup', 'lng_pickup', 'lat_dropoff', 'lng_dropoff', counts, weekday]].drop_duplicates()\n",
    "\n",
    "df_arc = average_arc_weekday(df_hex)\n",
    "df_arc.head()"
   ]
  },
  {
   "cell_type": "code",
   "execution_count": 70,
   "metadata": {},
   "outputs": [
    {
     "name": "stdout",
     "output_type": "stream",
     "text": [
      "User Guide: https://github.com/keplergl/kepler.gl/blob/master/docs/keplergl-jupyter/user-guide.md\n"
     ]
    },
    {
     "data": {
      "application/vnd.jupyter.widget-view+json": {
       "model_id": "ef9e8d8e20704c42a887334266e01091",
       "version_major": 2,
       "version_minor": 0
      },
      "text/plain": [
       "KeplerGl(data={'hexagons': {'index': [0, 1, 4, 6, 12, 13, 15, 19, 20, 21, 22, 24, 26, 28, 34, 39, 59, 64, 65, …"
      ]
     },
     "metadata": {},
     "output_type": "display_data"
    }
   ],
   "source": [
    "w1 = keplergl.KeplerGl(height=500)\n",
    "w1.add_data(data=df_arc.drop_duplicates(), name='hexagons')\n",
    "w1"
   ]
  },
  {
   "cell_type": "markdown",
   "metadata": {},
   "source": [
    "# Feature Engineering - Model Iterations\n",
    "\n",
    "Now that we have a cleaner training set, we can use it to create our predictions! For teaching purposes, we're going to create multiple models, with incremental set of features/complexity. For each iteration, we're going to show a demo with the feature's concept, create a pipeline, train our models and then show and store the errors by their's [Root Mean Squared Error - RMSE](https://en.wikipedia.org/wiki/Root-mean-square_deviation).\n",
    "\n",
    "## Start experiment tracking\n",
    "\n",
    "We're going to store the RMSEs for each iteration in this dictionary and look at it at the end of each iteration."
   ]
  },
  {
   "cell_type": "code",
   "execution_count": 15,
   "metadata": {
    "colab": {},
    "colab_type": "code",
    "id": "ShZLGIYzk-cI"
   },
   "outputs": [],
   "source": [
    "iteration_results = OrderedDict()"
   ]
  },
  {
   "cell_type": "markdown",
   "metadata": {},
   "source": [
    "## Model 0 - Lazy Estimator - Median Fare\n",
    "\n",
    "In order to have a baseline, we're going to start with a lazy model, one that, for every row in our training (and testing) dataset, will predict only the median fare of the training set. The only purpose of this is to have a upper error limit and we hope to see it decreasing after every iteration on the model's features."
   ]
  },
  {
   "cell_type": "code",
   "execution_count": 16,
   "metadata": {},
   "outputs": [
    {
     "name": "stdout",
     "output_type": "stream",
     "text": [
      "Median Fare: 8.5\n",
      "RMSE: 9.61393775520487\n"
     ]
    }
   ],
   "source": [
    "median_f = df_train['fare_amount'].median()\n",
    "print(f'Median Fare: {median_f}')\n",
    "\n",
    "y_test_pred_lazy = [median_f] * df_test.shape[0]                      # array with same length as y_test\n",
    "\n",
    "rmse = np.sqrt(mean_squared_error(df_test[TARGET], y_test_pred_lazy)) # RMSE\n",
    "iteration_results['exp_0_lazy_rmse'] = rmse                           # store in experiments results\n",
    "print(f'RMSE: {rmse}')"
   ]
  },
  {
   "cell_type": "markdown",
   "metadata": {
    "colab_type": "text",
    "id": "dSmcxpLMF_xJ"
   },
   "source": [
    "## Model 1 - Euclidean Distance"
   ]
  },
  {
   "cell_type": "code",
   "execution_count": 17,
   "metadata": {
    "colab": {
     "base_uri": "https://localhost:8080/",
     "height": 138
    },
    "colab_type": "code",
    "id": "sO-69Fi2FAYt",
    "outputId": "b4d0270e-167d-4a8d-b251-6d1cd365b238"
   },
   "outputs": [
    {
     "data": {
      "text/html": [
       "<div>\n",
       "<style scoped>\n",
       "    .dataframe tbody tr th:only-of-type {\n",
       "        vertical-align: middle;\n",
       "    }\n",
       "\n",
       "    .dataframe tbody tr th {\n",
       "        vertical-align: top;\n",
       "    }\n",
       "\n",
       "    .dataframe thead th {\n",
       "        text-align: right;\n",
       "    }\n",
       "</style>\n",
       "<table border=\"1\" class=\"dataframe\">\n",
       "  <thead>\n",
       "    <tr style=\"text-align: right;\">\n",
       "      <th></th>\n",
       "      <th>pickup_datetime</th>\n",
       "      <th>pickup_longitude</th>\n",
       "      <th>pickup_latitude</th>\n",
       "      <th>dropoff_longitude</th>\n",
       "      <th>dropoff_latitude</th>\n",
       "      <th>passenger_count</th>\n",
       "      <th>fare_amount</th>\n",
       "      <th>euclidean_dist</th>\n",
       "    </tr>\n",
       "  </thead>\n",
       "  <tbody>\n",
       "    <tr>\n",
       "      <th>81127</th>\n",
       "      <td>2015-04-05 14:04:06</td>\n",
       "      <td>-73.978530</td>\n",
       "      <td>40.764107</td>\n",
       "      <td>-73.976875</td>\n",
       "      <td>40.751816</td>\n",
       "      <td>1</td>\n",
       "      <td>10.5</td>\n",
       "      <td>0.012402</td>\n",
       "    </tr>\n",
       "    <tr>\n",
       "      <th>88083</th>\n",
       "      <td>2009-10-22 20:28:40</td>\n",
       "      <td>-73.951350</td>\n",
       "      <td>40.778564</td>\n",
       "      <td>-73.963455</td>\n",
       "      <td>40.761920</td>\n",
       "      <td>2</td>\n",
       "      <td>5.7</td>\n",
       "      <td>0.020580</td>\n",
       "    </tr>\n",
       "    <tr>\n",
       "      <th>40667</th>\n",
       "      <td>2013-09-24 11:22:00</td>\n",
       "      <td>-74.012955</td>\n",
       "      <td>40.709984</td>\n",
       "      <td>-73.989600</td>\n",
       "      <td>40.702730</td>\n",
       "      <td>1</td>\n",
       "      <td>13.0</td>\n",
       "      <td>0.024456</td>\n",
       "    </tr>\n",
       "  </tbody>\n",
       "</table>\n",
       "</div>"
      ],
      "text/plain": [
       "          pickup_datetime  pickup_longitude  pickup_latitude  \\\n",
       "81127 2015-04-05 14:04:06        -73.978530        40.764107   \n",
       "88083 2009-10-22 20:28:40        -73.951350        40.778564   \n",
       "40667 2013-09-24 11:22:00        -74.012955        40.709984   \n",
       "\n",
       "       dropoff_longitude  dropoff_latitude  passenger_count  fare_amount  \\\n",
       "81127         -73.976875         40.751816                1         10.5   \n",
       "88083         -73.963455         40.761920                2          5.7   \n",
       "40667         -73.989600         40.702730                1         13.0   \n",
       "\n",
       "       euclidean_dist  \n",
       "81127        0.012402  \n",
       "88083        0.020580  \n",
       "40667        0.024456  "
      ]
     },
     "execution_count": 17,
     "metadata": {},
     "output_type": "execute_result"
    }
   ],
   "source": [
    "## Small Example\n",
    "##\n",
    "def euclidean_distance(x1, y1, x2, y2):\n",
    "    return (((x2-x1)**2 + (y2-y1)**2)**(1/2))\n",
    "\n",
    "df_train_temp = df_train.head(3).copy()\n",
    "df_train_temp['euclidean_dist'] = euclidean_distance(df_train_temp['pickup_latitude'], df_train_temp['pickup_longitude'], \n",
    "                                                   df_train_temp['dropoff_latitude'], df_train_temp['dropoff_longitude'])\n",
    "\n",
    "df_train_temp\n"
   ]
  },
  {
   "cell_type": "code",
   "execution_count": 18,
   "metadata": {
    "colab": {},
    "colab_type": "code",
    "id": "pCdZLbWRG15v"
   },
   "outputs": [
    {
     "data": {
      "text/html": [
       "<div>\n",
       "<style scoped>\n",
       "    .dataframe tbody tr th:only-of-type {\n",
       "        vertical-align: middle;\n",
       "    }\n",
       "\n",
       "    .dataframe tbody tr th {\n",
       "        vertical-align: top;\n",
       "    }\n",
       "\n",
       "    .dataframe thead th {\n",
       "        text-align: right;\n",
       "    }\n",
       "</style>\n",
       "<table border=\"1\" class=\"dataframe\">\n",
       "  <thead>\n",
       "    <tr style=\"text-align: right;\">\n",
       "      <th></th>\n",
       "      <th>euclidean_dist</th>\n",
       "      <th>fare_amount</th>\n",
       "    </tr>\n",
       "  </thead>\n",
       "  <tbody>\n",
       "    <tr>\n",
       "      <th>81127</th>\n",
       "      <td>0.012402</td>\n",
       "      <td>10.5</td>\n",
       "    </tr>\n",
       "    <tr>\n",
       "      <th>88083</th>\n",
       "      <td>0.020580</td>\n",
       "      <td>5.7</td>\n",
       "    </tr>\n",
       "    <tr>\n",
       "      <th>40667</th>\n",
       "      <td>0.024456</td>\n",
       "      <td>13.0</td>\n",
       "    </tr>\n",
       "    <tr>\n",
       "      <th>69985</th>\n",
       "      <td>0.063155</td>\n",
       "      <td>20.0</td>\n",
       "    </tr>\n",
       "    <tr>\n",
       "      <th>22252</th>\n",
       "      <td>0.024139</td>\n",
       "      <td>6.5</td>\n",
       "    </tr>\n",
       "  </tbody>\n",
       "</table>\n",
       "</div>"
      ],
      "text/plain": [
       "       euclidean_dist  fare_amount\n",
       "81127        0.012402         10.5\n",
       "88083        0.020580          5.7\n",
       "40667        0.024456         13.0\n",
       "69985        0.063155         20.0\n",
       "22252        0.024139          6.5"
      ]
     },
     "execution_count": 18,
     "metadata": {},
     "output_type": "execute_result"
    }
   ],
   "source": [
    "def standardize_features(df):\n",
    "    df_copy = df.copy()\n",
    "    col_names = df_copy.columns\n",
    "    ixs = df_copy.index\n",
    "    return pd.DataFrame(StandardScaler().fit_transform(df_copy), columns=col_names, index=ixs)\n",
    "\n",
    "def feature_pipeline_1(df, target_col=TARGET,\n",
    "                              pickup_latitude='pickup_latitude', pickup_longitude='pickup_longitude',\n",
    "                              dropoff_latitude='dropoff_latitude', dropoff_longitude='dropoff_longitude'):\n",
    "  \n",
    "    EUCLIDEAN_FEAT = 'euclidean_dist'\n",
    "    FEATURES = [EUCLIDEAN_FEAT]\n",
    "\n",
    "    df_copy = df.copy()\n",
    "    df_copy[EUCLIDEAN_FEAT] = euclidean_distance(x1=df_copy[pickup_latitude], y1=df_copy[pickup_longitude], \n",
    "                                                 x2=df_copy[dropoff_latitude], y2=df_copy[dropoff_longitude])\n",
    "    # in the EDA, we probably treat the nulls, so for now, just drop them\n",
    "    df_copy = df_copy.dropna()\n",
    "        \n",
    "    return df_copy[FEATURES + [target_col]]\n",
    "\n",
    "df_train_1 = feature_pipeline_1(df_train)\n",
    "df_test_1 = feature_pipeline_1(df_test)\n",
    "\n",
    "df_train_1.head()"
   ]
  },
  {
   "cell_type": "code",
   "execution_count": 19,
   "metadata": {
    "colab": {},
    "colab_type": "code",
    "id": "-eXRxwMFHVjE"
   },
   "outputs": [],
   "source": [
    "model_1 = LinearRegression()\n",
    "model_1.fit(df_train_1.drop(TARGET, axis=1), df_train_1[TARGET])\n",
    "\n",
    "y_test_pred_1 = model_1.predict(df_test_1.drop(TARGET, axis=1))"
   ]
  },
  {
   "cell_type": "code",
   "execution_count": 20,
   "metadata": {
    "colab": {
     "base_uri": "https://localhost:8080/",
     "height": 298
    },
    "colab_type": "code",
    "id": "N37YPJLAdTzy",
    "outputId": "b581fb72-42f9-4f2f-c8bb-ef9d506297f0"
   },
   "outputs": [
    {
     "name": "stdout",
     "output_type": "stream",
     "text": [
      "RMSE: 4.33833106609023\n"
     ]
    },
    {
     "data": {
      "image/png": "[encoded data removed]",
      "text/plain": [
       "<Figure size 432x288 with 1 Axes>"
      ]
     },
     "metadata": {
      "needs_background": "light"
     },
     "output_type": "display_data"
    }
   ],
   "source": [
    "def print_evaluation(y_obs, y_pred, max_lim_y=100, return_errors=True):\n",
    "    rmse_hist = np.sqrt((y_pred - y_obs)**2)\n",
    "    plt.hist(rmse_hist[y_obs < max_lim_y], bins=100)\n",
    "    plt.title('RMSE Distribution');\n",
    "\n",
    "    if(return_errors == True):\n",
    "        return mae_hist\n",
    "\n",
    "#####\n",
    "rmse = np.sqrt(mean_squared_error(df_test_1[TARGET], y_test_pred_1))\n",
    "iteration_results['exp_1_rmse'] = rmse\n",
    "print(f'RMSE: {rmse}')\n",
    "\n",
    "print_evaluation(df_test_1[TARGET], y_test_pred_1, return_errors=False)"
   ]
  },
  {
   "cell_type": "markdown",
   "metadata": {
    "colab_type": "text",
    "id": "Hed4d4mGlVEZ"
   },
   "source": [
    "## Why the feature value above is not correct? \n",
    "\n",
    "\n",
    "### Projections\n",
    "\n",
    "Projections are a mathematical transformation that take spherical coordinates (latitude and longitude) and transform them to an XY (planar) coordinate system. These help us to create maps that accurately show distances, areas and directions and hence measure metrics between two points.  \n",
    "  \n",
    "There are many types of projections, popular ones include: Universal transverse Mercator (UTM) and Lambert Conformal Conic. UTM is discussed in detail below, the latter is used mainly in mid-latitude areas.This uses two Standard Parallel (lines of latitudes which are unevenly spaced concentric circles).  \n",
    "  \n",
    "More information on Projections can be found here: https://www.icsm.gov.au/education/fundamentals-mapping/projections/commonly-used-map-projections\n",
    "\n",
    "### Universal Transverse Mercator (UTM) \n",
    "\n",
    "<img src=\"images/utm_grid.jpg\" width=\"500\"> \n",
    "<center>UTM Projection grid - <a href=\"https://www.youtube.com/watch?v=LcVlx4Gur7I\">https://www.youtube.com/watch?v=LcVlx4Gur7I</a></center> \n",
    "\n",
    "UTM is a projection that, as other projection types, maps the spherical earth to a flat surface. However, UTM performs this operation to a set of subgrids. \n",
    "* This has the advantage of not having long distortions in the poles or in the equator, such as Mercator's or Robinson's projections. **When calculating distances from the same sub grid** \n",
    "* Suffer the same distortion effects when projecting features that encompass multiple grids or distances from far away objects  \n",
    "\n",
    "Therefore, for localized distances between elements, *i.e.*, elements that fall over the same grid, [UTM is a good projection system](https://www.esri.com/arcgis-blog/products/arcgis-enterprise/mapping/measuring-distances-and-areas-when-your-map-uses-the-mercator-projection/). In our distance calculations, UTM is a good choice, because their projections are calculated on `meters` unit.\n",
    "  \n",
    "UTM projects the latitude and longitude to a [three numbers representation](https://en.wikipedia.org/wiki/Universal_Transverse_Mercator_coordinate_system#Locating_a_position_using_UTM_coordinates):\n",
    "* **Zone** - Zone is a number attributed to every grid as in the picture above. We can use online tools to figure out the UTM zone of a region\n",
    "* **Easting** - For every grid, their central meridian starts with a value of 500.000 and the *easting* value represents how many `meters` east is the point to this grid's meridian\n",
    "* **Northing** - For every grid, this value represents how far away the point is from the south pole `in meters`\n",
    "\n",
    "### Adapted Pipeline 1 code for UTM\n",
    "\n",
    "To project our lat/lon points to UTM, we use the [pyproj](https://pypi.org/project/pyproj/#description) package. **Notice** how, in the function, we have to send the coordinates in the correct order - **longitude**/**latitude**:"
   ]
  },
  {
   "cell_type": "code",
   "execution_count": 21,
   "metadata": {},
   "outputs": [
    {
     "data": {
      "text/html": [
       "<div>\n",
       "<style scoped>\n",
       "    .dataframe tbody tr th:only-of-type {\n",
       "        vertical-align: middle;\n",
       "    }\n",
       "\n",
       "    .dataframe tbody tr th {\n",
       "        vertical-align: top;\n",
       "    }\n",
       "\n",
       "    .dataframe thead th {\n",
       "        text-align: right;\n",
       "    }\n",
       "</style>\n",
       "<table border=\"1\" class=\"dataframe\">\n",
       "  <thead>\n",
       "    <tr style=\"text-align: right;\">\n",
       "      <th></th>\n",
       "      <th>pickup_datetime</th>\n",
       "      <th>pickup_longitude</th>\n",
       "      <th>pickup_latitude</th>\n",
       "      <th>dropoff_longitude</th>\n",
       "      <th>dropoff_latitude</th>\n",
       "      <th>passenger_count</th>\n",
       "      <th>fare_amount</th>\n",
       "      <th>pickup_easting</th>\n",
       "      <th>pickup_northing</th>\n",
       "      <th>dropoff_easting</th>\n",
       "      <th>dropoff_northing</th>\n",
       "    </tr>\n",
       "  </thead>\n",
       "  <tbody>\n",
       "    <tr>\n",
       "      <th>81127</th>\n",
       "      <td>2015-04-05 14:04:06</td>\n",
       "      <td>-73.978530</td>\n",
       "      <td>40.764107</td>\n",
       "      <td>-73.976875</td>\n",
       "      <td>40.751816</td>\n",
       "      <td>1</td>\n",
       "      <td>10.5</td>\n",
       "      <td>586213.422929</td>\n",
       "      <td>4.513073e+06</td>\n",
       "      <td>586369.017332</td>\n",
       "      <td>4.511710e+06</td>\n",
       "    </tr>\n",
       "    <tr>\n",
       "      <th>88083</th>\n",
       "      <td>2009-10-22 20:28:40</td>\n",
       "      <td>-73.951350</td>\n",
       "      <td>40.778564</td>\n",
       "      <td>-73.963455</td>\n",
       "      <td>40.761920</td>\n",
       "      <td>2</td>\n",
       "      <td>5.7</td>\n",
       "      <td>588488.305192</td>\n",
       "      <td>4.514705e+06</td>\n",
       "      <td>587488.661543</td>\n",
       "      <td>4.512845e+06</td>\n",
       "    </tr>\n",
       "    <tr>\n",
       "      <th>40667</th>\n",
       "      <td>2013-09-24 11:22:00</td>\n",
       "      <td>-74.012955</td>\n",
       "      <td>40.709984</td>\n",
       "      <td>-73.989600</td>\n",
       "      <td>40.702730</td>\n",
       "      <td>1</td>\n",
       "      <td>13.0</td>\n",
       "      <td>583375.414083</td>\n",
       "      <td>4.507032e+06</td>\n",
       "      <td>585357.497098</td>\n",
       "      <td>4.506249e+06</td>\n",
       "    </tr>\n",
       "  </tbody>\n",
       "</table>\n",
       "</div>"
      ],
      "text/plain": [
       "          pickup_datetime  pickup_longitude  pickup_latitude  \\\n",
       "81127 2015-04-05 14:04:06        -73.978530        40.764107   \n",
       "88083 2009-10-22 20:28:40        -73.951350        40.778564   \n",
       "40667 2013-09-24 11:22:00        -74.012955        40.709984   \n",
       "\n",
       "       dropoff_longitude  dropoff_latitude  passenger_count  fare_amount  \\\n",
       "81127         -73.976875         40.751816                1         10.5   \n",
       "88083         -73.963455         40.761920                2          5.7   \n",
       "40667         -73.989600         40.702730                1         13.0   \n",
       "\n",
       "       pickup_easting  pickup_northing  dropoff_easting  dropoff_northing  \n",
       "81127   586213.422929     4.513073e+06    586369.017332      4.511710e+06  \n",
       "88083   588488.305192     4.514705e+06    587488.661543      4.512845e+06  \n",
       "40667   583375.414083     4.507032e+06    585357.497098      4.506249e+06  "
      ]
     },
     "execution_count": 21,
     "metadata": {},
     "output_type": "execute_result"
    }
   ],
   "source": [
    "## Small Example\n",
    "##\n",
    "def latlon2UTM(latitudes, longitudes, utm_proj_zone=18):\n",
    "    # project points to UTM\n",
    "    # New York city zone = 18 - https://www.latlong.net/lat-long-utm.html\n",
    "    lonlat2UTM = Proj(proj='utm', zone=utm_proj_zone, ellps='WGS84') \n",
    "    point_easting, point_northing = lonlat2UTM(longitudes, latitudes)\n",
    "    # lonlat2UTM(point_easting,point_northing,inverse=True) # to convert UTM back to lon/lat\n",
    "    return point_easting, point_northing\n",
    "\n",
    "df_train_temp = df_train.head(3).copy()\n",
    "\n",
    "pickup_dropoff_cols = ['pickup', 'dropoff']\n",
    "for point in pickup_dropoff_cols:\n",
    "    point_easting, point_northing = latlon2UTM(latitudes=df_train_temp[f'{point}_latitude'].values,\n",
    "                                               longitudes=df_train_temp[f'{point}_longitude'].values)\n",
    "    df_train_temp[f'{point}_easting'] = point_easting\n",
    "    df_train_temp[f'{point}_northing'] = point_northing\n",
    "    \n",
    "df_train_temp    "
   ]
  },
  {
   "cell_type": "code",
   "execution_count": 22,
   "metadata": {},
   "outputs": [
    {
     "data": {
      "text/html": [
       "<div>\n",
       "<style scoped>\n",
       "    .dataframe tbody tr th:only-of-type {\n",
       "        vertical-align: middle;\n",
       "    }\n",
       "\n",
       "    .dataframe tbody tr th {\n",
       "        vertical-align: top;\n",
       "    }\n",
       "\n",
       "    .dataframe thead th {\n",
       "        text-align: right;\n",
       "    }\n",
       "</style>\n",
       "<table border=\"1\" class=\"dataframe\">\n",
       "  <thead>\n",
       "    <tr style=\"text-align: right;\">\n",
       "      <th></th>\n",
       "      <th>euclidean_dist_km</th>\n",
       "      <th>fare_amount</th>\n",
       "    </tr>\n",
       "  </thead>\n",
       "  <tbody>\n",
       "    <tr>\n",
       "      <th>81127</th>\n",
       "      <td>1.371619</td>\n",
       "      <td>10.5</td>\n",
       "    </tr>\n",
       "    <tr>\n",
       "      <th>88083</th>\n",
       "      <td>2.111392</td>\n",
       "      <td>5.7</td>\n",
       "    </tr>\n",
       "    <tr>\n",
       "      <th>40667</th>\n",
       "      <td>2.131066</td>\n",
       "      <td>13.0</td>\n",
       "    </tr>\n",
       "    <tr>\n",
       "      <th>69985</th>\n",
       "      <td>6.568325</td>\n",
       "      <td>20.0</td>\n",
       "    </tr>\n",
       "    <tr>\n",
       "      <th>22252</th>\n",
       "      <td>2.446133</td>\n",
       "      <td>6.5</td>\n",
       "    </tr>\n",
       "  </tbody>\n",
       "</table>\n",
       "</div>"
      ],
      "text/plain": [
       "       euclidean_dist_km  fare_amount\n",
       "81127           1.371619         10.5\n",
       "88083           2.111392          5.7\n",
       "40667           2.131066         13.0\n",
       "69985           6.568325         20.0\n",
       "22252           2.446133          6.5"
      ]
     },
     "execution_count": 22,
     "metadata": {},
     "output_type": "execute_result"
    }
   ],
   "source": [
    "def feature_pipeline_1b(df, target_col=TARGET,\n",
    "                       pickup_latitude='pickup_latitude', pickup_longitude='pickup_longitude',\n",
    "                       dropoff_latitude='dropoff_latitude', dropoff_longitude='dropoff_longitude',\n",
    "                       utm_proj_zone=18):\n",
    "  \n",
    "    EUCLIDEAN_FEAT = 'euclidean_dist_km'\n",
    "    FEATURES = [EUCLIDEAN_FEAT]\n",
    "\n",
    "    df_copy = df.copy()\n",
    "    \n",
    "    pickup_dropoff_cols = ['pickup', 'dropoff']\n",
    "    for point in pickup_dropoff_cols:\n",
    "        point_easting, point_northing = latlon2UTM(latitudes=df_copy[f'{point}_latitude'].values,\n",
    "                                                   longitudes=df_copy[f'{point}_longitude'].values)\n",
    "        df_copy[f'{point}_easting'] = point_easting\n",
    "        df_copy[f'{point}_northing'] = point_northing\n",
    "    \n",
    "    df_copy[EUCLIDEAN_FEAT] = euclidean_distance(x1=df_copy['pickup_northing'], y1=df_copy['pickup_easting'], \n",
    "                                                 x2=df_copy['dropoff_northing'], y2=df_copy['dropoff_easting'])/1000\n",
    "    # in the EDA, we probably treat the nulls, so for now, just drop them\n",
    "    df_copy = df_copy.dropna()\n",
    "        \n",
    "    return df_copy[FEATURES + [target_col]]\n",
    "\n",
    "df_train_1b = feature_pipeline_1b(df_train)\n",
    "df_test_1b = feature_pipeline_1b(df_test)\n",
    "\n",
    "df_train_1b.head()\n"
   ]
  },
  {
   "cell_type": "code",
   "execution_count": 23,
   "metadata": {},
   "outputs": [],
   "source": [
    "model_1b = LinearRegression()\n",
    "model_1b.fit(df_train_1b.drop(TARGET, axis=1), df_train_1b[TARGET])\n",
    "\n",
    "y_test_pred_1b = model_1b.predict(df_test_1b.drop(TARGET, axis=1))"
   ]
  },
  {
   "cell_type": "code",
   "execution_count": 24,
   "metadata": {},
   "outputs": [
    {
     "name": "stdout",
     "output_type": "stream",
     "text": [
      "RMSE: 4.464849428041983\n"
     ]
    },
    {
     "data": {
      "image/png": "[encoded data removed]",
      "text/plain": [
       "<Figure size 432x288 with 1 Axes>"
      ]
     },
     "metadata": {
      "needs_background": "light"
     },
     "output_type": "display_data"
    }
   ],
   "source": [
    "rmse = np.sqrt(mean_squared_error(df_test_1b[TARGET], y_test_pred_1b))\n",
    "iteration_results['exp_1b_rmse'] = rmse\n",
    "print(f'RMSE: {rmse}')\n",
    "\n",
    "print_evaluation(df_test_1b[TARGET], y_test_pred_1b, return_errors=False)"
   ]
  },
  {
   "cell_type": "markdown",
   "metadata": {},
   "source": [
    "We can see that the score didn't change much, for small distances there's a big chance that latitude/longitude are highly correlated to UTM projections, except for the unit, which in UTM refers to meters, while lat/lon distances doesn't have any real unit."
   ]
  },
  {
   "cell_type": "code",
   "execution_count": 25,
   "metadata": {},
   "outputs": [
    {
     "data": {
      "text/html": [
       "<div>\n",
       "<style scoped>\n",
       "    .dataframe tbody tr th:only-of-type {\n",
       "        vertical-align: middle;\n",
       "    }\n",
       "\n",
       "    .dataframe tbody tr th {\n",
       "        vertical-align: top;\n",
       "    }\n",
       "\n",
       "    .dataframe thead th {\n",
       "        text-align: right;\n",
       "    }\n",
       "</style>\n",
       "<table border=\"1\" class=\"dataframe\">\n",
       "  <thead>\n",
       "    <tr style=\"text-align: right;\">\n",
       "      <th></th>\n",
       "      <th>euclidean_dist</th>\n",
       "      <th>euclidean_dist_km</th>\n",
       "    </tr>\n",
       "  </thead>\n",
       "  <tbody>\n",
       "    <tr>\n",
       "      <th>euclidean_dist</th>\n",
       "      <td>1.000000</td>\n",
       "      <td>0.992296</td>\n",
       "    </tr>\n",
       "    <tr>\n",
       "      <th>euclidean_dist_km</th>\n",
       "      <td>0.992296</td>\n",
       "      <td>1.000000</td>\n",
       "    </tr>\n",
       "  </tbody>\n",
       "</table>\n",
       "</div>"
      ],
      "text/plain": [
       "                   euclidean_dist  euclidean_dist_km\n",
       "euclidean_dist           1.000000           0.992296\n",
       "euclidean_dist_km        0.992296           1.000000"
      ]
     },
     "execution_count": 25,
     "metadata": {},
     "output_type": "execute_result"
    }
   ],
   "source": [
    "df_train_1[['euclidean_dist']].merge(df_train_1b[['euclidean_dist_km']], left_index=True, right_index=True).corr()"
   ]
  },
  {
   "cell_type": "markdown",
   "metadata": {},
   "source": [
    "### Manhattan\n",
    "\n",
    "The manhattan distance, also coincidentally called the [taxi cab distance](https://en.wikipedia.org/wiki/Taxicab_geometry), is a different distance definition, in which the distance between two points $A$ and $B$ is the sum of the absolute differences of their Cartesian coordinates, that is:\n",
    "\n",
    "$$d_{1}(p,q) = \\left \\| p-q \\right \\|_{1} = \\sum_{i=1}^{n}\\left | p_{i} - q_{i} \\right |$$  \n",
    "  \n",
    "The name refers to the minimum distance a taxi would have to travel in a place with regular square blocks instead of a direct straight line.  \n",
    "\n",
    "<img src=\"images/manhattan_distance.png\" width=\"250\"> \n",
    "<center>Source: <a href=\"https://en.wikipedia.org/wiki/Great-circle_distance\">Wikipedia</a></center>  \n",
    "\n",
    "### Haversine Distance:\n",
    "\n",
    "Both euclidean and manhattan are calculated considering that point P and Q are in a plane like a square. However, depending on the distance between the two points, these distances don't take the curvature of the earth into consideration, and their values would measure a distance that would cross through the earth!\n",
    "  \n",
    "<img src=\"images/haversine_example.png\" width=\"250\"> \n",
    "<center>Blue line representing euclidean distance between two further points P and Q and Haversine distance in red. Adapted from <a href=\"https://en.wikipedia.org/wiki/Great-circle_distance\">Wikipedia</a></center>  \n",
    "\n",
    "To account for this curvature, we use the [Haversine distance](https://en.wikipedia.org/wiki/Haversine_formula). It originally works with latitudes and longitudes so we don't even need to project our points to UTM before hand.  \n",
    "  \n",
    "As in this workshop we're dealing with small enough distances considering the whole earth as parameter, we don't expect big differences between the euclidean and Haversine. However, if you're dealing with bigger distances, Haversine should be preferred."
   ]
  },
  {
   "cell_type": "code",
   "execution_count": 26,
   "metadata": {
    "colab": {
     "base_uri": "https://localhost:8080/",
     "height": 138
    },
    "colab_type": "code",
    "id": "HjB400AfdUsm",
    "outputId": "89229ef5-4b3e-4b09-8662-60ac4bfb77b0"
   },
   "outputs": [
    {
     "data": {
      "text/html": [
       "<div>\n",
       "<style scoped>\n",
       "    .dataframe tbody tr th:only-of-type {\n",
       "        vertical-align: middle;\n",
       "    }\n",
       "\n",
       "    .dataframe tbody tr th {\n",
       "        vertical-align: top;\n",
       "    }\n",
       "\n",
       "    .dataframe thead th {\n",
       "        text-align: right;\n",
       "    }\n",
       "</style>\n",
       "<table border=\"1\" class=\"dataframe\">\n",
       "  <thead>\n",
       "    <tr style=\"text-align: right;\">\n",
       "      <th></th>\n",
       "      <th>pickup_datetime</th>\n",
       "      <th>pickup_longitude</th>\n",
       "      <th>pickup_latitude</th>\n",
       "      <th>dropoff_longitude</th>\n",
       "      <th>dropoff_latitude</th>\n",
       "      <th>passenger_count</th>\n",
       "      <th>fare_amount</th>\n",
       "      <th>haversine_dist</th>\n",
       "      <th>pickup_easting</th>\n",
       "      <th>pickup_northing</th>\n",
       "      <th>dropoff_easting</th>\n",
       "      <th>dropoff_northing</th>\n",
       "      <th>manhattan_dist</th>\n",
       "    </tr>\n",
       "  </thead>\n",
       "  <tbody>\n",
       "    <tr>\n",
       "      <th>81127</th>\n",
       "      <td>2015-04-05 14:04:06</td>\n",
       "      <td>-73.978530</td>\n",
       "      <td>40.764107</td>\n",
       "      <td>-73.976875</td>\n",
       "      <td>40.751816</td>\n",
       "      <td>1</td>\n",
       "      <td>10.5</td>\n",
       "      <td>1.372925</td>\n",
       "      <td>586213.422929</td>\n",
       "      <td>4.513073e+06</td>\n",
       "      <td>586369.017332</td>\n",
       "      <td>4.511710e+06</td>\n",
       "      <td>1518.359572</td>\n",
       "    </tr>\n",
       "    <tr>\n",
       "      <th>88083</th>\n",
       "      <td>2009-10-22 20:28:40</td>\n",
       "      <td>-73.951350</td>\n",
       "      <td>40.778564</td>\n",
       "      <td>-73.963455</td>\n",
       "      <td>40.761920</td>\n",
       "      <td>2</td>\n",
       "      <td>5.7</td>\n",
       "      <td>2.111571</td>\n",
       "      <td>588488.305192</td>\n",
       "      <td>4.514705e+06</td>\n",
       "      <td>587488.661543</td>\n",
       "      <td>4.512845e+06</td>\n",
       "      <td>2859.398369</td>\n",
       "    </tr>\n",
       "    <tr>\n",
       "      <th>40667</th>\n",
       "      <td>2013-09-24 11:22:00</td>\n",
       "      <td>-74.012955</td>\n",
       "      <td>40.709984</td>\n",
       "      <td>-73.989600</td>\n",
       "      <td>40.702730</td>\n",
       "      <td>1</td>\n",
       "      <td>13.0</td>\n",
       "      <td>2.126155</td>\n",
       "      <td>583375.414083</td>\n",
       "      <td>4.507032e+06</td>\n",
       "      <td>585357.497098</td>\n",
       "      <td>4.506249e+06</td>\n",
       "      <td>2764.892328</td>\n",
       "    </tr>\n",
       "  </tbody>\n",
       "</table>\n",
       "</div>"
      ],
      "text/plain": [
       "          pickup_datetime  pickup_longitude  pickup_latitude  \\\n",
       "81127 2015-04-05 14:04:06        -73.978530        40.764107   \n",
       "88083 2009-10-22 20:28:40        -73.951350        40.778564   \n",
       "40667 2013-09-24 11:22:00        -74.012955        40.709984   \n",
       "\n",
       "       dropoff_longitude  dropoff_latitude  passenger_count  fare_amount  \\\n",
       "81127         -73.976875         40.751816                1         10.5   \n",
       "88083         -73.963455         40.761920                2          5.7   \n",
       "40667         -73.989600         40.702730                1         13.0   \n",
       "\n",
       "       haversine_dist  pickup_easting  pickup_northing  dropoff_easting  \\\n",
       "81127        1.372925   586213.422929     4.513073e+06    586369.017332   \n",
       "88083        2.111571   588488.305192     4.514705e+06    587488.661543   \n",
       "40667        2.126155   583375.414083     4.507032e+06    585357.497098   \n",
       "\n",
       "       dropoff_northing  manhattan_dist  \n",
       "81127      4.511710e+06     1518.359572  \n",
       "88083      4.512845e+06     2859.398369  \n",
       "40667      4.506249e+06     2764.892328  "
      ]
     },
     "execution_count": 26,
     "metadata": {},
     "output_type": "execute_result"
    }
   ],
   "source": [
    "## Small Example\n",
    "##\n",
    "def manhattan_distance(x1, y1, x2, y2):        \n",
    "    dy = np.abs(y2 - y1)\n",
    "    dx = np.abs(x2 - x1)\n",
    "    return dy + dx\n",
    "\n",
    "def lat_longs2radians(lat1, lon1, lat2, lon2):\n",
    "    lat1, lon1, lat2, lon2 = map(np.radians, [lat1, lon1, lat2, lon2])\n",
    "    return lat1, lon1, lat2, lon2\n",
    "\n",
    "def haversine_distance(lat1, lon1, lat2, lon2):\n",
    "    \"\"\"\n",
    "    Calculate the great circle distance between two points\n",
    "    on the earth (specified in decimal degrees)\n",
    "\n",
    "    All args must be of equal length.\n",
    "\n",
    "    \"\"\"\n",
    "    lat1, lon1, lat2, lon2 = lat_longs2radians(lat1, lon1, lat2, lon2)\n",
    "    dlon = lon2 - lon1\n",
    "    dlat = lat2 - lat1\n",
    "    a = np.sin(dlat/2.0)**2 + np.cos(lat1) * np.cos(lat2) * np.sin(dlon/2.0)**2\n",
    "\n",
    "    c = 2 * np.arcsin(np.sqrt(a))\n",
    "    km = 6367 * c\n",
    "    return km\n",
    "\n",
    "\n",
    "#####\n",
    "#####\n",
    "df_train_temp = df_train.head(3).copy()\n",
    "df_train_temp['haversine_dist'] = haversine_distance(df_train_temp['pickup_latitude'], df_train_temp['pickup_longitude'], \n",
    "                                                     df_train_temp['dropoff_latitude'], df_train_temp['dropoff_longitude'])\n",
    "\n",
    "pickup_dropoff_cols = ['pickup', 'dropoff']\n",
    "for point in pickup_dropoff_cols:\n",
    "    point_easting, point_northing = latlon2UTM(latitudes=df_train_temp[f'{point}_latitude'].values,\n",
    "                                               longitudes=df_train_temp[f'{point}_longitude'].values)\n",
    "    df_train_temp[f'{point}_easting'] = point_easting\n",
    "    df_train_temp[f'{point}_northing'] = point_northing\n",
    "df_train_temp['manhattan_dist'] = manhattan_distance(df_train_temp['pickup_northing'], df_train_temp['pickup_easting'], \n",
    "                                                     df_train_temp['dropoff_northing'], df_train_temp['dropoff_easting'])\n",
    "\n",
    "df_train_temp\n"
   ]
  },
  {
   "cell_type": "code",
   "execution_count": 27,
   "metadata": {
    "colab": {},
    "colab_type": "code",
    "id": "u_qHuzQIvMoY"
   },
   "outputs": [
    {
     "data": {
      "text/html": [
       "<div>\n",
       "<style scoped>\n",
       "    .dataframe tbody tr th:only-of-type {\n",
       "        vertical-align: middle;\n",
       "    }\n",
       "\n",
       "    .dataframe tbody tr th {\n",
       "        vertical-align: top;\n",
       "    }\n",
       "\n",
       "    .dataframe thead th {\n",
       "        text-align: right;\n",
       "    }\n",
       "</style>\n",
       "<table border=\"1\" class=\"dataframe\">\n",
       "  <thead>\n",
       "    <tr style=\"text-align: right;\">\n",
       "      <th></th>\n",
       "      <th>euclidean_dist_km</th>\n",
       "      <th>manhattan_dist_km</th>\n",
       "      <th>haversine_dist_km</th>\n",
       "      <th>fare_amount</th>\n",
       "    </tr>\n",
       "  </thead>\n",
       "  <tbody>\n",
       "    <tr>\n",
       "      <th>81127</th>\n",
       "      <td>1.371619</td>\n",
       "      <td>1.518360</td>\n",
       "      <td>1.372925</td>\n",
       "      <td>10.5</td>\n",
       "    </tr>\n",
       "    <tr>\n",
       "      <th>88083</th>\n",
       "      <td>2.111392</td>\n",
       "      <td>2.859398</td>\n",
       "      <td>2.111571</td>\n",
       "      <td>5.7</td>\n",
       "    </tr>\n",
       "    <tr>\n",
       "      <th>40667</th>\n",
       "      <td>2.131066</td>\n",
       "      <td>2.764892</td>\n",
       "      <td>2.126155</td>\n",
       "      <td>13.0</td>\n",
       "    </tr>\n",
       "    <tr>\n",
       "      <th>69985</th>\n",
       "      <td>6.568325</td>\n",
       "      <td>8.744601</td>\n",
       "      <td>6.570039</td>\n",
       "      <td>20.0</td>\n",
       "    </tr>\n",
       "    <tr>\n",
       "      <th>22252</th>\n",
       "      <td>2.446133</td>\n",
       "      <td>3.355554</td>\n",
       "      <td>2.445977</td>\n",
       "      <td>6.5</td>\n",
       "    </tr>\n",
       "  </tbody>\n",
       "</table>\n",
       "</div>"
      ],
      "text/plain": [
       "       euclidean_dist_km  manhattan_dist_km  haversine_dist_km  fare_amount\n",
       "81127           1.371619           1.518360           1.372925         10.5\n",
       "88083           2.111392           2.859398           2.111571          5.7\n",
       "40667           2.131066           2.764892           2.126155         13.0\n",
       "69985           6.568325           8.744601           6.570039         20.0\n",
       "22252           2.446133           3.355554           2.445977          6.5"
      ]
     },
     "execution_count": 27,
     "metadata": {},
     "output_type": "execute_result"
    }
   ],
   "source": [
    "def feature_pipeline_2(df, target_col=TARGET, \n",
    "                              pickup_latitude='pickup_latitude', dropoff_latitude='dropoff_latitude', \n",
    "                              pickup_longitude='pickup_longitude', dropoff_longitude='dropoff_longitude'):\n",
    "    EUCLIDEAN_FEAT = 'euclidean_dist_km'\n",
    "    HAVERSINE_FEAT = 'haversine_dist_km'\n",
    "    MANHATTAN_FEAT = 'manhattan_dist_km'\n",
    "    FEATURES = [EUCLIDEAN_FEAT, MANHATTAN_FEAT, HAVERSINE_FEAT]\n",
    "\n",
    "    df_copy = df.copy()\n",
    "    \n",
    "    # Execute previous features' pipeline\n",
    "    df_euclidean = feature_pipeline_1b(df_copy)\n",
    "    df_copy[EUCLIDEAN_FEAT] = df_euclidean[EUCLIDEAN_FEAT]\n",
    "    \n",
    "    pickup_dropoff_cols = ['pickup', 'dropoff']\n",
    "    for point in pickup_dropoff_cols:\n",
    "        point_easting, point_northing = latlon2UTM(latitudes=df_copy[f'{point}_latitude'].values,\n",
    "                                                   longitudes=df_copy[f'{point}_longitude'].values)\n",
    "        df_copy[f'{point}_easting'] = point_easting\n",
    "        df_copy[f'{point}_northing'] = point_northing\n",
    "\n",
    "    df_copy[MANHATTAN_FEAT] = manhattan_distance(x1=df_copy['pickup_northing'], y1=df_copy['pickup_easting'], \n",
    "                                                 x2=df_copy['dropoff_northing'], y2=df_copy['dropoff_easting'])/1000\n",
    "    df_copy[HAVERSINE_FEAT] = haversine_distance(lat1=df_copy[pickup_latitude], lon1=df_copy[pickup_longitude], \n",
    "                                                 lat2=df_copy[dropoff_latitude], lon2=df_copy[dropoff_longitude])\n",
    "\n",
    "    # in the EDA, we probably treat the nulls, so for now, just drop them\n",
    "    df_copy = df_copy.dropna()\n",
    "    \n",
    "    return df_copy[FEATURES + [target_col]]\n",
    "\n",
    "df_train_2 = feature_pipeline_2(df_train)\n",
    "df_test_2 = feature_pipeline_2(df_test)\n",
    "\n",
    "df_train_2.head()"
   ]
  },
  {
   "cell_type": "code",
   "execution_count": 28,
   "metadata": {
    "colab": {},
    "colab_type": "code",
    "id": "M7N9psNc8_XW"
   },
   "outputs": [],
   "source": [
    "model_2 = LinearRegression()\n",
    "model_2.fit(df_train_2.drop(TARGET, axis=1), df_train_2[TARGET])\n",
    "\n",
    "y_test_pred_2 = model_2.predict(df_test_2.drop(TARGET, axis=1))"
   ]
  },
  {
   "cell_type": "code",
   "execution_count": 29,
   "metadata": {
    "colab": {
     "base_uri": "https://localhost:8080/",
     "height": 298
    },
    "colab_type": "code",
    "id": "5Dt9GkRI7lzA",
    "outputId": "de61466f-04b0-47d4-882d-93233a158650"
   },
   "outputs": [
    {
     "name": "stdout",
     "output_type": "stream",
     "text": [
      "RMSE Error: 4.308687683809611\n"
     ]
    },
    {
     "data": {
      "image/png": "[encoded data removed]",
      "text/plain": [
       "<Figure size 432x288 with 1 Axes>"
      ]
     },
     "metadata": {
      "needs_background": "light"
     },
     "output_type": "display_data"
    }
   ],
   "source": [
    "rmse_2 = np.sqrt(mean_squared_error(df_test_2[TARGET], y_test_pred_2))\n",
    "iteration_results['exp_2_rmse'] = rmse_2\n",
    "print(f'RMSE Error: {rmse_2}')\n",
    "\n",
    "print_evaluation(df_test_2[TARGET], y_test_pred_2, return_errors=False)"
   ]
  },
  {
   "cell_type": "code",
   "execution_count": 30,
   "metadata": {
    "colab": {
     "base_uri": "https://localhost:8080/",
     "height": 35
    },
    "colab_type": "code",
    "id": "f9xm6EBNyK4x",
    "outputId": "fef691c8-dd5c-490e-fc5c-d0e186c21159"
   },
   "outputs": [
    {
     "data": {
      "text/plain": [
       "OrderedDict([('exp_0_lazy_rmse', 9.61393775520487),\n",
       "             ('exp_1_rmse', 4.33833106609023),\n",
       "             ('exp_1b_rmse', 4.464849428041983),\n",
       "             ('exp_2_rmse', 4.308687683809611)])"
      ]
     },
     "execution_count": 30,
     "metadata": {},
     "output_type": "execute_result"
    }
   ],
   "source": [
    "iteration_results"
   ]
  },
  {
   "cell_type": "markdown",
   "metadata": {
    "colab_type": "text",
    "id": "NszUYghK-Gjs"
   },
   "source": [
    "## Using fastest route distance and duration - OSRM\n",
    "\n",
    "<img src=\"images/route_distance_.png\" width=\"350\"> \n",
    "<center>Blue line representing straight line distance between points A and B while real route distance is displayed by Google Maps. Source: <a href=\"https://shorturl.at/cqz37\">Google Maps</a></center>  \n",
    "\n",
    "All the distances seen by now are straight line distances, *i.e.* the minimal distance that connects the two points. However, in a city, we can only walk, drive or cycle through streets and sidewalks. Take a look at the picture above. Even though the origin and destination are in a certain distance, we can't go through the river with our cars (theoretically). Routers such as google maps have the city street layout with them and so they can calculate routes by different means of transportation. A open source tool works over [Open Street Maps](https://www.openstreetmap.org/about) (OSM) and can calculate these routes for us. For testing their API, they make a [demo](https://map.project-osrm.org/) and a [public server](https://github.com/Project-OSRM/osrm-backend/wiki/Demo-server) available, but in both you're limited to a limited amount of requests, in order not to overload them.  \n",
    "  \n",
    "If we want to freely use the router's features, we can deploy one OSRM's instance in our machine or in your own servers. Next, we're going to see how we do it.  \n",
    "\n",
    "### Setup  \n",
    "\n",
    "We can setup OSRM by two ways:\n",
    "* Use a standard pre-created dockerfile - [Source](https://hub.docker.com/r/osrm/osrm-backend/)\n",
    "* Compile from source - [Source](https://github.com/Project-OSRM/osrm-backend#building-from-source)\n",
    "\n",
    "OSRM works with many configuration files, such as transportation profiles, which configure streets max speeds and allowed paths depending on which transportation mean you're using. The standard configuration works really well for almost all simple cases and the dockerfiles are way simpler to set up. However, if you want to adapt any of these files, you'd have to download and compile the source code with the custom preferences changed. Here, we're going to see how to set up a router **specific for cars** using dockerfiles:\n",
    "\n",
    "While setting up this workshop project (with `make`) we've already set up a functional OSRM for you and you can go to next cells to test it out :)  \n",
    "However, for the learning process, we can do it locally with the instructions below, which, by the way, are the same commands that the `makefile` is doing in `make setup`.  \n",
    "\n",
    "Instructions:   \n",
    "\n",
    "<div class=\"alert alert-block alert-info\">     \n",
    "    \n",
    "* Open a terminal and go to your project folder, create a <i>router</i> folder for cleanliness\n",
    "\n",
    "* wget http://download.geofabrik.de/north-america/us/new-york-latest.osm.pbf (file is ~200 Mb) or (**preferably**) the custom smaller version of just New York city - https://amldspatial.s3.eu-central-1.amazonaws.com/new_york_city.osm.pbf\n",
    "\n",
    "* In the terminal, move to the folder where the file above was put and execute the following commands, considering that **the file name must match with the downloaded file**:\n",
    "\n",
    "* docker run -t -v \"${PWD}:/data\" osrm/osrm-backend osrm-extract -p /opt/car.lua /data/new_york_city.osm.pbf\n",
    "\n",
    "* docker run -t -v \"${PWD}:/data\" osrm/osrm-backend osrm-partition /data/new_york_city.osm.pbf\n",
    "\n",
    "* docker run -t -v \"${PWD}:/data\" osrm/osrm-backend osrm-customize /data/new_york_city.osm.pbf\n",
    "\n",
    "* docker run -t -i -p 5000:5000 -v \"${PWD}:/data\" osrm/osrm-backend osrm-routed --algorithm mld /data/new_york_city.osm.pbf  \n",
    "     \n",
    "</div>    \n",
    "\n",
    "Now you have the router running in a dedicated process. In order to test it, open another tab in the terminal and type the following:  \n",
    "\n",
    "Test: `curl \"http://localhost:5000/route/v1/driving/-73.996070,40.732605;-73.980675,40.761864?steps=false&geometries=geojson&annotations=true&overview=full\"`  \n",
    " \n",
    "This is a command to make a route between the two provided lon/lats. You can check more options at the [API documentation](http://project-osrm.org/docs/v5.5.1/api/#route-service)  \n",
    "\n",
    "\n",
    "### Calculate street distances and durations  \n",
    "\n",
    "For our pipelines, we're going to use the custom class `utils.OSRMFramework.OSRMFramework` to request and retrieve route data from a OSRM instance. When building the class, you have to send the instance's URL. When it's set up locally with docker, the address is `localhost:5000`. After it, you can use `OSRMFramework.route` sending the pick-up and dropoff's latitudes and longitudes and obtain back 5 types of data:  \n",
    "1 - and 2. - Latitude and longitudes that compose the route   \n",
    "3 - Estimated route distance  \n",
    "4 - Estimated route duration  \n",
    "5 - OSM Node ids. These will be explained in the [Traffic Prototype](#Traffic-Prototype) section.  "
   ]
  },
  {
   "cell_type": "code",
   "execution_count": 31,
   "metadata": {
    "colab": {},
    "colab_type": "code",
    "id": "24SDQOnJy52y"
   },
   "outputs": [
    {
     "data": {
      "text/html": [
       "<div style=\"width:100%;\"><div style=\"position:relative;width:100%;height:0;padding-bottom:60%;\"><iframe src=\"data:text/html;charset=utf-8;base64,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\" style=\"position:absolute;width:100%;height:100%;left:0;top:0;border:none !important;\" allowfullscreen webkitallowfullscreen mozallowfullscreen></iframe></div></div>"
      ],
      "text/plain": [
       "<folium.folium.Map at 0x7fc81c2bf9e8>"
      ]
     },
     "execution_count": 31,
     "metadata": {},
     "output_type": "execute_result"
    }
   ],
   "source": [
    "## Small Example\n",
    "##\n",
    "lat1, lon1 = 40.732605,-73.996070\n",
    "lat2, lon2 = 40.761864,-73.980675\n",
    "\n",
    "osm = OSRMFramework(OSRM_PATH)\n",
    "lat, lon, distance, duration, node_ids = osm.route(lat1, lon1, lat2, lon2)\n",
    "\n",
    "t = latlon2linestring(lat, lon)\n",
    "\n",
    "plot_geometry(t)"
   ]
  },
  {
   "cell_type": "code",
   "execution_count": 32,
   "metadata": {},
   "outputs": [
    {
     "data": {
      "text/html": [
       "<div>\n",
       "<style scoped>\n",
       "    .dataframe tbody tr th:only-of-type {\n",
       "        vertical-align: middle;\n",
       "    }\n",
       "\n",
       "    .dataframe tbody tr th {\n",
       "        vertical-align: top;\n",
       "    }\n",
       "\n",
       "    .dataframe thead th {\n",
       "        text-align: right;\n",
       "    }\n",
       "</style>\n",
       "<table border=\"1\" class=\"dataframe\">\n",
       "  <thead>\n",
       "    <tr style=\"text-align: right;\">\n",
       "      <th></th>\n",
       "      <th>route</th>\n",
       "      <th>distance_m</th>\n",
       "      <th>duration_sec</th>\n",
       "      <th>node_ids</th>\n",
       "    </tr>\n",
       "  </thead>\n",
       "  <tbody>\n",
       "    <tr>\n",
       "      <th>81127</th>\n",
       "      <td>LINESTRING (-73.97853000000001 40.764107, -73....</td>\n",
       "      <td>2235.5</td>\n",
       "      <td>207.0</td>\n",
       "      <td>[4544486781, 42430378, 42430384, 6654368342, 4...</td>\n",
       "    </tr>\n",
       "    <tr>\n",
       "      <th>88083</th>\n",
       "      <td>LINESTRING (-73.95135000000001 40.778564, -73....</td>\n",
       "      <td>2849.2</td>\n",
       "      <td>300.7</td>\n",
       "      <td>[42443040, 42450030, 42447136, 42429334, 54025...</td>\n",
       "    </tr>\n",
       "    <tr>\n",
       "      <th>40667</th>\n",
       "      <td>LINESTRING (-74.01295500000001 40.709984000000...</td>\n",
       "      <td>3532.1</td>\n",
       "      <td>392.5</td>\n",
       "      <td>[42434413, 5487737822, 42436192, 1506902240, 4...</td>\n",
       "    </tr>\n",
       "    <tr>\n",
       "      <th>69985</th>\n",
       "      <td>LINESTRING (-73.97279 40.758907, -73.972846 40...</td>\n",
       "      <td>8963.1</td>\n",
       "      <td>694.2</td>\n",
       "      <td>[3977886228, 596775914, 596775876, 3977886201,...</td>\n",
       "    </tr>\n",
       "    <tr>\n",
       "      <th>22252</th>\n",
       "      <td>LINESTRING (-73.98543000000001 40.740368, -73....</td>\n",
       "      <td>2935.9</td>\n",
       "      <td>327.5</td>\n",
       "      <td>[42436578, 42436582, 4115878741, 42436586, 411...</td>\n",
       "    </tr>\n",
       "  </tbody>\n",
       "</table>\n",
       "</div>"
      ],
      "text/plain": [
       "                                                   route  distance_m  \\\n",
       "81127  LINESTRING (-73.97853000000001 40.764107, -73....      2235.5   \n",
       "88083  LINESTRING (-73.95135000000001 40.778564, -73....      2849.2   \n",
       "40667  LINESTRING (-74.01295500000001 40.709984000000...      3532.1   \n",
       "69985  LINESTRING (-73.97279 40.758907, -73.972846 40...      8963.1   \n",
       "22252  LINESTRING (-73.98543000000001 40.740368, -73....      2935.9   \n",
       "\n",
       "       duration_sec                                           node_ids  \n",
       "81127         207.0  [4544486781, 42430378, 42430384, 6654368342, 4...  \n",
       "88083         300.7  [42443040, 42450030, 42447136, 42429334, 54025...  \n",
       "40667         392.5  [42434413, 5487737822, 42436192, 1506902240, 4...  \n",
       "69985         694.2  [3977886228, 596775914, 596775876, 3977886201,...  \n",
       "22252         327.5  [42436578, 42436582, 4115878741, 42436586, 411...  "
      ]
     },
     "execution_count": 32,
     "metadata": {},
     "output_type": "execute_result"
    }
   ],
   "source": [
    "## Small Example\n",
    "##\n",
    "def get_route(osm, lat1, lon1, lat2, lon2):\n",
    "    lat, lon, distance, duration, node_ids = osm.route(lat1, lon1, lat2, lon2)\n",
    "    return_col_names = ['route', 'distance_m', 'duration_sec', 'node_ids']\n",
    "    if(type(lat) == float):\n",
    "        return pd.Series([np.nan] * len(return_col_names), index=return_col_names)\n",
    "    else:\n",
    "        return pd.Series([latlon2linestring(lat, lon), distance, duration, node_ids], index=return_col_names)\n",
    "\n",
    "routes = df_train.head().apply(lambda row: get_route(osm, \n",
    "                                            row['pickup_latitude'],\n",
    "                                            row['pickup_longitude'],\n",
    "                                            row['dropoff_latitude'],\n",
    "                                            row['dropoff_longitude']), axis=1)\n",
    "routes['route'] = GeoSeries([elem[0] if type(elem) == GeoSeries else np.nan for elem in routes['route']], index=routes.index)\n",
    "\n",
    "routes"
   ]
  },
  {
   "cell_type": "code",
   "execution_count": 33,
   "metadata": {},
   "outputs": [
    {
     "data": {
      "text/html": [
       "<div>\n",
       "<style scoped>\n",
       "    .dataframe tbody tr th:only-of-type {\n",
       "        vertical-align: middle;\n",
       "    }\n",
       "\n",
       "    .dataframe tbody tr th {\n",
       "        vertical-align: top;\n",
       "    }\n",
       "\n",
       "    .dataframe thead th {\n",
       "        text-align: right;\n",
       "    }\n",
       "</style>\n",
       "<table border=\"1\" class=\"dataframe\">\n",
       "  <thead>\n",
       "    <tr style=\"text-align: right;\">\n",
       "      <th></th>\n",
       "      <th>euclidean_dist_km</th>\n",
       "      <th>manhattan_dist_km</th>\n",
       "      <th>haversine_dist_km</th>\n",
       "      <th>route_distance_km</th>\n",
       "      <th>route_duration_min</th>\n",
       "      <th>fare_amount</th>\n",
       "    </tr>\n",
       "  </thead>\n",
       "  <tbody>\n",
       "    <tr>\n",
       "      <th>81127</th>\n",
       "      <td>1.371619</td>\n",
       "      <td>1.518360</td>\n",
       "      <td>1.372925</td>\n",
       "      <td>2.2355</td>\n",
       "      <td>3.450000</td>\n",
       "      <td>10.5</td>\n",
       "    </tr>\n",
       "    <tr>\n",
       "      <th>88083</th>\n",
       "      <td>2.111392</td>\n",
       "      <td>2.859398</td>\n",
       "      <td>2.111571</td>\n",
       "      <td>2.8492</td>\n",
       "      <td>5.011667</td>\n",
       "      <td>5.7</td>\n",
       "    </tr>\n",
       "    <tr>\n",
       "      <th>40667</th>\n",
       "      <td>2.131066</td>\n",
       "      <td>2.764892</td>\n",
       "      <td>2.126155</td>\n",
       "      <td>3.5321</td>\n",
       "      <td>6.650000</td>\n",
       "      <td>13.0</td>\n",
       "    </tr>\n",
       "    <tr>\n",
       "      <th>69985</th>\n",
       "      <td>6.568325</td>\n",
       "      <td>8.744601</td>\n",
       "      <td>6.570039</td>\n",
       "      <td>8.9631</td>\n",
       "      <td>11.570000</td>\n",
       "      <td>20.0</td>\n",
       "    </tr>\n",
       "    <tr>\n",
       "      <th>22252</th>\n",
       "      <td>2.446133</td>\n",
       "      <td>3.355554</td>\n",
       "      <td>2.445977</td>\n",
       "      <td>2.9359</td>\n",
       "      <td>5.458333</td>\n",
       "      <td>6.5</td>\n",
       "    </tr>\n",
       "  </tbody>\n",
       "</table>\n",
       "</div>"
      ],
      "text/plain": [
       "       euclidean_dist_km  manhattan_dist_km  haversine_dist_km  \\\n",
       "81127           1.371619           1.518360           1.372925   \n",
       "88083           2.111392           2.859398           2.111571   \n",
       "40667           2.131066           2.764892           2.126155   \n",
       "69985           6.568325           8.744601           6.570039   \n",
       "22252           2.446133           3.355554           2.445977   \n",
       "\n",
       "       route_distance_km  route_duration_min  fare_amount  \n",
       "81127             2.2355            3.450000         10.5  \n",
       "88083             2.8492            5.011667          5.7  \n",
       "40667             3.5321            6.650000         13.0  \n",
       "69985             8.9631           11.570000         20.0  \n",
       "22252             2.9359            5.458333          6.5  "
      ]
     },
     "execution_count": 33,
     "metadata": {},
     "output_type": "execute_result"
    }
   ],
   "source": [
    "# TEMP: because router take too much time, I've saved the routes from this sample here. If you want to\n",
    "# use the router anyway, comment lines where pickle is read and uncomment commented lines\n",
    "\n",
    "def feature_pipeline_3(df, target_col=TARGET, \n",
    "                              pickup_latitude='pickup_latitude', dropoff_latitude='dropoff_latitude', \n",
    "                              pickup_longitude='pickup_longitude', dropoff_longitude='dropoff_longitude',\n",
    "                              osm_router=OSRM_PATH,\n",
    "                              test_mode=None):\n",
    "    EUCLIDEAN_FEAT = 'euclidean_dist_km'\n",
    "    HAVERSINE_FEAT = 'haversine_dist_km'\n",
    "    MANHATTAN_FEAT = 'manhattan_dist_km'\n",
    "    ROUTE_DISTANCE = 'route_distance_km'\n",
    "    ROUTE_DURATION = 'route_duration_min'\n",
    "    \n",
    "    FEATURES = [EUCLIDEAN_FEAT, \n",
    "                MANHATTAN_FEAT, \n",
    "                HAVERSINE_FEAT,\n",
    "                ROUTE_DISTANCE,\n",
    "                ROUTE_DURATION] \n",
    "\n",
    "    df_copy = df.copy()\n",
    "    \n",
    "    # Execute previous features' pipeline\n",
    "    df_pipeline2 = feature_pipeline_2(df_copy)\n",
    "    df_copy[EUCLIDEAN_FEAT] = df_pipeline2[EUCLIDEAN_FEAT]\n",
    "    df_copy[MANHATTAN_FEAT] = df_pipeline2[MANHATTAN_FEAT]\n",
    "    df_copy[HAVERSINE_FEAT] = df_pipeline2[HAVERSINE_FEAT]\n",
    "    \n",
    "    if(test_mode == 'train'):                                                          # TEST MODE\n",
    "        with open('data/temp_routes_train.pickle', 'rb') as f:                         # TEST MODE\n",
    "            routes = pickle.load(f)                                                    # TEST MODE\n",
    "    elif(test_mode == 'test'):                                                         # TEST MODE\n",
    "        with open('data/temp_routes_test.pickle', 'rb') as f:                          # TEST MODE\n",
    "            routes = pickle.load(f)                                                    # TEST MODE   \n",
    "        \n",
    "#     routes = df_copy.apply(lambda row: get_route(osm, \n",
    "#                                             row['pickup_latitude'],\n",
    "#                                             row['pickup_longitude'],\n",
    "#                                             row['dropoff_latitude'],\n",
    "#                                             row['dropoff_longitude']), axis=1)\n",
    "#     routes['route'] = GeoSeries([elem[0] if type(elem) == GeoSeries else np.nan for elem in routes['route']], index=routes.index)\n",
    "    df_copy[ROUTE_DISTANCE] = routes['distance_m']/1000\n",
    "    df_copy[ROUTE_DURATION] = routes['duration_sec']/60\n",
    "    \n",
    "    # in the EDA, we probably treat the nulls, so for now, just drop them\n",
    "    df_copy = df_copy.dropna()\n",
    "    \n",
    "    return df_copy[FEATURES + [target_col]], routes\n",
    "\n",
    "df_train_3, routes_train = feature_pipeline_3(df_train, test_mode='train')\n",
    "df_test_3, routes_test = feature_pipeline_3(df_test, test_mode='test')\n",
    "\n",
    "df_train_3.head()"
   ]
  },
  {
   "cell_type": "code",
   "execution_count": 34,
   "metadata": {},
   "outputs": [],
   "source": [
    "model_3 = LinearRegression()\n",
    "model_3.fit(df_train_3.drop(TARGET, axis=1), df_train_3[TARGET])\n",
    "y_test_pred_3 = model_3.predict(df_test_3.drop(TARGET, axis=1))\n"
   ]
  },
  {
   "cell_type": "code",
   "execution_count": 35,
   "metadata": {
    "scrolled": false
   },
   "outputs": [
    {
     "name": "stdout",
     "output_type": "stream",
     "text": [
      "RMSE Error: 4.197334145103847\n"
     ]
    },
    {
     "data": {
      "image/png": "[encoded data removed]",
      "text/plain": [
       "<Figure size 432x288 with 1 Axes>"
      ]
     },
     "metadata": {
      "needs_background": "light"
     },
     "output_type": "display_data"
    }
   ],
   "source": [
    "#####\n",
    "rmse_3 = np.sqrt(mean_squared_error(df_test_3[TARGET], y_test_pred_3))\n",
    "iteration_results['exp_3_osrm'] = rmse_3\n",
    "print(f'RMSE Error: {rmse_3}')\n",
    "\n",
    "print_evaluation(df_test_3[TARGET], y_test_pred_3, return_errors=False)\n",
    "plt.xlim([0, 50]);"
   ]
  },
  {
   "cell_type": "code",
   "execution_count": 36,
   "metadata": {},
   "outputs": [
    {
     "data": {
      "text/plain": [
       "OrderedDict([('exp_0_lazy_rmse', 9.61393775520487),\n",
       "             ('exp_1_rmse', 4.33833106609023),\n",
       "             ('exp_1b_rmse', 4.464849428041983),\n",
       "             ('exp_2_rmse', 4.308687683809611),\n",
       "             ('exp_3_osrm', 4.197334145103847)])"
      ]
     },
     "execution_count": 36,
     "metadata": {},
     "output_type": "execute_result"
    }
   ],
   "source": [
    "iteration_results"
   ]
  },
  {
   "cell_type": "markdown",
   "metadata": {},
   "source": [
    "### Exercise OSRM\n",
    "  \n",
    "1. Set up router in your local machine and call the route service using the example above\n",
    "2. Call the `route` service by using a pick-up point from inside New York city and one outside the city, in another state, for example. What happened? What if both pick-up and drop off are outside New York city?  If you want to confirm, try to use the \"Small Example\" code from below to check your assumptions"
   ]
  },
  {
   "cell_type": "code",
   "execution_count": 37,
   "metadata": {},
   "outputs": [
    {
     "name": "stdout",
     "output_type": "stream",
     "text": [
      "Distance (KM): 50.052800000000005\n",
      "Duration (minutes): 51.81666666666667\n"
     ]
    },
    {
     "data": {
      "text/html": [
       "<div style=\"width:100%;\"><div style=\"position:relative;width:100%;height:0;padding-bottom:60%;\"><iframe src=\"data:text/html;charset=utf-8;base64,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\" style=\"position:absolute;width:100%;height:100%;left:0;top:0;border:none !important;\" allowfullscreen webkitallowfullscreen mozallowfullscreen></iframe></div></div>"
      ],
      "text/plain": [
       "<folium.folium.Map at 0x7fc8151dfe48>"
      ]
     },
     "execution_count": 37,
     "metadata": {},
     "output_type": "execute_result"
    }
   ],
   "source": [
    "# One point inside, one outside NY\n",
    "\n",
    "inside_ny_lat, inside_ny_lon = [40.870450, -73.879747]\n",
    "outside_ny_lat, outside_ny_lon = [42.297001, -71.113800]\n",
    "\n",
    "osm = OSRMFramework(OSRM_PATH)\n",
    "lat, lon, distance, duration, node_ids = osm.route(inside_ny_lat, inside_ny_lon, outside_ny_lat, outside_ny_lon)\n",
    "\n",
    "t = latlon2linestring(lat, lon)\n",
    "\n",
    "print(f'Distance (KM): {distance/1000}')\n",
    "print(f'Duration (minutes): {duration/60}')\n",
    "plot_geometry(t)"
   ]
  },
  {
   "cell_type": "code",
   "execution_count": 38,
   "metadata": {},
   "outputs": [
    {
     "name": "stdout",
     "output_type": "stream",
     "text": [
      "Distance (KM): 0.0\n",
      "Duration (minutes): 0.0\n"
     ]
    },
    {
     "data": {
      "text/html": [
       "<div style=\"width:100%;\"><div style=\"position:relative;width:100%;height:0;padding-bottom:60%;\"><iframe src=\"data:text/html;charset=utf-8;base64,PCFET0NUWVBFIGh0bWw+CjxoZWFkPiAgICAKICAgIDxtZXRhIGh0dHAtZXF1aXY9ImNvbnRlbnQtdHlwZSIgY29udGVudD0idGV4dC9odG1sOyBjaGFyc2V0PVVURi04IiAvPgogICAgPHNjcmlwdD5MX1BSRUZFUl9DQU5WQVM9ZmFsc2U7IExfTk9fVE9VQ0g9ZmFsc2U7IExfRElTQUJMRV8zRD1mYWxzZTs8L3NjcmlwdD4KICAgIDxzY3JpcHQgc3JjPSJodHRwczovL2Nkbi5qc2RlbGl2ci5uZXQvbnBtL2xlYWZsZXRAMS4zLjQvZGlzdC9sZWFmbGV0LmpzIj48L3NjcmlwdD4KICAgIDxzY3JpcHQgc3JjPSJodHRwczovL2FqYXguZ29vZ2xlYXBpcy5jb20vYWpheC9saWJzL2pxdWVyeS8xLjExLjEvanF1ZXJ5Lm1pbi5qcyI+PC9zY3JpcHQ+CiAgICA8c2NyaXB0IHNyYz0iaHR0cHM6Ly9tYXhjZG4uYm9vdHN0cmFwY2RuLmNvbS9ib290c3RyYXAvMy4yLjAvanMvYm9vdHN0cmFwLm1pbi5qcyI+PC9zY3JpcHQ+CiAgICA8c2NyaXB0IHNyYz0iaHR0cHM6Ly9jZG5qcy5jbG91ZGZsYXJlLmNvbS9hamF4L2xpYnMvTGVhZmxldC5hd2Vzb21lLW1hcmtlcnMvMi4wLjIvbGVhZmxldC5hd2Vzb21lLW1hcmtlcnMuanMiPjwvc2NyaXB0PgogICAgPGxpbmsgcmVsPSJzdHlsZXNoZWV0IiBocmVmPSJodHRwczovL2Nkbi5qc2RlbGl2ci5uZXQvbnBtL2xlYWZsZXRAMS4zLjQvZGlzdC9sZWFmbGV0LmNzcyIvPgogICAgPGxpbmsgcmVsPSJzdHlsZXNoZWV0IiBocmVmPSJodHRwczovL21heGNkbi5ib290c3RyYXBjZG4uY29tL2Jvb3RzdHJhcC8zLjIuMC9jc3MvYm9vdHN0cmFwLm1pbi5jc3MiLz4KICAgIDxsaW5rIHJlbD0ic3R5bGVzaGVldCIgaHJlZj0iaHR0cHM6Ly9tYXhjZG4uYm9vdHN0cmFwY2RuLmNvbS9ib290c3RyYXAvMy4yLjAvY3NzL2Jvb3RzdHJhcC10aGVtZS5taW4uY3NzIi8+CiAgICA8bGluayByZWw9InN0eWxlc2hlZXQiIGhyZWY9Imh0dHBzOi8vbWF4Y2RuLmJvb3RzdHJhcGNkbi5jb20vZm9udC1hd2Vzb21lLzQuNi4zL2Nzcy9mb250LWF3ZXNvbWUubWluLmNzcyIvPgogICAgPGxpbmsgcmVsPSJzdHlsZXNoZWV0IiBocmVmPSJodHRwczovL2NkbmpzLmNsb3VkZmxhcmUuY29tL2FqYXgvbGlicy9MZWFmbGV0LmF3ZXNvbWUtbWFya2Vycy8yLjAuMi9sZWFmbGV0LmF3ZXNvbWUtbWFya2Vycy5jc3MiLz4KICAgIDxsaW5rIHJlbD0ic3R5bGVzaGVldCIgaHJlZj0iaHR0cHM6Ly9yYXdjZG4uZ2l0aGFjay5jb20vcHl0aG9uLXZpc3VhbGl6YXRpb24vZm9saXVtL21hc3Rlci9mb2xpdW0vdGVtcGxhdGVzL2xlYWZsZXQuYXdlc29tZS5yb3RhdGUuY3NzIi8+CiAgICA8c3R5bGU+aHRtbCwgYm9keSB7d2lkdGg6IDEwMCU7aGVpZ2h0OiAxMDAlO21hcmdpbjogMDtwYWRkaW5nOiAwO308L3N0eWxlPgogICAgPHN0eWxlPiNtYXAge3Bvc2l0aW9uOmFic29sdXRlO3RvcDowO2JvdHRvbTowO3JpZ2h0OjA7bGVmdDowO308L3N0eWxlPgogICAgCiAgICA8bWV0YSBuYW1lPSJ2aWV3cG9ydCIgY29udGVudD0id2lkdGg9ZGV2aWNlLXdpZHRoLAogICAgICAgIGluaXRpYWwtc2NhbGU9MS4wLCBtYXhpbXVtLXNjYWxlPTEuMCwgdXNlci1zY2FsYWJsZT1ubyIgLz4KICAgIDxzdHlsZT4jbWFwX2I2NzdkNjI3YzNlYzQzOTk4MmVjYTA4YzQzOThkMjdjIHsKICAgICAgICBwb3NpdGlvbjogcmVsYXRpdmU7CiAgICAgICAgd2lkdGg6IDEwMC4wJTsKICAgICAgICBoZWlnaHQ6IDEwMC4wJTsKICAgICAgICBsZWZ0OiAwLjAlOwogICAgICAgIHRvcDogMC4wJTsKICAgICAgICB9CiAgICA8L3N0eWxlPgo8L2hlYWQ+Cjxib2R5PiAgICAKICAgIAogICAgPGRpdiBjbGFzcz0iZm9saXVtLW1hcCIgaWQ9Im1hcF9iNjc3ZDYyN2MzZWM0Mzk5ODJlY2EwOGM0Mzk4ZDI3YyIgPjwvZGl2Pgo8L2JvZHk+CjxzY3JpcHQ+ICAgIAogICAgCiAgICAKICAgICAgICB2YXIgYm91bmRzID0gbnVsbDsKICAgIAoKICAgIHZhciBtYXBfYjY3N2Q2MjdjM2VjNDM5OTgyZWNhMDhjNDM5OGQyN2MgPSBMLm1hcCgKICAgICAgICAnbWFwX2I2NzdkNjI3YzNlYzQzOTk4MmVjYTA4YzQzOThkMjdjJywgewogICAgICAgIGNlbnRlcjogWzQyLjMyOTk5OSwgLTcxLjA3MjU5M10sCiAgICAgICAgem9vbTogMTQsCiAgICAgICAgbWF4Qm91bmRzOiBib3VuZHMsCiAgICAgICAgbGF5ZXJzOiBbXSwKICAgICAgICB3b3JsZENvcHlKdW1wOiBmYWxzZSwKICAgICAgICBjcnM6IEwuQ1JTLkVQU0czODU3LAogICAgICAgIHpvb21Db250cm9sOiB0cnVlLAogICAgICAgIH0pOwoKICAgIAogICAgCiAgICB2YXIgdGlsZV9sYXllcl81ZmVkYzQ1MzhjM2I0NjRlYTc3ZWYxNWJlNDMyMWY1NCA9IEwudGlsZUxheWVyKAogICAgICAgICdodHRwczovL3tzfS50aWxlLm9wZW5zdHJlZXRtYXAub3JnL3t6fS97eH0ve3l9LnBuZycsCiAgICAgICAgewogICAgICAgICJhdHRyaWJ1dGlvbiI6IG51bGwsCiAgICAgICAgImRldGVjdFJldGluYSI6IGZhbHNlLAogICAgICAgICJtYXhOYXRpdmVab29tIjogMTgsCiAgICAgICAgIm1heFpvb20iOiAxOCwKICAgICAgICAibWluWm9vbSI6IDAsCiAgICAgICAgIm5vV3JhcCI6IGZhbHNlLAogICAgICAgICJvcGFjaXR5IjogMSwKICAgICAgICAic3ViZG9tYWlucyI6ICJhYmMiLAogICAgICAgICJ0bXMiOiBmYWxzZQp9KS5hZGRUbyhtYXBfYjY3N2Q2MjdjM2VjNDM5OTgyZWNhMDhjNDM5OGQyN2MpOwogICAgCiAgICAgICAgCiAgICAgICAgdmFyIGdlb19qc29uXzVkYjUwZjFhMTM4YjQ3ZGZhZWQzODc4NjliNDY1NDY3ID0gTC5nZW9Kc29uKAogICAgICAgICAgICB7ImJib3giOiBbLTczLjU1ODc0LCA0MC45MTIxMjYsIC03MS4wNzI1OTMsIDQyLjMyOTk5OV0sICJmZWF0dXJlcyI6IFt7ImJib3giOiBbLTczLjU1ODc0LCA0MC45MTIxMjYsIC03MS4wNzI1OTMsIDQyLjMyOTk5OV0sICJnZW9tZXRyeSI6IHsiY29vcmRpbmF0ZXMiOiBbWy03MS4wNzI1OTMsIDQyLjMyOTk5OV0sIFstNzMuNTU4NzQsIDQwLjkxMjEyNl0sIFstNzMuNTU4NzQsIDQwLjkxMjEyNl1dLCAidHlwZSI6ICJMaW5lU3RyaW5nIn0sICJpZCI6ICIwIiwgInByb3BlcnRpZXMiOiB7ImhpZ2hsaWdodCI6IHt9LCAic3R5bGUiOiB7fX0sICJ0eXBlIjogIkZlYXR1cmUifV0sICJ0eXBlIjogIkZlYXR1cmVDb2xsZWN0aW9uIn0KICAgICAgICAgICAgCiAgICAgICAgICAgICkuYWRkVG8obWFwX2I2NzdkNjI3YzNlYzQzOTk4MmVjYTA4YzQzOThkMjdjKTsKICAgICAgICBnZW9fanNvbl81ZGI1MGYxYTEzOGI0N2RmYWVkMzg3ODY5YjQ2NTQ2Ny5zZXRTdHlsZShmdW5jdGlvbihmZWF0dXJlKSB7cmV0dXJuIGZlYXR1cmUucHJvcGVydGllcy5zdHlsZTt9KTsKICAgICAgICAKPC9zY3JpcHQ+\" style=\"position:absolute;width:100%;height:100%;left:0;top:0;border:none !important;\" allowfullscreen webkitallowfullscreen mozallowfullscreen></iframe></div></div>"
      ],
      "text/plain": [
       "<folium.folium.Map at 0x7fc81c05bc50>"
      ]
     },
     "execution_count": 38,
     "metadata": {},
     "output_type": "execute_result"
    }
   ],
   "source": [
    "# Both points outside, 1 points gets snapped, the other not \n",
    "\n",
    "outside1_ny_lat, outside1_ny_lon = [42.329999, -71.072593]\n",
    "outside2_ny_lat, outside2_ny_lon = [42.297001, -71.113800]\n",
    "\n",
    "osm = OSRMFramework(OSRM_PATH)\n",
    "lat, lon, distance, duration, node_ids = osm.route(outside1_ny_lat, outside1_ny_lon, outside2_ny_lat, outside2_ny_lon)\n",
    "\n",
    "t = latlon2linestring(lat, lon)\n",
    "\n",
    "print(f'Distance (KM): {distance/1000}')\n",
    "print(f'Duration (minutes): {duration/60}')\n",
    "plot_geometry(t)"
   ]
  },
  {
   "cell_type": "markdown",
   "metadata": {},
   "source": [
    "## 2nd Exploratory Analysis\n",
    "\n",
    "### Check why we have some route distance == 0"
   ]
  },
  {
   "cell_type": "code",
   "execution_count": 39,
   "metadata": {},
   "outputs": [
    {
     "data": {
      "text/html": [
       "<div>\n",
       "<style scoped>\n",
       "    .dataframe tbody tr th:only-of-type {\n",
       "        vertical-align: middle;\n",
       "    }\n",
       "\n",
       "    .dataframe tbody tr th {\n",
       "        vertical-align: top;\n",
       "    }\n",
       "\n",
       "    .dataframe thead th {\n",
       "        text-align: right;\n",
       "    }\n",
       "</style>\n",
       "<table border=\"1\" class=\"dataframe\">\n",
       "  <thead>\n",
       "    <tr style=\"text-align: right;\">\n",
       "      <th></th>\n",
       "      <th>euclidean_dist_km</th>\n",
       "      <th>manhattan_dist_km</th>\n",
       "      <th>haversine_dist_km</th>\n",
       "      <th>route_distance_km</th>\n",
       "      <th>route_duration_min</th>\n",
       "      <th>fare_amount_x</th>\n",
       "      <th>pickup_datetime</th>\n",
       "      <th>pickup_longitude</th>\n",
       "      <th>pickup_latitude</th>\n",
       "      <th>dropoff_longitude</th>\n",
       "      <th>dropoff_latitude</th>\n",
       "      <th>passenger_count</th>\n",
       "      <th>fare_amount_y</th>\n",
       "    </tr>\n",
       "  </thead>\n",
       "  <tbody>\n",
       "    <tr>\n",
       "      <th>59542</th>\n",
       "      <td>0.000000</td>\n",
       "      <td>0.000000</td>\n",
       "      <td>0.000000</td>\n",
       "      <td>0.0</td>\n",
       "      <td>0.0</td>\n",
       "      <td>5.0</td>\n",
       "      <td>2013-06-04 10:05:50</td>\n",
       "      <td>-73.901955</td>\n",
       "      <td>40.76404</td>\n",
       "      <td>-73.901955</td>\n",
       "      <td>40.76404</td>\n",
       "      <td>1</td>\n",
       "      <td>5.0</td>\n",
       "    </tr>\n",
       "    <tr>\n",
       "      <th>38815</th>\n",
       "      <td>0.000000</td>\n",
       "      <td>0.000000</td>\n",
       "      <td>0.000000</td>\n",
       "      <td>0.0</td>\n",
       "      <td>0.0</td>\n",
       "      <td>7.5</td>\n",
       "      <td>2012-10-26 22:26:00</td>\n",
       "      <td>-73.989100</td>\n",
       "      <td>40.73636</td>\n",
       "      <td>-73.989100</td>\n",
       "      <td>40.73636</td>\n",
       "      <td>1</td>\n",
       "      <td>7.5</td>\n",
       "    </tr>\n",
       "    <tr>\n",
       "      <th>51352</th>\n",
       "      <td>0.000000</td>\n",
       "      <td>0.000000</td>\n",
       "      <td>0.000000</td>\n",
       "      <td>0.0</td>\n",
       "      <td>0.0</td>\n",
       "      <td>27.3</td>\n",
       "      <td>2012-03-30 12:01:00</td>\n",
       "      <td>-73.937454</td>\n",
       "      <td>40.75812</td>\n",
       "      <td>-73.937454</td>\n",
       "      <td>40.75812</td>\n",
       "      <td>1</td>\n",
       "      <td>27.3</td>\n",
       "    </tr>\n",
       "    <tr>\n",
       "      <th>68537</th>\n",
       "      <td>0.000000</td>\n",
       "      <td>0.000000</td>\n",
       "      <td>0.000000</td>\n",
       "      <td>0.0</td>\n",
       "      <td>0.0</td>\n",
       "      <td>9.3</td>\n",
       "      <td>2011-10-27 20:01:19</td>\n",
       "      <td>-73.870820</td>\n",
       "      <td>40.78310</td>\n",
       "      <td>-73.870820</td>\n",
       "      <td>40.78310</td>\n",
       "      <td>1</td>\n",
       "      <td>9.3</td>\n",
       "    </tr>\n",
       "    <tr>\n",
       "      <th>75880</th>\n",
       "      <td>0.510611</td>\n",
       "      <td>0.581354</td>\n",
       "      <td>0.511076</td>\n",
       "      <td>0.0</td>\n",
       "      <td>0.0</td>\n",
       "      <td>45.0</td>\n",
       "      <td>2014-11-22 01:06:00</td>\n",
       "      <td>-74.061500</td>\n",
       "      <td>40.73936</td>\n",
       "      <td>-74.060530</td>\n",
       "      <td>40.74390</td>\n",
       "      <td>1</td>\n",
       "      <td>45.0</td>\n",
       "    </tr>\n",
       "  </tbody>\n",
       "</table>\n",
       "</div>"
      ],
      "text/plain": [
       "       euclidean_dist_km  manhattan_dist_km  haversine_dist_km  \\\n",
       "59542           0.000000           0.000000           0.000000   \n",
       "38815           0.000000           0.000000           0.000000   \n",
       "51352           0.000000           0.000000           0.000000   \n",
       "68537           0.000000           0.000000           0.000000   \n",
       "75880           0.510611           0.581354           0.511076   \n",
       "\n",
       "       route_distance_km  route_duration_min  fare_amount_x  \\\n",
       "59542                0.0                 0.0            5.0   \n",
       "38815                0.0                 0.0            7.5   \n",
       "51352                0.0                 0.0           27.3   \n",
       "68537                0.0                 0.0            9.3   \n",
       "75880                0.0                 0.0           45.0   \n",
       "\n",
       "          pickup_datetime  pickup_longitude  pickup_latitude  \\\n",
       "59542 2013-06-04 10:05:50        -73.901955         40.76404   \n",
       "38815 2012-10-26 22:26:00        -73.989100         40.73636   \n",
       "51352 2012-03-30 12:01:00        -73.937454         40.75812   \n",
       "68537 2011-10-27 20:01:19        -73.870820         40.78310   \n",
       "75880 2014-11-22 01:06:00        -74.061500         40.73936   \n",
       "\n",
       "       dropoff_longitude  dropoff_latitude  passenger_count  fare_amount_y  \n",
       "59542         -73.901955          40.76404                1            5.0  \n",
       "38815         -73.989100          40.73636                1            7.5  \n",
       "51352         -73.937454          40.75812                1           27.3  \n",
       "68537         -73.870820          40.78310                1            9.3  \n",
       "75880         -74.060530          40.74390                1           45.0  "
      ]
     },
     "metadata": {},
     "output_type": "display_data"
    }
   ],
   "source": [
    "df_train_3_analysis = df_train_3.merge(df_train, how='left', left_index=True, right_index=True)\n",
    "\n",
    "df_train_3_analysis['route_distance_km'] = routes_train['distance_m']/1000\n",
    "display(df_train_3_analysis.loc[df_train_3_analysis['route_distance_km'] == 0].head()) # PROBLEM pickup == dropoff\n",
    "\n",
    "##########################################################\n",
    "### Filter where pick up and drop off are the same\n",
    "##########################################################\n"
   ]
  },
  {
   "cell_type": "markdown",
   "metadata": {},
   "source": [
    "<div class=\"alert alert-block alert-info\">     \n",
    "    \n",
    "added following cell \n",
    "     \n",
    "</div>    "
   ]
  },
  {
   "cell_type": "code",
   "execution_count": null,
   "metadata": {},
   "outputs": [],
   "source": [
    "df_train_3_analysis = df_train_3_analysis.loc[(df_train_3_analysis['pickup_longitude'] != df_train_3_analysis['dropoff_longitude']) & \n",
    "                                              (df_train_3_analysis['pickup_latitude'] != df_train_3_analysis['dropoff_latitude'])]"
   ]
  },
  {
   "cell_type": "markdown",
   "metadata": {},
   "source": [
    "### Some leftover routes still have route_distance == 0, investigate"
   ]
  },
  {
   "cell_type": "code",
   "execution_count": 40,
   "metadata": {},
   "outputs": [
    {
     "data": {
      "text/html": [
       "<div>\n",
       "<style scoped>\n",
       "    .dataframe tbody tr th:only-of-type {\n",
       "        vertical-align: middle;\n",
       "    }\n",
       "\n",
       "    .dataframe tbody tr th {\n",
       "        vertical-align: top;\n",
       "    }\n",
       "\n",
       "    .dataframe thead th {\n",
       "        text-align: right;\n",
       "    }\n",
       "</style>\n",
       "<table border=\"1\" class=\"dataframe\">\n",
       "  <thead>\n",
       "    <tr style=\"text-align: right;\">\n",
       "      <th></th>\n",
       "      <th>euclidean_dist_km</th>\n",
       "      <th>manhattan_dist_km</th>\n",
       "      <th>haversine_dist_km</th>\n",
       "      <th>route_distance_km</th>\n",
       "      <th>route_duration_min</th>\n",
       "      <th>fare_amount_x</th>\n",
       "      <th>pickup_datetime</th>\n",
       "      <th>pickup_longitude</th>\n",
       "      <th>pickup_latitude</th>\n",
       "      <th>dropoff_longitude</th>\n",
       "      <th>dropoff_latitude</th>\n",
       "      <th>passenger_count</th>\n",
       "      <th>fare_amount_y</th>\n",
       "      <th>distances</th>\n",
       "    </tr>\n",
       "  </thead>\n",
       "  <tbody>\n",
       "    <tr>\n",
       "      <th>59542</th>\n",
       "      <td>0.000000</td>\n",
       "      <td>0.000000</td>\n",
       "      <td>0.000000</td>\n",
       "      <td>0.0</td>\n",
       "      <td>0.0</td>\n",
       "      <td>5.0</td>\n",
       "      <td>2013-06-04 10:05:50</td>\n",
       "      <td>-73.901955</td>\n",
       "      <td>40.76404</td>\n",
       "      <td>-73.901955</td>\n",
       "      <td>40.76404</td>\n",
       "      <td>1</td>\n",
       "      <td>5.0</td>\n",
       "      <td>15073.251527</td>\n",
       "    </tr>\n",
       "    <tr>\n",
       "      <th>38815</th>\n",
       "      <td>0.000000</td>\n",
       "      <td>0.000000</td>\n",
       "      <td>0.000000</td>\n",
       "      <td>0.0</td>\n",
       "      <td>0.0</td>\n",
       "      <td>7.5</td>\n",
       "      <td>2012-10-26 22:26:00</td>\n",
       "      <td>-73.989100</td>\n",
       "      <td>40.73636</td>\n",
       "      <td>-73.989100</td>\n",
       "      <td>40.73636</td>\n",
       "      <td>1</td>\n",
       "      <td>7.5</td>\n",
       "      <td>15070.467427</td>\n",
       "    </tr>\n",
       "    <tr>\n",
       "      <th>51352</th>\n",
       "      <td>0.000000</td>\n",
       "      <td>0.000000</td>\n",
       "      <td>0.000000</td>\n",
       "      <td>0.0</td>\n",
       "      <td>0.0</td>\n",
       "      <td>27.3</td>\n",
       "      <td>2012-03-30 12:01:00</td>\n",
       "      <td>-73.937454</td>\n",
       "      <td>40.75812</td>\n",
       "      <td>-73.937454</td>\n",
       "      <td>40.75812</td>\n",
       "      <td>1</td>\n",
       "      <td>27.3</td>\n",
       "      <td>15072.839668</td>\n",
       "    </tr>\n",
       "    <tr>\n",
       "      <th>68537</th>\n",
       "      <td>0.000000</td>\n",
       "      <td>0.000000</td>\n",
       "      <td>0.000000</td>\n",
       "      <td>0.0</td>\n",
       "      <td>0.0</td>\n",
       "      <td>9.3</td>\n",
       "      <td>2011-10-27 20:01:19</td>\n",
       "      <td>-73.870820</td>\n",
       "      <td>40.78310</td>\n",
       "      <td>-73.870820</td>\n",
       "      <td>40.78310</td>\n",
       "      <td>1</td>\n",
       "      <td>9.3</td>\n",
       "      <td>15075.465545</td>\n",
       "    </tr>\n",
       "    <tr>\n",
       "      <th>75880</th>\n",
       "      <td>0.510611</td>\n",
       "      <td>0.581354</td>\n",
       "      <td>0.511076</td>\n",
       "      <td>0.0</td>\n",
       "      <td>0.0</td>\n",
       "      <td>45.0</td>\n",
       "      <td>2014-11-22 01:06:00</td>\n",
       "      <td>-74.061500</td>\n",
       "      <td>40.73936</td>\n",
       "      <td>-74.060530</td>\n",
       "      <td>40.74390</td>\n",
       "      <td>1</td>\n",
       "      <td>45.0</td>\n",
       "      <td>15071.710550</td>\n",
       "    </tr>\n",
       "  </tbody>\n",
       "</table>\n",
       "</div>"
      ],
      "text/plain": [
       "       euclidean_dist_km  manhattan_dist_km  haversine_dist_km  \\\n",
       "59542           0.000000           0.000000           0.000000   \n",
       "38815           0.000000           0.000000           0.000000   \n",
       "51352           0.000000           0.000000           0.000000   \n",
       "68537           0.000000           0.000000           0.000000   \n",
       "75880           0.510611           0.581354           0.511076   \n",
       "\n",
       "       route_distance_km  route_duration_min  fare_amount_x  \\\n",
       "59542                0.0                 0.0            5.0   \n",
       "38815                0.0                 0.0            7.5   \n",
       "51352                0.0                 0.0           27.3   \n",
       "68537                0.0                 0.0            9.3   \n",
       "75880                0.0                 0.0           45.0   \n",
       "\n",
       "          pickup_datetime  pickup_longitude  pickup_latitude  \\\n",
       "59542 2013-06-04 10:05:50        -73.901955         40.76404   \n",
       "38815 2012-10-26 22:26:00        -73.989100         40.73636   \n",
       "51352 2012-03-30 12:01:00        -73.937454         40.75812   \n",
       "68537 2011-10-27 20:01:19        -73.870820         40.78310   \n",
       "75880 2014-11-22 01:06:00        -74.061500         40.73936   \n",
       "\n",
       "       dropoff_longitude  dropoff_latitude  passenger_count  fare_amount_y  \\\n",
       "59542         -73.901955          40.76404                1            5.0   \n",
       "38815         -73.989100          40.73636                1            7.5   \n",
       "51352         -73.937454          40.75812                1           27.3   \n",
       "68537         -73.870820          40.78310                1            9.3   \n",
       "75880         -74.060530          40.74390                1           45.0   \n",
       "\n",
       "          distances  \n",
       "59542  15073.251527  \n",
       "38815  15070.467427  \n",
       "51352  15072.839668  \n",
       "68537  15075.465545  \n",
       "75880  15071.710550  "
      ]
     },
     "execution_count": 40,
     "metadata": {},
     "output_type": "execute_result"
    }
   ],
   "source": [
    "df_train_3_analysis = df_train_3_analysis.loc[df_train.index].copy()\n",
    "\n",
    "df_train_3_analysis['distances'] = haversine_distance(df_train_3_analysis['pickup_latitude'], df_train_3_analysis['dropoff_latitude'],\n",
    "                               df_train_3_analysis['pickup_longitude'], df_train_3_analysis['dropoff_longitude'])\n",
    "\n",
    "df_train_3_analysis.loc[df_train_3_analysis['route_distance_km'] == 0].head() ### ?? - ~65 examples\n",
    "\n",
    "##########################################################\n",
    "### Filter where route_distance == 0 for next iteration###\n",
    "##########################################################\n"
   ]
  },
  {
   "cell_type": "markdown",
   "metadata": {},
   "source": [
    "<div class=\"alert alert-block alert-info\">     \n",
    "    \n",
    "added following cell \n",
    "\n",
    "TODO: check why route is 0\n",
    "     \n",
    "</div>    "
   ]
  },
  {
   "cell_type": "code",
   "execution_count": null,
   "metadata": {},
   "outputs": [],
   "source": [
    "df_train_3_analysis = df_train_3_analysis.loc[df_train_3_analysis['route_distance_km'] != 0]"
   ]
  },
  {
   "cell_type": "markdown",
   "metadata": {},
   "source": [
    "### Check price per kilometer"
   ]
  },
  {
   "cell_type": "code",
   "execution_count": 41,
   "metadata": {},
   "outputs": [
    {
     "data": {
      "text/plain": [
       "count     76317.000000\n",
       "mean         58.028857\n",
       "std        4080.245475\n",
       "min           0.165007\n",
       "50%           2.854109\n",
       "90%           4.810838\n",
       "95%           5.858411\n",
       "99%          11.065728\n",
       "max      498000.000000\n",
       "dtype: float64"
      ]
     },
     "metadata": {},
     "output_type": "display_data"
    }
   ],
   "source": [
    "temp = df_train_3_analysis.loc[df_train_3_analysis['route_distance_km'] != 0]\n",
    "\n",
    "price_km = temp['fare_amount_y']/temp['route_distance_km']\n",
    "display(price_km.describe(percentiles=[.9, .95, .99]))\n",
    "\n",
    "##########################################################\n",
    "### Filter where price per km > 5 - 95th percentile    ###\n",
    "##########################################################"
   ]
  },
  {
   "cell_type": "markdown",
   "metadata": {},
   "source": [
    "<div class=\"alert alert-block alert-info\">     \n",
    "    \n",
    "Are we using df_train_3_analysis in the following cells?\n",
    "\n",
    "</div>    "
   ]
  },
  {
   "cell_type": "markdown",
   "metadata": {},
   "source": [
    "## Embed Nearest neighbors fares\n",
    "  \n",
    "Last approach, we're going to find the most similar trips that were performed in the past. Based on the [fare prices specification](https://www1.nyc.gov/site/tlc/passengers/taxi-fare.page), we can see that the day of the week, hour and distance make an impact in the final overall price. Therefore, we'll try to cover this features based on:\n",
    "* Trips that started in the same point in the week (full weekly seasonality) \n",
    "* Trips that started and finished roughly at the same locations  \n",
    "  \n",
    "Given the most similar trips for a given specific taxi trip, we can then average out their fares to produce a new feature for our model, `nn_avg_fare`. The only hiperparameter we have to deal with is the number of nearest neighbors that we are going to average our final fare from.  \n",
    "  "
   ]
  },
  {
   "cell_type": "code",
   "execution_count": 43,
   "metadata": {},
   "outputs": [
    {
     "data": {
      "text/html": [
       "<div>\n",
       "<style scoped>\n",
       "    .dataframe tbody tr th:only-of-type {\n",
       "        vertical-align: middle;\n",
       "    }\n",
       "\n",
       "    .dataframe tbody tr th {\n",
       "        vertical-align: top;\n",
       "    }\n",
       "\n",
       "    .dataframe thead th {\n",
       "        text-align: right;\n",
       "    }\n",
       "</style>\n",
       "<table border=\"1\" class=\"dataframe\">\n",
       "  <thead>\n",
       "    <tr style=\"text-align: right;\">\n",
       "      <th></th>\n",
       "      <th>pickup_datetime</th>\n",
       "      <th>pickup_longitude</th>\n",
       "      <th>pickup_latitude</th>\n",
       "      <th>dropoff_longitude</th>\n",
       "      <th>dropoff_latitude</th>\n",
       "      <th>passenger_count</th>\n",
       "      <th>fare_amount</th>\n",
       "      <th>nn_avg_fare</th>\n",
       "    </tr>\n",
       "  </thead>\n",
       "  <tbody>\n",
       "    <tr>\n",
       "      <th>60985</th>\n",
       "      <td>2009-08-29 10:33:00</td>\n",
       "      <td>-73.94768</td>\n",
       "      <td>40.770580</td>\n",
       "      <td>-73.98643</td>\n",
       "      <td>40.740242</td>\n",
       "      <td>1</td>\n",
       "      <td>10.9</td>\n",
       "      <td>10.471429</td>\n",
       "    </tr>\n",
       "    <tr>\n",
       "      <th>83610</th>\n",
       "      <td>2012-09-04 12:13:00</td>\n",
       "      <td>-73.95845</td>\n",
       "      <td>40.768852</td>\n",
       "      <td>-73.97303</td>\n",
       "      <td>40.760426</td>\n",
       "      <td>1</td>\n",
       "      <td>8.5</td>\n",
       "      <td>8.614286</td>\n",
       "    </tr>\n",
       "    <tr>\n",
       "      <th>19902</th>\n",
       "      <td>2012-03-23 19:07:00</td>\n",
       "      <td>-73.98291</td>\n",
       "      <td>40.759020</td>\n",
       "      <td>-73.98150</td>\n",
       "      <td>40.765200</td>\n",
       "      <td>3</td>\n",
       "      <td>7.7</td>\n",
       "      <td>9.514286</td>\n",
       "    </tr>\n",
       "  </tbody>\n",
       "</table>\n",
       "</div>"
      ],
      "text/plain": [
       "          pickup_datetime  pickup_longitude  pickup_latitude  \\\n",
       "60985 2009-08-29 10:33:00         -73.94768        40.770580   \n",
       "83610 2012-09-04 12:13:00         -73.95845        40.768852   \n",
       "19902 2012-03-23 19:07:00         -73.98291        40.759020   \n",
       "\n",
       "       dropoff_longitude  dropoff_latitude  passenger_count  fare_amount  \\\n",
       "60985          -73.98643         40.740242                1         10.9   \n",
       "83610          -73.97303         40.760426                1          8.5   \n",
       "19902          -73.98150         40.765200                3          7.7   \n",
       "\n",
       "       nn_avg_fare  \n",
       "60985    10.471429  \n",
       "83610     8.614286  \n",
       "19902     9.514286  "
      ]
     },
     "execution_count": 43,
     "metadata": {},
     "output_type": "execute_result"
    }
   ],
   "source": [
    "## Small Example\n",
    "##\n",
    "def nn_avg_fare(df, target_col=TARGET, \n",
    "                pickup_latitude='pickup_latitude', pickup_longitude='pickup_longitude',\n",
    "                dropoff_latitude='dropoff_latitude', dropoff_longitude='dropoff_longitude',\n",
    "                pickup_datetime_col='pickup_datetime', n_neighbors=7, test_mode='test',\n",
    "                nn_avg_fare_model=None):\n",
    "    \n",
    "    df_copy = df.copy()\n",
    "    minutes_since_monday_midnight = 'minutes_since_monday_midnight' # monday 00:00 = 0, tuesday 00:00 = 24, so on..\n",
    "    df_copy[minutes_since_monday_midnight] = df_copy[pickup_datetime_col].dt.dayofweek * (24*60) + \\\n",
    "                                               df_copy[pickup_datetime_col].dt.hour * 60 + \\\n",
    "                                               df_copy[pickup_datetime_col].dt.minute\n",
    "\n",
    "\n",
    "    nn_features = [pickup_latitude, pickup_longitude, \n",
    "                       dropoff_latitude, dropoff_longitude, \n",
    "                       minutes_since_monday_midnight]\n",
    "    nn_data = standardize_features(df_copy[nn_features])             # for k-means it's important to standardize feat.\n",
    "    nn_data[target_col] = df_copy[target_col]\n",
    "    if(test_mode == 'train'):                                        # if it's training, used dataset to create model \n",
    "        nn_avg_fare_model = KNeighborsRegressor(n_neighbors=n_neighbors)\n",
    "        nn_avg_fare_model.fit(nn_data.drop(target_col, axis=1), nn_data[target_col])\n",
    "    predictions = nn_avg_fare_model.predict(nn_data.drop(target_col, axis=1))\n",
    "    return predictions, nn_avg_fare_model\n",
    "\n",
    "#####\n",
    "#####\n",
    "df_train_temp = df_train.head(50).copy()\n",
    "df_test_temp = df_train.iloc[50:53].copy()\n",
    "df_train_temp['nn_avg_fare'], nn_avg_fare_model = nn_avg_fare(df_train_temp, test_mode='train')\n",
    "df_test_temp['nn_avg_fare'] , nn_avg_fare_model = nn_avg_fare(df_test_temp, \n",
    "                                                              test_mode='test', \n",
    "                                                              nn_avg_fare_model=nn_avg_fare_model)\n",
    "\n",
    "df_test_temp\n"
   ]
  },
  {
   "cell_type": "code",
   "execution_count": 44,
   "metadata": {},
   "outputs": [
    {
     "data": {
      "text/html": [
       "<div>\n",
       "<style scoped>\n",
       "    .dataframe tbody tr th:only-of-type {\n",
       "        vertical-align: middle;\n",
       "    }\n",
       "\n",
       "    .dataframe tbody tr th {\n",
       "        vertical-align: top;\n",
       "    }\n",
       "\n",
       "    .dataframe thead th {\n",
       "        text-align: right;\n",
       "    }\n",
       "</style>\n",
       "<table border=\"1\" class=\"dataframe\">\n",
       "  <thead>\n",
       "    <tr style=\"text-align: right;\">\n",
       "      <th></th>\n",
       "      <th>euclidean_dist_km</th>\n",
       "      <th>manhattan_dist_km</th>\n",
       "      <th>haversine_dist_km</th>\n",
       "      <th>route_distance_km</th>\n",
       "      <th>route_duration_min</th>\n",
       "      <th>nn_avg_fare</th>\n",
       "      <th>fare_amount</th>\n",
       "    </tr>\n",
       "  </thead>\n",
       "  <tbody>\n",
       "    <tr>\n",
       "      <th>81127</th>\n",
       "      <td>1.371619</td>\n",
       "      <td>1.518360</td>\n",
       "      <td>1.372925</td>\n",
       "      <td>2.2355</td>\n",
       "      <td>3.450000</td>\n",
       "      <td>7.557143</td>\n",
       "      <td>10.5</td>\n",
       "    </tr>\n",
       "    <tr>\n",
       "      <th>88083</th>\n",
       "      <td>2.111392</td>\n",
       "      <td>2.859398</td>\n",
       "      <td>2.111571</td>\n",
       "      <td>2.8492</td>\n",
       "      <td>5.011667</td>\n",
       "      <td>6.671429</td>\n",
       "      <td>5.7</td>\n",
       "    </tr>\n",
       "    <tr>\n",
       "      <th>40667</th>\n",
       "      <td>2.131066</td>\n",
       "      <td>2.764892</td>\n",
       "      <td>2.126155</td>\n",
       "      <td>3.5321</td>\n",
       "      <td>6.650000</td>\n",
       "      <td>9.157143</td>\n",
       "      <td>13.0</td>\n",
       "    </tr>\n",
       "    <tr>\n",
       "      <th>69985</th>\n",
       "      <td>6.568325</td>\n",
       "      <td>8.744601</td>\n",
       "      <td>6.570039</td>\n",
       "      <td>8.9631</td>\n",
       "      <td>11.570000</td>\n",
       "      <td>18.014286</td>\n",
       "      <td>20.0</td>\n",
       "    </tr>\n",
       "    <tr>\n",
       "      <th>22252</th>\n",
       "      <td>2.446133</td>\n",
       "      <td>3.355554</td>\n",
       "      <td>2.445977</td>\n",
       "      <td>2.9359</td>\n",
       "      <td>5.458333</td>\n",
       "      <td>7.128571</td>\n",
       "      <td>6.5</td>\n",
       "    </tr>\n",
       "  </tbody>\n",
       "</table>\n",
       "</div>"
      ],
      "text/plain": [
       "       euclidean_dist_km  manhattan_dist_km  haversine_dist_km  \\\n",
       "81127           1.371619           1.518360           1.372925   \n",
       "88083           2.111392           2.859398           2.111571   \n",
       "40667           2.131066           2.764892           2.126155   \n",
       "69985           6.568325           8.744601           6.570039   \n",
       "22252           2.446133           3.355554           2.445977   \n",
       "\n",
       "       route_distance_km  route_duration_min  nn_avg_fare  fare_amount  \n",
       "81127             2.2355            3.450000     7.557143         10.5  \n",
       "88083             2.8492            5.011667     6.671429          5.7  \n",
       "40667             3.5321            6.650000     9.157143         13.0  \n",
       "69985             8.9631           11.570000    18.014286         20.0  \n",
       "22252             2.9359            5.458333     7.128571          6.5  "
      ]
     },
     "execution_count": 44,
     "metadata": {},
     "output_type": "execute_result"
    }
   ],
   "source": [
    "def feature_pipeline_4(df, target_col=TARGET, \n",
    "                              pickup_latitude='pickup_latitude', dropoff_latitude='dropoff_latitude', \n",
    "                              pickup_longitude='pickup_longitude', dropoff_longitude='dropoff_longitude',\n",
    "                              pickup_datetime_col='pickup_datetime',\n",
    "                              osm_router=OSRM_PATH, \n",
    "                              nn_avg_fare_model=None, n_neighbors=7,\n",
    "                              test_mode=None):\n",
    "    EUCLIDEAN_FEAT = 'euclidean_dist_km'\n",
    "    HAVERSINE_FEAT = 'haversine_dist_km'\n",
    "    MANHATTAN_FEAT = 'manhattan_dist_km'\n",
    "    ROUTE_DISTANCE = 'route_distance_km'\n",
    "    ROUTE_DURATION = 'route_duration_min'\n",
    "    NN_AVG_FARE = 'nn_avg_fare'\n",
    "    \n",
    "    FEATURES = [EUCLIDEAN_FEAT, \n",
    "                MANHATTAN_FEAT,\n",
    "                HAVERSINE_FEAT,\n",
    "                ROUTE_DISTANCE,\n",
    "                ROUTE_DURATION,\n",
    "                NN_AVG_FARE] \n",
    "\n",
    "    df_copy = df.copy()    \n",
    "    \n",
    "    # Execute previous features' pipeline\n",
    "    df_pipeline3, routes3 = feature_pipeline_3(df_copy, test_mode=test_mode)\n",
    "    df_copy[EUCLIDEAN_FEAT] = df_pipeline3[EUCLIDEAN_FEAT]\n",
    "    df_copy[MANHATTAN_FEAT] = df_pipeline3[MANHATTAN_FEAT]\n",
    "    df_copy[HAVERSINE_FEAT] = df_pipeline3[HAVERSINE_FEAT]\n",
    "    df_copy[ROUTE_DISTANCE] = df_pipeline3[ROUTE_DISTANCE]\n",
    "    df_copy[ROUTE_DURATION] = df_pipeline3[ROUTE_DURATION]\n",
    "\n",
    "    \n",
    "    ###### Outliers Filtering\n",
    "    # in the EDA, we probably treat the nulls, so for now, just drop them\n",
    "    df_copy = df_copy.dropna()\n",
    "    \n",
    "    df_copy = df_copy.loc[df_copy[ROUTE_DISTANCE] != 0].copy()\n",
    "    \n",
    "    price_per_km = df_copy[target_col]/(df_copy[ROUTE_DISTANCE])\n",
    "    df_copy = df_copy.loc[price_per_km < 5].copy()\n",
    "    ######\n",
    "    \n",
    "    ###### NN avg fare model\n",
    "    if(test_mode == 'train'):\n",
    "        df_copy[NN_AVG_FARE], nn_avg_fare_model = nn_avg_fare(df_copy, test_mode='train', n_neighbors=n_neighbors)\n",
    "    else:\n",
    "        df_copy[NN_AVG_FARE], nn_avg_fare_model = nn_avg_fare(df_copy, test_mode='test', \n",
    "                                                              nn_avg_fare_model=nn_avg_fare_model)\n",
    "    ######\n",
    "    \n",
    "    return df_copy[FEATURES + [target_col]], routes3, nn_avg_fare_model\n",
    "\n",
    "df_train_4, routes_train, nn_avg_fare_model = feature_pipeline_4(df_train, test_mode='train')\n",
    "df_test_4, routes_test, nn_avg_fare_model = feature_pipeline_4(df_test, test_mode='test', nn_avg_fare_model=nn_avg_fare_model)\n",
    "\n",
    "df_train_4.head()\n"
   ]
  },
  {
   "cell_type": "code",
   "execution_count": 45,
   "metadata": {},
   "outputs": [],
   "source": [
    "model_4 = LinearRegression()\n",
    "model_4.fit(df_train_4.drop(TARGET, axis=1), df_train_4[TARGET])\n",
    "y_test_pred_4 = model_4.predict(df_test_4.drop(TARGET, axis=1))\n"
   ]
  },
  {
   "cell_type": "code",
   "execution_count": 46,
   "metadata": {
    "scrolled": false
   },
   "outputs": [
    {
     "name": "stdout",
     "output_type": "stream",
     "text": [
      "RMSE Error: 3.285308528136568\n"
     ]
    },
    {
     "data": {
      "image/png": "[encoded data removed]",
      "text/plain": [
       "<Figure size 432x288 with 1 Axes>"
      ]
     },
     "metadata": {
      "needs_background": "light"
     },
     "output_type": "display_data"
    }
   ],
   "source": [
    "#####\n",
    "rmse_4 = np.sqrt(mean_squared_error(df_test_4[TARGET], y_test_pred_4))\n",
    "iteration_results['exp_4_knn_rmse'] = rmse_4\n",
    "print(f'RMSE Error: {rmse_4}')\n",
    "\n",
    "print_evaluation(df_test_4[TARGET], y_test_pred_4, return_errors=False)\n",
    "plt.xlim([0, 50]);"
   ]
  },
  {
   "cell_type": "code",
   "execution_count": 47,
   "metadata": {},
   "outputs": [
    {
     "data": {
      "text/plain": [
       "OrderedDict([('exp_0_lazy_rmse', 9.61393775520487),\n",
       "             ('exp_1_rmse', 4.33833106609023),\n",
       "             ('exp_1b_rmse', 4.464849428041983),\n",
       "             ('exp_2_rmse', 4.308687683809611),\n",
       "             ('exp_3_osrm', 4.197334145103847),\n",
       "             ('exp_4_knn_rmse', 3.285308528136568)])"
      ]
     },
     "execution_count": 47,
     "metadata": {},
     "output_type": "execute_result"
    }
   ],
   "source": [
    "iteration_results"
   ]
  },
  {
   "cell_type": "markdown",
   "metadata": {},
   "source": [
    "<div class=\"alert alert-block alert-info\">     \n",
    "<b>Personal Note</b>: Although we've seen improvements in this iteration, it's in the modelling's objetive to determine the usefulness of this feature. The previous iterations' results didn't improve much because, besides that the features were correlated, they also didn't capture all the factors that compose the final fare price given the dataset that we were given to.  \n",
    "     \n",
    "The KNNRegression approach that we execute, capture close by trips and \"mimics\" their final price as feature, without putting much thought on what are the <b>main driving factors that compose the final fare</b>. If performance is the objective, this is always a good feature. However, if we were modelling/explaining this process, I wouldn't personally go for this feature\n",
    "</div>   \n",
    "  \n",
    "### Exercise KNNRegressor  \n",
    "\n",
    "Using the codes above, define what is the best value of `n_neighbors` that minimizes the test RMSE?\n",
    "  "
   ]
  },
  {
   "cell_type": "code",
   "execution_count": 48,
   "metadata": {},
   "outputs": [
    {
     "name": "stdout",
     "output_type": "stream",
     "text": [
      "RMSE Error - N = 1: 4.333215142500596\n",
      "RMSE Error - N = 2: 3.754238152302987\n",
      "RMSE Error - N = 3: 3.5626646505825184\n",
      "RMSE Error - N = 4: 3.4312851567761498\n",
      "RMSE Error - N = 5: 3.352702939781957\n",
      "RMSE Error - N = 6: 3.2940600734989642\n",
      "RMSE Error - N = 7: 3.285308528136568\n",
      "RMSE Error - N = 8: 3.2821796979399815\n",
      "RMSE Error - N = 9: 3.2760405352222537\n",
      "RMSE Error - N = 10: 3.2747209920732603\n",
      "RMSE Error - N = 11: 3.2737815956740217\n"
     ]
    }
   ],
   "source": [
    "n_knn = range(1,12)\n",
    "for n in n_knn:\n",
    "    df_train_ex_knn, _, nn_avg_fare_model = feature_pipeline_4(df_train, test_mode='train', n_neighbors=n)\n",
    "    df_test_ex_knn, _, _ = feature_pipeline_4(df_test, test_mode='test', nn_avg_fare_model=nn_avg_fare_model)\n",
    "    \n",
    "    model_ex_knn = LinearRegression()\n",
    "    model_ex_knn.fit(df_train_ex_knn.drop(TARGET, axis=1), df_train_ex_knn[TARGET])\n",
    "    y_test_pred_ex_knn = model_ex_knn.predict(df_test_ex_knn.drop(TARGET, axis=1))\n",
    "    \n",
    "    rmse_ex_knn = np.sqrt(mean_squared_error(df_test_ex_knn[TARGET], y_test_pred_ex_knn))\n",
    "    print(f'RMSE Error - N = {n}: {rmse_ex_knn}')\n"
   ]
  },
  {
   "cell_type": "markdown",
   "metadata": {},
   "source": [
    "### How to speed up spatial queries:\n",
    "\n",
    "<img src=\"images/spatial_indexes.png\" width=\"500\"> \n",
    "<center>Example of spatial indexes. Source: <a href=\"https://www.youtube.com/watch?v=_95bSEqMzUA\">Youtube: Alexander Müller - Spatial Range Queries Using Python In-Memory Indices</a></center>  \n",
    "\n",
    "Traditional databases have indexes in their system that makes it possible to quickly **find** an element. However, when we are working with elements that have a **spatial relationship**, these indexes don't help us to perform common operations that are frequently performed with spatial data, *i.e.*, with lines and polygons besides points:  \n",
    "* Find K neighboors for every point\n",
    "* Check if points are inside a table of polygons - [spatial joins](http://geopandas.org/mergingdata.html)\n",
    "* Check if lines/polygons intersect and extract their joined/intersected area  \n",
    "\n",
    "Common GIS databases, such as [PostGIS](https://postgis.net/) already have optimizations for this kind of operations. However, how can we create the same features with Python?  \n",
    "\n",
    "**Spatial Indexes**:  \n",
    "  \n",
    "If you look at the [KNNRegressor's documentation](https://scikit-learn.org/stable/modules/generated/sklearn.neighbors.KNeighborsRegressor.html), you'll see that they have a parameter `algorithm` which is used to find the nearest neighbor. These algorithms, or indexes, maintain a data structure that holds information about the object's proximity. A well established python implementation of spatial index is a `R-Tree` and [Reference 1](http://toblerity.org/rtree/) and [Reference 2](https://geoffboeing.com/2016/10/r-tree-spatial-index-python/) show a bit how do they work and could you implement for your spatial queries:  \n",
    "  \n",
    "<img src=\"images/r_tree.png\" width=\"600\"> \n",
    "<center>Insert process of a R-Tree</center>  \n",
    "\n",
    "Imagine you have a set of geometries. We can merge these data points into 2 (or more) separated `bounding boxes` based on a specific heuristic. At the next step, you can interpret that each of the new bounding boxes are themselves a polygon. We can then apply the same heuristics to merge the polygons into higher level bounding boxes and repeat the process until we have just 1 level, the tree root, which is a bounding box that contains all other bounding boxes.  There you go, you have your R(Rectangle)-Tree!\n",
    "\n",
    "<img src=\"images/r_tree_2.png\" width=\"600\"> \n",
    "<center>Built R-Tree</center>  \n",
    "  \n",
    "Because the way the algorithm was build, the **search** process has spatial operations embedded into its functionality. Suppose you want to find the nearest neighbors of your point (or line or polygon). In a traditional approach you would:\n",
    "* Calculate the distance from the geometry A to all other geometries\n",
    "* Sort in increasing order\n",
    "* Choose the K closest neighbors   \n",
    " \n",
    "When you have millions of points, these steps are quite heavy processing. With the R-Tree indexed dataset:   \n",
    "  \n",
    "* From the tree structure, find which bounding box your geometry is:\n",
    "* Retrieve all geometries from inside the leaf node (or from neighbors leaf nodes bounding boxes as well)\n",
    "* Calculate distances, sort and select K closest  \n",
    "\n",
    "The R-Tree helps with filtering out the majority of the dataset that lives outside of the point's bounding box. After the big filtering is done, all the other calculations follow in the same way.   \n",
    "  \n",
    "[Here](https://geoffboeing.com/2016/10/r-tree-spatial-index-python/) is an example that filter streets based on a city polygon using R-Trees.\n",
    "  \n",
    "Lets say we wanted to check which routes intersect with a route of interest that we manually selected. [Geopandas](http://geopandas.org/) can perform [spatial joins](https://medium.com/@bobhaffner/spatial-joins-in-geopandas-c5e916a763f3) in order to join tables [based on the relationship types between two geometry columns](https://shapely.readthedocs.io/en/latest/manual.html#binary-predicates). Here, we use the `intersects` operation in GeoPandas to check whether two linestrings intersect each other. However, the operation is unfortunately still [done element per element](https://matthewrocklin.com/blog/work/2017/09/21/accelerating-geopandas-1). With the R-Tree, we still do element by element search, but we can firstly subselect close-by elements and then perform `intersects` with a small subset of the total dataset. With bigger datasets, this difference in approaches can lead to big differences in performance, as we can see in the example below:"
   ]
  },
  {
   "cell_type": "code",
   "execution_count": 49,
   "metadata": {},
   "outputs": [],
   "source": [
    "def create_r_tree(gdf, geometry_col):\n",
    "    idx = index.Index()\n",
    "    #Populate R-tree index with bounds of grid cells\n",
    "    for ix, cell in gdf.iterrows():\n",
    "        # in GeoPandas, there's always a geometry col and it's always a shapely \n",
    "        idx.insert(ix, cell[geometry_col].bounds)\n",
    "    return idx\n"
   ]
  },
  {
   "cell_type": "code",
   "execution_count": 50,
   "metadata": {
    "scrolled": true
   },
   "outputs": [
    {
     "name": "stdout",
     "output_type": "stream",
     "text": [
      "N Samples: 7500\n",
      "* intersecting routes found without index: 6\n",
      "* intersecting routes found with index: 6 \n",
      "\n",
      "N Samples: 15000\n",
      "* intersecting routes found without index: 20\n",
      "* intersecting routes found with index: 20 \n",
      "\n",
      "N Samples: 22500\n",
      "* intersecting routes found without index: 30\n",
      "* intersecting routes found with index: 30 \n",
      "\n",
      "N Samples: 30000\n",
      "* intersecting routes found without index: 39\n",
      "* intersecting routes found with index: 39 \n",
      "\n",
      "N Samples: 37500\n",
      "* intersecting routes found without index: 47\n",
      "* intersecting routes found with index: 47 \n",
      "\n",
      "N Samples: 45000\n",
      "* intersecting routes found without index: 58\n",
      "* intersecting routes found with index: 58 \n",
      "\n",
      "N Samples: 52500\n",
      "* intersecting routes found without index: 69\n",
      "* intersecting routes found with index: 69 \n",
      "\n",
      "N Samples: 60000\n",
      "* intersecting routes found without index: 87\n",
      "* intersecting routes found with index: 87 \n",
      "\n",
      "N Samples: 67500\n",
      "* intersecting routes found without index: 93\n",
      "* intersecting routes found with index: 93 \n",
      "\n",
      "N Samples: 75000\n",
      "* intersecting routes found without index: 105\n",
      "* intersecting routes found with index: 105 \n",
      "\n"
     ]
    },
    {
     "data": {
      "image/png": "[encoded data removed]",
      "text/plain": [
       "<Figure size 432x288 with 1 Axes>"
      ]
     },
     "metadata": {
      "needs_background": "light"
     },
     "output_type": "display_data"
    }
   ],
   "source": [
    "df_geoix = routes_train.loc[(routes_train['distance_m'] > 100) & (routes_train['distance_m'] < 500)]\n",
    "df_geoix = GeoDataFrame(df_geoix, geometry='route') # convert df to GeoDf, allow methods such as 'intersects'\n",
    "n_samples = np.arange(7500, 75001, 7500)            # different resample sizes (10)\n",
    "times_no_geoix = []                                 # store processing time for searches with no spatial index\n",
    "times_geoix = []                                    # store processing time for searches with R-Tree\n",
    "intersect_line = df_geoix.loc[1584]['route']        # linstring geometry\n",
    "\n",
    "for n_sample in n_samples:\n",
    "    print(f'N Samples: {n_sample}')\n",
    "    df_geoix_sample = df_geoix.sample(n_sample, replace=True, random_state=42).reset_index(drop=True)\n",
    "    idx = create_r_tree(df_geoix_sample, 'route')\n",
    "    \n",
    "    #### without index\n",
    "    time_no_geoix = time.time()\n",
    "    filter_1 = df_geoix_sample.intersects(intersect_line)\n",
    "    routes_ix = filter_1[filter_1 == True].index\n",
    "    times_no_geoix.append(time.time() - time_no_geoix)\n",
    "    print(f'* intersecting routes found without index: {len(routes_ix)}')\n",
    "    \n",
    "    #### with index\n",
    "    # Filter possible candidates by bouding boxes\n",
    "    time_with_geoix = time.time()\n",
    "    idxs = list(idx.intersection(intersect_line.bounds))\n",
    "    if(len(idxs) > 0):\n",
    "        # Now do actual intersection\n",
    "        filter_2 = df_geoix_sample.loc[idxs].intersects(intersect_line)\n",
    "        routes_ix = df_geoix_sample.loc[filter_2[filter_2 == True].index]\n",
    "        times_geoix.append(time.time() - time_with_geoix)\n",
    "        print(f'* intersecting routes found with index: {len(routes_ix)} \\n')\n",
    "    \n",
    "plt.plot(n_samples, times_no_geoix)\n",
    "plt.plot(n_samples, times_geoix)\n",
    "plt.title('Comparison between search times without index and R-Tree')\n",
    "plt.xlabel('Number of Geometries')\n",
    "plt.ylabel('Search Time (seconds)')\n",
    "plt.legend(['Without Index', 'R-Tree']);        \n",
    "    "
   ]
  },
  {
   "cell_type": "markdown",
   "metadata": {},
   "source": [
    "<div class=\"alert alert-block alert-info\">     \n",
    "You might have notices the first line of code in the code block above, where I filtered for short routes. The reason I've done this is that the spatial indexes are efficient when the object you're trying to join with results in a small number of intersection with other elements. If we had selected a long street that intersected with most routes from our dataset, the index would filter almost no elements and the following search operation would be similar to the one performed by GeoPandas\n",
    "</div>    "
   ]
  },
  {
   "cell_type": "markdown",
   "metadata": {},
   "source": [
    "# Traffic Prototype\n",
    "\n",
    "<img src=\"images/traffic.png\" width=\"500\"> \n",
    "<center>Traffic information from Google Maps</center>\n",
    "\n",
    "As you've learned already, OSRM works over partitioning OSM's data into a routable graph. OSRM works great if you want the **shortest** route, *i.e.*, find the minimum path between two nodes where the edge weight is the street length. However, if you want to consider more realistic scenarios, OSRM provide you with tools to route the **fastest** route between two nodes, *i.e.*, incorporate your own traffic data inside the router so it takes this information into consideration ([Reference](https://github.com/Project-OSRM/osrm-backend/wiki/Traffic)).  \n",
    "  \n",
    "In order to follow with this section, we need to be presented to two new concepts:  \n",
    "  * GPS Traces\n",
    "  * Open Street Maps Data Representation\n",
    "\n",
    "## GPS Traces  \n",
    "\n",
    "This is the data that we'll be working on this section. Everyday, everyone produce a lot of data that contains a geo location attributed to it, such as:\n",
    "* instagram tag\n",
    "* location check-in\n",
    "* and, most important for this workshop, a periodic location update of where you are, either by foot or by car.  \n",
    "\n",
    "Regarding cars, this sequence of GPS locations + time stamps are regarded as `traces` and are the main data input for a traffic information. They main idea behind this is that, as traces contains positions and time, their follow up average speeed and acceleration can be calculated. Therefore, by aggregation multiple traces in the city and defining their average speed over an area, we can have an idea of the traffic flow that is running through the city.\n",
    "\n",
    "The GPS signal is [acquired through satellites](http://www.physics.org/article-questions.asp?id=55) and, the more open is your surroundings, the easier is to get your position. Unfortunately, that's not the case in big cities, where we can see tall buildings everywhere and is the place that usually coincides with high traffic volumes.   \n",
    "\n",
    "<img src=\"images/bad_gps.png\" width=\"500\"> \n",
    "<center>Bad GPS Signal. Source: <a href=\"https://www.gps.gov/systems/gps/performance/accuracy/\">https://www.gps.gov/systems/gps/performance/accuracy/</a></center>   \n",
    "\n",
    "All this makes the acquiring of GPS traces a challenge by itself and the data that we can usually get from our users' smartphones don't perfectly represent the user/car real position but actually a noisy representation of it, as you can see in the picture below. If we want to match traffic volume/average speeds to the street level, we need to make sure our traces are aligned with the city's network. In order to to this, we use a map provider + tools in OSM:\n",
    "  \n",
    "\n",
    "## OSM Data Representation\n",
    "\n",
    "### Nodes, Ways and Relations  \n",
    "\n",
    "<img src=\"images/osm_data_types_.jpg\" width=\"500\"> \n",
    "<center>Data types in OSM</center>  \n",
    "\n",
    "Everything that is inside OSM is represent by one of three possible geometries ([Reference](https://labs.mapbox.com/mapping/osm-data-model/)):\n",
    "* **Node** - A node is everything that can be represented by a point, a unique object with no large spatial dimensions, such as a POIs or objects, such as this lamp post: https://www.openstreetmap.org/node/6343276469  \n",
    "* **Way** - A way is a line connecting two or more nodes. In this workshop's use case, ways are mainly streets connecting two nodes, *i.e.*, street intersections. Example: https://www.openstreetmap.org/way/4402228\n",
    "* **Relations** - As the name says, relations are used to create higher level structures that contains nodes and ways inside it. Example: https://www.openstreetmap.org/relation/1685018  \n",
    "\n",
    "### Tags\n",
    "  \n",
    "Tags are the metadata of each data type defined above. All data types contains a set of possible (but not mandatory) tags related to the tags' semantics. For instance, if you look at the left side of the screen in any of the data types examples above, you'll see that:  \n",
    "* **Nodes** have a description of what exactly is the node. Implicitly, **all** OSM nodes also have a `latitude/longitude` associated with it.\n",
    "* Street **Ways** have informations about the street, such as whether it has a `bicycle path`, if it has a `sidewalk` and mainly, what is it's `maximum driving speed`. An important observation on ways is that **it doesn't always have maximum speed**. Ways in OSM were not created having routing in mind so that ways can be defined split in multiple pieces or a same path can be inside different ways. See for example https://www.openstreetmap.org/way/7552152 and https://www.openstreetmap.org/way/48859717. Street ways can also be complex because we might not have the same street speed during the whole \n",
    "* An important feature about **Relations** is their [administrative level](https://wiki.openstreetmap.org/wiki/Key:admin%20level?uselang=en-GB). This level indicates the level of hierarchy that this relation is taking in terms of spatial boundary. Small administrative levels indicate small spaces, such as parks and neighbors while higher administrative levels go to cities/countries/continents.  \n",
    "\n",
    "  \n",
    "## Traffic Proof of Concept (POC)\n",
    "\n",
    "OSRM allows you to define what is the street speed by allowing you to provide an external CSV file that sets it. For that, you need to define the speeds segment by segment, *i.e.*, by each pair of sequential node ids, you can set what is the street speed at that point ([Reference](https://github.com/Project-OSRM/osrm-backend/wiki/Traffic)).  \n",
    "  \n",
    "Lets learn how to use for a simple example. \n",
    "1. When we call the router we used in the sections above, it also returns the sequence of node ids that compose the route in OSM. \n",
    "2.  We take the same example of pick up and drop off as above, but then we're going to set all street speeds between those segments to 1 (km/h).  \n",
    "3. We're then going to set up the router with the new \"traffic\" information and see what happens\n",
    "  \n",
    "<div class=\"alert alert-block alert-info\"> \n",
    "<b>Be careful</b>: Do <b>not</b> set the speeds to 0, as it breaks the router by unkown reasons, until now.    \n",
    "</div>\n"
   ]
  },
  {
   "cell_type": "code",
   "execution_count": 71,
   "metadata": {},
   "outputs": [
    {
     "data": {
      "text/html": [
       "<div style=\"width:100%;\"><div style=\"position:relative;width:100%;height:0;padding-bottom:60%;\"><iframe src=\"data:text/html;charset=utf-8;base64,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\" style=\"position:absolute;width:100%;height:100%;left:0;top:0;border:none !important;\" allowfullscreen webkitallowfullscreen mozallowfullscreen></iframe></div></div>"
      ],
      "text/plain": [
       "<folium.folium.Map at 0x7fc7e505cda0>"
      ]
     },
     "execution_count": 71,
     "metadata": {},
     "output_type": "execute_result"
    }
   ],
   "source": [
    "# redo route command with previous router\n",
    "\n",
    "lat1, lon1 = 40.732605,-73.996070\n",
    "lat2, lon2 = 40.761864,-73.980675\n",
    "\n",
    "lat, lon, distance, duration, node_ids = osm.route(lat1, lon1, lat2, lon2)\n",
    "\n",
    "t = latlon2linestring(lat, lon)\n",
    "\n",
    "plot_geometry(t)"
   ]
  },
  {
   "cell_type": "markdown",
   "metadata": {},
   "source": [
    "The command above returned a list of node ids that compose the route. We're now going to run a loop over these node ids and create a dataframe (and then a csv) containing the node pairs and the new street speed. This file will go to the same folder as the router files folder. Because we're running this workshop inside a docker container, I already prepared and saved the file below `router/test_traffic.csv`, so the following code block only show the example and display the dataframe structure.\n",
    "\n",
    "### For each segment between 2 nodes, set speed to lowest possible = 1 km/h. `NOT 0`"
   ]
  },
  {
   "cell_type": "code",
   "execution_count": 52,
   "metadata": {
    "scrolled": true
   },
   "outputs": [
    {
     "data": {
      "text/html": [
       "<div>\n",
       "<style scoped>\n",
       "    .dataframe tbody tr th:only-of-type {\n",
       "        vertical-align: middle;\n",
       "    }\n",
       "\n",
       "    .dataframe tbody tr th {\n",
       "        vertical-align: top;\n",
       "    }\n",
       "\n",
       "    .dataframe thead th {\n",
       "        text-align: right;\n",
       "    }\n",
       "</style>\n",
       "<table border=\"1\" class=\"dataframe\">\n",
       "  <thead>\n",
       "    <tr style=\"text-align: right;\">\n",
       "      <th></th>\n",
       "      <th>node_from</th>\n",
       "      <th>node_to</th>\n",
       "      <th>node_speed</th>\n",
       "    </tr>\n",
       "  </thead>\n",
       "  <tbody>\n",
       "    <tr>\n",
       "      <th>0</th>\n",
       "      <td>42421877</td>\n",
       "      <td>42437949</td>\n",
       "      <td>1</td>\n",
       "    </tr>\n",
       "    <tr>\n",
       "      <th>1</th>\n",
       "      <td>42437949</td>\n",
       "      <td>6255601608</td>\n",
       "      <td>1</td>\n",
       "    </tr>\n",
       "    <tr>\n",
       "      <th>2</th>\n",
       "      <td>6255601608</td>\n",
       "      <td>6255601607</td>\n",
       "      <td>1</td>\n",
       "    </tr>\n",
       "    <tr>\n",
       "      <th>3</th>\n",
       "      <td>6255601607</td>\n",
       "      <td>42456303</td>\n",
       "      <td>1</td>\n",
       "    </tr>\n",
       "    <tr>\n",
       "      <th>4</th>\n",
       "      <td>42456303</td>\n",
       "      <td>42449045</td>\n",
       "      <td>1</td>\n",
       "    </tr>\n",
       "  </tbody>\n",
       "</table>\n",
       "</div>"
      ],
      "text/plain": [
       "    node_from     node_to  node_speed\n",
       "0    42421877    42437949           1\n",
       "1    42437949  6255601608           1\n",
       "2  6255601608  6255601607           1\n",
       "3  6255601607    42456303           1\n",
       "4    42456303    42449045           1"
      ]
     },
     "execution_count": 52,
     "metadata": {},
     "output_type": "execute_result"
    }
   ],
   "source": [
    "node_from = []\n",
    "node_to = []\n",
    "node_speed = []\n",
    "i = 1\n",
    "while i < len(node_ids):\n",
    "    node_from.append(node_ids[i-1])\n",
    "    node_to.append(node_ids[i])    \n",
    "    node_speed.append(1)\n",
    "    i += 1\n",
    "blocked = pd.DataFrame({'node_from': node_from, 'node_to': node_to, 'node_speed': node_speed})\n",
    "\n",
    "# Save file with segment speeds with no columns headers nor row indexes\n",
    "# blocked.to_csv('router/test_traffic.csv', header=False, index=False)\n",
    "\n",
    "blocked.head()"
   ]
  },
  {
   "cell_type": "markdown",
   "metadata": {},
   "source": [
    "### Reset router updating street speeds informations\n",
    "\n",
    "The procedure here is the same as the previous router set up. The `only difference is the new parameter in osrm-customize` \n",
    "  \n",
    "--> `--segment-speed-file /data/traffic_file.csv`.  \n",
    "\n",
    "<div class=\"alert alert-block alert-info\">  \n",
    "\n",
    "* <b>Running in you local machine:</b>  \n",
    "\n",
    "* docker run -t -v \"${PWD}:/data\" osrm/osrm-backend osrm-extract -p /opt/car.lua /data/router/new_york_city.osm.pbf\n",
    "\n",
    "* docker run -t -v \"${PWD}:/data\" osrm/osrm-backend osrm-partition /data/router/new_york_city.osm.pbf\n",
    "\n",
    "* docker run -t -v \"${PWD}:/data\" osrm/osrm-backend osrm-customize /data/router/new_york_city.osm.pbf `--segment-speed-file /data/data/test_traffic.csv`\n",
    "\n",
    "* docker run -t -i -p 5000:5000 -v \"${PWD}:/data\" osrm/osrm-backend osrm-routed --algorithm mld /data/router/new_york_city.osm.pbf  \n",
    "</div>\n",
    "\n",
    "<div class=\"alert alert-block alert-info\">  \n",
    "\n",
    "* <b>Manual execution for AMLD Workshop, in the workshop's root directory:</b>  \n",
    "\n",
    "* docker-compose stop osrm-router\n",
    "\n",
    "* docker-compose rm osrm-router\n",
    "\n",
    "* docker-compose create osrm-router\n",
    "\n",
    "* docker run -t -v \"${PWD}:/data\" osrm/osrm-backend osrm-customize /data/router/new_york_city.osm.pbf --segment-speed-file /data/data/test_traffic.csv  \n",
    "\n",
    "* docker-compose start osrm-router\n",
    "</div>\n",
    "  \n",
    "The commands above are already coded in the file `restart_osrm_traffic.sh`. **If you can't execute the shell script, like Windows users, you can execute the above commands by copying/pasting them in your terminal.** By executing it, we're able to stop the current router in the docker-compose containers, update the router with traffic information and restart it without having the stop the workshop's docker-compose structure, *i.e.*, without stoping this jupyter notebook.  \n",
    "  \n",
    "* In your terminal, in the workshop's root folder, execute the shell script.\n",
    "\n",
    "### Call router again and check new route\n",
    "\n",
    "With the new router set up, we can calculate the route for the same pick-up/drop-off points as before and see how it's changed. We can see that the router avoids as best as possible to stay away from the segments we marked as heavy traffic, *i.e.*, segment speed = 1 km/h."
   ]
  },
  {
   "cell_type": "code",
   "execution_count": 53,
   "metadata": {},
   "outputs": [
    {
     "data": {
      "text/html": [
       "<div style=\"width:100%;\"><div style=\"position:relative;width:100%;height:0;padding-bottom:60%;\"><iframe src=\"data:text/html;charset=utf-8;base64,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\" style=\"position:absolute;width:100%;height:100%;left:0;top:0;border:none !important;\" allowfullscreen webkitallowfullscreen mozallowfullscreen></iframe></div></div>"
      ],
      "text/plain": [
       "<folium.folium.Map at 0x7fc81c330588>"
      ]
     },
     "execution_count": 53,
     "metadata": {},
     "output_type": "execute_result"
    }
   ],
   "source": [
    "lat, lon, distance, duration, node_ids = osm.route(lat1, lon1, lat2, lon2)\n",
    "\n",
    "t = latlon2linestring(lat, lon)\n",
    "\n",
    "plot_geometry(t)"
   ]
  },
  {
   "cell_type": "markdown",
   "metadata": {},
   "source": [
    "## Match noisy GPS to Node IDs\n",
    "\n",
    "The POC works fine if you have the node id's for all your route points, which unfortunately, isn't the case.  \n",
    "Besides:  \n",
    "\n",
    "- GPS sampling might be not stable, *e.g.*, some times we have sampling of 5 secs, other times 10 secs.\n",
    "- Points might not fall exactly on the street due to GPS inaccuracy\n",
    "\n",
    "So, lets recreate a possible real world GPS trace by taking a trace returned by the router in section [Embed Nearest neighboors fares](#Embed-Nearest-neighboors-fares) and disturb it: "
   ]
  },
  {
   "cell_type": "code",
   "execution_count": 54,
   "metadata": {},
   "outputs": [
    {
     "data": {
      "text/html": [
       "<div style=\"width:100%;\"><div style=\"position:relative;width:100%;height:0;padding-bottom:60%;\"><iframe src=\"data:text/html;charset=utf-8;base64,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\" style=\"position:absolute;width:100%;height:100%;left:0;top:0;border:none !important;\" allowfullscreen webkitallowfullscreen mozallowfullscreen></iframe></div></div>"
      ],
      "text/plain": [
       "<folium.folium.Map at 0x7fc7ee365b00>"
      ]
     },
     "execution_count": 54,
     "metadata": {},
     "output_type": "execute_result"
    }
   ],
   "source": [
    "lines = df_train.merge(routes_train, how='left', left_index=True, right_index=True)\n",
    "trace = lines['route'].iloc[30]\n",
    "\n",
    "lon, lat = trace.xy[0], trace.xy[1]\n",
    "\n",
    "lat, lon = np.delete(lat, -3),  np.delete(lon, -3)       # cut corner at the bottom part\n",
    "np.random.seed(42)                                       # choose 10 random points to disturb\n",
    "choices = np.random.choice(range(len(lat)), size=10, replace=False)\n",
    "lat[choices] = lat[choices] + np.random.normal(0, 0.001) # add noise \n",
    "lon[choices] = lon[choices] + np.random.normal(0, 0.001) # add noise\n",
    "\n",
    "t = latlon2linestring(lat, lon)\n",
    "\n",
    "plot_geometry(t)"
   ]
  },
  {
   "cell_type": "markdown",
   "metadata": {},
   "source": [
    "We can see that some of the points don't even fall on a street segment and, like in the route close to the bottom-right side, a node indicating a turn is missing in a way that, when we connect the nodes with a line, the line goes through the building blocks.  \n",
    "  \n",
    "As we know that every node in OSM has a lat/lon associated with it, we could associate each trace point to the closest node. As Newson and Krumm showed ([Reference](https://www.ismll.uni-hildesheim.de/lehre/semSpatial-10s/script/6.pdf)):\n",
    "* This is error prone, as this kind of approach in street condensed networks can match GPS points to unrelated street segments. \n",
    "* The approach doesn't take the previous and future GPS points in order to match a GPS point to the street, *i.e.*, if previous and next point are over a bridge, it's highly improbable that the current matched GPS point is outside the bridge, even if it's closer to a node outside the bridge.  \n",
    "  \n",
    "We can see this kind of examples in the picture below:  \n",
    "\n",
    "<img src=\"images/map_matching_example.png\" width=\"300\"> \n",
    "<center>GPS matching potential errors - as in <a href=\"https://www.ismll.uni-hildesheim.de/lehre/semSpatial-10s/script/6.pdf\">https://www.ismll.uni-hildesheim.de/lehre/semSpatial-10s/script/6.pdf</a></center> \n",
    "\n",
    "### Snap noisy GPS points to street using map matching \n",
    "\n",
    "Newson and Krumm created an approach that takes into account the whole sequence of nodes and then try to match them in a probabilistic way. The way they do this is by using a Hidden Markov Model (HMM), where the states are each of the nodes presented in the map and the observation sequences are the GPS location sequences. \n",
    "  \n",
    "OSRM already provide it for us out of the box and we can use the OSRMFramework class to extract the main information using the router we have already set up.  \n",
    "* API - http://project-osrm.org/docs/v5.5.1/api/#match-service  \n",
    "  \n",
    "Main parameters to be understood here are:  \n",
    "* **geometries**: set of latitudes and longitudes that will be matched to the street.\n",
    "* **timestamps**: set of **unix timestamps** where `len(timestamps) == len(geometries)`. Timestamps can be used as an additional information when matching points. The bigger the difference between two timestamps from two sequential GPS points are, the more loose we can be when matching them to the street.\n",
    "* **radiuses**: set of **integers** where `len(radiuses) == len(geometries)`. When GPS points are obtained from sensors or, mainly, smartphones, each point comes with an accuracy measure associated with it. The number represents the uncertainty radius around each point, where the true position could be in any place inside the circle. The bigger the uncertainty, the more loose the points can be matched to the street, of course, also increasing the chances of a false matching.  \n",
    "\n",
    "Lets now take a look of how the disturbed street is after map matching:"
   ]
  },
  {
   "cell_type": "code",
   "execution_count": 56,
   "metadata": {
    "scrolled": false
   },
   "outputs": [
    {
     "data": {
      "text/html": [
       "<div style=\"width:100%;\"><div style=\"position:relative;width:100%;height:0;padding-bottom:60%;\"><iframe src=\"data:text/html;charset=utf-8;base64,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\" style=\"position:absolute;width:100%;height:100%;left:0;top:0;border:none !important;\" allowfullscreen webkitallowfullscreen mozallowfullscreen></iframe></div></div>"
      ],
      "text/plain": [
       "<folium.folium.Map at 0x7fc8145affd0>"
      ]
     },
     "execution_count": 56,
     "metadata": {},
     "output_type": "execute_result"
    }
   ],
   "source": [
    "lat, lon, nodes_id = osm.match(lat, lon, timestamps=None, radiuses=None)\n",
    "\n",
    "t = latlon2linestring(lat, lon)\n",
    "\n",
    "plot_geometry(t)"
   ]
  },
  {
   "cell_type": "markdown",
   "metadata": {},
   "source": [
    "## Traffic Data Processing\n",
    "\n",
    "<img src=\"images/traffic_sequential.jpg\" width=\"400\"> \n",
    "<center>Trace accumulation per time window</center> \n",
    "  \n",
    "So until now, we know how we can have multiple GPS points and their associated node ids and timestamps. However, `how do I turn them into traffic information?`  \n",
    "\n",
    "The main source of information in the mobility context is [Floating Car Data](https://en.wikipedia.org/wiki/Floating_car_data). Nowadays, no one walk without a smartphone. These devices can locate their own position and send to appropriate services through a mobile internet connection. As the data arrive to the servers, they can be used in two ways to calculate traffic information:\n",
    "* **Real time**: As soon as the data arrive, it can be binned/aggregated for a specific time window, *e.g.*, 10 minutes, and then used the extracted measures to update a traffic router.\n",
    "* **Historical aggregates**: The influx of data can be stored for a longer time and we can process it in order to extract average traffic patterns over a certain period of time. For example, we could aggregate 1 month of data into 1 week of usual behavior and use this as traffic features for your router.  \n",
    "\n",
    "You can check that these are the two options used by google here: https://www.google.com/maps/place/Nova+Iorque,+NY,+EUA/@40.6971494,-74.2598655,10z/data=!3m1!4b1!4m5!3m4!1s0x89c24fa5d33f083b:0xc80b8f06e177fe62!8m2!3d40.7127753!4d-74.0059728!5m1!1e1\n",
    "\n",
    "Whether you're binning your data in real time bins or historical aggregates, conceptually, the procedure for the data processing for the traffic router data is the same.  \n",
    "\n",
    "\n",
    "\n",
    "\n",
    "<div class=\"alert alert-block alert-info\">  \n",
    "The accessibility to public car's GPS traces is still rare. When companies have access to this kind of information, they usually don't make publicly available. In this traffic section we're working with a mock of GPS signals, made by OSRM itself to build routes from A to B. The objective of this part then is not to analyze data or summaries statistics, but to understand possible techniques on how to embed traffic information into your OSRM.\n",
    "</div>\n",
    "\n",
    "The goal of creating traffic data from historical aggregates is to bin your historic data into bins and then summarize the average metric present in multiple days into an average metric. The main source usually used is <b>speed</b>. However, in this mock data, as we don't have access to GPS speed information, we will use <i>count</i> as a proxy to traffic measures.   \n",
    "  \n",
    "Lets start with a set of GPS routes, pretending that they're our GPS set obtained by yourself or from a third-party company. After applying map-matching to then, we then end up with a list of node ids, as the [previous section](#Snap-noisy-GPS-points-to-street-using-map-matching) showed. For this example, I'll bin the samples in a hourly basis, but this kind be defined depending in your use case."
   ]
  },
  {
   "cell_type": "code",
   "execution_count": 57,
   "metadata": {},
   "outputs": [
    {
     "data": {
      "text/html": [
       "<div>\n",
       "<style scoped>\n",
       "    .dataframe tbody tr th:only-of-type {\n",
       "        vertical-align: middle;\n",
       "    }\n",
       "\n",
       "    .dataframe tbody tr th {\n",
       "        vertical-align: top;\n",
       "    }\n",
       "\n",
       "    .dataframe thead th {\n",
       "        text-align: right;\n",
       "    }\n",
       "</style>\n",
       "<table border=\"1\" class=\"dataframe\">\n",
       "  <thead>\n",
       "    <tr style=\"text-align: right;\">\n",
       "      <th></th>\n",
       "      <th>pickup_datetime</th>\n",
       "      <th>node_ids</th>\n",
       "    </tr>\n",
       "  </thead>\n",
       "  <tbody>\n",
       "    <tr>\n",
       "      <th>81127</th>\n",
       "      <td>14:00:00</td>\n",
       "      <td>[4544486781, 42430378, 42430384, 6654368342, 4...</td>\n",
       "    </tr>\n",
       "    <tr>\n",
       "      <th>69985</th>\n",
       "      <td>11:00:00</td>\n",
       "      <td>[3977886228, 596775914, 596775876, 3977886201,...</td>\n",
       "    </tr>\n",
       "    <tr>\n",
       "      <th>18150</th>\n",
       "      <td>19:00:00</td>\n",
       "      <td>[3639381190, 42459085, 100521730, 1690448972, ...</td>\n",
       "    </tr>\n",
       "  </tbody>\n",
       "</table>\n",
       "</div>"
      ],
      "text/plain": [
       "      pickup_datetime                                           node_ids\n",
       "81127        14:00:00  [4544486781, 42430378, 42430384, 6654368342, 4...\n",
       "69985        11:00:00  [3977886228, 596775914, 596775876, 3977886201,...\n",
       "18150        19:00:00  [3639381190, 42459085, 100521730, 1690448972, ..."
      ]
     },
     "metadata": {},
     "output_type": "display_data"
    }
   ],
   "source": [
    "lines_k = lines.loc[lines['pickup_datetime'].dt.year == 2015][['pickup_datetime', 'node_ids']].copy()\n",
    "lines_k['pickup_datetime'] = lines_k['pickup_datetime'].dt.strftime('%H:00:00')\n",
    "\n",
    "display(lines_k.head(3))\n"
   ]
  },
  {
   "cell_type": "markdown",
   "metadata": {},
   "source": [
    "The **objective** of the following code blocs is to convert the dataframe above into a a list line segments (2 node ids), the hour bin and how many times this segment appeared in this time bin, like the example below:\n",
    "\n",
    "| datetime | count | segment linestring|\n",
    "|------|------|------|\n",
    "|   13:00  | 5 | LINESTRING (-73.9600437 40.7980478, -73.959547...|  \n",
    "\n",
    "For that we need to:\n",
    "1. Process every node id pair from every route, *i.e.*, the route's segments\n",
    "2. Count how many times the segment occurred grouped by hour bin\n",
    "3. Extract node's position (lat/lon) and convert segments to geometric formats  \n",
    " "
   ]
  },
  {
   "cell_type": "code",
   "execution_count": 58,
   "metadata": {},
   "outputs": [
    {
     "data": {
      "text/html": [
       "<div>\n",
       "<style scoped>\n",
       "    .dataframe tbody tr th:only-of-type {\n",
       "        vertical-align: middle;\n",
       "    }\n",
       "\n",
       "    .dataframe tbody tr th {\n",
       "        vertical-align: top;\n",
       "    }\n",
       "\n",
       "    .dataframe thead th {\n",
       "        text-align: right;\n",
       "    }\n",
       "</style>\n",
       "<table border=\"1\" class=\"dataframe\">\n",
       "  <thead>\n",
       "    <tr style=\"text-align: right;\">\n",
       "      <th></th>\n",
       "      <th>seg_date</th>\n",
       "      <th>from_node</th>\n",
       "      <th>to_node</th>\n",
       "    </tr>\n",
       "  </thead>\n",
       "  <tbody>\n",
       "    <tr>\n",
       "      <th>0</th>\n",
       "      <td>14:00:00</td>\n",
       "      <td>4544486781</td>\n",
       "      <td>42430378</td>\n",
       "    </tr>\n",
       "    <tr>\n",
       "      <th>1</th>\n",
       "      <td>14:00:00</td>\n",
       "      <td>42430378</td>\n",
       "      <td>42430384</td>\n",
       "    </tr>\n",
       "    <tr>\n",
       "      <th>2</th>\n",
       "      <td>14:00:00</td>\n",
       "      <td>42430384</td>\n",
       "      <td>6654368342</td>\n",
       "    </tr>\n",
       "    <tr>\n",
       "      <th>3</th>\n",
       "      <td>14:00:00</td>\n",
       "      <td>6654368342</td>\n",
       "      <td>42432818</td>\n",
       "    </tr>\n",
       "    <tr>\n",
       "      <th>4</th>\n",
       "      <td>14:00:00</td>\n",
       "      <td>42432818</td>\n",
       "      <td>42432825</td>\n",
       "    </tr>\n",
       "  </tbody>\n",
       "</table>\n",
       "</div>"
      ],
      "text/plain": [
       "   seg_date   from_node     to_node\n",
       "0  14:00:00  4544486781    42430378\n",
       "1  14:00:00    42430378    42430384\n",
       "2  14:00:00    42430384  6654368342\n",
       "3  14:00:00  6654368342    42432818\n",
       "4  14:00:00    42432818    42432825"
      ]
     },
     "execution_count": 58,
     "metadata": {},
     "output_type": "execute_result"
    }
   ],
   "source": [
    "# 1. Process every node id pair from every route, i.e., the route's segments \n",
    "\n",
    "from_node = []\n",
    "to_node = []\n",
    "seg_date = []\n",
    "for ix, row in lines_k.iterrows():\n",
    "    row_df = pd.DataFrame()\n",
    "    lat_lon_pairs = []\n",
    "    i = 1\n",
    "    while i < len(row['node_ids']):\n",
    "        from_node.append(row['node_ids'][i-1])\n",
    "        to_node.append(row['node_ids'][i]) \n",
    "        seg_date.append(row['pickup_datetime'])\n",
    "        i += 1\n",
    "\n",
    "seg_df = pd.DataFrame({'seg_date': seg_date, 'from_node': from_node, 'to_node': to_node})\n",
    "seg_df.head()"
   ]
  },
  {
   "cell_type": "code",
   "execution_count": 59,
   "metadata": {},
   "outputs": [
    {
     "data": {
      "text/html": [
       "<div>\n",
       "<style scoped>\n",
       "    .dataframe tbody tr th:only-of-type {\n",
       "        vertical-align: middle;\n",
       "    }\n",
       "\n",
       "    .dataframe tbody tr th {\n",
       "        vertical-align: top;\n",
       "    }\n",
       "\n",
       "    .dataframe thead th {\n",
       "        text-align: right;\n",
       "    }\n",
       "</style>\n",
       "<table border=\"1\" class=\"dataframe\">\n",
       "  <thead>\n",
       "    <tr style=\"text-align: right;\">\n",
       "      <th></th>\n",
       "      <th>from_node</th>\n",
       "      <th>to_node</th>\n",
       "      <th>records</th>\n",
       "      <th>seg_date</th>\n",
       "    </tr>\n",
       "  </thead>\n",
       "  <tbody>\n",
       "    <tr>\n",
       "      <th>0</th>\n",
       "      <td>42421728</td>\n",
       "      <td>42432736</td>\n",
       "      <td>1</td>\n",
       "      <td>00:00:00</td>\n",
       "    </tr>\n",
       "    <tr>\n",
       "      <th>1</th>\n",
       "      <td>42421728</td>\n",
       "      <td>4205830390</td>\n",
       "      <td>1</td>\n",
       "      <td>00:00:00</td>\n",
       "    </tr>\n",
       "    <tr>\n",
       "      <th>2</th>\n",
       "      <td>42421731</td>\n",
       "      <td>4205830392</td>\n",
       "      <td>1</td>\n",
       "      <td>00:00:00</td>\n",
       "    </tr>\n",
       "    <tr>\n",
       "      <th>3</th>\n",
       "      <td>42421737</td>\n",
       "      <td>42421741</td>\n",
       "      <td>1</td>\n",
       "      <td>00:00:00</td>\n",
       "    </tr>\n",
       "    <tr>\n",
       "      <th>4</th>\n",
       "      <td>42421741</td>\n",
       "      <td>42432756</td>\n",
       "      <td>1</td>\n",
       "      <td>00:00:00</td>\n",
       "    </tr>\n",
       "  </tbody>\n",
       "</table>\n",
       "</div>"
      ],
      "text/plain": [
       "   from_node     to_node  records  seg_date\n",
       "0   42421728    42432736        1  00:00:00\n",
       "1   42421728  4205830390        1  00:00:00\n",
       "2   42421731  4205830392        1  00:00:00\n",
       "3   42421737    42421741        1  00:00:00\n",
       "4   42421741    42432756        1  00:00:00"
      ]
     },
     "execution_count": 59,
     "metadata": {},
     "output_type": "execute_result"
    }
   ],
   "source": [
    "# 2. Count how many times the segment occurred grouped by hour bin\n",
    "\n",
    "def count_duplicates(group):\n",
    "    group_res = group.groupby(['from_node', 'to_node']).size().reset_index().rename(columns={0:'records'})\n",
    "    group_res['seg_date'] = group.name\n",
    "    return group_res\n",
    "\n",
    "group_res = seg_df.groupby('seg_date').apply(count_duplicates).reset_index(drop=True)\n",
    "group_res.head()\n"
   ]
  },
  {
   "cell_type": "markdown",
   "metadata": {},
   "source": [
    "Tasks 1 and 2 are straightforward, needing basically some processing. However, for task 3, we need to map our node ids to lat/lons and, unfortunately, **OSRM doesn't provide us with that information**, for optimization reasons. You check some issues in Github [here](https://github.com/Project-OSRM/osrm-backend/issues/5310) and [here](https://github.com/Project-OSRM/osrm-backend/issues/5490) and some more at their Github repository. Enter...[OSMNx](https://geoffboeing.com/2016/11/osmnx-python-street-networks/).  \n",
    "\n",
    "### Open Street Maps + NetworkX (OSMnx) and RouteAnnotator   \n",
    "\n",
    "<img src=\"images/lausanne_.png\" width=\"350\"> \n",
    "<center>Lausanne's driving network</center>  \n",
    "\n",
    "OSMnx is a framework that works over OSM data and has multiple ways to extract data about street networks, including, nodes, ways, relations and **all the tags associated with them**.  \n",
    "  \n",
    "The `RouteAnnotator` class access OSMnx, retrieve desired street network and extract all metadata related to nodes, ways and node segments (node pairs and nodes belonging to same way). For now, it can only extract a network based on [osmnx.graph_from_place](https://osmnx.readthedocs.io/en/stable/osmnx.html#osmnx.core.graph_from_place) function but you can read more about other ways to retrieve data in OSMnx's documentation.  \n",
    "\n",
    "RouteAnnotator creates three main functions similar to [Mapbox's route-annotator](https://github.com/mapbox/route-annotator). Its main functions are:\n",
    "* **segment_lookup** - provided a list of node ids with size $N$, it returns $N-1$ segments containing data such as the way_id that this segment belongs to\n",
    "* **way_lookup** - provided a list of ways_id, it returns the metadata associated with all ways, including an ordered list of node_ids that compose that way\n",
    "* **node_lookup** - provided a list of node_ids, it returns the metadata associated with all nodes, including latitude and longitude.  \n",
    "  \n",
    "We're going to use RouteAnnotator in order to retrieve the nodes' lat/lon and keep processing our traffic dataset:  \n",
    "\n",
    "<div class=\"alert alert-block alert-info\">  \n",
    "<b>Observation</b>: OSMnx download a uncompressed geoJSON file from OSM and this file tends to be quite big. While executing the code block below inside docker, we had memory problems because of that, so we decided to execute locally, save the lookups and importing them locally for this workshop. The lookups are exactly the same as if you executed the commented lines, but mind the memory consumption, as it can break your container.\n",
    "</div>"
   ]
  },
  {
   "cell_type": "code",
   "execution_count": 60,
   "metadata": {},
   "outputs": [],
   "source": [
    "# download and process new york city street graph\n",
    "#\n",
    "# ra = RouteAnnotator('new york, USA', 'drive_service')\n",
    "# ra.build_lookups()\n",
    "\n",
    "# AMLD version, load already saved lookups\n",
    "ra = RouteAnnotator.AMLD_local_lookups('new york, USA', 'drive_service')"
   ]
  },
  {
   "cell_type": "code",
   "execution_count": 61,
   "metadata": {},
   "outputs": [
    {
     "data": {
      "text/html": [
       "<div>\n",
       "<style scoped>\n",
       "    .dataframe tbody tr th:only-of-type {\n",
       "        vertical-align: middle;\n",
       "    }\n",
       "\n",
       "    .dataframe tbody tr th {\n",
       "        vertical-align: top;\n",
       "    }\n",
       "\n",
       "    .dataframe thead th {\n",
       "        text-align: right;\n",
       "    }\n",
       "</style>\n",
       "<table border=\"1\" class=\"dataframe\">\n",
       "  <thead>\n",
       "    <tr style=\"text-align: right;\">\n",
       "      <th></th>\n",
       "      <th>from_node</th>\n",
       "      <th>to_node</th>\n",
       "      <th>records</th>\n",
       "      <th>seg_date</th>\n",
       "      <th>geometry</th>\n",
       "    </tr>\n",
       "  </thead>\n",
       "  <tbody>\n",
       "    <tr>\n",
       "      <th>0</th>\n",
       "      <td>42421728</td>\n",
       "      <td>42432736</td>\n",
       "      <td>1</td>\n",
       "      <td>00:00:00</td>\n",
       "      <td>LINESTRING (-73.9600437 40.7980478, -73.959547...</td>\n",
       "    </tr>\n",
       "    <tr>\n",
       "      <th>1</th>\n",
       "      <td>42421728</td>\n",
       "      <td>4205830390</td>\n",
       "      <td>1</td>\n",
       "      <td>00:00:00</td>\n",
       "      <td>LINESTRING (-73.9600437 40.7980478, -73.960424...</td>\n",
       "    </tr>\n",
       "    <tr>\n",
       "      <th>2</th>\n",
       "      <td>42421731</td>\n",
       "      <td>4205830392</td>\n",
       "      <td>1</td>\n",
       "      <td>00:00:00</td>\n",
       "      <td>LINESTRING (-73.96147430000001 40.798645, -73....</td>\n",
       "    </tr>\n",
       "    <tr>\n",
       "      <th>3</th>\n",
       "      <td>42421737</td>\n",
       "      <td>42421741</td>\n",
       "      <td>1</td>\n",
       "      <td>00:00:00</td>\n",
       "      <td>LINESTRING (-73.962886 40.7992545, -73.9657046...</td>\n",
       "    </tr>\n",
       "    <tr>\n",
       "      <th>4</th>\n",
       "      <td>42421741</td>\n",
       "      <td>42432756</td>\n",
       "      <td>1</td>\n",
       "      <td>00:00:00</td>\n",
       "      <td>LINESTRING (-73.9657046 40.8004313, -73.965207...</td>\n",
       "    </tr>\n",
       "  </tbody>\n",
       "</table>\n",
       "</div>"
      ],
      "text/plain": [
       "   from_node     to_node  records  seg_date  \\\n",
       "0   42421728    42432736        1  00:00:00   \n",
       "1   42421728  4205830390        1  00:00:00   \n",
       "2   42421731  4205830392        1  00:00:00   \n",
       "3   42421737    42421741        1  00:00:00   \n",
       "4   42421741    42432756        1  00:00:00   \n",
       "\n",
       "                                            geometry  \n",
       "0  LINESTRING (-73.9600437 40.7980478, -73.959547...  \n",
       "1  LINESTRING (-73.9600437 40.7980478, -73.960424...  \n",
       "2  LINESTRING (-73.96147430000001 40.798645, -73....  \n",
       "3  LINESTRING (-73.962886 40.7992545, -73.9657046...  \n",
       "4  LINESTRING (-73.9657046 40.8004313, -73.965207...  "
      ]
     },
     "execution_count": 61,
     "metadata": {},
     "output_type": "execute_result"
    }
   ],
   "source": [
    "# 3. Extract node's position (lat/lon) and convert segments to geometric formats\n",
    "\n",
    "line_seg = []\n",
    "for ix, row in group_res.iterrows():\n",
    "    try:\n",
    "        metadata1 = ra.node_lookup(row['from_node'])  # use RouteAnnotator to retrieve node's metadata\n",
    "        m1_lat_lon = [metadata1['y'], metadata1['x']] # such as lat/lon\n",
    "        metadata2 = ra.node_lookup(row['to_node'])\n",
    "        m2_lat_lon = [metadata2['y'], metadata2['x']]\n",
    "        line_segment = latlon2linestring(lat = [m1_lat_lon[0], m2_lat_lon[0]], \n",
    "                                         lon = [m1_lat_lon[1], m2_lat_lon[1]])[0]\n",
    "        line_seg.append(line_segment)\n",
    "    except Exception:\n",
    "        line_seg.append(np.nan)\n",
    "        continue\n",
    "        \n",
    "\n",
    "group_res = GeoDataFrame(group_res, geometry=line_seg)\n",
    "group_res.head()"
   ]
  },
  {
   "cell_type": "markdown",
   "metadata": {},
   "source": [
    "Finally, we have the street segment and their respective \"popularity\", *i.e.*, count, aggregated by hour. In a real GPS database, the `records` columns would be replaced by the average speed of gps traces that passed through it. Lets visualize it!  \n",
    "\n",
    "After finalizing the dataset above, we could save them as the first CSV file that we've saved containing our desired metric."
   ]
  },
  {
   "cell_type": "code",
   "execution_count": 62,
   "metadata": {},
   "outputs": [
    {
     "name": "stdout",
     "output_type": "stream",
     "text": [
      "User Guide: https://github.com/keplergl/kepler.gl/blob/master/docs/keplergl-jupyter/user-guide.md\n"
     ]
    },
    {
     "data": {
      "application/vnd.jupyter.widget-view+json": {
       "model_id": "2c3c57fd0a694209b53adda874ba7fbc",
       "version_major": 2,
       "version_minor": 0
      },
      "text/plain": [
       "KeplerGl(data={'traces': {'index': [0, 1, 2, 3, 4, 5, 6, 7, 8, 9, 10, 11, 12, 13, 14, 15, 16, 17, 18, 19, 20, …"
      ]
     },
     "metadata": {},
     "output_type": "display_data"
    }
   ],
   "source": [
    "w1 = keplergl.KeplerGl(height=500)\n",
    "w1.add_data(data=group_res[['seg_date', 'geometry', 'records']].dropna(), name='traces')\n",
    "w1"
   ]
  },
  {
   "cell_type": "markdown",
   "metadata": {},
   "source": [
    "# Retrieving Extra Map Features\n",
    "\n",
    "This last section isn't (totally) related to fare estimation features, but it might be useful for any kind of project working with spatial data.  \n",
    "  \n",
    "Until now, we've extracted route features using data from OSM. However OSM is much more than streets and ways (streets). We can extract other kinds of informations from it:  \n",
    "* Nodes are not just street intersections and traffic lights. They can be also be different objects inside the street, such as benches, tree, lamp posts.  \n",
    "* Ways don't just have to be streets/linestrings, they can also be small polygons (that don't enclose other inside polygons, otherwise they'd be relations), such as buildings and squares.  \n",
    "\n",
    "With this kind of extra information, we're open to new kind of possibilities when doing our analysis/features:\n",
    "* Do you want to check what are the most illuminated streets in your city? Maybe you can build a router only for safe illuminated streets, or [find the streets with most lamps for your happy dog](http://sk53-osm.blogspot.com/2013/04/maps-for-dogs-or-lamp-posts-in-chains.html)\n",
    "* You can investigate which neighbors have [better living features](https://github.com/Z3tt/30DayMapChallenge/blob/master/Day15_Names/Names_BerlinRoads.pdf), such as parks, benches, business.  \n",
    "  \n",
    "We can locally search for nearby elements in OSM by clicking with the right click over a map region an choosing `query features`, like in the image below:  \n",
    "\n",
    "<img src=\"images/osm_query_features_.png\" width=\"600\"> \n",
    "<center>Local features query in OSM</center>  \n",
    "  \n",
    "Although we can look at the local features at OSM, this is not scalable if we want to check in a entire city, for example. For this, we can use the python package [pyosmium](https://osmcode.org/pyosmium/) together with a OSM city file. For that, we can use the same city file we used to build OSRM, `new_york_city.osm.pbf`. The router automatically extracts street only information for us, but with `pyosmium` we can have access to the complete OSM data.  \n",
    "\n",
    "## pyosmium  \n",
    "\n",
    "As the name implies, pyosmium is a framework to work with the [Osmium Library](https://osmcode.org/libosmium/) from OSM. It provides a sequential way to access each of OSM's data types and callbacks for data processing.  \n",
    "\n",
    "To start working with it:\n",
    "* We first create a class that inherits from `osmium.SimpleHandler`\n",
    "* Pyosmium will provide standards callback methods for every element present inside the osm.pbf file:\n",
    "    * `way`\n",
    "    * `node`\n",
    "    * `relation`\n",
    "* And a standard method to read the osm.pbf file, called `apply_file`  \n",
    "  \n",
    "Lets say you want to check where and how distributed are New York's schools. You'd have to read the OSM file and, in the `node` function, check whether the node is a a school or not and do the appropriate actions, such as storing them into a separate list. The *tag* that defines the node as a school, or other types of objects is usually defined by a tag `amenity`, in this case, == `school`. There's a really good [list of amenities at OSM wikipedia page](https://wiki.openstreetmap.org/wiki/Key:amenity). Lets take a look on an example:"
   ]
  },
  {
   "cell_type": "code",
   "execution_count": 63,
   "metadata": {},
   "outputs": [],
   "source": [
    "class TestPyosmium(osmium.SimpleHandler):          # class must inherit from osmium.SimpleHandler\n",
    "    def __init__(self, pbf_path, amenity_name):\n",
    "        osmium.SimpleHandler.__init__(self)        # initialize pyosmium\n",
    "        self.amenity_name = amenity_name           # parameter, search for this specific amenity\n",
    "        self.wkb_fab = osmium.geom.WKBFactory()    # builds geometry over OSM objects\n",
    "        self.points = []                           # store points geometries\n",
    "        self.names = []                            # store points names\n",
    "        \n",
    "        self.apply_file(pbf_path, locations=True)  # initialize osm.pbf file process\n",
    "        \n",
    "        self.points = GeoSeries(self.points)       # AFTER process is done, convert collected geometry into GeoSeries\n",
    "        self.df = GeoDataFrame({'name': self.names}, geometry=self.points) # convert all data to DataFrame\n",
    "        \n",
    "        \n",
    "    def node(self, node):\n",
    "        # TagList can't be converted to dict automatically, see:\n",
    "        # https://github.com/osmcode/pyosmium/issues/106\n",
    "        tags_dict = {tag.k: tag.v for tag in node.tags}\n",
    "        if('amenity' in tags_dict.keys() and tags_dict['amenity'] == self.amenity_name):\n",
    "            wkb = self.wkb_fab.create_point(node)   # extract Point's hex location data\n",
    "            points = wkblib.loads(wkb, hex=True)    # convert hex data to WKB geometry format\n",
    "            self.points.append(points)              # store geometry in list\n",
    "            self.names.append(tags_dict['name'] if 'name' in tags_dict.keys() else '') # store name IF name exist\n",
    "                \n",
    "            \n",
    "    "
   ]
  },
  {
   "cell_type": "code",
   "execution_count": 64,
   "metadata": {},
   "outputs": [
    {
     "name": "stdout",
     "output_type": "stream",
     "text": [
      "Execution time: 2.674059545993805 minutes\n"
     ]
    }
   ],
   "source": [
    "init_time = time.time()\n",
    "PBF_PATH = 'data/new_york_city.osm.pbf'\n",
    "test_pyosmium = TestPyosmium(PBF_PATH, amenity_name='school')\n",
    "print(f'Execution time: {(time.time() - init_time)/60} minutes')"
   ]
  },
  {
   "cell_type": "code",
   "execution_count": 65,
   "metadata": {},
   "outputs": [
    {
     "data": {
      "text/html": [
       "<div style=\"width:100%;\"><div style=\"position:relative;width:100%;height:0;padding-bottom:60%;\"><iframe src=\"data:text/html;charset=utf-8;base64,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\" style=\"position:absolute;width:100%;height:100%;left:0;top:0;border:none !important;\" allowfullscreen webkitallowfullscreen mozallowfullscreen></iframe></div></div>"
      ],
      "text/plain": [
       "<folium.folium.Map at 0x7fc7ee365780>"
      ]
     },
     "execution_count": 65,
     "metadata": {},
     "output_type": "execute_result"
    }
   ],
   "source": [
    "plot_geometry(test_pyosmium.df['geometry'], marker_cluster=True)"
   ]
  },
  {
   "cell_type": "markdown",
   "metadata": {},
   "source": [
    "## Exercise pyosmium \n",
    "\n",
    "Provide a helper map for tourists in NY showing them where are the concentration of drinkable water or public toilets in the city.\n"
   ]
  },
  {
   "cell_type": "code",
   "execution_count": 66,
   "metadata": {},
   "outputs": [
    {
     "name": "stdout",
     "output_type": "stream",
     "text": [
      "Execution time: 2.5893925189971925 minutes\n"
     ]
    },
    {
     "data": {
      "text/html": [
       "<div style=\"width:100%;\"><div style=\"position:relative;width:100%;height:0;padding-bottom:60%;\"><iframe src=\"data:text/html;charset=utf-8;base64,PCFET0NUWVBFIGh0bWw+CjxoZWFkPiAgICAKICAgIDxtZXRhIGh0dHAtZXF1aXY9ImNvbnRlbnQtdHlwZSIgY29udGVudD0idGV4dC9odG1sOyBjaGFyc2V0PVVURi04IiAvPgogICAgPHNjcmlwdD5MX1BSRUZFUl9DQU5WQVM9ZmFsc2U7IExfTk9fVE9VQ0g9ZmFsc2U7IExfRElTQUJMRV8zRD1mYWxzZTs8L3NjcmlwdD4KICAgIDxzY3JpcHQgc3JjPSJodHRwczovL2Nkbi5qc2RlbGl2ci5uZXQvbnBtL2xlYWZsZXRAMS4zLjQvZGlzdC9sZWFmbGV0LmpzIj48L3NjcmlwdD4KICAgIDxzY3JpcHQgc3JjPSJodHRwczovL2FqYXguZ29vZ2xlYXBpcy5jb20vYWpheC9saWJzL2pxdWVyeS8xLjExLjEvanF1ZXJ5Lm1pbi5qcyI+PC9zY3JpcHQ+CiAgICA8c2NyaXB0IHNyYz0iaHR0cHM6Ly9tYXhjZG4uYm9vdHN0cmFwY2RuLmNvbS9ib290c3RyYXAvMy4yLjAvanMvYm9vdHN0cmFwLm1pbi5qcyI+PC9zY3JpcHQ+CiAgICA8c2NyaXB0IHNyYz0iaHR0cHM6Ly9jZG5qcy5jbG91ZGZsYXJlLmNvbS9hamF4L2xpYnMvTGVhZmxldC5hd2Vzb21lLW1hcmtlcnMvMi4wLjIvbGVhZmxldC5hd2Vzb21lLW1hcmtlcnMuanMiPjwvc2NyaXB0PgogICAgPGxpbmsgcmVsPSJzdHlsZXNoZWV0IiBocmVmPSJodHRwczovL2Nkbi5qc2RlbGl2ci5uZXQvbnBtL2xlYWZsZXRAMS4zLjQvZGlzdC9sZWFmbGV0LmNzcyIvPgogICAgPGxpbmsgcmVsPSJzdHlsZXNoZWV0IiBocmVmPSJodHRwczovL21heGNkbi5ib290c3RyYXBjZG4uY29tL2Jvb3RzdHJhcC8zLjIuMC9jc3MvYm9vdHN0cmFwLm1pbi5jc3MiLz4KICAgIDxsaW5rIHJlbD0ic3R5bGVzaGVldCIgaHJlZj0iaHR0cHM6Ly9tYXhjZG4uYm9vdHN0cmFwY2RuLmNvbS9ib290c3RyYXAvMy4yLjAvY3NzL2Jvb3RzdHJhcC10aGVtZS5taW4uY3NzIi8+CiAgICA8bGluayByZWw9InN0eWxlc2hlZXQiIGhyZWY9Imh0dHBzOi8vbWF4Y2RuLmJvb3RzdHJhcGNkbi5jb20vZm9udC1hd2Vzb21lLzQuNi4zL2Nzcy9mb250LWF3ZXNvbWUubWluLmNzcyIvPgogICAgPGxpbmsgcmVsPSJzdHlsZXNoZWV0IiBocmVmPSJodHRwczovL2NkbmpzLmNsb3VkZmxhcmUuY29tL2FqYXgvbGlicy9MZWFmbGV0LmF3ZXNvbWUtbWFya2Vycy8yLjAuMi9sZWFmbGV0LmF3ZXNvbWUtbWFya2Vycy5jc3MiLz4KICAgIDxsaW5rIHJlbD0ic3R5bGVzaGVldCIgaHJlZj0iaHR0cHM6Ly9yYXdjZG4uZ2l0aGFjay5jb20vcHl0aG9uLXZpc3VhbGl6YXRpb24vZm9saXVtL21hc3Rlci9mb2xpdW0vdGVtcGxhdGVzL2xlYWZsZXQuYXdlc29tZS5yb3RhdGUuY3NzIi8+CiAgICA8c3R5bGU+aHRtbCwgYm9keSB7d2lkdGg6IDEwMCU7aGVpZ2h0OiAxMDAlO21hcmdpbjogMDtwYWRkaW5nOiAwO308L3N0eWxlPgogICAgPHN0eWxlPiNtYXAge3Bvc2l0aW9uOmFic29sdXRlO3RvcDowO2JvdHRvbTowO3JpZ2h0OjA7bGVmdDowO308L3N0eWxlPgogICAgCiAgICA8bWV0YSBuYW1lPSJ2aWV3cG9ydCIgY29udGVudD0id2lkdGg9ZGV2aWNlLXdpZHRoLAogICAgICAgIGluaXRpYWwtc2NhbGU9MS4wLCBtYXhpbXVtLXNjYWxlPTEuMCwgdXNlci1zY2FsYWJsZT1ubyIgLz4KICAgIDxzdHlsZT4jbWFwXzJiZmUyOGVlMTFiMjQ0YzVhYmE3NGM4M2FhYzUwMWY4IHsKICAgICAgICBwb3NpdGlvbjogcmVsYXRpdmU7CiAgICAgICAgd2lkdGg6IDEwMC4wJTsKICAgICAgICBoZWlnaHQ6IDEwMC4wJTsKICAgICAgICBsZWZ0OiAwLjAlOwogICAgICAgIHRvcDogMC4wJTsKICAgICAgICB9CiAgICA8L3N0eWxlPgogICAgPHNjcmlwdCBzcmM9Imh0dHBzOi8vY2RuanMuY2xvdWRmbGFyZS5jb20vYWpheC9saWJzL2xlYWZsZXQubWFya2VyY2x1c3Rlci8xLjEuMC9sZWFmbGV0Lm1hcmtlcmNsdXN0ZXIuanMiPjwvc2NyaXB0PgogICAgPGxpbmsgcmVsPSJzdHlsZXNoZWV0IiBocmVmPSJodHRwczovL2NkbmpzLmNsb3VkZmxhcmUuY29tL2FqYXgvbGlicy9sZWFmbGV0Lm1hcmtlcmNsdXN0ZXIvMS4xLjAvTWFya2VyQ2x1c3Rlci5jc3MiLz4KICAgIDxsaW5rIHJlbD0ic3R5bGVzaGVldCIgaHJlZj0iaHR0cHM6Ly9jZG5qcy5jbG91ZGZsYXJlLmNvbS9hamF4L2xpYnMvbGVhZmxldC5tYXJrZXJjbHVzdGVyLzEuMS4wL01hcmtlckNsdXN0ZXIuRGVmYXVsdC5jc3MiLz4KPC9oZWFkPgo8Ym9keT4gICAgCiAgICAKICAgIDxkaXYgY2xhc3M9ImZvbGl1bS1tYXAiIGlkPSJtYXBfMmJmZTI4ZWUxMWIyNDRjNWFiYTc0YzgzYWFjNTAxZjgiID48L2Rpdj4KPC9ib2R5Pgo8c2NyaXB0PiAgICAKICAgIAogICAgCiAgICAgICAgdmFyIGJvdW5kcyA9IG51bGw7CiAgICAKCiAgICB2YXIgbWFwXzJiZmUyOGVlMTFiMjQ0YzVhYmE3NGM4M2FhYzUwMWY4ID0gTC5tYXAoCiAgICAgICAgJ21hcF8yYmZlMjhlZTExYjI0NGM1YWJhNzRjODNhYWM1MDFmOCcsIHsKICAgICAgICBjZW50ZXI6IFs0MC43NzM1MjI5LCAtNzMuOTcxMjI1OF0sCiAgICAgICAgem9vbTogMTQsCiAgICAgICAgbWF4Qm91bmRzOiBib3VuZHMsCiAgICAgICAgbGF5ZXJzOiBbXSwKICAgICAgICB3b3JsZENvcHlKdW1wOiBmYWxzZSwKICAgICAgICBjcnM6IEwuQ1JTLkVQU0czODU3LAogICAgICAgIHpvb21Db250cm9sOiB0cnVlLAogICAgICAgIH0pOwoKICAgIAogICAgCiAgICB2YXIgdGlsZV9sYXllcl83NDExYWNiNjM4ZGU0NmJlOWY4MTlmM2I4ZmIzMWUyYiA9IEwudGlsZUxheWVyKAogICAgICAgICdodHRwczovL3tzfS50aWxlLm9wZW5zdHJlZXRtYXAub3JnL3t6fS97eH0ve3l9LnBuZycsCiAgICAgICAgewogICAgICAgICJhdHRyaWJ1dGlvbiI6IG51bGwsCiAgICAgICAgImRldGVjdFJldGluYSI6IGZhbHNlLAogICAgICAgICJtYXhOYXRpdmVab29tIjogMTgsCiAgICAgICAgIm1heFpvb20iOiAxOCwKICAgICAgICAibWluWm9vbSI6IDAsCiAgICAgICAgIm5vV3JhcCI6IGZhbHNlLAogICAgICAgICJvcGFjaXR5IjogMSwKICAgICAgICAic3ViZG9tYWlucyI6ICJhYmMiLAogICAgICAgICJ0bXMiOiBmYWxzZQp9KS5hZGRUbyhtYXBfMmJmZTI4ZWUxMWIyNDRjNWFiYTc0YzgzYWFjNTAxZjgpOwogICAgCiAgICAgICAgICAgIHZhciBtYXJrZXJfY2x1c3Rlcl8wMDYyYjg1NTc0ZWE0MmRlOWVkNTM0MmM4ZDEyNmJmYyA9IEwubWFya2VyQ2x1c3Rlckdyb3VwKHt9KTsKICAgICAgICAgICAgbWFwXzJiZmUyOGVlMTFiMjQ0YzVhYmE3NGM4M2FhYzUwMWY4LmFkZExheWVyKG1hcmtlcl9jbHVzdGVyXzAwNjJiODU1NzRlYTQyZGU5ZWQ1MzQyYzhkMTI2YmZjKTsKICAgICAgICAgICAgCiAgICAKICAgICAgICAKICAgICAgICB2YXIgZ2VvX2pzb25fNzdiOTY5ZjQ1OGM1NGRmOThlZjM1MzMzYmM3YjQxMWMgPSBMLmdlb0pzb24oCiAgICAgICAgICAgIHsiYmJveCI6IFstNzQuMjMxOTk0OSwgNDAuNTE3NDA1NCwgLTczLjU2MDQxOTYsIDQwLjk2NjAwODVdLCAiZmVhdHVyZXMiOiBbeyJiYm94IjogWy03My45NzEyMjU4LCA0MC43NzM1MjI5LCAtNzMuOTcxMjI1OCwgNDAuNzczNTIyOV0sICJnZW9tZXRyeSI6IHsiY29vcmRpbmF0ZXMiOiBbLTczLjk3MTIyNTgsIDQwLjc3MzUyMjldLCAidHlwZSI6ICJQb2ludCJ9LCAiaWQiOiAiMCIsICJwcm9wZXJ0aWVzIjogeyJoaWdobGlnaHQiOiB7fSwgInN0eWxlIjoge319LCAidHlwZSI6ICJGZWF0dXJlIn0sIHsiYmJveCI6IFstNzMuOTY2NTk2OSwgNDAuNzczODgzMSwgLTczLjk2NjU5NjksIDQwLjc3Mzg4MzFdLCAiZ2VvbWV0cnkiOiB7ImNvb3JkaW5hdGVzIjogWy03My45NjY1OTY5LCA0MC43NzM4ODMxXSwgInR5cGUiOiAiUG9pbnQifSwgImlkIjogIjEiLCAicHJvcGVydGllcyI6IHsiaGlnaGxpZ2h0Ijoge30sICJzdHlsZSI6IHt9fSwgInR5cGUiOiAiRmVhdHVyZSJ9LCB7ImJib3giOiBbLTczLjk1MTQzNjksIDQwLjc5NzE3MDUsIC03My45NTE0MzY5LCA0MC43OTcxNzA1XSwgImdlb21ldHJ5IjogeyJjb29yZGluYXRlcyI6IFstNzMuOTUxNDM2OSwgNDAuNzk3MTcwNV0sICJ0eXBlIjogIlBvaW50In0sICJpZCI6ICIyIiwgInByb3BlcnRpZXMiOiB7ImhpZ2hsaWdodCI6IHt9LCAic3R5bGUiOiB7fX0sICJ0eXBlIjogIkZlYXR1cmUifSwgeyJiYm94IjogWy03My44NzcyODE5LCA0MC41NjUxNDk5LCAtNzMuODc3MjgxOSwgNDAuNTY1MTQ5OV0sICJnZW9tZXRyeSI6IHsiY29vcmRpbmF0ZXMiOiBbLTczLjg3NzI4MTksIDQwLjU2NTE0OTldLCAidHlwZSI6ICJQb2ludCJ9LCAiaWQiOiAiMyIsICJwcm9wZXJ0aWVzIjogeyJoaWdobGlnaHQiOiB7fSwgInN0eWxlIjoge319LCAidHlwZSI6ICJGZWF0dXJlIn0sIHsiYmJveCI6IFstNzMuODM3MDIzMywgNDAuNTc3Mzk0MiwgLTczLjgzNzAyMzMsIDQwLjU3NzM5NDJdLCAiZ2VvbWV0cnkiOiB7ImNvb3JkaW5hdGVzIjogWy03My44MzcwMjMzLCA0MC41NzczOTQyXSwgInR5cGUiOiAiUG9pbnQifSwgImlkIjogIjQiLCAicHJvcGVydGllcyI6IHsiaGlnaGxpZ2h0Ijoge30sICJzdHlsZSI6IHt9fSwgInR5cGUiOiAiRmVhdHVyZSJ9LCB7ImJib3giOiBbLTczLjgyNjIxOTYsIDQwLjU4MDU1MDgsIC03My44MjYyMTk2LCA0MC41ODA1NTA4XSwgImdlb21ldHJ5IjogeyJjb29yZGluYXRlcyI6IFstNzMuODI2MjE5NiwgNDAuNTgwNTUwOF0sICJ0eXBlIjogIlBvaW50In0sICJpZCI6ICI1IiwgInByb3BlcnRpZXMiOiB7ImhpZ2hsaWdodCI6IHt9LCAic3R5bGUiOiB7fX0sICJ0eXBlIjogIkZlYXR1cmUifSwgeyJiYm94IjogWy03My45MzczNTM4LCA0MC43MTU5MzU1LCAtNzMuOTM3MzUzOCwgNDAuNzE1OTM1NV0sICJnZW9tZXRyeSI6IHsiY29vcmRpbmF0ZXMiOiBbLTczLjkzNzM1MzgsIDQwLjcxNTkzNTVdLCAidHlwZSI6ICJQb2ludCJ9LCAiaWQiOiAiNiIsICJwcm9wZXJ0aWVzIjogeyJoaWdobGlnaHQiOiB7fSwgInN0eWxlIjoge319LCAidHlwZSI6ICJGZWF0dXJlIn0sIHsiYmJveCI6IFstNzQuMTkwOTgzOCwgNDAuNTE3NDA1NCwgLTc0LjE5MDk4MzgsIDQwLjUxNzQwNTRdLCAiZ2VvbWV0cnkiOiB7ImNvb3JkaW5hdGVzIjogWy03NC4xOTA5ODM4LCA0MC41MTc0MDU0XSwgInR5cGUiOiAiUG9pbnQifSwgImlkIjogIjciLCAicHJvcGVydGllcyI6IHsiaGlnaGxpZ2h0Ijoge30sICJzdHlsZSI6IHt9fSwgInR5cGUiOiAiRmVhdHVyZSJ9LCB7ImJib3giOiBbLTc0LjE4NjAzMDYsIDQwLjUyMjIzNzEsIC03NC4xODYwMzA2LCA0MC41MjIyMzcxXSwgImdlb21ldHJ5IjogeyJjb29yZGluYXRlcyI6IFstNzQuMTg2MDMwNiwgNDAuNTIyMjM3MV0sICJ0eXBlIjogIlBvaW50In0sICJpZCI6ICI4IiwgInByb3BlcnRpZXMiOiB7ImhpZ2hsaWdodCI6IHt9LCAic3R5bGUiOiB7fX0sICJ0eXBlIjogIkZlYXR1cmUifSwgeyJiYm94IjogWy03NC4yMzE5OTQ5LCA0MC41MzkzMjk0LCAtNzQuMjMxOTk0OSwgNDAuNTM5MzI5NF0sICJnZW9tZXRyeSI6IHsiY29vcmRpbmF0ZXMiOiBbLTc0LjIzMTk5NDksIDQwLjUzOTMyOTRdLCAidHlwZSI6ICJQb2ludCJ9LCAiaWQiOiAiOSIsICJwcm9wZXJ0aWVzIjogeyJoaWdobGlnaHQiOiB7fSwgInN0eWxlIjoge319LCAidHlwZSI6ICJGZWF0dXJlIn0sIHsiYmJveCI6IFstNzMuOTIyMDQ3OCwgNDAuODU3NzgsIC03My45MjIwNDc4LCA0MC44NTc3OF0sICJnZW9tZXRyeSI6IHsiY29vcmRpbmF0ZXMiOiBbLTczLjkyMjA0NzgsIDQwLjg1Nzc4XSwgInR5cGUiOiAiUG9pbnQifSwgImlkIjogIjEwIiwgInByb3BlcnRpZXMiOiB7ImhpZ2hsaWdodCI6IHt9LCAic3R5bGUiOiB7fX0sICJ0eXBlIjogIkZlYXR1cmUifSwgeyJiYm94IjogWy03My45NDE1NjI2LCA0MC44MzE2ODA2LCAtNzMuOTQxNTYyNiwgNDAuODMxNjgwNl0sICJnZW9tZXRyeSI6IHsiY29vcmRpbmF0ZXMiOiBbLTczLjk0MTU2MjYsIDQwLjgzMTY4MDZdLCAidHlwZSI6ICJQb2ludCJ9LCAiaWQiOiAiMTEiLCAicHJvcGVydGllcyI6IHsiaGlnaGxpZ2h0Ijoge30sICJzdHlsZSI6IHt9fSwgInR5cGUiOiAiRmVhdHVyZSJ9LCB7ImJib3giOiBbLTczLjkzOTY2NjgsIDQwLjgyNzk0NjMsIC03My45Mzk2NjY4LCA0MC44Mjc5NDYzXSwgImdlb21ldHJ5IjogeyJjb29yZGluYXRlcyI6IFstNzMuOTM5NjY2OCwgNDAuODI3OTQ2M10sICJ0eXBlIjogIlBvaW50In0sICJpZCI6ICIxMiIsICJwcm9wZXJ0aWVzIjogeyJoaWdobGlnaHQiOiB7fSwgInN0eWxlIjoge319LCAidHlwZSI6ICJGZWF0dXJlIn0sIHsiYmJveCI6IFstNzMuODkwODM5NCwgNDAuNjAwNzE4NywgLTczLjg5MDgzOTQsIDQwLjYwMDcxODddLCAiZ2VvbWV0cnkiOiB7ImNvb3JkaW5hdGVzIjogWy03My44OTA4Mzk0LCA0MC42MDA3MTg3XSwgInR5cGUiOiAiUG9pbnQifSwgImlkIjogIjEzIiwgInByb3BlcnRpZXMiOiB7ImhpZ2hsaWdodCI6IHt9LCAic3R5bGUiOiB7fX0sICJ0eXBlIjogIkZlYXR1cmUifSwgeyJiYm94IjogWy03My45NTYwMjIzLCA0MC44MTUzMzU1LCAtNzMuOTU2MDIyMywgNDAuODE1MzM1NV0sICJnZW9tZXRyeSI6IHsiY29vcmRpbmF0ZXMiOiBbLTczLjk1NjAyMjMsIDQwLjgxNTMzNTVdLCAidHlwZSI6ICJQb2ludCJ9LCAiaWQiOiAiMTQiLCAicHJvcGVydGllcyI6IHsiaGlnaGxpZ2h0Ijoge30sICJzdHlsZSI6IHt9fSwgInR5cGUiOiAiRmVhdHVyZSJ9LCB7ImJib3giOiBbLTczLjkzNDQ4NTgsIDQwLjg0MjkwNzgsIC03My45MzQ0ODU4LCA0MC44NDI5MDc4XSwgImdlb21ldHJ5IjogeyJjb29yZGluYXRlcyI6IFstNzMuOTM0NDg1OCwgNDAuODQyOTA3OF0sICJ0eXBlIjogIlBvaW50In0sICJpZCI6ICIxNSIsICJwcm9wZXJ0aWVzIjogeyJoaWdobGlnaHQiOiB7fSwgInN0eWxlIjoge319LCAidHlwZSI6ICJGZWF0dXJlIn0sIHsiYmJveCI6IFstNzMuOTM3OTAyOCwgNDAuODQxNjYwMSwgLTczLjkzNzkwMjgsIDQwLjg0MTY2MDFdLCAiZ2VvbWV0cnkiOiB7ImNvb3JkaW5hdGVzIjogWy03My45Mzc5MDI4LCA0MC44NDE2NjAxXSwgInR5cGUiOiAiUG9pbnQifSwgImlkIjogIjE2IiwgInByb3BlcnRpZXMiOiB7ImhpZ2hsaWdodCI6IHt9LCAic3R5bGUiOiB7fX0sICJ0eXBlIjogIkZlYXR1cmUifSwgeyJiYm94IjogWy03NC4wMTcwNzM1LCA0MC42MjY1MTc1LCAtNzQuMDE3MDczNSwgNDAuNjI2NTE3NV0sICJnZW9tZXRyeSI6IHsiY29vcmRpbmF0ZXMiOiBbLTc0LjAxNzA3MzUsIDQwLjYyNjUxNzVdLCAidHlwZSI6ICJQb2ludCJ9LCAiaWQiOiAiMTciLCAicHJvcGVydGllcyI6IHsiaGlnaGxpZ2h0Ijoge30sICJzdHlsZSI6IHt9fSwgInR5cGUiOiAiRmVhdHVyZSJ9LCB7ImJib3giOiBbLTc0LjAzMTk5NDgsIDQwLjYzOTI5MjcsIC03NC4wMzE5OTQ4LCA0MC42MzkyOTI3XSwgImdlb21ldHJ5IjogeyJjb29yZGluYXRlcyI6IFstNzQuMDMxOTk0OCwgNDAuNjM5MjkyN10sICJ0eXBlIjogIlBvaW50In0sICJpZCI6ICIxOCIsICJwcm9wZXJ0aWVzIjogeyJoaWdobGlnaHQiOiB7fSwgInN0eWxlIjoge319LCAidHlwZSI6ICJGZWF0dXJlIn0sIHsiYmJveCI6IFstNzQuMTE1NzI4MSwgNDAuNjI1NTQzMiwgLTc0LjExNTcyODEsIDQwLjYyNTU0MzJdLCAiZ2VvbWV0cnkiOiB7ImNvb3JkaW5hdGVzIjogWy03NC4xMTU3MjgxLCA0MC42MjU1NDMyXSwgInR5cGUiOiAiUG9pbnQifSwgImlkIjogIjE5IiwgInByb3BlcnRpZXMiOiB7ImhpZ2hsaWdodCI6IHt9LCAic3R5bGUiOiB7fX0sICJ0eXBlIjogIkZlYXR1cmUifSwgeyJiYm94IjogWy03My45ODA3MzYzLCA0MC41NzI4MzYyLCAtNzMuOTgwNzM2MywgNDAuNTcyODM2Ml0sICJnZW9tZXRyeSI6IHsiY29vcmRpbmF0ZXMiOiBbLTczLjk4MDczNjMsIDQwLjU3MjgzNjJdLCAidHlwZSI6ICJQb2ludCJ9LCAiaWQiOiAiMjAiLCAicHJvcGVydGllcyI6IHsiaGlnaGxpZ2h0Ijoge30sICJzdHlsZSI6IHt9fSwgInR5cGUiOiAiRmVhdHVyZSJ9LCB7ImJib3giOiBbLTczLjk3MjE2MjIsIDQwLjc2NzQzMTcsIC03My45NzIxNjIyLCA0MC43Njc0MzE3XSwgImdlb21ldHJ5IjogeyJjb29yZGluYXRlcyI6IFstNzMuOTcyMTYyMiwgNDAuNzY3NDMxN10sICJ0eXBlIjogIlBvaW50In0sICJpZCI6ICIyMSIsICJwcm9wZXJ0aWVzIjogeyJoaWdobGlnaHQiOiB7fSwgInN0eWxlIjoge319LCAidHlwZSI6ICJGZWF0dXJlIn0sIHsiYmJveCI6IFstNzMuOTcxNDM0MSwgNDAuNzY3NDI2OSwgLTczLjk3MTQzNDEsIDQwLjc2NzQyNjldLCAiZ2VvbWV0cnkiOiB7ImNvb3JkaW5hdGVzIjogWy03My45NzE0MzQxLCA0MC43Njc0MjY5XSwgInR5cGUiOiAiUG9pbnQifSwgImlkIjogIjIyIiwgInByb3BlcnRpZXMiOiB7ImhpZ2hsaWdodCI6IHt9LCAic3R5bGUiOiB7fX0sICJ0eXBlIjogIkZlYXR1cmUifSwgeyJiYm94IjogWy03My45NjE5MDA5LCA0MC42NjU4OTksIC03My45NjE5MDA5LCA0MC42NjU4OTldLCAiZ2VvbWV0cnkiOiB7ImNvb3JkaW5hdGVzIjogWy03My45NjE5MDA5LCA0MC42NjU4OTldLCAidHlwZSI6ICJQb2ludCJ9LCAiaWQiOiAiMjMiLCAicHJvcGVydGllcyI6IHsiaGlnaGxpZ2h0Ijoge30sICJzdHlsZSI6IHt9fSwgInR5cGUiOiAiRmVhdHVyZSJ9LCB7ImJib3giOiBbLTczLjk2MjE1NzcsIDQwLjY2NzIzOTIsIC03My45NjIxNTc3LCA0MC42NjcyMzkyXSwgImdlb21ldHJ5IjogeyJjb29yZGluYXRlcyI6IFstNzMuOTYyMTU3NywgNDAuNjY3MjM5Ml0sICJ0eXBlIjogIlBvaW50In0sICJpZCI6ICIyNCIsICJwcm9wZXJ0aWVzIjogeyJoaWdobGlnaHQiOiB7fSwgInN0eWxlIjoge319LCAidHlwZSI6ICJGZWF0dXJlIn0sIHsiYmJveCI6IFstNzMuODg1MzM2OSwgNDAuODYwMzcwNSwgLTczLjg4NTMzNjksIDQwLjg2MDM3MDVdLCAiZ2VvbWV0cnkiOiB7ImNvb3JkaW5hdGVzIjogWy03My44ODUzMzY5LCA0MC44NjAzNzA1XSwgInR5cGUiOiAiUG9pbnQifSwgImlkIjogIjI1IiwgInByb3BlcnRpZXMiOiB7ImhpZ2hsaWdodCI6IHt9LCAic3R5bGUiOiB7fX0sICJ0eXBlIjogIkZlYXR1cmUifSwgeyJiYm94IjogWy03My44ODM1OTM1LCA0MC44NjE3MjU2LCAtNzMuODgzNTkzNSwgNDAuODYxNzI1Nl0sICJnZW9tZXRyeSI6IHsiY29vcmRpbmF0ZXMiOiBbLTczLjg4MzU5MzUsIDQwLjg2MTcyNTZdLCAidHlwZSI6ICJQb2ludCJ9LCAiaWQiOiAiMjYiLCAicHJvcGVydGllcyI6IHsiaGlnaGxpZ2h0Ijoge30sICJzdHlsZSI6IHt9fSwgInR5cGUiOiAiRmVhdHVyZSJ9LCB7ImJib3giOiBbLTczLjg4NjUxOTgsIDQwLjg2MjY4MywgLTczLjg4NjUxOTgsIDQwLjg2MjY4M10sICJnZW9tZXRyeSI6IHsiY29vcmRpbmF0ZXMiOiBbLTczLjg4NjUxOTgsIDQwLjg2MjY4M10sICJ0eXBlIjogIlBvaW50In0sICJpZCI6ICIyNyIsICJwcm9wZXJ0aWVzIjogeyJoaWdobGlnaHQiOiB7fSwgInN0eWxlIjoge319LCAidHlwZSI6ICJGZWF0dXJlIn0sIHsiYmJveCI6IFstNzMuODg2MDc5OSwgNDAuODYyMjg5NSwgLTczLjg4NjA3OTksIDQwLjg2MjI4OTVdLCAiZ2VvbWV0cnkiOiB7ImNvb3JkaW5hdGVzIjogWy03My44ODYwNzk5LCA0MC44NjIyODk1XSwgInR5cGUiOiAiUG9pbnQifSwgImlkIjogIjI4IiwgInByb3BlcnRpZXMiOiB7ImhpZ2hsaWdodCI6IHt9LCAic3R5bGUiOiB7fX0sICJ0eXBlIjogIkZlYXR1cmUifSwgeyJiYm94IjogWy03My44ODQyNjQxLCA0MC44NjA0OTgzLCAtNzMuODg0MjY0MSwgNDAuODYwNDk4M10sICJnZW9tZXRyeSI6IHsiY29vcmRpbmF0ZXMiOiBbLTczLjg4NDI2NDEsIDQwLjg2MDQ5ODNdLCAidHlwZSI6ICJQb2ludCJ9LCAiaWQiOiAiMjkiLCAicHJvcGVydGllcyI6IHsiaGlnaGxpZ2h0Ijoge30sICJzdHlsZSI6IHt9fSwgInR5cGUiOiAiRmVhdHVyZSJ9LCB7ImJib3giOiBbLTczLjg4NDEzOCwgNDAuODYyODU3NSwgLTczLjg4NDEzOCwgNDAuODYyODU3NV0sICJnZW9tZXRyeSI6IHsiY29vcmRpbmF0ZXMiOiBbLTczLjg4NDEzOCwgNDAuODYyODU3NV0sICJ0eXBlIjogIlBvaW50In0sICJpZCI6ICIzMCIsICJwcm9wZXJ0aWVzIjogeyJoaWdobGlnaHQiOiB7fSwgInN0eWxlIjoge319LCAidHlwZSI6ICJGZWF0dXJlIn0sIHsiYmJveCI6IFstNzMuODg2NDI4NiwgNDAuODYxNDY3OSwgLTczLjg4NjQyODYsIDQwLjg2MTQ2NzldLCAiZ2VvbWV0cnkiOiB7ImNvb3JkaW5hdGVzIjogWy03My44ODY0Mjg2LCA0MC44NjE0Njc5XSwgInR5cGUiOiAiUG9pbnQifSwgImlkIjogIjMxIiwgInByb3BlcnRpZXMiOiB7ImhpZ2hsaWdodCI6IHt9LCAic3R5bGUiOiB7fX0sICJ0eXBlIjogIkZlYXR1cmUifSwgeyJiYm94IjogWy03My45ODk5MTkyLCA0MC43MzY0NDI3LCAtNzMuOTg5OTE5MiwgNDAuNzM2NDQyN10sICJnZW9tZXRyeSI6IHsiY29vcmRpbmF0ZXMiOiBbLTczLjk4OTkxOTIsIDQwLjczNjQ0MjddLCAidHlwZSI6ICJQb2ludCJ9LCAiaWQiOiAiMzIiLCAicHJvcGVydGllcyI6IHsiaGlnaGxpZ2h0Ijoge30sICJzdHlsZSI6IHt9fSwgInR5cGUiOiAiRmVhdHVyZSJ9LCB7ImJib3giOiBbLTczLjk4NDE2NDcsIDQwLjczMzA1OTEsIC03My45ODQxNjQ3LCA0MC43MzMwNTkxXSwgImdlb21ldHJ5IjogeyJjb29yZGluYXRlcyI6IFstNzMuOTg0MTY0NywgNDAuNzMzMDU5MV0sICJ0eXBlIjogIlBvaW50In0sICJpZCI6ICIzMyIsICJwcm9wZXJ0aWVzIjogeyJoaWdobGlnaHQiOiB7fSwgInN0eWxlIjoge319LCAidHlwZSI6ICJGZWF0dXJlIn0sIHsiYmJveCI6IFstNzMuOTgxNjA0OSwgNDAuNzI2ODcyLCAtNzMuOTgxNjA0OSwgNDAuNzI2ODcyXSwgImdlb21ldHJ5IjogeyJjb29yZGluYXRlcyI6IFstNzMuOTgxNjA0OSwgNDAuNzI2ODcyXSwgInR5cGUiOiAiUG9pbnQifSwgImlkIjogIjM0IiwgInByb3BlcnRpZXMiOiB7ImhpZ2hsaWdodCI6IHt9LCAic3R5bGUiOiB7fX0sICJ0eXBlIjogIkZlYXR1cmUifSwgeyJiYm94IjogWy03My45NzQ3MTc2LCA0MC42OTIxODIsIC03My45NzQ3MTc2LCA0MC42OTIxODJdLCAiZ2VvbWV0cnkiOiB7ImNvb3JkaW5hdGVzIjogWy03My45NzQ3MTc2LCA0MC42OTIxODJdLCAidHlwZSI6ICJQb2ludCJ9LCAiaWQiOiAiMzUiLCAicHJvcGVydGllcyI6IHsiaGlnaGxpZ2h0Ijoge30sICJzdHlsZSI6IHt9fSwgInR5cGUiOiAiRmVhdHVyZSJ9LCB7ImJib3giOiBbLTczLjk1ODk2NzQsIDQwLjgwMjQ2NTgsIC03My45NTg5Njc0LCA0MC44MDI0NjU4XSwgImdlb21ldHJ5IjogeyJjb29yZGluYXRlcyI6IFstNzMuOTU4OTY3NCwgNDAuODAyNDY1OF0sICJ0eXBlIjogIlBvaW50In0sICJpZCI6ICIzNiIsICJwcm9wZXJ0aWVzIjogeyJoaWdobGlnaHQiOiB7fSwgInN0eWxlIjoge319LCAidHlwZSI6ICJGZWF0dXJlIn0sIHsiYmJveCI6IFstNzMuOTU2MTQ1NywgNDAuODEwMDk5NSwgLTczLjk1NjE0NTcsIDQwLjgxMDA5OTVdLCAiZ2VvbWV0cnkiOiB7ImNvb3JkaW5hdGVzIjogWy03My45NTYxNDU3LCA0MC44MTAwOTk1XSwgInR5cGUiOiAiUG9pbnQifSwgImlkIjogIjM3IiwgInByb3BlcnRpZXMiOiB7ImhpZ2hsaWdodCI6IHt9LCAic3R5bGUiOiB7fX0sICJ0eXBlIjogIkZlYXR1cmUifSwgeyJiYm94IjogWy03My45NjIyNDI4LCA0MC42NzQ5NzY2LCAtNzMuOTYyMjQyOCwgNDAuNjc0OTc2Nl0sICJnZW9tZXRyeSI6IHsiY29vcmRpbmF0ZXMiOiBbLTczLjk2MjI0MjgsIDQwLjY3NDk3NjZdLCAidHlwZSI6ICJQb2ludCJ9LCAiaWQiOiAiMzgiLCAicHJvcGVydGllcyI6IHsiaGlnaGxpZ2h0Ijoge30sICJzdHlsZSI6IHt9fSwgInR5cGUiOiAiRmVhdHVyZSJ9LCB7ImJib3giOiBbLTczLjk3MDE4NSwgNDAuNjUxMjAyNiwgLTczLjk3MDE4NSwgNDAuNjUxMjAyNl0sICJnZW9tZXRyeSI6IHsiY29vcmRpbmF0ZXMiOiBbLTczLjk3MDE4NSwgNDAuNjUxMjAyNl0sICJ0eXBlIjogIlBvaW50In0sICJpZCI6ICIzOSIsICJwcm9wZXJ0aWVzIjogeyJoaWdobGlnaHQiOiB7fSwgInN0eWxlIjoge319LCAidHlwZSI6ICJGZWF0dXJlIn0sIHsiYmJveCI6IFstNzMuOTcwOTY4MiwgNDAuNjQ5NzY1OSwgLTczLjk3MDk2ODIsIDQwLjY0OTc2NTldLCAiZ2VvbWV0cnkiOiB7ImNvb3JkaW5hdGVzIjogWy03My45NzA5NjgyLCA0MC42NDk3NjU5XSwgInR5cGUiOiAiUG9pbnQifSwgImlkIjogIjQwIiwgInByb3BlcnRpZXMiOiB7ImhpZ2hsaWdodCI6IHt9LCAic3R5bGUiOiB7fX0sICJ0eXBlIjogIkZlYXR1cmUifSwgeyJiYm94IjogWy03My42NDY5MDcxLCA0MC41ODMxMDMzLCAtNzMuNjQ2OTA3MSwgNDAuNTgzMTAzM10sICJnZW9tZXRyeSI6IHsiY29vcmRpbmF0ZXMiOiBbLTczLjY0NjkwNzEsIDQwLjU4MzEwMzNdLCAidHlwZSI6ICJQb2ludCJ9LCAiaWQiOiAiNDEiLCAicHJvcGVydGllcyI6IHsiaGlnaGxpZ2h0Ijoge30sICJzdHlsZSI6IHt9fSwgInR5cGUiOiAiRmVhdHVyZSJ9LCB7ImJib3giOiBbLTczLjY1ODA2NTEsIDQwLjU4MzI1LCAtNzMuNjU4MDY1MSwgNDAuNTgzMjVdLCAiZ2VvbWV0cnkiOiB7ImNvb3JkaW5hdGVzIjogWy03My42NTgwNjUxLCA0MC41ODMyNV0sICJ0eXBlIjogIlBvaW50In0sICJpZCI6ICI0MiIsICJwcm9wZXJ0aWVzIjogeyJoaWdobGlnaHQiOiB7fSwgInN0eWxlIjoge319LCAidHlwZSI6ICJGZWF0dXJlIn0sIHsiYmJveCI6IFstNzMuNjYzOTIzLCA0MC41ODM2NTc0LCAtNzMuNjYzOTIzLCA0MC41ODM2NTc0XSwgImdlb21ldHJ5IjogeyJjb29yZGluYXRlcyI6IFstNzMuNjYzOTIzLCA0MC41ODM2NTc0XSwgInR5cGUiOiAiUG9pbnQifSwgImlkIjogIjQzIiwgInByb3BlcnRpZXMiOiB7ImhpZ2hsaWdodCI6IHt9LCAic3R5bGUiOiB7fX0sICJ0eXBlIjogIkZlYXR1cmUifSwgeyJiYm94IjogWy03My44NDI5MzI0LCA0MC43NTE1OTk3LCAtNzMuODQyOTMyNCwgNDAuNzUxNTk5N10sICJnZW9tZXRyeSI6IHsiY29vcmRpbmF0ZXMiOiBbLTczLjg0MjkzMjQsIDQwLjc1MTU5OTddLCAidHlwZSI6ICJQb2ludCJ9LCAiaWQiOiAiNDQiLCAicHJvcGVydGllcyI6IHsiaGlnaGxpZ2h0Ijoge30sICJzdHlsZSI6IHt9fSwgInR5cGUiOiAiRmVhdHVyZSJ9LCB7ImJib3giOiBbLTczLjg5MDYzNzgsIDQwLjg4NTE4NzYsIC03My44OTA2Mzc4LCA0MC44ODUxODc2XSwgImdlb21ldHJ5IjogeyJjb29yZGluYXRlcyI6IFstNzMuODkwNjM3OCwgNDAuODg1MTg3Nl0sICJ0eXBlIjogIlBvaW50In0sICJpZCI6ICI0NSIsICJwcm9wZXJ0aWVzIjogeyJoaWdobGlnaHQiOiB7fSwgInN0eWxlIjoge319LCAidHlwZSI6ICJGZWF0dXJlIn0sIHsiYmJveCI6IFstNzMuOTIyMDE1NCwgNDAuNzQ3MjUxMiwgLTczLjkyMjAxNTQsIDQwLjc0NzI1MTJdLCAiZ2VvbWV0cnkiOiB7ImNvb3JkaW5hdGVzIjogWy03My45MjIwMTU0LCA0MC43NDcyNTEyXSwgInR5cGUiOiAiUG9pbnQifSwgImlkIjogIjQ2IiwgInByb3BlcnRpZXMiOiB7ImhpZ2hsaWdodCI6IHt9LCAic3R5bGUiOiB7fX0sICJ0eXBlIjogIkZlYXR1cmUifSwgeyJiYm94IjogWy03My45MTA2MTYzLCA0MC43NDc0ODcxLCAtNzMuOTEwNjE2MywgNDAuNzQ3NDg3MV0sICJnZW9tZXRyeSI6IHsiY29vcmRpbmF0ZXMiOiBbLTczLjkxMDYxNjMsIDQwLjc0NzQ4NzFdLCAidHlwZSI6ICJQb2ludCJ9LCAiaWQiOiAiNDciLCAicHJvcGVydGllcyI6IHsiaGlnaGxpZ2h0Ijoge30sICJzdHlsZSI6IHt9fSwgInR5cGUiOiAiRmVhdHVyZSJ9LCB7ImJib3giOiBbLTczLjk3MzMwMTQsIDQwLjc0NDg4LCAtNzMuOTczMzAxNCwgNDAuNzQ0ODhdLCAiZ2VvbWV0cnkiOiB7ImNvb3JkaW5hdGVzIjogWy03My45NzMzMDE0LCA0MC43NDQ4OF0sICJ0eXBlIjogIlBvaW50In0sICJpZCI6ICI0OCIsICJwcm9wZXJ0aWVzIjogeyJoaWdobGlnaHQiOiB7fSwgInN0eWxlIjoge319LCAidHlwZSI6ICJGZWF0dXJlIn0sIHsiYmJveCI6IFstNzMuOTcyODM5MSwgNDAuNzIzODU3OSwgLTczLjk3MjgzOTEsIDQwLjcyMzg1NzldLCAiZ2VvbWV0cnkiOiB7ImNvb3JkaW5hdGVzIjogWy03My45NzI4MzkxLCA0MC43MjM4NTc5XSwgInR5cGUiOiAiUG9pbnQifSwgImlkIjogIjQ5IiwgInByb3BlcnRpZXMiOiB7ImhpZ2hsaWdodCI6IHt9LCAic3R5bGUiOiB7fX0sICJ0eXBlIjogIkZlYXR1cmUifSwgeyJiYm94IjogWy03NC4wMTYxNDY3LCA0MC43MTY4NzIxLCAtNzQuMDE2MTQ2NywgNDAuNzE2ODcyMV0sICJnZW9tZXRyeSI6IHsiY29vcmRpbmF0ZXMiOiBbLTc0LjAxNjE0NjcsIDQwLjcxNjg3MjFdLCAidHlwZSI6ICJQb2ludCJ9LCAiaWQiOiAiNTAiLCAicHJvcGVydGllcyI6IHsiaGlnaGxpZ2h0Ijoge30sICJzdHlsZSI6IHt9fSwgInR5cGUiOiAiRmVhdHVyZSJ9LCB7ImJib3giOiBbLTc0LjAxMjY4NTksIDQwLjcyMDA1ODIsIC03NC4wMTI2ODU5LCA0MC43MjAwNTgyXSwgImdlb21ldHJ5IjogeyJjb29yZGluYXRlcyI6IFstNzQuMDEyNjg1OSwgNDAuNzIwMDU4Ml0sICJ0eXBlIjogIlBvaW50In0sICJpZCI6ICI1MSIsICJwcm9wZXJ0aWVzIjogeyJoaWdobGlnaHQiOiB7fSwgInN0eWxlIjoge319LCAidHlwZSI6ICJGZWF0dXJlIn0sIHsiYmJveCI6IFstNzMuOTc2OTM5MiwgNDAuNzUyNTcyMiwgLTczLjk3NjkzOTIsIDQwLjc1MjU3MjJdLCAiZ2VvbWV0cnkiOiB7ImNvb3JkaW5hdGVzIjogWy03My45NzY5MzkyLCA0MC43NTI1NzIyXSwgInR5cGUiOiAiUG9pbnQifSwgImlkIjogIjUyIiwgInByb3BlcnRpZXMiOiB7ImhpZ2hsaWdodCI6IHt9LCAic3R5bGUiOiB7fX0sICJ0eXBlIjogIkZlYXR1cmUifSwgeyJiYm94IjogWy03My45NzEwNzg3LCA0MC43NzM0ODk1LCAtNzMuOTcxMDc4NywgNDAuNzczNDg5NV0sICJnZW9tZXRyeSI6IHsiY29vcmRpbmF0ZXMiOiBbLTczLjk3MTA3ODcsIDQwLjc3MzQ4OTVdLCAidHlwZSI6ICJQb2ludCJ9LCAiaWQiOiAiNTMiLCAicHJvcGVydGllcyI6IHsiaGlnaGxpZ2h0Ijoge30sICJzdHlsZSI6IHt9fSwgInR5cGUiOiAiRmVhdHVyZSJ9LCB7ImJib3giOiBbLTczLjk2ODY1MzgsIDQwLjc3NTEwNjQsIC03My45Njg2NTM4LCA0MC43NzUxMDY0XSwgImdlb21ldHJ5IjogeyJjb29yZGluYXRlcyI6IFstNzMuOTY4NjUzOCwgNDAuNzc1MTA2NF0sICJ0eXBlIjogIlBvaW50In0sICJpZCI6ICI1NCIsICJwcm9wZXJ0aWVzIjogeyJoaWdobGlnaHQiOiB7fSwgInN0eWxlIjoge319LCAidHlwZSI6ICJGZWF0dXJlIn0sIHsiYmJveCI6IFstNzMuOTU0NjE2NiwgNDAuNzkwMzMyNiwgLTczLjk1NDYxNjYsIDQwLjc5MDMzMjZdLCAiZ2VvbWV0cnkiOiB7ImNvb3JkaW5hdGVzIjogWy03My45NTQ2MTY2LCA0MC43OTAzMzI2XSwgInR5cGUiOiAiUG9pbnQifSwgImlkIjogIjU1IiwgInByb3BlcnRpZXMiOiB7ImhpZ2hsaWdodCI6IHt9LCAic3R5bGUiOiB7fX0sICJ0eXBlIjogIkZlYXR1cmUifSwgeyJiYm94IjogWy03My45NjI5MTUyLCA0MC42Njk0MTc3LCAtNzMuOTYyOTE1MiwgNDAuNjY5NDE3N10sICJnZW9tZXRyeSI6IHsiY29vcmRpbmF0ZXMiOiBbLTczLjk2MjkxNTIsIDQwLjY2OTQxNzddLCAidHlwZSI6ICJQb2ludCJ9LCAiaWQiOiAiNTYiLCAicHJvcGVydGllcyI6IHsiaGlnaGxpZ2h0Ijoge30sICJzdHlsZSI6IHt9fSwgInR5cGUiOiAiRmVhdHVyZSJ9LCB7ImJib3giOiBbLTc0LjAxMjg0NCwgNDAuNzAxMTkyNCwgLTc0LjAxMjg0NCwgNDAuNzAxMTkyNF0sICJnZW9tZXRyeSI6IHsiY29vcmRpbmF0ZXMiOiBbLTc0LjAxMjg0NCwgNDAuNzAxMTkyNF0sICJ0eXBlIjogIlBvaW50In0sICJpZCI6ICI1NyIsICJwcm9wZXJ0aWVzIjogeyJoaWdobGlnaHQiOiB7fSwgInN0eWxlIjoge319LCAidHlwZSI6ICJGZWF0dXJlIn0sIHsiYmJveCI6IFstNzQuMDA2ODcxLCA0MC43NDM1MTMsIC03NC4wMDY4NzEsIDQwLjc0MzUxM10sICJnZW9tZXRyeSI6IHsiY29vcmRpbmF0ZXMiOiBbLTc0LjAwNjg3MSwgNDAuNzQzNTEzXSwgInR5cGUiOiAiUG9pbnQifSwgImlkIjogIjU4IiwgInByb3BlcnRpZXMiOiB7ImhpZ2hsaWdodCI6IHt9LCAic3R5bGUiOiB7fX0sICJ0eXBlIjogIkZlYXR1cmUifSwgeyJiYm94IjogWy03My45NDk2Njg5LCA0MC43MjA3OTQ0LCAtNzMuOTQ5NjY4OSwgNDAuNzIwNzk0NF0sICJnZW9tZXRyeSI6IHsiY29vcmRpbmF0ZXMiOiBbLTczLjk0OTY2ODksIDQwLjcyMDc5NDRdLCAidHlwZSI6ICJQb2ludCJ9LCAiaWQiOiAiNTkiLCAicHJvcGVydGllcyI6IHsiaGlnaGxpZ2h0Ijoge30sICJzdHlsZSI6IHt9fSwgInR5cGUiOiAiRmVhdHVyZSJ9LCB7ImJib3giOiBbLTczLjgxNzI3NDIsIDQwLjU4Mjk5MTksIC03My44MTcyNzQyLCA0MC41ODI5OTE5XSwgImdlb21ldHJ5IjogeyJjb29yZGluYXRlcyI6IFstNzMuODE3Mjc0MiwgNDAuNTgyOTkxOV0sICJ0eXBlIjogIlBvaW50In0sICJpZCI6ICI2MCIsICJwcm9wZXJ0aWVzIjogeyJoaWdobGlnaHQiOiB7fSwgInN0eWxlIjoge319LCAidHlwZSI6ICJGZWF0dXJlIn0sIHsiYmJveCI6IFstNzMuODEwOTY4NCwgNDAuNTg0NTkxLCAtNzMuODEwOTY4NCwgNDAuNTg0NTkxXSwgImdlb21ldHJ5IjogeyJjb29yZGluYXRlcyI6IFstNzMuODEwOTY4NCwgNDAuNTg0NTkxXSwgInR5cGUiOiAiUG9pbnQifSwgImlkIjogIjYxIiwgInByb3BlcnRpZXMiOiB7ImhpZ2hsaWdodCI6IHt9LCAic3R5bGUiOiB7fX0sICJ0eXBlIjogIkZlYXR1cmUifSwgeyJiYm94IjogWy03My43ODkwNjAxLCA0MC41ODg4ODQ1LCAtNzMuNzg5MDYwMSwgNDAuNTg4ODg0NV0sICJnZW9tZXRyeSI6IHsiY29vcmRpbmF0ZXMiOiBbLTczLjc4OTA2MDEsIDQwLjU4ODg4NDVdLCAidHlwZSI6ICJQb2ludCJ9LCAiaWQiOiAiNjIiLCAicHJvcGVydGllcyI6IHsiaGlnaGxpZ2h0Ijoge30sICJzdHlsZSI6IHt9fSwgInR5cGUiOiAiRmVhdHVyZSJ9LCB7ImJib3giOiBbLTczLjg4NTAzNzksIDQwLjU5NjI1OTIsIC03My44ODUwMzc5LCA0MC41OTYyNTkyXSwgImdlb21ldHJ5IjogeyJjb29yZGluYXRlcyI6IFstNzMuODg1MDM3OSwgNDAuNTk2MjU5Ml0sICJ0eXBlIjogIlBvaW50In0sICJpZCI6ICI2MyIsICJwcm9wZXJ0aWVzIjogeyJoaWdobGlnaHQiOiB7fSwgInN0eWxlIjoge319LCAidHlwZSI6ICJGZWF0dXJlIn0sIHsiYmJveCI6IFstNzMuODc5OTI2NiwgNDAuODUwMjEyNywgLTczLjg3OTkyNjYsIDQwLjg1MDIxMjddLCAiZ2VvbWV0cnkiOiB7ImNvb3JkaW5hdGVzIjogWy03My44Nzk5MjY2LCA0MC44NTAyMTI3XSwgInR5cGUiOiAiUG9pbnQifSwgImlkIjogIjY0IiwgInByb3BlcnRpZXMiOiB7ImhpZ2hsaWdodCI6IHt9LCAic3R5bGUiOiB7fX0sICJ0eXBlIjogIkZlYXR1cmUifSwgeyJiYm94IjogWy03My45NjE1NTM5LCA0MC43ODA5NzA5LCAtNzMuOTYxNTUzOSwgNDAuNzgwOTcwOV0sICJnZW9tZXRyeSI6IHsiY29vcmRpbmF0ZXMiOiBbLTczLjk2MTU1MzksIDQwLjc4MDk3MDldLCAidHlwZSI6ICJQb2ludCJ9LCAiaWQiOiAiNjUiLCAicHJvcGVydGllcyI6IHsiaGlnaGxpZ2h0Ijoge30sICJzdHlsZSI6IHt9fSwgInR5cGUiOiAiRmVhdHVyZSJ9LCB7ImJib3giOiBbLTczLjk4MTI5MSwgNDAuNzI2NzQxOSwgLTczLjk4MTI5MSwgNDAuNzI2NzQxOV0sICJnZW9tZXRyeSI6IHsiY29vcmRpbmF0ZXMiOiBbLTczLjk4MTI5MSwgNDAuNzI2NzQxOV0sICJ0eXBlIjogIlBvaW50In0sICJpZCI6ICI2NiIsICJwcm9wZXJ0aWVzIjogeyJoaWdobGlnaHQiOiB7fSwgInN0eWxlIjoge319LCAidHlwZSI6ICJGZWF0dXJlIn0sIHsiYmJveCI6IFstNzMuOTQ0OTE2MSwgNDAuODA0OTgwMSwgLTczLjk0NDkxNjEsIDQwLjgwNDk4MDFdLCAiZ2VvbWV0cnkiOiB7ImNvb3JkaW5hdGVzIjogWy03My45NDQ5MTYxLCA0MC44MDQ5ODAxXSwgInR5cGUiOiAiUG9pbnQifSwgImlkIjogIjY3IiwgInByb3BlcnRpZXMiOiB7ImhpZ2hsaWdodCI6IHt9LCAic3R5bGUiOiB7fX0sICJ0eXBlIjogIkZlYXR1cmUifSwgeyJiYm94IjogWy03My45Mzg4OTU5LCA0MC44MTM3MjkzLCAtNzMuOTM4ODk1OSwgNDAuODEzNzI5M10sICJnZW9tZXRyeSI6IHsiY29vcmRpbmF0ZXMiOiBbLTczLjkzODg5NTksIDQwLjgxMzcyOTNdLCAidHlwZSI6ICJQb2ludCJ9LCAiaWQiOiAiNjgiLCAicHJvcGVydGllcyI6IHsiaGlnaGxpZ2h0Ijoge30sICJzdHlsZSI6IHt9fSwgInR5cGUiOiAiRmVhdHVyZSJ9LCB7ImJib3giOiBbLTczLjkzODk2OSwgNDAuODE3MzA3NCwgLTczLjkzODk2OSwgNDAuODE3MzA3NF0sICJnZW9tZXRyeSI6IHsiY29vcmRpbmF0ZXMiOiBbLTczLjkzODk2OSwgNDAuODE3MzA3NF0sICJ0eXBlIjogIlBvaW50In0sICJpZCI6ICI2OSIsICJwcm9wZXJ0aWVzIjogeyJoaWdobGlnaHQiOiB7fSwgInN0eWxlIjoge319LCAidHlwZSI6ICJGZWF0dXJlIn0sIHsiYmJveCI6IFstNzMuOTQ3MTc1LCA0MC44MTEwODksIC03My45NDcxNzUsIDQwLjgxMTA4OV0sICJnZW9tZXRyeSI6IHsiY29vcmRpbmF0ZXMiOiBbLTczLjk0NzE3NSwgNDAuODExMDg5XSwgInR5cGUiOiAiUG9pbnQifSwgImlkIjogIjcwIiwgInByb3BlcnRpZXMiOiB7ImhpZ2hsaWdodCI6IHt9LCAic3R5bGUiOiB7fX0sICJ0eXBlIjogIkZlYXR1cmUifSwgeyJiYm94IjogWy03My45MzcwOTY2LCA0MC44MTIyODQ3LCAtNzMuOTM3MDk2NiwgNDAuODEyMjg0N10sICJnZW9tZXRyeSI6IHsiY29vcmRpbmF0ZXMiOiBbLTczLjkzNzA5NjYsIDQwLjgxMjI4NDddLCAidHlwZSI6ICJQb2ludCJ9LCAiaWQiOiAiNzEiLCAicHJvcGVydGllcyI6IHsiaGlnaGxpZ2h0Ijoge30sICJzdHlsZSI6IHt9fSwgInR5cGUiOiAiRmVhdHVyZSJ9LCB7ImJib3giOiBbLTczLjk3ODEyOTQsIDQwLjc5MzQwMTUsIC03My45NzgxMjk0LCA0MC43OTM0MDE1XSwgImdlb21ldHJ5IjogeyJjb29yZGluYXRlcyI6IFstNzMuOTc4MTI5NCwgNDAuNzkzNDAxNV0sICJ0eXBlIjogIlBvaW50In0sICJpZCI6ICI3MiIsICJwcm9wZXJ0aWVzIjogeyJoaWdobGlnaHQiOiB7fSwgInN0eWxlIjoge319LCAidHlwZSI6ICJGZWF0dXJlIn0sIHsiYmJveCI6IFstNzMuOTMyOTMyLCA0MC44MDE2NTczLCAtNzMuOTMyOTMyLCA0MC44MDE2NTczXSwgImdlb21ldHJ5IjogeyJjb29yZGluYXRlcyI6IFstNzMuOTMyOTMyLCA0MC44MDE2NTczXSwgInR5cGUiOiAiUG9pbnQifSwgImlkIjogIjczIiwgInByb3BlcnRpZXMiOiB7ImhpZ2hsaWdodCI6IHt9LCAic3R5bGUiOiB7fX0sICJ0eXBlIjogIkZlYXR1cmUifSwgeyJiYm94IjogWy03My45NTAzMTk2LCA0MC44MDAzMTc0LCAtNzMuOTUwMzE5NiwgNDAuODAwMzE3NF0sICJnZW9tZXRyeSI6IHsiY29vcmRpbmF0ZXMiOiBbLTczLjk1MDMxOTYsIDQwLjgwMDMxNzRdLCAidHlwZSI6ICJQb2ludCJ9LCAiaWQiOiAiNzQiLCAicHJvcGVydGllcyI6IHsiaGlnaGxpZ2h0Ijoge30sICJzdHlsZSI6IHt9fSwgInR5cGUiOiAiRmVhdHVyZSJ9LCB7ImJib3giOiBbLTczLjkzNTMzNTcsIDQwLjc5NzUyMTEsIC03My45MzUzMzU3LCA0MC43OTc1MjExXSwgImdlb21ldHJ5IjogeyJjb29yZGluYXRlcyI6IFstNzMuOTM1MzM1NywgNDAuNzk3NTIxMV0sICJ0eXBlIjogIlBvaW50In0sICJpZCI6ICI3NSIsICJwcm9wZXJ0aWVzIjogeyJoaWdobGlnaHQiOiB7fSwgInN0eWxlIjoge319LCAidHlwZSI6ICJGZWF0dXJlIn0sIHsiYmJveCI6IFstNzMuOTQzMDYzOCwgNDAuNzkyOTk5LCAtNzMuOTQzMDYzOCwgNDAuNzkyOTk5XSwgImdlb21ldHJ5IjogeyJjb29yZGluYXRlcyI6IFstNzMuOTQzMDYzOCwgNDAuNzkyOTk5XSwgInR5cGUiOiAiUG9pbnQifSwgImlkIjogIjc2IiwgInByb3BlcnRpZXMiOiB7ImhpZ2hsaWdodCI6IHt9LCAic3R5bGUiOiB7fX0sICJ0eXBlIjogIkZlYXR1cmUifSwgeyJiYm94IjogWy03My45OTU0MDQsIDQwLjcwMTA2MjUsIC03My45OTU0MDQsIDQwLjcwMTA2MjVdLCAiZ2VvbWV0cnkiOiB7ImNvb3JkaW5hdGVzIjogWy03My45OTU0MDQsIDQwLjcwMTA2MjVdLCAidHlwZSI6ICJQb2ludCJ9LCAiaWQiOiAiNzciLCAicHJvcGVydGllcyI6IHsiaGlnaGxpZ2h0Ijoge30sICJzdHlsZSI6IHt9fSwgInR5cGUiOiAiRmVhdHVyZSJ9LCB7ImJib3giOiBbLTczLjc0ODUyNjgsIDQwLjc0MTU4NzUsIC03My43NDg1MjY4LCA0MC43NDE1ODc1XSwgImdlb21ldHJ5IjogeyJjb29yZGluYXRlcyI6IFstNzMuNzQ4NTI2OCwgNDAuNzQxNTg3NV0sICJ0eXBlIjogIlBvaW50In0sICJpZCI6ICI3OCIsICJwcm9wZXJ0aWVzIjogeyJoaWdobGlnaHQiOiB7fSwgInN0eWxlIjoge319LCAidHlwZSI6ICJGZWF0dXJlIn0sIHsiYmJveCI6IFstNzMuOTQzNDczOCwgNDAuNzI0ODI0NCwgLTczLjk0MzQ3MzgsIDQwLjcyNDgyNDRdLCAiZ2VvbWV0cnkiOiB7ImNvb3JkaW5hdGVzIjogWy03My45NDM0NzM4LCA0MC43MjQ4MjQ0XSwgInR5cGUiOiAiUG9pbnQifSwgImlkIjogIjc5IiwgInByb3BlcnRpZXMiOiB7ImhpZ2hsaWdodCI6IHt9LCAic3R5bGUiOiB7fX0sICJ0eXBlIjogIkZlYXR1cmUifSwgeyJiYm94IjogWy03My45NjU1ODA3LCA0MC42NjI2NTUyLCAtNzMuOTY1NTgwNywgNDAuNjYyNjU1Ml0sICJnZW9tZXRyeSI6IHsiY29vcmRpbmF0ZXMiOiBbLTczLjk2NTU4MDcsIDQwLjY2MjY1NTJdLCAidHlwZSI6ICJQb2ludCJ9LCAiaWQiOiAiODAiLCAicHJvcGVydGllcyI6IHsiaGlnaGxpZ2h0Ijoge30sICJzdHlsZSI6IHt9fSwgInR5cGUiOiAiRmVhdHVyZSJ9LCB7ImJib3giOiBbLTczLjkyODcwOSwgNDAuNzAwMjAxLCAtNzMuOTI4NzA5LCA0MC43MDAyMDFdLCAiZ2VvbWV0cnkiOiB7ImNvb3JkaW5hdGVzIjogWy03My45Mjg3MDksIDQwLjcwMDIwMV0sICJ0eXBlIjogIlBvaW50In0sICJpZCI6ICI4MSIsICJwcm9wZXJ0aWVzIjogeyJoaWdobGlnaHQiOiB7fSwgInN0eWxlIjoge319LCAidHlwZSI6ICJGZWF0dXJlIn0sIHsiYmJveCI6IFstNzMuOTM5NDYxLCA0MC42ODY1OCwgLTczLjkzOTQ2MSwgNDAuNjg2NThdLCAiZ2VvbWV0cnkiOiB7ImNvb3JkaW5hdGVzIjogWy03My45Mzk0NjEsIDQwLjY4NjU4XSwgInR5cGUiOiAiUG9pbnQifSwgImlkIjogIjgyIiwgInByb3BlcnRpZXMiOiB7ImhpZ2hsaWdodCI6IHt9LCAic3R5bGUiOiB7fX0sICJ0eXBlIjogIkZlYXR1cmUifSwgeyJiYm94IjogWy03My43Mzk5MzUyLCA0MC43NDE5Mzk2LCAtNzMuNzM5OTM1MiwgNDAuNzQxOTM5Nl0sICJnZW9tZXRyeSI6IHsiY29vcmRpbmF0ZXMiOiBbLTczLjczOTkzNTIsIDQwLjc0MTkzOTZdLCAidHlwZSI6ICJQb2ludCJ9LCAiaWQiOiAiODMiLCAicHJvcGVydGllcyI6IHsiaGlnaGxpZ2h0Ijoge30sICJzdHlsZSI6IHt9fSwgInR5cGUiOiAiRmVhdHVyZSJ9LCB7ImJib3giOiBbLTc0LjAwMzU3MDEsIDQwLjcwNDkzMzQsIC03NC4wMDM1NzAxLCA0MC43MDQ5MzM0XSwgImdlb21ldHJ5IjogeyJjb29yZGluYXRlcyI6IFstNzQuMDAzNTcwMSwgNDAuNzA0OTMzNF0sICJ0eXBlIjogIlBvaW50In0sICJpZCI6ICI4NCIsICJwcm9wZXJ0aWVzIjogeyJoaWdobGlnaHQiOiB7fSwgInN0eWxlIjoge319LCAidHlwZSI6ICJGZWF0dXJlIn0sIHsiYmJveCI6IFstNzMuOTEyMDczNCwgNDAuODk5MTI0MywgLTczLjkxMjA3MzQsIDQwLjg5OTEyNDNdLCAiZ2VvbWV0cnkiOiB7ImNvb3JkaW5hdGVzIjogWy03My45MTIwNzM0LCA0MC44OTkxMjQzXSwgInR5cGUiOiAiUG9pbnQifSwgImlkIjogIjg1IiwgInByb3BlcnRpZXMiOiB7ImhpZ2hsaWdodCI6IHt9LCAic3R5bGUiOiB7fX0sICJ0eXBlIjogIkZlYXR1cmUifSwgeyJiYm94IjogWy03My43ODk1MTEsIDQwLjY0MDM1NCwgLTczLjc4OTUxMSwgNDAuNjQwMzU0XSwgImdlb21ldHJ5IjogeyJjb29yZGluYXRlcyI6IFstNzMuNzg5NTExLCA0MC42NDAzNTRdLCAidHlwZSI6ICJQb2ludCJ9LCAiaWQiOiAiODYiLCAicHJvcGVydGllcyI6IHsiaGlnaGxpZ2h0Ijoge30sICJzdHlsZSI6IHt9fSwgInR5cGUiOiAiRmVhdHVyZSJ9LCB7ImJib3giOiBbLTczLjk3NDUyOTQsIDQwLjc3MzAzNTgsIC03My45NzQ1Mjk0LCA0MC43NzMwMzU4XSwgImdlb21ldHJ5IjogeyJjb29yZGluYXRlcyI6IFstNzMuOTc0NTI5NCwgNDAuNzczMDM1OF0sICJ0eXBlIjogIlBvaW50In0sICJpZCI6ICI4NyIsICJwcm9wZXJ0aWVzIjogeyJoaWdobGlnaHQiOiB7fSwgInN0eWxlIjoge319LCAidHlwZSI6ICJGZWF0dXJlIn0sIHsiYmJveCI6IFstNzMuODcyNTA3MSwgNDAuNzc0NjMzNSwgLTczLjg3MjUwNzEsIDQwLjc3NDYzMzVdLCAiZ2VvbWV0cnkiOiB7ImNvb3JkaW5hdGVzIjogWy03My44NzI1MDcxLCA0MC43NzQ2MzM1XSwgInR5cGUiOiAiUG9pbnQifSwgImlkIjogIjg4IiwgInByb3BlcnRpZXMiOiB7ImhpZ2hsaWdodCI6IHt9LCAic3R5bGUiOiB7fX0sICJ0eXBlIjogIkZlYXR1cmUifSwgeyJiYm94IjogWy03My45MTI0NjM0LCA0MC44OTk5OTY3LCAtNzMuOTEyNDYzNCwgNDAuODk5OTk2N10sICJnZW9tZXRyeSI6IHsiY29vcmRpbmF0ZXMiOiBbLTczLjkxMjQ2MzQsIDQwLjg5OTk5NjddLCAidHlwZSI6ICJQb2ludCJ9LCAiaWQiOiAiODkiLCAicHJvcGVydGllcyI6IHsiaGlnaGxpZ2h0Ijoge30sICJzdHlsZSI6IHt9fSwgInR5cGUiOiAiRmVhdHVyZSJ9LCB7ImJib3giOiBbLTczLjkxMjQyMzIsIDQwLjkwMDEyMjQsIC03My45MTI0MjMyLCA0MC45MDAxMjI0XSwgImdlb21ldHJ5IjogeyJjb29yZGluYXRlcyI6IFstNzMuOTEyNDIzMiwgNDAuOTAwMTIyNF0sICJ0eXBlIjogIlBvaW50In0sICJpZCI6ICI5MCIsICJwcm9wZXJ0aWVzIjogeyJoaWdobGlnaHQiOiB7fSwgInN0eWxlIjoge319LCAidHlwZSI6ICJGZWF0dXJlIn0sIHsiYmJveCI6IFstNzMuOTEyMzY5NiwgNDAuODk3Nzk5LCAtNzMuOTEyMzY5NiwgNDAuODk3Nzk5XSwgImdlb21ldHJ5IjogeyJjb29yZGluYXRlcyI6IFstNzMuOTEyMzY5NiwgNDAuODk3Nzk5XSwgInR5cGUiOiAiUG9pbnQifSwgImlkIjogIjkxIiwgInByb3BlcnRpZXMiOiB7ImhpZ2hsaWdodCI6IHt9LCAic3R5bGUiOiB7fX0sICJ0eXBlIjogIkZlYXR1cmUifSwgeyJiYm94IjogWy03NC4wMDgzMzUsIDQwLjczOTczOSwgLTc0LjAwODMzNSwgNDAuNzM5NzM5XSwgImdlb21ldHJ5IjogeyJjb29yZGluYXRlcyI6IFstNzQuMDA4MzM1LCA0MC43Mzk3MzldLCAidHlwZSI6ICJQb2ludCJ9LCAiaWQiOiAiOTIiLCAicHJvcGVydGllcyI6IHsiaGlnaGxpZ2h0Ijoge30sICJzdHlsZSI6IHt9fSwgInR5cGUiOiAiRmVhdHVyZSJ9LCB7ImJib3giOiBbLTczLjc5NTg3MjcsIDQwLjU4NzY3MTIsIC03My43OTU4NzI3LCA0MC41ODc2NzEyXSwgImdlb21ldHJ5IjogeyJjb29yZGluYXRlcyI6IFstNzMuNzk1ODcyNywgNDAuNTg3NjcxMl0sICJ0eXBlIjogIlBvaW50In0sICJpZCI6ICI5MyIsICJwcm9wZXJ0aWVzIjogeyJoaWdobGlnaHQiOiB7fSwgInN0eWxlIjoge319LCAidHlwZSI6ICJGZWF0dXJlIn0sIHsiYmJveCI6IFstNzMuODM1Mzk3NywgNDAuNTc3ODYwNywgLTczLjgzNTM5NzcsIDQwLjU3Nzg2MDddLCAiZ2VvbWV0cnkiOiB7ImNvb3JkaW5hdGVzIjogWy03My44MzUzOTc3LCA0MC41Nzc4NjA3XSwgInR5cGUiOiAiUG9pbnQifSwgImlkIjogIjk0IiwgInByb3BlcnRpZXMiOiB7ImhpZ2hsaWdodCI6IHt9LCAic3R5bGUiOiB7fX0sICJ0eXBlIjogIkZlYXR1cmUifSwgeyJiYm94IjogWy03My44NjkxMTk1LCA0MC41NjY0OTksIC03My44NjkxMTk1LCA0MC41NjY0OTldLCAiZ2VvbWV0cnkiOiB7ImNvb3JkaW5hdGVzIjogWy03My44NjkxMTk1LCA0MC41NjY0OTldLCAidHlwZSI6ICJQb2ludCJ9LCAiaWQiOiAiOTUiLCAicHJvcGVydGllcyI6IHsiaGlnaGxpZ2h0Ijoge30sICJzdHlsZSI6IHt9fSwgInR5cGUiOiAiRmVhdHVyZSJ9LCB7ImJib3giOiBbLTczLjg4Mzk4MjYsIDQwLjU2NTQ2MTQsIC03My44ODM5ODI2LCA0MC41NjU0NjE0XSwgImdlb21ldHJ5IjogeyJjb29yZGluYXRlcyI6IFstNzMuODgzOTgyNiwgNDAuNTY1NDYxNF0sICJ0eXBlIjogIlBvaW50In0sICJpZCI6ICI5NiIsICJwcm9wZXJ0aWVzIjogeyJoaWdobGlnaHQiOiB7fSwgInN0eWxlIjoge319LCAidHlwZSI6ICJGZWF0dXJlIn0sIHsiYmJveCI6IFstNzQuMDE2Nzk0LCA0MC42ODc5ODczLCAtNzQuMDE2Nzk0LCA0MC42ODc5ODczXSwgImdlb21ldHJ5IjogeyJjb29yZGluYXRlcyI6IFstNzQuMDE2Nzk0LCA0MC42ODc5ODczXSwgInR5cGUiOiAiUG9pbnQifSwgImlkIjogIjk3IiwgInByb3BlcnRpZXMiOiB7ImhpZ2hsaWdodCI6IHt9LCAic3R5bGUiOiB7fX0sICJ0eXBlIjogIkZlYXR1cmUifSwgeyJiYm94IjogWy03NC4wMjA4NDY3LCA0MC42ODk3NDQ0LCAtNzQuMDIwODQ2NywgNDAuNjg5NzQ0NF0sICJnZW9tZXRyeSI6IHsiY29vcmRpbmF0ZXMiOiBbLTc0LjAyMDg0NjcsIDQwLjY4OTc0NDRdLCAidHlwZSI6ICJQb2ludCJ9LCAiaWQiOiAiOTgiLCAicHJvcGVydGllcyI6IHsiaGlnaGxpZ2h0Ijoge30sICJzdHlsZSI6IHt9fSwgInR5cGUiOiAiRmVhdHVyZSJ9LCB7ImJib3giOiBbLTc0LjAxNTc1MDUsIDQwLjY4NzkzODMsIC03NC4wMTU3NTA1LCA0MC42ODc5MzgzXSwgImdlb21ldHJ5IjogeyJjb29yZGluYXRlcyI6IFstNzQuMDE1NzUwNSwgNDAuNjg3OTM4M10sICJ0eXBlIjogIlBvaW50In0sICJpZCI6ICI5OSIsICJwcm9wZXJ0aWVzIjogeyJoaWdobGlnaHQiOiB7fSwgInN0eWxlIjoge319LCAidHlwZSI6ICJGZWF0dXJlIn0sIHsiYmJveCI6IFstNzQuMDEzMjcyMSwgNDAuNjg5NDE0OSwgLTc0LjAxMzI3MjEsIDQwLjY4OTQxNDldLCAiZ2VvbWV0cnkiOiB7ImNvb3JkaW5hdGVzIjogWy03NC4wMTMyNzIxLCA0MC42ODk0MTQ5XSwgInR5cGUiOiAiUG9pbnQifSwgImlkIjogIjEwMCIsICJwcm9wZXJ0aWVzIjogeyJoaWdobGlnaHQiOiB7fSwgInN0eWxlIjoge319LCAidHlwZSI6ICJGZWF0dXJlIn0sIHsiYmJveCI6IFstNzQuMDEzMTA1NiwgNDAuNjkxMzAyLCAtNzQuMDEzMTA1NiwgNDAuNjkxMzAyXSwgImdlb21ldHJ5IjogeyJjb29yZGluYXRlcyI6IFstNzQuMDEzMTA1NiwgNDAuNjkxMzAyXSwgInR5cGUiOiAiUG9pbnQifSwgImlkIjogIjEwMSIsICJwcm9wZXJ0aWVzIjogeyJoaWdobGlnaHQiOiB7fSwgInN0eWxlIjoge319LCAidHlwZSI6ICJGZWF0dXJlIn0sIHsiYmJveCI6IFstNzQuMDEzODQyNSwgNDAuNjkxNTM0MSwgLTc0LjAxMzg0MjUsIDQwLjY5MTUzNDFdLCAiZ2VvbWV0cnkiOiB7ImNvb3JkaW5hdGVzIjogWy03NC4wMTM4NDI1LCA0MC42OTE1MzQxXSwgInR5cGUiOiAiUG9pbnQifSwgImlkIjogIjEwMiIsICJwcm9wZXJ0aWVzIjogeyJoaWdobGlnaHQiOiB7fSwgInN0eWxlIjoge319LCAidHlwZSI6ICJGZWF0dXJlIn0sIHsiYmJveCI6IFstNzQuMDE0ODYsIDQwLjY5MDI1MjgsIC03NC4wMTQ4NiwgNDAuNjkwMjUyOF0sICJnZW9tZXRyeSI6IHsiY29vcmRpbmF0ZXMiOiBbLTc0LjAxNDg2LCA0MC42OTAyNTI4XSwgInR5cGUiOiAiUG9pbnQifSwgImlkIjogIjEwMyIsICJwcm9wZXJ0aWVzIjogeyJoaWdobGlnaHQiOiB7fSwgInN0eWxlIjoge319LCAidHlwZSI6ICJGZWF0dXJlIn0sIHsiYmJveCI6IFstNzMuOTk4NDEzOCwgNDAuNjk5NTYzOSwgLTczLjk5ODQxMzgsIDQwLjY5OTU2MzldLCAiZ2VvbWV0cnkiOiB7ImNvb3JkaW5hdGVzIjogWy03My45OTg0MTM4LCA0MC42OTk1NjM5XSwgInR5cGUiOiAiUG9pbnQifSwgImlkIjogIjEwNCIsICJwcm9wZXJ0aWVzIjogeyJoaWdobGlnaHQiOiB7fSwgInN0eWxlIjoge319LCAidHlwZSI6ICJGZWF0dXJlIn0sIHsiYmJveCI6IFstNzQuMDAxNjI0NCwgNDAuNjkyOTAzOSwgLTc0LjAwMTYyNDQsIDQwLjY5MjkwMzldLCAiZ2VvbWV0cnkiOiB7ImNvb3JkaW5hdGVzIjogWy03NC4wMDE2MjQ0LCA0MC42OTI5MDM5XSwgInR5cGUiOiAiUG9pbnQifSwgImlkIjogIjEwNSIsICJwcm9wZXJ0aWVzIjogeyJoaWdobGlnaHQiOiB7fSwgInN0eWxlIjoge319LCAidHlwZSI6ICJGZWF0dXJlIn0sIHsiYmJveCI6IFstNzMuOTk1MjQ4NywgNDAuNzAyNTE4NSwgLTczLjk5NTI0ODcsIDQwLjcwMjUxODVdLCAiZ2VvbWV0cnkiOiB7ImNvb3JkaW5hdGVzIjogWy03My45OTUyNDg3LCA0MC43MDI1MTg1XSwgInR5cGUiOiAiUG9pbnQifSwgImlkIjogIjEwNiIsICJwcm9wZXJ0aWVzIjogeyJoaWdobGlnaHQiOiB7fSwgInN0eWxlIjoge319LCAidHlwZSI6ICJGZWF0dXJlIn0sIHsiYmJveCI6IFstNzMuOTM3NTg5MSwgNDAuNjA3NzI0MywgLTczLjkzNzU4OTEsIDQwLjYwNzcyNDNdLCAiZ2VvbWV0cnkiOiB7ImNvb3JkaW5hdGVzIjogWy03My45Mzc1ODkxLCA0MC42MDc3MjQzXSwgInR5cGUiOiAiUG9pbnQifSwgImlkIjogIjEwNyIsICJwcm9wZXJ0aWVzIjogeyJoaWdobGlnaHQiOiB7fSwgInN0eWxlIjoge319LCAidHlwZSI6ICJGZWF0dXJlIn0sIHsiYmJveCI6IFstNzMuOTMwMzc1OSwgNDAuNjA0MDg3MSwgLTczLjkzMDM3NTksIDQwLjYwNDA4NzFdLCAiZ2VvbWV0cnkiOiB7ImNvb3JkaW5hdGVzIjogWy03My45MzAzNzU5LCA0MC42MDQwODcxXSwgInR5cGUiOiAiUG9pbnQifSwgImlkIjogIjEwOCIsICJwcm9wZXJ0aWVzIjogeyJoaWdobGlnaHQiOiB7fSwgInN0eWxlIjoge319LCAidHlwZSI6ICJGZWF0dXJlIn0sIHsiYmJveCI6IFstNzMuODc0NzIzNCwgNDAuNzc2MTU3MSwgLTczLjg3NDcyMzQsIDQwLjc3NjE1NzFdLCAiZ2VvbWV0cnkiOiB7ImNvb3JkaW5hdGVzIjogWy03My44NzQ3MjM0LCA0MC43NzYxNTcxXSwgInR5cGUiOiAiUG9pbnQifSwgImlkIjogIjEwOSIsICJwcm9wZXJ0aWVzIjogeyJoaWdobGlnaHQiOiB7fSwgInN0eWxlIjoge319LCAidHlwZSI6ICJGZWF0dXJlIn0sIHsiYmJveCI6IFstNzMuODc0Njg4OSwgNDAuNzc1Nzc4NCwgLTczLjg3NDY4ODksIDQwLjc3NTc3ODRdLCAiZ2VvbWV0cnkiOiB7ImNvb3JkaW5hdGVzIjogWy03My44NzQ2ODg5LCA0MC43NzU3Nzg0XSwgInR5cGUiOiAiUG9pbnQifSwgImlkIjogIjExMCIsICJwcm9wZXJ0aWVzIjogeyJoaWdobGlnaHQiOiB7fSwgInN0eWxlIjoge319LCAidHlwZSI6ICJGZWF0dXJlIn0sIHsiYmJveCI6IFstNzMuODczNjExMywgNDAuNzc0MjgxMywgLTczLjg3MzYxMTMsIDQwLjc3NDI4MTNdLCAiZ2VvbWV0cnkiOiB7ImNvb3JkaW5hdGVzIjogWy03My44NzM2MTEzLCA0MC43NzQyODEzXSwgInR5cGUiOiAiUG9pbnQifSwgImlkIjogIjExMSIsICJwcm9wZXJ0aWVzIjogeyJoaWdobGlnaHQiOiB7fSwgInN0eWxlIjoge319LCAidHlwZSI6ICJGZWF0dXJlIn0sIHsiYmJveCI6IFstNzMuODcyNzE0NSwgNDAuNzc1MjUwOSwgLTczLjg3MjcxNDUsIDQwLjc3NTI1MDldLCAiZ2VvbWV0cnkiOiB7ImNvb3JkaW5hdGVzIjogWy03My44NzI3MTQ1LCA0MC43NzUyNTA5XSwgInR5cGUiOiAiUG9pbnQifSwgImlkIjogIjExMiIsICJwcm9wZXJ0aWVzIjogeyJoaWdobGlnaHQiOiB7fSwgInN0eWxlIjoge319LCAidHlwZSI6ICJGZWF0dXJlIn0sIHsiYmJveCI6IFstNzMuODcyNzI4NCwgNDAuNzc1MzUzNSwgLTczLjg3MjcyODQsIDQwLjc3NTM1MzVdLCAiZ2VvbWV0cnkiOiB7ImNvb3JkaW5hdGVzIjogWy03My44NzI3Mjg0LCA0MC43NzUzNTM1XSwgInR5cGUiOiAiUG9pbnQifSwgImlkIjogIjExMyIsICJwcm9wZXJ0aWVzIjogeyJoaWdobGlnaHQiOiB7fSwgInN0eWxlIjoge319LCAidHlwZSI6ICJGZWF0dXJlIn0sIHsiYmJveCI6IFstNzMuODcyNzE3NiwgNDAuNzc2MTE3NywgLTczLjg3MjcxNzYsIDQwLjc3NjExNzddLCAiZ2VvbWV0cnkiOiB7ImNvb3JkaW5hdGVzIjogWy03My44NzI3MTc2LCA0MC43NzYxMTc3XSwgInR5cGUiOiAiUG9pbnQifSwgImlkIjogIjExNCIsICJwcm9wZXJ0aWVzIjogeyJoaWdobGlnaHQiOiB7fSwgInN0eWxlIjoge319LCAidHlwZSI6ICJGZWF0dXJlIn0sIHsiYmJveCI6IFstNzMuODcxMTQ5MSwgNDAuNzc0Mzk1NSwgLTczLjg3MTE0OTEsIDQwLjc3NDM5NTVdLCAiZ2VvbWV0cnkiOiB7ImNvb3JkaW5hdGVzIjogWy03My44NzExNDkxLCA0MC43NzQzOTU1XSwgInR5cGUiOiAiUG9pbnQifSwgImlkIjogIjExNSIsICJwcm9wZXJ0aWVzIjogeyJoaWdobGlnaHQiOiB7fSwgInN0eWxlIjoge319LCAidHlwZSI6ICJGZWF0dXJlIn0sIHsiYmJveCI6IFstNzMuODg1ODg0LCA0MC43NzM0NDEsIC03My44ODU4ODQsIDQwLjc3MzQ0MV0sICJnZW9tZXRyeSI6IHsiY29vcmRpbmF0ZXMiOiBbLTczLjg4NTg4NCwgNDAuNzczNDQxXSwgInR5cGUiOiAiUG9pbnQifSwgImlkIjogIjExNiIsICJwcm9wZXJ0aWVzIjogeyJoaWdobGlnaHQiOiB7fSwgInN0eWxlIjoge319LCAidHlwZSI6ICJGZWF0dXJlIn0sIHsiYmJveCI6IFstNzMuODg0MDgwOSwgNDAuNzczODU5NywgLTczLjg4NDA4MDksIDQwLjc3Mzg1OTddLCAiZ2VvbWV0cnkiOiB7ImNvb3JkaW5hdGVzIjogWy03My44ODQwODA5LCA0MC43NzM4NTk3XSwgInR5cGUiOiAiUG9pbnQifSwgImlkIjogIjExNyIsICJwcm9wZXJ0aWVzIjogeyJoaWdobGlnaHQiOiB7fSwgInN0eWxlIjoge319LCAidHlwZSI6ICJGZWF0dXJlIn0sIHsiYmJveCI6IFstNzMuODY1MzA0OCwgNDAuNzcyMzQ3OSwgLTczLjg2NTMwNDgsIDQwLjc3MjM0NzldLCAiZ2VvbWV0cnkiOiB7ImNvb3JkaW5hdGVzIjogWy03My44NjUzMDQ4LCA0MC43NzIzNDc5XSwgInR5cGUiOiAiUG9pbnQifSwgImlkIjogIjExOCIsICJwcm9wZXJ0aWVzIjogeyJoaWdobGlnaHQiOiB7fSwgInN0eWxlIjoge319LCAidHlwZSI6ICJGZWF0dXJlIn0sIHsiYmJveCI6IFstNzMuOTkyODcxNywgNDAuNzYxMjEzOCwgLTczLjk5Mjg3MTcsIDQwLjc2MTIxMzhdLCAiZ2VvbWV0cnkiOiB7ImNvb3JkaW5hdGVzIjogWy03My45OTI4NzE3LCA0MC43NjEyMTM4XSwgInR5cGUiOiAiUG9pbnQifSwgImlkIjogIjExOSIsICJwcm9wZXJ0aWVzIjogeyJoaWdobGlnaHQiOiB7fSwgInN0eWxlIjoge319LCAidHlwZSI6ICJGZWF0dXJlIn0sIHsiYmJveCI6IFstNzMuOTMxNjEzNywgNDAuNjc5Nzg4MywgLTczLjkzMTYxMzcsIDQwLjY3OTc4ODNdLCAiZ2VvbWV0cnkiOiB7ImNvb3JkaW5hdGVzIjogWy03My45MzE2MTM3LCA0MC42Nzk3ODgzXSwgInR5cGUiOiAiUG9pbnQifSwgImlkIjogIjEyMCIsICJwcm9wZXJ0aWVzIjogeyJoaWdobGlnaHQiOiB7fSwgInN0eWxlIjoge319LCAidHlwZSI6ICJGZWF0dXJlIn0sIHsiYmJveCI6IFstNzMuOTQ2Njk2NSwgNDAuNzY0NTE0OSwgLTczLjk0NjY5NjUsIDQwLjc2NDUxNDldLCAiZ2VvbWV0cnkiOiB7ImNvb3JkaW5hdGVzIjogWy03My45NDY2OTY1LCA0MC43NjQ1MTQ5XSwgInR5cGUiOiAiUG9pbnQifSwgImlkIjogIjEyMSIsICJwcm9wZXJ0aWVzIjogeyJoaWdobGlnaHQiOiB7fSwgInN0eWxlIjoge319LCAidHlwZSI6ICJGZWF0dXJlIn0sIHsiYmJveCI6IFstNzMuOTYwODgwOCwgNDAuNzIxNzY2MiwgLTczLjk2MDg4MDgsIDQwLjcyMTc2NjJdLCAiZ2VvbWV0cnkiOiB7ImNvb3JkaW5hdGVzIjogWy03My45NjA4ODA4LCA0MC43MjE3NjYyXSwgInR5cGUiOiAiUG9pbnQifSwgImlkIjogIjEyMiIsICJwcm9wZXJ0aWVzIjogeyJoaWdobGlnaHQiOiB7fSwgInN0eWxlIjoge319LCAidHlwZSI6ICJGZWF0dXJlIn0sIHsiYmJveCI6IFstNzMuOTc3MjYyOCwgNDAuNzcyMjc1MSwgLTczLjk3NzI2MjgsIDQwLjc3MjI3NTFdLCAiZ2VvbWV0cnkiOiB7ImNvb3JkaW5hdGVzIjogWy03My45NzcyNjI4LCA0MC43NzIyNzUxXSwgInR5cGUiOiAiUG9pbnQifSwgImlkIjogIjEyMyIsICJwcm9wZXJ0aWVzIjogeyJoaWdobGlnaHQiOiB7fSwgInN0eWxlIjoge319LCAidHlwZSI6ICJGZWF0dXJlIn0sIHsiYmJveCI6IFstNzMuOTg5NTkyMSwgNDAuNzM2MzAwNSwgLTczLjk4OTU5MjEsIDQwLjczNjMwMDVdLCAiZ2VvbWV0cnkiOiB7ImNvb3JkaW5hdGVzIjogWy03My45ODk1OTIxLCA0MC43MzYzMDA1XSwgInR5cGUiOiAiUG9pbnQifSwgImlkIjogIjEyNCIsICJwcm9wZXJ0aWVzIjogeyJoaWdobGlnaHQiOiB7fSwgInN0eWxlIjoge319LCAidHlwZSI6ICJGZWF0dXJlIn0sIHsiYmJveCI6IFstNzQuMDE2NTU1OSwgNDAuNzAzNDY4NCwgLTc0LjAxNjU1NTksIDQwLjcwMzQ2ODRdLCAiZ2VvbWV0cnkiOiB7ImNvb3JkaW5hdGVzIjogWy03NC4wMTY1NTU5LCA0MC43MDM0Njg0XSwgInR5cGUiOiAiUG9pbnQifSwgImlkIjogIjEyNSIsICJwcm9wZXJ0aWVzIjogeyJoaWdobGlnaHQiOiB7fSwgInN0eWxlIjoge319LCAidHlwZSI6ICJGZWF0dXJlIn0sIHsiYmJveCI6IFstNzMuOTU5Mjg0NiwgNDAuNzkxMTA5MSwgLTczLjk1OTI4NDYsIDQwLjc5MTEwOTFdLCAiZ2VvbWV0cnkiOiB7ImNvb3JkaW5hdGVzIjogWy03My45NTkyODQ2LCA0MC43OTExMDkxXSwgInR5cGUiOiAiUG9pbnQifSwgImlkIjogIjEyNiIsICJwcm9wZXJ0aWVzIjogeyJoaWdobGlnaHQiOiB7fSwgInN0eWxlIjoge319LCAidHlwZSI6ICJGZWF0dXJlIn0sIHsiYmJveCI6IFstNzMuOTU5ODkzNCwgNDAuNzkxMjA2MywgLTczLjk1OTg5MzQsIDQwLjc5MTIwNjNdLCAiZ2VvbWV0cnkiOiB7ImNvb3JkaW5hdGVzIjogWy03My45NTk4OTM0LCA0MC43OTEyMDYzXSwgInR5cGUiOiAiUG9pbnQifSwgImlkIjogIjEyNyIsICJwcm9wZXJ0aWVzIjogeyJoaWdobGlnaHQiOiB7fSwgInN0eWxlIjoge319LCAidHlwZSI6ICJGZWF0dXJlIn0sIHsiYmJveCI6IFstNzMuOTY3NzA5MywgNDAuNzc4Mzc5MiwgLTczLjk2NzcwOTMsIDQwLjc3ODM3OTJdLCAiZ2VvbWV0cnkiOiB7ImNvb3JkaW5hdGVzIjogWy03My45Njc3MDkzLCA0MC43NzgzNzkyXSwgInR5cGUiOiAiUG9pbnQifSwgImlkIjogIjEyOCIsICJwcm9wZXJ0aWVzIjogeyJoaWdobGlnaHQiOiB7fSwgInN0eWxlIjoge319LCAidHlwZSI6ICJGZWF0dXJlIn0sIHsiYmJveCI6IFstNzMuOTYxNzQ0MywgNDAuNzg5NDIwMSwgLTczLjk2MTc0NDMsIDQwLjc4OTQyMDFdLCAiZ2VvbWV0cnkiOiB7ImNvb3JkaW5hdGVzIjogWy03My45NjE3NDQzLCA0MC43ODk0MjAxXSwgInR5cGUiOiAiUG9pbnQifSwgImlkIjogIjEyOSIsICJwcm9wZXJ0aWVzIjogeyJoaWdobGlnaHQiOiB7fSwgInN0eWxlIjoge319LCAidHlwZSI6ICJGZWF0dXJlIn0sIHsiYmJveCI6IFstNzMuOTgwNzk0MiwgNDAuNzY5MTc1MiwgLTczLjk4MDc5NDIsIDQwLjc2OTE3NTJdLCAiZ2VvbWV0cnkiOiB7ImNvb3JkaW5hdGVzIjogWy03My45ODA3OTQyLCA0MC43NjkxNzUyXSwgInR5cGUiOiAiUG9pbnQifSwgImlkIjogIjEzMCIsICJwcm9wZXJ0aWVzIjogeyJoaWdobGlnaHQiOiB7fSwgInN0eWxlIjoge319LCAidHlwZSI6ICJGZWF0dXJlIn0sIHsiYmJveCI6IFstNzMuOTI0NTExMiwgNDAuNzkzMzM3NywgLTczLjkyNDUxMTIsIDQwLjc5MzMzNzddLCAiZ2VvbWV0cnkiOiB7ImNvb3JkaW5hdGVzIjogWy03My45MjQ1MTEyLCA0MC43OTMzMzc3XSwgInR5cGUiOiAiUG9pbnQifSwgImlkIjogIjEzMSIsICJwcm9wZXJ0aWVzIjogeyJoaWdobGlnaHQiOiB7fSwgInN0eWxlIjoge319LCAidHlwZSI6ICJGZWF0dXJlIn0sIHsiYmJveCI6IFstNzMuOTE4OTAwNCwgNDAuNzk1NTM4MywgLTczLjkxODkwMDQsIDQwLjc5NTUzODNdLCAiZ2VvbWV0cnkiOiB7ImNvb3JkaW5hdGVzIjogWy03My45MTg5MDA0LCA0MC43OTU1MzgzXSwgInR5cGUiOiAiUG9pbnQifSwgImlkIjogIjEzMiIsICJwcm9wZXJ0aWVzIjogeyJoaWdobGlnaHQiOiB7fSwgInN0eWxlIjoge319LCAidHlwZSI6ICJGZWF0dXJlIn0sIHsiYmJveCI6IFstNzMuOTE4NjQzOSwgNDAuNzkzMjgzNiwgLTczLjkxODY0MzksIDQwLjc5MzI4MzZdLCAiZ2VvbWV0cnkiOiB7ImNvb3JkaW5hdGVzIjogWy03My45MTg2NDM5LCA0MC43OTMyODM2XSwgInR5cGUiOiAiUG9pbnQifSwgImlkIjogIjEzMyIsICJwcm9wZXJ0aWVzIjogeyJoaWdobGlnaHQiOiB7fSwgInN0eWxlIjoge319LCAidHlwZSI6ICJGZWF0dXJlIn0sIHsiYmJveCI6IFstNzMuOTMwNzUzOCwgNDAuNzgzMDQ3NywgLTczLjkzMDc1MzgsIDQwLjc4MzA0NzddLCAiZ2VvbWV0cnkiOiB7ImNvb3JkaW5hdGVzIjogWy03My45MzA3NTM4LCA0MC43ODMwNDc3XSwgInR5cGUiOiAiUG9pbnQifSwgImlkIjogIjEzNCIsICJwcm9wZXJ0aWVzIjogeyJoaWdobGlnaHQiOiB7fSwgInN0eWxlIjoge319LCAidHlwZSI6ICJGZWF0dXJlIn0sIHsiYmJveCI6IFstNzMuOTI2MjI5NSwgNDAuNzgzNzE0MSwgLTczLjkyNjIyOTUsIDQwLjc4MzcxNDFdLCAiZ2VvbWV0cnkiOiB7ImNvb3JkaW5hdGVzIjogWy03My45MjYyMjk1LCA0MC43ODM3MTQxXSwgInR5cGUiOiAiUG9pbnQifSwgImlkIjogIjEzNSIsICJwcm9wZXJ0aWVzIjogeyJoaWdobGlnaHQiOiB7fSwgInN0eWxlIjoge319LCAidHlwZSI6ICJGZWF0dXJlIn0sIHsiYmJveCI6IFstNzMuOTIzOTAyMSwgNDAuODAwNTQwNCwgLTczLjkyMzkwMjEsIDQwLjgwMDU0MDRdLCAiZ2VvbWV0cnkiOiB7ImNvb3JkaW5hdGVzIjogWy03My45MjM5MDIxLCA0MC44MDA1NDA0XSwgInR5cGUiOiAiUG9pbnQifSwgImlkIjogIjEzNiIsICJwcm9wZXJ0aWVzIjogeyJoaWdobGlnaHQiOiB7fSwgInN0eWxlIjoge319LCAidHlwZSI6ICJGZWF0dXJlIn0sIHsiYmJveCI6IFstNzQuMDEwMzQzNiwgNDAuNzM3OTk1MSwgLTc0LjAxMDM0MzYsIDQwLjczNzk5NTFdLCAiZ2VvbWV0cnkiOiB7ImNvb3JkaW5hdGVzIjogWy03NC4wMTAzNDM2LCA0MC43Mzc5OTUxXSwgInR5cGUiOiAiUG9pbnQifSwgImlkIjogIjEzNyIsICJwcm9wZXJ0aWVzIjogeyJoaWdobGlnaHQiOiB7fSwgInN0eWxlIjoge319LCAidHlwZSI6ICJGZWF0dXJlIn0sIHsiYmJveCI6IFstNzMuOTgyNjQxNCwgNDAuNzU0MDUwNywgLTczLjk4MjY0MTQsIDQwLjc1NDA1MDddLCAiZ2VvbWV0cnkiOiB7ImNvb3JkaW5hdGVzIjogWy03My45ODI2NDE0LCA0MC43NTQwNTA3XSwgInR5cGUiOiAiUG9pbnQifSwgImlkIjogIjEzOCIsICJwcm9wZXJ0aWVzIjogeyJoaWdobGlnaHQiOiB7fSwgInN0eWxlIjoge319LCAidHlwZSI6ICJGZWF0dXJlIn0sIHsiYmJveCI6IFstNzMuOTg2NzA1MiwgNDAuNzgzMzIwMywgLTczLjk4NjcwNTIsIDQwLjc4MzMyMDNdLCAiZ2VvbWV0cnkiOiB7ImNvb3JkaW5hdGVzIjogWy03My45ODY3MDUyLCA0MC43ODMzMjAzXSwgInR5cGUiOiAiUG9pbnQifSwgImlkIjogIjEzOSIsICJwcm9wZXJ0aWVzIjogeyJoaWdobGlnaHQiOiB7fSwgInN0eWxlIjoge319LCAidHlwZSI6ICJGZWF0dXJlIn0sIHsiYmJveCI6IFstNzMuOTg2NDY5MywgNDAuNzgzNjU5MiwgLTczLjk4NjQ2OTMsIDQwLjc4MzY1OTJdLCAiZ2VvbWV0cnkiOiB7ImNvb3JkaW5hdGVzIjogWy03My45ODY0NjkzLCA0MC43ODM2NTkyXSwgInR5cGUiOiAiUG9pbnQifSwgImlkIjogIjE0MCIsICJwcm9wZXJ0aWVzIjogeyJoaWdobGlnaHQiOiB7fSwgInN0eWxlIjoge319LCAidHlwZSI6ICJGZWF0dXJlIn0sIHsiYmJveCI6IFstNzQuMDA4NDE3NywgNDAuNzQ4NTA5NywgLTc0LjAwODQxNzcsIDQwLjc0ODUwOTddLCAiZ2VvbWV0cnkiOiB7ImNvb3JkaW5hdGVzIjogWy03NC4wMDg0MTc3LCA0MC43NDg1MDk3XSwgInR5cGUiOiAiUG9pbnQifSwgImlkIjogIjE0MSIsICJwcm9wZXJ0aWVzIjogeyJoaWdobGlnaHQiOiB7fSwgInN0eWxlIjoge319LCAidHlwZSI6ICJGZWF0dXJlIn0sIHsiYmJveCI6IFstNzMuODc5NDk3NSwgNDAuODUyNDEzLCAtNzMuODc5NDk3NSwgNDAuODUyNDEzXSwgImdlb21ldHJ5IjogeyJjb29yZGluYXRlcyI6IFstNzMuODc5NDk3NSwgNDAuODUyNDEzXSwgInR5cGUiOiAiUG9pbnQifSwgImlkIjogIjE0MiIsICJwcm9wZXJ0aWVzIjogeyJoaWdobGlnaHQiOiB7fSwgInN0eWxlIjoge319LCAidHlwZSI6ICJGZWF0dXJlIn0sIHsiYmJveCI6IFstNzMuODg2MDQzNiwgNDAuOTY2MDA4NSwgLTczLjg4NjA0MzYsIDQwLjk2NjAwODVdLCAiZ2VvbWV0cnkiOiB7ImNvb3JkaW5hdGVzIjogWy03My44ODYwNDM2LCA0MC45NjYwMDg1XSwgInR5cGUiOiAiUG9pbnQifSwgImlkIjogIjE0MyIsICJwcm9wZXJ0aWVzIjogeyJoaWdobGlnaHQiOiB7fSwgInN0eWxlIjoge319LCAidHlwZSI6ICJGZWF0dXJlIn0sIHsiYmJveCI6IFstNzQuMDE2MjA5NSwgNDAuNjkyNzUyMywgLTc0LjAxNjIwOTUsIDQwLjY5Mjc1MjNdLCAiZ2VvbWV0cnkiOiB7ImNvb3JkaW5hdGVzIjogWy03NC4wMTYyMDk1LCA0MC42OTI3NTIzXSwgInR5cGUiOiAiUG9pbnQifSwgImlkIjogIjE0NCIsICJwcm9wZXJ0aWVzIjogeyJoaWdobGlnaHQiOiB7fSwgInN0eWxlIjoge319LCAidHlwZSI6ICJGZWF0dXJlIn0sIHsiYmJveCI6IFstNzMuOTY1ODgyLCA0MC42NTE3MjAxLCAtNzMuOTY1ODgyLCA0MC42NTE3MjAxXSwgImdlb21ldHJ5IjogeyJjb29yZGluYXRlcyI6IFstNzMuOTY1ODgyLCA0MC42NTE3MjAxXSwgInR5cGUiOiAiUG9pbnQifSwgImlkIjogIjE0NSIsICJwcm9wZXJ0aWVzIjogeyJoaWdobGlnaHQiOiB7fSwgInN0eWxlIjoge319LCAidHlwZSI6ICJGZWF0dXJlIn0sIHsiYmJveCI6IFstNzMuOTYzNzg0NywgNDAuNjU3MTY2OCwgLTczLjk2Mzc4NDcsIDQwLjY1NzE2NjhdLCAiZ2VvbWV0cnkiOiB7ImNvb3JkaW5hdGVzIjogWy03My45NjM3ODQ3LCA0MC42NTcxNjY4XSwgInR5cGUiOiAiUG9pbnQifSwgImlkIjogIjE0NiIsICJwcm9wZXJ0aWVzIjogeyJoaWdobGlnaHQiOiB7fSwgInN0eWxlIjoge319LCAidHlwZSI6ICJGZWF0dXJlIn0sIHsiYmJveCI6IFstNzMuNzgyODUxLCA0MC42NDMwMzksIC03My43ODI4NTEsIDQwLjY0MzAzOV0sICJnZW9tZXRyeSI6IHsiY29vcmRpbmF0ZXMiOiBbLTczLjc4Mjg1MSwgNDAuNjQzMDM5XSwgInR5cGUiOiAiUG9pbnQifSwgImlkIjogIjE0NyIsICJwcm9wZXJ0aWVzIjogeyJoaWdobGlnaHQiOiB7fSwgInN0eWxlIjoge319LCAidHlwZSI6ICJGZWF0dXJlIn0sIHsiYmJveCI6IFstNzMuNzgxMTUsIDQwLjYzOTQzMiwgLTczLjc4MTE1LCA0MC42Mzk0MzJdLCAiZ2VvbWV0cnkiOiB7ImNvb3JkaW5hdGVzIjogWy03My43ODExNSwgNDAuNjM5NDMyXSwgInR5cGUiOiAiUG9pbnQifSwgImlkIjogIjE0OCIsICJwcm9wZXJ0aWVzIjogeyJoaWdobGlnaHQiOiB7fSwgInN0eWxlIjoge319LCAidHlwZSI6ICJGZWF0dXJlIn0sIHsiYmJveCI6IFstNzMuNzgyNjEsIDQwLjY0MTM4MiwgLTczLjc4MjYxLCA0MC42NDEzODJdLCAiZ2VvbWV0cnkiOiB7ImNvb3JkaW5hdGVzIjogWy03My43ODI2MSwgNDAuNjQxMzgyXSwgInR5cGUiOiAiUG9pbnQifSwgImlkIjogIjE0OSIsICJwcm9wZXJ0aWVzIjogeyJoaWdobGlnaHQiOiB7fSwgInN0eWxlIjoge319LCAidHlwZSI6ICJGZWF0dXJlIn0sIHsiYmJveCI6IFstNzMuNzgxMTI1LCA0MC42NDM3NTMsIC03My43ODExMjUsIDQwLjY0Mzc1M10sICJnZW9tZXRyeSI6IHsiY29vcmRpbmF0ZXMiOiBbLTczLjc4MTEyNSwgNDAuNjQzNzUzXSwgInR5cGUiOiAiUG9pbnQifSwgImlkIjogIjE1MCIsICJwcm9wZXJ0aWVzIjogeyJoaWdobGlnaHQiOiB7fSwgInN0eWxlIjoge319LCAidHlwZSI6ICJGZWF0dXJlIn0sIHsiYmJveCI6IFstNzMuNzgwOTcyLCA0MC42MzcyNTEsIC03My43ODA5NzIsIDQwLjYzNzI1MV0sICJnZW9tZXRyeSI6IHsiY29vcmRpbmF0ZXMiOiBbLTczLjc4MDk3MiwgNDAuNjM3MjUxXSwgInR5cGUiOiAiUG9pbnQifSwgImlkIjogIjE1MSIsICJwcm9wZXJ0aWVzIjogeyJoaWdobGlnaHQiOiB7fSwgInN0eWxlIjoge319LCAidHlwZSI6ICJGZWF0dXJlIn0sIHsiYmJveCI6IFstNzMuNzgxNiwgNDAuNjM5OTk5LCAtNzMuNzgxNiwgNDAuNjM5OTk5XSwgImdlb21ldHJ5IjogeyJjb29yZGluYXRlcyI6IFstNzMuNzgxNiwgNDAuNjM5OTk5XSwgInR5cGUiOiAiUG9pbnQifSwgImlkIjogIjE1MiIsICJwcm9wZXJ0aWVzIjogeyJoaWdobGlnaHQiOiB7fSwgInN0eWxlIjoge319LCAidHlwZSI6ICJGZWF0dXJlIn0sIHsiYmJveCI6IFstNzMuNzgwNzMsIDQwLjYzNTkzMiwgLTczLjc4MDczLCA0MC42MzU5MzJdLCAiZ2VvbWV0cnkiOiB7ImNvb3JkaW5hdGVzIjogWy03My43ODA3MywgNDAuNjM1OTMyXSwgInR5cGUiOiAiUG9pbnQifSwgImlkIjogIjE1MyIsICJwcm9wZXJ0aWVzIjogeyJoaWdobGlnaHQiOiB7fSwgInN0eWxlIjoge319LCAidHlwZSI6ICJGZWF0dXJlIn0sIHsiYmJveCI6IFstNzQuMDU0ODA2NSwgNDAuNjAwMzQ4OSwgLTc0LjA1NDgwNjUsIDQwLjYwMDM0ODldLCAiZ2VvbWV0cnkiOiB7ImNvb3JkaW5hdGVzIjogWy03NC4wNTQ4MDY1LCA0MC42MDAzNDg5XSwgInR5cGUiOiAiUG9pbnQifSwgImlkIjogIjE1NCIsICJwcm9wZXJ0aWVzIjogeyJoaWdobGlnaHQiOiB7fSwgInN0eWxlIjoge319LCAidHlwZSI6ICJGZWF0dXJlIn0sIHsiYmJveCI6IFstNzMuOTk5Njk2NywgNDAuNzU2MzM1OCwgLTczLjk5OTY5NjcsIDQwLjc1NjMzNThdLCAiZ2VvbWV0cnkiOiB7ImNvb3JkaW5hdGVzIjogWy03My45OTk2OTY3LCA0MC43NTYzMzU4XSwgInR5cGUiOiAiUG9pbnQifSwgImlkIjogIjE1NSIsICJwcm9wZXJ0aWVzIjogeyJoaWdobGlnaHQiOiB7fSwgInN0eWxlIjoge319LCAidHlwZSI6ICJGZWF0dXJlIn0sIHsiYmJveCI6IFstNzMuOTU0NjQ0OCwgNDAuNzQ3MzI5MSwgLTczLjk1NDY0NDgsIDQwLjc0NzMyOTFdLCAiZ2VvbWV0cnkiOiB7ImNvb3JkaW5hdGVzIjogWy03My45NTQ2NDQ4LCA0MC43NDczMjkxXSwgInR5cGUiOiAiUG9pbnQifSwgImlkIjogIjE1NiIsICJwcm9wZXJ0aWVzIjogeyJoaWdobGlnaHQiOiB7fSwgInN0eWxlIjoge319LCAidHlwZSI6ICJGZWF0dXJlIn0sIHsiYmJveCI6IFstNzMuOTcxNDg0NCwgNDAuNjY1NTI5MywgLTczLjk3MTQ4NDQsIDQwLjY2NTUyOTNdLCAiZ2VvbWV0cnkiOiB7ImNvb3JkaW5hdGVzIjogWy03My45NzE0ODQ0LCA0MC42NjU1MjkzXSwgInR5cGUiOiAiUG9pbnQifSwgImlkIjogIjE1NyIsICJwcm9wZXJ0aWVzIjogeyJoaWdobGlnaHQiOiB7fSwgInN0eWxlIjoge319LCAidHlwZSI6ICJGZWF0dXJlIn0sIHsiYmJveCI6IFstNzQuMDE5MTU4OSwgNDAuNjUzMjg1NCwgLTc0LjAxOTE1ODksIDQwLjY1MzI4NTRdLCAiZ2VvbWV0cnkiOiB7ImNvb3JkaW5hdGVzIjogWy03NC4wMTkxNTg5LCA0MC42NTMyODU0XSwgInR5cGUiOiAiUG9pbnQifSwgImlkIjogIjE1OCIsICJwcm9wZXJ0aWVzIjogeyJoaWdobGlnaHQiOiB7fSwgInN0eWxlIjoge319LCAidHlwZSI6ICJGZWF0dXJlIn0sIHsiYmJveCI6IFstNzMuODk4MDQ5NywgNDAuODg4NDY3LCAtNzMuODk4MDQ5NywgNDAuODg4NDY3XSwgImdlb21ldHJ5IjogeyJjb29yZGluYXRlcyI6IFstNzMuODk4MDQ5NywgNDAuODg4NDY3XSwgInR5cGUiOiAiUG9pbnQifSwgImlkIjogIjE1OSIsICJwcm9wZXJ0aWVzIjogeyJoaWdobGlnaHQiOiB7fSwgInN0eWxlIjoge319LCAidHlwZSI6ICJGZWF0dXJlIn0sIHsiYmJveCI6IFstNzQuMDAwODE3MywgNDAuNzQ5ODQ1NSwgLTc0LjAwMDgxNzMsIDQwLjc0OTg0NTVdLCAiZ2VvbWV0cnkiOiB7ImNvb3JkaW5hdGVzIjogWy03NC4wMDA4MTczLCA0MC43NDk4NDU1XSwgInR5cGUiOiAiUG9pbnQifSwgImlkIjogIjE2MCIsICJwcm9wZXJ0aWVzIjogeyJoaWdobGlnaHQiOiB7fSwgInN0eWxlIjoge319LCAidHlwZSI6ICJGZWF0dXJlIn0sIHsiYmJveCI6IFstNzQuMDcyNDAwNSwgNDAuNjQzOTA2NCwgLTc0LjA3MjQwMDUsIDQwLjY0MzkwNjRdLCAiZ2VvbWV0cnkiOiB7ImNvb3JkaW5hdGVzIjogWy03NC4wNzI0MDA1LCA0MC42NDM5MDY0XSwgInR5cGUiOiAiUG9pbnQifSwgImlkIjogIjE2MSIsICJwcm9wZXJ0aWVzIjogeyJoaWdobGlnaHQiOiB7fSwgInN0eWxlIjoge319LCAidHlwZSI6ICJGZWF0dXJlIn0sIHsiYmJveCI6IFstNzQuMTY1ODgzMiwgNDAuNTgwODMyMSwgLTc0LjE2NTg4MzIsIDQwLjU4MDgzMjFdLCAiZ2VvbWV0cnkiOiB7ImNvb3JkaW5hdGVzIjogWy03NC4xNjU4ODMyLCA0MC41ODA4MzIxXSwgInR5cGUiOiAiUG9pbnQifSwgImlkIjogIjE2MiIsICJwcm9wZXJ0aWVzIjogeyJoaWdobGlnaHQiOiB7fSwgInN0eWxlIjoge319LCAidHlwZSI6ICJGZWF0dXJlIn0sIHsiYmJveCI6IFstNzQuMDY2NzkyLCA0MC41ODg3NjQyLCAtNzQuMDY2NzkyLCA0MC41ODg3NjQyXSwgImdlb21ldHJ5IjogeyJjb29yZGluYXRlcyI6IFstNzQuMDY2NzkyLCA0MC41ODg3NjQyXSwgInR5cGUiOiAiUG9pbnQifSwgImlkIjogIjE2MyIsICJwcm9wZXJ0aWVzIjogeyJoaWdobGlnaHQiOiB7fSwgInN0eWxlIjoge319LCAidHlwZSI6ICJGZWF0dXJlIn0sIHsiYmJveCI6IFstNzQuMDYzNTgwNywgNDAuNTkyMzk0MywgLTc0LjA2MzU4MDcsIDQwLjU5MjM5NDNdLCAiZ2VvbWV0cnkiOiB7ImNvb3JkaW5hdGVzIjogWy03NC4wNjM1ODA3LCA0MC41OTIzOTQzXSwgInR5cGUiOiAiUG9pbnQifSwgImlkIjogIjE2NCIsICJwcm9wZXJ0aWVzIjogeyJoaWdobGlnaHQiOiB7fSwgInN0eWxlIjoge319LCAidHlwZSI6ICJGZWF0dXJlIn0sIHsiYmJveCI6IFstNzQuMTExNDcwOSwgNDAuNTYxNTU4MywgLTc0LjExMTQ3MDksIDQwLjU2MTU1ODNdLCAiZ2VvbWV0cnkiOiB7ImNvb3JkaW5hdGVzIjogWy03NC4xMTE0NzA5LCA0MC41NjE1NTgzXSwgInR5cGUiOiAiUG9pbnQifSwgImlkIjogIjE2NSIsICJwcm9wZXJ0aWVzIjogeyJoaWdobGlnaHQiOiB7fSwgInN0eWxlIjoge319LCAidHlwZSI6ICJGZWF0dXJlIn0sIHsiYmJveCI6IFstNzQuMDE1ODczLCA0MC43MDQ0MDIyLCAtNzQuMDE1ODczLCA0MC43MDQ0MDIyXSwgImdlb21ldHJ5IjogeyJjb29yZGluYXRlcyI6IFstNzQuMDE1ODczLCA0MC43MDQ0MDIyXSwgInR5cGUiOiAiUG9pbnQifSwgImlkIjogIjE2NiIsICJwcm9wZXJ0aWVzIjogeyJoaWdobGlnaHQiOiB7fSwgInN0eWxlIjoge319LCAidHlwZSI6ICJGZWF0dXJlIn0sIHsiYmJveCI6IFstNzMuNTc2ODE0NCwgNDAuNzM1MDIxMywgLTczLjU3NjgxNDQsIDQwLjczNTAyMTNdLCAiZ2VvbWV0cnkiOiB7ImNvb3JkaW5hdGVzIjogWy03My41NzY4MTQ0LCA0MC43MzUwMjEzXSwgInR5cGUiOiAiUG9pbnQifSwgImlkIjogIjE2NyIsICJwcm9wZXJ0aWVzIjogeyJoaWdobGlnaHQiOiB7fSwgInN0eWxlIjoge319LCAidHlwZSI6ICJGZWF0dXJlIn0sIHsiYmJveCI6IFstNzMuNTcxMDAxOSwgNDAuNzI0MjgxMiwgLTczLjU3MTAwMTksIDQwLjcyNDI4MTJdLCAiZ2VvbWV0cnkiOiB7ImNvb3JkaW5hdGVzIjogWy03My41NzEwMDE5LCA0MC43MjQyODEyXSwgInR5cGUiOiAiUG9pbnQifSwgImlkIjogIjE2OCIsICJwcm9wZXJ0aWVzIjogeyJoaWdobGlnaHQiOiB7fSwgInN0eWxlIjoge319LCAidHlwZSI6ICJGZWF0dXJlIn0sIHsiYmJveCI6IFstNzMuNTcyNzM0OCwgNDAuNzI1MTcyOCwgLTczLjU3MjczNDgsIDQwLjcyNTE3MjhdLCAiZ2VvbWV0cnkiOiB7ImNvb3JkaW5hdGVzIjogWy03My41NzI3MzQ4LCA0MC43MjUxNzI4XSwgInR5cGUiOiAiUG9pbnQifSwgImlkIjogIjE2OSIsICJwcm9wZXJ0aWVzIjogeyJoaWdobGlnaHQiOiB7fSwgInN0eWxlIjoge319LCAidHlwZSI6ICJGZWF0dXJlIn0sIHsiYmJveCI6IFstNzMuNTczOTE3MSwgNDAuNzI3ODc0LCAtNzMuNTczOTE3MSwgNDAuNzI3ODc0XSwgImdlb21ldHJ5IjogeyJjb29yZGluYXRlcyI6IFstNzMuNTczOTE3MSwgNDAuNzI3ODc0XSwgInR5cGUiOiAiUG9pbnQifSwgImlkIjogIjE3MCIsICJwcm9wZXJ0aWVzIjogeyJoaWdobGlnaHQiOiB7fSwgInN0eWxlIjoge319LCAidHlwZSI6ICJGZWF0dXJlIn0sIHsiYmJveCI6IFstNzMuNTY5Mzg0NSwgNDAuNzI2Mzc0OSwgLTczLjU2OTM4NDUsIDQwLjcyNjM3NDldLCAiZ2VvbWV0cnkiOiB7ImNvb3JkaW5hdGVzIjogWy03My41NjkzODQ1LCA0MC43MjYzNzQ5XSwgInR5cGUiOiAiUG9pbnQifSwgImlkIjogIjE3MSIsICJwcm9wZXJ0aWVzIjogeyJoaWdobGlnaHQiOiB7fSwgInN0eWxlIjoge319LCAidHlwZSI6ICJGZWF0dXJlIn0sIHsiYmJveCI6IFstNzMuNTcwMjQ4MiwgNDAuNzI5MTAyNiwgLTczLjU3MDI0ODIsIDQwLjcyOTEwMjZdLCAiZ2VvbWV0cnkiOiB7ImNvb3JkaW5hdGVzIjogWy03My41NzAyNDgyLCA0MC43MjkxMDI2XSwgInR5cGUiOiAiUG9pbnQifSwgImlkIjogIjE3MiIsICJwcm9wZXJ0aWVzIjogeyJoaWdobGlnaHQiOiB7fSwgInN0eWxlIjoge319LCAidHlwZSI6ICJGZWF0dXJlIn0sIHsiYmJveCI6IFstNzMuNTc2MjcyNSwgNDAuNzIzODc4NywgLTczLjU3NjI3MjUsIDQwLjcyMzg3ODddLCAiZ2VvbWV0cnkiOiB7ImNvb3JkaW5hdGVzIjogWy03My41NzYyNzI1LCA0MC43MjM4Nzg3XSwgInR5cGUiOiAiUG9pbnQifSwgImlkIjogIjE3MyIsICJwcm9wZXJ0aWVzIjogeyJoaWdobGlnaHQiOiB7fSwgInN0eWxlIjoge319LCAidHlwZSI6ICJGZWF0dXJlIn0sIHsiYmJveCI6IFstNzMuNTcxNzEyNywgNDAuNzI4MjIwNSwgLTczLjU3MTcxMjcsIDQwLjcyODIyMDVdLCAiZ2VvbWV0cnkiOiB7ImNvb3JkaW5hdGVzIjogWy03My41NzE3MTI3LCA0MC43MjgyMjA1XSwgInR5cGUiOiAiUG9pbnQifSwgImlkIjogIjE3NCIsICJwcm9wZXJ0aWVzIjogeyJoaWdobGlnaHQiOiB7fSwgInN0eWxlIjoge319LCAidHlwZSI6ICJGZWF0dXJlIn0sIHsiYmJveCI6IFstNzMuNTcxNjg1OSwgNDAuNzI5NDExNiwgLTczLjU3MTY4NTksIDQwLjcyOTQxMTZdLCAiZ2VvbWV0cnkiOiB7ImNvb3JkaW5hdGVzIjogWy03My41NzE2ODU5LCA0MC43Mjk0MTE2XSwgInR5cGUiOiAiUG9pbnQifSwgImlkIjogIjE3NSIsICJwcm9wZXJ0aWVzIjogeyJoaWdobGlnaHQiOiB7fSwgInN0eWxlIjoge319LCAidHlwZSI6ICJGZWF0dXJlIn0sIHsiYmJveCI6IFstNzMuNTc4NywgNDAuNzMyNjc4LCAtNzMuNTc4NywgNDAuNzMyNjc4XSwgImdlb21ldHJ5IjogeyJjb29yZGluYXRlcyI6IFstNzMuNTc4NywgNDAuNzMyNjc4XSwgInR5cGUiOiAiUG9pbnQifSwgImlkIjogIjE3NiIsICJwcm9wZXJ0aWVzIjogeyJoaWdobGlnaHQiOiB7fSwgInN0eWxlIjoge319LCAidHlwZSI6ICJGZWF0dXJlIn0sIHsiYmJveCI6IFstNzMuOTU4MDc1MiwgNDAuNjIwMzIxNSwgLTczLjk1ODA3NTIsIDQwLjYyMDMyMTVdLCAiZ2VvbWV0cnkiOiB7ImNvb3JkaW5hdGVzIjogWy03My45NTgwNzUyLCA0MC42MjAzMjE1XSwgInR5cGUiOiAiUG9pbnQifSwgImlkIjogIjE3NyIsICJwcm9wZXJ0aWVzIjogeyJoaWdobGlnaHQiOiB7fSwgInN0eWxlIjoge319LCAidHlwZSI6ICJGZWF0dXJlIn0sIHsiYmJveCI6IFstNzMuOTU3OTkwMiwgNDAuNjIwMzM1LCAtNzMuOTU3OTkwMiwgNDAuNjIwMzM1XSwgImdlb21ldHJ5IjogeyJjb29yZGluYXRlcyI6IFstNzMuOTU3OTkwMiwgNDAuNjIwMzM1XSwgInR5cGUiOiAiUG9pbnQifSwgImlkIjogIjE3OCIsICJwcm9wZXJ0aWVzIjogeyJoaWdobGlnaHQiOiB7fSwgInN0eWxlIjoge319LCAidHlwZSI6ICJGZWF0dXJlIn0sIHsiYmJveCI6IFstNzMuOTYwNjIzNiwgNDAuNzQxOTAwNCwgLTczLjk2MDYyMzYsIDQwLjc0MTkwMDRdLCAiZ2VvbWV0cnkiOiB7ImNvb3JkaW5hdGVzIjogWy03My45NjA2MjM2LCA0MC43NDE5MDA0XSwgInR5cGUiOiAiUG9pbnQifSwgImlkIjogIjE3OSIsICJwcm9wZXJ0aWVzIjogeyJoaWdobGlnaHQiOiB7fSwgInN0eWxlIjoge319LCAidHlwZSI6ICJGZWF0dXJlIn0sIHsiYmJveCI6IFstNzMuNTYwNDE5NiwgNDAuNTg0ODI4NiwgLTczLjU2MDQxOTYsIDQwLjU4NDgyODZdLCAiZ2VvbWV0cnkiOiB7ImNvb3JkaW5hdGVzIjogWy03My41NjA0MTk2LCA0MC41ODQ4Mjg2XSwgInR5cGUiOiAiUG9pbnQifSwgImlkIjogIjE4MCIsICJwcm9wZXJ0aWVzIjogeyJoaWdobGlnaHQiOiB7fSwgInN0eWxlIjoge319LCAidHlwZSI6ICJGZWF0dXJlIn0sIHsiYmJveCI6IFstNzMuNzgyNTYyOCwgNDAuNjQ5MzY5NiwgLTczLjc4MjU2MjgsIDQwLjY0OTM2OTZdLCAiZ2VvbWV0cnkiOiB7ImNvb3JkaW5hdGVzIjogWy03My43ODI1NjI4LCA0MC42NDkzNjk2XSwgInR5cGUiOiAiUG9pbnQifSwgImlkIjogIjE4MSIsICJwcm9wZXJ0aWVzIjogeyJoaWdobGlnaHQiOiB7fSwgInN0eWxlIjoge319LCAidHlwZSI6ICJGZWF0dXJlIn0sIHsiYmJveCI6IFstNzMuOTYxOTM1OCwgNDAuNjY2NDI2MiwgLTczLjk2MTkzNTgsIDQwLjY2NjQyNjJdLCAiZ2VvbWV0cnkiOiB7ImNvb3JkaW5hdGVzIjogWy03My45NjE5MzU4LCA0MC42NjY0MjYyXSwgInR5cGUiOiAiUG9pbnQifSwgImlkIjogIjE4MiIsICJwcm9wZXJ0aWVzIjogeyJoaWdobGlnaHQiOiB7fSwgInN0eWxlIjoge319LCAidHlwZSI6ICJGZWF0dXJlIn0sIHsiYmJveCI6IFstNzQuMDA0OTAwMSwgNDAuNzU1Nzc1MywgLTc0LjAwNDkwMDEsIDQwLjc1NTc3NTNdLCAiZ2VvbWV0cnkiOiB7ImNvb3JkaW5hdGVzIjogWy03NC4wMDQ5MDAxLCA0MC43NTU3NzUzXSwgInR5cGUiOiAiUG9pbnQifSwgImlkIjogIjE4MyIsICJwcm9wZXJ0aWVzIjogeyJoaWdobGlnaHQiOiB7fSwgInN0eWxlIjoge319LCAidHlwZSI6ICJGZWF0dXJlIn0sIHsiYmJveCI6IFstNzMuNTg0OTk3MywgNDAuNjI2OTU0NSwgLTczLjU4NDk5NzMsIDQwLjYyNjk1NDVdLCAiZ2VvbWV0cnkiOiB7ImNvb3JkaW5hdGVzIjogWy03My41ODQ5OTczLCA0MC42MjY5NTQ1XSwgInR5cGUiOiAiUG9pbnQifSwgImlkIjogIjE4NCIsICJwcm9wZXJ0aWVzIjogeyJoaWdobGlnaHQiOiB7fSwgInN0eWxlIjoge319LCAidHlwZSI6ICJGZWF0dXJlIn0sIHsiYmJveCI6IFstNzMuOTc2ODM1OSwgNDAuNjYzMjk3MywgLTczLjk3NjgzNTksIDQwLjY2MzI5NzNdLCAiZ2VvbWV0cnkiOiB7ImNvb3JkaW5hdGVzIjogWy03My45NzY4MzU5LCA0MC42NjMyOTczXSwgInR5cGUiOiAiUG9pbnQifSwgImlkIjogIjE4NSIsICJwcm9wZXJ0aWVzIjogeyJoaWdobGlnaHQiOiB7fSwgInN0eWxlIjoge319LCAidHlwZSI6ICJGZWF0dXJlIn0sIHsiYmJveCI6IFstNzMuOTY1NDI5NCwgNDAuNTc0NjM3MiwgLTczLjk2NTQyOTQsIDQwLjU3NDYzNzJdLCAiZ2VvbWV0cnkiOiB7ImNvb3JkaW5hdGVzIjogWy03My45NjU0Mjk0LCA0MC41NzQ2MzcyXSwgInR5cGUiOiAiUG9pbnQifSwgImlkIjogIjE4NiIsICJwcm9wZXJ0aWVzIjogeyJoaWdobGlnaHQiOiB7fSwgInN0eWxlIjoge319LCAidHlwZSI6ICJGZWF0dXJlIn0sIHsiYmJveCI6IFstNzMuOTYzNDg2OCwgNDAuNjYyODE2MiwgLTczLjk2MzQ4NjgsIDQwLjY2MjgxNjJdLCAiZ2VvbWV0cnkiOiB7ImNvb3JkaW5hdGVzIjogWy03My45NjM0ODY4LCA0MC42NjI4MTYyXSwgInR5cGUiOiAiUG9pbnQifSwgImlkIjogIjE4NyIsICJwcm9wZXJ0aWVzIjogeyJoaWdobGlnaHQiOiB7fSwgInN0eWxlIjoge319LCAidHlwZSI6ICJGZWF0dXJlIn0sIHsiYmJveCI6IFstNzMuOTc2NjIwNSwgNDAuNjYzNTc4OSwgLTczLjk3NjYyMDUsIDQwLjY2MzU3ODldLCAiZ2VvbWV0cnkiOiB7ImNvb3JkaW5hdGVzIjogWy03My45NzY2MjA1LCA0MC42NjM1Nzg5XSwgInR5cGUiOiAiUG9pbnQifSwgImlkIjogIjE4OCIsICJwcm9wZXJ0aWVzIjogeyJoaWdobGlnaHQiOiB7fSwgInN0eWxlIjoge319LCAidHlwZSI6ICJGZWF0dXJlIn0sIHsiYmJveCI6IFstNzMuODg0Njg2MiwgNDAuNjI5MTE2OSwgLTczLjg4NDY4NjIsIDQwLjYyOTExNjldLCAiZ2VvbWV0cnkiOiB7ImNvb3JkaW5hdGVzIjogWy03My44ODQ2ODYyLCA0MC42MjkxMTY5XSwgInR5cGUiOiAiUG9pbnQifSwgImlkIjogIjE4OSIsICJwcm9wZXJ0aWVzIjogeyJoaWdobGlnaHQiOiB7fSwgInN0eWxlIjoge319LCAidHlwZSI6ICJGZWF0dXJlIn0sIHsiYmJveCI6IFstNzMuODg0ODMxLCA0MC42MjkwNzM3LCAtNzMuODg0ODMxLCA0MC42MjkwNzM3XSwgImdlb21ldHJ5IjogeyJjb29yZGluYXRlcyI6IFstNzMuODg0ODMxLCA0MC42MjkwNzM3XSwgInR5cGUiOiAiUG9pbnQifSwgImlkIjogIjE5MCIsICJwcm9wZXJ0aWVzIjogeyJoaWdobGlnaHQiOiB7fSwgInN0eWxlIjoge319LCAidHlwZSI6ICJGZWF0dXJlIn0sIHsiYmJveCI6IFstNzMuODg0MzI2NSwgNDAuNzYxOTEzMSwgLTczLjg4NDMyNjUsIDQwLjc2MTkxMzFdLCAiZ2VvbWV0cnkiOiB7ImNvb3JkaW5hdGVzIjogWy03My44ODQzMjY1LCA0MC43NjE5MTMxXSwgInR5cGUiOiAiUG9pbnQifSwgImlkIjogIjE5MSIsICJwcm9wZXJ0aWVzIjogeyJoaWdobGlnaHQiOiB7fSwgInN0eWxlIjoge319LCAidHlwZSI6ICJGZWF0dXJlIn0sIHsiYmJveCI6IFstNzMuODgzOTg1NiwgNDAuNzYxOTQ4NywgLTczLjg4Mzk4NTYsIDQwLjc2MTk0ODddLCAiZ2VvbWV0cnkiOiB7ImNvb3JkaW5hdGVzIjogWy03My44ODM5ODU2LCA0MC43NjE5NDg3XSwgInR5cGUiOiAiUG9pbnQifSwgImlkIjogIjE5MiIsICJwcm9wZXJ0aWVzIjogeyJoaWdobGlnaHQiOiB7fSwgInN0eWxlIjoge319LCAidHlwZSI6ICJGZWF0dXJlIn0sIHsiYmJveCI6IFstNzMuOTU5NzMwNSwgNDAuNzEwNTc5MywgLTczLjk1OTczMDUsIDQwLjcxMDU3OTNdLCAiZ2VvbWV0cnkiOiB7ImNvb3JkaW5hdGVzIjogWy03My45NTk3MzA1LCA0MC43MTA1NzkzXSwgInR5cGUiOiAiUG9pbnQifSwgImlkIjogIjE5MyIsICJwcm9wZXJ0aWVzIjogeyJoaWdobGlnaHQiOiB7fSwgInN0eWxlIjoge319LCAidHlwZSI6ICJGZWF0dXJlIn0sIHsiYmJveCI6IFstNzMuODM4Mzg2LCA0MC43MzU2OTksIC03My44MzgzODYsIDQwLjczNTY5OV0sICJnZW9tZXRyeSI6IHsiY29vcmRpbmF0ZXMiOiBbLTczLjgzODM4NiwgNDAuNzM1Njk5XSwgInR5cGUiOiAiUG9pbnQifSwgImlkIjogIjE5NCIsICJwcm9wZXJ0aWVzIjogeyJoaWdobGlnaHQiOiB7fSwgInN0eWxlIjoge319LCAidHlwZSI6ICJGZWF0dXJlIn0sIHsiYmJveCI6IFstNzMuOTU0ODA0NiwgNDAuNjU2NTMyNywgLTczLjk1NDgwNDYsIDQwLjY1NjUzMjddLCAiZ2VvbWV0cnkiOiB7ImNvb3JkaW5hdGVzIjogWy03My45NTQ4MDQ2LCA0MC42NTY1MzI3XSwgInR5cGUiOiAiUG9pbnQifSwgImlkIjogIjE5NSIsICJwcm9wZXJ0aWVzIjogeyJoaWdobGlnaHQiOiB7fSwgInN0eWxlIjoge319LCAidHlwZSI6ICJGZWF0dXJlIn0sIHsiYmJveCI6IFstNzMuODI0OTU0NiwgNDAuNjE2ODE4NywgLTczLjgyNDk1NDYsIDQwLjYxNjgxODddLCAiZ2VvbWV0cnkiOiB7ImNvb3JkaW5hdGVzIjogWy03My44MjQ5NTQ2LCA0MC42MTY4MTg3XSwgInR5cGUiOiAiUG9pbnQifSwgImlkIjogIjE5NiIsICJwcm9wZXJ0aWVzIjogeyJoaWdobGlnaHQiOiB7fSwgInN0eWxlIjoge319LCAidHlwZSI6ICJGZWF0dXJlIn0sIHsiYmJveCI6IFstNzQuMDE5OTk3NiwgNDAuNjkxNjU3MSwgLTc0LjAxOTk5NzYsIDQwLjY5MTY1NzFdLCAiZ2VvbWV0cnkiOiB7ImNvb3JkaW5hdGVzIjogWy03NC4wMTk5OTc2LCA0MC42OTE2NTcxXSwgInR5cGUiOiAiUG9pbnQifSwgImlkIjogIjE5NyIsICJwcm9wZXJ0aWVzIjogeyJoaWdobGlnaHQiOiB7fSwgInN0eWxlIjoge319LCAidHlwZSI6ICJGZWF0dXJlIn0sIHsiYmJveCI6IFstNzQuMDE5MDYxOCwgNDAuNjkwMTU1MywgLTc0LjAxOTA2MTgsIDQwLjY5MDE1NTNdLCAiZ2VvbWV0cnkiOiB7ImNvb3JkaW5hdGVzIjogWy03NC4wMTkwNjE4LCA0MC42OTAxNTUzXSwgInR5cGUiOiAiUG9pbnQifSwgImlkIjogIjE5OCIsICJwcm9wZXJ0aWVzIjogeyJoaWdobGlnaHQiOiB7fSwgInN0eWxlIjoge319LCAidHlwZSI6ICJGZWF0dXJlIn0sIHsiYmJveCI6IFstNzQuMDE3NDAxOSwgNDAuNjg3MDk0LCAtNzQuMDE3NDAxOSwgNDAuNjg3MDk0XSwgImdlb21ldHJ5IjogeyJjb29yZGluYXRlcyI6IFstNzQuMDE3NDAxOSwgNDAuNjg3MDk0XSwgInR5cGUiOiAiUG9pbnQifSwgImlkIjogIjE5OSIsICJwcm9wZXJ0aWVzIjogeyJoaWdobGlnaHQiOiB7fSwgInN0eWxlIjoge319LCAidHlwZSI6ICJGZWF0dXJlIn0sIHsiYmJveCI6IFstNzQuMDIwOTAwNCwgNDAuNjg2MzQwOSwgLTc0LjAyMDkwMDQsIDQwLjY4NjM0MDldLCAiZ2VvbWV0cnkiOiB7ImNvb3JkaW5hdGVzIjogWy03NC4wMjA5MDA0LCA0MC42ODYzNDA5XSwgInR5cGUiOiAiUG9pbnQifSwgImlkIjogIjIwMCIsICJwcm9wZXJ0aWVzIjogeyJoaWdobGlnaHQiOiB7fSwgInN0eWxlIjoge319LCAidHlwZSI6ICJGZWF0dXJlIn0sIHsiYmJveCI6IFstNzQuMDI1MTA1NCwgNDAuNjg1MzY5MywgLTc0LjAyNTEwNTQsIDQwLjY4NTM2OTNdLCAiZ2VvbWV0cnkiOiB7ImNvb3JkaW5hdGVzIjogWy03NC4wMjUxMDU0LCA0MC42ODUzNjkzXSwgInR5cGUiOiAiUG9pbnQifSwgImlkIjogIjIwMSIsICJwcm9wZXJ0aWVzIjogeyJoaWdobGlnaHQiOiB7fSwgInN0eWxlIjoge319LCAidHlwZSI6ICJGZWF0dXJlIn0sIHsiYmJveCI6IFstNzQuMDE0MTcxLCA0MC42ODgyMDYxLCAtNzQuMDE0MTcxLCA0MC42ODgyMDYxXSwgImdlb21ldHJ5IjogeyJjb29yZGluYXRlcyI6IFstNzQuMDE0MTcxLCA0MC42ODgyMDYxXSwgInR5cGUiOiAiUG9pbnQifSwgImlkIjogIjIwMiIsICJwcm9wZXJ0aWVzIjogeyJoaWdobGlnaHQiOiB7fSwgInN0eWxlIjoge319LCAidHlwZSI6ICJGZWF0dXJlIn0sIHsiYmJveCI6IFstNzQuMDEyODc5NywgNDAuNjg5OTM5LCAtNzQuMDEyODc5NywgNDAuNjg5OTM5XSwgImdlb21ldHJ5IjogeyJjb29yZGluYXRlcyI6IFstNzQuMDEyODc5NywgNDAuNjg5OTM5XSwgInR5cGUiOiAiUG9pbnQifSwgImlkIjogIjIwMyIsICJwcm9wZXJ0aWVzIjogeyJoaWdobGlnaHQiOiB7fSwgInN0eWxlIjoge319LCAidHlwZSI6ICJGZWF0dXJlIn0sIHsiYmJveCI6IFstNzQuMDEyNDY1LCA0MC42OTA2MTA2LCAtNzQuMDEyNDY1LCA0MC42OTA2MTA2XSwgImdlb21ldHJ5IjogeyJjb29yZGluYXRlcyI6IFstNzQuMDEyNDY1LCA0MC42OTA2MTA2XSwgInR5cGUiOiAiUG9pbnQifSwgImlkIjogIjIwNCIsICJwcm9wZXJ0aWVzIjogeyJoaWdobGlnaHQiOiB7fSwgInN0eWxlIjoge319LCAidHlwZSI6ICJGZWF0dXJlIn0sIHsiYmJveCI6IFstNzMuODc2NTAyOCwgNDAuOTI3MDExNCwgLTczLjg3NjUwMjgsIDQwLjkyNzAxMTRdLCAiZ2VvbWV0cnkiOiB7ImNvb3JkaW5hdGVzIjogWy03My44NzY1MDI4LCA0MC45MjcwMTE0XSwgInR5cGUiOiAiUG9pbnQifSwgImlkIjogIjIwNSIsICJwcm9wZXJ0aWVzIjogeyJoaWdobGlnaHQiOiB7fSwgInN0eWxlIjoge319LCAidHlwZSI6ICJGZWF0dXJlIn0sIHsiYmJveCI6IFstNzMuODc3MTA2MywgNDAuOTI3MjcyOCwgLTczLjg3NzEwNjMsIDQwLjkyNzI3MjhdLCAiZ2VvbWV0cnkiOiB7ImNvb3JkaW5hdGVzIjogWy03My44NzcxMDYzLCA0MC45MjcyNzI4XSwgInR5cGUiOiAiUG9pbnQifSwgImlkIjogIjIwNiIsICJwcm9wZXJ0aWVzIjogeyJoaWdobGlnaHQiOiB7fSwgInN0eWxlIjoge319LCAidHlwZSI6ICJGZWF0dXJlIn0sIHsiYmJveCI6IFstNzMuODc3NDM0OSwgNDAuNzIwNjY0NywgLTczLjg3NzQzNDksIDQwLjcyMDY2NDddLCAiZ2VvbWV0cnkiOiB7ImNvb3JkaW5hdGVzIjogWy03My44Nzc0MzQ5LCA0MC43MjA2NjQ3XSwgInR5cGUiOiAiUG9pbnQifSwgImlkIjogIjIwNyIsICJwcm9wZXJ0aWVzIjogeyJoaWdobGlnaHQiOiB7fSwgInN0eWxlIjoge319LCAidHlwZSI6ICJGZWF0dXJlIn0sIHsiYmJveCI6IFstNzMuODU5Njc4NSwgNDAuNzIwNDEyNSwgLTczLjg1OTY3ODUsIDQwLjcyMDQxMjVdLCAiZ2VvbWV0cnkiOiB7ImNvb3JkaW5hdGVzIjogWy03My44NTk2Nzg1LCA0MC43MjA0MTI1XSwgInR5cGUiOiAiUG9pbnQifSwgImlkIjogIjIwOCIsICJwcm9wZXJ0aWVzIjogeyJoaWdobGlnaHQiOiB7fSwgInN0eWxlIjoge319LCAidHlwZSI6ICJGZWF0dXJlIn0sIHsiYmJveCI6IFstNzMuODU3MjM4NCwgNDAuNzM1NTI1OSwgLTczLjg1NzIzODQsIDQwLjczNTUyNTldLCAiZ2VvbWV0cnkiOiB7ImNvb3JkaW5hdGVzIjogWy03My44NTcyMzg0LCA0MC43MzU1MjU5XSwgInR5cGUiOiAiUG9pbnQifSwgImlkIjogIjIwOSIsICJwcm9wZXJ0aWVzIjogeyJoaWdobGlnaHQiOiB7fSwgInN0eWxlIjoge319LCAidHlwZSI6ICJGZWF0dXJlIn0sIHsiYmJveCI6IFstNzQuMDAwNjE4NiwgNDAuNzYzMTY5MSwgLTc0LjAwMDYxODYsIDQwLjc2MzE2OTFdLCAiZ2VvbWV0cnkiOiB7ImNvb3JkaW5hdGVzIjogWy03NC4wMDA2MTg2LCA0MC43NjMxNjkxXSwgInR5cGUiOiAiUG9pbnQifSwgImlkIjogIjIxMCIsICJwcm9wZXJ0aWVzIjogeyJoaWdobGlnaHQiOiB7fSwgInN0eWxlIjoge319LCAidHlwZSI6ICJGZWF0dXJlIn0sIHsiYmJveCI6IFstNzMuOTA2ODIzNywgNDAuODQxNDk5MywgLTczLjkwNjgyMzcsIDQwLjg0MTQ5OTNdLCAiZ2VvbWV0cnkiOiB7ImNvb3JkaW5hdGVzIjogWy03My45MDY4MjM3LCA0MC44NDE0OTkzXSwgInR5cGUiOiAiUG9pbnQifSwgImlkIjogIjIxMSIsICJwcm9wZXJ0aWVzIjogeyJoaWdobGlnaHQiOiB7fSwgInN0eWxlIjoge319LCAidHlwZSI6ICJGZWF0dXJlIn0sIHsiYmJveCI6IFstNzQuMDA1NTgwNSwgNDAuNzM2MzU0OCwgLTc0LjAwNTU4MDUsIDQwLjczNjM1NDhdLCAiZ2VvbWV0cnkiOiB7ImNvb3JkaW5hdGVzIjogWy03NC4wMDU1ODA1LCA0MC43MzYzNTQ4XSwgInR5cGUiOiAiUG9pbnQifSwgImlkIjogIjIxMiIsICJwcm9wZXJ0aWVzIjogeyJoaWdobGlnaHQiOiB7fSwgInN0eWxlIjoge319LCAidHlwZSI6ICJGZWF0dXJlIn0sIHsiYmJveCI6IFstNzMuOTgyOTY0NCwgNDAuNjkxMDYxMSwgLTczLjk4Mjk2NDQsIDQwLjY5MTA2MTFdLCAiZ2VvbWV0cnkiOiB7ImNvb3JkaW5hdGVzIjogWy03My45ODI5NjQ0LCA0MC42OTEwNjExXSwgInR5cGUiOiAiUG9pbnQifSwgImlkIjogIjIxMyIsICJwcm9wZXJ0aWVzIjogeyJoaWdobGlnaHQiOiB7fSwgInN0eWxlIjoge319LCAidHlwZSI6ICJGZWF0dXJlIn0sIHsiYmJveCI6IFstNzMuOTY1ODY5MSwgNDAuNjcyMTUwNywgLTczLjk2NTg2OTEsIDQwLjY3MjE1MDddLCAiZ2VvbWV0cnkiOiB7ImNvb3JkaW5hdGVzIjogWy03My45NjU4NjkxLCA0MC42NzIxNTA3XSwgInR5cGUiOiAiUG9pbnQifSwgImlkIjogIjIxNCIsICJwcm9wZXJ0aWVzIjogeyJoaWdobGlnaHQiOiB7fSwgInN0eWxlIjoge319LCAidHlwZSI6ICJGZWF0dXJlIn0sIHsiYmJveCI6IFstNzMuOTYyMTIxOSwgNDAuODE1MDAzNCwgLTczLjk2MjEyMTksIDQwLjgxNTAwMzRdLCAiZ2VvbWV0cnkiOiB7ImNvb3JkaW5hdGVzIjogWy03My45NjIxMjE5LCA0MC44MTUwMDM0XSwgInR5cGUiOiAiUG9pbnQifSwgImlkIjogIjIxNSIsICJwcm9wZXJ0aWVzIjogeyJoaWdobGlnaHQiOiB7fSwgInN0eWxlIjoge319LCAidHlwZSI6ICJGZWF0dXJlIn0sIHsiYmJveCI6IFstNzMuODgxNTc3NCwgNDAuODgzNjk4MywgLTczLjg4MTU3NzQsIDQwLjg4MzY5ODNdLCAiZ2VvbWV0cnkiOiB7ImNvb3JkaW5hdGVzIjogWy03My44ODE1Nzc0LCA0MC44ODM2OTgzXSwgInR5cGUiOiAiUG9pbnQifSwgImlkIjogIjIxNiIsICJwcm9wZXJ0aWVzIjogeyJoaWdobGlnaHQiOiB7fSwgInN0eWxlIjoge319LCAidHlwZSI6ICJGZWF0dXJlIn0sIHsiYmJveCI6IFstNzMuOTk2NTA0MSwgNDAuNzAwODY4OSwgLTczLjk5NjUwNDEsIDQwLjcwMDg2ODldLCAiZ2VvbWV0cnkiOiB7ImNvb3JkaW5hdGVzIjogWy03My45OTY1MDQxLCA0MC43MDA4Njg5XSwgInR5cGUiOiAiUG9pbnQifSwgImlkIjogIjIxNyIsICJwcm9wZXJ0aWVzIjogeyJoaWdobGlnaHQiOiB7fSwgInN0eWxlIjoge319LCAidHlwZSI6ICJGZWF0dXJlIn0sIHsiYmJveCI6IFstNzMuNzkxNjY4NCwgNDAuNjQyMzU0LCAtNzMuNzkxNjY4NCwgNDAuNjQyMzU0XSwgImdlb21ldHJ5IjogeyJjb29yZGluYXRlcyI6IFstNzMuNzkxNjY4NCwgNDAuNjQyMzU0XSwgInR5cGUiOiAiUG9pbnQifSwgImlkIjogIjIxOCIsICJwcm9wZXJ0aWVzIjogeyJoaWdobGlnaHQiOiB7fSwgInN0eWxlIjoge319LCAidHlwZSI6ICJGZWF0dXJlIn0sIHsiYmJveCI6IFstNzMuOTU1NTg0MSwgNDAuNzQ2NzA5OSwgLTczLjk1NTU4NDEsIDQwLjc0NjcwOTldLCAiZ2VvbWV0cnkiOiB7ImNvb3JkaW5hdGVzIjogWy03My45NTU1ODQxLCA0MC43NDY3MDk5XSwgInR5cGUiOiAiUG9pbnQifSwgImlkIjogIjIxOSIsICJwcm9wZXJ0aWVzIjogeyJoaWdobGlnaHQiOiB7fSwgInN0eWxlIjoge319LCAidHlwZSI6ICJGZWF0dXJlIn0sIHsiYmJveCI6IFstNzMuOTg5MDY3OSwgNDAuNzE0NzEyMywgLTczLjk4OTA2NzksIDQwLjcxNDcxMjNdLCAiZ2VvbWV0cnkiOiB7ImNvb3JkaW5hdGVzIjogWy03My45ODkwNjc5LCA0MC43MTQ3MTIzXSwgInR5cGUiOiAiUG9pbnQifSwgImlkIjogIjIyMCIsICJwcm9wZXJ0aWVzIjogeyJoaWdobGlnaHQiOiB7fSwgInN0eWxlIjoge319LCAidHlwZSI6ICJGZWF0dXJlIn0sIHsiYmJveCI6IFstNzQuMDE5MzQ4OSwgNDAuNjM1NDg3NCwgLTc0LjAxOTM0ODksIDQwLjYzNTQ4NzRdLCAiZ2VvbWV0cnkiOiB7ImNvb3JkaW5hdGVzIjogWy03NC4wMTkzNDg5LCA0MC42MzU0ODc0XSwgInR5cGUiOiAiUG9pbnQifSwgImlkIjogIjIyMSIsICJwcm9wZXJ0aWVzIjogeyJoaWdobGlnaHQiOiB7fSwgInN0eWxlIjoge319LCAidHlwZSI6ICJGZWF0dXJlIn0sIHsiYmJveCI6IFstNzMuOTg0Mzc0NSwgNDAuNzYwMDYwMiwgLTczLjk4NDM3NDUsIDQwLjc2MDA2MDJdLCAiZ2VvbWV0cnkiOiB7ImNvb3JkaW5hdGVzIjogWy03My45ODQzNzQ1LCA0MC43NjAwNjAyXSwgInR5cGUiOiAiUG9pbnQifSwgImlkIjogIjIyMiIsICJwcm9wZXJ0aWVzIjogeyJoaWdobGlnaHQiOiB7fSwgInN0eWxlIjoge319LCAidHlwZSI6ICJGZWF0dXJlIn0sIHsiYmJveCI6IFstNzQuMDAzMjA0NCwgNDAuNzIzNTkyNiwgLTc0LjAwMzIwNDQsIDQwLjcyMzU5MjZdLCAiZ2VvbWV0cnkiOiB7ImNvb3JkaW5hdGVzIjogWy03NC4wMDMyMDQ0LCA0MC43MjM1OTI2XSwgInR5cGUiOiAiUG9pbnQifSwgImlkIjogIjIyMyIsICJwcm9wZXJ0aWVzIjogeyJoaWdobGlnaHQiOiB7fSwgInN0eWxlIjoge319LCAidHlwZSI6ICJGZWF0dXJlIn0sIHsiYmJveCI6IFstNzQuMDEyODkzMSwgNDAuNjMxNDI3NiwgLTc0LjAxMjg5MzEsIDQwLjYzMTQyNzZdLCAiZ2VvbWV0cnkiOiB7ImNvb3JkaW5hdGVzIjogWy03NC4wMTI4OTMxLCA0MC42MzE0Mjc2XSwgInR5cGUiOiAiUG9pbnQifSwgImlkIjogIjIyNCIsICJwcm9wZXJ0aWVzIjogeyJoaWdobGlnaHQiOiB7fSwgInN0eWxlIjoge319LCAidHlwZSI6ICJGZWF0dXJlIn0sIHsiYmJveCI6IFstNzMuODY4OTMwMywgNDAuNzA3NzgzMywgLTczLjg2ODkzMDMsIDQwLjcwNzc4MzNdLCAiZ2VvbWV0cnkiOiB7ImNvb3JkaW5hdGVzIjogWy03My44Njg5MzAzLCA0MC43MDc3ODMzXSwgInR5cGUiOiAiUG9pbnQifSwgImlkIjogIjIyNSIsICJwcm9wZXJ0aWVzIjogeyJoaWdobGlnaHQiOiB7fSwgInN0eWxlIjoge319LCAidHlwZSI6ICJGZWF0dXJlIn0sIHsiYmJveCI6IFstNzMuODY4OTczNywgNDAuNzA3NTEzNCwgLTczLjg2ODk3MzcsIDQwLjcwNzUxMzRdLCAiZ2VvbWV0cnkiOiB7ImNvb3JkaW5hdGVzIjogWy03My44Njg5NzM3LCA0MC43MDc1MTM0XSwgInR5cGUiOiAiUG9pbnQifSwgImlkIjogIjIyNiIsICJwcm9wZXJ0aWVzIjogeyJoaWdobGlnaHQiOiB7fSwgInN0eWxlIjoge319LCAidHlwZSI6ICJGZWF0dXJlIn0sIHsiYmJveCI6IFstNzMuODY4MDQyMywgNDAuNzA3ODE1OSwgLTczLjg2ODA0MjMsIDQwLjcwNzgxNTldLCAiZ2VvbWV0cnkiOiB7ImNvb3JkaW5hdGVzIjogWy03My44NjgwNDIzLCA0MC43MDc4MTU5XSwgInR5cGUiOiAiUG9pbnQifSwgImlkIjogIjIyNyIsICJwcm9wZXJ0aWVzIjogeyJoaWdobGlnaHQiOiB7fSwgInN0eWxlIjoge319LCAidHlwZSI6ICJGZWF0dXJlIn0sIHsiYmJveCI6IFstNzMuODY5ODEyNCwgNDAuNzA5MDE3NiwgLTczLjg2OTgxMjQsIDQwLjcwOTAxNzZdLCAiZ2VvbWV0cnkiOiB7ImNvb3JkaW5hdGVzIjogWy03My44Njk4MTI0LCA0MC43MDkwMTc2XSwgInR5cGUiOiAiUG9pbnQifSwgImlkIjogIjIyOCIsICJwcm9wZXJ0aWVzIjogeyJoaWdobGlnaHQiOiB7fSwgInN0eWxlIjoge319LCAidHlwZSI6ICJGZWF0dXJlIn0sIHsiYmJveCI6IFstNzMuOTU3MTEwNCwgNDAuNzQ3NjI4OSwgLTczLjk1NzExMDQsIDQwLjc0NzYyODldLCAiZ2VvbWV0cnkiOiB7ImNvb3JkaW5hdGVzIjogWy03My45NTcxMTA0LCA0MC43NDc2Mjg5XSwgInR5cGUiOiAiUG9pbnQifSwgImlkIjogIjIyOSIsICJwcm9wZXJ0aWVzIjogeyJoaWdobGlnaHQiOiB7fSwgInN0eWxlIjoge319LCAidHlwZSI6ICJGZWF0dXJlIn0sIHsiYmJveCI6IFstNzMuOTYyMTE4LCA0MC42NjM0MDIsIC03My45NjIxMTgsIDQwLjY2MzQwMl0sICJnZW9tZXRyeSI6IHsiY29vcmRpbmF0ZXMiOiBbLTczLjk2MjExOCwgNDAuNjYzNDAyXSwgInR5cGUiOiAiUG9pbnQifSwgImlkIjogIjIzMCIsICJwcm9wZXJ0aWVzIjogeyJoaWdobGlnaHQiOiB7fSwgInN0eWxlIjoge319LCAidHlwZSI6ICJGZWF0dXJlIn0sIHsiYmJveCI6IFstNzMuNzk1NTg2NiwgNDAuNjkzMjc4MiwgLTczLjc5NTU4NjYsIDQwLjY5MzI3ODJdLCAiZ2VvbWV0cnkiOiB7ImNvb3JkaW5hdGVzIjogWy03My43OTU1ODY2LCA0MC42OTMyNzgyXSwgInR5cGUiOiAiUG9pbnQifSwgImlkIjogIjIzMSIsICJwcm9wZXJ0aWVzIjogeyJoaWdobGlnaHQiOiB7fSwgInN0eWxlIjoge319LCAidHlwZSI6ICJGZWF0dXJlIn0sIHsiYmJveCI6IFstNzMuOTIxNzczNywgNDAuNjU4NjY2NSwgLTczLjkyMTc3MzcsIDQwLjY1ODY2NjVdLCAiZ2VvbWV0cnkiOiB7ImNvb3JkaW5hdGVzIjogWy03My45MjE3NzM3LCA0MC42NTg2NjY1XSwgInR5cGUiOiAiUG9pbnQifSwgImlkIjogIjIzMiIsICJwcm9wZXJ0aWVzIjogeyJoaWdobGlnaHQiOiB7fSwgInN0eWxlIjoge319LCAidHlwZSI6ICJGZWF0dXJlIn0sIHsiYmJveCI6IFstNzMuOTE0NDQ5OSwgNDAuNjYxOTAyNiwgLTczLjkxNDQ0OTksIDQwLjY2MTkwMjZdLCAiZ2VvbWV0cnkiOiB7ImNvb3JkaW5hdGVzIjogWy03My45MTQ0NDk5LCA0MC42NjE5MDI2XSwgInR5cGUiOiAiUG9pbnQifSwgImlkIjogIjIzMyIsICJwcm9wZXJ0aWVzIjogeyJoaWdobGlnaHQiOiB7fSwgInN0eWxlIjoge319LCAidHlwZSI6ICJGZWF0dXJlIn0sIHsiYmJveCI6IFstNzMuOTc1ODgyNiwgNDAuNTczNDI1MSwgLTczLjk3NTg4MjYsIDQwLjU3MzQyNTFdLCAiZ2VvbWV0cnkiOiB7ImNvb3JkaW5hdGVzIjogWy03My45NzU4ODI2LCA0MC41NzM0MjUxXSwgInR5cGUiOiAiUG9pbnQifSwgImlkIjogIjIzNCIsICJwcm9wZXJ0aWVzIjogeyJoaWdobGlnaHQiOiB7fSwgInN0eWxlIjoge319LCAidHlwZSI6ICJGZWF0dXJlIn0sIHsiYmJveCI6IFstNzMuOTkwNjE0MSwgNDAuNjk4NDQxNywgLTczLjk5MDYxNDEsIDQwLjY5ODQ0MTddLCAiZ2VvbWV0cnkiOiB7ImNvb3JkaW5hdGVzIjogWy03My45OTA2MTQxLCA0MC42OTg0NDE3XSwgInR5cGUiOiAiUG9pbnQifSwgImlkIjogIjIzNSIsICJwcm9wZXJ0aWVzIjogeyJoaWdobGlnaHQiOiB7fSwgInN0eWxlIjoge319LCAidHlwZSI6ICJGZWF0dXJlIn0sIHsiYmJveCI6IFstNzMuNzg5Njg2MywgNDAuNjQwNDY0OSwgLTczLjc4OTY4NjMsIDQwLjY0MDQ2NDldLCAiZ2VvbWV0cnkiOiB7ImNvb3JkaW5hdGVzIjogWy03My43ODk2ODYzLCA0MC42NDA0NjQ5XSwgInR5cGUiOiAiUG9pbnQifSwgImlkIjogIjIzNiIsICJwcm9wZXJ0aWVzIjogeyJoaWdobGlnaHQiOiB7fSwgInN0eWxlIjoge319LCAidHlwZSI6ICJGZWF0dXJlIn0sIHsiYmJveCI6IFstNzMuNzkwMjcwNywgNDAuNjQ4MzM4OCwgLTczLjc5MDI3MDcsIDQwLjY0ODMzODhdLCAiZ2VvbWV0cnkiOiB7ImNvb3JkaW5hdGVzIjogWy03My43OTAyNzA3LCA0MC42NDgzMzg4XSwgInR5cGUiOiAiUG9pbnQifSwgImlkIjogIjIzNyIsICJwcm9wZXJ0aWVzIjogeyJoaWdobGlnaHQiOiB7fSwgInN0eWxlIjoge319LCAidHlwZSI6ICJGZWF0dXJlIn0sIHsiYmJveCI6IFstNzMuNzkxMjA1NSwgNDAuNjQ3ODI5OCwgLTczLjc5MTIwNTUsIDQwLjY0NzgyOThdLCAiZ2VvbWV0cnkiOiB7ImNvb3JkaW5hdGVzIjogWy03My43OTEyMDU1LCA0MC42NDc4Mjk4XSwgInR5cGUiOiAiUG9pbnQifSwgImlkIjogIjIzOCIsICJwcm9wZXJ0aWVzIjogeyJoaWdobGlnaHQiOiB7fSwgInN0eWxlIjoge319LCAidHlwZSI6ICJGZWF0dXJlIn0sIHsiYmJveCI6IFstNzMuNzkyODkwNCwgNDAuNjQ3Mjk4OSwgLTczLjc5Mjg5MDQsIDQwLjY0NzI5ODldLCAiZ2VvbWV0cnkiOiB7ImNvb3JkaW5hdGVzIjogWy03My43OTI4OTA0LCA0MC42NDcyOTg5XSwgInR5cGUiOiAiUG9pbnQifSwgImlkIjogIjIzOSIsICJwcm9wZXJ0aWVzIjogeyJoaWdobGlnaHQiOiB7fSwgInN0eWxlIjoge319LCAidHlwZSI6ICJGZWF0dXJlIn0sIHsiYmJveCI6IFstNzMuNzkzNjIxOSwgNDAuNjQ3MDAzMSwgLTczLjc5MzYyMTksIDQwLjY0NzAwMzFdLCAiZ2VvbWV0cnkiOiB7ImNvb3JkaW5hdGVzIjogWy03My43OTM2MjE5LCA0MC42NDcwMDMxXSwgInR5cGUiOiAiUG9pbnQifSwgImlkIjogIjI0MCIsICJwcm9wZXJ0aWVzIjogeyJoaWdobGlnaHQiOiB7fSwgInN0eWxlIjoge319LCAidHlwZSI6ICJGZWF0dXJlIn0sIHsiYmJveCI6IFstNzMuNzkyMzAxLCA0MC42NTA0NjM3LCAtNzMuNzkyMzAxLCA0MC42NTA0NjM3XSwgImdlb21ldHJ5IjogeyJjb29yZGluYXRlcyI6IFstNzMuNzkyMzAxLCA0MC42NTA0NjM3XSwgInR5cGUiOiAiUG9pbnQifSwgImlkIjogIjI0MSIsICJwcm9wZXJ0aWVzIjogeyJoaWdobGlnaHQiOiB7fSwgInN0eWxlIjoge319LCAidHlwZSI6ICJGZWF0dXJlIn0sIHsiYmJveCI6IFstNzMuNzkxNjkyMSwgNDAuNjUwNzMxMywgLTczLjc5MTY5MjEsIDQwLjY1MDczMTNdLCAiZ2VvbWV0cnkiOiB7ImNvb3JkaW5hdGVzIjogWy03My43OTE2OTIxLCA0MC42NTA3MzEzXSwgInR5cGUiOiAiUG9pbnQifSwgImlkIjogIjI0MiIsICJwcm9wZXJ0aWVzIjogeyJoaWdobGlnaHQiOiB7fSwgInN0eWxlIjoge319LCAidHlwZSI6ICJGZWF0dXJlIn0sIHsiYmJveCI6IFstNzMuNzkxMTA3OSwgNDAuNjQ3NDIyMywgLTczLjc5MTEwNzksIDQwLjY0NzQyMjNdLCAiZ2VvbWV0cnkiOiB7ImNvb3JkaW5hdGVzIjogWy03My43OTExMDc5LCA0MC42NDc0MjIzXSwgInR5cGUiOiAiUG9pbnQifSwgImlkIjogIjI0MyIsICJwcm9wZXJ0aWVzIjogeyJoaWdobGlnaHQiOiB7fSwgInN0eWxlIjoge319LCAidHlwZSI6ICJGZWF0dXJlIn0sIHsiYmJveCI6IFstNzMuNzkzMDEwNiwgNDAuNjUwMDYyMiwgLTczLjc5MzAxMDYsIDQwLjY1MDA2MjJdLCAiZ2VvbWV0cnkiOiB7ImNvb3JkaW5hdGVzIjogWy03My43OTMwMTA2LCA0MC42NTAwNjIyXSwgInR5cGUiOiAiUG9pbnQifSwgImlkIjogIjI0NCIsICJwcm9wZXJ0aWVzIjogeyJoaWdobGlnaHQiOiB7fSwgInN0eWxlIjoge319LCAidHlwZSI6ICJGZWF0dXJlIn0sIHsiYmJveCI6IFstNzMuNzkzNzA5MSwgNDAuNjQ5NzQ5OCwgLTczLjc5MzcwOTEsIDQwLjY0OTc0OThdLCAiZ2VvbWV0cnkiOiB7ImNvb3JkaW5hdGVzIjogWy03My43OTM3MDkxLCA0MC42NDk3NDk4XSwgInR5cGUiOiAiUG9pbnQifSwgImlkIjogIjI0NSIsICJwcm9wZXJ0aWVzIjogeyJoaWdobGlnaHQiOiB7fSwgInN0eWxlIjoge319LCAidHlwZSI6ICJGZWF0dXJlIn0sIHsiYmJveCI6IFstNzMuNzk0NzAwNiwgNDAuNjQ5NDIzNSwgLTczLjc5NDcwMDYsIDQwLjY0OTQyMzVdLCAiZ2VvbWV0cnkiOiB7ImNvb3JkaW5hdGVzIjogWy03My43OTQ3MDA2LCA0MC42NDk0MjM1XSwgInR5cGUiOiAiUG9pbnQifSwgImlkIjogIjI0NiIsICJwcm9wZXJ0aWVzIjogeyJoaWdobGlnaHQiOiB7fSwgInN0eWxlIjoge319LCAidHlwZSI6ICJGZWF0dXJlIn0sIHsiYmJveCI6IFstNzMuOTg0Njc5MiwgNDAuNjcyOTM0NCwgLTczLjk4NDY3OTIsIDQwLjY3MjkzNDRdLCAiZ2VvbWV0cnkiOiB7ImNvb3JkaW5hdGVzIjogWy03My45ODQ2NzkyLCA0MC42NzI5MzQ0XSwgInR5cGUiOiAiUG9pbnQifSwgImlkIjogIjI0NyIsICJwcm9wZXJ0aWVzIjogeyJoaWdobGlnaHQiOiB7fSwgInN0eWxlIjoge319LCAidHlwZSI6ICJGZWF0dXJlIn0sIHsiYmJveCI6IFstNzMuOTg0NzY3NSwgNDAuNzgzNDYyNCwgLTczLjk4NDc2NzUsIDQwLjc4MzQ2MjRdLCAiZ2VvbWV0cnkiOiB7ImNvb3JkaW5hdGVzIjogWy03My45ODQ3Njc1LCA0MC43ODM0NjI0XSwgInR5cGUiOiAiUG9pbnQifSwgImlkIjogIjI0OCIsICJwcm9wZXJ0aWVzIjogeyJoaWdobGlnaHQiOiB7fSwgInN0eWxlIjoge319LCAidHlwZSI6ICJGZWF0dXJlIn0sIHsiYmJveCI6IFstNzMuOTgzMTQyMiwgNDAuNTcyNTk0LCAtNzMuOTgzMTQyMiwgNDAuNTcyNTk0XSwgImdlb21ldHJ5IjogeyJjb29yZGluYXRlcyI6IFstNzMuOTgzMTQyMiwgNDAuNTcyNTk0XSwgInR5cGUiOiAiUG9pbnQifSwgImlkIjogIjI0OSIsICJwcm9wZXJ0aWVzIjogeyJoaWdobGlnaHQiOiB7fSwgInN0eWxlIjoge319LCAidHlwZSI6ICJGZWF0dXJlIn0sIHsiYmJveCI6IFstNzQuMDA1MDMwMywgNDAuNjQ3NjgxNCwgLTc0LjAwNTAzMDMsIDQwLjY0NzY4MTRdLCAiZ2VvbWV0cnkiOiB7ImNvb3JkaW5hdGVzIjogWy03NC4wMDUwMzAzLCA0MC42NDc2ODE0XSwgInR5cGUiOiAiUG9pbnQifSwgImlkIjogIjI1MCIsICJwcm9wZXJ0aWVzIjogeyJoaWdobGlnaHQiOiB7fSwgInN0eWxlIjoge319LCAidHlwZSI6ICJGZWF0dXJlIn0sIHsiYmJveCI6IFstNzMuOTg4MzY5MSwgNDAuNzc5NjgzLCAtNzMuOTg4MzY5MSwgNDAuNzc5NjgzXSwgImdlb21ldHJ5IjogeyJjb29yZGluYXRlcyI6IFstNzMuOTg4MzY5MSwgNDAuNzc5NjgzXSwgInR5cGUiOiAiUG9pbnQifSwgImlkIjogIjI1MSIsICJwcm9wZXJ0aWVzIjogeyJoaWdobGlnaHQiOiB7fSwgInN0eWxlIjoge319LCAidHlwZSI6ICJGZWF0dXJlIn0sIHsiYmJveCI6IFstNzMuODY5NTE5MSwgNDAuNzc0MTg1MiwgLTczLjg2OTUxOTEsIDQwLjc3NDE4NTJdLCAiZ2VvbWV0cnkiOiB7ImNvb3JkaW5hdGVzIjogWy03My44Njk1MTkxLCA0MC43NzQxODUyXSwgInR5cGUiOiAiUG9pbnQifSwgImlkIjogIjI1MiIsICJwcm9wZXJ0aWVzIjogeyJoaWdobGlnaHQiOiB7fSwgInN0eWxlIjoge319LCAidHlwZSI6ICJGZWF0dXJlIn0sIHsiYmJveCI6IFstNzMuODY5MTI2LCA0MC43NzM1MDc5LCAtNzMuODY5MTI2LCA0MC43NzM1MDc5XSwgImdlb21ldHJ5IjogeyJjb29yZGluYXRlcyI6IFstNzMuODY5MTI2LCA0MC43NzM1MDc5XSwgInR5cGUiOiAiUG9pbnQifSwgImlkIjogIjI1MyIsICJwcm9wZXJ0aWVzIjogeyJoaWdobGlnaHQiOiB7fSwgInN0eWxlIjoge319LCAidHlwZSI6ICJGZWF0dXJlIn0sIHsiYmJveCI6IFstNzMuNzMyNTExMSwgNDAuNjY1MTc4MiwgLTczLjczMjUxMTEsIDQwLjY2NTE3ODJdLCAiZ2VvbWV0cnkiOiB7ImNvb3JkaW5hdGVzIjogWy03My43MzI1MTExLCA0MC42NjUxNzgyXSwgInR5cGUiOiAiUG9pbnQifSwgImlkIjogIjI1NCIsICJwcm9wZXJ0aWVzIjogeyJoaWdobGlnaHQiOiB7fSwgInN0eWxlIjoge319LCAidHlwZSI6ICJGZWF0dXJlIn0sIHsiYmJveCI6IFstNzMuOTExMzE5LCA0MC43NjEwMDYsIC03My45MTEzMTksIDQwLjc2MTAwNl0sICJnZW9tZXRyeSI6IHsiY29vcmRpbmF0ZXMiOiBbLTczLjkxMTMxOSwgNDAuNzYxMDA2XSwgInR5cGUiOiAiUG9pbnQifSwgImlkIjogIjI1NSIsICJwcm9wZXJ0aWVzIjogeyJoaWdobGlnaHQiOiB7fSwgInN0eWxlIjoge319LCAidHlwZSI6ICJGZWF0dXJlIn0sIHsiYmJveCI6IFstNzMuOTExMjk4OSwgNDAuNzYwOTg3NywgLTczLjkxMTI5ODksIDQwLjc2MDk4NzddLCAiZ2VvbWV0cnkiOiB7ImNvb3JkaW5hdGVzIjogWy03My45MTEyOTg5LCA0MC43NjA5ODc3XSwgInR5cGUiOiAiUG9pbnQifSwgImlkIjogIjI1NiIsICJwcm9wZXJ0aWVzIjogeyJoaWdobGlnaHQiOiB7fSwgInN0eWxlIjoge319LCAidHlwZSI6ICJGZWF0dXJlIn0sIHsiYmJveCI6IFstNzMuNzA0NDY3OCwgNDAuNjM3NjUyNiwgLTczLjcwNDQ2NzgsIDQwLjYzNzY1MjZdLCAiZ2VvbWV0cnkiOiB7ImNvb3JkaW5hdGVzIjogWy03My43MDQ0Njc4LCA0MC42Mzc2NTI2XSwgInR5cGUiOiAiUG9pbnQifSwgImlkIjogIjI1NyIsICJwcm9wZXJ0aWVzIjogeyJoaWdobGlnaHQiOiB7fSwgInN0eWxlIjoge319LCAidHlwZSI6ICJGZWF0dXJlIn0sIHsiYmJveCI6IFstNzMuNjQxMDk2NiwgNDAuNjIzODM4NSwgLTczLjY0MTA5NjYsIDQwLjYyMzgzODVdLCAiZ2VvbWV0cnkiOiB7ImNvb3JkaW5hdGVzIjogWy03My42NDEwOTY2LCA0MC42MjM4Mzg1XSwgInR5cGUiOiAiUG9pbnQifSwgImlkIjogIjI1OCIsICJwcm9wZXJ0aWVzIjogeyJoaWdobGlnaHQiOiB7fSwgInN0eWxlIjoge319LCAidHlwZSI6ICJGZWF0dXJlIn0sIHsiYmJveCI6IFstNzMuNjc1MDYwNSwgNDAuNjU1OTE3MSwgLTczLjY3NTA2MDUsIDQwLjY1NTkxNzFdLCAiZ2VvbWV0cnkiOiB7ImNvb3JkaW5hdGVzIjogWy03My42NzUwNjA1LCA0MC42NTU5MTcxXSwgInR5cGUiOiAiUG9pbnQifSwgImlkIjogIjI1OSIsICJwcm9wZXJ0aWVzIjogeyJoaWdobGlnaHQiOiB7fSwgInN0eWxlIjoge319LCAidHlwZSI6ICJGZWF0dXJlIn0sIHsiYmJveCI6IFstNzMuNjExNjUxOCwgNDAuNzM2OTIsIC03My42MTE2NTE4LCA0MC43MzY5Ml0sICJnZW9tZXRyeSI6IHsiY29vcmRpbmF0ZXMiOiBbLTczLjYxMTY1MTgsIDQwLjczNjkyXSwgInR5cGUiOiAiUG9pbnQifSwgImlkIjogIjI2MCIsICJwcm9wZXJ0aWVzIjogeyJoaWdobGlnaHQiOiB7fSwgInN0eWxlIjoge319LCAidHlwZSI6ICJGZWF0dXJlIn0sIHsiYmJveCI6IFstNzMuOTczNDIwOCwgNDAuNzQzMDI5NCwgLTczLjk3MzQyMDgsIDQwLjc0MzAyOTRdLCAiZ2VvbWV0cnkiOiB7ImNvb3JkaW5hdGVzIjogWy03My45NzM0MjA4LCA0MC43NDMwMjk0XSwgInR5cGUiOiAiUG9pbnQifSwgImlkIjogIjI2MSIsICJwcm9wZXJ0aWVzIjogeyJoaWdobGlnaHQiOiB7fSwgInN0eWxlIjoge319LCAidHlwZSI6ICJGZWF0dXJlIn0sIHsiYmJveCI6IFstNzMuOTk0MjA2OSwgNDAuNzE2NzQ5LCAtNzMuOTk0MjA2OSwgNDAuNzE2NzQ5XSwgImdlb21ldHJ5IjogeyJjb29yZGluYXRlcyI6IFstNzMuOTk0MjA2OSwgNDAuNzE2NzQ5XSwgInR5cGUiOiAiUG9pbnQifSwgImlkIjogIjI2MiIsICJwcm9wZXJ0aWVzIjogeyJoaWdobGlnaHQiOiB7fSwgInN0eWxlIjoge319LCAidHlwZSI6ICJGZWF0dXJlIn0sIHsiYmJveCI6IFstNzMuNjI0Nzc4MiwgNDAuNzEyMDEyLCAtNzMuNjI0Nzc4MiwgNDAuNzEyMDEyXSwgImdlb21ldHJ5IjogeyJjb29yZGluYXRlcyI6IFstNzMuNjI0Nzc4MiwgNDAuNzEyMDEyXSwgInR5cGUiOiAiUG9pbnQifSwgImlkIjogIjI2MyIsICJwcm9wZXJ0aWVzIjogeyJoaWdobGlnaHQiOiB7fSwgInN0eWxlIjoge319LCAidHlwZSI6ICJGZWF0dXJlIn0sIHsiYmJveCI6IFstNzMuNzI5OTcxMywgNDAuOTQ1MjUxMSwgLTczLjcyOTk3MTMsIDQwLjk0NTI1MTFdLCAiZ2VvbWV0cnkiOiB7ImNvb3JkaW5hdGVzIjogWy03My43Mjk5NzEzLCA0MC45NDUyNTExXSwgInR5cGUiOiAiUG9pbnQifSwgImlkIjogIjI2NCIsICJwcm9wZXJ0aWVzIjogeyJoaWdobGlnaHQiOiB7fSwgInN0eWxlIjoge319LCAidHlwZSI6ICJGZWF0dXJlIn0sIHsiYmJveCI6IFstNzMuNzc5MDkzNCwgNDAuNjQyOTkxNCwgLTczLjc3OTA5MzQsIDQwLjY0Mjk5MTRdLCAiZ2VvbWV0cnkiOiB7ImNvb3JkaW5hdGVzIjogWy03My43NzkwOTM0LCA0MC42NDI5OTE0XSwgInR5cGUiOiAiUG9pbnQifSwgImlkIjogIjI2NSIsICJwcm9wZXJ0aWVzIjogeyJoaWdobGlnaHQiOiB7fSwgInN0eWxlIjoge319LCAidHlwZSI6ICJGZWF0dXJlIn0sIHsiYmJveCI6IFstNzMuNzc4OTM1MywgNDAuNjQzMTgxOCwgLTczLjc3ODkzNTMsIDQwLjY0MzE4MThdLCAiZ2VvbWV0cnkiOiB7ImNvb3JkaW5hdGVzIjogWy03My43Nzg5MzUzLCA0MC42NDMxODE4XSwgInR5cGUiOiAiUG9pbnQifSwgImlkIjogIjI2NiIsICJwcm9wZXJ0aWVzIjogeyJoaWdobGlnaHQiOiB7fSwgInN0eWxlIjoge319LCAidHlwZSI6ICJGZWF0dXJlIn0sIHsiYmJveCI6IFstNzMuOTcyMzQ4NiwgNDAuNjU4NDM1LCAtNzMuOTcyMzQ4NiwgNDAuNjU4NDM1XSwgImdlb21ldHJ5IjogeyJjb29yZGluYXRlcyI6IFstNzMuOTcyMzQ4NiwgNDAuNjU4NDM1XSwgInR5cGUiOiAiUG9pbnQifSwgImlkIjogIjI2NyIsICJwcm9wZXJ0aWVzIjogeyJoaWdobGlnaHQiOiB7fSwgInN0eWxlIjoge319LCAidHlwZSI6ICJGZWF0dXJlIn0sIHsiYmJveCI6IFstNzMuOTc1NTc4NSwgNDAuNjYwMzcyMiwgLTczLjk3NTU3ODUsIDQwLjY2MDM3MjJdLCAiZ2VvbWV0cnkiOiB7ImNvb3JkaW5hdGVzIjogWy03My45NzU1Nzg1LCA0MC42NjAzNzIyXSwgInR5cGUiOiAiUG9pbnQifSwgImlkIjogIjI2OCIsICJwcm9wZXJ0aWVzIjogeyJoaWdobGlnaHQiOiB7fSwgInN0eWxlIjoge319LCAidHlwZSI6ICJGZWF0dXJlIn0sIHsiYmJveCI6IFstNzMuOTgyMzI2NywgNDAuNjQ3MzIxOCwgLTczLjk4MjMyNjcsIDQwLjY0NzMyMThdLCAiZ2VvbWV0cnkiOiB7ImNvb3JkaW5hdGVzIjogWy03My45ODIzMjY3LCA0MC42NDczMjE4XSwgInR5cGUiOiAiUG9pbnQifSwgImlkIjogIjI2OSIsICJwcm9wZXJ0aWVzIjogeyJoaWdobGlnaHQiOiB7fSwgInN0eWxlIjoge319LCAidHlwZSI6ICJGZWF0dXJlIn0sIHsiYmJveCI6IFstNzMuODczNzg5MiwgNDAuOTA3ODM4NiwgLTczLjg3Mzc4OTIsIDQwLjkwNzgzODZdLCAiZ2VvbWV0cnkiOiB7ImNvb3JkaW5hdGVzIjogWy03My44NzM3ODkyLCA0MC45MDc4Mzg2XSwgInR5cGUiOiAiUG9pbnQifSwgImlkIjogIjI3MCIsICJwcm9wZXJ0aWVzIjogeyJoaWdobGlnaHQiOiB7fSwgInN0eWxlIjoge319LCAidHlwZSI6ICJGZWF0dXJlIn0sIHsiYmJveCI6IFstNzQuMDAzMjE4MywgNDAuNzYwNjExNCwgLTc0LjAwMzIxODMsIDQwLjc2MDYxMTRdLCAiZ2VvbWV0cnkiOiB7ImNvb3JkaW5hdGVzIjogWy03NC4wMDMyMTgzLCA0MC43NjA2MTE0XSwgInR5cGUiOiAiUG9pbnQifSwgImlkIjogIjI3MSIsICJwcm9wZXJ0aWVzIjogeyJoaWdobGlnaHQiOiB7fSwgInN0eWxlIjoge319LCAidHlwZSI6ICJGZWF0dXJlIn0sIHsiYmJveCI6IFstNzMuOTcyMTg4OCwgNDAuNjU0MjA5LCAtNzMuOTcyMTg4OCwgNDAuNjU0MjA5XSwgImdlb21ldHJ5IjogeyJjb29yZGluYXRlcyI6IFstNzMuOTcyMTg4OCwgNDAuNjU0MjA5XSwgInR5cGUiOiAiUG9pbnQifSwgImlkIjogIjI3MiIsICJwcm9wZXJ0aWVzIjogeyJoaWdobGlnaHQiOiB7fSwgInN0eWxlIjoge319LCAidHlwZSI6ICJGZWF0dXJlIn0sIHsiYmJveCI6IFstNzMuOTY1NTQ4NCwgNDAuNjYwMTY3OCwgLTczLjk2NTU0ODQsIDQwLjY2MDE2NzhdLCAiZ2VvbWV0cnkiOiB7ImNvb3JkaW5hdGVzIjogWy03My45NjU1NDg0LCA0MC42NjAxNjc4XSwgInR5cGUiOiAiUG9pbnQifSwgImlkIjogIjI3MyIsICJwcm9wZXJ0aWVzIjogeyJoaWdobGlnaHQiOiB7fSwgInN0eWxlIjoge319LCAidHlwZSI6ICJGZWF0dXJlIn0sIHsiYmJveCI6IFstNzMuOTc2ODM1MywgNDAuNjY0MDM2OCwgLTczLjk3NjgzNTMsIDQwLjY2NDAzNjhdLCAiZ2VvbWV0cnkiOiB7ImNvb3JkaW5hdGVzIjogWy03My45NzY4MzUzLCA0MC42NjQwMzY4XSwgInR5cGUiOiAiUG9pbnQifSwgImlkIjogIjI3NCIsICJwcm9wZXJ0aWVzIjogeyJoaWdobGlnaHQiOiB7fSwgInN0eWxlIjoge319LCAidHlwZSI6ICJGZWF0dXJlIn0sIHsiYmJveCI6IFstNzMuOTY5MjEzMSwgNDAuNjY4NTE1MSwgLTczLjk2OTIxMzEsIDQwLjY2ODUxNTFdLCAiZ2VvbWV0cnkiOiB7ImNvb3JkaW5hdGVzIjogWy03My45NjkyMTMxLCA0MC42Njg1MTUxXSwgInR5cGUiOiAiUG9pbnQifSwgImlkIjogIjI3NSIsICJwcm9wZXJ0aWVzIjogeyJoaWdobGlnaHQiOiB7fSwgInN0eWxlIjoge319LCAidHlwZSI6ICJGZWF0dXJlIn0sIHsiYmJveCI6IFstNzMuOTcxNDAyNSwgNDAuNjUxOTcxOSwgLTczLjk3MTQwMjUsIDQwLjY1MTk3MTldLCAiZ2VvbWV0cnkiOiB7ImNvb3JkaW5hdGVzIjogWy03My45NzE0MDI1LCA0MC42NTE5NzE5XSwgInR5cGUiOiAiUG9pbnQifSwgImlkIjogIjI3NiIsICJwcm9wZXJ0aWVzIjogeyJoaWdobGlnaHQiOiB7fSwgInN0eWxlIjoge319LCAidHlwZSI6ICJGZWF0dXJlIn0sIHsiYmJveCI6IFstNzMuOTc3NDc5MiwgNDAuNjYzMzA5NiwgLTczLjk3NzQ3OTIsIDQwLjY2MzMwOTZdLCAiZ2VvbWV0cnkiOiB7ImNvb3JkaW5hdGVzIjogWy03My45Nzc0NzkyLCA0MC42NjMzMDk2XSwgInR5cGUiOiAiUG9pbnQifSwgImlkIjogIjI3NyIsICJwcm9wZXJ0aWVzIjogeyJoaWdobGlnaHQiOiB7fSwgInN0eWxlIjoge319LCAidHlwZSI6ICJGZWF0dXJlIn0sIHsiYmJveCI6IFstNzQuMDE2NzI0LCA0MC42OTMwODAyLCAtNzQuMDE2NzI0LCA0MC42OTMwODAyXSwgImdlb21ldHJ5IjogeyJjb29yZGluYXRlcyI6IFstNzQuMDE2NzI0LCA0MC42OTMwODAyXSwgInR5cGUiOiAiUG9pbnQifSwgImlkIjogIjI3OCIsICJwcm9wZXJ0aWVzIjogeyJoaWdobGlnaHQiOiB7fSwgInN0eWxlIjoge319LCAidHlwZSI6ICJGZWF0dXJlIn0sIHsiYmJveCI6IFstNzMuNzgyNTkwNSwgNDAuNjQ5MzczMiwgLTczLjc4MjU5MDUsIDQwLjY0OTM3MzJdLCAiZ2VvbWV0cnkiOiB7ImNvb3JkaW5hdGVzIjogWy03My43ODI1OTA1LCA0MC42NDkzNzMyXSwgInR5cGUiOiAiUG9pbnQifSwgImlkIjogIjI3OSIsICJwcm9wZXJ0aWVzIjogeyJoaWdobGlnaHQiOiB7fSwgInN0eWxlIjoge319LCAidHlwZSI6ICJGZWF0dXJlIn0sIHsiYmJveCI6IFstNzQuMTY2NTUyOSwgNDAuNTgyNTAxMywgLTc0LjE2NjU1MjksIDQwLjU4MjUwMTNdLCAiZ2VvbWV0cnkiOiB7ImNvb3JkaW5hdGVzIjogWy03NC4xNjY1NTI5LCA0MC41ODI1MDEzXSwgInR5cGUiOiAiUG9pbnQifSwgImlkIjogIjI4MCIsICJwcm9wZXJ0aWVzIjogeyJoaWdobGlnaHQiOiB7fSwgInN0eWxlIjoge319LCAidHlwZSI6ICJGZWF0dXJlIn0sIHsiYmJveCI6IFstNzMuNzI2MTYzNCwgNDAuNzg3Mzg3MywgLTczLjcyNjE2MzQsIDQwLjc4NzM4NzNdLCAiZ2VvbWV0cnkiOiB7ImNvb3JkaW5hdGVzIjogWy03My43MjYxNjM0LCA0MC43ODczODczXSwgInR5cGUiOiAiUG9pbnQifSwgImlkIjogIjI4MSIsICJwcm9wZXJ0aWVzIjogeyJoaWdobGlnaHQiOiB7fSwgInN0eWxlIjoge319LCAidHlwZSI6ICJGZWF0dXJlIn0sIHsiYmJveCI6IFstNzMuOTY1NjU3LCA0MC44MTEzMjI2LCAtNzMuOTY1NjU3LCA0MC44MTEzMjI2XSwgImdlb21ldHJ5IjogeyJjb29yZGluYXRlcyI6IFstNzMuOTY1NjU3LCA0MC44MTEzMjI2XSwgInR5cGUiOiAiUG9pbnQifSwgImlkIjogIjI4MiIsICJwcm9wZXJ0aWVzIjogeyJoaWdobGlnaHQiOiB7fSwgInN0eWxlIjoge319LCAidHlwZSI6ICJGZWF0dXJlIn0sIHsiYmJveCI6IFstNzMuODYzOTAzNywgNDAuNzcwNDgxLCAtNzMuODYzOTAzNywgNDAuNzcwNDgxXSwgImdlb21ldHJ5IjogeyJjb29yZGluYXRlcyI6IFstNzMuODYzOTAzNywgNDAuNzcwNDgxXSwgInR5cGUiOiAiUG9pbnQifSwgImlkIjogIjI4MyIsICJwcm9wZXJ0aWVzIjogeyJoaWdobGlnaHQiOiB7fSwgInN0eWxlIjoge319LCAidHlwZSI6ICJGZWF0dXJlIn0sIHsiYmJveCI6IFstNzMuODY1NzUyOSwgNDAuNzcxNzMzNywgLTczLjg2NTc1MjksIDQwLjc3MTczMzddLCAiZ2VvbWV0cnkiOiB7ImNvb3JkaW5hdGVzIjogWy03My44NjU3NTI5LCA0MC43NzE3MzM3XSwgInR5cGUiOiAiUG9pbnQifSwgImlkIjogIjI4NCIsICJwcm9wZXJ0aWVzIjogeyJoaWdobGlnaHQiOiB7fSwgInN0eWxlIjoge319LCAidHlwZSI6ICJGZWF0dXJlIn0sIHsiYmJveCI6IFstNzMuODYxNzAyNCwgNDAuNzY5NDI4OSwgLTczLjg2MTcwMjQsIDQwLjc2OTQyODldLCAiZ2VvbWV0cnkiOiB7ImNvb3JkaW5hdGVzIjogWy03My44NjE3MDI0LCA0MC43Njk0Mjg5XSwgInR5cGUiOiAiUG9pbnQifSwgImlkIjogIjI4NSIsICJwcm9wZXJ0aWVzIjogeyJoaWdobGlnaHQiOiB7fSwgInN0eWxlIjoge319LCAidHlwZSI6ICJGZWF0dXJlIn0sIHsiYmJveCI6IFstNzMuODYxNDIxMiwgNDAuNzY4NjY1OSwgLTczLjg2MTQyMTIsIDQwLjc2ODY2NTldLCAiZ2VvbWV0cnkiOiB7ImNvb3JkaW5hdGVzIjogWy03My44NjE0MjEyLCA0MC43Njg2NjU5XSwgInR5cGUiOiAiUG9pbnQifSwgImlkIjogIjI4NiIsICJwcm9wZXJ0aWVzIjogeyJoaWdobGlnaHQiOiB7fSwgInN0eWxlIjoge319LCAidHlwZSI6ICJGZWF0dXJlIn0sIHsiYmJveCI6IFstNzMuODYzODI1OSwgNDAuNzcwNTM5MiwgLTczLjg2MzgyNTksIDQwLjc3MDUzOTJdLCAiZ2VvbWV0cnkiOiB7ImNvb3JkaW5hdGVzIjogWy03My44NjM4MjU5LCA0MC43NzA1MzkyXSwgInR5cGUiOiAiUG9pbnQifSwgImlkIjogIjI4NyIsICJwcm9wZXJ0aWVzIjogeyJoaWdobGlnaHQiOiB7fSwgInN0eWxlIjoge319LCAidHlwZSI6ICJGZWF0dXJlIn0sIHsiYmJveCI6IFstNzMuNjMxMTU1NSwgNDAuNTg1NDA5LCAtNzMuNjMxMTU1NSwgNDAuNTg1NDA5XSwgImdlb21ldHJ5IjogeyJjb29yZGluYXRlcyI6IFstNzMuNjMxMTU1NSwgNDAuNTg1NDA5XSwgInR5cGUiOiAiUG9pbnQifSwgImlkIjogIjI4OCIsICJwcm9wZXJ0aWVzIjogeyJoaWdobGlnaHQiOiB7fSwgInN0eWxlIjoge319LCAidHlwZSI6ICJGZWF0dXJlIn0sIHsiYmJveCI6IFstNzMuNjU1NDIxMSwgNDAuNjAwNDIwOCwgLTczLjY1NTQyMTEsIDQwLjYwMDQyMDhdLCAiZ2VvbWV0cnkiOiB7ImNvb3JkaW5hdGVzIjogWy03My42NTU0MjExLCA0MC42MDA0MjA4XSwgInR5cGUiOiAiUG9pbnQifSwgImlkIjogIjI4OSIsICJwcm9wZXJ0aWVzIjogeyJoaWdobGlnaHQiOiB7fSwgInN0eWxlIjoge319LCAidHlwZSI6ICJGZWF0dXJlIn0sIHsiYmJveCI6IFstNzMuODM1MjE3NSwgNDAuNzUyNDE0NiwgLTczLjgzNTIxNzUsIDQwLjc1MjQxNDZdLCAiZ2VvbWV0cnkiOiB7ImNvb3JkaW5hdGVzIjogWy03My44MzUyMTc1LCA0MC43NTI0MTQ2XSwgInR5cGUiOiAiUG9pbnQifSwgImlkIjogIjI5MCIsICJwcm9wZXJ0aWVzIjogeyJoaWdobGlnaHQiOiB7fSwgInN0eWxlIjoge319LCAidHlwZSI6ICJGZWF0dXJlIn0sIHsiYmJveCI6IFstNzQuMDE4Mzk3OCwgNDAuNzA1MjIyNywgLTc0LjAxODM5NzgsIDQwLjcwNTIyMjddLCAiZ2VvbWV0cnkiOiB7ImNvb3JkaW5hdGVzIjogWy03NC4wMTgzOTc4LCA0MC43MDUyMjI3XSwgInR5cGUiOiAiUG9pbnQifSwgImlkIjogIjI5MSIsICJwcm9wZXJ0aWVzIjogeyJoaWdobGlnaHQiOiB7fSwgInN0eWxlIjoge319LCAidHlwZSI6ICJGZWF0dXJlIn0sIHsiYmJveCI6IFstNzMuNjg0MDUxNSwgNDAuNzM3ODM5OSwgLTczLjY4NDA1MTUsIDQwLjczNzgzOTldLCAiZ2VvbWV0cnkiOiB7ImNvb3JkaW5hdGVzIjogWy03My42ODQwNTE1LCA0MC43Mzc4Mzk5XSwgInR5cGUiOiAiUG9pbnQifSwgImlkIjogIjI5MiIsICJwcm9wZXJ0aWVzIjogeyJoaWdobGlnaHQiOiB7fSwgInN0eWxlIjoge319LCAidHlwZSI6ICJGZWF0dXJlIn0sIHsiYmJveCI6IFstNzMuNzc3Nzk0OCwgNDAuNjQ1OTIzNywgLTczLjc3Nzc5NDgsIDQwLjY0NTkyMzddLCAiZ2VvbWV0cnkiOiB7ImNvb3JkaW5hdGVzIjogWy03My43Nzc3OTQ4LCA0MC42NDU5MjM3XSwgInR5cGUiOiAiUG9pbnQifSwgImlkIjogIjI5MyIsICJwcm9wZXJ0aWVzIjogeyJoaWdobGlnaHQiOiB7fSwgInN0eWxlIjoge319LCAidHlwZSI6ICJGZWF0dXJlIn0sIHsiYmJveCI6IFstNzMuNzc3NzY1LCA0MC42NDU2MTc5LCAtNzMuNzc3NzY1LCA0MC42NDU2MTc5XSwgImdlb21ldHJ5IjogeyJjb29yZGluYXRlcyI6IFstNzMuNzc3NzY1LCA0MC42NDU2MTc5XSwgInR5cGUiOiAiUG9pbnQifSwgImlkIjogIjI5NCIsICJwcm9wZXJ0aWVzIjogeyJoaWdobGlnaHQiOiB7fSwgInN0eWxlIjoge319LCAidHlwZSI6ICJGZWF0dXJlIn0sIHsiYmJveCI6IFstNzMuNzkwNjM2NCwgNDAuNjQzNzA4NCwgLTczLjc5MDYzNjQsIDQwLjY0MzcwODRdLCAiZ2VvbWV0cnkiOiB7ImNvb3JkaW5hdGVzIjogWy03My43OTA2MzY0LCA0MC42NDM3MDg0XSwgInR5cGUiOiAiUG9pbnQifSwgImlkIjogIjI5NSIsICJwcm9wZXJ0aWVzIjogeyJoaWdobGlnaHQiOiB7fSwgInN0eWxlIjoge319LCAidHlwZSI6ICJGZWF0dXJlIn0sIHsiYmJveCI6IFstNzMuNzg5ODE3NiwgNDAuNjQyNjk5NiwgLTczLjc4OTgxNzYsIDQwLjY0MjY5OTZdLCAiZ2VvbWV0cnkiOiB7ImNvb3JkaW5hdGVzIjogWy03My43ODk4MTc2LCA0MC42NDI2OTk2XSwgInR5cGUiOiAiUG9pbnQifSwgImlkIjogIjI5NiIsICJwcm9wZXJ0aWVzIjogeyJoaWdobGlnaHQiOiB7fSwgInN0eWxlIjoge319LCAidHlwZSI6ICJGZWF0dXJlIn0sIHsiYmJveCI6IFstNzMuNjcxMzUsIDQwLjY2NTkyMjUsIC03My42NzEzNSwgNDAuNjY1OTIyNV0sICJnZW9tZXRyeSI6IHsiY29vcmRpbmF0ZXMiOiBbLTczLjY3MTM1LCA0MC42NjU5MjI1XSwgInR5cGUiOiAiUG9pbnQifSwgImlkIjogIjI5NyIsICJwcm9wZXJ0aWVzIjogeyJoaWdobGlnaHQiOiB7fSwgInN0eWxlIjoge319LCAidHlwZSI6ICJGZWF0dXJlIn0sIHsiYmJveCI6IFstNzMuNjI0NDU2MSwgNDAuNzExNDgzNCwgLTczLjYyNDQ1NjEsIDQwLjcxMTQ4MzRdLCAiZ2VvbWV0cnkiOiB7ImNvb3JkaW5hdGVzIjogWy03My42MjQ0NTYxLCA0MC43MTE0ODM0XSwgInR5cGUiOiAiUG9pbnQifSwgImlkIjogIjI5OCIsICJwcm9wZXJ0aWVzIjogeyJoaWdobGlnaHQiOiB7fSwgInN0eWxlIjoge319LCAidHlwZSI6ICJGZWF0dXJlIn0sIHsiYmJveCI6IFstNzMuNjI0NjE4MSwgNDAuNzExNDM2OCwgLTczLjYyNDYxODEsIDQwLjcxMTQzNjhdLCAiZ2VvbWV0cnkiOiB7ImNvb3JkaW5hdGVzIjogWy03My42MjQ2MTgxLCA0MC43MTE0MzY4XSwgInR5cGUiOiAiUG9pbnQifSwgImlkIjogIjI5OSIsICJwcm9wZXJ0aWVzIjogeyJoaWdobGlnaHQiOiB7fSwgInN0eWxlIjoge319LCAidHlwZSI6ICJGZWF0dXJlIn0sIHsiYmJveCI6IFstNzMuODU5MDgwMywgNDAuNzY4MTA2OCwgLTczLjg1OTA4MDMsIDQwLjc2ODEwNjhdLCAiZ2VvbWV0cnkiOiB7ImNvb3JkaW5hdGVzIjogWy03My44NTkwODAzLCA0MC43NjgxMDY4XSwgInR5cGUiOiAiUG9pbnQifSwgImlkIjogIjMwMCIsICJwcm9wZXJ0aWVzIjogeyJoaWdobGlnaHQiOiB7fSwgInN0eWxlIjoge319LCAidHlwZSI6ICJGZWF0dXJlIn0sIHsiYmJveCI6IFstNzMuODYwMTI1MiwgNDAuNzY3NDgzMSwgLTczLjg2MDEyNTIsIDQwLjc2NzQ4MzFdLCAiZ2VvbWV0cnkiOiB7ImNvb3JkaW5hdGVzIjogWy03My44NjAxMjUyLCA0MC43Njc0ODMxXSwgInR5cGUiOiAiUG9pbnQifSwgImlkIjogIjMwMSIsICJwcm9wZXJ0aWVzIjogeyJoaWdobGlnaHQiOiB7fSwgInN0eWxlIjoge319LCAidHlwZSI6ICJGZWF0dXJlIn1dLCAidHlwZSI6ICJGZWF0dXJlQ29sbGVjdGlvbiJ9CiAgICAgICAgICAgIAogICAgICAgICAgICApLmFkZFRvKG1hcmtlcl9jbHVzdGVyXzAwNjJiODU1NzRlYTQyZGU5ZWQ1MzQyYzhkMTI2YmZjKTsKICAgICAgICBnZW9fanNvbl83N2I5NjlmNDU4YzU0ZGY5OGVmMzUzMzNiYzdiNDExYy5zZXRTdHlsZShmdW5jdGlvbihmZWF0dXJlKSB7cmV0dXJuIGZlYXR1cmUucHJvcGVydGllcy5zdHlsZTt9KTsKICAgICAgICAKPC9zY3JpcHQ+\" style=\"position:absolute;width:100%;height:100%;left:0;top:0;border:none !important;\" allowfullscreen webkitallowfullscreen mozallowfullscreen></iframe></div></div>"
      ],
      "text/plain": [
       "<folium.folium.Map at 0x7fc7dc79be80>"
      ]
     },
     "execution_count": 66,
     "metadata": {},
     "output_type": "execute_result"
    }
   ],
   "source": [
    "init_time = time.time()\n",
    "PBF_PATH = 'data/new_york_city.osm.pbf'\n",
    "test_pyosmium = TestPyosmium(PBF_PATH, amenity_name='toilets')\n",
    "print(f'Execution time: {(time.time() - init_time)/60} minutes')\n",
    "\n",
    "plot_geometry(test_pyosmium.df['geometry'], marker_cluster=True)"
   ]
  },
  {
   "cell_type": "markdown",
   "metadata": {},
   "source": [
    "# Things I'd like to cover if we had infinite workshop time\n",
    "\n",
    "- **Spatial Statistics and pysal**  \n",
    "- **GPS Traces database, cleaning and processing**  \n",
    "- **Demand Modelling and Demand Prediction**"
   ]
  }
 ],
 "metadata": {
  "colab": {
   "collapsed_sections": [],
   "name": "AMLD_2020.ipynb",
   "provenance": []
  },
  "hide_input": false,
  "kernelspec": {
   "display_name": "Python 3",
   "language": "python",
   "name": "python3"
  },
  "language_info": {
   "codemirror_mode": {
    "name": "ipython",
    "version": 3
   },
   "file_extension": ".py",
   "mimetype": "text/x-python",
   "name": "python",
   "nbconvert_exporter": "python",
   "pygments_lexer": "ipython3",
   "version": "3.6.5"
  },
  "toc": {
   "base_numbering": 1,
   "nav_menu": {},
   "number_sections": true,
   "sideBar": true,
   "skip_h1_title": false,
   "title_cell": "Table of Contents",
   "title_sidebar": "Contents",
   "toc_cell": false,
   "toc_position": {},
   "toc_section_display": true,
   "toc_window_display": false
  }
 },
 "nbformat": 4,
 "nbformat_minor": 1
}
