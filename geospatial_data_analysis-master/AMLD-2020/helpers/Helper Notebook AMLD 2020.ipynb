{
 "cells": [
  {
   "cell_type": "code",
   "execution_count": 1,
   "metadata": {},
   "outputs": [],
   "source": [
    "import pandas as pd\n",
    "import numpy as np\n",
    "import pickle\n"
   ]
  },
  {
   "cell_type": "markdown",
   "metadata": {},
   "source": [
    "# Read process and save sample for testing reasons"
   ]
  },
  {
   "cell_type": "code",
   "execution_count": 2,
   "metadata": {},
   "outputs": [],
   "source": [
    "# constants\n",
    "\n",
    "FILE_NAME = \"train.csv\"\n",
    "SAMPLE_SIZE = 10000000"
   ]
  },
  {
   "cell_type": "code",
   "execution_count": null,
   "metadata": {},
   "outputs": [],
   "source": [
    "# `read_sample` takes ~2 minutes\n",
    "\n",
    "def read_sample(file_name, sample_size=100000):\n",
    "    np.random.seed(42)\n",
    "    n_rows = sum(1 for line in open(file_name)) - 1 #number of records in file (excludes header)\n",
    "    ix = np.array(range(1,n_rows+1))\n",
    "    skip = np.sort(np.random.choice(a=ix, size=n_rows-sample_size, replace=False)) #the 0-indexed header will not be included in the skip list\n",
    "    return pd.read_csv(file_name, skiprows=skip)\n",
    "    \n",
    "def process_df(df):\n",
    "    df2 = df.copy()\n",
    "\n",
    "    # drop not useful key\n",
    "    df2 = df2.drop('key', axis=1)\n",
    "\n",
    "    # convert timestamp from UTC to localtime New York\n",
    "    time_col = pd.to_datetime(df2['pickup_datetime'])\n",
    "    time_col = time_col.dt.tz_localize('utc').dt.tz_convert('America/New_York')\n",
    "    df2['pickup_datetime'] = time_col\n",
    "    \n",
    "    # downcast float precision\n",
    "    numerical_cols = ['fare_amount', 'pickup_longitude', \n",
    "                  'pickup_latitude', 'dropoff_longitude', \n",
    "                  'dropoff_latitude']\n",
    "    df2[numerical_cols] = df2[numerical_cols].apply(pd.to_numeric,downcast='float')\n",
    "    \n",
    "    return df2\n",
    "\n",
    "\n",
    "df = read_sample(file_name=FILE_NAME, sample_size=SAMPLE_SIZE)\n",
    "df = process_df(df)\n",
    "df.head()\n",
    "    "
   ]
  },
  {
   "cell_type": "code",
   "execution_count": null,
   "metadata": {},
   "outputs": [],
   "source": [
    "df.info(memory_usage='deep')"
   ]
  },
  {
   "cell_type": "code",
   "execution_count": null,
   "metadata": {},
   "outputs": [],
   "source": [
    "# save as pickle to keep format\n",
    "\n",
    "# with open('data/sample_100000.csv.pickle', 'wb') as f:\n",
    "#     pickle.dump(df, f)\n",
    "\n",
    "# save as csv\n",
    "df.to_csv(f'data/sample_{SAMPLE_SIZE}.csv', index=False)\n"
   ]
  },
  {
   "cell_type": "code",
   "execution_count": 6,
   "metadata": {},
   "outputs": [],
   "source": [
    "# save as pickle to keep format\n",
    "\n",
    "# with open('data/sample_100000.csv.pickle', 'rb') as f:\n",
    "#     df = pickle.load(f)"
   ]
  },
  {
   "cell_type": "code",
   "execution_count": null,
   "metadata": {},
   "outputs": [],
   "source": []
  }
 ],
 "metadata": {
  "hide_input": false,
  "kernelspec": {
   "display_name": "Python 3",
   "language": "python",
   "name": "python3"
  },
  "language_info": {
   "codemirror_mode": {
    "name": "ipython",
    "version": 3
   },
   "file_extension": ".py",
   "mimetype": "text/x-python",
   "name": "python",
   "nbconvert_exporter": "python",
   "pygments_lexer": "ipython3",
   "version": "3.6.4"
  },
  "toc": {
   "base_numbering": 1,
   "nav_menu": {},
   "number_sections": true,
   "sideBar": true,
   "skip_h1_title": false,
   "title_cell": "Table of Contents",
   "title_sidebar": "Contents",
   "toc_cell": false,
   "toc_position": {},
   "toc_section_display": true,
   "toc_window_display": false
  }
 },
 "nbformat": 4,
 "nbformat_minor": 2
}
