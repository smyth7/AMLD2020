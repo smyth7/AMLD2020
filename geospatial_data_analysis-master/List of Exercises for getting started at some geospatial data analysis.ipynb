{
 "cells": [
  {
   "cell_type": "markdown",
   "metadata": {},
   "source": [
    "# List of Exercises for getting started at some geospatial data analysis\n",
    "\n",
    "Markdown Tips: https://jupyter-notebook.readthedocs.io/en/stable/examples/Notebook/Working%20With%20Markdown%20Cells.html\n",
    "## Intro\n",
    "* What is a Latitude? What is a Longitude?\n",
    "\n",
    "* How does a GPS works? When can the signal becomes bad? Where are the main places of poor GPS signal inside a city?\n",
    "\n",
    "* Go to Google maps, click at some random points to get their lat/lon. Can you plot theses points here in the notebook? Minimum 2. (Take a look at [Folium](https://python-visualization.github.io/folium/quickstart.html))\n",
    "\n",
    "* What is the Haversine Distance? What is the Vincenty distance? What is the difference between them both intuitively? (not mathematically)\n",
    "\n",
    "* Plot a line between two points from before in Folium. Use a pop-up in one of the points to show the Haversine and Vincenty distance between the two points.\n",
    "\n",
    "## General Analysis:\n",
    "\n",
    "Considering [this](https://www.kaggle.com/c/new-york-city-taxi-fare-prediction/) dataset about taxi trips in New York and selecting one month of data (any). \n",
    "* Do we have any problematic data? i.e., that needs preprocessing somehow? (Here's a data analysis [kernel](https://www.kaggle.com/breemen/nyc-taxi-fare-data-exploration) for some examples)\n",
    "* How could you make a rule for trip outliers? (Percentiles? IQR? Geographic boundary?)\n",
    "* What is the average haversine distance for all trips? \n",
    "* Average haversine distance for each day of the week (use pandas groupby) - do **not** use `for` loop's\n",
    "* Considering a price of 1.5 dollars/km, what is the average revenue for each day of the week?\n",
    "* Which day of the week had more revenue?\n",
    "\n",
    "## Data Spatial Aggregation. \n",
    "\n",
    "Take a look at [H3](https://eng.uber.com/h3/) and plot the data into [kepler.gl](https://kepler.gl/). In the map, hexagons with more # of pick-ups should have a different color (heatmap).\n",
    "* What is H3? Why do we need it **when aggregating** data?\n",
    "* Plot 10 drop off hotspots for trips that happened between 07:00 to 10:00 and another map plotting 10 drop off hotspots for trips that happened between 17:00 to 20:00\n",
    "* Can you think a way to find out (approximately) the 3 most popular taxi routes?\n",
    "\n",
    "  \n",
    "## Working with Polygons:\n",
    "\n",
    "Here are the zip codes for NY ([link](https://data.cityofnewyork.us/download/i8iw-xf4u/application%2Fzip)). \n",
    "* Read the file (shapefile format) as a [Geopandas](http://geopandas.org/) dataframe.\n",
    "    * What is Geopandas? What's the difference between Geopandas and Pandas dataframes?\n",
    "* Print the polygons (simple print(df))\n",
    "* Read about [spatial joins](http://geopandas.org/mergingdata.html). What is the purpose of this? \n",
    "    * Perform a spatial join between the set of points in the exercise above (by their pickup location) and their corresponding ZIP codes polygon. The newly Dataframe should have the same number of rows of the previous df but with an extra **column** containing the ZIP code polygon definition.\n",
    "* Count the number of rows per ZIP code polygon. Result Dataframe should be 2 colums: \"ZIP Code Polygon\" and \"Count\".\n",
    "* Import file to Kepler.gl and visualize the polygons and color then by the count of trips  \n",
    "  \n",
    "    \n",
    "* **OPTIONAL**: Geopandas is actually not fast for spatial operations ([Reference](https://matthewrocklin.com/blog/work/2017/09/21/accelerating-geopandas-1)). For that, when working with hundreds of thousands of rows, we can create a spatial index before hand.   \n",
    "You can look at spatial indices such as R-Tree [Ref. 1](http://toblerity.org/rtree/) [Ref. 2](https://geoffboeing.com/2016/10/r-tree-spatial-index-python/) or [Quad-Tree](https://pypi.org/project/smartquadtree/) and mainly [this](https://www.youtube.com/watch?v=_95bSEqMzUA&t=327s) video. Can you explain them? Can you use them with the spatial join above?"
   ]
  },
  {
   "cell_type": "code",
   "execution_count": null,
   "metadata": {},
   "outputs": [],
   "source": []
  },
  {
   "cell_type": "markdown",
   "metadata": {},
   "source": [
    "# Reproducibility. \n",
    "\n",
    "* What is pipenv? What's the difference from a requirements.txt file?\n",
    "* Configure a pipenv file with the packages used until now.  \n",
    "\n",
    "If we need something than a pure `pip install`. Just pipenv won't work. For instance, if you look at [H3 Installation Guide](https://pypi.org/project/h3/), you'll see that it needs some C compilers prepared beforehand. In this case, someone with H3 **and** C compilers not installed wouldn't be able to install it, even with the pipenv. In this case, docker is a even better choice, more complicated though.  \n",
    "\n",
    "* Can you prepare a dockerfile so all installations dependencies are done, not only pip commands? Test: Can you run H3 library in Alex's computer? Pretty sure he doesn't have the C libraries pre-configured!"
   ]
  },
  {
   "cell_type": "code",
   "execution_count": null,
   "metadata": {},
   "outputs": [],
   "source": []
  },
  {
   "cell_type": "markdown",
   "metadata": {},
   "source": [
    "# More features:\n",
    "\n",
    "* Why haversine/vincenty distances are not reliable sources of route distance?\n",
    "\n",
    "## ORSM - Open Router Street Maps\n",
    "\n",
    "- Setting up OSM router (take a look at [this](https://github.com/caiomiyashiro/geospatial_data_analysis/blob/master/ORSM%20Test.ipynb) example)\n",
    "* What're the [API's](http://project-osrm.org/docs/v5.5.1/api/#general-options) main functionalities? Can you explain them? \n",
    "* Using the [Github](https://github.com/caiomiyashiro/geospatial_data_analysis/blob/master/ORSM%20Test.ipynb) example, can you set up a router and predict the route between two points in Berlin?  \n",
    "\n",
    "-------------------\n",
    "-------------------\n",
    "-------------------\n",
    "\n",
    "## Optional Advanced\n",
    "\n",
    "All these operations you've done when [setting the ORSM router](#Setting-up-OSM-router-(take-a-look-at-this-example)) where preparing the OSM pbf file did a lot of operations behind the scenes. \n",
    "* Can you have an idea of what is happening ([Hint](https://github.com/Project-OSRM/osrm-backend/wiki/Graph-representation))? If we consider the city street map as a graph, what are the Vertices and what are the edges?\n",
    "* What are the weights of the edges ([Hint](https://github.com/Project-OSRM/osrm-backend/blob/master/docs/profiles.md))? What would be the weights if we wanted **fastest** route? And when we wanted the **shortest**?\n",
    "* How is the route between two points found? How do they work (overview)? Note: it's a classical graph search algorithm, nothing fancy, at least on theory\n",
    "\n",
    "## Optional Advanced II\n",
    "\n",
    "GPS traces in FreeNow are a bit messy. Some points are really wrong because of poor GPS signal. If we want to associate a point to a street in the street network, we need to do an operation called \"Map-Matching\"\n",
    "* Read a little about it on [this](https://www.microsoft.com/en-us/research/wp-content/uploads/2016/12/map-matching-ACM-GIS-camera-ready.pdf) paper and in [this](https://www.youtube.com/watch?v=ChtumoDfZXI) Uber talk. Don't get stuck on the heavy mathematics\n",
    "* Can you understand the HMM behind it? Actually, what is the difference between a Markov model and a **hidden** markov model? Hint and self advertisement, check my [notebook on HMM](https://github.com/caiomiyashiro/music_and_science/blob/master/Chord%20Recognition/Pydata%20-%20Hidden%20Markov%20Models%20for%20Chord%20Recognition.ipynb) :D \n",
    "    * Considering the necessary matrices needed to build a HMM: What would be the **transition probability matrix** in the map matching case? What would be the **Emission Probabilities**? How the emission probabilities would be calculated?\n",
    "\n",
    "## Advanced-Advanced\n",
    "\n",
    "Map Matching algorithms snaps close-by points to the street. However, sometimes, we have really far away points from each other. In this case scenario, we have created some custom filters:\n",
    "If speed between two GPS points is > X Km/h, we assume it's a wrong point and delete it. It's fast and efficient, but we might be missing to detect other more subtle outliers. I think a suitable case here to be data driven is to use [Kalman Filters](http://www.anuncommonlab.com/articles/how-kalman-filters-work/) so we don't have to define God constants in the filtering, *i.e.*, if distance bigger than random number, like 10 km, then outlier.  \n",
    "* Can you briefly explain how Kalman Filters work? \n",
    "* How could they be applicable to GPS treatment?  \n",
    "**If you figure this out, please explain to us because I don't know as well!**"
   ]
  },
  {
   "cell_type": "code",
   "execution_count": null,
   "metadata": {},
   "outputs": [],
   "source": []
  },
  {
   "cell_type": "markdown",
   "metadata": {},
   "source": [
    "# Random thoughts\n",
    "\n",
    "## Have you seen interesting applications for NLP in the mobility sector? Could you add random potentials thoughts that you've seen?\n",
    "* Simple word count --> What are the main complains this week? Topic or word count, together with average emotion (usually negative because people don't go to the internet to review small things they liked usually)\n",
    "\n",
    "* What are cool thinks (paper, process, tool, etc...) that you think that it could bring value to the team in general?"
   ]
  },
  {
   "cell_type": "code",
   "execution_count": null,
   "metadata": {},
   "outputs": [],
   "source": []
  }
 ],
 "metadata": {
  "hide_input": false,
  "kernelspec": {
   "display_name": "Python 3",
   "language": "python",
   "name": "python3"
  },
  "language_info": {
   "codemirror_mode": {
    "name": "ipython",
    "version": 3
   },
   "file_extension": ".py",
   "mimetype": "text/x-python",
   "name": "python",
   "nbconvert_exporter": "python",
   "pygments_lexer": "ipython3",
   "version": "3.6.4"
  },
  "toc": {
   "base_numbering": 1,
   "nav_menu": {},
   "number_sections": true,
   "sideBar": true,
   "skip_h1_title": false,
   "title_cell": "Table of Contents",
   "title_sidebar": "Contents",
   "toc_cell": false,
   "toc_position": {},
   "toc_section_display": true,
   "toc_window_display": false
  }
 },
 "nbformat": 4,
 "nbformat_minor": 2
}
