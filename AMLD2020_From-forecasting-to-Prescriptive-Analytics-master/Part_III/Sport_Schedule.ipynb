{
 "cells": [
  {
   "cell_type": "markdown",
   "metadata": {},
   "source": [
    "## Sport calendar Optimization:\n",
    "    \n",
    "We have to setup the ***best*** calendar for an international sport federation with the following rules:\n",
    "    1. there are 9 Teams coming from 9 locations all over the world\n",
    "    2. the tournament is divided in 4 consecutive Weekends.\n",
    "    3. Each round consists in 3 Groups of 3 Teams, and each Group takes place in one of the home-location of the 3 partecipants\n",
    "    4. In the tournament, each team will play against all the other teams excatly once in the 4 Weekends (two teams will attend the same group excatly once)\n",
    "    5. Between Weekends, all Teams will fly directy from the current location to the next one (no back home)\n",
    "    6. Each Team must host at least one group\n",
    "    7. For each potential group location and for each turn, a forecast of potential spectators is provided\n",
    "    \n",
    "    x. Find the best calendar which, at the same time, minimizes the total travelled distance by the players and maximizes the forecasted spectators\n"
   ]
  },
  {
   "cell_type": "markdown",
   "metadata": {},
   "source": [
    "\n",
    "### Sets\n",
    "\n",
    "\n",
    "\\begin{align}\n",
    "& \\text{Locations}  &L &  & & \\forall l \\in L \\\\\n",
    "& \\text{Teams}  &T &  & &\\forall t \\in T \\\\\n",
    "& \\text{Weekend} &W  &  & &\\forall w \\in W\\\\\n",
    "&\\text{Groups}  &G  &  & &\\forall g \\in G\\\\  \n",
    "\\end{align}\n",
    "### Parameters\n",
    "\\begin{align}\n",
    "& \\text{Distance matrix} & D_{ll'} & &  & & \\forall l,l' \\in L\\\\\n",
    "& \\text{Expected fans per Weekend in each location} & F_{lw}  & &  & & \\forall l \\in L, w \\in W\\\\\n",
    "& \\text{Team <> Location map} & M_{tl}  & &  & & \\forall t \\in T, l \\in L\\\\\n",
    "&  \\text{Weight parameter} & P    & & & &\n",
    "\\end{align}\n",
    "\n",
    "\n",
    "### Variables\n",
    "\\begin{align}\n",
    "& \\text{Team playing in pool (g,w)} & x_{tgw} & \\in \\{0,1\\} &  & & \\forall t \\in T, g \\in G,w \\in W & \\tag{V1} \\\\\n",
    "& \\text{Location hosting pool (g,w)}  & y_{lgw} & \\in \\{0,1\\} & & & \\forall l \\in L, g \\in G,w \\in W & \\tag{V2} \\\\\n",
    "& & & & & & &\\\\\n",
    "& \\text{Flight from $l$ to $l'$ between $w$ and $w+1$} & z_{ll'w} & \\in \\{0,1\\}&  & &\\forall l,l' \\in L, w \\in w & \\tag{V3} \\\\\n",
    "          & & & = \\sum_{g} y_{lgw} * \\sum_{g'} y_{l'g'w+1}  & & &  & & &  & !Achtung!\\triangle\n",
    "\\end{align}\n"
   ]
  },
  {
   "cell_type": "markdown",
   "metadata": {},
   "source": [
    "\n",
    "### Objective\n",
    "\n",
    "\\begin{align}\n",
    "& \\text{ } & \\text{Total Travelled distance} & & E_T  & = & \\sum_{ll'w} D_{ll'} * z_{ll'w} &  \\\\\n",
    "& \\text{ } & \\text{Total Attending Fans} &  & E_F  & = & \\sum_{glw} F_{lw} * y_{lgw} & \\\\\n",
    " & & & &  \\min_{zy}   E_T - P * E_F & \\tag{obj}\n",
    "\\end{align}\n",
    "\n",
    "### Constraints\n",
    "\n",
    "\\begin{align}\n",
    "& \\text{Each player plays in a group each turn} & \\sum_{g} x_{tgw} = 1 & & \\forall t \\in T, w \\in W \\tag{C1}\\\\\n",
    "& \\text{Each group consists of 3 teams each Turn} & \\sum_{p} x_{tgw} = 3 & & \\forall g \\in G, t \\in T \\tag{C2}\\\\\n",
    "& \\text{Any 2 teams can be assinged to the same group once} & x_{tgw} + x_{t'gw} + x_{tg'w'} + x_{t'g'w'}  \\leq 3 & & \\forall t\\neq t' \\in T, g , g' \\in G , w\\neq w' \\in W \\tag{C3} \\\\\n",
    "& \\text{Each group has 1 hosting location} & \\sum_{l} y_{lgw} = 1 & & \\forall g \\in G, w \\in W \\tag{C4}\\\\\n",
    "& \\text{group host location belongs to a Teams of the pool} & \\sum_{p} x_{tgw} * M_{tl} \\geq y_{lgw} & & \\forall l \\in L, g \\in G, w \\in W \\tag{C5} \\\\\n",
    "& \\text{Each team needs to organise at least 1 tournament} & \\sum_{lgw} y_{lgw} * M_{tl} \\geq 1 & & \\forall t \\in T \\tag{C6} \\\\\n",
    "& \\text{Definition of $z$} &  \\begin{cases}\n",
    "                 &z_{ll'w} \\leq \\sum_{g} y_{lgw}    \\\\\n",
    "                 &z_{ll'w} \\leq \\sum_{g} y_{l'g'w+1} \\tag{C7} \\\\\n",
    "                 &z_{ll'w} \\geq \\sum_{g} y_{lgw} + \\sum_{g'} y_{l'g'w+1} - 1\n",
    "    \\end{cases} &\n",
    "\\end{align}"
   ]
  },
  {
   "cell_type": "code",
   "execution_count": null,
   "metadata": {},
   "outputs": [],
   "source": []
  },
  {
   "cell_type": "code",
   "execution_count": null,
   "metadata": {},
   "outputs": [],
   "source": []
  },
  {
   "cell_type": "code",
   "execution_count": 1,
   "metadata": {},
   "outputs": [],
   "source": [
    "import pandas as pd\n",
    "import numpy as np\n",
    "\n",
    "import plotly.express as px"
   ]
  },
  {
   "cell_type": "code",
   "execution_count": 2,
   "metadata": {},
   "outputs": [
    {
     "data": {
      "text/html": [
       "        <script type=\"text/javascript\">\n",
       "        window.PlotlyConfig = {MathJaxConfig: 'local'};\n",
       "        if (window.MathJax) {MathJax.Hub.Config({SVG: {font: \"STIX-Web\"}});}\n",
       "        if (typeof require !== 'undefined') {\n",
       "        require.undef(\"plotly\");\n",
       "        requirejs.config({\n",
       "            paths: {\n",
       "                'plotly': ['https://cdn.plot.ly/plotly-latest.min']\n",
       "            }\n",
       "        });\n",
       "        require(['plotly'], function(Plotly) {\n",
       "            window._Plotly = Plotly;\n",
       "        });\n",
       "        }\n",
       "        </script>\n",
       "        "
      ]
     },
     "metadata": {},
     "output_type": "display_data"
    }
   ],
   "source": [
    "import cufflinks as cf\n",
    "cf.go_offline()"
   ]
  },
  {
   "cell_type": "code",
   "execution_count": 3,
   "metadata": {},
   "outputs": [
    {
     "data": {
      "text/html": [
       "<div>\n",
       "<style scoped>\n",
       "    .dataframe tbody tr th:only-of-type {\n",
       "        vertical-align: middle;\n",
       "    }\n",
       "\n",
       "    .dataframe tbody tr th {\n",
       "        vertical-align: top;\n",
       "    }\n",
       "\n",
       "    .dataframe thead th {\n",
       "        text-align: right;\n",
       "    }\n",
       "</style>\n",
       "<table border=\"1\" class=\"dataframe\">\n",
       "  <thead>\n",
       "    <tr style=\"text-align: right;\">\n",
       "      <th></th>\n",
       "      <th>Country</th>\n",
       "      <th>Location</th>\n",
       "    </tr>\n",
       "  </thead>\n",
       "  <tbody>\n",
       "    <tr>\n",
       "      <th>Team_1</th>\n",
       "      <td>Portugal</td>\n",
       "      <td>Lisbon</td>\n",
       "    </tr>\n",
       "    <tr>\n",
       "      <th>Team_2</th>\n",
       "      <td>Mongolia</td>\n",
       "      <td>Ulaanbaatar</td>\n",
       "    </tr>\n",
       "    <tr>\n",
       "      <th>Team_3</th>\n",
       "      <td>Belgium</td>\n",
       "      <td>Brussels</td>\n",
       "    </tr>\n",
       "    <tr>\n",
       "      <th>Team_4</th>\n",
       "      <td>Iceland</td>\n",
       "      <td>Reykjavik</td>\n",
       "    </tr>\n",
       "    <tr>\n",
       "      <th>Team_5</th>\n",
       "      <td>Seychelles</td>\n",
       "      <td>Victoria</td>\n",
       "    </tr>\n",
       "    <tr>\n",
       "      <th>Team_6</th>\n",
       "      <td>United Kingdom</td>\n",
       "      <td>London</td>\n",
       "    </tr>\n",
       "    <tr>\n",
       "      <th>Team_7</th>\n",
       "      <td>Guinea</td>\n",
       "      <td>Conakry</td>\n",
       "    </tr>\n",
       "    <tr>\n",
       "      <th>Team_8</th>\n",
       "      <td>Eswatini</td>\n",
       "      <td>Mbabane</td>\n",
       "    </tr>\n",
       "    <tr>\n",
       "      <th>Team_9</th>\n",
       "      <td>Benin</td>\n",
       "      <td>Porto-Novo</td>\n",
       "    </tr>\n",
       "  </tbody>\n",
       "</table>\n",
       "</div>"
      ],
      "text/plain": [
       "               Country     Location\n",
       "Team_1        Portugal       Lisbon\n",
       "Team_2        Mongolia  Ulaanbaatar\n",
       "Team_3         Belgium     Brussels\n",
       "Team_4         Iceland    Reykjavik\n",
       "Team_5      Seychelles     Victoria\n",
       "Team_6  United Kingdom       London\n",
       "Team_7          Guinea      Conakry\n",
       "Team_8        Eswatini      Mbabane\n",
       "Team_9           Benin   Porto-Novo"
      ]
     },
     "execution_count": 3,
     "metadata": {},
     "output_type": "execute_result"
    }
   ],
   "source": [
    "# load the data\n",
    "\n",
    "df_teams = pd.read_csv('data/Teams_Input.csv',sep=';',index_col=0)\n",
    "df_teams"
   ]
  },
  {
   "cell_type": "code",
   "execution_count": 4,
   "metadata": {},
   "outputs": [
    {
     "data": {
      "text/plain": [
       "{'Portugal': 'Lisbon',\n",
       " 'Mongolia': 'Ulaanbaatar',\n",
       " 'Belgium': 'Brussels',\n",
       " 'Iceland': 'Reykjavik',\n",
       " 'Seychelles': 'Victoria',\n",
       " 'United Kingdom': 'London',\n",
       " 'Guinea': 'Conakry',\n",
       " 'Eswatini': 'Mbabane',\n",
       " 'Benin': 'Porto-Novo'}"
      ]
     },
     "execution_count": 4,
     "metadata": {},
     "output_type": "execute_result"
    }
   ],
   "source": [
    "team_location_map = df_teams.set_index('Country')['Location'].to_dict()\n",
    "team_location_map"
   ]
  },
  {
   "cell_type": "code",
   "execution_count": 5,
   "metadata": {},
   "outputs": [],
   "source": [
    "df_fans = pd.read_csv('data/Fans_forecast.csv',sep=';',index_col=0)"
   ]
  },
  {
   "cell_type": "code",
   "execution_count": 6,
   "metadata": {},
   "outputs": [
    {
     "data": {
      "text/html": [
       "<div>\n",
       "<style scoped>\n",
       "    .dataframe tbody tr th:only-of-type {\n",
       "        vertical-align: middle;\n",
       "    }\n",
       "\n",
       "    .dataframe tbody tr th {\n",
       "        vertical-align: top;\n",
       "    }\n",
       "\n",
       "    .dataframe thead th {\n",
       "        text-align: right;\n",
       "    }\n",
       "</style>\n",
       "<table border=\"1\" class=\"dataframe\">\n",
       "  <thead>\n",
       "    <tr style=\"text-align: right;\">\n",
       "      <th></th>\n",
       "      <th>Weekend_1</th>\n",
       "      <th>Weekend_2</th>\n",
       "      <th>Weekend_3</th>\n",
       "      <th>Weekend_4</th>\n",
       "    </tr>\n",
       "  </thead>\n",
       "  <tbody>\n",
       "    <tr>\n",
       "      <th>Lisbon</th>\n",
       "      <td>5000</td>\n",
       "      <td>12000</td>\n",
       "      <td>2500</td>\n",
       "      <td>11000</td>\n",
       "    </tr>\n",
       "    <tr>\n",
       "      <th>Ulaanbaatar</th>\n",
       "      <td>7000</td>\n",
       "      <td>12500</td>\n",
       "      <td>6500</td>\n",
       "      <td>15000</td>\n",
       "    </tr>\n",
       "    <tr>\n",
       "      <th>Brussels</th>\n",
       "      <td>16000</td>\n",
       "      <td>3000</td>\n",
       "      <td>7500</td>\n",
       "      <td>11500</td>\n",
       "    </tr>\n",
       "    <tr>\n",
       "      <th>Reykjavik</th>\n",
       "      <td>10000</td>\n",
       "      <td>4000</td>\n",
       "      <td>12500</td>\n",
       "      <td>10000</td>\n",
       "    </tr>\n",
       "    <tr>\n",
       "      <th>Victoria</th>\n",
       "      <td>15500</td>\n",
       "      <td>9500</td>\n",
       "      <td>4000</td>\n",
       "      <td>12000</td>\n",
       "    </tr>\n",
       "  </tbody>\n",
       "</table>\n",
       "</div>"
      ],
      "text/plain": [
       "             Weekend_1  Weekend_2  Weekend_3  Weekend_4\n",
       "Lisbon            5000      12000       2500      11000\n",
       "Ulaanbaatar       7000      12500       6500      15000\n",
       "Brussels         16000       3000       7500      11500\n",
       "Reykjavik        10000       4000      12500      10000\n",
       "Victoria         15500       9500       4000      12000"
      ]
     },
     "execution_count": 6,
     "metadata": {},
     "output_type": "execute_result"
    }
   ],
   "source": [
    "df_fans.head()"
   ]
  },
  {
   "cell_type": "code",
   "execution_count": 7,
   "metadata": {
    "scrolled": true
   },
   "outputs": [
    {
     "name": "stdout",
     "output_type": "stream",
     "text": [
      "['Portugal', 'Mongolia', 'Belgium', 'Iceland', 'Seychelles', 'United Kingdom', 'Guinea', 'Eswatini', 'Benin']\n",
      "[1, 2, 3, 4]\n"
     ]
    }
   ],
   "source": [
    "# setting dimensions\n",
    "\n",
    "Teams = list(df_teams['Country'])\n",
    "\n",
    "Locations = df_teams['Location']\n",
    "\n",
    "Weekends = list(range(1,len(df_fans.columns)+1))\n",
    "print(Teams)\n",
    "print(Weekends)"
   ]
  },
  {
   "cell_type": "code",
   "execution_count": 8,
   "metadata": {},
   "outputs": [],
   "source": [
    "N_Teams = len(Teams)\n",
    "N_Weekends = len(Weekends)\n",
    "\n",
    "# numb of groups each Turn : Tournament sctructural value\n",
    "GroupsXTurn = 3\n",
    "\n",
    "# numb of teams in each group\n",
    "TeamsXGroup = N_Teams/GroupsXTurn"
   ]
  },
  {
   "cell_type": "code",
   "execution_count": 9,
   "metadata": {},
   "outputs": [],
   "source": [
    "# getting distance matrix (Km)\n",
    "df_dist = pd.read_csv('data/Distances.csv',sep=';',index_col=0)"
   ]
  },
  {
   "cell_type": "code",
   "execution_count": 10,
   "metadata": {},
   "outputs": [
    {
     "data": {
      "text/html": [
       "<div>\n",
       "<style scoped>\n",
       "    .dataframe tbody tr th:only-of-type {\n",
       "        vertical-align: middle;\n",
       "    }\n",
       "\n",
       "    .dataframe tbody tr th {\n",
       "        vertical-align: top;\n",
       "    }\n",
       "\n",
       "    .dataframe thead th {\n",
       "        text-align: right;\n",
       "    }\n",
       "</style>\n",
       "<table border=\"1\" class=\"dataframe\">\n",
       "  <thead>\n",
       "    <tr style=\"text-align: right;\">\n",
       "      <th></th>\n",
       "      <th>Lisbon</th>\n",
       "      <th>Ulaanbaatar</th>\n",
       "      <th>Brussels</th>\n",
       "      <th>Reykjavik</th>\n",
       "      <th>Victoria</th>\n",
       "      <th>London</th>\n",
       "      <th>Conakry</th>\n",
       "      <th>Mbabane</th>\n",
       "      <th>Porto-Novo</th>\n",
       "    </tr>\n",
       "    <tr>\n",
       "      <th>Location</th>\n",
       "      <th></th>\n",
       "      <th></th>\n",
       "      <th></th>\n",
       "      <th></th>\n",
       "      <th></th>\n",
       "      <th></th>\n",
       "      <th></th>\n",
       "      <th></th>\n",
       "      <th></th>\n",
       "    </tr>\n",
       "  </thead>\n",
       "  <tbody>\n",
       "    <tr>\n",
       "      <th>Lisbon</th>\n",
       "      <td>0.000000</td>\n",
       "      <td>8521.933170</td>\n",
       "      <td>1715.157554</td>\n",
       "      <td>2960.706246</td>\n",
       "      <td>8172.888127</td>\n",
       "      <td>1586.542513</td>\n",
       "      <td>3042.357442</td>\n",
       "      <td>8331.657474</td>\n",
       "      <td>3758.839534</td>\n",
       "    </tr>\n",
       "    <tr>\n",
       "      <th>Ulaanbaatar</th>\n",
       "      <td>8521.933170</td>\n",
       "      <td>0.000000</td>\n",
       "      <td>6812.523638</td>\n",
       "      <td>6792.852993</td>\n",
       "      <td>7675.153119</td>\n",
       "      <td>6993.217230</td>\n",
       "      <td>11303.272710</td>\n",
       "      <td>11153.788000</td>\n",
       "      <td>10528.603980</td>\n",
       "    </tr>\n",
       "    <tr>\n",
       "      <th>Brussels</th>\n",
       "      <td>1715.157554</td>\n",
       "      <td>6812.523638</td>\n",
       "      <td>0.000000</td>\n",
       "      <td>2133.756729</td>\n",
       "      <td>7833.727289</td>\n",
       "      <td>322.849447</td>\n",
       "      <td>4688.429454</td>\n",
       "      <td>8944.363016</td>\n",
       "      <td>4918.694200</td>\n",
       "    </tr>\n",
       "    <tr>\n",
       "      <th>Reykjavik</th>\n",
       "      <td>2960.706246</td>\n",
       "      <td>6792.852993</td>\n",
       "      <td>2133.756729</td>\n",
       "      <td>0.000000</td>\n",
       "      <td>9851.919970</td>\n",
       "      <td>1894.445055</td>\n",
       "      <td>5835.492531</td>\n",
       "      <td>11035.887420</td>\n",
       "      <td>6696.592607</td>\n",
       "    </tr>\n",
       "    <tr>\n",
       "      <th>Victoria</th>\n",
       "      <td>8172.888127</td>\n",
       "      <td>7675.153119</td>\n",
       "      <td>7833.727289</td>\n",
       "      <td>9851.919970</td>\n",
       "      <td>0.000000</td>\n",
       "      <td>8138.251124</td>\n",
       "      <td>8070.099455</td>\n",
       "      <td>3530.486278</td>\n",
       "      <td>5997.955891</td>\n",
       "    </tr>\n",
       "  </tbody>\n",
       "</table>\n",
       "</div>"
      ],
      "text/plain": [
       "                  Lisbon  Ulaanbaatar     Brussels    Reykjavik     Victoria  \\\n",
       "Location                                                                       \n",
       "Lisbon          0.000000  8521.933170  1715.157554  2960.706246  8172.888127   \n",
       "Ulaanbaatar  8521.933170     0.000000  6812.523638  6792.852993  7675.153119   \n",
       "Brussels     1715.157554  6812.523638     0.000000  2133.756729  7833.727289   \n",
       "Reykjavik    2960.706246  6792.852993  2133.756729     0.000000  9851.919970   \n",
       "Victoria     8172.888127  7675.153119  7833.727289  9851.919970     0.000000   \n",
       "\n",
       "                  London       Conakry       Mbabane    Porto-Novo  \n",
       "Location                                                            \n",
       "Lisbon       1586.542513   3042.357442   8331.657474   3758.839534  \n",
       "Ulaanbaatar  6993.217230  11303.272710  11153.788000  10528.603980  \n",
       "Brussels      322.849447   4688.429454   8944.363016   4918.694200  \n",
       "Reykjavik    1894.445055   5835.492531  11035.887420   6696.592607  \n",
       "Victoria     8138.251124   8070.099455   3530.486278   5997.955891  "
      ]
     },
     "execution_count": 10,
     "metadata": {},
     "output_type": "execute_result"
    }
   ],
   "source": [
    "df_dist.head()"
   ]
  },
  {
   "cell_type": "code",
   "execution_count": null,
   "metadata": {},
   "outputs": [],
   "source": []
  },
  {
   "cell_type": "code",
   "execution_count": 11,
   "metadata": {},
   "outputs": [],
   "source": [
    "import pyomo.environ\n",
    "from pyomo.environ import * \n",
    "#from pyomo.opt import SolverFactory, IOptSolver\n",
    "import pyomo.core as pyomo"
   ]
  },
  {
   "cell_type": "code",
   "execution_count": null,
   "metadata": {},
   "outputs": [],
   "source": []
  },
  {
   "cell_type": "code",
   "execution_count": 12,
   "metadata": {},
   "outputs": [],
   "source": [
    "## create the model"
   ]
  },
  {
   "cell_type": "code",
   "execution_count": 13,
   "metadata": {},
   "outputs": [],
   "source": [
    "model = ConcreteModel()\n",
    "model.name = 'Model_PartIII'"
   ]
  },
  {
   "cell_type": "code",
   "execution_count": 14,
   "metadata": {},
   "outputs": [],
   "source": [
    "# init dimensions"
   ]
  },
  {
   "cell_type": "markdown",
   "metadata": {},
   "source": [
    "### Sets\n",
    "\n",
    "\n",
    "\\begin{align}\n",
    "& \\text{Locations}  &L &  & & \\forall l \\in L \\\\\n",
    "& \\text{Teams}  &T &  & &\\forall t \\in T \\\\\n",
    "& \\text{Weekend} &W  &  & &\\forall w \\in W\\\\\n",
    "&\\text{Groups}  &G  &  & &\\forall g \\in G\\\\  \n",
    "\\end{align}"
   ]
  },
  {
   "cell_type": "code",
   "execution_count": 15,
   "metadata": {},
   "outputs": [],
   "source": [
    "# Players = Locations\n",
    "model.T_dim = Set(initialize=Teams)\n",
    "\n",
    "# Numbers of Locations initialization\n",
    "model.L_dim = Set(initialize=Locations)\n",
    "\n",
    "# Numbers of Turns initialization\n",
    "model.W_dim = Set(initialize=Weekends)\n",
    "\n",
    "# Numbers of Groups initialization\n",
    "model.G_dim = Set(initialize=range( GroupsXTurn))\n"
   ]
  },
  {
   "cell_type": "markdown",
   "metadata": {},
   "source": [
    "### Parameters\n",
    "\\begin{align}\n",
    "& \\text{Distance matrix} & D_{ll'} & &  & & \\forall l,l' \\in L\\\\\n",
    "& \\text{Expected fans per Weekend in each location} & F_{lw}  & &  & & \\forall l \\in L, w \\in W\\\\\n",
    "& \\text{Team <> Location map} & M_{tl}  & &  & & \\forall t \\in T, l \\in L\\\\\n",
    "&  \\text{Weight parameter} & P    & & & &\n",
    "\\end{align}\n"
   ]
  },
  {
   "cell_type": "code",
   "execution_count": 16,
   "metadata": {},
   "outputs": [],
   "source": [
    "model.P_param = Param(mutable=True)"
   ]
  },
  {
   "cell_type": "code",
   "execution_count": 17,
   "metadata": {},
   "outputs": [],
   "source": [
    "model.Dist_param = Param(model.L_dim, model.L_dim, initialize=lambda model, l1, l2: df_dist.loc[l1,l2])\n",
    "\n",
    "model.F_param = Param(model.L_dim, model.W_dim, initialize=lambda model, l, w: df_fans.loc[l,'Weekend_%d' % w])"
   ]
  },
  {
   "cell_type": "code",
   "execution_count": 18,
   "metadata": {},
   "outputs": [],
   "source": [
    "model.M_param = Param(model.T_dim, model.L_dim, initialize=lambda model, t, l: 1 if l == team_location_map[t] else 0 )"
   ]
  },
  {
   "cell_type": "code",
   "execution_count": null,
   "metadata": {},
   "outputs": [],
   "source": []
  },
  {
   "cell_type": "markdown",
   "metadata": {},
   "source": [
    "### Variables\n",
    "\\begin{align}\n",
    "& \\text{Team playing in pool (g,w)} & x_{tgw} & \\in \\{0,1\\} &  & & \\forall t \\in T, g \\in G,w \\in W & \\tag{V1} \\\\\n",
    "& \\text{Location hosting pool (g,w)}  & y_{lgw} & \\in \\{0,1\\} & & & \\forall l \\in L, g \\in G,w \\in W & \\tag{V2} \\\\\n",
    "& & & & & & &\\\\\n",
    "\\end{align}"
   ]
  },
  {
   "cell_type": "code",
   "execution_count": 19,
   "metadata": {},
   "outputs": [],
   "source": [
    "model.x_var = Var(model.T_dim, model.G_dim,  model.W_dim , domain=Binary)"
   ]
  },
  {
   "cell_type": "code",
   "execution_count": 20,
   "metadata": {},
   "outputs": [],
   "source": [
    "model.y_var = Var( model.L_dim, model.G_dim, model.W_dim, domain=Binary)"
   ]
  },
  {
   "cell_type": "markdown",
   "metadata": {},
   "source": [
    "\\begin{align}\n",
    " & \\text{Flight from $l$ to $l'$ between $w$ and $w+1$} & z_{ll'w} & \\in \\{0,1\\}&  & &\\forall l,l' \\in L, w \\in w & \\tag{V3} \\\\\n",
    "          & & & = \\sum_{g} y_{lgw} * \\sum_{g'} y_{l'g'w+1}  & & &  & \n",
    "\\end{align}"
   ]
  },
  {
   "cell_type": "code",
   "execution_count": 21,
   "metadata": {},
   "outputs": [],
   "source": [
    "model.z_var = Var(model.L_dim, model.L_dim, model.W_dim , domain=Binary)\n",
    "\n"
   ]
  },
  {
   "cell_type": "markdown",
   "metadata": {},
   "source": [
    "\\begin{align}\n",
    "& \\text{ } & \\text{Total Travelled distance} & & E_T  & = & \\sum_{ll'w} D_{ll'} * z_{ll'w} &  \\\\\n",
    "& \\text{ } & \\text{Total Attending Fans} &  & E_F  & = & \\sum_{glw} F_{lw} * y_{lgw} & \\\\\n",
    "\\end{align}"
   ]
  },
  {
   "cell_type": "code",
   "execution_count": 22,
   "metadata": {},
   "outputs": [],
   "source": [
    "def e_travels(model):\n",
    "    return sum(model.Dist_param[l,lp] * model.z_var[l,lp,w] \\\n",
    "               for l in model.L_dim for lp in model.L_dim for w in model.W_dim \n",
    "              )"
   ]
  },
  {
   "cell_type": "code",
   "execution_count": 23,
   "metadata": {},
   "outputs": [],
   "source": [
    "def e_fans(model):\n",
    "        return sum( model.F_param[l,w] * model.y_var[l,g,w] \\\n",
    "                       for g in model.G_dim for l in model.L_dim for w in model.W_dim                     )"
   ]
  },
  {
   "cell_type": "code",
   "execution_count": 24,
   "metadata": {
    "scrolled": true
   },
   "outputs": [],
   "source": [
    "model.e_travels = Expression( rule=e_travels)\n",
    "model.e_fans = Expression( rule=e_fans)"
   ]
  },
  {
   "cell_type": "code",
   "execution_count": null,
   "metadata": {},
   "outputs": [],
   "source": []
  },
  {
   "cell_type": "markdown",
   "metadata": {},
   "source": [
    "### Objective\n",
    "\\begin{align}\n",
    " & & & &  \\min_{zy}   E_T - W * E_F & \\tag{obj}\n",
    "\\end{align}"
   ]
  },
  {
   "cell_type": "code",
   "execution_count": 25,
   "metadata": {},
   "outputs": [],
   "source": [
    "def obj_rule(model):\n",
    "         return  model.e_travels - model.P_param * model.e_fans\n",
    "\n",
    "model.obj = Objective(rule=obj_rule,sense=minimize)"
   ]
  },
  {
   "cell_type": "markdown",
   "metadata": {},
   "source": [
    "### Constraints"
   ]
  },
  {
   "cell_type": "markdown",
   "metadata": {},
   "source": [
    "\\begin{align}\n",
    "& \\text{Each player plays in a group each turn} & \\sum_{g} x_{tgw} = 1 & & \\forall t \\in T, w \\in W \\tag{C1}\\\\\n",
    "\\end{align}"
   ]
  },
  {
   "cell_type": "code",
   "execution_count": 26,
   "metadata": {},
   "outputs": [],
   "source": [
    "def rul1 (model,t,w):\n",
    "    return sum(model.x_var[t,g,w] for g in model.G_dim ) == 1\n",
    "\n",
    "model.rul1 = Constraint(model.T_dim, model.W_dim, rule=rul1,doc='constraint1')\n"
   ]
  },
  {
   "cell_type": "markdown",
   "metadata": {},
   "source": [
    "\\begin{align}\n",
    "&\\text{Each group consists of 3 teams each Turn} & \\sum_{p} x_{tgw} = 3 & & \\forall g \\in G, t \\in T \\tag{C2}\\\\\n",
    "\\end{align}"
   ]
  },
  {
   "cell_type": "code",
   "execution_count": 27,
   "metadata": {},
   "outputs": [],
   "source": [
    "def rul2 (model,g,w):\n",
    "    return sum(model.x_var[t,g,w] for t in model.T_dim ) == 3\n",
    "\n",
    "model.rul2 = Constraint(model.G_dim, model.W_dim, rule=rul2,doc='constraint2')\n"
   ]
  },
  {
   "cell_type": "markdown",
   "metadata": {},
   "source": [
    "\\begin{align}\n",
    "&\\text{Any 2 teams can be assinged to the same group once} & x_{tgw} + x_{t'gw} + x_{tg'w'} + x_{t'g'w'}  \\leq 3 & & \\forall t\\neq t' \\in T, g , g' \\in G , w\\neq w' \\in W \\tag{C3} \\\\\n",
    "\\end{align}"
   ]
  },
  {
   "cell_type": "code",
   "execution_count": 28,
   "metadata": {},
   "outputs": [],
   "source": [
    "\n",
    "def rul3 (model,t,tp,g,gp,w,wp):\n",
    "    if (t!=tp and w!=wp): # and g!=gp\n",
    "        return (model.x_var[t,g,w] + model.x_var[tp,g,w]  + model.x_var[t,gp,wp]  + model.x_var[tp,gp,wp])<=3 \n",
    "    else:\n",
    "        return Constraint.Skip\n",
    "\n",
    "model.rul3 = Constraint(model.T_dim, model.T_dim,model.G_dim,model.G_dim, model.W_dim,model.W_dim,\n",
    "                        rule=rul3,doc='constraint3')\n"
   ]
  },
  {
   "cell_type": "markdown",
   "metadata": {},
   "source": [
    "\\begin{align}\n",
    "& \\text{Each group has 1 hosting location} & \\sum_{l} y_{lgw} = 1 & & \\forall g \\in G, w \\in W \\tag{C4}\\\\\n",
    "\\end{align}"
   ]
  },
  {
   "cell_type": "code",
   "execution_count": 29,
   "metadata": {},
   "outputs": [],
   "source": [
    "def rul4 (model,g,w):\n",
    "    return sum(model.y_var[l,g,w] for l in model.L_dim ) == 1\n",
    "\n",
    "model.rul4 = Constraint(model.G_dim, model.W_dim, rule=rul4,doc='constraint4')\n",
    "\n"
   ]
  },
  {
   "cell_type": "markdown",
   "metadata": {},
   "source": [
    "\\begin{align}\n",
    "& \\text{group host location belongs to a Teams of the pool} & \\sum_{p} x_{tgw} * M_{tl} \\geq y_{lgw} & & \\forall l \\in L, g \\in G, w \\in W \\tag{C5} \\\\\n",
    "\\end{align}"
   ]
  },
  {
   "cell_type": "code",
   "execution_count": 30,
   "metadata": {},
   "outputs": [],
   "source": [
    "#\n",
    "def rules_5(model,l,g,w):\n",
    "\n",
    "    return sum(model.x_var[t,g,w] * model.M_param[t,l]\n",
    "               for t in model.T_dim ) >= model.y_var[l,g,w]\n",
    "\n",
    "\n",
    "model.rul5 = Constraint(model.L_dim,model.G_dim,model.W_dim, rule=rules_5,doc='constraint5')\n"
   ]
  },
  {
   "cell_type": "markdown",
   "metadata": {},
   "source": [
    "\\begin{align}\n",
    "& \\text{Each team needs to organise at least 1 tournament} & \\sum_{lgw} y_{lgw} * M_{tl} \\geq 1 & & \\forall t \\in T \\tag{C6} \\\\\n",
    "\\end{align}"
   ]
  },
  {
   "cell_type": "code",
   "execution_count": 31,
   "metadata": {},
   "outputs": [],
   "source": [
    "def rules_loc(model,t):\n",
    "        return sum(model.y_var[l,g,w] * model.M_param[t,l] for l in model.L_dim for g in model.G_dim for w in model.W_dim) >= 1\n",
    "\n",
    "\n",
    "model.rulloc = Constraint(model.T_dim, rule=rules_loc,doc='constraint_loc')"
   ]
  },
  {
   "cell_type": "markdown",
   "metadata": {},
   "source": [
    "\\begin{align}\n",
    "& \\text{Definition of $z$} &  \\begin{cases}\n",
    "                 &z_{ll'w} \\leq \\sum_{g} y_{lgw}    \\\\\n",
    "                 &z_{ll'w} \\leq \\sum_{g} y_{l'g'w+1} \\tag{C7} \\\\\n",
    "                 &z_{ll'w} \\geq \\sum_{g} y_{lgw} + \\sum_{g'} y_{l'g'w+1} - 1\n",
    "    \\end{cases} &\n",
    "\\end{align}"
   ]
  },
  {
   "cell_type": "code",
   "execution_count": 32,
   "metadata": {},
   "outputs": [],
   "source": [
    "# def of Z = Y_w * Y_w+1\n",
    "def rules_Za(model,l,lp,w):\n",
    "    if w <N_Weekends:\n",
    "        return model.z_var[l,lp,w] <= sum(model.y_var[l,g,w] for g in model.G_dim)\n",
    "    else:\n",
    "        return model.z_var[l,lp,w] == 0\n",
    "\n",
    "\n",
    "model.Za = Constraint(model.L_dim,model.L_dim,model.W_dim,\n",
    "                         rule=rules_Za,doc='constraint_Za')\n",
    "\n",
    "# def of Z = Y_w * Y_w+1\n",
    "def rules_Zb(model,l,lp,w):\n",
    "    if w <N_Weekends:\n",
    "        return model.z_var[l,lp,w] <= sum(model.y_var[lp,gp,w+1] for gp in model.G_dim)\n",
    "    else:\n",
    "        return model.z_var[l,lp,w] == 0\n",
    "\n",
    "\n",
    "model.Zb = Constraint(model.L_dim,model.L_dim,model.W_dim,\n",
    "                         rule=rules_Zb,doc='constraint_Zb')\n",
    "\n",
    "# def of Z = Y_w * Y_w+1\n",
    "\n",
    "def rules_Zc(model,l,lp,w):\n",
    "    if w <N_Weekends:\n",
    "        return model.z_var[l,lp,w] >= sum(model.y_var[l,g,w] + model.y_var[lp,g,w+1] for g in model.G_dim) - 1\n",
    "    else:\n",
    "        return model.z_var[l,lp,w] == 0\n",
    "\n",
    "\n",
    "model.Zc = Constraint(model.L_dim,model.L_dim,model.W_dim,\n",
    "                         rule=rules_Zc,doc='constraint_Zc')\n",
    "\n",
    "    "
   ]
  },
  {
   "cell_type": "markdown",
   "metadata": {},
   "source": [
    "### Digression: Linearization of a product of Boolean Variables\n",
    "\n",
    "Given\n",
    "\\begin{cases}\n",
    "x & &\\in \\{0,1\\}\\\\\n",
    "y & &\\in \\{0,1\\}\\\\\n",
    "\\end{cases}\n",
    "\n",
    "we define\n",
    "$z \\equiv x * y \\in \\{0,1\\}$ st\n",
    "\\begin{cases}\n",
    "&z \\leq x    \\\\\n",
    "                 &z \\leq y  \\\\\n",
    "                 &z \\geq x + y - 1 \n",
    "\\end{cases}\n",
    "\n",
    "\n",
    "#### Tables of cases for $z$ \n",
    "\n",
    "|  ($x$,$y$) \t | \\| |$z$ |  \n",
    "|---\t | ---|---\t  |\n",
    "|**(0,0)**   | \\| |   0|  \n",
    "|**(0,1)** |\\| |   0|  \n",
    "|**(1,0)** |\\| |   0|   \n",
    "|**(1,1)** |\\| |   1|   \n",
    "\n",
    "\n"
   ]
  },
  {
   "cell_type": "code",
   "execution_count": null,
   "metadata": {},
   "outputs": [],
   "source": []
  },
  {
   "cell_type": "code",
   "execution_count": 33,
   "metadata": {},
   "outputs": [],
   "source": [
    "#opt = SolverFactory(\"glpk\")\n",
    "opt = SolverFactory(\"gurobi\")"
   ]
  },
  {
   "cell_type": "code",
   "execution_count": 34,
   "metadata": {},
   "outputs": [],
   "source": [
    "p_list = [0.1,0.2,0.5,1,2,5,10,15,20,25]\n",
    "#p_list = [25]"
   ]
  },
  {
   "cell_type": "code",
   "execution_count": 35,
   "metadata": {},
   "outputs": [
    {
     "name": "stdout",
     "output_type": "stream",
     "text": [
      "----------------------------------------------------------------------------------------------------\n",
      "Doing 0.1\n",
      "\n",
      "--------------------------------------------\n",
      "Warning: your license will expire in 9 days\n",
      "--------------------------------------------\n",
      "\n",
      "Using license file C:\\Users\\niccolomoretti\\gurobi.lic\n",
      "Read LP format model from file C:\\Users\\NICCOL~1\\AppData\\Local\\Temp\\tmpj_5kfmxc.pyomo.lp\n",
      "Reading time = 0.06 seconds\n",
      "x541: 8926 rows, 541 columns, 35641 nonzeros\n",
      "Gurobi Optimizer version 9.0.0 build v9.0.0rc2 (win64)\n",
      "Optimize a model with 8926 rows, 541 columns and 35641 nonzeros\n",
      "Model fingerprint: 0xc88d4c28\n",
      "Variable types: 1 continuous, 540 integer (540 binary)\n",
      "Coefficient statistics:\n",
      "  Matrix range     [1e+00, 1e+00]\n",
      "  Objective range  [3e+02, 1e+04]\n",
      "  Bounds range     [1e+00, 1e+00]\n",
      "  RHS range        [1e+00, 3e+00]\n",
      "Presolve removed 6076 rows and 82 columns\n",
      "Presolve time: 0.06s\n",
      "Presolved: 2850 rows, 459 columns, 12069 nonzeros\n",
      "Variable types: 0 continuous, 459 integer (459 binary)\n",
      "Found heuristic solution: objective 143031.71239\n",
      "\n",
      "Root relaxation: objective -1.392500e+04, 201 iterations, 0.02 seconds\n",
      "\n",
      "    Nodes    |    Current Node    |     Objective Bounds      |     Work\n",
      " Expl Unexpl |  Obj  Depth IntInf | Incumbent    BestBd   Gap | It/Node Time\n",
      "\n",
      "     0     0 -13925.000    0   54 143031.712 -13925.000   110%     -    0s\n",
      "     0     0 -13450.000    0   86 143031.712 -13450.000   109%     -    0s\n",
      "H    0     0                    130335.76726 -13450.000   110%     -    0s\n",
      "     0     0 -13389.355    0   95 130335.767 -13389.355   110%     -    0s\n",
      "H    0     0                    129567.29240 -13389.355   110%     -    0s\n",
      "     0     0 -13337.638    0   87 129567.292 -13337.638   110%     -    0s\n",
      "     0     0 -13326.327    0   88 129567.292 -13326.327   110%     -    0s\n",
      "     0     0 -13321.344    0   87 129567.292 -13321.344   110%     -    0s\n",
      "     0     0 -13201.327    0   97 129567.292 -13201.327   110%     -    0s\n",
      "     0     0 -13188.509    0   90 129567.292 -13188.509   110%     -    0s\n",
      "     0     0 -13188.509    0   93 129567.292 -13188.509   110%     -    0s\n",
      "     0     0 -13100.360    0   88 129567.292 -13100.360   110%     -    0s\n",
      "     0     0 -13052.536    0   97 129567.292 -13052.536   110%     -    0s\n",
      "     0     0 -13050.802    0  107 129567.292 -13050.802   110%     -    0s\n",
      "     0     0 -13050.217    0  104 129567.292 -13050.217   110%     -    0s\n",
      "     0     0 -13050.217    0  105 129567.292 -13050.217   110%     -    0s\n",
      "     0     0 -13039.936    0  107 129567.292 -13039.936   110%     -    0s\n",
      "     0     0 -13039.181    0  110 129567.292 -13039.181   110%     -    0s\n",
      "     0     0 -13038.997    0  110 129567.292 -13038.997   110%     -    0s\n",
      "     0     0 -13038.861    0  112 129567.292 -13038.861   110%     -    0s\n",
      "     0     0 -13027.868    0  114 129567.292 -13027.868   110%     -    0s\n",
      "     0     0 -13000.651    0  108 129567.292 -13000.651   110%     -    0s\n",
      "     0     0 -12999.660    0  110 129567.292 -12999.660   110%     -    0s\n",
      "     0     0 -12999.660    0  114 129567.292 -12999.660   110%     -    0s\n",
      "     0     0 -12915.465    0  101 129567.292 -12915.465   110%     -    0s\n",
      "     0     0 -12871.496    0  103 129567.292 -12871.496   110%     -    0s\n",
      "     0     0 -12871.496    0  111 129567.292 -12871.496   110%     -    0s\n",
      "     0     0 -12855.397    0  112 129567.292 -12855.397   110%     -    1s\n",
      "     0     0 -12850.650    0  120 129567.292 -12850.650   110%     -    1s\n",
      "     0     0 -12844.109    0  127 129567.292 -12844.109   110%     -    1s\n",
      "     0     0 -12844.109    0  127 129567.292 -12844.109   110%     -    1s\n",
      "     0     0 -12825.298    0  108 129567.292 -12825.298   110%     -    1s\n",
      "     0     0 -12822.958    0  117 129567.292 -12822.958   110%     -    1s\n",
      "     0     0 -12812.194    0  120 129567.292 -12812.194   110%     -    1s\n",
      "     0     0 -12811.810    0  121 129567.292 -12811.810   110%     -    1s\n",
      "     0     0 -12806.270    0  127 129567.292 -12806.270   110%     -    1s\n",
      "     0     0 -12806.270    0  129 129567.292 -12806.270   110%     -    1s\n",
      "     0     0 -12789.942    0  118 129567.292 -12789.942   110%     -    1s\n",
      "     0     0 -12789.942    0  119 129567.292 -12789.942   110%     -    1s\n",
      "     0     0 -12757.944    0  108 129567.292 -12757.944   110%     -    1s\n",
      "     0     0 -12748.478    0  115 129567.292 -12748.478   110%     -    1s\n",
      "     0     0 -12747.495    0  119 129567.292 -12747.495   110%     -    1s\n",
      "     0     0 -12747.495    0  121 129567.292 -12747.495   110%     -    1s\n",
      "     0     0 -12690.483    0  118 129567.292 -12690.483   110%     -    1s\n",
      "     0     0 -12690.483    0  116 129567.292 -12690.483   110%     -    1s\n",
      "     0     0 -12655.348    0  113 129567.292 -12655.348   110%     -    1s\n",
      "     0     0 -12648.267    0  123 129567.292 -12648.267   110%     -    1s\n",
      "     0     0 -12648.267    0  118 129567.292 -12648.267   110%     -    1s\n",
      "     0     0 -12614.181    0  122 129567.292 -12614.181   110%     -    1s\n",
      "     0     0 -12614.181    0  123 129567.292 -12614.181   110%     -    1s\n",
      "     0     0 -12589.174    0  116 129567.292 -12589.174   110%     -    1s\n",
      "     0     0 -12561.604    0  134 129567.292 -12561.604   110%     -    1s\n",
      "     0     0 -12561.604    0  135 129567.292 -12561.604   110%     -    1s\n",
      "     0     0 -12459.397    0  129 129567.292 -12459.397   110%     -    1s\n",
      "     0     0 -12455.291    0  128 129567.292 -12455.291   110%     -    1s\n",
      "     0     0 -12451.678    0  135 129567.292 -12451.678   110%     -    1s\n",
      "     0     0 -12451.678    0  134 129567.292 -12451.678   110%     -    1s\n",
      "     0     0 -12406.381    0  116 129567.292 -12406.381   110%     -    1s\n",
      "     0     0 -12403.332    0  113 129567.292 -12403.332   110%     -    1s\n",
      "     0     0 -12398.891    0  119 129567.292 -12398.891   110%     -    1s\n",
      "     0     0 -12398.891    0  120 129567.292 -12398.891   110%     -    1s\n",
      "     0     0 -12363.854    0  116 129567.292 -12363.854   110%     -    1s\n",
      "     0     0 -12363.854    0  134 129567.292 -12363.854   110%     -    1s\n",
      "     0     0 -12332.199    0  126 129567.292 -12332.199   110%     -    2s\n",
      "     0     0 -12326.989    0  137 129567.292 -12326.989   110%     -    2s\n",
      "     0     0 -12326.989    0  138 129567.292 -12326.989   110%     -    2s\n",
      "     0     0 -12308.674    0  133 129567.292 -12308.674   109%     -    2s\n",
      "     0     0 -12305.289    0  142 129567.292 -12305.289   109%     -    2s\n",
      "     0     0 -12305.289    0  144 129567.292 -12305.289   109%     -    2s\n",
      "     0     0 -12305.289    0  142 129567.292 -12305.289   109%     -    2s\n",
      "     0     0 -12305.289    0  144 129567.292 -12305.289   109%     -    2s\n",
      "     0     0 -12300.722    0  149 129567.292 -12300.722   109%     -    2s\n",
      "     0     0 -12300.318    0  152 129567.292 -12300.318   109%     -    2s\n",
      "     0     0 -12300.318    0  152 129567.292 -12300.318   109%     -    2s\n",
      "     0     0 -12300.318    0  151 129567.292 -12300.318   109%     -    2s\n",
      "     0     0 -12300.318    0  150 129567.292 -12300.318   109%     -    2s\n",
      "     0     0 -12300.318    0  150 129567.292 -12300.318   109%     -    2s\n",
      "     0     0 -12300.318    0  150 129567.292 -12300.318   109%     -    2s\n",
      "     0     2 -12287.599    0  148 129567.292 -12287.599   109%     -    2s\n",
      "*  117   107              47    114548.98511 -12287.599   111%   105    4s\n",
      "H  192   152                    105500.75981 -12193.130   112%   107    4s\n",
      "   244   192 12496.6342    7   71 105500.760 -11774.973   111%   114    5s\n",
      "H  347   255                    105168.89478 -11774.973   111%   110    5s\n",
      "*  373   287              29    104458.12137 -11774.973   111%   110    6s\n",
      "H  392   286                    103182.57057 -10543.750   110%   107    6s\n",
      "   843   507 37853.2976   26  105 103182.571 6023.25458  94.2%   105   10s\n",
      "* 1242   572              39    96655.416081 6023.25458  93.8%  93.0   11s\n",
      "* 1528   580              45    90907.761421 8373.90127  90.8%  89.1   13s\n",
      "H 1574   533                    90862.214923 8373.90127  90.8%  88.0   14s\n",
      "  1747   530 infeasible   26      90862.2149 10918.7566  88.0%  84.8   15s\n",
      "  3567  1089 48068.6233   25   79 90862.2149 31190.8034  65.7%  72.4   20s\n",
      "  5134  1432 76555.7045   34  101 90862.2149 41764.5752  54.0%  67.7   25s\n",
      "  5807  1530 85587.3886   34  104 90862.2149 43509.7786  52.1%  66.0   30s\n"
     ]
    },
    {
     "name": "stdout",
     "output_type": "stream",
     "text": [
      "  7528  1825 55642.9274   23  104 90862.2149 48446.1674  46.7%  63.3   35s\n",
      "  9253  1984 80994.2138   29   91 90862.2149 53091.8338  41.6%  61.7   40s\n",
      " 11477  2058     cutoff   27      90862.2149 57360.7582  36.9%  60.1   45s\n",
      " 13437  2063 76973.4838   33  108 90862.2149 61113.5045  32.7%  58.9   50s\n",
      " 14907  1998 72633.5174   24  106 90862.2149 64229.9991  29.3%  58.1   55s\n",
      " 17185  1643     cutoff   29      90862.2149 69343.7735  23.7%  57.4   60s\n",
      " 19983   844 81930.4034   33  100 90862.2149 76529.6471  15.8%  56.5   65s\n",
      "\n",
      "Cutting planes:\n",
      "  MIR: 24\n",
      "  StrongCG: 4\n",
      "  Zero half: 11\n",
      "\n",
      "Explored 21995 nodes (1213138 simplex iterations) in 68.14 seconds\n",
      "Thread count was 4 (of 4 available processors)\n",
      "\n",
      "Solution count 10: 90862.2 90907.8 96655.4 ... 130336\n",
      "\n",
      "Optimal solution found (tolerance 1.00e-04)\n",
      "Best objective 9.086221492340e+04, best bound 9.086221492340e+04, gap 0.0000%\n",
      "----------------------------------------------------------------------------------------------------\n",
      "Doing 0.2\n",
      "\n",
      "--------------------------------------------\n",
      "Warning: your license will expire in 9 days\n",
      "--------------------------------------------\n",
      "\n",
      "Using license file C:\\Users\\niccolomoretti\\gurobi.lic\n",
      "Read LP format model from file C:\\Users\\NICCOL~1\\AppData\\Local\\Temp\\tmp3s7k1ic3.pyomo.lp\n",
      "Reading time = 0.05 seconds\n",
      "x541: 8926 rows, 541 columns, 35641 nonzeros\n",
      "Gurobi Optimizer version 9.0.0 build v9.0.0rc2 (win64)\n",
      "Optimize a model with 8926 rows, 541 columns and 35641 nonzeros\n",
      "Model fingerprint: 0x2421910a\n",
      "Variable types: 1 continuous, 540 integer (540 binary)\n",
      "Coefficient statistics:\n",
      "  Matrix range     [1e+00, 1e+00]\n",
      "  Objective range  [3e+02, 1e+04]\n",
      "  Bounds range     [1e+00, 1e+00]\n",
      "  RHS range        [1e+00, 3e+00]\n",
      "Presolve removed 6076 rows and 82 columns\n",
      "Presolve time: 0.04s\n",
      "Presolved: 2850 rows, 459 columns, 12069 nonzeros\n",
      "Variable types: 0 continuous, 459 integer (459 binary)\n",
      "Found heuristic solution: objective 129531.71239\n",
      "\n",
      "Root relaxation: objective -2.785000e+04, 186 iterations, 0.01 seconds\n",
      "\n",
      "    Nodes    |    Current Node    |     Objective Bounds      |     Work\n",
      " Expl Unexpl |  Obj  Depth IntInf | Incumbent    BestBd   Gap | It/Node Time\n",
      "\n",
      "     0     0 -27850.000    0   49 129531.712 -27850.000   122%     -    0s\n",
      "H    0     0                    112882.26008 -27850.000   125%     -    0s\n",
      "     0     0 -27557.143    0   85 112882.260 -27557.143   124%     -    0s\n",
      "     0     0 -26550.000    0   80 112882.260 -26550.000   124%     -    0s\n",
      "     0     0 -26550.000    0  101 112882.260 -26550.000   124%     -    0s\n",
      "     0     0 -26550.000    0   91 112882.260 -26550.000   124%     -    0s\n",
      "     0     0 -26054.504    0  109 112882.260 -26054.504   123%     -    0s\n",
      "     0     0 -26052.759    0  104 112882.260 -26052.759   123%     -    0s\n",
      "     0     0 -26006.807    0   99 112882.260 -26006.807   123%     -    0s\n",
      "     0     0 -25987.993    0   93 112882.260 -25987.993   123%     -    0s\n",
      "     0     0 -25987.831    0   94 112882.260 -25987.831   123%     -    0s\n",
      "     0     0 -25796.672    0  111 112882.260 -25796.672   123%     -    0s\n",
      "     0     0 -25719.288    0   88 112882.260 -25719.288   123%     -    0s\n",
      "     0     0 -25719.288    0   74 112882.260 -25719.288   123%     -    0s\n",
      "     0     0 -25377.189    0  113 112882.260 -25377.189   122%     -    0s\n",
      "     0     0 -25287.898    0  108 112882.260 -25287.898   122%     -    0s\n",
      "     0     0 -25287.898    0  112 112882.260 -25287.898   122%     -    0s\n",
      "     0     0 -25239.847    0  115 112882.260 -25239.847   122%     -    0s\n",
      "     0     0 -25239.847    0  118 112882.260 -25239.847   122%     -    0s\n",
      "     0     0 -25209.670    0  118 112882.260 -25209.670   122%     -    0s\n",
      "     0     0 -25183.848    0  119 112882.260 -25183.848   122%     -    0s\n",
      "     0     0 -25178.379    0  124 112882.260 -25178.379   122%     -    1s\n",
      "     0     0 -25176.859    0  119 112882.260 -25176.859   122%     -    1s\n",
      "     0     0 -25176.859    0  118 112882.260 -25176.859   122%     -    1s\n",
      "     0     0 -25173.596    0  118 112882.260 -25173.596   122%     -    1s\n",
      "     0     0 -25171.435    0  117 112882.260 -25171.435   122%     -    1s\n",
      "     0     0 -25171.435    0  121 112882.260 -25171.435   122%     -    1s\n",
      "     0     0 -24932.789    0  107 112882.260 -24932.789   122%     -    1s\n",
      "     0     0 -24882.833    0  128 112882.260 -24882.833   122%     -    1s\n",
      "     0     0 -24872.336    0  127 112882.260 -24872.336   122%     -    1s\n",
      "     0     0 -24871.989    0  130 112882.260 -24871.989   122%     -    1s\n",
      "     0     0 -24343.865    0  111 112882.260 -24343.865   122%     -    1s\n",
      "     0     0 -24307.364    0  132 112882.260 -24307.364   122%     -    1s\n",
      "     0     0 -24306.623    0  130 112882.260 -24306.623   122%     -    1s\n",
      "     0     0 -24302.396    0  144 112882.260 -24302.396   122%     -    1s\n",
      "     0     0 -24302.396    0  142 112882.260 -24302.396   122%     -    1s\n",
      "     0     0 -23959.615    0  127 112882.260 -23959.615   121%     -    1s\n",
      "     0     0 -23843.409    0  126 112882.260 -23843.409   121%     -    1s\n",
      "     0     0 -23839.505    0  132 112882.260 -23839.505   121%     -    1s\n",
      "     0     0 -23833.028    0  133 112882.260 -23833.028   121%     -    1s\n",
      "     0     0 -23832.367    0  135 112882.260 -23832.367   121%     -    1s\n",
      "     0     0 -23832.367    0  136 112882.260 -23832.367   121%     -    1s\n",
      "     0     0 -23728.370    0  122 112882.260 -23728.370   121%     -    1s\n",
      "H    0     0                    112454.49665 -23728.370   121%     -    1s\n",
      "     0     0 -23662.621    0  129 112454.497 -23662.621   121%     -    1s\n",
      "     0     0 -23662.429    0  127 112454.497 -23662.429   121%     -    1s\n",
      "     0     0 -23618.729    0  113 112454.497 -23618.729   121%     -    1s\n",
      "     0     0 -23588.554    0  128 112454.497 -23588.554   121%     -    1s\n",
      "     0     0 -23584.501    0  132 112454.497 -23584.501   121%     -    1s\n",
      "     0     0 -23583.825    0  135 112454.497 -23583.825   121%     -    1s\n",
      "     0     0 -23534.570    0  125 112454.497 -23534.570   121%     -    1s\n",
      "     0     0 -23526.920    0  132 112454.497 -23526.920   121%     -    1s\n",
      "     0     0 -23525.237    0  131 112454.497 -23525.237   121%     -    1s\n",
      "     0     0 -23525.237    0  133 112454.497 -23525.237   121%     -    1s\n",
      "     0     0 -23508.044    0  131 112454.497 -23508.044   121%     -    1s\n",
      "     0     0 -23426.277    0  131 112454.497 -23426.277   121%     -    1s\n",
      "     0     0 -23384.863    0  139 112454.497 -23384.863   121%     -    1s\n",
      "     0     0 -23384.863    0  138 112454.497 -23384.863   121%     -    1s\n",
      "     0     0 -23273.125    0  132 112454.497 -23273.125   121%     -    1s\n",
      "     0     0 -23199.829    0  123 112454.497 -23199.829   121%     -    1s\n",
      "     0     0 -23171.405    0  135 112454.497 -23171.405   121%     -    1s\n",
      "     0     0 -23167.393    0  150 112454.497 -23167.393   121%     -    1s\n",
      "     0     0 -23161.924    0  149 112454.497 -23161.924   121%     -    1s\n",
      "     0     0 -23156.744    0  147 112454.497 -23156.744   121%     -    1s\n",
      "     0     0 -23156.744    0  144 112454.497 -23156.744   121%     -    1s\n",
      "     0     0 -23069.429    0  135 112454.497 -23069.429   121%     -    1s\n",
      "     0     0 -23063.296    0  145 112454.497 -23063.296   121%     -    1s\n",
      "     0     0 -23062.452    0  145 112454.497 -23062.452   121%     -    2s\n",
      "     0     0 -22926.363    0  140 112454.497 -22926.363   120%     -    2s\n",
      "     0     0 -22897.991    0  147 112454.497 -22897.991   120%     -    2s\n",
      "     0     0 -22865.258    0  149 112454.497 -22865.258   120%     -    2s\n",
      "     0     0 -22860.357    0  150 112454.497 -22860.357   120%     -    2s\n",
      "     0     0 -22857.544    0  149 112454.497 -22857.544   120%     -    2s\n",
      "     0     0 -22857.433    0  152 112454.497 -22857.433   120%     -    2s\n",
      "     0     0 -22616.766    0  124 112454.497 -22616.766   120%     -    2s\n",
      "     0     0 -22405.710    0  130 112454.497 -22405.710   120%     -    2s\n",
      "     0     0 -22399.510    0  139 112454.497 -22399.510   120%     -    2s\n",
      "     0     0 -22399.083    0  146 112454.497 -22399.083   120%     -    2s\n",
      "     0     0 -22393.079    0  141 112454.497 -22393.079   120%     -    2s\n",
      "     0     0 -22391.703    0  147 112454.497 -22391.703   120%     -    2s\n",
      "     0     0 -22391.703    0  144 112454.497 -22391.703   120%     -    2s\n",
      "     0     0 -22338.507    0  144 112454.497 -22338.507   120%     -    2s\n",
      "     0     0 -22335.207    0  149 112454.497 -22335.207   120%     -    2s\n",
      "     0     0 -22334.432    0  151 112454.497 -22334.432   120%     -    2s\n"
     ]
    },
    {
     "name": "stdout",
     "output_type": "stream",
     "text": [
      "     0     0 -22333.918    0  152 112454.497 -22333.918   120%     -    2s\n",
      "     0     0 -22333.887    0  153 112454.497 -22333.887   120%     -    2s\n",
      "     0     0 -22333.887    0  157 112454.497 -22333.887   120%     -    2s\n",
      "     0     0 -22333.887    0  154 112454.497 -22333.887   120%     -    2s\n",
      "     0     2 -22328.943    0  151 112454.497 -22328.943   120%     -    2s\n",
      "*   71    71              26    102491.48470 -21875.624   121%   144    3s\n",
      "*   82    77              31    102284.87233 -21875.624   121%   130    3s\n",
      "*   94    87              33    98032.559753 -21875.624   122%   124    3s\n",
      "H  165   134                    94144.255803 -21265.113   123%   122    4s\n",
      "H  188   140                    91129.235198 -21265.113   123%   113    4s\n",
      "   258   204 22848.3362   11  116 91129.2352 -15740.689   117%   121    5s\n",
      "*  589   395              36    88523.471407 -2323.0557   103%   105    7s\n",
      "*  708   443              29    87056.730790 -1474.5298   102%  97.5    7s\n",
      "   819   500 -1399.0713   23   80 87056.7308 -1399.0713   102%   103   10s\n",
      "* 1189   590              40    86331.543996 -1399.0713   102%   104   11s\n",
      "H 1362   584                    84089.417740 -1399.0713   102%   100   13s\n",
      "* 1736   566              39    81602.506129 4083.06776  95.0%  97.0   14s\n",
      "  1850   622 46759.5384   31   86 81602.5061 4399.65853  94.6%  95.1   15s\n",
      "* 2366   761              45    81234.702420 16687.6937  79.5%  90.7   16s\n",
      "H 2637   796                    77157.761421 18004.0392  76.7%  87.8   19s\n",
      "  2851   883 44076.4866   23  102 77157.7614 19920.0706  74.2%  86.4   20s\n",
      "  4766  1177     cutoff   36      77157.7614 30248.1495  60.8%  81.5   25s\n",
      "  5988  1245     cutoff   29      77157.7614 36939.5813  52.1%  79.6   30s\n",
      "  7869  1264 70465.8668   26  105 77157.7614 44468.7693  42.4%  77.9   35s\n",
      " 10188   958     cutoff   25      77157.7614 53467.4400  30.7%  76.7   40s\n",
      "\n",
      "Cutting planes:\n",
      "  MIR: 46\n",
      "  Zero half: 6\n",
      "\n",
      "Explored 13038 nodes (963894 simplex iterations) in 44.89 seconds\n",
      "Thread count was 4 (of 4 available processors)\n",
      "\n",
      "Solution count 10: 77157.8 81234.7 81602.5 ... 98032.6\n",
      "\n",
      "Optimal solution found (tolerance 1.00e-04)\n",
      "Best objective 7.715776142140e+04, best bound 7.715776142140e+04, gap 0.0000%\n",
      "----------------------------------------------------------------------------------------------------\n",
      "Doing 0.5\n",
      "\n",
      "--------------------------------------------\n",
      "Warning: your license will expire in 9 days\n",
      "--------------------------------------------\n",
      "\n",
      "Using license file C:\\Users\\niccolomoretti\\gurobi.lic\n",
      "Read LP format model from file C:\\Users\\NICCOL~1\\AppData\\Local\\Temp\\tmpy9ff5a_o.pyomo.lp\n",
      "Reading time = 0.04 seconds\n",
      "x541: 8926 rows, 541 columns, 35641 nonzeros\n",
      "Gurobi Optimizer version 9.0.0 build v9.0.0rc2 (win64)\n",
      "Optimize a model with 8926 rows, 541 columns and 35641 nonzeros\n",
      "Model fingerprint: 0x4264564d\n",
      "Variable types: 1 continuous, 540 integer (540 binary)\n",
      "Coefficient statistics:\n",
      "  Matrix range     [1e+00, 1e+00]\n",
      "  Objective range  [3e+02, 1e+04]\n",
      "  Bounds range     [1e+00, 1e+00]\n",
      "  RHS range        [1e+00, 3e+00]\n",
      "Presolve removed 6076 rows and 82 columns\n",
      "Presolve time: 0.05s\n",
      "Presolved: 2850 rows, 459 columns, 12069 nonzeros\n",
      "Variable types: 0 continuous, 459 integer (459 binary)\n",
      "Found heuristic solution: objective 89031.712390\n",
      "\n",
      "Root relaxation: objective -6.962500e+04, 251 iterations, 0.01 seconds\n",
      "\n",
      "    Nodes    |    Current Node    |     Objective Bounds      |     Work\n",
      " Expl Unexpl |  Obj  Depth IntInf | Incumbent    BestBd   Gap | It/Node Time\n",
      "\n",
      "     0     0 -69625.000    0   57 89031.7124 -69625.000   178%     -    0s\n",
      "H    0     0                    66903.792373 -69625.000   204%     -    0s\n",
      "     0     0 -67473.638    0   95 66903.7924 -67473.638   201%     -    0s\n",
      "     0     0 -66958.624    0   89 66903.7924 -66958.624   200%     -    0s\n",
      "     0     0 -66958.624    0   89 66903.7924 -66958.624   200%     -    0s\n",
      "     0     0 -66132.282    0   93 66903.7924 -66132.282   199%     -    0s\n",
      "     0     0 -66067.540    0   93 66903.7924 -66067.540   199%     -    0s\n",
      "     0     0 -66067.540    0   93 66903.7924 -66067.540   199%     -    0s\n",
      "     0     0 -65387.766    0  106 66903.7924 -65387.766   198%     -    0s\n",
      "H    0     0                    62666.785330 -65387.766   204%     -    0s\n",
      "     0     0 -65387.766    0  108 62666.7853 -65387.766   204%     -    0s\n",
      "     0     0 -64351.112    0  104 62666.7853 -64351.112   203%     -    0s\n",
      "     0     0 -64231.937    0  104 62666.7853 -64231.937   202%     -    0s\n",
      "     0     0 -64223.553    0  113 62666.7853 -64223.553   202%     -    0s\n",
      "     0     0 -64223.553    0  116 62666.7853 -64223.553   202%     -    0s\n",
      "     0     0 -64049.773    0  101 62666.7853 -64049.773   202%     -    0s\n",
      "     0     0 -63993.512    0  102 62666.7853 -63993.512   202%     -    0s\n",
      "     0     0 -63981.736    0  107 62666.7853 -63981.736   202%     -    0s\n",
      "     0     0 -63981.736    0  114 62666.7853 -63981.736   202%     -    0s\n",
      "     0     0 -63256.531    0  104 62666.7853 -63256.531   201%     -    0s\n",
      "     0     0 -63018.043    0  111 62666.7853 -63018.043   201%     -    0s\n",
      "     0     0 -62964.496    0  111 62666.7853 -62964.496   200%     -    0s\n",
      "     0     0 -62964.496    0  111 62666.7853 -62964.496   200%     -    0s\n",
      "     0     0 -62685.061    0  102 62666.7853 -62685.061   200%     -    0s\n",
      "     0     0 -62670.557    0  109 62666.7853 -62670.557   200%     -    0s\n",
      "     0     0 -62670.557    0  115 62666.7853 -62670.557   200%     -    0s\n",
      "     0     0 -61890.835    0  114 62666.7853 -61890.835   199%     -    0s\n",
      "     0     0 -61799.519    0  116 62666.7853 -61799.519   199%     -    0s\n",
      "     0     0 -61756.018    0  125 62666.7853 -61756.018   199%     -    1s\n",
      "     0     0 -61754.602    0  125 62666.7853 -61754.602   199%     -    1s\n",
      "     0     0 -61754.602    0  128 62666.7853 -61754.602   199%     -    1s\n",
      "     0     0 -61680.246    0  118 62666.7853 -61680.246   198%     -    1s\n",
      "     0     0 -61659.046    0  117 62666.7853 -61659.046   198%     -    1s\n",
      "     0     0 -61643.757    0  121 62666.7853 -61643.757   198%     -    1s\n",
      "     0     0 -61635.056    0  120 62666.7853 -61635.056   198%     -    1s\n",
      "     0     0 -61632.484    0  131 62666.7853 -61632.484   198%     -    1s\n",
      "     0     0 -61631.835    0  132 62666.7853 -61631.835   198%     -    1s\n",
      "     0     0 -61456.118    0  126 62666.7853 -61456.118   198%     -    1s\n",
      "     0     0 -61408.914    0  122 62666.7853 -61408.914   198%     -    1s\n",
      "     0     0 -61406.093    0  131 62666.7853 -61406.093   198%     -    1s\n",
      "     0     0 -61349.968    0  121 62666.7853 -61349.968   198%     -    1s\n",
      "     0     0 -61258.453    0  130 62666.7853 -61258.453   198%     -    1s\n",
      "     0     0 -61249.379    0  129 62666.7853 -61249.379   198%     -    1s\n",
      "     0     0 -61249.379    0  129 62666.7853 -61249.379   198%     -    1s\n",
      "     0     0 -60211.752    0  113 62666.7853 -60211.752   196%     -    1s\n",
      "H    0     0                    61999.951622 -60211.752   197%     -    1s\n",
      "     0     0 -60069.971    0  124 61999.9516 -60069.971   197%     -    1s\n",
      "     0     0 -60064.131    0  125 61999.9516 -60064.131   197%     -    1s\n",
      "     0     0 -60064.068    0  126 61999.9516 -60064.068   197%     -    1s\n",
      "     0     0 -59985.381    0  129 61999.9516 -59985.381   197%     -    1s\n",
      "     0     0 -59976.222    0  131 61999.9516 -59976.222   197%     -    1s\n",
      "     0     0 -59975.493    0  130 61999.9516 -59975.493   197%     -    1s\n",
      "     0     0 -59897.168    0  111 61999.9516 -59897.168   197%     -    1s\n",
      "     0     0 -59885.702    0  118 61999.9516 -59885.702   197%     -    1s\n",
      "     0     0 -59883.491    0  120 61999.9516 -59883.491   197%     -    1s\n",
      "     0     0 -59881.225    0  118 61999.9516 -59881.225   197%     -    1s\n",
      "     0     0 -59881.225    0  129 61999.9516 -59881.225   197%     -    1s\n",
      "     0     0 -59864.490    0  133 61999.9516 -59864.490   197%     -    1s\n",
      "     0     0 -59864.490    0  139 61999.9516 -59864.490   197%     -    1s\n",
      "     0     0 -59817.191    0  128 61999.9516 -59817.191   196%     -    1s\n",
      "     0     0 -59777.419    0  134 61999.9516 -59777.419   196%     -    1s\n",
      "     0     0 -59777.164    0  135 61999.9516 -59777.164   196%     -    1s\n",
      "     0     0 -59536.436    0  129 61999.9516 -59536.436   196%     -    1s\n",
      "     0     0 -59523.558    0  128 61999.9516 -59523.558   196%     -    1s\n",
      "     0     0 -59523.558    0  129 61999.9516 -59523.558   196%     -    1s\n",
      "     0     0 -59523.558    0  132 61999.9516 -59523.558   196%     -    1s\n"
     ]
    },
    {
     "name": "stdout",
     "output_type": "stream",
     "text": [
      "     0     0 -59480.151    0  124 61999.9516 -59480.151   196%     -    1s\n",
      "     0     0 -59450.736    0  125 61999.9516 -59450.736   196%     -    1s\n",
      "     0     0 -59448.603    0  128 61999.9516 -59448.603   196%     -    1s\n",
      "     0     0 -59448.603    0  128 61999.9516 -59448.603   196%     -    1s\n",
      "     0     0 -59404.373    0  133 61999.9516 -59404.373   196%     -    1s\n",
      "     0     0 -59395.927    0  138 61999.9516 -59395.927   196%     -    1s\n",
      "     0     0 -59395.703    0  138 61999.9516 -59395.703   196%     -    1s\n",
      "     0     0 -59360.359    0  130 61999.9516 -59360.359   196%     -    1s\n",
      "     0     0 -59360.349    0  141 61999.9516 -59360.349   196%     -    1s\n",
      "     0     0 -59257.182    0  143 61999.9516 -59257.182   196%     -    2s\n",
      "     0     0 -59176.694    0  138 61999.9516 -59176.694   195%     -    2s\n",
      "     0     0 -59153.544    0  135 61999.9516 -59153.544   195%     -    2s\n",
      "     0     0 -59149.073    0  137 61999.9516 -59149.073   195%     -    2s\n",
      "     0     0 -59145.540    0  138 61999.9516 -59145.540   195%     -    2s\n",
      "     0     0 -59145.540    0  141 61999.9516 -59145.540   195%     -    2s\n",
      "     0     0 -59029.739    0  139 61999.9516 -59029.739   195%     -    2s\n",
      "H    0     0                    50262.078963 -59029.739   217%     -    2s\n",
      "     0     0 -58956.074    0  137 50262.0790 -58956.074   217%     -    2s\n",
      "     0     0 -58952.078    0  137 50262.0790 -58952.078   217%     -    2s\n",
      "     0     0 -58948.470    0  138 50262.0790 -58948.470   217%     -    2s\n",
      "     0     0 -58946.950    0  147 50262.0790 -58946.950   217%     -    2s\n",
      "     0     0 -58874.845    0  132 50262.0790 -58874.845   217%     -    2s\n",
      "     0     0 -58843.285    0  136 50262.0790 -58843.285   217%     -    2s\n",
      "     0     0 -58843.285    0  141 50262.0790 -58843.285   217%     -    2s\n",
      "     0     0 -58843.285    0  141 50262.0790 -58843.285   217%     -    2s\n",
      "     0     0 -58817.524    0  144 50262.0790 -58817.524   217%     -    2s\n",
      "     0     0 -58809.425    0  147 50262.0790 -58809.425   217%     -    2s\n",
      "     0     0 -58809.425    0  148 50262.0790 -58809.425   217%     -    2s\n",
      "     0     0 -58795.105    0  144 50262.0790 -58795.105   217%     -    2s\n",
      "     0     0 -58761.104    0  144 50262.0790 -58761.104   217%     -    2s\n",
      "     0     0 -58753.192    0  148 50262.0790 -58753.192   217%     -    2s\n",
      "     0     0 -58753.192    0  150 50262.0790 -58753.192   217%     -    2s\n",
      "     0     0 -58702.523    0  148 50262.0790 -58702.523   217%     -    2s\n",
      "     0     0 -58702.523    0  154 50262.0790 -58702.523   217%     -    2s\n",
      "     0     0 -58656.776    0  147 50262.0790 -58656.776   217%     -    2s\n",
      "     0     0 -58602.536    0  149 50262.0790 -58602.536   217%     -    2s\n",
      "     0     0 -58593.244    0  152 50262.0790 -58593.244   217%     -    2s\n",
      "     0     0 -58593.244    0  154 50262.0790 -58593.244   217%     -    2s\n",
      "     0     0 -58377.831    0  150 50262.0790 -58377.831   216%     -    2s\n",
      "     0     0 -58363.266    0  153 50262.0790 -58363.266   216%     -    2s\n",
      "     0     0 -58363.266    0  154 50262.0790 -58363.266   216%     -    2s\n",
      "     0     0 -58268.275    0  154 50262.0790 -58268.275   216%     -    2s\n",
      "     0     0 -58261.997    0  151 50262.0790 -58261.997   216%     -    2s\n",
      "     0     0 -58260.857    0  152 50262.0790 -58260.857   216%     -    2s\n",
      "     0     0 -58260.857    0  153 50262.0790 -58260.857   216%     -    2s\n",
      "     0     0 -58260.857    0  153 50262.0790 -58260.857   216%     -    2s\n",
      "     0     2 -58260.837    0  153 50262.0790 -58260.837   216%     -    2s\n",
      "H  114   102                    50146.297297 -57363.290   214%   133    4s\n",
      "   180   165 25845.4073   25   92 50146.2973 -57363.290   214%   124    5s\n",
      "   755   491 -14506.699   13  140 50146.2973 -43190.361   186%  88.7   10s\n",
      "H  768   474                    46801.917970 -43190.361   192%  87.2   11s\n",
      "  1059   597 21115.0847   21  111 46801.9180 -43190.361   192%   107   15s\n",
      "H 1128   592                    44423.302929 -43190.361   197%   106   15s\n",
      "H 1226   555                    37277.195749 -43190.361   216%   106   16s\n",
      "H 1808   547                    34062.870705 -29593.359   187%   103   21s\n",
      "  2693   762 17436.8989   22  108 34062.8707 -23011.715   168%   101   25s\n",
      "  3574   996 27200.8158   23  111 34062.8707 -17538.235   151%  99.3   31s\n",
      "  4392  1145 7207.55041   26  119 34062.8707 -13617.112   140%  98.3   35s\n",
      "  5775  1345 32140.5474   36  113 34062.8707 -8226.6344   124%  96.2   40s\n",
      "  7121  1417 23977.4511   36  118 34062.8707 -3212.4742   109%  95.1   45s\n",
      "  8025  1420     cutoff   22      34062.8707 1091.93410  96.8%  94.9   51s\n",
      "  9151  1314     cutoff   30      34062.8707 5928.15784  82.6%  94.7   55s\n",
      " 10769   982     cutoff   37      34062.8707 13670.4372  59.9%  94.6   60s\n",
      " 12668   210     cutoff   26      34062.8707 23190.6200  31.9%  92.7   65s\n",
      "\n",
      "Cutting planes:\n",
      "  MIR: 55\n",
      "  StrongCG: 1\n",
      "  Flow cover: 90\n",
      "  Inf proof: 11\n",
      "  Zero half: 77\n",
      "\n",
      "Explored 13333 nodes (1213735 simplex iterations) in 65.58 seconds\n",
      "Thread count was 4 (of 4 available processors)\n",
      "\n",
      "Solution count 10: 34062.9 37277.2 44423.3 ... 89031.7\n",
      "\n",
      "Optimal solution found (tolerance 1.00e-04)\n",
      "Best objective 3.406287070460e+04, best bound 3.406287070460e+04, gap 0.0000%\n",
      "----------------------------------------------------------------------------------------------------\n",
      "Doing 1.0\n",
      "\n",
      "--------------------------------------------\n",
      "Warning: your license will expire in 9 days\n",
      "--------------------------------------------\n",
      "\n",
      "Using license file C:\\Users\\niccolomoretti\\gurobi.lic\n",
      "Read LP format model from file C:\\Users\\NICCOL~1\\AppData\\Local\\Temp\\tmp_tzjo7pq.pyomo.lp\n",
      "Reading time = 0.05 seconds\n",
      "x541: 8926 rows, 541 columns, 35641 nonzeros\n",
      "Gurobi Optimizer version 9.0.0 build v9.0.0rc2 (win64)\n",
      "Optimize a model with 8926 rows, 541 columns and 35641 nonzeros\n",
      "Model fingerprint: 0x00191d4d\n",
      "Variable types: 1 continuous, 540 integer (540 binary)\n",
      "Coefficient statistics:\n",
      "  Matrix range     [1e+00, 1e+00]\n",
      "  Objective range  [3e+02, 2e+04]\n",
      "  Bounds range     [1e+00, 1e+00]\n",
      "  RHS range        [1e+00, 3e+00]\n",
      "Presolve removed 6076 rows and 82 columns\n",
      "Presolve time: 0.04s\n",
      "Presolved: 2850 rows, 459 columns, 12069 nonzeros\n",
      "Variable types: 0 continuous, 459 integer (459 binary)\n",
      "Found heuristic solution: objective 21531.712390\n",
      "\n",
      "Root relaxation: objective -1.392500e+05, 385 iterations, 0.02 seconds\n",
      "\n",
      "    Nodes    |    Current Node    |     Objective Bounds      |     Work\n",
      " Expl Unexpl |  Obj  Depth IntInf | Incumbent    BestBd   Gap | It/Node Time\n",
      "\n",
      "     0     0 -139250.00    0   69 21531.7124 -139250.00   747%     -    0s\n",
      "H    0     0                    11639.343587 -139250.00  1296%     -    0s\n",
      "H    0     0                    2899.4637230 -139250.00  4903%     -    0s\n",
      "     0     0 -137389.58    0   88 2899.46372 -137389.58  4838%     -    0s\n",
      "H    0     0                    2471.0915268 -137389.58  5660%     -    0s\n",
      "     0     0 -135145.13    0   99 2471.09153 -135145.13  5569%     -    0s\n",
      "     0     0 -135114.27    0   96 2471.09153 -135114.27  5568%     -    0s\n",
      "     0     0 -135114.27    0   96 2471.09153 -135114.27  5568%     -    0s\n",
      "     0     0 -133892.42    0   76 2471.09153 -133892.42  5518%     -    0s\n",
      "     0     0 -133892.42    0   67 2471.09153 -133892.42  5518%     -    0s\n",
      "     0     0 -133892.42    0   80 2471.09153 -133892.42  5518%     -    0s\n",
      "     0     0 -133750.00    0   67 2471.09153 -133750.00  5513%     -    0s\n",
      "     0     0 -133750.00    0   63 2471.09153 -133750.00  5513%     -    0s\n",
      "     0     0 -132892.42    0   38 2471.09153 -132892.42  5478%     -    0s\n",
      "     0     0 -132892.42    0   69 2471.09153 -132892.42  5478%     -    0s\n",
      "     0     0 -132287.85    0  126 2471.09153 -132287.85  5453%     -    0s\n",
      "     0     0 -132195.23    0  120 2471.09153 -132195.23  5450%     -    0s\n",
      "     0     0 -132166.06    0  124 2471.09153 -132166.06  5448%     -    0s\n",
      "     0     0 -132158.72    0  126 2471.09153 -132158.72  5448%     -    0s\n",
      "     0     0 -132158.72    0  123 2471.09153 -132158.72  5448%     -    0s\n",
      "     0     0 -131381.80    0  122 2471.09153 -131381.80  5417%     -    0s\n",
      "H    0     0                    -20357.78374 -131381.80   545%     -    0s\n",
      "     0     0 -131287.65    0  130 -20357.784 -131287.65   545%     -    0s\n",
      "     0     0 -131195.42    0  129 -20357.784 -131195.42   544%     -    0s\n",
      "     0     0 -131114.31    0  129 -20357.784 -131114.31   544%     -    0s\n",
      "     0     0 -131096.02    0  128 -20357.784 -131096.02   544%     -    0s\n",
      "     0     0 -131096.02    0  127 -20357.784 -131096.02   544%     -    0s\n",
      "     0     0 -129724.21    0  121 -20357.784 -129724.21   537%     -    0s\n",
      "     0     0 -129489.37    0  121 -20357.784 -129489.37   536%     -    1s\n",
      "     0     0 -129424.11    0  124 -20357.784 -129424.11   536%     -    1s\n",
      "     0     0 -129422.65    0  126 -20357.784 -129422.65   536%     -    1s\n",
      "     0     0 -128864.10    0  135 -20357.784 -128864.10   533%     -    1s\n"
     ]
    },
    {
     "name": "stdout",
     "output_type": "stream",
     "text": [
      "     0     0 -128774.18    0  138 -20357.784 -128774.18   533%     -    1s\n",
      "     0     0 -128774.18    0  140 -20357.784 -128774.18   533%     -    1s\n",
      "     0     0 -128413.33    0  142 -20357.784 -128413.33   531%     -    1s\n",
      "     0     0 -128368.28    0  138 -20357.784 -128368.28   531%     -    1s\n",
      "     0     0 -128353.11    0  150 -20357.784 -128353.11   530%     -    1s\n",
      "     0     0 -128342.65    0  146 -20357.784 -128342.65   530%     -    1s\n",
      "     0     0 -128342.65    0  146 -20357.784 -128342.65   530%     -    1s\n",
      "     0     0 -128084.95    0  139 -20357.784 -128084.95   529%     -    1s\n",
      "     0     0 -128053.26    0  129 -20357.784 -128053.26   529%     -    1s\n",
      "     0     0 -128025.02    0  137 -20357.784 -128025.02   529%     -    1s\n",
      "     0     0 -128014.75    0  141 -20357.784 -128014.75   529%     -    1s\n",
      "     0     0 -128007.34    0  141 -20357.784 -128007.34   529%     -    1s\n",
      "     0     0 -128004.05    0  141 -20357.784 -128004.05   529%     -    1s\n",
      "     0     0 -128003.84    0  142 -20357.784 -128003.84   529%     -    1s\n",
      "     0     0 -127639.59    0  137 -20357.784 -127639.59   527%     -    1s\n",
      "     0     0 -127638.86    0  149 -20357.784 -127638.86   527%     -    1s\n",
      "     0     0 -127604.82    0  143 -20357.784 -127604.82   527%     -    1s\n",
      "     0     0 -127586.91    0  149 -20357.784 -127586.91   527%     -    1s\n",
      "     0     0 -127581.41    0  145 -20357.784 -127581.41   527%     -    1s\n",
      "     0     0 -127513.48    0  145 -20357.784 -127513.48   526%     -    1s\n",
      "     0     0 -127467.59    0  145 -20357.784 -127467.59   526%     -    1s\n",
      "     0     0 -127457.12    0  147 -20357.784 -127457.12   526%     -    1s\n",
      "     0     0 -127454.60    0  149 -20357.784 -127454.60   526%     -    1s\n",
      "     0     0 -127454.17    0  149 -20357.784 -127454.17   526%     -    1s\n",
      "     0     0 -127412.07    0  152 -20357.784 -127412.07   526%     -    1s\n",
      "     0     0 -127394.05    0  147 -20357.784 -127394.05   526%     -    1s\n",
      "     0     0 -127394.05    0  150 -20357.784 -127394.05   526%     -    1s\n",
      "     0     0 -127337.09    0  154 -20357.784 -127337.09   525%     -    1s\n",
      "     0     0 -127242.30    0  157 -20357.784 -127242.30   525%     -    1s\n",
      "     0     0 -127229.29    0  164 -20357.784 -127229.29   525%     -    1s\n",
      "     0     0 -127217.02    0  162 -20357.784 -127217.02   525%     -    1s\n",
      "     0     0 -127212.72    0  160 -20357.784 -127212.72   525%     -    1s\n",
      "     0     0 -127208.02    0  165 -20357.784 -127208.02   525%     -    1s\n",
      "     0     0 -127207.30    0  164 -20357.784 -127207.30   525%     -    1s\n",
      "     0     0 -127129.51    0  153 -20357.784 -127129.51   524%     -    1s\n",
      "     0     0 -127111.06    0  165 -20357.784 -127111.06   524%     -    1s\n",
      "     0     0 -127111.02    0  170 -20357.784 -127111.02   524%     -    1s\n",
      "     0     0 -127011.19    0  162 -20357.784 -127011.19   524%     -    1s\n",
      "     0     0 -127010.14    0  163 -20357.784 -127010.14   524%     -    2s\n",
      "     0     0 -126981.24    0  159 -20357.784 -126981.24   524%     -    2s\n",
      "     0     0 -126980.40    0  160 -20357.784 -126980.40   524%     -    2s\n",
      "     0     0 -126940.10    0  162 -20357.784 -126940.10   524%     -    2s\n",
      "     0     0 -126926.24    0  164 -20357.784 -126926.24   523%     -    2s\n",
      "     0     0 -126922.75    0  163 -20357.784 -126922.75   523%     -    2s\n",
      "     0     0 -126922.75    0  167 -20357.784 -126922.75   523%     -    2s\n",
      "     0     0 -126667.85    0  150 -20357.784 -126667.85   522%     -    2s\n",
      "     0     0 -126661.79    0  166 -20357.784 -126661.79   522%     -    2s\n",
      "     0     0 -126661.79    0  167 -20357.784 -126661.79   522%     -    2s\n",
      "     0     0 -126388.25    0  160 -20357.784 -126388.25   521%     -    2s\n",
      "     0     0 -126375.82    0  161 -20357.784 -126375.82   521%     -    2s\n",
      "     0     0 -126375.82    0  163 -20357.784 -126375.82   521%     -    2s\n",
      "     0     0 -126121.73    0  161 -20357.784 -126121.73   520%     -    2s\n",
      "     0     0 -126076.82    0  162 -20357.784 -126076.82   519%     -    2s\n",
      "     0     0 -126058.91    0  168 -20357.784 -126058.91   519%     -    2s\n",
      "     0     0 -126057.72    0  168 -20357.784 -126057.72   519%     -    2s\n",
      "     0     0 -126041.34    0  170 -20357.784 -126041.34   519%     -    2s\n",
      "     0     0 -126028.06    0  167 -20357.784 -126028.06   519%     -    2s\n",
      "     0     0 -126006.97    0  167 -20357.784 -126006.97   519%     -    2s\n",
      "     0     0 -126000.56    0  168 -20357.784 -126000.56   519%     -    2s\n",
      "     0     0 -126000.56    0  170 -20357.784 -126000.56   519%     -    2s\n",
      "     0     0 -125928.75    0  168 -20357.784 -125928.75   519%     -    2s\n",
      "     0     0 -125902.65    0  172 -20357.784 -125902.65   518%     -    2s\n",
      "     0     0 -125902.65    0  174 -20357.784 -125902.65   518%     -    2s\n",
      "     0     0 -125872.08    0  168 -20357.784 -125872.08   518%     -    2s\n",
      "     0     0 -125868.77    0  173 -20357.784 -125868.77   518%     -    2s\n",
      "     0     0 -125864.76    0  170 -20357.784 -125864.76   518%     -    2s\n",
      "     0     0 -125864.08    0  171 -20357.784 -125864.08   518%     -    2s\n",
      "     0     0 -125863.88    0  166 -20357.784 -125863.88   518%     -    2s\n",
      "     0     0 -125856.75    0  167 -20357.784 -125856.75   518%     -    2s\n",
      "     0     0 -125856.75    0  168 -20357.784 -125856.75   518%     -    2s\n",
      "     0     0 -125836.00    0  164 -20357.784 -125836.00   518%     -    3s\n",
      "     0     0 -125836.00    0  163 -20357.784 -125836.00   518%     -    3s\n",
      "     0     2 -125777.49    0  159 -20357.784 -125777.49   518%     -    3s\n",
      "   189   160 -59213.125   12   82 -20357.784 -116709.92   473%   119    5s\n",
      "*  388   229              19    -21265.39133 -110953.63   422%  92.4    6s\n",
      "*  447   265              20    -22133.89456 -110904.94   401%  94.0    6s\n",
      "H  463   265                    -23009.37959 -110904.94   382%  94.5    7s\n",
      "*  620   348              31    -23417.11146 -106864.72   356%  89.0    7s\n",
      "H  735   385                    -28156.42313 -106370.75   278%  89.1    8s\n",
      "   755   399 -61536.563   16  172 -28156.423 -106370.75   278%  86.7   10s\n",
      "H  792   406                    -32454.89745 -106370.75   228%  97.6   12s\n",
      "* 1058   483              35    -36755.50505 -101320.63   176%   102   14s\n",
      "H 1074   457                    -42469.83010 -101320.63   139%   101   14s\n",
      "  1106   443 -51226.977   32  117 -42469.830 -100451.85   137%   102   15s\n",
      "H 1211   397                    -47687.12930 -98905.674   107%   101   15s\n",
      "  2026   449 -64427.532   24  130 -47687.129 -87657.181  83.8%  95.7   20s\n",
      "  2749   527 -67214.828   25  131 -47687.129 -83040.958  74.1%  98.4   27s\n",
      "  3238   531 -57114.650   20  147 -47687.129 -76686.602  60.8%   100   30s\n",
      "  4357   323     cutoff   25      -47687.129 -64695.046  35.7%   101   35s\n",
      "\n",
      "Cutting planes:\n",
      "  Gomory: 3\n",
      "  MIR: 54\n",
      "  Flow cover: 106\n",
      "  Inf proof: 4\n",
      "  Zero half: 58\n",
      "\n",
      "Explored 5059 nodes (505379 simplex iterations) in 37.97 seconds\n",
      "Thread count was 4 (of 4 available processors)\n",
      "\n",
      "Solution count 10: -47687.1 -42469.8 -36755.5 ... -20357.8\n",
      "No other solutions better than -47687.1\n",
      "\n",
      "Optimal solution found (tolerance 1.00e-04)\n",
      "Best objective -4.768712929540e+04, best bound -4.768712929540e+04, gap 0.0000%\n",
      "----------------------------------------------------------------------------------------------------\n",
      "Doing 2.0\n",
      "\n",
      "--------------------------------------------\n",
      "Warning: your license will expire in 9 days\n",
      "--------------------------------------------\n",
      "\n",
      "Using license file C:\\Users\\niccolomoretti\\gurobi.lic\n",
      "Read LP format model from file C:\\Users\\NICCOL~1\\AppData\\Local\\Temp\\tmp559t_v85.pyomo.lp\n",
      "Reading time = 0.07 seconds\n",
      "x541: 8926 rows, 541 columns, 35641 nonzeros\n",
      "Gurobi Optimizer version 9.0.0 build v9.0.0rc2 (win64)\n",
      "Optimize a model with 8926 rows, 541 columns and 35641 nonzeros\n",
      "Model fingerprint: 0xdedb0e8a\n",
      "Variable types: 1 continuous, 540 integer (540 binary)\n",
      "Coefficient statistics:\n",
      "  Matrix range     [1e+00, 1e+00]\n",
      "  Objective range  [3e+02, 3e+04]\n",
      "  Bounds range     [1e+00, 1e+00]\n",
      "  RHS range        [1e+00, 3e+00]\n",
      "Presolve removed 6076 rows and 82 columns\n",
      "Presolve time: 0.06s\n",
      "Presolved: 2850 rows, 459 columns, 12069 nonzeros\n",
      "Variable types: 0 continuous, 459 integer (459 binary)\n",
      "Found heuristic solution: objective -113468.2876\n",
      "\n",
      "Root relaxation: objective -2.785000e+05, 305 iterations, 0.02 seconds\n"
     ]
    },
    {
     "name": "stdout",
     "output_type": "stream",
     "text": [
      "\n",
      "    Nodes    |    Current Node    |     Objective Bounds      |     Work\n",
      " Expl Unexpl |  Obj  Depth IntInf | Incumbent    BestBd   Gap | It/Node Time\n",
      "\n",
      "     0     0 -278500.00    0   24 -113468.29 -278500.00   145%     -    0s\n",
      "H    0     0                    -128047.9506 -278500.00   117%     -    0s\n",
      "     0     0 -276826.37    0  101 -128047.95 -276826.37   116%     -    0s\n",
      "     0     0 -276773.58    0   96 -128047.95 -276773.58   116%     -    0s\n",
      "     0     0 -274582.48    0   90 -128047.95 -274582.48   114%     -    0s\n",
      "     0     0 -274522.47    0  100 -128047.95 -274522.47   114%     -    0s\n",
      "     0     0 -262523.87    0  111 -128047.95 -262523.87   105%     -    0s\n",
      "H    0     0                    -128767.9871 -262523.87   104%     -    0s\n",
      "     0     0 -262381.73    0  114 -128767.99 -262381.73   104%     -    0s\n",
      "     0     0 -262381.73    0  114 -128767.99 -262381.73   104%     -    0s\n",
      "     0     0 -261111.10    0  124 -128767.99 -261111.10   103%     -    0s\n",
      "H    0     0                    -182061.2811 -261111.10  43.4%     -    0s\n",
      "     0     0 -260763.39    0  123 -182061.28 -260763.39  43.2%     -    0s\n",
      "     0     0 -260742.38    0  123 -182061.28 -260742.38  43.2%     -    0s\n",
      "     0     0 -260741.26    0  119 -182061.28 -260741.26  43.2%     -    0s\n",
      "     0     0 -260427.38    0  118 -182061.28 -260427.38  43.0%     -    0s\n",
      "     0     0 -260427.38    0  113 -182061.28 -260427.38  43.0%     -    0s\n",
      "     0     0 -260117.52    0  123 -182061.28 -260117.52  42.9%     -    0s\n",
      "     0     0 -259990.67    0  129 -182061.28 -259990.67  42.8%     -    0s\n",
      "     0     0 -259990.67    0  132 -182061.28 -259990.67  42.8%     -    0s\n",
      "     0     0 -259517.87    0  127 -182061.28 -259517.87  42.5%     -    0s\n",
      "     0     0 -259393.37    0  121 -182061.28 -259393.37  42.5%     -    0s\n",
      "     0     0 -259323.19    0  133 -182061.28 -259323.19  42.4%     -    0s\n",
      "     0     0 -259323.19    0  141 -182061.28 -259323.19  42.4%     -    0s\n",
      "     0     0 -258560.95    0  132 -182061.28 -258560.95  42.0%     -    0s\n",
      "     0     0 -258519.96    0  135 -182061.28 -258519.96  42.0%     -    0s\n",
      "     0     0 -258516.90    0  138 -182061.28 -258516.90  42.0%     -    0s\n",
      "     0     0 -258036.93    0  130 -182061.28 -258036.93  41.7%     -    0s\n",
      "     0     0 -257776.80    0  143 -182061.28 -257776.80  41.6%     -    1s\n",
      "     0     0 -257614.98    0  136 -182061.28 -257614.98  41.5%     -    1s\n",
      "     0     0 -257611.26    0  138 -182061.28 -257611.26  41.5%     -    1s\n",
      "     0     0 -257099.98    0  141 -182061.28 -257099.98  41.2%     -    1s\n",
      "     0     0 -256609.26    0  137 -182061.28 -256609.26  40.9%     -    1s\n",
      "     0     0 -256536.11    0  146 -182061.28 -256536.11  40.9%     -    1s\n",
      "     0     0 -256536.11    0  148 -182061.28 -256536.11  40.9%     -    1s\n",
      "     0     0 -255736.77    0  134 -182061.28 -255736.77  40.5%     -    1s\n",
      "     0     0 -255634.21    0  139 -182061.28 -255634.21  40.4%     -    1s\n",
      "     0     0 -255627.47    0  150 -182061.28 -255627.47  40.4%     -    1s\n",
      "     0     0 -255613.57    0  153 -182061.28 -255613.57  40.4%     -    1s\n",
      "     0     0 -255613.57    0  154 -182061.28 -255613.57  40.4%     -    1s\n",
      "     0     0 -254923.28    0  142 -182061.28 -254923.28  40.0%     -    1s\n",
      "     0     0 -254914.68    0  152 -182061.28 -254914.68  40.0%     -    1s\n",
      "     0     0 -254904.54    0  148 -182061.28 -254904.54  40.0%     -    1s\n",
      "     0     0 -254904.54    0  149 -182061.28 -254904.54  40.0%     -    1s\n",
      "     0     0 -254904.54    0  148 -182061.28 -254904.54  40.0%     -    1s\n",
      "     0     0 -254904.54    0  150 -182061.28 -254904.54  40.0%     -    1s\n",
      "     0     0 -254874.80    0  154 -182061.28 -254874.80  40.0%     -    1s\n",
      "     0     0 -254874.80    0  153 -182061.28 -254874.80  40.0%     -    1s\n",
      "     0     2 -254851.69    0  151 -182061.28 -254851.69  40.0%     -    1s\n",
      "*   85    61              13    -206381.3292 -246693.45  19.5%  89.8    2s\n",
      "*  186    80               8    -206615.5337 -246519.56  19.3%  74.2    3s\n",
      "*  200    81              13    -211187.1293 -246519.56  16.7%  72.3    3s\n",
      "   566   102 -224129.99    9  111 -211187.13 -235998.97  11.7%  73.4    5s\n",
      "\n",
      "Cutting planes:\n",
      "  Cover: 9\n",
      "  Implied bound: 6\n",
      "  Clique: 8\n",
      "  MIR: 105\n",
      "  StrongCG: 4\n",
      "  GUB cover: 2\n",
      "  Inf proof: 1\n",
      "  Zero half: 69\n",
      "\n",
      "Explored 1342 nodes (92612 simplex iterations) in 9.51 seconds\n",
      "Thread count was 4 (of 4 available processors)\n",
      "\n",
      "Solution count 7: -211187 -206616 -206381 ... -113468\n",
      "No other solutions better than -211187\n",
      "\n",
      "Optimal solution found (tolerance 1.00e-04)\n",
      "Best objective -2.111871292954e+05, best bound -2.111871292954e+05, gap 0.0000%\n",
      "----------------------------------------------------------------------------------------------------\n",
      "Doing 5.0\n",
      "\n",
      "--------------------------------------------\n",
      "Warning: your license will expire in 9 days\n",
      "--------------------------------------------\n",
      "\n",
      "Using license file C:\\Users\\niccolomoretti\\gurobi.lic\n",
      "Read LP format model from file C:\\Users\\NICCOL~1\\AppData\\Local\\Temp\\tmpp3tsqspa.pyomo.lp\n",
      "Reading time = 0.06 seconds\n",
      "x541: 8926 rows, 541 columns, 35641 nonzeros\n",
      "Gurobi Optimizer version 9.0.0 build v9.0.0rc2 (win64)\n",
      "Optimize a model with 8926 rows, 541 columns and 35641 nonzeros\n",
      "Model fingerprint: 0xefb67a35\n",
      "Variable types: 1 continuous, 540 integer (540 binary)\n",
      "Coefficient statistics:\n",
      "  Matrix range     [1e+00, 1e+00]\n",
      "  Objective range  [3e+02, 8e+04]\n",
      "  Bounds range     [1e+00, 1e+00]\n",
      "  RHS range        [1e+00, 3e+00]\n",
      "Presolve removed 6076 rows and 82 columns\n",
      "Presolve time: 0.06s\n",
      "Presolved: 2850 rows, 459 columns, 12069 nonzeros\n",
      "Variable types: 0 continuous, 459 integer (459 binary)\n",
      "Found heuristic solution: objective -518468.2876\n",
      "\n",
      "Root relaxation: objective -7.154731e+05, 596 iterations, 0.04 seconds\n",
      "\n",
      "    Nodes    |    Current Node    |     Objective Bounds      |     Work\n",
      " Expl Unexpl |  Obj  Depth IntInf | Incumbent    BestBd   Gap | It/Node Time\n",
      "\n",
      "     0     0 -715473.12    0  140 -518468.29 -715473.12  38.0%     -    0s\n",
      "H    0     0                    -668029.7736 -715473.12  7.10%     -    0s\n",
      "     0     0 -710576.89    0  132 -668029.77 -710576.89  6.37%     -    0s\n",
      "H    0     0                    -701687.1293 -710576.89  1.27%     -    0s\n",
      "     0     0 -710468.10    0  131 -701687.13 -710468.10  1.25%     -    0s\n",
      "     0     0 -709311.27    0  139 -701687.13 -709311.27  1.09%     -    0s\n",
      "     0     0     cutoff    0      -701687.13 -701687.13  0.00%     -    0s\n",
      "\n",
      "Explored 1 nodes (1504 simplex iterations) in 0.61 seconds\n",
      "Thread count was 4 (of 4 available processors)\n",
      "\n",
      "Solution count 4: -701687 -701687 -668030 -518468 \n",
      "No other solutions better than -701687\n",
      "\n",
      "Optimal solution found (tolerance 1.00e-04)\n",
      "Best objective -7.016871292954e+05, best bound -7.016871292954e+05, gap 0.0000%\n",
      "----------------------------------------------------------------------------------------------------\n",
      "Doing 10.0\n",
      "\n",
      "--------------------------------------------\n",
      "Warning: your license will expire in 9 days\n",
      "--------------------------------------------\n",
      "\n",
      "Using license file C:\\Users\\niccolomoretti\\gurobi.lic\n",
      "Read LP format model from file C:\\Users\\NICCOL~1\\AppData\\Local\\Temp\\tmp4o83jmu3.pyomo.lp\n",
      "Reading time = 0.07 seconds\n",
      "x541: 8926 rows, 541 columns, 35641 nonzeros\n",
      "Gurobi Optimizer version 9.0.0 build v9.0.0rc2 (win64)\n",
      "Optimize a model with 8926 rows, 541 columns and 35641 nonzeros\n",
      "Model fingerprint: 0x3b281d9d\n",
      "Variable types: 1 continuous, 540 integer (540 binary)\n",
      "Coefficient statistics:\n",
      "  Matrix range     [1e+00, 1e+00]\n",
      "  Objective range  [3e+02, 2e+05]\n",
      "  Bounds range     [1e+00, 1e+00]\n",
      "  RHS range        [1e+00, 3e+00]\n",
      "Presolve removed 6076 rows and 82 columns\n",
      "Presolve time: 0.05s\n",
      "Presolved: 2850 rows, 459 columns, 12069 nonzeros\n",
      "Variable types: 0 continuous, 459 integer (459 binary)\n",
      "Found heuristic solution: objective -1193468.288\n",
      "\n",
      "Root relaxation: objective -1.523650e+06, 397 iterations, 0.02 seconds\n",
      "\n",
      "    Nodes    |    Current Node    |     Objective Bounds      |     Work\n",
      " Expl Unexpl |  Obj  Depth IntInf | Incumbent    BestBd   Gap | It/Node Time\n",
      "\n",
      "     0     0 -1523650.4    0  117 -1193468.3 -1523650.4  27.7%     -    0s\n",
      "     0     0 -1519323.0    0   88 -1193468.3 -1519323.0  27.3%     -    0s\n",
      "H    0     0                    -1472675.371 -1519323.0  3.17%     -    0s\n",
      "     0     0 -1519187.1    0   67 -1472675.4 -1519187.1  3.16%     -    0s\n"
     ]
    },
    {
     "name": "stdout",
     "output_type": "stream",
     "text": [
      "     0     0 -1519187.1    0   16 -1472675.4 -1519187.1  3.16%     -    0s\n",
      "H    0     0                    -1519187.129 -1519187.1  0.00%     -    0s\n",
      "\n",
      "Cutting planes:\n",
      "  Gomory: 2\n",
      "  Implied bound: 2\n",
      "  Clique: 3\n",
      "  MIR: 2\n",
      "  Zero half: 2\n",
      "\n",
      "Explored 1 nodes (1130 simplex iterations) in 0.34 seconds\n",
      "Thread count was 4 (of 4 available processors)\n",
      "\n",
      "Solution count 3: -1.51919e+06 -1.47268e+06 -1.19347e+06 \n",
      "No other solutions better than -1.51919e+06\n",
      "\n",
      "Optimal solution found (tolerance 1.00e-04)\n",
      "Best objective -1.519187129295e+06, best bound -1.519187129295e+06, gap 0.0000%\n",
      "----------------------------------------------------------------------------------------------------\n",
      "Doing 15.0\n",
      "\n",
      "--------------------------------------------\n",
      "Warning: your license will expire in 9 days\n",
      "--------------------------------------------\n",
      "\n",
      "Using license file C:\\Users\\niccolomoretti\\gurobi.lic\n",
      "Read LP format model from file C:\\Users\\NICCOL~1\\AppData\\Local\\Temp\\tmpn2wq4k0c.pyomo.lp\n",
      "Reading time = 0.05 seconds\n",
      "x541: 8926 rows, 541 columns, 35641 nonzeros\n",
      "Gurobi Optimizer version 9.0.0 build v9.0.0rc2 (win64)\n",
      "Optimize a model with 8926 rows, 541 columns and 35641 nonzeros\n",
      "Model fingerprint: 0x2ed9a544\n",
      "Variable types: 1 continuous, 540 integer (540 binary)\n",
      "Coefficient statistics:\n",
      "  Matrix range     [1e+00, 1e+00]\n",
      "  Objective range  [3e+02, 2e+05]\n",
      "  Bounds range     [1e+00, 1e+00]\n",
      "  RHS range        [1e+00, 3e+00]\n",
      "Presolve removed 6076 rows and 82 columns\n",
      "Presolve time: 0.05s\n",
      "Presolved: 2850 rows, 459 columns, 12069 nonzeros\n",
      "Variable types: 0 continuous, 459 integer (459 binary)\n",
      "Found heuristic solution: objective -1868468.288\n",
      "\n",
      "Root relaxation: objective -2.340510e+06, 456 iterations, 0.02 seconds\n",
      "\n",
      "    Nodes    |    Current Node    |     Objective Bounds      |     Work\n",
      " Expl Unexpl |  Obj  Depth IntInf | Incumbent    BestBd   Gap | It/Node Time\n",
      "\n",
      "     0     0 -2340510.1    0  110 -1868468.3 -2340510.1  25.3%     -    0s\n",
      "H    0     0                    -2336687.129 -2340510.1  0.16%     -    0s\n",
      "H    0     0                    -2338469.830 -2340510.1  0.09%     -    0s\n",
      "\n",
      "Cutting planes:\n",
      "  Gomory: 3\n",
      "  Clique: 11\n",
      "  MIR: 15\n",
      "  Zero half: 3\n",
      "\n",
      "Explored 1 nodes (743 simplex iterations) in 0.17 seconds\n",
      "Thread count was 4 (of 4 available processors)\n",
      "\n",
      "Solution count 3: -2.33847e+06 -2.33669e+06 -1.86847e+06 \n",
      "No other solutions better than -2.33847e+06\n",
      "\n",
      "Optimal solution found (tolerance 1.00e-04)\n",
      "Best objective -2.338469830096e+06, best bound -2.338469830096e+06, gap 0.0000%\n",
      "----------------------------------------------------------------------------------------------------\n",
      "Doing 20.0\n",
      "\n",
      "--------------------------------------------\n",
      "Warning: your license will expire in 9 days\n",
      "--------------------------------------------\n",
      "\n",
      "Using license file C:\\Users\\niccolomoretti\\gurobi.lic\n",
      "Read LP format model from file C:\\Users\\NICCOL~1\\AppData\\Local\\Temp\\tmpve9bjx1i.pyomo.lp\n",
      "Reading time = 0.04 seconds\n",
      "x541: 8926 rows, 541 columns, 35641 nonzeros\n",
      "Gurobi Optimizer version 9.0.0 build v9.0.0rc2 (win64)\n",
      "Optimize a model with 8926 rows, 541 columns and 35641 nonzeros\n",
      "Model fingerprint: 0xeb62e29e\n",
      "Variable types: 1 continuous, 540 integer (540 binary)\n",
      "Coefficient statistics:\n",
      "  Matrix range     [1e+00, 1e+00]\n",
      "  Objective range  [3e+02, 3e+05]\n",
      "  Bounds range     [1e+00, 1e+00]\n",
      "  RHS range        [1e+00, 3e+00]\n",
      "Presolve removed 6076 rows and 82 columns\n",
      "Presolve time: 0.03s\n",
      "Presolved: 2850 rows, 459 columns, 12069 nonzeros\n",
      "Variable types: 0 continuous, 459 integer (459 binary)\n",
      "Found heuristic solution: objective -2543468.288\n",
      "\n",
      "Root relaxation: objective -3.158779e+06, 415 iterations, 0.02 seconds\n",
      "\n",
      "    Nodes    |    Current Node    |     Objective Bounds      |     Work\n",
      " Expl Unexpl |  Obj  Depth IntInf | Incumbent    BestBd   Gap | It/Node Time\n",
      "\n",
      "     0     0 -3158779.3    0  124 -2543468.3 -3158779.3  24.2%     -    0s\n",
      "     0     0 -3158469.8    0   82 -2543468.3 -3158469.8  24.2%     -    0s\n",
      "H    0     0                    -3158469.830 -3158469.8  0.00%     -    0s\n",
      "     0     0 -3158469.8    0   82 -3158469.8 -3158469.8  0.00%     -    0s\n",
      "\n",
      "Cutting planes:\n",
      "  Gomory: 1\n",
      "  MIR: 2\n",
      "  Zero half: 1\n",
      "\n",
      "Explored 1 nodes (585 simplex iterations) in 0.18 seconds\n",
      "Thread count was 4 (of 4 available processors)\n",
      "\n",
      "Solution count 2: -3.15847e+06 -2.54347e+06 \n",
      "No other solutions better than -3.15847e+06\n",
      "\n",
      "Optimal solution found (tolerance 1.00e-04)\n",
      "Best objective -3.158469830096e+06, best bound -3.158469830096e+06, gap 0.0000%\n",
      "----------------------------------------------------------------------------------------------------\n",
      "Doing 25.0\n",
      "\n",
      "--------------------------------------------\n",
      "Warning: your license will expire in 9 days\n",
      "--------------------------------------------\n",
      "\n",
      "Using license file C:\\Users\\niccolomoretti\\gurobi.lic\n",
      "Read LP format model from file C:\\Users\\NICCOL~1\\AppData\\Local\\Temp\\tmpazykymtk.pyomo.lp\n",
      "Reading time = 0.04 seconds\n",
      "x541: 8926 rows, 541 columns, 35641 nonzeros\n",
      "Gurobi Optimizer version 9.0.0 build v9.0.0rc2 (win64)\n",
      "Optimize a model with 8926 rows, 541 columns and 35641 nonzeros\n",
      "Model fingerprint: 0x218af37b\n",
      "Variable types: 1 continuous, 540 integer (540 binary)\n",
      "Coefficient statistics:\n",
      "  Matrix range     [1e+00, 1e+00]\n",
      "  Objective range  [3e+02, 4e+05]\n",
      "  Bounds range     [1e+00, 1e+00]\n",
      "  RHS range        [1e+00, 3e+00]\n",
      "Presolve removed 6076 rows and 82 columns\n",
      "Presolve time: 0.04s\n",
      "Presolved: 2850 rows, 459 columns, 12069 nonzeros\n",
      "Variable types: 0 continuous, 459 integer (459 binary)\n",
      "Found heuristic solution: objective -3218468.288\n",
      "\n",
      "Root relaxation: objective -3.978470e+06, 363 iterations, 0.02 seconds\n",
      "\n",
      "    Nodes    |    Current Node    |     Objective Bounds      |     Work\n",
      " Expl Unexpl |  Obj  Depth IntInf | Incumbent    BestBd   Gap | It/Node Time\n",
      "\n",
      "     0     0 -3978469.8    0   16 -3218468.3 -3978469.8  23.6%     -    0s\n",
      "H    0     0                    -3978469.830 -3978469.8  0.00%     -    0s\n",
      "     0     0 -3978469.8    0   16 -3978469.8 -3978469.8  0.00%     -    0s\n",
      "\n",
      "Explored 1 nodes (720 simplex iterations) in 0.12 seconds\n",
      "Thread count was 4 (of 4 available processors)\n",
      "\n",
      "Solution count 2: -3.97847e+06 -3.21847e+06 \n",
      "No other solutions better than -3.97847e+06\n",
      "\n",
      "Optimal solution found (tolerance 1.00e-04)\n",
      "Best objective -3.978469830096e+06, best bound -3.978469830096e+06, gap 0.0000%\n"
     ]
    }
   ],
   "source": [
    "models = {}\n",
    "for p in p_list:\n",
    "    print('-'*100)\n",
    "    print('Doing %.1f' % p)\n",
    "    models[p] = model.clone()\n",
    "    models[p].name = 'Model_%f.1f' % p\n",
    "    models[p].P_param = p\n",
    "\n",
    "    opt.solve(models[p],tee=True)"
   ]
  },
  {
   "cell_type": "markdown",
   "metadata": {},
   "source": [
    "# Parse Results"
   ]
  },
  {
   "cell_type": "code",
   "execution_count": 36,
   "metadata": {},
   "outputs": [],
   "source": [
    "class results:\n",
    "    def __init__(self):\n",
    "        self.df_final_calendar = pd.DataFrame()\n",
    "        self.df_byTeam = pd.DataFrame()\n",
    "        self.df_dist = pd.DataFrame()\n",
    "        self.df_pos = pd.DataFrame()\n",
    "        self.df_gkpi = pd.DataFrame()\n",
    "        \n",
    "    def parse_solution(self,_model):\n",
    "        p = _model.P_param.value\n",
    "        ## groups\n",
    "        df_groups = v2df(_model.x_var,['Team','Group','Weekend'])\n",
    "        df_groups = df_groups.reset_index().set_index(['Weekend','Group']).sort_index()\n",
    "\n",
    "        ## locations\n",
    "        df_loc = v2df(_model.y_var,['Location','Group','Weekend'])\n",
    "        df_loc = df_loc.reset_index().set_index(['Weekend','Group']).sort_index()\n",
    "\n",
    "        df_calendar = df_loc.merge(df_groups,left_index=True,right_index=True)\n",
    "\n",
    "        df_cal_sf = df_calendar.reset_index().groupby(['Weekend','Group','Location']).agg(\n",
    "            {\"Team\": {lambda l: l[0], lambda l: l[1],lambda l: l[2] } })\n",
    "        df_cal_sf = df_cal_sf.rename({  '<lambda_%d>' % i :'Team_%d' % (i+1) for i in range(3)},axis=1)\n",
    "\n",
    "        df_p = df_fans.T.copy()\n",
    "        df_p['Weekend'] = df_p.index.map(lambda s: int(s.split(\"_\")[-1]))\n",
    "        df_p = df_p.melt(id_vars='Weekend',var_name='Location',value_name='Fans').set_index(['Weekend','Location'])\n",
    "        df_c = df_cal_sf['Team']\n",
    "\n",
    "        df_c = df_c.reset_index().set_index(['Weekend','Location'])\n",
    "\n",
    "        df_final_calendar = df_c.merge(df_p,right_index=True,left_index=True)\n",
    "        df_final_calendar = df_final_calendar.sort_index().drop('Group',axis=1)\n",
    "\n",
    "        ordered_cols = ['Fans'] + list(df_final_calendar.columns)[:-1]\n",
    "        df_final_calendar = df_final_calendar[ordered_cols]\n",
    "\n",
    "        # reconciliation\n",
    "        print('Reconcilation...')\n",
    "        _df = df_calendar.reset_index().set_index('Team')\n",
    "        _df = _df.pivot(columns='Weekend')['Location']\n",
    "\n",
    "        for i in range(1,N_Weekends):\n",
    "            _df['%d->%d' % (i,i+1)] = [ df_dist.loc[x] for x in zip(_df[i],_df[i+1])]\n",
    "\n",
    "        df_byTeam = _df.copy()\n",
    "\n",
    "        travel_cols = [ col for col in _df.columns if '->' in str(col) ]\n",
    "        totdist = _df[ travel_cols ].sum(axis=1)\n",
    "\n",
    "        tot_fans = df_final_calendar['Fans'].sum()\n",
    "\n",
    "        model_obj = _model.obj.expr() \n",
    "        calc_obj = totdist.sum() - _model.P_param.value * tot_fans\n",
    "        print(\"[%s]   %.2f vs %.2f\" % ('OK' if  abs(model_obj - calc_obj)/calc_obj< 0.001 else 'NO'  ,model_obj,calc_obj))\n",
    "\n",
    "        \n",
    "\n",
    "        self.df_final_calendar = df_final_calendar\n",
    "        self.df_byTeam = df_byTeam\n",
    "        self.df_dist = df_byTeam[travel_cols]\n",
    "        self.df_pos  = df_byTeam[[col for col in df_byTeam.columns if col not in travel_cols]]\n",
    "\n",
    "        ## global KPIs\n",
    "        kpis = {'Shortest Journey' : self.df_dist.sum(axis=1).min(),\n",
    "               'Longest Journey' : self.df_dist.sum(axis=1).max(),\n",
    "                'Delta' : self.df_dist.sum(axis=1).max() - self.df_dist.sum(axis=1).min(),\n",
    "                'Mean Journey' : self.df_dist.sum(axis=1).mean(),\n",
    "                'Total Travel' : self.df_dist.sum(axis=1).sum(),\n",
    "               'Longest Leg' : self.df_dist.max().max(),\n",
    "                'Lowest # Spectators' : self.df_final_calendar['Fans'].max(),\n",
    "                'Highest # Spectators' : self.df_final_calendar['Fans'].min(),\n",
    "                'Total # Spectators' : self.df_final_calendar['Fans'].sum(),\n",
    "                'Mean # Spectators' : self.df_final_calendar['Fans'].mean()\n",
    "               }\n",
    "\n",
    "        df_g = pd.DataFrame.from_dict({p:kpis},orient='index')\n",
    "        df_g.index.name = 'P'\n",
    "        self.df_gkpi = df_g\n",
    "\n",
    "        \n",
    "\n",
    "\n",
    "def v2df(var,idxnames,getOn=True):\n",
    "    rs = var.extract_values()\n",
    "    df = pd.DataFrame(pd.Series(rs),columns=['value'])\n",
    "    df.index.names = idxnames\n",
    "    if getOn:\n",
    "        df = df[df['value']>0].dropna()\n",
    "        df = df.drop('value',axis=1)\n",
    "    return df"
   ]
  },
  {
   "cell_type": "markdown",
   "metadata": {},
   "source": [
    "# Example:"
   ]
  },
  {
   "cell_type": "code",
   "execution_count": 64,
   "metadata": {},
   "outputs": [
    {
     "name": "stdout",
     "output_type": "stream",
     "text": [
      "Reconcilation...\n",
      "[OK]   -3978469.83 vs -3978469.83\n"
     ]
    }
   ],
   "source": [
    "_result_25 = results()\n",
    "_result_25.parse_solution(models[25])"
   ]
  },
  {
   "cell_type": "markdown",
   "metadata": {},
   "source": [
    "### Calendar"
   ]
  },
  {
   "cell_type": "code",
   "execution_count": 65,
   "metadata": {},
   "outputs": [
    {
     "data": {
      "text/html": [
       "<div>\n",
       "<style scoped>\n",
       "    .dataframe tbody tr th:only-of-type {\n",
       "        vertical-align: middle;\n",
       "    }\n",
       "\n",
       "    .dataframe tbody tr th {\n",
       "        vertical-align: top;\n",
       "    }\n",
       "\n",
       "    .dataframe thead th {\n",
       "        text-align: right;\n",
       "    }\n",
       "</style>\n",
       "<table border=\"1\" class=\"dataframe\">\n",
       "  <thead>\n",
       "    <tr style=\"text-align: right;\">\n",
       "      <th></th>\n",
       "      <th></th>\n",
       "      <th>Fans</th>\n",
       "      <th>Team_1</th>\n",
       "      <th>Team_2</th>\n",
       "      <th>Team_3</th>\n",
       "    </tr>\n",
       "    <tr>\n",
       "      <th>Weekend</th>\n",
       "      <th>Location</th>\n",
       "      <th></th>\n",
       "      <th></th>\n",
       "      <th></th>\n",
       "      <th></th>\n",
       "    </tr>\n",
       "  </thead>\n",
       "  <tbody>\n",
       "    <tr>\n",
       "      <th rowspan=\"3\" valign=\"top\">1</th>\n",
       "      <th>Brussels</th>\n",
       "      <td>16000</td>\n",
       "      <td>Belgium</td>\n",
       "      <td>Guinea</td>\n",
       "      <td>Mongolia</td>\n",
       "    </tr>\n",
       "    <tr>\n",
       "      <th>Porto-Novo</th>\n",
       "      <td>13500</td>\n",
       "      <td>United Kingdom</td>\n",
       "      <td>Benin</td>\n",
       "      <td>Iceland</td>\n",
       "    </tr>\n",
       "    <tr>\n",
       "      <th>Victoria</th>\n",
       "      <td>15500</td>\n",
       "      <td>Seychelles</td>\n",
       "      <td>Eswatini</td>\n",
       "      <td>Portugal</td>\n",
       "    </tr>\n",
       "    <tr>\n",
       "      <th rowspan=\"3\" valign=\"top\">2</th>\n",
       "      <th>Conakry</th>\n",
       "      <td>16500</td>\n",
       "      <td>Guinea</td>\n",
       "      <td>Benin</td>\n",
       "      <td>Seychelles</td>\n",
       "    </tr>\n",
       "    <tr>\n",
       "      <th>Lisbon</th>\n",
       "      <td>12000</td>\n",
       "      <td>Mongolia</td>\n",
       "      <td>Iceland</td>\n",
       "      <td>Portugal</td>\n",
       "    </tr>\n",
       "    <tr>\n",
       "      <th>Mbabane</th>\n",
       "      <td>12500</td>\n",
       "      <td>United Kingdom</td>\n",
       "      <td>Eswatini</td>\n",
       "      <td>Belgium</td>\n",
       "    </tr>\n",
       "    <tr>\n",
       "      <th rowspan=\"3\" valign=\"top\">3</th>\n",
       "      <th>Brussels</th>\n",
       "      <td>7500</td>\n",
       "      <td>Belgium</td>\n",
       "      <td>Benin</td>\n",
       "      <td>Portugal</td>\n",
       "    </tr>\n",
       "    <tr>\n",
       "      <th>London</th>\n",
       "      <td>15500</td>\n",
       "      <td>Seychelles</td>\n",
       "      <td>United Kingdom</td>\n",
       "      <td>Mongolia</td>\n",
       "    </tr>\n",
       "    <tr>\n",
       "      <th>Reykjavik</th>\n",
       "      <td>12500</td>\n",
       "      <td>Guinea</td>\n",
       "      <td>Eswatini</td>\n",
       "      <td>Iceland</td>\n",
       "    </tr>\n",
       "    <tr>\n",
       "      <th rowspan=\"3\" valign=\"top\">4</th>\n",
       "      <th>Brussels</th>\n",
       "      <td>11500</td>\n",
       "      <td>Iceland</td>\n",
       "      <td>Seychelles</td>\n",
       "      <td>Belgium</td>\n",
       "    </tr>\n",
       "    <tr>\n",
       "      <th>London</th>\n",
       "      <td>16000</td>\n",
       "      <td>United Kingdom</td>\n",
       "      <td>Guinea</td>\n",
       "      <td>Portugal</td>\n",
       "    </tr>\n",
       "    <tr>\n",
       "      <th>Ulaanbaatar</th>\n",
       "      <td>15000</td>\n",
       "      <td>Eswatini</td>\n",
       "      <td>Benin</td>\n",
       "      <td>Mongolia</td>\n",
       "    </tr>\n",
       "  </tbody>\n",
       "</table>\n",
       "</div>"
      ],
      "text/plain": [
       "                      Fans          Team_1          Team_2      Team_3\n",
       "Weekend Location                                                      \n",
       "1       Brussels     16000         Belgium          Guinea    Mongolia\n",
       "        Porto-Novo   13500  United Kingdom           Benin     Iceland\n",
       "        Victoria     15500      Seychelles        Eswatini    Portugal\n",
       "2       Conakry      16500          Guinea           Benin  Seychelles\n",
       "        Lisbon       12000        Mongolia         Iceland    Portugal\n",
       "        Mbabane      12500  United Kingdom        Eswatini     Belgium\n",
       "3       Brussels      7500         Belgium           Benin    Portugal\n",
       "        London       15500      Seychelles  United Kingdom    Mongolia\n",
       "        Reykjavik    12500          Guinea        Eswatini     Iceland\n",
       "4       Brussels     11500         Iceland      Seychelles     Belgium\n",
       "        London       16000  United Kingdom          Guinea    Portugal\n",
       "        Ulaanbaatar  15000        Eswatini           Benin    Mongolia"
      ]
     },
     "execution_count": 65,
     "metadata": {},
     "output_type": "execute_result"
    }
   ],
   "source": [
    "_result_25.df_final_calendar"
   ]
  },
  {
   "cell_type": "code",
   "execution_count": null,
   "metadata": {},
   "outputs": [],
   "source": []
  },
  {
   "cell_type": "code",
   "execution_count": 66,
   "metadata": {},
   "outputs": [
    {
     "data": {
      "application/vnd.plotly.v1+json": {
       "config": {
        "linkText": "Export to plot.ly",
        "plotlyServerURL": "https://plot.ly",
        "showLink": true
       },
       "data": [
        {
         "marker": {
          "color": "rgba(255, 153, 51, 0.6)",
          "line": {
           "color": "rgba(255, 153, 51, 1.0)",
           "width": 1
          }
         },
         "name": "1->2",
         "orientation": "v",
         "text": "",
         "type": "bar",
         "x": [
          "Belgium",
          "Benin",
          "Eswatini",
          "Guinea",
          "Iceland",
          "Mongolia",
          "Portugal",
          "Seychelles",
          "United Kingdom"
         ],
         "y": [
          8944.363016,
          2086.359544,
          3530.4862780000003,
          4688.429454,
          3758.839534,
          1715.157554,
          8172.888126999999,
          8070.099455,
          4761.346861999999
         ]
        },
        {
         "marker": {
          "color": "rgba(55, 128, 191, 0.6)",
          "line": {
           "color": "rgba(55, 128, 191, 1.0)",
           "width": 1
          }
         },
         "name": "2->3",
         "orientation": "v",
         "text": "",
         "type": "bar",
         "x": [
          "Belgium",
          "Benin",
          "Eswatini",
          "Guinea",
          "Iceland",
          "Mongolia",
          "Portugal",
          "Seychelles",
          "United Kingdom"
         ],
         "y": [
          8944.363016,
          4688.429454,
          11035.887420000001,
          5835.492531,
          2960.706246,
          1586.542513,
          1715.157554,
          4613.926397,
          9149.20041
         ]
        },
        {
         "marker": {
          "color": "rgba(50, 171, 96, 0.6)",
          "line": {
           "color": "rgba(50, 171, 96, 1.0)",
           "width": 1
          }
         },
         "name": "3->4",
         "orientation": "v",
         "text": "",
         "type": "bar",
         "x": [
          "Belgium",
          "Benin",
          "Eswatini",
          "Guinea",
          "Iceland",
          "Mongolia",
          "Portugal",
          "Seychelles",
          "United Kingdom"
         ],
         "y": [
          0,
          6812.523638,
          6792.852993,
          1894.4450550000001,
          2133.7567289999997,
          6993.217229999999,
          322.8494468,
          322.8494468,
          0
         ]
        }
       ],
       "layout": {
        "barmode": "stack",
        "legend": {
         "bgcolor": "#F5F6F9",
         "font": {
          "color": "#4D5663"
         },
         "traceorder": "normal"
        },
        "paper_bgcolor": "#F5F6F9",
        "plot_bgcolor": "#F5F6F9",
        "template": {
         "data": {
          "bar": [
           {
            "error_x": {
             "color": "#2a3f5f"
            },
            "error_y": {
             "color": "#2a3f5f"
            },
            "marker": {
             "line": {
              "color": "#E5ECF6",
              "width": 0.5
             }
            },
            "type": "bar"
           }
          ],
          "barpolar": [
           {
            "marker": {
             "line": {
              "color": "#E5ECF6",
              "width": 0.5
             }
            },
            "type": "barpolar"
           }
          ],
          "carpet": [
           {
            "aaxis": {
             "endlinecolor": "#2a3f5f",
             "gridcolor": "white",
             "linecolor": "white",
             "minorgridcolor": "white",
             "startlinecolor": "#2a3f5f"
            },
            "baxis": {
             "endlinecolor": "#2a3f5f",
             "gridcolor": "white",
             "linecolor": "white",
             "minorgridcolor": "white",
             "startlinecolor": "#2a3f5f"
            },
            "type": "carpet"
           }
          ],
          "choropleth": [
           {
            "colorbar": {
             "outlinewidth": 0,
             "ticks": ""
            },
            "type": "choropleth"
           }
          ],
          "contour": [
           {
            "colorbar": {
             "outlinewidth": 0,
             "ticks": ""
            },
            "colorscale": [
             [
              0,
              "#0d0887"
             ],
             [
              0.1111111111111111,
              "#46039f"
             ],
             [
              0.2222222222222222,
              "#7201a8"
             ],
             [
              0.3333333333333333,
              "#9c179e"
             ],
             [
              0.4444444444444444,
              "#bd3786"
             ],
             [
              0.5555555555555556,
              "#d8576b"
             ],
             [
              0.6666666666666666,
              "#ed7953"
             ],
             [
              0.7777777777777778,
              "#fb9f3a"
             ],
             [
              0.8888888888888888,
              "#fdca26"
             ],
             [
              1,
              "#f0f921"
             ]
            ],
            "type": "contour"
           }
          ],
          "contourcarpet": [
           {
            "colorbar": {
             "outlinewidth": 0,
             "ticks": ""
            },
            "type": "contourcarpet"
           }
          ],
          "heatmap": [
           {
            "colorbar": {
             "outlinewidth": 0,
             "ticks": ""
            },
            "colorscale": [
             [
              0,
              "#0d0887"
             ],
             [
              0.1111111111111111,
              "#46039f"
             ],
             [
              0.2222222222222222,
              "#7201a8"
             ],
             [
              0.3333333333333333,
              "#9c179e"
             ],
             [
              0.4444444444444444,
              "#bd3786"
             ],
             [
              0.5555555555555556,
              "#d8576b"
             ],
             [
              0.6666666666666666,
              "#ed7953"
             ],
             [
              0.7777777777777778,
              "#fb9f3a"
             ],
             [
              0.8888888888888888,
              "#fdca26"
             ],
             [
              1,
              "#f0f921"
             ]
            ],
            "type": "heatmap"
           }
          ],
          "heatmapgl": [
           {
            "colorbar": {
             "outlinewidth": 0,
             "ticks": ""
            },
            "colorscale": [
             [
              0,
              "#0d0887"
             ],
             [
              0.1111111111111111,
              "#46039f"
             ],
             [
              0.2222222222222222,
              "#7201a8"
             ],
             [
              0.3333333333333333,
              "#9c179e"
             ],
             [
              0.4444444444444444,
              "#bd3786"
             ],
             [
              0.5555555555555556,
              "#d8576b"
             ],
             [
              0.6666666666666666,
              "#ed7953"
             ],
             [
              0.7777777777777778,
              "#fb9f3a"
             ],
             [
              0.8888888888888888,
              "#fdca26"
             ],
             [
              1,
              "#f0f921"
             ]
            ],
            "type": "heatmapgl"
           }
          ],
          "histogram": [
           {
            "marker": {
             "colorbar": {
              "outlinewidth": 0,
              "ticks": ""
             }
            },
            "type": "histogram"
           }
          ],
          "histogram2d": [
           {
            "colorbar": {
             "outlinewidth": 0,
             "ticks": ""
            },
            "colorscale": [
             [
              0,
              "#0d0887"
             ],
             [
              0.1111111111111111,
              "#46039f"
             ],
             [
              0.2222222222222222,
              "#7201a8"
             ],
             [
              0.3333333333333333,
              "#9c179e"
             ],
             [
              0.4444444444444444,
              "#bd3786"
             ],
             [
              0.5555555555555556,
              "#d8576b"
             ],
             [
              0.6666666666666666,
              "#ed7953"
             ],
             [
              0.7777777777777778,
              "#fb9f3a"
             ],
             [
              0.8888888888888888,
              "#fdca26"
             ],
             [
              1,
              "#f0f921"
             ]
            ],
            "type": "histogram2d"
           }
          ],
          "histogram2dcontour": [
           {
            "colorbar": {
             "outlinewidth": 0,
             "ticks": ""
            },
            "colorscale": [
             [
              0,
              "#0d0887"
             ],
             [
              0.1111111111111111,
              "#46039f"
             ],
             [
              0.2222222222222222,
              "#7201a8"
             ],
             [
              0.3333333333333333,
              "#9c179e"
             ],
             [
              0.4444444444444444,
              "#bd3786"
             ],
             [
              0.5555555555555556,
              "#d8576b"
             ],
             [
              0.6666666666666666,
              "#ed7953"
             ],
             [
              0.7777777777777778,
              "#fb9f3a"
             ],
             [
              0.8888888888888888,
              "#fdca26"
             ],
             [
              1,
              "#f0f921"
             ]
            ],
            "type": "histogram2dcontour"
           }
          ],
          "mesh3d": [
           {
            "colorbar": {
             "outlinewidth": 0,
             "ticks": ""
            },
            "type": "mesh3d"
           }
          ],
          "parcoords": [
           {
            "line": {
             "colorbar": {
              "outlinewidth": 0,
              "ticks": ""
             }
            },
            "type": "parcoords"
           }
          ],
          "pie": [
           {
            "automargin": true,
            "type": "pie"
           }
          ],
          "scatter": [
           {
            "marker": {
             "colorbar": {
              "outlinewidth": 0,
              "ticks": ""
             }
            },
            "type": "scatter"
           }
          ],
          "scatter3d": [
           {
            "line": {
             "colorbar": {
              "outlinewidth": 0,
              "ticks": ""
             }
            },
            "marker": {
             "colorbar": {
              "outlinewidth": 0,
              "ticks": ""
             }
            },
            "type": "scatter3d"
           }
          ],
          "scattercarpet": [
           {
            "marker": {
             "colorbar": {
              "outlinewidth": 0,
              "ticks": ""
             }
            },
            "type": "scattercarpet"
           }
          ],
          "scattergeo": [
           {
            "marker": {
             "colorbar": {
              "outlinewidth": 0,
              "ticks": ""
             }
            },
            "type": "scattergeo"
           }
          ],
          "scattergl": [
           {
            "marker": {
             "colorbar": {
              "outlinewidth": 0,
              "ticks": ""
             }
            },
            "type": "scattergl"
           }
          ],
          "scattermapbox": [
           {
            "marker": {
             "colorbar": {
              "outlinewidth": 0,
              "ticks": ""
             }
            },
            "type": "scattermapbox"
           }
          ],
          "scatterpolar": [
           {
            "marker": {
             "colorbar": {
              "outlinewidth": 0,
              "ticks": ""
             }
            },
            "type": "scatterpolar"
           }
          ],
          "scatterpolargl": [
           {
            "marker": {
             "colorbar": {
              "outlinewidth": 0,
              "ticks": ""
             }
            },
            "type": "scatterpolargl"
           }
          ],
          "scatterternary": [
           {
            "marker": {
             "colorbar": {
              "outlinewidth": 0,
              "ticks": ""
             }
            },
            "type": "scatterternary"
           }
          ],
          "surface": [
           {
            "colorbar": {
             "outlinewidth": 0,
             "ticks": ""
            },
            "colorscale": [
             [
              0,
              "#0d0887"
             ],
             [
              0.1111111111111111,
              "#46039f"
             ],
             [
              0.2222222222222222,
              "#7201a8"
             ],
             [
              0.3333333333333333,
              "#9c179e"
             ],
             [
              0.4444444444444444,
              "#bd3786"
             ],
             [
              0.5555555555555556,
              "#d8576b"
             ],
             [
              0.6666666666666666,
              "#ed7953"
             ],
             [
              0.7777777777777778,
              "#fb9f3a"
             ],
             [
              0.8888888888888888,
              "#fdca26"
             ],
             [
              1,
              "#f0f921"
             ]
            ],
            "type": "surface"
           }
          ],
          "table": [
           {
            "cells": {
             "fill": {
              "color": "#EBF0F8"
             },
             "line": {
              "color": "white"
             }
            },
            "header": {
             "fill": {
              "color": "#C8D4E3"
             },
             "line": {
              "color": "white"
             }
            },
            "type": "table"
           }
          ]
         },
         "layout": {
          "annotationdefaults": {
           "arrowcolor": "#2a3f5f",
           "arrowhead": 0,
           "arrowwidth": 1
          },
          "coloraxis": {
           "colorbar": {
            "outlinewidth": 0,
            "ticks": ""
           }
          },
          "colorscale": {
           "diverging": [
            [
             0,
             "#8e0152"
            ],
            [
             0.1,
             "#c51b7d"
            ],
            [
             0.2,
             "#de77ae"
            ],
            [
             0.3,
             "#f1b6da"
            ],
            [
             0.4,
             "#fde0ef"
            ],
            [
             0.5,
             "#f7f7f7"
            ],
            [
             0.6,
             "#e6f5d0"
            ],
            [
             0.7,
             "#b8e186"
            ],
            [
             0.8,
             "#7fbc41"
            ],
            [
             0.9,
             "#4d9221"
            ],
            [
             1,
             "#276419"
            ]
           ],
           "sequential": [
            [
             0,
             "#0d0887"
            ],
            [
             0.1111111111111111,
             "#46039f"
            ],
            [
             0.2222222222222222,
             "#7201a8"
            ],
            [
             0.3333333333333333,
             "#9c179e"
            ],
            [
             0.4444444444444444,
             "#bd3786"
            ],
            [
             0.5555555555555556,
             "#d8576b"
            ],
            [
             0.6666666666666666,
             "#ed7953"
            ],
            [
             0.7777777777777778,
             "#fb9f3a"
            ],
            [
             0.8888888888888888,
             "#fdca26"
            ],
            [
             1,
             "#f0f921"
            ]
           ],
           "sequentialminus": [
            [
             0,
             "#0d0887"
            ],
            [
             0.1111111111111111,
             "#46039f"
            ],
            [
             0.2222222222222222,
             "#7201a8"
            ],
            [
             0.3333333333333333,
             "#9c179e"
            ],
            [
             0.4444444444444444,
             "#bd3786"
            ],
            [
             0.5555555555555556,
             "#d8576b"
            ],
            [
             0.6666666666666666,
             "#ed7953"
            ],
            [
             0.7777777777777778,
             "#fb9f3a"
            ],
            [
             0.8888888888888888,
             "#fdca26"
            ],
            [
             1,
             "#f0f921"
            ]
           ]
          },
          "colorway": [
           "#636efa",
           "#EF553B",
           "#00cc96",
           "#ab63fa",
           "#FFA15A",
           "#19d3f3",
           "#FF6692",
           "#B6E880",
           "#FF97FF",
           "#FECB52"
          ],
          "font": {
           "color": "#2a3f5f"
          },
          "geo": {
           "bgcolor": "white",
           "lakecolor": "white",
           "landcolor": "#E5ECF6",
           "showlakes": true,
           "showland": true,
           "subunitcolor": "white"
          },
          "hoverlabel": {
           "align": "left"
          },
          "hovermode": "closest",
          "mapbox": {
           "style": "light"
          },
          "paper_bgcolor": "white",
          "plot_bgcolor": "#E5ECF6",
          "polar": {
           "angularaxis": {
            "gridcolor": "white",
            "linecolor": "white",
            "ticks": ""
           },
           "bgcolor": "#E5ECF6",
           "radialaxis": {
            "gridcolor": "white",
            "linecolor": "white",
            "ticks": ""
           }
          },
          "scene": {
           "xaxis": {
            "backgroundcolor": "#E5ECF6",
            "gridcolor": "white",
            "gridwidth": 2,
            "linecolor": "white",
            "showbackground": true,
            "ticks": "",
            "zerolinecolor": "white"
           },
           "yaxis": {
            "backgroundcolor": "#E5ECF6",
            "gridcolor": "white",
            "gridwidth": 2,
            "linecolor": "white",
            "showbackground": true,
            "ticks": "",
            "zerolinecolor": "white"
           },
           "zaxis": {
            "backgroundcolor": "#E5ECF6",
            "gridcolor": "white",
            "gridwidth": 2,
            "linecolor": "white",
            "showbackground": true,
            "ticks": "",
            "zerolinecolor": "white"
           }
          },
          "shapedefaults": {
           "line": {
            "color": "#2a3f5f"
           }
          },
          "ternary": {
           "aaxis": {
            "gridcolor": "white",
            "linecolor": "white",
            "ticks": ""
           },
           "baxis": {
            "gridcolor": "white",
            "linecolor": "white",
            "ticks": ""
           },
           "bgcolor": "#E5ECF6",
           "caxis": {
            "gridcolor": "white",
            "linecolor": "white",
            "ticks": ""
           }
          },
          "title": {
           "x": 0.05
          },
          "xaxis": {
           "automargin": true,
           "gridcolor": "white",
           "linecolor": "white",
           "ticks": "",
           "title": {
            "standoff": 15
           },
           "zerolinecolor": "white",
           "zerolinewidth": 2
          },
          "yaxis": {
           "automargin": true,
           "gridcolor": "white",
           "linecolor": "white",
           "ticks": "",
           "title": {
            "standoff": 15
           },
           "zerolinecolor": "white",
           "zerolinewidth": 2
          }
         }
        },
        "title": {
         "font": {
          "color": "#4D5663"
         },
         "text": "Travelled Distance per Player"
        },
        "xaxis": {
         "gridcolor": "#E1E5ED",
         "showgrid": true,
         "tickfont": {
          "color": "#4D5663"
         },
         "title": {
          "font": {
           "color": "#4D5663"
          },
          "text": ""
         },
         "zerolinecolor": "#E1E5ED"
        },
        "yaxis": {
         "gridcolor": "#E1E5ED",
         "showgrid": true,
         "tickfont": {
          "color": "#4D5663"
         },
         "title": {
          "font": {
           "color": "#4D5663"
          },
          "text": ""
         },
         "zerolinecolor": "#E1E5ED"
        }
       }
      },
      "text/html": [
       "<div>\n",
       "        \n",
       "        \n",
       "            <div id=\"67e1f5e7-bcce-4aed-8dcd-3920094d717d\" class=\"plotly-graph-div\" style=\"height:525px; width:100%;\"></div>\n",
       "            <script type=\"text/javascript\">\n",
       "                require([\"plotly\"], function(Plotly) {\n",
       "                    window.PLOTLYENV=window.PLOTLYENV || {};\n",
       "                    window.PLOTLYENV.BASE_URL='https://plot.ly';\n",
       "                    \n",
       "                if (document.getElementById(\"67e1f5e7-bcce-4aed-8dcd-3920094d717d\")) {\n",
       "                    Plotly.newPlot(\n",
       "                        '67e1f5e7-bcce-4aed-8dcd-3920094d717d',\n",
       "                        [{\"marker\": {\"color\": \"rgba(255, 153, 51, 0.6)\", \"line\": {\"color\": \"rgba(255, 153, 51, 1.0)\", \"width\": 1}}, \"name\": \"1->2\", \"orientation\": \"v\", \"text\": \"\", \"type\": \"bar\", \"x\": [\"Belgium\", \"Benin\", \"Eswatini\", \"Guinea\", \"Iceland\", \"Mongolia\", \"Portugal\", \"Seychelles\", \"United Kingdom\"], \"y\": [8944.363016, 2086.359544, 3530.4862780000003, 4688.429454, 3758.839534, 1715.157554, 8172.888126999999, 8070.099455, 4761.346861999999]}, {\"marker\": {\"color\": \"rgba(55, 128, 191, 0.6)\", \"line\": {\"color\": \"rgba(55, 128, 191, 1.0)\", \"width\": 1}}, \"name\": \"2->3\", \"orientation\": \"v\", \"text\": \"\", \"type\": \"bar\", \"x\": [\"Belgium\", \"Benin\", \"Eswatini\", \"Guinea\", \"Iceland\", \"Mongolia\", \"Portugal\", \"Seychelles\", \"United Kingdom\"], \"y\": [8944.363016, 4688.429454, 11035.887420000001, 5835.492531, 2960.706246, 1586.542513, 1715.157554, 4613.926397, 9149.20041]}, {\"marker\": {\"color\": \"rgba(50, 171, 96, 0.6)\", \"line\": {\"color\": \"rgba(50, 171, 96, 1.0)\", \"width\": 1}}, \"name\": \"3->4\", \"orientation\": \"v\", \"text\": \"\", \"type\": \"bar\", \"x\": [\"Belgium\", \"Benin\", \"Eswatini\", \"Guinea\", \"Iceland\", \"Mongolia\", \"Portugal\", \"Seychelles\", \"United Kingdom\"], \"y\": [0.0, 6812.523638, 6792.852993, 1894.4450550000001, 2133.7567289999997, 6993.217229999999, 322.8494468, 322.8494468, 0.0]}],\n",
       "                        {\"barmode\": \"stack\", \"legend\": {\"bgcolor\": \"#F5F6F9\", \"font\": {\"color\": \"#4D5663\"}, \"traceorder\": \"normal\"}, \"paper_bgcolor\": \"#F5F6F9\", \"plot_bgcolor\": \"#F5F6F9\", \"template\": {\"data\": {\"bar\": [{\"error_x\": {\"color\": \"#2a3f5f\"}, \"error_y\": {\"color\": \"#2a3f5f\"}, \"marker\": {\"line\": {\"color\": \"#E5ECF6\", \"width\": 0.5}}, \"type\": \"bar\"}], \"barpolar\": [{\"marker\": {\"line\": {\"color\": \"#E5ECF6\", \"width\": 0.5}}, \"type\": \"barpolar\"}], \"carpet\": [{\"aaxis\": {\"endlinecolor\": \"#2a3f5f\", \"gridcolor\": \"white\", \"linecolor\": \"white\", \"minorgridcolor\": \"white\", \"startlinecolor\": \"#2a3f5f\"}, \"baxis\": {\"endlinecolor\": \"#2a3f5f\", \"gridcolor\": \"white\", \"linecolor\": \"white\", \"minorgridcolor\": \"white\", \"startlinecolor\": \"#2a3f5f\"}, \"type\": \"carpet\"}], \"choropleth\": [{\"colorbar\": {\"outlinewidth\": 0, \"ticks\": \"\"}, \"type\": \"choropleth\"}], \"contour\": [{\"colorbar\": {\"outlinewidth\": 0, \"ticks\": \"\"}, \"colorscale\": [[0.0, \"#0d0887\"], [0.1111111111111111, \"#46039f\"], [0.2222222222222222, \"#7201a8\"], [0.3333333333333333, \"#9c179e\"], [0.4444444444444444, \"#bd3786\"], [0.5555555555555556, \"#d8576b\"], [0.6666666666666666, \"#ed7953\"], [0.7777777777777778, \"#fb9f3a\"], [0.8888888888888888, \"#fdca26\"], [1.0, \"#f0f921\"]], \"type\": \"contour\"}], \"contourcarpet\": [{\"colorbar\": {\"outlinewidth\": 0, \"ticks\": \"\"}, \"type\": \"contourcarpet\"}], \"heatmap\": [{\"colorbar\": {\"outlinewidth\": 0, \"ticks\": \"\"}, \"colorscale\": [[0.0, \"#0d0887\"], [0.1111111111111111, \"#46039f\"], [0.2222222222222222, \"#7201a8\"], [0.3333333333333333, \"#9c179e\"], [0.4444444444444444, \"#bd3786\"], [0.5555555555555556, \"#d8576b\"], [0.6666666666666666, \"#ed7953\"], [0.7777777777777778, \"#fb9f3a\"], [0.8888888888888888, \"#fdca26\"], [1.0, \"#f0f921\"]], \"type\": \"heatmap\"}], \"heatmapgl\": [{\"colorbar\": {\"outlinewidth\": 0, \"ticks\": \"\"}, \"colorscale\": [[0.0, \"#0d0887\"], [0.1111111111111111, \"#46039f\"], [0.2222222222222222, \"#7201a8\"], [0.3333333333333333, \"#9c179e\"], [0.4444444444444444, \"#bd3786\"], [0.5555555555555556, \"#d8576b\"], [0.6666666666666666, \"#ed7953\"], [0.7777777777777778, \"#fb9f3a\"], [0.8888888888888888, \"#fdca26\"], [1.0, \"#f0f921\"]], \"type\": \"heatmapgl\"}], \"histogram\": [{\"marker\": {\"colorbar\": {\"outlinewidth\": 0, \"ticks\": \"\"}}, \"type\": \"histogram\"}], \"histogram2d\": [{\"colorbar\": {\"outlinewidth\": 0, \"ticks\": \"\"}, \"colorscale\": [[0.0, \"#0d0887\"], [0.1111111111111111, \"#46039f\"], [0.2222222222222222, \"#7201a8\"], [0.3333333333333333, \"#9c179e\"], [0.4444444444444444, \"#bd3786\"], [0.5555555555555556, \"#d8576b\"], [0.6666666666666666, \"#ed7953\"], [0.7777777777777778, \"#fb9f3a\"], [0.8888888888888888, \"#fdca26\"], [1.0, \"#f0f921\"]], \"type\": \"histogram2d\"}], \"histogram2dcontour\": [{\"colorbar\": {\"outlinewidth\": 0, \"ticks\": \"\"}, \"colorscale\": [[0.0, \"#0d0887\"], [0.1111111111111111, \"#46039f\"], [0.2222222222222222, \"#7201a8\"], [0.3333333333333333, \"#9c179e\"], [0.4444444444444444, \"#bd3786\"], [0.5555555555555556, \"#d8576b\"], [0.6666666666666666, \"#ed7953\"], [0.7777777777777778, \"#fb9f3a\"], [0.8888888888888888, \"#fdca26\"], [1.0, \"#f0f921\"]], \"type\": \"histogram2dcontour\"}], \"mesh3d\": [{\"colorbar\": {\"outlinewidth\": 0, \"ticks\": \"\"}, \"type\": \"mesh3d\"}], \"parcoords\": [{\"line\": {\"colorbar\": {\"outlinewidth\": 0, \"ticks\": \"\"}}, \"type\": \"parcoords\"}], \"pie\": [{\"automargin\": true, \"type\": \"pie\"}], \"scatter\": [{\"marker\": {\"colorbar\": {\"outlinewidth\": 0, \"ticks\": \"\"}}, \"type\": \"scatter\"}], \"scatter3d\": [{\"line\": {\"colorbar\": {\"outlinewidth\": 0, \"ticks\": \"\"}}, \"marker\": {\"colorbar\": {\"outlinewidth\": 0, \"ticks\": \"\"}}, \"type\": \"scatter3d\"}], \"scattercarpet\": [{\"marker\": {\"colorbar\": {\"outlinewidth\": 0, \"ticks\": \"\"}}, \"type\": \"scattercarpet\"}], \"scattergeo\": [{\"marker\": {\"colorbar\": {\"outlinewidth\": 0, \"ticks\": \"\"}}, \"type\": \"scattergeo\"}], \"scattergl\": [{\"marker\": {\"colorbar\": {\"outlinewidth\": 0, \"ticks\": \"\"}}, \"type\": \"scattergl\"}], \"scattermapbox\": [{\"marker\": {\"colorbar\": {\"outlinewidth\": 0, \"ticks\": \"\"}}, \"type\": \"scattermapbox\"}], \"scatterpolar\": [{\"marker\": {\"colorbar\": {\"outlinewidth\": 0, \"ticks\": \"\"}}, \"type\": \"scatterpolar\"}], \"scatterpolargl\": [{\"marker\": {\"colorbar\": {\"outlinewidth\": 0, \"ticks\": \"\"}}, \"type\": \"scatterpolargl\"}], \"scatterternary\": [{\"marker\": {\"colorbar\": {\"outlinewidth\": 0, \"ticks\": \"\"}}, \"type\": \"scatterternary\"}], \"surface\": [{\"colorbar\": {\"outlinewidth\": 0, \"ticks\": \"\"}, \"colorscale\": [[0.0, \"#0d0887\"], [0.1111111111111111, \"#46039f\"], [0.2222222222222222, \"#7201a8\"], [0.3333333333333333, \"#9c179e\"], [0.4444444444444444, \"#bd3786\"], [0.5555555555555556, \"#d8576b\"], [0.6666666666666666, \"#ed7953\"], [0.7777777777777778, \"#fb9f3a\"], [0.8888888888888888, \"#fdca26\"], [1.0, \"#f0f921\"]], \"type\": \"surface\"}], \"table\": [{\"cells\": {\"fill\": {\"color\": \"#EBF0F8\"}, \"line\": {\"color\": \"white\"}}, \"header\": {\"fill\": {\"color\": \"#C8D4E3\"}, \"line\": {\"color\": \"white\"}}, \"type\": \"table\"}]}, \"layout\": {\"annotationdefaults\": {\"arrowcolor\": \"#2a3f5f\", \"arrowhead\": 0, \"arrowwidth\": 1}, \"coloraxis\": {\"colorbar\": {\"outlinewidth\": 0, \"ticks\": \"\"}}, \"colorscale\": {\"diverging\": [[0, \"#8e0152\"], [0.1, \"#c51b7d\"], [0.2, \"#de77ae\"], [0.3, \"#f1b6da\"], [0.4, \"#fde0ef\"], [0.5, \"#f7f7f7\"], [0.6, \"#e6f5d0\"], [0.7, \"#b8e186\"], [0.8, \"#7fbc41\"], [0.9, \"#4d9221\"], [1, \"#276419\"]], \"sequential\": [[0.0, \"#0d0887\"], [0.1111111111111111, \"#46039f\"], [0.2222222222222222, \"#7201a8\"], [0.3333333333333333, \"#9c179e\"], [0.4444444444444444, \"#bd3786\"], [0.5555555555555556, \"#d8576b\"], [0.6666666666666666, \"#ed7953\"], [0.7777777777777778, \"#fb9f3a\"], [0.8888888888888888, \"#fdca26\"], [1.0, \"#f0f921\"]], \"sequentialminus\": [[0.0, \"#0d0887\"], [0.1111111111111111, \"#46039f\"], [0.2222222222222222, \"#7201a8\"], [0.3333333333333333, \"#9c179e\"], [0.4444444444444444, \"#bd3786\"], [0.5555555555555556, \"#d8576b\"], [0.6666666666666666, \"#ed7953\"], [0.7777777777777778, \"#fb9f3a\"], [0.8888888888888888, \"#fdca26\"], [1.0, \"#f0f921\"]]}, \"colorway\": [\"#636efa\", \"#EF553B\", \"#00cc96\", \"#ab63fa\", \"#FFA15A\", \"#19d3f3\", \"#FF6692\", \"#B6E880\", \"#FF97FF\", \"#FECB52\"], \"font\": {\"color\": \"#2a3f5f\"}, \"geo\": {\"bgcolor\": \"white\", \"lakecolor\": \"white\", \"landcolor\": \"#E5ECF6\", \"showlakes\": true, \"showland\": true, \"subunitcolor\": \"white\"}, \"hoverlabel\": {\"align\": \"left\"}, \"hovermode\": \"closest\", \"mapbox\": {\"style\": \"light\"}, \"paper_bgcolor\": \"white\", \"plot_bgcolor\": \"#E5ECF6\", \"polar\": {\"angularaxis\": {\"gridcolor\": \"white\", \"linecolor\": \"white\", \"ticks\": \"\"}, \"bgcolor\": \"#E5ECF6\", \"radialaxis\": {\"gridcolor\": \"white\", \"linecolor\": \"white\", \"ticks\": \"\"}}, \"scene\": {\"xaxis\": {\"backgroundcolor\": \"#E5ECF6\", \"gridcolor\": \"white\", \"gridwidth\": 2, \"linecolor\": \"white\", \"showbackground\": true, \"ticks\": \"\", \"zerolinecolor\": \"white\"}, \"yaxis\": {\"backgroundcolor\": \"#E5ECF6\", \"gridcolor\": \"white\", \"gridwidth\": 2, \"linecolor\": \"white\", \"showbackground\": true, \"ticks\": \"\", \"zerolinecolor\": \"white\"}, \"zaxis\": {\"backgroundcolor\": \"#E5ECF6\", \"gridcolor\": \"white\", \"gridwidth\": 2, \"linecolor\": \"white\", \"showbackground\": true, \"ticks\": \"\", \"zerolinecolor\": \"white\"}}, \"shapedefaults\": {\"line\": {\"color\": \"#2a3f5f\"}}, \"ternary\": {\"aaxis\": {\"gridcolor\": \"white\", \"linecolor\": \"white\", \"ticks\": \"\"}, \"baxis\": {\"gridcolor\": \"white\", \"linecolor\": \"white\", \"ticks\": \"\"}, \"bgcolor\": \"#E5ECF6\", \"caxis\": {\"gridcolor\": \"white\", \"linecolor\": \"white\", \"ticks\": \"\"}}, \"title\": {\"x\": 0.05}, \"xaxis\": {\"automargin\": true, \"gridcolor\": \"white\", \"linecolor\": \"white\", \"ticks\": \"\", \"title\": {\"standoff\": 15}, \"zerolinecolor\": \"white\", \"zerolinewidth\": 2}, \"yaxis\": {\"automargin\": true, \"gridcolor\": \"white\", \"linecolor\": \"white\", \"ticks\": \"\", \"title\": {\"standoff\": 15}, \"zerolinecolor\": \"white\", \"zerolinewidth\": 2}}}, \"title\": {\"font\": {\"color\": \"#4D5663\"}, \"text\": \"Travelled Distance per Player\"}, \"xaxis\": {\"gridcolor\": \"#E1E5ED\", \"showgrid\": true, \"tickfont\": {\"color\": \"#4D5663\"}, \"title\": {\"font\": {\"color\": \"#4D5663\"}, \"text\": \"\"}, \"zerolinecolor\": \"#E1E5ED\"}, \"yaxis\": {\"gridcolor\": \"#E1E5ED\", \"showgrid\": true, \"tickfont\": {\"color\": \"#4D5663\"}, \"title\": {\"font\": {\"color\": \"#4D5663\"}, \"text\": \"\"}, \"zerolinecolor\": \"#E1E5ED\"}},\n",
       "                        {\"showLink\": true, \"linkText\": \"Export to plot.ly\", \"plotlyServerURL\": \"https://plot.ly\", \"responsive\": true}\n",
       "                    ).then(function(){\n",
       "                            \n",
       "var gd = document.getElementById('67e1f5e7-bcce-4aed-8dcd-3920094d717d');\n",
       "var x = new MutationObserver(function (mutations, observer) {{\n",
       "        var display = window.getComputedStyle(gd).display;\n",
       "        if (!display || display === 'none') {{\n",
       "            console.log([gd, 'removed!']);\n",
       "            Plotly.purge(gd);\n",
       "            observer.disconnect();\n",
       "        }}\n",
       "}});\n",
       "\n",
       "// Listen for the removal of the full notebook cells\n",
       "var notebookContainer = gd.closest('#notebook-container');\n",
       "if (notebookContainer) {{\n",
       "    x.observe(notebookContainer, {childList: true});\n",
       "}}\n",
       "\n",
       "// Listen for the clearing of the current output cell\n",
       "var outputEl = gd.closest('.output');\n",
       "if (outputEl) {{\n",
       "    x.observe(outputEl, {childList: true});\n",
       "}}\n",
       "\n",
       "                        })\n",
       "                };\n",
       "                });\n",
       "            </script>\n",
       "        </div>"
      ]
     },
     "metadata": {},
     "output_type": "display_data"
    }
   ],
   "source": [
    "_result_25.df_dist.iplot(kind='bar', barmode='stack', title='Travelled Distance per Player',);"
   ]
  },
  {
   "cell_type": "markdown",
   "metadata": {},
   "source": [
    "### Position of each Team"
   ]
  },
  {
   "cell_type": "code",
   "execution_count": 67,
   "metadata": {},
   "outputs": [
    {
     "data": {
      "text/html": [
       "<div>\n",
       "<style scoped>\n",
       "    .dataframe tbody tr th:only-of-type {\n",
       "        vertical-align: middle;\n",
       "    }\n",
       "\n",
       "    .dataframe tbody tr th {\n",
       "        vertical-align: top;\n",
       "    }\n",
       "\n",
       "    .dataframe thead th {\n",
       "        text-align: right;\n",
       "    }\n",
       "</style>\n",
       "<table border=\"1\" class=\"dataframe\">\n",
       "  <thead>\n",
       "    <tr style=\"text-align: right;\">\n",
       "      <th>Weekend</th>\n",
       "      <th>1</th>\n",
       "      <th>2</th>\n",
       "      <th>3</th>\n",
       "      <th>4</th>\n",
       "    </tr>\n",
       "    <tr>\n",
       "      <th>Team</th>\n",
       "      <th></th>\n",
       "      <th></th>\n",
       "      <th></th>\n",
       "      <th></th>\n",
       "    </tr>\n",
       "  </thead>\n",
       "  <tbody>\n",
       "    <tr>\n",
       "      <th>Belgium</th>\n",
       "      <td>Brussels</td>\n",
       "      <td>Mbabane</td>\n",
       "      <td>Brussels</td>\n",
       "      <td>Brussels</td>\n",
       "    </tr>\n",
       "    <tr>\n",
       "      <th>Benin</th>\n",
       "      <td>Porto-Novo</td>\n",
       "      <td>Conakry</td>\n",
       "      <td>Brussels</td>\n",
       "      <td>Ulaanbaatar</td>\n",
       "    </tr>\n",
       "    <tr>\n",
       "      <th>Eswatini</th>\n",
       "      <td>Victoria</td>\n",
       "      <td>Mbabane</td>\n",
       "      <td>Reykjavik</td>\n",
       "      <td>Ulaanbaatar</td>\n",
       "    </tr>\n",
       "    <tr>\n",
       "      <th>Guinea</th>\n",
       "      <td>Brussels</td>\n",
       "      <td>Conakry</td>\n",
       "      <td>Reykjavik</td>\n",
       "      <td>London</td>\n",
       "    </tr>\n",
       "    <tr>\n",
       "      <th>Iceland</th>\n",
       "      <td>Porto-Novo</td>\n",
       "      <td>Lisbon</td>\n",
       "      <td>Reykjavik</td>\n",
       "      <td>Brussels</td>\n",
       "    </tr>\n",
       "    <tr>\n",
       "      <th>Mongolia</th>\n",
       "      <td>Brussels</td>\n",
       "      <td>Lisbon</td>\n",
       "      <td>London</td>\n",
       "      <td>Ulaanbaatar</td>\n",
       "    </tr>\n",
       "    <tr>\n",
       "      <th>Portugal</th>\n",
       "      <td>Victoria</td>\n",
       "      <td>Lisbon</td>\n",
       "      <td>Brussels</td>\n",
       "      <td>London</td>\n",
       "    </tr>\n",
       "    <tr>\n",
       "      <th>Seychelles</th>\n",
       "      <td>Victoria</td>\n",
       "      <td>Conakry</td>\n",
       "      <td>London</td>\n",
       "      <td>Brussels</td>\n",
       "    </tr>\n",
       "    <tr>\n",
       "      <th>United Kingdom</th>\n",
       "      <td>Porto-Novo</td>\n",
       "      <td>Mbabane</td>\n",
       "      <td>London</td>\n",
       "      <td>London</td>\n",
       "    </tr>\n",
       "  </tbody>\n",
       "</table>\n",
       "</div>"
      ],
      "text/plain": [
       "Weekend                  1        2          3            4\n",
       "Team                                                       \n",
       "Belgium           Brussels  Mbabane   Brussels     Brussels\n",
       "Benin           Porto-Novo  Conakry   Brussels  Ulaanbaatar\n",
       "Eswatini          Victoria  Mbabane  Reykjavik  Ulaanbaatar\n",
       "Guinea            Brussels  Conakry  Reykjavik       London\n",
       "Iceland         Porto-Novo   Lisbon  Reykjavik     Brussels\n",
       "Mongolia          Brussels   Lisbon     London  Ulaanbaatar\n",
       "Portugal          Victoria   Lisbon   Brussels       London\n",
       "Seychelles        Victoria  Conakry     London     Brussels\n",
       "United Kingdom  Porto-Novo  Mbabane     London       London"
      ]
     },
     "execution_count": 67,
     "metadata": {},
     "output_type": "execute_result"
    }
   ],
   "source": [
    "_result_25.df_pos"
   ]
  },
  {
   "cell_type": "code",
   "execution_count": null,
   "metadata": {},
   "outputs": [],
   "source": []
  },
  {
   "cell_type": "markdown",
   "metadata": {},
   "source": [
    "# Data Viz"
   ]
  },
  {
   "cell_type": "code",
   "execution_count": 68,
   "metadata": {},
   "outputs": [],
   "source": [
    "df_geodata = pd.read_csv('data/GeoData.csv',sep=';',index_col=0)"
   ]
  },
  {
   "cell_type": "code",
   "execution_count": 69,
   "metadata": {},
   "outputs": [
    {
     "data": {
      "text/html": [
       "<div>\n",
       "<style scoped>\n",
       "    .dataframe tbody tr th:only-of-type {\n",
       "        vertical-align: middle;\n",
       "    }\n",
       "\n",
       "    .dataframe tbody tr th {\n",
       "        vertical-align: top;\n",
       "    }\n",
       "\n",
       "    .dataframe thead th {\n",
       "        text-align: right;\n",
       "    }\n",
       "</style>\n",
       "<table border=\"1\" class=\"dataframe\">\n",
       "  <thead>\n",
       "    <tr style=\"text-align: right;\">\n",
       "      <th></th>\n",
       "      <th>Country</th>\n",
       "      <th>Location</th>\n",
       "      <th>Address</th>\n",
       "      <th>GP_Loc</th>\n",
       "      <th>GeoPoint</th>\n",
       "      <th>Latitude</th>\n",
       "      <th>Longitude</th>\n",
       "    </tr>\n",
       "  </thead>\n",
       "  <tbody>\n",
       "    <tr>\n",
       "      <th>Team_1</th>\n",
       "      <td>Portugal</td>\n",
       "      <td>Lisbon</td>\n",
       "      <td>Portugal Lisbon</td>\n",
       "      <td>Lisbon, Grande Lisboa, Área Metropolitana de L...</td>\n",
       "      <td>38 42m 27.9025s N, 9 8m 11.7308s W</td>\n",
       "      <td>38.707751</td>\n",
       "      <td>-9.136592</td>\n",
       "    </tr>\n",
       "    <tr>\n",
       "      <th>Team_2</th>\n",
       "      <td>Mongolia</td>\n",
       "      <td>Ulaanbaatar</td>\n",
       "      <td>Mongolia Ulaanbaatar</td>\n",
       "      <td>Ulaanbaatar, Mongolia</td>\n",
       "      <td>47 55m 6.48336s N, 106 55m 3.72576s E</td>\n",
       "      <td>47.918468</td>\n",
       "      <td>106.917702</td>\n",
       "    </tr>\n",
       "    <tr>\n",
       "      <th>Team_3</th>\n",
       "      <td>Belgium</td>\n",
       "      <td>Brussels</td>\n",
       "      <td>Belgium Brussels</td>\n",
       "      <td>Brussels, Ville de Bruxelles - Stad Brussel, B...</td>\n",
       "      <td>50 50m 37.2152s N, 4 22m 2.7721s E</td>\n",
       "      <td>50.843671</td>\n",
       "      <td>4.367437</td>\n",
       "    </tr>\n",
       "    <tr>\n",
       "      <th>Team_4</th>\n",
       "      <td>Iceland</td>\n",
       "      <td>Reykjavik</td>\n",
       "      <td>Iceland Reykjavik</td>\n",
       "      <td>Reykjavik, Capital Region, Iceland</td>\n",
       "      <td>64 14m 40.2128s N, 21 46m 9.34886s W</td>\n",
       "      <td>64.244504</td>\n",
       "      <td>-21.769264</td>\n",
       "    </tr>\n",
       "    <tr>\n",
       "      <th>Team_5</th>\n",
       "      <td>Seychelles</td>\n",
       "      <td>Victoria</td>\n",
       "      <td>Seychelles Victoria</td>\n",
       "      <td>Victoria, Mahé, SEZ, Seychelles</td>\n",
       "      <td>4 37m 23.5506s S, 55 27m 8.4924s E</td>\n",
       "      <td>-4.623208</td>\n",
       "      <td>55.452359</td>\n",
       "    </tr>\n",
       "    <tr>\n",
       "      <th>Team_6</th>\n",
       "      <td>United Kingdom</td>\n",
       "      <td>London</td>\n",
       "      <td>United Kingdom London</td>\n",
       "      <td>London, Greater London, England, SW1A 2DX, Uni...</td>\n",
       "      <td>51 30m 26.3588s N, 0 7m 39.5306s W</td>\n",
       "      <td>51.507322</td>\n",
       "      <td>-0.127647</td>\n",
       "    </tr>\n",
       "    <tr>\n",
       "      <th>Team_7</th>\n",
       "      <td>Guinea</td>\n",
       "      <td>Conakry</td>\n",
       "      <td>Guinea Conakry</td>\n",
       "      <td>Guinea-Conakry, Rua Osvaldo Vieira, Praça, Rei...</td>\n",
       "      <td>11 51m 36.8586s N, 15 35m 4.36956s W</td>\n",
       "      <td>11.860238</td>\n",
       "      <td>-15.584547</td>\n",
       "    </tr>\n",
       "    <tr>\n",
       "      <th>Team_8</th>\n",
       "      <td>Eswatini</td>\n",
       "      <td>Mbabane</td>\n",
       "      <td>Eswatini Mbabane</td>\n",
       "      <td>Mbabane, Inkhundla Mbabane, Hhohho, H100, Swaz...</td>\n",
       "      <td>26 19m 32.682s S, 31 8m 40.7868s E</td>\n",
       "      <td>-26.325745</td>\n",
       "      <td>31.144663</td>\n",
       "    </tr>\n",
       "    <tr>\n",
       "      <th>Team_9</th>\n",
       "      <td>Benin</td>\n",
       "      <td>Porto-Novo</td>\n",
       "      <td>Benin Porto-Novo</td>\n",
       "      <td>Porto-Novo, Porto Novo, Ouémé, 03BP647, Benin</td>\n",
       "      <td>6 29m 56.6585s N, 2 37m 31.21s E</td>\n",
       "      <td>6.499072</td>\n",
       "      <td>2.625336</td>\n",
       "    </tr>\n",
       "  </tbody>\n",
       "</table>\n",
       "</div>"
      ],
      "text/plain": [
       "               Country     Location                Address  \\\n",
       "Team_1        Portugal       Lisbon        Portugal Lisbon   \n",
       "Team_2        Mongolia  Ulaanbaatar   Mongolia Ulaanbaatar   \n",
       "Team_3         Belgium     Brussels       Belgium Brussels   \n",
       "Team_4         Iceland    Reykjavik      Iceland Reykjavik   \n",
       "Team_5      Seychelles     Victoria    Seychelles Victoria   \n",
       "Team_6  United Kingdom       London  United Kingdom London   \n",
       "Team_7          Guinea      Conakry         Guinea Conakry   \n",
       "Team_8        Eswatini      Mbabane       Eswatini Mbabane   \n",
       "Team_9           Benin   Porto-Novo       Benin Porto-Novo   \n",
       "\n",
       "                                                   GP_Loc  \\\n",
       "Team_1  Lisbon, Grande Lisboa, Área Metropolitana de L...   \n",
       "Team_2                              Ulaanbaatar, Mongolia   \n",
       "Team_3  Brussels, Ville de Bruxelles - Stad Brussel, B...   \n",
       "Team_4                 Reykjavik, Capital Region, Iceland   \n",
       "Team_5                    Victoria, Mahé, SEZ, Seychelles   \n",
       "Team_6  London, Greater London, England, SW1A 2DX, Uni...   \n",
       "Team_7  Guinea-Conakry, Rua Osvaldo Vieira, Praça, Rei...   \n",
       "Team_8  Mbabane, Inkhundla Mbabane, Hhohho, H100, Swaz...   \n",
       "Team_9      Porto-Novo, Porto Novo, Ouémé, 03BP647, Benin   \n",
       "\n",
       "                                     GeoPoint   Latitude   Longitude  \n",
       "Team_1     38 42m 27.9025s N, 9 8m 11.7308s W  38.707751   -9.136592  \n",
       "Team_2  47 55m 6.48336s N, 106 55m 3.72576s E  47.918468  106.917702  \n",
       "Team_3     50 50m 37.2152s N, 4 22m 2.7721s E  50.843671    4.367437  \n",
       "Team_4   64 14m 40.2128s N, 21 46m 9.34886s W  64.244504  -21.769264  \n",
       "Team_5     4 37m 23.5506s S, 55 27m 8.4924s E  -4.623208   55.452359  \n",
       "Team_6     51 30m 26.3588s N, 0 7m 39.5306s W  51.507322   -0.127647  \n",
       "Team_7   11 51m 36.8586s N, 15 35m 4.36956s W  11.860238  -15.584547  \n",
       "Team_8     26 19m 32.682s S, 31 8m 40.7868s E -26.325745   31.144663  \n",
       "Team_9       6 29m 56.6585s N, 2 37m 31.21s E   6.499072    2.625336  "
      ]
     },
     "execution_count": 69,
     "metadata": {},
     "output_type": "execute_result"
    }
   ],
   "source": [
    "df_geodata"
   ]
  },
  {
   "cell_type": "code",
   "execution_count": null,
   "metadata": {},
   "outputs": [],
   "source": []
  },
  {
   "cell_type": "code",
   "execution_count": null,
   "metadata": {},
   "outputs": [],
   "source": []
  },
  {
   "cell_type": "code",
   "execution_count": 70,
   "metadata": {},
   "outputs": [
    {
     "data": {
      "application/vnd.plotly.v1+json": {
       "config": {
        "plotlyServerURL": "https://plot.ly"
       },
       "data": [
        {
         "customdata": [
          [
           "Portugal"
          ],
          [
           "Mongolia"
          ],
          [
           "Belgium"
          ],
          [
           "Iceland"
          ],
          [
           "Seychelles"
          ],
          [
           "United Kingdom"
          ],
          [
           "Guinea"
          ],
          [
           "Eswatini"
          ],
          [
           "Benin"
          ]
         ],
         "geo": "geo",
         "hoverlabel": {
          "namelength": 0
         },
         "hovertemplate": "<b>%{hovertext}</b><br><br>size=%{marker.size}<br>Country=%{customdata[0]}<br>Latitude=%{lat}<br>Longitude=%{lon}",
         "hovertext": [
          "Lisbon",
          "Ulaanbaatar",
          "Brussels",
          "Reykjavik",
          "Victoria",
          "London",
          "Conakry",
          "Mbabane",
          "Porto-Novo"
         ],
         "lat": [
          38.707750700000005,
          47.91846760000001,
          50.8436709,
          64.24450355,
          -4.6232085,
          51.5073219,
          11.8602385,
          -26.325745,
          6.4990718
         ],
         "legendgroup": "",
         "lon": [
          -9.1365919,
          106.91770159999999,
          4.367436693,
          -21.76926357,
          55.452358999999994,
          -0.1276474,
          -15.584547099999998,
          31.144663,
          2.6253361
         ],
         "marker": {
          "color": "#636efa",
          "opacity": 0.95,
          "size": [
           6,
           6,
           6,
           6,
           6,
           6,
           6,
           6,
           6
          ],
          "sizemode": "area",
          "sizeref": 0.06
         },
         "name": "",
         "showlegend": false,
         "type": "scattergeo"
        }
       ],
       "layout": {
        "geo": {
         "center": {},
         "domain": {
          "x": [
           0,
           1
          ],
          "y": [
           0,
           1
          ]
         }
        },
        "legend": {
         "itemsizing": "constant",
         "tracegroupgap": 0
        },
        "margin": {
         "t": 60
        },
        "template": {
         "data": {
          "bar": [
           {
            "error_x": {
             "color": "#2a3f5f"
            },
            "error_y": {
             "color": "#2a3f5f"
            },
            "marker": {
             "line": {
              "color": "#E5ECF6",
              "width": 0.5
             }
            },
            "type": "bar"
           }
          ],
          "barpolar": [
           {
            "marker": {
             "line": {
              "color": "#E5ECF6",
              "width": 0.5
             }
            },
            "type": "barpolar"
           }
          ],
          "carpet": [
           {
            "aaxis": {
             "endlinecolor": "#2a3f5f",
             "gridcolor": "white",
             "linecolor": "white",
             "minorgridcolor": "white",
             "startlinecolor": "#2a3f5f"
            },
            "baxis": {
             "endlinecolor": "#2a3f5f",
             "gridcolor": "white",
             "linecolor": "white",
             "minorgridcolor": "white",
             "startlinecolor": "#2a3f5f"
            },
            "type": "carpet"
           }
          ],
          "choropleth": [
           {
            "colorbar": {
             "outlinewidth": 0,
             "ticks": ""
            },
            "type": "choropleth"
           }
          ],
          "contour": [
           {
            "colorbar": {
             "outlinewidth": 0,
             "ticks": ""
            },
            "colorscale": [
             [
              0,
              "#0d0887"
             ],
             [
              0.1111111111111111,
              "#46039f"
             ],
             [
              0.2222222222222222,
              "#7201a8"
             ],
             [
              0.3333333333333333,
              "#9c179e"
             ],
             [
              0.4444444444444444,
              "#bd3786"
             ],
             [
              0.5555555555555556,
              "#d8576b"
             ],
             [
              0.6666666666666666,
              "#ed7953"
             ],
             [
              0.7777777777777778,
              "#fb9f3a"
             ],
             [
              0.8888888888888888,
              "#fdca26"
             ],
             [
              1,
              "#f0f921"
             ]
            ],
            "type": "contour"
           }
          ],
          "contourcarpet": [
           {
            "colorbar": {
             "outlinewidth": 0,
             "ticks": ""
            },
            "type": "contourcarpet"
           }
          ],
          "heatmap": [
           {
            "colorbar": {
             "outlinewidth": 0,
             "ticks": ""
            },
            "colorscale": [
             [
              0,
              "#0d0887"
             ],
             [
              0.1111111111111111,
              "#46039f"
             ],
             [
              0.2222222222222222,
              "#7201a8"
             ],
             [
              0.3333333333333333,
              "#9c179e"
             ],
             [
              0.4444444444444444,
              "#bd3786"
             ],
             [
              0.5555555555555556,
              "#d8576b"
             ],
             [
              0.6666666666666666,
              "#ed7953"
             ],
             [
              0.7777777777777778,
              "#fb9f3a"
             ],
             [
              0.8888888888888888,
              "#fdca26"
             ],
             [
              1,
              "#f0f921"
             ]
            ],
            "type": "heatmap"
           }
          ],
          "heatmapgl": [
           {
            "colorbar": {
             "outlinewidth": 0,
             "ticks": ""
            },
            "colorscale": [
             [
              0,
              "#0d0887"
             ],
             [
              0.1111111111111111,
              "#46039f"
             ],
             [
              0.2222222222222222,
              "#7201a8"
             ],
             [
              0.3333333333333333,
              "#9c179e"
             ],
             [
              0.4444444444444444,
              "#bd3786"
             ],
             [
              0.5555555555555556,
              "#d8576b"
             ],
             [
              0.6666666666666666,
              "#ed7953"
             ],
             [
              0.7777777777777778,
              "#fb9f3a"
             ],
             [
              0.8888888888888888,
              "#fdca26"
             ],
             [
              1,
              "#f0f921"
             ]
            ],
            "type": "heatmapgl"
           }
          ],
          "histogram": [
           {
            "marker": {
             "colorbar": {
              "outlinewidth": 0,
              "ticks": ""
             }
            },
            "type": "histogram"
           }
          ],
          "histogram2d": [
           {
            "colorbar": {
             "outlinewidth": 0,
             "ticks": ""
            },
            "colorscale": [
             [
              0,
              "#0d0887"
             ],
             [
              0.1111111111111111,
              "#46039f"
             ],
             [
              0.2222222222222222,
              "#7201a8"
             ],
             [
              0.3333333333333333,
              "#9c179e"
             ],
             [
              0.4444444444444444,
              "#bd3786"
             ],
             [
              0.5555555555555556,
              "#d8576b"
             ],
             [
              0.6666666666666666,
              "#ed7953"
             ],
             [
              0.7777777777777778,
              "#fb9f3a"
             ],
             [
              0.8888888888888888,
              "#fdca26"
             ],
             [
              1,
              "#f0f921"
             ]
            ],
            "type": "histogram2d"
           }
          ],
          "histogram2dcontour": [
           {
            "colorbar": {
             "outlinewidth": 0,
             "ticks": ""
            },
            "colorscale": [
             [
              0,
              "#0d0887"
             ],
             [
              0.1111111111111111,
              "#46039f"
             ],
             [
              0.2222222222222222,
              "#7201a8"
             ],
             [
              0.3333333333333333,
              "#9c179e"
             ],
             [
              0.4444444444444444,
              "#bd3786"
             ],
             [
              0.5555555555555556,
              "#d8576b"
             ],
             [
              0.6666666666666666,
              "#ed7953"
             ],
             [
              0.7777777777777778,
              "#fb9f3a"
             ],
             [
              0.8888888888888888,
              "#fdca26"
             ],
             [
              1,
              "#f0f921"
             ]
            ],
            "type": "histogram2dcontour"
           }
          ],
          "mesh3d": [
           {
            "colorbar": {
             "outlinewidth": 0,
             "ticks": ""
            },
            "type": "mesh3d"
           }
          ],
          "parcoords": [
           {
            "line": {
             "colorbar": {
              "outlinewidth": 0,
              "ticks": ""
             }
            },
            "type": "parcoords"
           }
          ],
          "pie": [
           {
            "automargin": true,
            "type": "pie"
           }
          ],
          "scatter": [
           {
            "marker": {
             "colorbar": {
              "outlinewidth": 0,
              "ticks": ""
             }
            },
            "type": "scatter"
           }
          ],
          "scatter3d": [
           {
            "line": {
             "colorbar": {
              "outlinewidth": 0,
              "ticks": ""
             }
            },
            "marker": {
             "colorbar": {
              "outlinewidth": 0,
              "ticks": ""
             }
            },
            "type": "scatter3d"
           }
          ],
          "scattercarpet": [
           {
            "marker": {
             "colorbar": {
              "outlinewidth": 0,
              "ticks": ""
             }
            },
            "type": "scattercarpet"
           }
          ],
          "scattergeo": [
           {
            "marker": {
             "colorbar": {
              "outlinewidth": 0,
              "ticks": ""
             }
            },
            "type": "scattergeo"
           }
          ],
          "scattergl": [
           {
            "marker": {
             "colorbar": {
              "outlinewidth": 0,
              "ticks": ""
             }
            },
            "type": "scattergl"
           }
          ],
          "scattermapbox": [
           {
            "marker": {
             "colorbar": {
              "outlinewidth": 0,
              "ticks": ""
             }
            },
            "type": "scattermapbox"
           }
          ],
          "scatterpolar": [
           {
            "marker": {
             "colorbar": {
              "outlinewidth": 0,
              "ticks": ""
             }
            },
            "type": "scatterpolar"
           }
          ],
          "scatterpolargl": [
           {
            "marker": {
             "colorbar": {
              "outlinewidth": 0,
              "ticks": ""
             }
            },
            "type": "scatterpolargl"
           }
          ],
          "scatterternary": [
           {
            "marker": {
             "colorbar": {
              "outlinewidth": 0,
              "ticks": ""
             }
            },
            "type": "scatterternary"
           }
          ],
          "surface": [
           {
            "colorbar": {
             "outlinewidth": 0,
             "ticks": ""
            },
            "colorscale": [
             [
              0,
              "#0d0887"
             ],
             [
              0.1111111111111111,
              "#46039f"
             ],
             [
              0.2222222222222222,
              "#7201a8"
             ],
             [
              0.3333333333333333,
              "#9c179e"
             ],
             [
              0.4444444444444444,
              "#bd3786"
             ],
             [
              0.5555555555555556,
              "#d8576b"
             ],
             [
              0.6666666666666666,
              "#ed7953"
             ],
             [
              0.7777777777777778,
              "#fb9f3a"
             ],
             [
              0.8888888888888888,
              "#fdca26"
             ],
             [
              1,
              "#f0f921"
             ]
            ],
            "type": "surface"
           }
          ],
          "table": [
           {
            "cells": {
             "fill": {
              "color": "#EBF0F8"
             },
             "line": {
              "color": "white"
             }
            },
            "header": {
             "fill": {
              "color": "#C8D4E3"
             },
             "line": {
              "color": "white"
             }
            },
            "type": "table"
           }
          ]
         },
         "layout": {
          "annotationdefaults": {
           "arrowcolor": "#2a3f5f",
           "arrowhead": 0,
           "arrowwidth": 1
          },
          "coloraxis": {
           "colorbar": {
            "outlinewidth": 0,
            "ticks": ""
           }
          },
          "colorscale": {
           "diverging": [
            [
             0,
             "#8e0152"
            ],
            [
             0.1,
             "#c51b7d"
            ],
            [
             0.2,
             "#de77ae"
            ],
            [
             0.3,
             "#f1b6da"
            ],
            [
             0.4,
             "#fde0ef"
            ],
            [
             0.5,
             "#f7f7f7"
            ],
            [
             0.6,
             "#e6f5d0"
            ],
            [
             0.7,
             "#b8e186"
            ],
            [
             0.8,
             "#7fbc41"
            ],
            [
             0.9,
             "#4d9221"
            ],
            [
             1,
             "#276419"
            ]
           ],
           "sequential": [
            [
             0,
             "#0d0887"
            ],
            [
             0.1111111111111111,
             "#46039f"
            ],
            [
             0.2222222222222222,
             "#7201a8"
            ],
            [
             0.3333333333333333,
             "#9c179e"
            ],
            [
             0.4444444444444444,
             "#bd3786"
            ],
            [
             0.5555555555555556,
             "#d8576b"
            ],
            [
             0.6666666666666666,
             "#ed7953"
            ],
            [
             0.7777777777777778,
             "#fb9f3a"
            ],
            [
             0.8888888888888888,
             "#fdca26"
            ],
            [
             1,
             "#f0f921"
            ]
           ],
           "sequentialminus": [
            [
             0,
             "#0d0887"
            ],
            [
             0.1111111111111111,
             "#46039f"
            ],
            [
             0.2222222222222222,
             "#7201a8"
            ],
            [
             0.3333333333333333,
             "#9c179e"
            ],
            [
             0.4444444444444444,
             "#bd3786"
            ],
            [
             0.5555555555555556,
             "#d8576b"
            ],
            [
             0.6666666666666666,
             "#ed7953"
            ],
            [
             0.7777777777777778,
             "#fb9f3a"
            ],
            [
             0.8888888888888888,
             "#fdca26"
            ],
            [
             1,
             "#f0f921"
            ]
           ]
          },
          "colorway": [
           "#636efa",
           "#EF553B",
           "#00cc96",
           "#ab63fa",
           "#FFA15A",
           "#19d3f3",
           "#FF6692",
           "#B6E880",
           "#FF97FF",
           "#FECB52"
          ],
          "font": {
           "color": "#2a3f5f"
          },
          "geo": {
           "bgcolor": "white",
           "lakecolor": "white",
           "landcolor": "#E5ECF6",
           "showlakes": true,
           "showland": true,
           "subunitcolor": "white"
          },
          "hoverlabel": {
           "align": "left"
          },
          "hovermode": "closest",
          "mapbox": {
           "style": "light"
          },
          "paper_bgcolor": "white",
          "plot_bgcolor": "#E5ECF6",
          "polar": {
           "angularaxis": {
            "gridcolor": "white",
            "linecolor": "white",
            "ticks": ""
           },
           "bgcolor": "#E5ECF6",
           "radialaxis": {
            "gridcolor": "white",
            "linecolor": "white",
            "ticks": ""
           }
          },
          "scene": {
           "xaxis": {
            "backgroundcolor": "#E5ECF6",
            "gridcolor": "white",
            "gridwidth": 2,
            "linecolor": "white",
            "showbackground": true,
            "ticks": "",
            "zerolinecolor": "white"
           },
           "yaxis": {
            "backgroundcolor": "#E5ECF6",
            "gridcolor": "white",
            "gridwidth": 2,
            "linecolor": "white",
            "showbackground": true,
            "ticks": "",
            "zerolinecolor": "white"
           },
           "zaxis": {
            "backgroundcolor": "#E5ECF6",
            "gridcolor": "white",
            "gridwidth": 2,
            "linecolor": "white",
            "showbackground": true,
            "ticks": "",
            "zerolinecolor": "white"
           }
          },
          "shapedefaults": {
           "line": {
            "color": "#2a3f5f"
           }
          },
          "ternary": {
           "aaxis": {
            "gridcolor": "white",
            "linecolor": "white",
            "ticks": ""
           },
           "baxis": {
            "gridcolor": "white",
            "linecolor": "white",
            "ticks": ""
           },
           "bgcolor": "#E5ECF6",
           "caxis": {
            "gridcolor": "white",
            "linecolor": "white",
            "ticks": ""
           }
          },
          "title": {
           "x": 0.05
          },
          "xaxis": {
           "automargin": true,
           "gridcolor": "white",
           "linecolor": "white",
           "ticks": "",
           "title": {
            "standoff": 15
           },
           "zerolinecolor": "white",
           "zerolinewidth": 2
          },
          "yaxis": {
           "automargin": true,
           "gridcolor": "white",
           "linecolor": "white",
           "ticks": "",
           "title": {
            "standoff": 15
           },
           "zerolinecolor": "white",
           "zerolinewidth": 2
          }
         }
        }
       }
      },
      "text/html": [
       "<div>\n",
       "        \n",
       "        \n",
       "            <div id=\"c7dd5d15-28c4-47e0-a582-72defe629cee\" class=\"plotly-graph-div\" style=\"height:525px; width:100%;\"></div>\n",
       "            <script type=\"text/javascript\">\n",
       "                require([\"plotly\"], function(Plotly) {\n",
       "                    window.PLOTLYENV=window.PLOTLYENV || {};\n",
       "                    \n",
       "                if (document.getElementById(\"c7dd5d15-28c4-47e0-a582-72defe629cee\")) {\n",
       "                    Plotly.newPlot(\n",
       "                        'c7dd5d15-28c4-47e0-a582-72defe629cee',\n",
       "                        [{\"customdata\": [[\"Portugal\"], [\"Mongolia\"], [\"Belgium\"], [\"Iceland\"], [\"Seychelles\"], [\"United Kingdom\"], [\"Guinea\"], [\"Eswatini\"], [\"Benin\"]], \"geo\": \"geo\", \"hoverlabel\": {\"namelength\": 0}, \"hovertemplate\": \"<b>%{hovertext}</b><br><br>size=%{marker.size}<br>Country=%{customdata[0]}<br>Latitude=%{lat}<br>Longitude=%{lon}\", \"hovertext\": [\"Lisbon\", \"Ulaanbaatar\", \"Brussels\", \"Reykjavik\", \"Victoria\", \"London\", \"Conakry\", \"Mbabane\", \"Porto-Novo\"], \"lat\": [38.707750700000005, 47.91846760000001, 50.8436709, 64.24450355, -4.6232085, 51.5073219, 11.8602385, -26.325745, 6.4990718], \"legendgroup\": \"\", \"lon\": [-9.1365919, 106.91770159999999, 4.367436693, -21.76926357, 55.452358999999994, -0.1276474, -15.584547099999998, 31.144663, 2.6253361], \"marker\": {\"color\": \"#636efa\", \"opacity\": 0.95, \"size\": [6, 6, 6, 6, 6, 6, 6, 6, 6], \"sizemode\": \"area\", \"sizeref\": 0.06}, \"name\": \"\", \"showlegend\": false, \"type\": \"scattergeo\"}],\n",
       "                        {\"geo\": {\"center\": {}, \"domain\": {\"x\": [0.0, 1.0], \"y\": [0.0, 1.0]}}, \"legend\": {\"itemsizing\": \"constant\", \"tracegroupgap\": 0}, \"margin\": {\"t\": 60}, \"template\": {\"data\": {\"bar\": [{\"error_x\": {\"color\": \"#2a3f5f\"}, \"error_y\": {\"color\": \"#2a3f5f\"}, \"marker\": {\"line\": {\"color\": \"#E5ECF6\", \"width\": 0.5}}, \"type\": \"bar\"}], \"barpolar\": [{\"marker\": {\"line\": {\"color\": \"#E5ECF6\", \"width\": 0.5}}, \"type\": \"barpolar\"}], \"carpet\": [{\"aaxis\": {\"endlinecolor\": \"#2a3f5f\", \"gridcolor\": \"white\", \"linecolor\": \"white\", \"minorgridcolor\": \"white\", \"startlinecolor\": \"#2a3f5f\"}, \"baxis\": {\"endlinecolor\": \"#2a3f5f\", \"gridcolor\": \"white\", \"linecolor\": \"white\", \"minorgridcolor\": \"white\", \"startlinecolor\": \"#2a3f5f\"}, \"type\": \"carpet\"}], \"choropleth\": [{\"colorbar\": {\"outlinewidth\": 0, \"ticks\": \"\"}, \"type\": \"choropleth\"}], \"contour\": [{\"colorbar\": {\"outlinewidth\": 0, \"ticks\": \"\"}, \"colorscale\": [[0.0, \"#0d0887\"], [0.1111111111111111, \"#46039f\"], [0.2222222222222222, \"#7201a8\"], [0.3333333333333333, \"#9c179e\"], [0.4444444444444444, \"#bd3786\"], [0.5555555555555556, \"#d8576b\"], [0.6666666666666666, \"#ed7953\"], [0.7777777777777778, \"#fb9f3a\"], [0.8888888888888888, \"#fdca26\"], [1.0, \"#f0f921\"]], \"type\": \"contour\"}], \"contourcarpet\": [{\"colorbar\": {\"outlinewidth\": 0, \"ticks\": \"\"}, \"type\": \"contourcarpet\"}], \"heatmap\": [{\"colorbar\": {\"outlinewidth\": 0, \"ticks\": \"\"}, \"colorscale\": [[0.0, \"#0d0887\"], [0.1111111111111111, \"#46039f\"], [0.2222222222222222, \"#7201a8\"], [0.3333333333333333, \"#9c179e\"], [0.4444444444444444, \"#bd3786\"], [0.5555555555555556, \"#d8576b\"], [0.6666666666666666, \"#ed7953\"], [0.7777777777777778, \"#fb9f3a\"], [0.8888888888888888, \"#fdca26\"], [1.0, \"#f0f921\"]], \"type\": \"heatmap\"}], \"heatmapgl\": [{\"colorbar\": {\"outlinewidth\": 0, \"ticks\": \"\"}, \"colorscale\": [[0.0, \"#0d0887\"], [0.1111111111111111, \"#46039f\"], [0.2222222222222222, \"#7201a8\"], [0.3333333333333333, \"#9c179e\"], [0.4444444444444444, \"#bd3786\"], [0.5555555555555556, \"#d8576b\"], [0.6666666666666666, \"#ed7953\"], [0.7777777777777778, \"#fb9f3a\"], [0.8888888888888888, \"#fdca26\"], [1.0, \"#f0f921\"]], \"type\": \"heatmapgl\"}], \"histogram\": [{\"marker\": {\"colorbar\": {\"outlinewidth\": 0, \"ticks\": \"\"}}, \"type\": \"histogram\"}], \"histogram2d\": [{\"colorbar\": {\"outlinewidth\": 0, \"ticks\": \"\"}, \"colorscale\": [[0.0, \"#0d0887\"], [0.1111111111111111, \"#46039f\"], [0.2222222222222222, \"#7201a8\"], [0.3333333333333333, \"#9c179e\"], [0.4444444444444444, \"#bd3786\"], [0.5555555555555556, \"#d8576b\"], [0.6666666666666666, \"#ed7953\"], [0.7777777777777778, \"#fb9f3a\"], [0.8888888888888888, \"#fdca26\"], [1.0, \"#f0f921\"]], \"type\": \"histogram2d\"}], \"histogram2dcontour\": [{\"colorbar\": {\"outlinewidth\": 0, \"ticks\": \"\"}, \"colorscale\": [[0.0, \"#0d0887\"], [0.1111111111111111, \"#46039f\"], [0.2222222222222222, \"#7201a8\"], [0.3333333333333333, \"#9c179e\"], [0.4444444444444444, \"#bd3786\"], [0.5555555555555556, \"#d8576b\"], [0.6666666666666666, \"#ed7953\"], [0.7777777777777778, \"#fb9f3a\"], [0.8888888888888888, \"#fdca26\"], [1.0, \"#f0f921\"]], \"type\": \"histogram2dcontour\"}], \"mesh3d\": [{\"colorbar\": {\"outlinewidth\": 0, \"ticks\": \"\"}, \"type\": \"mesh3d\"}], \"parcoords\": [{\"line\": {\"colorbar\": {\"outlinewidth\": 0, \"ticks\": \"\"}}, \"type\": \"parcoords\"}], \"pie\": [{\"automargin\": true, \"type\": \"pie\"}], \"scatter\": [{\"marker\": {\"colorbar\": {\"outlinewidth\": 0, \"ticks\": \"\"}}, \"type\": \"scatter\"}], \"scatter3d\": [{\"line\": {\"colorbar\": {\"outlinewidth\": 0, \"ticks\": \"\"}}, \"marker\": {\"colorbar\": {\"outlinewidth\": 0, \"ticks\": \"\"}}, \"type\": \"scatter3d\"}], \"scattercarpet\": [{\"marker\": {\"colorbar\": {\"outlinewidth\": 0, \"ticks\": \"\"}}, \"type\": \"scattercarpet\"}], \"scattergeo\": [{\"marker\": {\"colorbar\": {\"outlinewidth\": 0, \"ticks\": \"\"}}, \"type\": \"scattergeo\"}], \"scattergl\": [{\"marker\": {\"colorbar\": {\"outlinewidth\": 0, \"ticks\": \"\"}}, \"type\": \"scattergl\"}], \"scattermapbox\": [{\"marker\": {\"colorbar\": {\"outlinewidth\": 0, \"ticks\": \"\"}}, \"type\": \"scattermapbox\"}], \"scatterpolar\": [{\"marker\": {\"colorbar\": {\"outlinewidth\": 0, \"ticks\": \"\"}}, \"type\": \"scatterpolar\"}], \"scatterpolargl\": [{\"marker\": {\"colorbar\": {\"outlinewidth\": 0, \"ticks\": \"\"}}, \"type\": \"scatterpolargl\"}], \"scatterternary\": [{\"marker\": {\"colorbar\": {\"outlinewidth\": 0, \"ticks\": \"\"}}, \"type\": \"scatterternary\"}], \"surface\": [{\"colorbar\": {\"outlinewidth\": 0, \"ticks\": \"\"}, \"colorscale\": [[0.0, \"#0d0887\"], [0.1111111111111111, \"#46039f\"], [0.2222222222222222, \"#7201a8\"], [0.3333333333333333, \"#9c179e\"], [0.4444444444444444, \"#bd3786\"], [0.5555555555555556, \"#d8576b\"], [0.6666666666666666, \"#ed7953\"], [0.7777777777777778, \"#fb9f3a\"], [0.8888888888888888, \"#fdca26\"], [1.0, \"#f0f921\"]], \"type\": \"surface\"}], \"table\": [{\"cells\": {\"fill\": {\"color\": \"#EBF0F8\"}, \"line\": {\"color\": \"white\"}}, \"header\": {\"fill\": {\"color\": \"#C8D4E3\"}, \"line\": {\"color\": \"white\"}}, \"type\": \"table\"}]}, \"layout\": {\"annotationdefaults\": {\"arrowcolor\": \"#2a3f5f\", \"arrowhead\": 0, \"arrowwidth\": 1}, \"coloraxis\": {\"colorbar\": {\"outlinewidth\": 0, \"ticks\": \"\"}}, \"colorscale\": {\"diverging\": [[0, \"#8e0152\"], [0.1, \"#c51b7d\"], [0.2, \"#de77ae\"], [0.3, \"#f1b6da\"], [0.4, \"#fde0ef\"], [0.5, \"#f7f7f7\"], [0.6, \"#e6f5d0\"], [0.7, \"#b8e186\"], [0.8, \"#7fbc41\"], [0.9, \"#4d9221\"], [1, \"#276419\"]], \"sequential\": [[0.0, \"#0d0887\"], [0.1111111111111111, \"#46039f\"], [0.2222222222222222, \"#7201a8\"], [0.3333333333333333, \"#9c179e\"], [0.4444444444444444, \"#bd3786\"], [0.5555555555555556, \"#d8576b\"], [0.6666666666666666, \"#ed7953\"], [0.7777777777777778, \"#fb9f3a\"], [0.8888888888888888, \"#fdca26\"], [1.0, \"#f0f921\"]], \"sequentialminus\": [[0.0, \"#0d0887\"], [0.1111111111111111, \"#46039f\"], [0.2222222222222222, \"#7201a8\"], [0.3333333333333333, \"#9c179e\"], [0.4444444444444444, \"#bd3786\"], [0.5555555555555556, \"#d8576b\"], [0.6666666666666666, \"#ed7953\"], [0.7777777777777778, \"#fb9f3a\"], [0.8888888888888888, \"#fdca26\"], [1.0, \"#f0f921\"]]}, \"colorway\": [\"#636efa\", \"#EF553B\", \"#00cc96\", \"#ab63fa\", \"#FFA15A\", \"#19d3f3\", \"#FF6692\", \"#B6E880\", \"#FF97FF\", \"#FECB52\"], \"font\": {\"color\": \"#2a3f5f\"}, \"geo\": {\"bgcolor\": \"white\", \"lakecolor\": \"white\", \"landcolor\": \"#E5ECF6\", \"showlakes\": true, \"showland\": true, \"subunitcolor\": \"white\"}, \"hoverlabel\": {\"align\": \"left\"}, \"hovermode\": \"closest\", \"mapbox\": {\"style\": \"light\"}, \"paper_bgcolor\": \"white\", \"plot_bgcolor\": \"#E5ECF6\", \"polar\": {\"angularaxis\": {\"gridcolor\": \"white\", \"linecolor\": \"white\", \"ticks\": \"\"}, \"bgcolor\": \"#E5ECF6\", \"radialaxis\": {\"gridcolor\": \"white\", \"linecolor\": \"white\", \"ticks\": \"\"}}, \"scene\": {\"xaxis\": {\"backgroundcolor\": \"#E5ECF6\", \"gridcolor\": \"white\", \"gridwidth\": 2, \"linecolor\": \"white\", \"showbackground\": true, \"ticks\": \"\", \"zerolinecolor\": \"white\"}, \"yaxis\": {\"backgroundcolor\": \"#E5ECF6\", \"gridcolor\": \"white\", \"gridwidth\": 2, \"linecolor\": \"white\", \"showbackground\": true, \"ticks\": \"\", \"zerolinecolor\": \"white\"}, \"zaxis\": {\"backgroundcolor\": \"#E5ECF6\", \"gridcolor\": \"white\", \"gridwidth\": 2, \"linecolor\": \"white\", \"showbackground\": true, \"ticks\": \"\", \"zerolinecolor\": \"white\"}}, \"shapedefaults\": {\"line\": {\"color\": \"#2a3f5f\"}}, \"ternary\": {\"aaxis\": {\"gridcolor\": \"white\", \"linecolor\": \"white\", \"ticks\": \"\"}, \"baxis\": {\"gridcolor\": \"white\", \"linecolor\": \"white\", \"ticks\": \"\"}, \"bgcolor\": \"#E5ECF6\", \"caxis\": {\"gridcolor\": \"white\", \"linecolor\": \"white\", \"ticks\": \"\"}}, \"title\": {\"x\": 0.05}, \"xaxis\": {\"automargin\": true, \"gridcolor\": \"white\", \"linecolor\": \"white\", \"ticks\": \"\", \"title\": {\"standoff\": 15}, \"zerolinecolor\": \"white\", \"zerolinewidth\": 2}, \"yaxis\": {\"automargin\": true, \"gridcolor\": \"white\", \"linecolor\": \"white\", \"ticks\": \"\", \"title\": {\"standoff\": 15}, \"zerolinecolor\": \"white\", \"zerolinewidth\": 2}}}},\n",
       "                        {\"responsive\": true}\n",
       "                    ).then(function(){\n",
       "                            \n",
       "var gd = document.getElementById('c7dd5d15-28c4-47e0-a582-72defe629cee');\n",
       "var x = new MutationObserver(function (mutations, observer) {{\n",
       "        var display = window.getComputedStyle(gd).display;\n",
       "        if (!display || display === 'none') {{\n",
       "            console.log([gd, 'removed!']);\n",
       "            Plotly.purge(gd);\n",
       "            observer.disconnect();\n",
       "        }}\n",
       "}});\n",
       "\n",
       "// Listen for the removal of the full notebook cells\n",
       "var notebookContainer = gd.closest('#notebook-container');\n",
       "if (notebookContainer) {{\n",
       "    x.observe(notebookContainer, {childList: true});\n",
       "}}\n",
       "\n",
       "// Listen for the clearing of the current output cell\n",
       "var outputEl = gd.closest('.output');\n",
       "if (outputEl) {{\n",
       "    x.observe(outputEl, {childList: true});\n",
       "}}\n",
       "\n",
       "                        })\n",
       "                };\n",
       "                });\n",
       "            </script>\n",
       "        </div>"
      ]
     },
     "metadata": {},
     "output_type": "display_data"
    }
   ],
   "source": [
    "px.scatter_geo(df_geodata,lat='Latitude',lon='Longitude',hover_name='Location',hover_data = ['Country'],\n",
    "              size=[6 for i in df_geodata.index],size_max=10,opacity=0.95)"
   ]
  },
  {
   "cell_type": "code",
   "execution_count": 71,
   "metadata": {},
   "outputs": [],
   "source": [
    "df_cal_25 = _result_25.df_final_calendar"
   ]
  },
  {
   "cell_type": "code",
   "execution_count": 72,
   "metadata": {},
   "outputs": [
    {
     "data": {
      "text/html": [
       "<div>\n",
       "<style scoped>\n",
       "    .dataframe tbody tr th:only-of-type {\n",
       "        vertical-align: middle;\n",
       "    }\n",
       "\n",
       "    .dataframe tbody tr th {\n",
       "        vertical-align: top;\n",
       "    }\n",
       "\n",
       "    .dataframe thead th {\n",
       "        text-align: right;\n",
       "    }\n",
       "</style>\n",
       "<table border=\"1\" class=\"dataframe\">\n",
       "  <thead>\n",
       "    <tr style=\"text-align: right;\">\n",
       "      <th></th>\n",
       "      <th>Weekend</th>\n",
       "      <th>Location</th>\n",
       "      <th>Fans</th>\n",
       "      <th>Team_1</th>\n",
       "      <th>Team_2</th>\n",
       "      <th>Team_3</th>\n",
       "      <th>Country</th>\n",
       "      <th>Address</th>\n",
       "      <th>GP_Loc</th>\n",
       "      <th>GeoPoint</th>\n",
       "      <th>Latitude</th>\n",
       "      <th>Longitude</th>\n",
       "      <th>Weekend_</th>\n",
       "    </tr>\n",
       "  </thead>\n",
       "  <tbody>\n",
       "    <tr>\n",
       "      <th>0</th>\n",
       "      <td>1</td>\n",
       "      <td>Brussels</td>\n",
       "      <td>16000</td>\n",
       "      <td>Belgium</td>\n",
       "      <td>Guinea</td>\n",
       "      <td>Mongolia</td>\n",
       "      <td>Belgium</td>\n",
       "      <td>Belgium Brussels</td>\n",
       "      <td>Brussels, Ville de Bruxelles - Stad Brussel, B...</td>\n",
       "      <td>50 50m 37.2152s N, 4 22m 2.7721s E</td>\n",
       "      <td>50.843671</td>\n",
       "      <td>4.367437</td>\n",
       "      <td>1</td>\n",
       "    </tr>\n",
       "    <tr>\n",
       "      <th>1</th>\n",
       "      <td>3</td>\n",
       "      <td>Brussels</td>\n",
       "      <td>7500</td>\n",
       "      <td>Belgium</td>\n",
       "      <td>Benin</td>\n",
       "      <td>Portugal</td>\n",
       "      <td>Belgium</td>\n",
       "      <td>Belgium Brussels</td>\n",
       "      <td>Brussels, Ville de Bruxelles - Stad Brussel, B...</td>\n",
       "      <td>50 50m 37.2152s N, 4 22m 2.7721s E</td>\n",
       "      <td>50.843671</td>\n",
       "      <td>4.367437</td>\n",
       "      <td>3</td>\n",
       "    </tr>\n",
       "    <tr>\n",
       "      <th>2</th>\n",
       "      <td>4</td>\n",
       "      <td>Brussels</td>\n",
       "      <td>11500</td>\n",
       "      <td>Iceland</td>\n",
       "      <td>Seychelles</td>\n",
       "      <td>Belgium</td>\n",
       "      <td>Belgium</td>\n",
       "      <td>Belgium Brussels</td>\n",
       "      <td>Brussels, Ville de Bruxelles - Stad Brussel, B...</td>\n",
       "      <td>50 50m 37.2152s N, 4 22m 2.7721s E</td>\n",
       "      <td>50.843671</td>\n",
       "      <td>4.367437</td>\n",
       "      <td>4</td>\n",
       "    </tr>\n",
       "    <tr>\n",
       "      <th>3</th>\n",
       "      <td>1</td>\n",
       "      <td>Porto-Novo</td>\n",
       "      <td>13500</td>\n",
       "      <td>United Kingdom</td>\n",
       "      <td>Benin</td>\n",
       "      <td>Iceland</td>\n",
       "      <td>Benin</td>\n",
       "      <td>Benin Porto-Novo</td>\n",
       "      <td>Porto-Novo, Porto Novo, Ouémé, 03BP647, Benin</td>\n",
       "      <td>6 29m 56.6585s N, 2 37m 31.21s E</td>\n",
       "      <td>6.499072</td>\n",
       "      <td>2.625336</td>\n",
       "      <td>1</td>\n",
       "    </tr>\n",
       "    <tr>\n",
       "      <th>4</th>\n",
       "      <td>1</td>\n",
       "      <td>Victoria</td>\n",
       "      <td>15500</td>\n",
       "      <td>Seychelles</td>\n",
       "      <td>Eswatini</td>\n",
       "      <td>Portugal</td>\n",
       "      <td>Seychelles</td>\n",
       "      <td>Seychelles Victoria</td>\n",
       "      <td>Victoria, Mahé, SEZ, Seychelles</td>\n",
       "      <td>4 37m 23.5506s S, 55 27m 8.4924s E</td>\n",
       "      <td>-4.623208</td>\n",
       "      <td>55.452359</td>\n",
       "      <td>1</td>\n",
       "    </tr>\n",
       "  </tbody>\n",
       "</table>\n",
       "</div>"
      ],
      "text/plain": [
       "   Weekend    Location   Fans          Team_1      Team_2    Team_3  \\\n",
       "0        1    Brussels  16000         Belgium      Guinea  Mongolia   \n",
       "1        3    Brussels   7500         Belgium       Benin  Portugal   \n",
       "2        4    Brussels  11500         Iceland  Seychelles   Belgium   \n",
       "3        1  Porto-Novo  13500  United Kingdom       Benin   Iceland   \n",
       "4        1    Victoria  15500      Seychelles    Eswatini  Portugal   \n",
       "\n",
       "      Country              Address  \\\n",
       "0     Belgium     Belgium Brussels   \n",
       "1     Belgium     Belgium Brussels   \n",
       "2     Belgium     Belgium Brussels   \n",
       "3       Benin     Benin Porto-Novo   \n",
       "4  Seychelles  Seychelles Victoria   \n",
       "\n",
       "                                              GP_Loc  \\\n",
       "0  Brussels, Ville de Bruxelles - Stad Brussel, B...   \n",
       "1  Brussels, Ville de Bruxelles - Stad Brussel, B...   \n",
       "2  Brussels, Ville de Bruxelles - Stad Brussel, B...   \n",
       "3      Porto-Novo, Porto Novo, Ouémé, 03BP647, Benin   \n",
       "4                    Victoria, Mahé, SEZ, Seychelles   \n",
       "\n",
       "                             GeoPoint   Latitude  Longitude Weekend_  \n",
       "0  50 50m 37.2152s N, 4 22m 2.7721s E  50.843671   4.367437        1  \n",
       "1  50 50m 37.2152s N, 4 22m 2.7721s E  50.843671   4.367437        3  \n",
       "2  50 50m 37.2152s N, 4 22m 2.7721s E  50.843671   4.367437        4  \n",
       "3    6 29m 56.6585s N, 2 37m 31.21s E   6.499072   2.625336        1  \n",
       "4  4 37m 23.5506s S, 55 27m 8.4924s E  -4.623208  55.452359        1  "
      ]
     },
     "execution_count": 72,
     "metadata": {},
     "output_type": "execute_result"
    }
   ],
   "source": [
    "df_cal_25_pp = df_cal_25.reset_index().merge(df_geodata,on=['Location'])\n",
    "df_cal_25_pp['Weekend_'] = df_cal_25_pp['Weekend'].apply(str)\n",
    "df_cal_25_pp.head()"
   ]
  },
  {
   "cell_type": "code",
   "execution_count": 73,
   "metadata": {},
   "outputs": [
    {
     "data": {
      "application/vnd.plotly.v1+json": {
       "config": {
        "plotlyServerURL": "https://plot.ly"
       },
       "data": [
        {
         "customdata": [
          [
           "Belgium",
           "Guinea",
           "Mongolia"
          ],
          [
           "United Kingdom",
           "Benin",
           "Iceland"
          ],
          [
           "Seychelles",
           "Eswatini",
           "Portugal"
          ]
         ],
         "geo": "geo",
         "hoverlabel": {
          "namelength": 0
         },
         "hovertemplate": "<b>%{hovertext}</b><br><br>Weekend_=1<br>size=%{marker.size}<br>Team_1=%{customdata[0]}<br>Team_2=%{customdata[1]}<br>Team_3=%{customdata[2]}<br>Latitude=%{lat}<br>Longitude=%{lon}",
         "hovertext": [
          "Brussels",
          "Porto-Novo",
          "Victoria"
         ],
         "lat": [
          50.8436709,
          6.4990718,
          -4.6232085
         ],
         "legendgroup": "Weekend_=1",
         "lon": [
          4.367436693,
          2.6253361,
          55.452358999999994
         ],
         "marker": {
          "color": "#636efa",
          "opacity": 0.95,
          "size": [
           6,
           6,
           6
          ],
          "sizemode": "area",
          "sizeref": 0.06
         },
         "name": "Weekend_=1",
         "showlegend": true,
         "type": "scattergeo"
        },
        {
         "customdata": [
          [
           "Belgium",
           "Benin",
           "Portugal"
          ],
          [
           "Seychelles",
           "United Kingdom",
           "Mongolia"
          ],
          [
           "Guinea",
           "Eswatini",
           "Iceland"
          ]
         ],
         "geo": "geo",
         "hoverlabel": {
          "namelength": 0
         },
         "hovertemplate": "<b>%{hovertext}</b><br><br>Weekend_=3<br>size=%{marker.size}<br>Team_1=%{customdata[0]}<br>Team_2=%{customdata[1]}<br>Team_3=%{customdata[2]}<br>Latitude=%{lat}<br>Longitude=%{lon}",
         "hovertext": [
          "Brussels",
          "London",
          "Reykjavik"
         ],
         "lat": [
          50.8436709,
          51.5073219,
          64.24450355
         ],
         "legendgroup": "Weekend_=3",
         "lon": [
          4.367436693,
          -0.1276474,
          -21.76926357
         ],
         "marker": {
          "color": "#EF553B",
          "opacity": 0.95,
          "size": [
           6,
           6,
           6
          ],
          "sizemode": "area",
          "sizeref": 0.06
         },
         "name": "Weekend_=3",
         "showlegend": true,
         "type": "scattergeo"
        },
        {
         "customdata": [
          [
           "Iceland",
           "Seychelles",
           "Belgium"
          ],
          [
           "United Kingdom",
           "Guinea",
           "Portugal"
          ],
          [
           "Eswatini",
           "Benin",
           "Mongolia"
          ]
         ],
         "geo": "geo",
         "hoverlabel": {
          "namelength": 0
         },
         "hovertemplate": "<b>%{hovertext}</b><br><br>Weekend_=4<br>size=%{marker.size}<br>Team_1=%{customdata[0]}<br>Team_2=%{customdata[1]}<br>Team_3=%{customdata[2]}<br>Latitude=%{lat}<br>Longitude=%{lon}",
         "hovertext": [
          "Brussels",
          "London",
          "Ulaanbaatar"
         ],
         "lat": [
          50.8436709,
          51.5073219,
          47.91846760000001
         ],
         "legendgroup": "Weekend_=4",
         "lon": [
          4.367436693,
          -0.1276474,
          106.91770159999999
         ],
         "marker": {
          "color": "#00cc96",
          "opacity": 0.95,
          "size": [
           6,
           6,
           6
          ],
          "sizemode": "area",
          "sizeref": 0.06
         },
         "name": "Weekend_=4",
         "showlegend": true,
         "type": "scattergeo"
        },
        {
         "customdata": [
          [
           "Guinea",
           "Benin",
           "Seychelles"
          ],
          [
           "Mongolia",
           "Iceland",
           "Portugal"
          ],
          [
           "United Kingdom",
           "Eswatini",
           "Belgium"
          ]
         ],
         "geo": "geo",
         "hoverlabel": {
          "namelength": 0
         },
         "hovertemplate": "<b>%{hovertext}</b><br><br>Weekend_=2<br>size=%{marker.size}<br>Team_1=%{customdata[0]}<br>Team_2=%{customdata[1]}<br>Team_3=%{customdata[2]}<br>Latitude=%{lat}<br>Longitude=%{lon}",
         "hovertext": [
          "Conakry",
          "Lisbon",
          "Mbabane"
         ],
         "lat": [
          11.8602385,
          38.707750700000005,
          -26.325745
         ],
         "legendgroup": "Weekend_=2",
         "lon": [
          -15.584547099999998,
          -9.1365919,
          31.144663
         ],
         "marker": {
          "color": "#ab63fa",
          "opacity": 0.95,
          "size": [
           6,
           6,
           6
          ],
          "sizemode": "area",
          "sizeref": 0.06
         },
         "name": "Weekend_=2",
         "showlegend": true,
         "type": "scattergeo"
        }
       ],
       "layout": {
        "geo": {
         "center": {},
         "domain": {
          "x": [
           0,
           1
          ],
          "y": [
           0,
           1
          ]
         }
        },
        "legend": {
         "itemsizing": "constant",
         "tracegroupgap": 0
        },
        "margin": {
         "t": 60
        },
        "template": {
         "data": {
          "bar": [
           {
            "error_x": {
             "color": "#2a3f5f"
            },
            "error_y": {
             "color": "#2a3f5f"
            },
            "marker": {
             "line": {
              "color": "#E5ECF6",
              "width": 0.5
             }
            },
            "type": "bar"
           }
          ],
          "barpolar": [
           {
            "marker": {
             "line": {
              "color": "#E5ECF6",
              "width": 0.5
             }
            },
            "type": "barpolar"
           }
          ],
          "carpet": [
           {
            "aaxis": {
             "endlinecolor": "#2a3f5f",
             "gridcolor": "white",
             "linecolor": "white",
             "minorgridcolor": "white",
             "startlinecolor": "#2a3f5f"
            },
            "baxis": {
             "endlinecolor": "#2a3f5f",
             "gridcolor": "white",
             "linecolor": "white",
             "minorgridcolor": "white",
             "startlinecolor": "#2a3f5f"
            },
            "type": "carpet"
           }
          ],
          "choropleth": [
           {
            "colorbar": {
             "outlinewidth": 0,
             "ticks": ""
            },
            "type": "choropleth"
           }
          ],
          "contour": [
           {
            "colorbar": {
             "outlinewidth": 0,
             "ticks": ""
            },
            "colorscale": [
             [
              0,
              "#0d0887"
             ],
             [
              0.1111111111111111,
              "#46039f"
             ],
             [
              0.2222222222222222,
              "#7201a8"
             ],
             [
              0.3333333333333333,
              "#9c179e"
             ],
             [
              0.4444444444444444,
              "#bd3786"
             ],
             [
              0.5555555555555556,
              "#d8576b"
             ],
             [
              0.6666666666666666,
              "#ed7953"
             ],
             [
              0.7777777777777778,
              "#fb9f3a"
             ],
             [
              0.8888888888888888,
              "#fdca26"
             ],
             [
              1,
              "#f0f921"
             ]
            ],
            "type": "contour"
           }
          ],
          "contourcarpet": [
           {
            "colorbar": {
             "outlinewidth": 0,
             "ticks": ""
            },
            "type": "contourcarpet"
           }
          ],
          "heatmap": [
           {
            "colorbar": {
             "outlinewidth": 0,
             "ticks": ""
            },
            "colorscale": [
             [
              0,
              "#0d0887"
             ],
             [
              0.1111111111111111,
              "#46039f"
             ],
             [
              0.2222222222222222,
              "#7201a8"
             ],
             [
              0.3333333333333333,
              "#9c179e"
             ],
             [
              0.4444444444444444,
              "#bd3786"
             ],
             [
              0.5555555555555556,
              "#d8576b"
             ],
             [
              0.6666666666666666,
              "#ed7953"
             ],
             [
              0.7777777777777778,
              "#fb9f3a"
             ],
             [
              0.8888888888888888,
              "#fdca26"
             ],
             [
              1,
              "#f0f921"
             ]
            ],
            "type": "heatmap"
           }
          ],
          "heatmapgl": [
           {
            "colorbar": {
             "outlinewidth": 0,
             "ticks": ""
            },
            "colorscale": [
             [
              0,
              "#0d0887"
             ],
             [
              0.1111111111111111,
              "#46039f"
             ],
             [
              0.2222222222222222,
              "#7201a8"
             ],
             [
              0.3333333333333333,
              "#9c179e"
             ],
             [
              0.4444444444444444,
              "#bd3786"
             ],
             [
              0.5555555555555556,
              "#d8576b"
             ],
             [
              0.6666666666666666,
              "#ed7953"
             ],
             [
              0.7777777777777778,
              "#fb9f3a"
             ],
             [
              0.8888888888888888,
              "#fdca26"
             ],
             [
              1,
              "#f0f921"
             ]
            ],
            "type": "heatmapgl"
           }
          ],
          "histogram": [
           {
            "marker": {
             "colorbar": {
              "outlinewidth": 0,
              "ticks": ""
             }
            },
            "type": "histogram"
           }
          ],
          "histogram2d": [
           {
            "colorbar": {
             "outlinewidth": 0,
             "ticks": ""
            },
            "colorscale": [
             [
              0,
              "#0d0887"
             ],
             [
              0.1111111111111111,
              "#46039f"
             ],
             [
              0.2222222222222222,
              "#7201a8"
             ],
             [
              0.3333333333333333,
              "#9c179e"
             ],
             [
              0.4444444444444444,
              "#bd3786"
             ],
             [
              0.5555555555555556,
              "#d8576b"
             ],
             [
              0.6666666666666666,
              "#ed7953"
             ],
             [
              0.7777777777777778,
              "#fb9f3a"
             ],
             [
              0.8888888888888888,
              "#fdca26"
             ],
             [
              1,
              "#f0f921"
             ]
            ],
            "type": "histogram2d"
           }
          ],
          "histogram2dcontour": [
           {
            "colorbar": {
             "outlinewidth": 0,
             "ticks": ""
            },
            "colorscale": [
             [
              0,
              "#0d0887"
             ],
             [
              0.1111111111111111,
              "#46039f"
             ],
             [
              0.2222222222222222,
              "#7201a8"
             ],
             [
              0.3333333333333333,
              "#9c179e"
             ],
             [
              0.4444444444444444,
              "#bd3786"
             ],
             [
              0.5555555555555556,
              "#d8576b"
             ],
             [
              0.6666666666666666,
              "#ed7953"
             ],
             [
              0.7777777777777778,
              "#fb9f3a"
             ],
             [
              0.8888888888888888,
              "#fdca26"
             ],
             [
              1,
              "#f0f921"
             ]
            ],
            "type": "histogram2dcontour"
           }
          ],
          "mesh3d": [
           {
            "colorbar": {
             "outlinewidth": 0,
             "ticks": ""
            },
            "type": "mesh3d"
           }
          ],
          "parcoords": [
           {
            "line": {
             "colorbar": {
              "outlinewidth": 0,
              "ticks": ""
             }
            },
            "type": "parcoords"
           }
          ],
          "pie": [
           {
            "automargin": true,
            "type": "pie"
           }
          ],
          "scatter": [
           {
            "marker": {
             "colorbar": {
              "outlinewidth": 0,
              "ticks": ""
             }
            },
            "type": "scatter"
           }
          ],
          "scatter3d": [
           {
            "line": {
             "colorbar": {
              "outlinewidth": 0,
              "ticks": ""
             }
            },
            "marker": {
             "colorbar": {
              "outlinewidth": 0,
              "ticks": ""
             }
            },
            "type": "scatter3d"
           }
          ],
          "scattercarpet": [
           {
            "marker": {
             "colorbar": {
              "outlinewidth": 0,
              "ticks": ""
             }
            },
            "type": "scattercarpet"
           }
          ],
          "scattergeo": [
           {
            "marker": {
             "colorbar": {
              "outlinewidth": 0,
              "ticks": ""
             }
            },
            "type": "scattergeo"
           }
          ],
          "scattergl": [
           {
            "marker": {
             "colorbar": {
              "outlinewidth": 0,
              "ticks": ""
             }
            },
            "type": "scattergl"
           }
          ],
          "scattermapbox": [
           {
            "marker": {
             "colorbar": {
              "outlinewidth": 0,
              "ticks": ""
             }
            },
            "type": "scattermapbox"
           }
          ],
          "scatterpolar": [
           {
            "marker": {
             "colorbar": {
              "outlinewidth": 0,
              "ticks": ""
             }
            },
            "type": "scatterpolar"
           }
          ],
          "scatterpolargl": [
           {
            "marker": {
             "colorbar": {
              "outlinewidth": 0,
              "ticks": ""
             }
            },
            "type": "scatterpolargl"
           }
          ],
          "scatterternary": [
           {
            "marker": {
             "colorbar": {
              "outlinewidth": 0,
              "ticks": ""
             }
            },
            "type": "scatterternary"
           }
          ],
          "surface": [
           {
            "colorbar": {
             "outlinewidth": 0,
             "ticks": ""
            },
            "colorscale": [
             [
              0,
              "#0d0887"
             ],
             [
              0.1111111111111111,
              "#46039f"
             ],
             [
              0.2222222222222222,
              "#7201a8"
             ],
             [
              0.3333333333333333,
              "#9c179e"
             ],
             [
              0.4444444444444444,
              "#bd3786"
             ],
             [
              0.5555555555555556,
              "#d8576b"
             ],
             [
              0.6666666666666666,
              "#ed7953"
             ],
             [
              0.7777777777777778,
              "#fb9f3a"
             ],
             [
              0.8888888888888888,
              "#fdca26"
             ],
             [
              1,
              "#f0f921"
             ]
            ],
            "type": "surface"
           }
          ],
          "table": [
           {
            "cells": {
             "fill": {
              "color": "#EBF0F8"
             },
             "line": {
              "color": "white"
             }
            },
            "header": {
             "fill": {
              "color": "#C8D4E3"
             },
             "line": {
              "color": "white"
             }
            },
            "type": "table"
           }
          ]
         },
         "layout": {
          "annotationdefaults": {
           "arrowcolor": "#2a3f5f",
           "arrowhead": 0,
           "arrowwidth": 1
          },
          "coloraxis": {
           "colorbar": {
            "outlinewidth": 0,
            "ticks": ""
           }
          },
          "colorscale": {
           "diverging": [
            [
             0,
             "#8e0152"
            ],
            [
             0.1,
             "#c51b7d"
            ],
            [
             0.2,
             "#de77ae"
            ],
            [
             0.3,
             "#f1b6da"
            ],
            [
             0.4,
             "#fde0ef"
            ],
            [
             0.5,
             "#f7f7f7"
            ],
            [
             0.6,
             "#e6f5d0"
            ],
            [
             0.7,
             "#b8e186"
            ],
            [
             0.8,
             "#7fbc41"
            ],
            [
             0.9,
             "#4d9221"
            ],
            [
             1,
             "#276419"
            ]
           ],
           "sequential": [
            [
             0,
             "#0d0887"
            ],
            [
             0.1111111111111111,
             "#46039f"
            ],
            [
             0.2222222222222222,
             "#7201a8"
            ],
            [
             0.3333333333333333,
             "#9c179e"
            ],
            [
             0.4444444444444444,
             "#bd3786"
            ],
            [
             0.5555555555555556,
             "#d8576b"
            ],
            [
             0.6666666666666666,
             "#ed7953"
            ],
            [
             0.7777777777777778,
             "#fb9f3a"
            ],
            [
             0.8888888888888888,
             "#fdca26"
            ],
            [
             1,
             "#f0f921"
            ]
           ],
           "sequentialminus": [
            [
             0,
             "#0d0887"
            ],
            [
             0.1111111111111111,
             "#46039f"
            ],
            [
             0.2222222222222222,
             "#7201a8"
            ],
            [
             0.3333333333333333,
             "#9c179e"
            ],
            [
             0.4444444444444444,
             "#bd3786"
            ],
            [
             0.5555555555555556,
             "#d8576b"
            ],
            [
             0.6666666666666666,
             "#ed7953"
            ],
            [
             0.7777777777777778,
             "#fb9f3a"
            ],
            [
             0.8888888888888888,
             "#fdca26"
            ],
            [
             1,
             "#f0f921"
            ]
           ]
          },
          "colorway": [
           "#636efa",
           "#EF553B",
           "#00cc96",
           "#ab63fa",
           "#FFA15A",
           "#19d3f3",
           "#FF6692",
           "#B6E880",
           "#FF97FF",
           "#FECB52"
          ],
          "font": {
           "color": "#2a3f5f"
          },
          "geo": {
           "bgcolor": "white",
           "lakecolor": "white",
           "landcolor": "#E5ECF6",
           "showlakes": true,
           "showland": true,
           "subunitcolor": "white"
          },
          "hoverlabel": {
           "align": "left"
          },
          "hovermode": "closest",
          "mapbox": {
           "style": "light"
          },
          "paper_bgcolor": "white",
          "plot_bgcolor": "#E5ECF6",
          "polar": {
           "angularaxis": {
            "gridcolor": "white",
            "linecolor": "white",
            "ticks": ""
           },
           "bgcolor": "#E5ECF6",
           "radialaxis": {
            "gridcolor": "white",
            "linecolor": "white",
            "ticks": ""
           }
          },
          "scene": {
           "xaxis": {
            "backgroundcolor": "#E5ECF6",
            "gridcolor": "white",
            "gridwidth": 2,
            "linecolor": "white",
            "showbackground": true,
            "ticks": "",
            "zerolinecolor": "white"
           },
           "yaxis": {
            "backgroundcolor": "#E5ECF6",
            "gridcolor": "white",
            "gridwidth": 2,
            "linecolor": "white",
            "showbackground": true,
            "ticks": "",
            "zerolinecolor": "white"
           },
           "zaxis": {
            "backgroundcolor": "#E5ECF6",
            "gridcolor": "white",
            "gridwidth": 2,
            "linecolor": "white",
            "showbackground": true,
            "ticks": "",
            "zerolinecolor": "white"
           }
          },
          "shapedefaults": {
           "line": {
            "color": "#2a3f5f"
           }
          },
          "ternary": {
           "aaxis": {
            "gridcolor": "white",
            "linecolor": "white",
            "ticks": ""
           },
           "baxis": {
            "gridcolor": "white",
            "linecolor": "white",
            "ticks": ""
           },
           "bgcolor": "#E5ECF6",
           "caxis": {
            "gridcolor": "white",
            "linecolor": "white",
            "ticks": ""
           }
          },
          "title": {
           "x": 0.05
          },
          "xaxis": {
           "automargin": true,
           "gridcolor": "white",
           "linecolor": "white",
           "ticks": "",
           "title": {
            "standoff": 15
           },
           "zerolinecolor": "white",
           "zerolinewidth": 2
          },
          "yaxis": {
           "automargin": true,
           "gridcolor": "white",
           "linecolor": "white",
           "ticks": "",
           "title": {
            "standoff": 15
           },
           "zerolinecolor": "white",
           "zerolinewidth": 2
          }
         }
        }
       }
      },
      "text/html": [
       "<div>\n",
       "        \n",
       "        \n",
       "            <div id=\"e11eecdd-92c0-4e9d-8187-4cca0a746857\" class=\"plotly-graph-div\" style=\"height:525px; width:100%;\"></div>\n",
       "            <script type=\"text/javascript\">\n",
       "                require([\"plotly\"], function(Plotly) {\n",
       "                    window.PLOTLYENV=window.PLOTLYENV || {};\n",
       "                    \n",
       "                if (document.getElementById(\"e11eecdd-92c0-4e9d-8187-4cca0a746857\")) {\n",
       "                    Plotly.newPlot(\n",
       "                        'e11eecdd-92c0-4e9d-8187-4cca0a746857',\n",
       "                        [{\"customdata\": [[\"Belgium\", \"Guinea\", \"Mongolia\"], [\"United Kingdom\", \"Benin\", \"Iceland\"], [\"Seychelles\", \"Eswatini\", \"Portugal\"]], \"geo\": \"geo\", \"hoverlabel\": {\"namelength\": 0}, \"hovertemplate\": \"<b>%{hovertext}</b><br><br>Weekend_=1<br>size=%{marker.size}<br>Team_1=%{customdata[0]}<br>Team_2=%{customdata[1]}<br>Team_3=%{customdata[2]}<br>Latitude=%{lat}<br>Longitude=%{lon}\", \"hovertext\": [\"Brussels\", \"Porto-Novo\", \"Victoria\"], \"lat\": [50.8436709, 6.4990718, -4.6232085], \"legendgroup\": \"Weekend_=1\", \"lon\": [4.367436693, 2.6253361, 55.452358999999994], \"marker\": {\"color\": \"#636efa\", \"opacity\": 0.95, \"size\": [6, 6, 6], \"sizemode\": \"area\", \"sizeref\": 0.06}, \"name\": \"Weekend_=1\", \"showlegend\": true, \"type\": \"scattergeo\"}, {\"customdata\": [[\"Belgium\", \"Benin\", \"Portugal\"], [\"Seychelles\", \"United Kingdom\", \"Mongolia\"], [\"Guinea\", \"Eswatini\", \"Iceland\"]], \"geo\": \"geo\", \"hoverlabel\": {\"namelength\": 0}, \"hovertemplate\": \"<b>%{hovertext}</b><br><br>Weekend_=3<br>size=%{marker.size}<br>Team_1=%{customdata[0]}<br>Team_2=%{customdata[1]}<br>Team_3=%{customdata[2]}<br>Latitude=%{lat}<br>Longitude=%{lon}\", \"hovertext\": [\"Brussels\", \"London\", \"Reykjavik\"], \"lat\": [50.8436709, 51.5073219, 64.24450355], \"legendgroup\": \"Weekend_=3\", \"lon\": [4.367436693, -0.1276474, -21.76926357], \"marker\": {\"color\": \"#EF553B\", \"opacity\": 0.95, \"size\": [6, 6, 6], \"sizemode\": \"area\", \"sizeref\": 0.06}, \"name\": \"Weekend_=3\", \"showlegend\": true, \"type\": \"scattergeo\"}, {\"customdata\": [[\"Iceland\", \"Seychelles\", \"Belgium\"], [\"United Kingdom\", \"Guinea\", \"Portugal\"], [\"Eswatini\", \"Benin\", \"Mongolia\"]], \"geo\": \"geo\", \"hoverlabel\": {\"namelength\": 0}, \"hovertemplate\": \"<b>%{hovertext}</b><br><br>Weekend_=4<br>size=%{marker.size}<br>Team_1=%{customdata[0]}<br>Team_2=%{customdata[1]}<br>Team_3=%{customdata[2]}<br>Latitude=%{lat}<br>Longitude=%{lon}\", \"hovertext\": [\"Brussels\", \"London\", \"Ulaanbaatar\"], \"lat\": [50.8436709, 51.5073219, 47.91846760000001], \"legendgroup\": \"Weekend_=4\", \"lon\": [4.367436693, -0.1276474, 106.91770159999999], \"marker\": {\"color\": \"#00cc96\", \"opacity\": 0.95, \"size\": [6, 6, 6], \"sizemode\": \"area\", \"sizeref\": 0.06}, \"name\": \"Weekend_=4\", \"showlegend\": true, \"type\": \"scattergeo\"}, {\"customdata\": [[\"Guinea\", \"Benin\", \"Seychelles\"], [\"Mongolia\", \"Iceland\", \"Portugal\"], [\"United Kingdom\", \"Eswatini\", \"Belgium\"]], \"geo\": \"geo\", \"hoverlabel\": {\"namelength\": 0}, \"hovertemplate\": \"<b>%{hovertext}</b><br><br>Weekend_=2<br>size=%{marker.size}<br>Team_1=%{customdata[0]}<br>Team_2=%{customdata[1]}<br>Team_3=%{customdata[2]}<br>Latitude=%{lat}<br>Longitude=%{lon}\", \"hovertext\": [\"Conakry\", \"Lisbon\", \"Mbabane\"], \"lat\": [11.8602385, 38.707750700000005, -26.325745], \"legendgroup\": \"Weekend_=2\", \"lon\": [-15.584547099999998, -9.1365919, 31.144663], \"marker\": {\"color\": \"#ab63fa\", \"opacity\": 0.95, \"size\": [6, 6, 6], \"sizemode\": \"area\", \"sizeref\": 0.06}, \"name\": \"Weekend_=2\", \"showlegend\": true, \"type\": \"scattergeo\"}],\n",
       "                        {\"geo\": {\"center\": {}, \"domain\": {\"x\": [0.0, 1.0], \"y\": [0.0, 1.0]}}, \"legend\": {\"itemsizing\": \"constant\", \"tracegroupgap\": 0}, \"margin\": {\"t\": 60}, \"template\": {\"data\": {\"bar\": [{\"error_x\": {\"color\": \"#2a3f5f\"}, \"error_y\": {\"color\": \"#2a3f5f\"}, \"marker\": {\"line\": {\"color\": \"#E5ECF6\", \"width\": 0.5}}, \"type\": \"bar\"}], \"barpolar\": [{\"marker\": {\"line\": {\"color\": \"#E5ECF6\", \"width\": 0.5}}, \"type\": \"barpolar\"}], \"carpet\": [{\"aaxis\": {\"endlinecolor\": \"#2a3f5f\", \"gridcolor\": \"white\", \"linecolor\": \"white\", \"minorgridcolor\": \"white\", \"startlinecolor\": \"#2a3f5f\"}, \"baxis\": {\"endlinecolor\": \"#2a3f5f\", \"gridcolor\": \"white\", \"linecolor\": \"white\", \"minorgridcolor\": \"white\", \"startlinecolor\": \"#2a3f5f\"}, \"type\": \"carpet\"}], \"choropleth\": [{\"colorbar\": {\"outlinewidth\": 0, \"ticks\": \"\"}, \"type\": \"choropleth\"}], \"contour\": [{\"colorbar\": {\"outlinewidth\": 0, \"ticks\": \"\"}, \"colorscale\": [[0.0, \"#0d0887\"], [0.1111111111111111, \"#46039f\"], [0.2222222222222222, \"#7201a8\"], [0.3333333333333333, \"#9c179e\"], [0.4444444444444444, \"#bd3786\"], [0.5555555555555556, \"#d8576b\"], [0.6666666666666666, \"#ed7953\"], [0.7777777777777778, \"#fb9f3a\"], [0.8888888888888888, \"#fdca26\"], [1.0, \"#f0f921\"]], \"type\": \"contour\"}], \"contourcarpet\": [{\"colorbar\": {\"outlinewidth\": 0, \"ticks\": \"\"}, \"type\": \"contourcarpet\"}], \"heatmap\": [{\"colorbar\": {\"outlinewidth\": 0, \"ticks\": \"\"}, \"colorscale\": [[0.0, \"#0d0887\"], [0.1111111111111111, \"#46039f\"], [0.2222222222222222, \"#7201a8\"], [0.3333333333333333, \"#9c179e\"], [0.4444444444444444, \"#bd3786\"], [0.5555555555555556, \"#d8576b\"], [0.6666666666666666, \"#ed7953\"], [0.7777777777777778, \"#fb9f3a\"], [0.8888888888888888, \"#fdca26\"], [1.0, \"#f0f921\"]], \"type\": \"heatmap\"}], \"heatmapgl\": [{\"colorbar\": {\"outlinewidth\": 0, \"ticks\": \"\"}, \"colorscale\": [[0.0, \"#0d0887\"], [0.1111111111111111, \"#46039f\"], [0.2222222222222222, \"#7201a8\"], [0.3333333333333333, \"#9c179e\"], [0.4444444444444444, \"#bd3786\"], [0.5555555555555556, \"#d8576b\"], [0.6666666666666666, \"#ed7953\"], [0.7777777777777778, \"#fb9f3a\"], [0.8888888888888888, \"#fdca26\"], [1.0, \"#f0f921\"]], \"type\": \"heatmapgl\"}], \"histogram\": [{\"marker\": {\"colorbar\": {\"outlinewidth\": 0, \"ticks\": \"\"}}, \"type\": \"histogram\"}], \"histogram2d\": [{\"colorbar\": {\"outlinewidth\": 0, \"ticks\": \"\"}, \"colorscale\": [[0.0, \"#0d0887\"], [0.1111111111111111, \"#46039f\"], [0.2222222222222222, \"#7201a8\"], [0.3333333333333333, \"#9c179e\"], [0.4444444444444444, \"#bd3786\"], [0.5555555555555556, \"#d8576b\"], [0.6666666666666666, \"#ed7953\"], [0.7777777777777778, \"#fb9f3a\"], [0.8888888888888888, \"#fdca26\"], [1.0, \"#f0f921\"]], \"type\": \"histogram2d\"}], \"histogram2dcontour\": [{\"colorbar\": {\"outlinewidth\": 0, \"ticks\": \"\"}, \"colorscale\": [[0.0, \"#0d0887\"], [0.1111111111111111, \"#46039f\"], [0.2222222222222222, \"#7201a8\"], [0.3333333333333333, \"#9c179e\"], [0.4444444444444444, \"#bd3786\"], [0.5555555555555556, \"#d8576b\"], [0.6666666666666666, \"#ed7953\"], [0.7777777777777778, \"#fb9f3a\"], [0.8888888888888888, \"#fdca26\"], [1.0, \"#f0f921\"]], \"type\": \"histogram2dcontour\"}], \"mesh3d\": [{\"colorbar\": {\"outlinewidth\": 0, \"ticks\": \"\"}, \"type\": \"mesh3d\"}], \"parcoords\": [{\"line\": {\"colorbar\": {\"outlinewidth\": 0, \"ticks\": \"\"}}, \"type\": \"parcoords\"}], \"pie\": [{\"automargin\": true, \"type\": \"pie\"}], \"scatter\": [{\"marker\": {\"colorbar\": {\"outlinewidth\": 0, \"ticks\": \"\"}}, \"type\": \"scatter\"}], \"scatter3d\": [{\"line\": {\"colorbar\": {\"outlinewidth\": 0, \"ticks\": \"\"}}, \"marker\": {\"colorbar\": {\"outlinewidth\": 0, \"ticks\": \"\"}}, \"type\": \"scatter3d\"}], \"scattercarpet\": [{\"marker\": {\"colorbar\": {\"outlinewidth\": 0, \"ticks\": \"\"}}, \"type\": \"scattercarpet\"}], \"scattergeo\": [{\"marker\": {\"colorbar\": {\"outlinewidth\": 0, \"ticks\": \"\"}}, \"type\": \"scattergeo\"}], \"scattergl\": [{\"marker\": {\"colorbar\": {\"outlinewidth\": 0, \"ticks\": \"\"}}, \"type\": \"scattergl\"}], \"scattermapbox\": [{\"marker\": {\"colorbar\": {\"outlinewidth\": 0, \"ticks\": \"\"}}, \"type\": \"scattermapbox\"}], \"scatterpolar\": [{\"marker\": {\"colorbar\": {\"outlinewidth\": 0, \"ticks\": \"\"}}, \"type\": \"scatterpolar\"}], \"scatterpolargl\": [{\"marker\": {\"colorbar\": {\"outlinewidth\": 0, \"ticks\": \"\"}}, \"type\": \"scatterpolargl\"}], \"scatterternary\": [{\"marker\": {\"colorbar\": {\"outlinewidth\": 0, \"ticks\": \"\"}}, \"type\": \"scatterternary\"}], \"surface\": [{\"colorbar\": {\"outlinewidth\": 0, \"ticks\": \"\"}, \"colorscale\": [[0.0, \"#0d0887\"], [0.1111111111111111, \"#46039f\"], [0.2222222222222222, \"#7201a8\"], [0.3333333333333333, \"#9c179e\"], [0.4444444444444444, \"#bd3786\"], [0.5555555555555556, \"#d8576b\"], [0.6666666666666666, \"#ed7953\"], [0.7777777777777778, \"#fb9f3a\"], [0.8888888888888888, \"#fdca26\"], [1.0, \"#f0f921\"]], \"type\": \"surface\"}], \"table\": [{\"cells\": {\"fill\": {\"color\": \"#EBF0F8\"}, \"line\": {\"color\": \"white\"}}, \"header\": {\"fill\": {\"color\": \"#C8D4E3\"}, \"line\": {\"color\": \"white\"}}, \"type\": \"table\"}]}, \"layout\": {\"annotationdefaults\": {\"arrowcolor\": \"#2a3f5f\", \"arrowhead\": 0, \"arrowwidth\": 1}, \"coloraxis\": {\"colorbar\": {\"outlinewidth\": 0, \"ticks\": \"\"}}, \"colorscale\": {\"diverging\": [[0, \"#8e0152\"], [0.1, \"#c51b7d\"], [0.2, \"#de77ae\"], [0.3, \"#f1b6da\"], [0.4, \"#fde0ef\"], [0.5, \"#f7f7f7\"], [0.6, \"#e6f5d0\"], [0.7, \"#b8e186\"], [0.8, \"#7fbc41\"], [0.9, \"#4d9221\"], [1, \"#276419\"]], \"sequential\": [[0.0, \"#0d0887\"], [0.1111111111111111, \"#46039f\"], [0.2222222222222222, \"#7201a8\"], [0.3333333333333333, \"#9c179e\"], [0.4444444444444444, \"#bd3786\"], [0.5555555555555556, \"#d8576b\"], [0.6666666666666666, \"#ed7953\"], [0.7777777777777778, \"#fb9f3a\"], [0.8888888888888888, \"#fdca26\"], [1.0, \"#f0f921\"]], \"sequentialminus\": [[0.0, \"#0d0887\"], [0.1111111111111111, \"#46039f\"], [0.2222222222222222, \"#7201a8\"], [0.3333333333333333, \"#9c179e\"], [0.4444444444444444, \"#bd3786\"], [0.5555555555555556, \"#d8576b\"], [0.6666666666666666, \"#ed7953\"], [0.7777777777777778, \"#fb9f3a\"], [0.8888888888888888, \"#fdca26\"], [1.0, \"#f0f921\"]]}, \"colorway\": [\"#636efa\", \"#EF553B\", \"#00cc96\", \"#ab63fa\", \"#FFA15A\", \"#19d3f3\", \"#FF6692\", \"#B6E880\", \"#FF97FF\", \"#FECB52\"], \"font\": {\"color\": \"#2a3f5f\"}, \"geo\": {\"bgcolor\": \"white\", \"lakecolor\": \"white\", \"landcolor\": \"#E5ECF6\", \"showlakes\": true, \"showland\": true, \"subunitcolor\": \"white\"}, \"hoverlabel\": {\"align\": \"left\"}, \"hovermode\": \"closest\", \"mapbox\": {\"style\": \"light\"}, \"paper_bgcolor\": \"white\", \"plot_bgcolor\": \"#E5ECF6\", \"polar\": {\"angularaxis\": {\"gridcolor\": \"white\", \"linecolor\": \"white\", \"ticks\": \"\"}, \"bgcolor\": \"#E5ECF6\", \"radialaxis\": {\"gridcolor\": \"white\", \"linecolor\": \"white\", \"ticks\": \"\"}}, \"scene\": {\"xaxis\": {\"backgroundcolor\": \"#E5ECF6\", \"gridcolor\": \"white\", \"gridwidth\": 2, \"linecolor\": \"white\", \"showbackground\": true, \"ticks\": \"\", \"zerolinecolor\": \"white\"}, \"yaxis\": {\"backgroundcolor\": \"#E5ECF6\", \"gridcolor\": \"white\", \"gridwidth\": 2, \"linecolor\": \"white\", \"showbackground\": true, \"ticks\": \"\", \"zerolinecolor\": \"white\"}, \"zaxis\": {\"backgroundcolor\": \"#E5ECF6\", \"gridcolor\": \"white\", \"gridwidth\": 2, \"linecolor\": \"white\", \"showbackground\": true, \"ticks\": \"\", \"zerolinecolor\": \"white\"}}, \"shapedefaults\": {\"line\": {\"color\": \"#2a3f5f\"}}, \"ternary\": {\"aaxis\": {\"gridcolor\": \"white\", \"linecolor\": \"white\", \"ticks\": \"\"}, \"baxis\": {\"gridcolor\": \"white\", \"linecolor\": \"white\", \"ticks\": \"\"}, \"bgcolor\": \"#E5ECF6\", \"caxis\": {\"gridcolor\": \"white\", \"linecolor\": \"white\", \"ticks\": \"\"}}, \"title\": {\"x\": 0.05}, \"xaxis\": {\"automargin\": true, \"gridcolor\": \"white\", \"linecolor\": \"white\", \"ticks\": \"\", \"title\": {\"standoff\": 15}, \"zerolinecolor\": \"white\", \"zerolinewidth\": 2}, \"yaxis\": {\"automargin\": true, \"gridcolor\": \"white\", \"linecolor\": \"white\", \"ticks\": \"\", \"title\": {\"standoff\": 15}, \"zerolinecolor\": \"white\", \"zerolinewidth\": 2}}}},\n",
       "                        {\"responsive\": true}\n",
       "                    ).then(function(){\n",
       "                            \n",
       "var gd = document.getElementById('e11eecdd-92c0-4e9d-8187-4cca0a746857');\n",
       "var x = new MutationObserver(function (mutations, observer) {{\n",
       "        var display = window.getComputedStyle(gd).display;\n",
       "        if (!display || display === 'none') {{\n",
       "            console.log([gd, 'removed!']);\n",
       "            Plotly.purge(gd);\n",
       "            observer.disconnect();\n",
       "        }}\n",
       "}});\n",
       "\n",
       "// Listen for the removal of the full notebook cells\n",
       "var notebookContainer = gd.closest('#notebook-container');\n",
       "if (notebookContainer) {{\n",
       "    x.observe(notebookContainer, {childList: true});\n",
       "}}\n",
       "\n",
       "// Listen for the clearing of the current output cell\n",
       "var outputEl = gd.closest('.output');\n",
       "if (outputEl) {{\n",
       "    x.observe(outputEl, {childList: true});\n",
       "}}\n",
       "\n",
       "                        })\n",
       "                };\n",
       "                });\n",
       "            </script>\n",
       "        </div>"
      ]
     },
     "metadata": {},
     "output_type": "display_data"
    }
   ],
   "source": [
    "px.scatter_geo(df_cal_25_pp,lat='Latitude',lon='Longitude',\n",
    "               color='Weekend_',\n",
    "               hover_name='Location',hover_data = ['Team_1','Team_2','Team_3'],\n",
    "              opacity=.95,size=[6 for i in df_cal_pp.index],size_max=10)"
   ]
  },
  {
   "cell_type": "code",
   "execution_count": null,
   "metadata": {},
   "outputs": [],
   "source": []
  },
  {
   "cell_type": "code",
   "execution_count": 74,
   "metadata": {},
   "outputs": [
    {
     "data": {
      "text/html": [
       "<div>\n",
       "<style scoped>\n",
       "    .dataframe tbody tr th:only-of-type {\n",
       "        vertical-align: middle;\n",
       "    }\n",
       "\n",
       "    .dataframe tbody tr th {\n",
       "        vertical-align: top;\n",
       "    }\n",
       "\n",
       "    .dataframe thead th {\n",
       "        text-align: right;\n",
       "    }\n",
       "</style>\n",
       "<table border=\"1\" class=\"dataframe\">\n",
       "  <thead>\n",
       "    <tr style=\"text-align: right;\">\n",
       "      <th></th>\n",
       "      <th>Team</th>\n",
       "      <th>Weekend</th>\n",
       "      <th>Location</th>\n",
       "    </tr>\n",
       "  </thead>\n",
       "  <tbody>\n",
       "    <tr>\n",
       "      <th>0</th>\n",
       "      <td>Belgium</td>\n",
       "      <td>1</td>\n",
       "      <td>Brussels</td>\n",
       "    </tr>\n",
       "    <tr>\n",
       "      <th>1</th>\n",
       "      <td>Benin</td>\n",
       "      <td>1</td>\n",
       "      <td>Porto-Novo</td>\n",
       "    </tr>\n",
       "    <tr>\n",
       "      <th>2</th>\n",
       "      <td>Eswatini</td>\n",
       "      <td>1</td>\n",
       "      <td>Victoria</td>\n",
       "    </tr>\n",
       "    <tr>\n",
       "      <th>3</th>\n",
       "      <td>Guinea</td>\n",
       "      <td>1</td>\n",
       "      <td>Brussels</td>\n",
       "    </tr>\n",
       "    <tr>\n",
       "      <th>4</th>\n",
       "      <td>Iceland</td>\n",
       "      <td>1</td>\n",
       "      <td>Porto-Novo</td>\n",
       "    </tr>\n",
       "  </tbody>\n",
       "</table>\n",
       "</div>"
      ],
      "text/plain": [
       "       Team Weekend    Location\n",
       "0   Belgium       1    Brussels\n",
       "1     Benin       1  Porto-Novo\n",
       "2  Eswatini       1    Victoria\n",
       "3    Guinea       1    Brussels\n",
       "4   Iceland       1  Porto-Novo"
      ]
     },
     "execution_count": 74,
     "metadata": {},
     "output_type": "execute_result"
    }
   ],
   "source": [
    "df_pos_25 = _result_25.df_pos.reset_index().melt(id_vars='Team',value_name='Location')\n",
    "df_pos_25.head()"
   ]
  },
  {
   "cell_type": "code",
   "execution_count": 75,
   "metadata": {},
   "outputs": [],
   "source": [
    "df_aug_25 = df_pos_25.merge(df_geodata,on=['Location'])"
   ]
  },
  {
   "cell_type": "code",
   "execution_count": 76,
   "metadata": {},
   "outputs": [
    {
     "data": {
      "text/html": [
       "<div>\n",
       "<style scoped>\n",
       "    .dataframe tbody tr th:only-of-type {\n",
       "        vertical-align: middle;\n",
       "    }\n",
       "\n",
       "    .dataframe tbody tr th {\n",
       "        vertical-align: top;\n",
       "    }\n",
       "\n",
       "    .dataframe thead th {\n",
       "        text-align: right;\n",
       "    }\n",
       "</style>\n",
       "<table border=\"1\" class=\"dataframe\">\n",
       "  <thead>\n",
       "    <tr style=\"text-align: right;\">\n",
       "      <th></th>\n",
       "      <th>Team</th>\n",
       "      <th>Weekend</th>\n",
       "      <th>Location</th>\n",
       "      <th>Country</th>\n",
       "      <th>Address</th>\n",
       "      <th>GP_Loc</th>\n",
       "      <th>GeoPoint</th>\n",
       "      <th>Latitude</th>\n",
       "      <th>Longitude</th>\n",
       "    </tr>\n",
       "  </thead>\n",
       "  <tbody>\n",
       "    <tr>\n",
       "      <th>0</th>\n",
       "      <td>Belgium</td>\n",
       "      <td>1</td>\n",
       "      <td>Brussels</td>\n",
       "      <td>Belgium</td>\n",
       "      <td>Belgium Brussels</td>\n",
       "      <td>Brussels, Ville de Bruxelles - Stad Brussel, B...</td>\n",
       "      <td>50 50m 37.2152s N, 4 22m 2.7721s E</td>\n",
       "      <td>50.843671</td>\n",
       "      <td>4.367437</td>\n",
       "    </tr>\n",
       "    <tr>\n",
       "      <th>1</th>\n",
       "      <td>Guinea</td>\n",
       "      <td>1</td>\n",
       "      <td>Brussels</td>\n",
       "      <td>Belgium</td>\n",
       "      <td>Belgium Brussels</td>\n",
       "      <td>Brussels, Ville de Bruxelles - Stad Brussel, B...</td>\n",
       "      <td>50 50m 37.2152s N, 4 22m 2.7721s E</td>\n",
       "      <td>50.843671</td>\n",
       "      <td>4.367437</td>\n",
       "    </tr>\n",
       "    <tr>\n",
       "      <th>2</th>\n",
       "      <td>Mongolia</td>\n",
       "      <td>1</td>\n",
       "      <td>Brussels</td>\n",
       "      <td>Belgium</td>\n",
       "      <td>Belgium Brussels</td>\n",
       "      <td>Brussels, Ville de Bruxelles - Stad Brussel, B...</td>\n",
       "      <td>50 50m 37.2152s N, 4 22m 2.7721s E</td>\n",
       "      <td>50.843671</td>\n",
       "      <td>4.367437</td>\n",
       "    </tr>\n",
       "    <tr>\n",
       "      <th>3</th>\n",
       "      <td>Belgium</td>\n",
       "      <td>3</td>\n",
       "      <td>Brussels</td>\n",
       "      <td>Belgium</td>\n",
       "      <td>Belgium Brussels</td>\n",
       "      <td>Brussels, Ville de Bruxelles - Stad Brussel, B...</td>\n",
       "      <td>50 50m 37.2152s N, 4 22m 2.7721s E</td>\n",
       "      <td>50.843671</td>\n",
       "      <td>4.367437</td>\n",
       "    </tr>\n",
       "    <tr>\n",
       "      <th>4</th>\n",
       "      <td>Benin</td>\n",
       "      <td>3</td>\n",
       "      <td>Brussels</td>\n",
       "      <td>Belgium</td>\n",
       "      <td>Belgium Brussels</td>\n",
       "      <td>Brussels, Ville de Bruxelles - Stad Brussel, B...</td>\n",
       "      <td>50 50m 37.2152s N, 4 22m 2.7721s E</td>\n",
       "      <td>50.843671</td>\n",
       "      <td>4.367437</td>\n",
       "    </tr>\n",
       "  </tbody>\n",
       "</table>\n",
       "</div>"
      ],
      "text/plain": [
       "       Team Weekend  Location  Country           Address  \\\n",
       "0   Belgium       1  Brussels  Belgium  Belgium Brussels   \n",
       "1    Guinea       1  Brussels  Belgium  Belgium Brussels   \n",
       "2  Mongolia       1  Brussels  Belgium  Belgium Brussels   \n",
       "3   Belgium       3  Brussels  Belgium  Belgium Brussels   \n",
       "4     Benin       3  Brussels  Belgium  Belgium Brussels   \n",
       "\n",
       "                                              GP_Loc  \\\n",
       "0  Brussels, Ville de Bruxelles - Stad Brussel, B...   \n",
       "1  Brussels, Ville de Bruxelles - Stad Brussel, B...   \n",
       "2  Brussels, Ville de Bruxelles - Stad Brussel, B...   \n",
       "3  Brussels, Ville de Bruxelles - Stad Brussel, B...   \n",
       "4  Brussels, Ville de Bruxelles - Stad Brussel, B...   \n",
       "\n",
       "                             GeoPoint   Latitude  Longitude  \n",
       "0  50 50m 37.2152s N, 4 22m 2.7721s E  50.843671   4.367437  \n",
       "1  50 50m 37.2152s N, 4 22m 2.7721s E  50.843671   4.367437  \n",
       "2  50 50m 37.2152s N, 4 22m 2.7721s E  50.843671   4.367437  \n",
       "3  50 50m 37.2152s N, 4 22m 2.7721s E  50.843671   4.367437  \n",
       "4  50 50m 37.2152s N, 4 22m 2.7721s E  50.843671   4.367437  "
      ]
     },
     "execution_count": 76,
     "metadata": {},
     "output_type": "execute_result"
    }
   ],
   "source": [
    "df_aug_25.head()"
   ]
  },
  {
   "cell_type": "code",
   "execution_count": 77,
   "metadata": {},
   "outputs": [
    {
     "name": "stdout",
     "output_type": "stream",
     "text": [
      "P\n",
      "25    121530.169904\n",
      "Name: Total Travel, dtype: float64\n"
     ]
    }
   ],
   "source": [
    "print(_result_25.df_gkpi['Total Travel'])"
   ]
  },
  {
   "cell_type": "code",
   "execution_count": 78,
   "metadata": {},
   "outputs": [
    {
     "data": {
      "application/vnd.plotly.v1+json": {
       "config": {
        "plotlyServerURL": "https://plot.ly"
       },
       "data": [
        {
         "customdata": [
          [
           "Brussels",
           1
          ],
          [
           "Mbabane",
           2
          ],
          [
           "Brussels",
           3
          ],
          [
           "Brussels",
           4
          ]
         ],
         "geo": "geo",
         "hoverlabel": {
          "namelength": 0
         },
         "hovertemplate": "<b>%{hovertext}</b><br><br>Team=Belgium<br>Location=%{customdata[0]}<br>Weekend=%{customdata[1]}<br>Latitude=%{lat}<br>Longitude=%{lon}",
         "hovertext": [
          "Belgium",
          "Belgium",
          "Belgium",
          "Belgium"
         ],
         "ids": [
          1,
          2,
          3,
          4
         ],
         "lat": [
          50.8436709,
          -26.325745,
          50.8436709,
          50.8436709
         ],
         "legendgroup": "Team=Belgium",
         "line": {
          "color": "#636efa",
          "dash": "solid"
         },
         "lon": [
          4.367436693,
          31.144663,
          4.367436693,
          4.367436693
         ],
         "mode": "lines",
         "name": "Team=Belgium",
         "showlegend": true,
         "type": "scattergeo"
        },
        {
         "customdata": [
          [
           "Brussels",
           1
          ],
          [
           "Conakry",
           2
          ],
          [
           "Reykjavik",
           3
          ],
          [
           "London",
           4
          ]
         ],
         "geo": "geo",
         "hoverlabel": {
          "namelength": 0
         },
         "hovertemplate": "<b>%{hovertext}</b><br><br>Team=Guinea<br>Location=%{customdata[0]}<br>Weekend=%{customdata[1]}<br>Latitude=%{lat}<br>Longitude=%{lon}",
         "hovertext": [
          "Guinea",
          "Guinea",
          "Guinea",
          "Guinea"
         ],
         "ids": [
          1,
          2,
          3,
          4
         ],
         "lat": [
          50.8436709,
          11.8602385,
          64.24450355,
          51.5073219
         ],
         "legendgroup": "Team=Guinea",
         "line": {
          "color": "#EF553B",
          "dash": "solid"
         },
         "lon": [
          4.367436693,
          -15.584547099999998,
          -21.76926357,
          -0.1276474
         ],
         "mode": "lines",
         "name": "Team=Guinea",
         "showlegend": true,
         "type": "scattergeo"
        },
        {
         "customdata": [
          [
           "Brussels",
           1
          ],
          [
           "Lisbon",
           2
          ],
          [
           "London",
           3
          ],
          [
           "Ulaanbaatar",
           4
          ]
         ],
         "geo": "geo",
         "hoverlabel": {
          "namelength": 0
         },
         "hovertemplate": "<b>%{hovertext}</b><br><br>Team=Mongolia<br>Location=%{customdata[0]}<br>Weekend=%{customdata[1]}<br>Latitude=%{lat}<br>Longitude=%{lon}",
         "hovertext": [
          "Mongolia",
          "Mongolia",
          "Mongolia",
          "Mongolia"
         ],
         "ids": [
          1,
          2,
          3,
          4
         ],
         "lat": [
          50.8436709,
          38.707750700000005,
          51.5073219,
          47.91846760000001
         ],
         "legendgroup": "Team=Mongolia",
         "line": {
          "color": "#00cc96",
          "dash": "solid"
         },
         "lon": [
          4.367436693,
          -9.1365919,
          -0.1276474,
          106.91770159999999
         ],
         "mode": "lines",
         "name": "Team=Mongolia",
         "showlegend": true,
         "type": "scattergeo"
        },
        {
         "customdata": [
          [
           "Porto-Novo",
           1
          ],
          [
           "Conakry",
           2
          ],
          [
           "Brussels",
           3
          ],
          [
           "Ulaanbaatar",
           4
          ]
         ],
         "geo": "geo",
         "hoverlabel": {
          "namelength": 0
         },
         "hovertemplate": "<b>%{hovertext}</b><br><br>Team=Benin<br>Location=%{customdata[0]}<br>Weekend=%{customdata[1]}<br>Latitude=%{lat}<br>Longitude=%{lon}",
         "hovertext": [
          "Benin",
          "Benin",
          "Benin",
          "Benin"
         ],
         "ids": [
          1,
          2,
          3,
          4
         ],
         "lat": [
          6.4990718,
          11.8602385,
          50.8436709,
          47.91846760000001
         ],
         "legendgroup": "Team=Benin",
         "line": {
          "color": "#ab63fa",
          "dash": "solid"
         },
         "lon": [
          2.6253361,
          -15.584547099999998,
          4.367436693,
          106.91770159999999
         ],
         "mode": "lines",
         "name": "Team=Benin",
         "showlegend": true,
         "type": "scattergeo"
        },
        {
         "customdata": [
          [
           "Porto-Novo",
           1
          ],
          [
           "Lisbon",
           2
          ],
          [
           "Reykjavik",
           3
          ],
          [
           "Brussels",
           4
          ]
         ],
         "geo": "geo",
         "hoverlabel": {
          "namelength": 0
         },
         "hovertemplate": "<b>%{hovertext}</b><br><br>Team=Iceland<br>Location=%{customdata[0]}<br>Weekend=%{customdata[1]}<br>Latitude=%{lat}<br>Longitude=%{lon}",
         "hovertext": [
          "Iceland",
          "Iceland",
          "Iceland",
          "Iceland"
         ],
         "ids": [
          1,
          2,
          3,
          4
         ],
         "lat": [
          6.4990718,
          38.707750700000005,
          64.24450355,
          50.8436709
         ],
         "legendgroup": "Team=Iceland",
         "line": {
          "color": "#FFA15A",
          "dash": "solid"
         },
         "lon": [
          2.6253361,
          -9.1365919,
          -21.76926357,
          4.367436693
         ],
         "mode": "lines",
         "name": "Team=Iceland",
         "showlegend": true,
         "type": "scattergeo"
        },
        {
         "customdata": [
          [
           "Porto-Novo",
           1
          ],
          [
           "Mbabane",
           2
          ],
          [
           "London",
           3
          ],
          [
           "London",
           4
          ]
         ],
         "geo": "geo",
         "hoverlabel": {
          "namelength": 0
         },
         "hovertemplate": "<b>%{hovertext}</b><br><br>Team=United Kingdom<br>Location=%{customdata[0]}<br>Weekend=%{customdata[1]}<br>Latitude=%{lat}<br>Longitude=%{lon}",
         "hovertext": [
          "United Kingdom",
          "United Kingdom",
          "United Kingdom",
          "United Kingdom"
         ],
         "ids": [
          1,
          2,
          3,
          4
         ],
         "lat": [
          6.4990718,
          -26.325745,
          51.5073219,
          51.5073219
         ],
         "legendgroup": "Team=United Kingdom",
         "line": {
          "color": "#19d3f3",
          "dash": "solid"
         },
         "lon": [
          2.6253361,
          31.144663,
          -0.1276474,
          -0.1276474
         ],
         "mode": "lines",
         "name": "Team=United Kingdom",
         "showlegend": true,
         "type": "scattergeo"
        },
        {
         "customdata": [
          [
           "Victoria",
           1
          ],
          [
           "Mbabane",
           2
          ],
          [
           "Reykjavik",
           3
          ],
          [
           "Ulaanbaatar",
           4
          ]
         ],
         "geo": "geo",
         "hoverlabel": {
          "namelength": 0
         },
         "hovertemplate": "<b>%{hovertext}</b><br><br>Team=Eswatini<br>Location=%{customdata[0]}<br>Weekend=%{customdata[1]}<br>Latitude=%{lat}<br>Longitude=%{lon}",
         "hovertext": [
          "Eswatini",
          "Eswatini",
          "Eswatini",
          "Eswatini"
         ],
         "ids": [
          1,
          2,
          3,
          4
         ],
         "lat": [
          -4.6232085,
          -26.325745,
          64.24450355,
          47.91846760000001
         ],
         "legendgroup": "Team=Eswatini",
         "line": {
          "color": "#FF6692",
          "dash": "solid"
         },
         "lon": [
          55.452358999999994,
          31.144663,
          -21.76926357,
          106.91770159999999
         ],
         "mode": "lines",
         "name": "Team=Eswatini",
         "showlegend": true,
         "type": "scattergeo"
        },
        {
         "customdata": [
          [
           "Victoria",
           1
          ],
          [
           "Lisbon",
           2
          ],
          [
           "Brussels",
           3
          ],
          [
           "London",
           4
          ]
         ],
         "geo": "geo",
         "hoverlabel": {
          "namelength": 0
         },
         "hovertemplate": "<b>%{hovertext}</b><br><br>Team=Portugal<br>Location=%{customdata[0]}<br>Weekend=%{customdata[1]}<br>Latitude=%{lat}<br>Longitude=%{lon}",
         "hovertext": [
          "Portugal",
          "Portugal",
          "Portugal",
          "Portugal"
         ],
         "ids": [
          1,
          2,
          3,
          4
         ],
         "lat": [
          -4.6232085,
          38.707750700000005,
          50.8436709,
          51.5073219
         ],
         "legendgroup": "Team=Portugal",
         "line": {
          "color": "#B6E880",
          "dash": "solid"
         },
         "lon": [
          55.452358999999994,
          -9.1365919,
          4.367436693,
          -0.1276474
         ],
         "mode": "lines",
         "name": "Team=Portugal",
         "showlegend": true,
         "type": "scattergeo"
        },
        {
         "customdata": [
          [
           "Victoria",
           1
          ],
          [
           "Conakry",
           2
          ],
          [
           "London",
           3
          ],
          [
           "Brussels",
           4
          ]
         ],
         "geo": "geo",
         "hoverlabel": {
          "namelength": 0
         },
         "hovertemplate": "<b>%{hovertext}</b><br><br>Team=Seychelles<br>Location=%{customdata[0]}<br>Weekend=%{customdata[1]}<br>Latitude=%{lat}<br>Longitude=%{lon}",
         "hovertext": [
          "Seychelles",
          "Seychelles",
          "Seychelles",
          "Seychelles"
         ],
         "ids": [
          1,
          2,
          3,
          4
         ],
         "lat": [
          -4.6232085,
          11.8602385,
          51.5073219,
          50.8436709
         ],
         "legendgroup": "Team=Seychelles",
         "line": {
          "color": "#FF97FF",
          "dash": "solid"
         },
         "lon": [
          55.452358999999994,
          -15.584547099999998,
          -0.1276474,
          4.367436693
         ],
         "mode": "lines",
         "name": "Team=Seychelles",
         "showlegend": true,
         "type": "scattergeo"
        }
       ],
       "layout": {
        "geo": {
         "center": {},
         "domain": {
          "x": [
           0,
           1
          ],
          "y": [
           0,
           1
          ]
         }
        },
        "legend": {
         "tracegroupgap": 0
        },
        "margin": {
         "t": 60
        },
        "template": {
         "data": {
          "bar": [
           {
            "error_x": {
             "color": "#2a3f5f"
            },
            "error_y": {
             "color": "#2a3f5f"
            },
            "marker": {
             "line": {
              "color": "#E5ECF6",
              "width": 0.5
             }
            },
            "type": "bar"
           }
          ],
          "barpolar": [
           {
            "marker": {
             "line": {
              "color": "#E5ECF6",
              "width": 0.5
             }
            },
            "type": "barpolar"
           }
          ],
          "carpet": [
           {
            "aaxis": {
             "endlinecolor": "#2a3f5f",
             "gridcolor": "white",
             "linecolor": "white",
             "minorgridcolor": "white",
             "startlinecolor": "#2a3f5f"
            },
            "baxis": {
             "endlinecolor": "#2a3f5f",
             "gridcolor": "white",
             "linecolor": "white",
             "minorgridcolor": "white",
             "startlinecolor": "#2a3f5f"
            },
            "type": "carpet"
           }
          ],
          "choropleth": [
           {
            "colorbar": {
             "outlinewidth": 0,
             "ticks": ""
            },
            "type": "choropleth"
           }
          ],
          "contour": [
           {
            "colorbar": {
             "outlinewidth": 0,
             "ticks": ""
            },
            "colorscale": [
             [
              0,
              "#0d0887"
             ],
             [
              0.1111111111111111,
              "#46039f"
             ],
             [
              0.2222222222222222,
              "#7201a8"
             ],
             [
              0.3333333333333333,
              "#9c179e"
             ],
             [
              0.4444444444444444,
              "#bd3786"
             ],
             [
              0.5555555555555556,
              "#d8576b"
             ],
             [
              0.6666666666666666,
              "#ed7953"
             ],
             [
              0.7777777777777778,
              "#fb9f3a"
             ],
             [
              0.8888888888888888,
              "#fdca26"
             ],
             [
              1,
              "#f0f921"
             ]
            ],
            "type": "contour"
           }
          ],
          "contourcarpet": [
           {
            "colorbar": {
             "outlinewidth": 0,
             "ticks": ""
            },
            "type": "contourcarpet"
           }
          ],
          "heatmap": [
           {
            "colorbar": {
             "outlinewidth": 0,
             "ticks": ""
            },
            "colorscale": [
             [
              0,
              "#0d0887"
             ],
             [
              0.1111111111111111,
              "#46039f"
             ],
             [
              0.2222222222222222,
              "#7201a8"
             ],
             [
              0.3333333333333333,
              "#9c179e"
             ],
             [
              0.4444444444444444,
              "#bd3786"
             ],
             [
              0.5555555555555556,
              "#d8576b"
             ],
             [
              0.6666666666666666,
              "#ed7953"
             ],
             [
              0.7777777777777778,
              "#fb9f3a"
             ],
             [
              0.8888888888888888,
              "#fdca26"
             ],
             [
              1,
              "#f0f921"
             ]
            ],
            "type": "heatmap"
           }
          ],
          "heatmapgl": [
           {
            "colorbar": {
             "outlinewidth": 0,
             "ticks": ""
            },
            "colorscale": [
             [
              0,
              "#0d0887"
             ],
             [
              0.1111111111111111,
              "#46039f"
             ],
             [
              0.2222222222222222,
              "#7201a8"
             ],
             [
              0.3333333333333333,
              "#9c179e"
             ],
             [
              0.4444444444444444,
              "#bd3786"
             ],
             [
              0.5555555555555556,
              "#d8576b"
             ],
             [
              0.6666666666666666,
              "#ed7953"
             ],
             [
              0.7777777777777778,
              "#fb9f3a"
             ],
             [
              0.8888888888888888,
              "#fdca26"
             ],
             [
              1,
              "#f0f921"
             ]
            ],
            "type": "heatmapgl"
           }
          ],
          "histogram": [
           {
            "marker": {
             "colorbar": {
              "outlinewidth": 0,
              "ticks": ""
             }
            },
            "type": "histogram"
           }
          ],
          "histogram2d": [
           {
            "colorbar": {
             "outlinewidth": 0,
             "ticks": ""
            },
            "colorscale": [
             [
              0,
              "#0d0887"
             ],
             [
              0.1111111111111111,
              "#46039f"
             ],
             [
              0.2222222222222222,
              "#7201a8"
             ],
             [
              0.3333333333333333,
              "#9c179e"
             ],
             [
              0.4444444444444444,
              "#bd3786"
             ],
             [
              0.5555555555555556,
              "#d8576b"
             ],
             [
              0.6666666666666666,
              "#ed7953"
             ],
             [
              0.7777777777777778,
              "#fb9f3a"
             ],
             [
              0.8888888888888888,
              "#fdca26"
             ],
             [
              1,
              "#f0f921"
             ]
            ],
            "type": "histogram2d"
           }
          ],
          "histogram2dcontour": [
           {
            "colorbar": {
             "outlinewidth": 0,
             "ticks": ""
            },
            "colorscale": [
             [
              0,
              "#0d0887"
             ],
             [
              0.1111111111111111,
              "#46039f"
             ],
             [
              0.2222222222222222,
              "#7201a8"
             ],
             [
              0.3333333333333333,
              "#9c179e"
             ],
             [
              0.4444444444444444,
              "#bd3786"
             ],
             [
              0.5555555555555556,
              "#d8576b"
             ],
             [
              0.6666666666666666,
              "#ed7953"
             ],
             [
              0.7777777777777778,
              "#fb9f3a"
             ],
             [
              0.8888888888888888,
              "#fdca26"
             ],
             [
              1,
              "#f0f921"
             ]
            ],
            "type": "histogram2dcontour"
           }
          ],
          "mesh3d": [
           {
            "colorbar": {
             "outlinewidth": 0,
             "ticks": ""
            },
            "type": "mesh3d"
           }
          ],
          "parcoords": [
           {
            "line": {
             "colorbar": {
              "outlinewidth": 0,
              "ticks": ""
             }
            },
            "type": "parcoords"
           }
          ],
          "pie": [
           {
            "automargin": true,
            "type": "pie"
           }
          ],
          "scatter": [
           {
            "marker": {
             "colorbar": {
              "outlinewidth": 0,
              "ticks": ""
             }
            },
            "type": "scatter"
           }
          ],
          "scatter3d": [
           {
            "line": {
             "colorbar": {
              "outlinewidth": 0,
              "ticks": ""
             }
            },
            "marker": {
             "colorbar": {
              "outlinewidth": 0,
              "ticks": ""
             }
            },
            "type": "scatter3d"
           }
          ],
          "scattercarpet": [
           {
            "marker": {
             "colorbar": {
              "outlinewidth": 0,
              "ticks": ""
             }
            },
            "type": "scattercarpet"
           }
          ],
          "scattergeo": [
           {
            "marker": {
             "colorbar": {
              "outlinewidth": 0,
              "ticks": ""
             }
            },
            "type": "scattergeo"
           }
          ],
          "scattergl": [
           {
            "marker": {
             "colorbar": {
              "outlinewidth": 0,
              "ticks": ""
             }
            },
            "type": "scattergl"
           }
          ],
          "scattermapbox": [
           {
            "marker": {
             "colorbar": {
              "outlinewidth": 0,
              "ticks": ""
             }
            },
            "type": "scattermapbox"
           }
          ],
          "scatterpolar": [
           {
            "marker": {
             "colorbar": {
              "outlinewidth": 0,
              "ticks": ""
             }
            },
            "type": "scatterpolar"
           }
          ],
          "scatterpolargl": [
           {
            "marker": {
             "colorbar": {
              "outlinewidth": 0,
              "ticks": ""
             }
            },
            "type": "scatterpolargl"
           }
          ],
          "scatterternary": [
           {
            "marker": {
             "colorbar": {
              "outlinewidth": 0,
              "ticks": ""
             }
            },
            "type": "scatterternary"
           }
          ],
          "surface": [
           {
            "colorbar": {
             "outlinewidth": 0,
             "ticks": ""
            },
            "colorscale": [
             [
              0,
              "#0d0887"
             ],
             [
              0.1111111111111111,
              "#46039f"
             ],
             [
              0.2222222222222222,
              "#7201a8"
             ],
             [
              0.3333333333333333,
              "#9c179e"
             ],
             [
              0.4444444444444444,
              "#bd3786"
             ],
             [
              0.5555555555555556,
              "#d8576b"
             ],
             [
              0.6666666666666666,
              "#ed7953"
             ],
             [
              0.7777777777777778,
              "#fb9f3a"
             ],
             [
              0.8888888888888888,
              "#fdca26"
             ],
             [
              1,
              "#f0f921"
             ]
            ],
            "type": "surface"
           }
          ],
          "table": [
           {
            "cells": {
             "fill": {
              "color": "#EBF0F8"
             },
             "line": {
              "color": "white"
             }
            },
            "header": {
             "fill": {
              "color": "#C8D4E3"
             },
             "line": {
              "color": "white"
             }
            },
            "type": "table"
           }
          ]
         },
         "layout": {
          "annotationdefaults": {
           "arrowcolor": "#2a3f5f",
           "arrowhead": 0,
           "arrowwidth": 1
          },
          "coloraxis": {
           "colorbar": {
            "outlinewidth": 0,
            "ticks": ""
           }
          },
          "colorscale": {
           "diverging": [
            [
             0,
             "#8e0152"
            ],
            [
             0.1,
             "#c51b7d"
            ],
            [
             0.2,
             "#de77ae"
            ],
            [
             0.3,
             "#f1b6da"
            ],
            [
             0.4,
             "#fde0ef"
            ],
            [
             0.5,
             "#f7f7f7"
            ],
            [
             0.6,
             "#e6f5d0"
            ],
            [
             0.7,
             "#b8e186"
            ],
            [
             0.8,
             "#7fbc41"
            ],
            [
             0.9,
             "#4d9221"
            ],
            [
             1,
             "#276419"
            ]
           ],
           "sequential": [
            [
             0,
             "#0d0887"
            ],
            [
             0.1111111111111111,
             "#46039f"
            ],
            [
             0.2222222222222222,
             "#7201a8"
            ],
            [
             0.3333333333333333,
             "#9c179e"
            ],
            [
             0.4444444444444444,
             "#bd3786"
            ],
            [
             0.5555555555555556,
             "#d8576b"
            ],
            [
             0.6666666666666666,
             "#ed7953"
            ],
            [
             0.7777777777777778,
             "#fb9f3a"
            ],
            [
             0.8888888888888888,
             "#fdca26"
            ],
            [
             1,
             "#f0f921"
            ]
           ],
           "sequentialminus": [
            [
             0,
             "#0d0887"
            ],
            [
             0.1111111111111111,
             "#46039f"
            ],
            [
             0.2222222222222222,
             "#7201a8"
            ],
            [
             0.3333333333333333,
             "#9c179e"
            ],
            [
             0.4444444444444444,
             "#bd3786"
            ],
            [
             0.5555555555555556,
             "#d8576b"
            ],
            [
             0.6666666666666666,
             "#ed7953"
            ],
            [
             0.7777777777777778,
             "#fb9f3a"
            ],
            [
             0.8888888888888888,
             "#fdca26"
            ],
            [
             1,
             "#f0f921"
            ]
           ]
          },
          "colorway": [
           "#636efa",
           "#EF553B",
           "#00cc96",
           "#ab63fa",
           "#FFA15A",
           "#19d3f3",
           "#FF6692",
           "#B6E880",
           "#FF97FF",
           "#FECB52"
          ],
          "font": {
           "color": "#2a3f5f"
          },
          "geo": {
           "bgcolor": "white",
           "lakecolor": "white",
           "landcolor": "#E5ECF6",
           "showlakes": true,
           "showland": true,
           "subunitcolor": "white"
          },
          "hoverlabel": {
           "align": "left"
          },
          "hovermode": "closest",
          "mapbox": {
           "style": "light"
          },
          "paper_bgcolor": "white",
          "plot_bgcolor": "#E5ECF6",
          "polar": {
           "angularaxis": {
            "gridcolor": "white",
            "linecolor": "white",
            "ticks": ""
           },
           "bgcolor": "#E5ECF6",
           "radialaxis": {
            "gridcolor": "white",
            "linecolor": "white",
            "ticks": ""
           }
          },
          "scene": {
           "xaxis": {
            "backgroundcolor": "#E5ECF6",
            "gridcolor": "white",
            "gridwidth": 2,
            "linecolor": "white",
            "showbackground": true,
            "ticks": "",
            "zerolinecolor": "white"
           },
           "yaxis": {
            "backgroundcolor": "#E5ECF6",
            "gridcolor": "white",
            "gridwidth": 2,
            "linecolor": "white",
            "showbackground": true,
            "ticks": "",
            "zerolinecolor": "white"
           },
           "zaxis": {
            "backgroundcolor": "#E5ECF6",
            "gridcolor": "white",
            "gridwidth": 2,
            "linecolor": "white",
            "showbackground": true,
            "ticks": "",
            "zerolinecolor": "white"
           }
          },
          "shapedefaults": {
           "line": {
            "color": "#2a3f5f"
           }
          },
          "ternary": {
           "aaxis": {
            "gridcolor": "white",
            "linecolor": "white",
            "ticks": ""
           },
           "baxis": {
            "gridcolor": "white",
            "linecolor": "white",
            "ticks": ""
           },
           "bgcolor": "#E5ECF6",
           "caxis": {
            "gridcolor": "white",
            "linecolor": "white",
            "ticks": ""
           }
          },
          "title": {
           "x": 0.05
          },
          "xaxis": {
           "automargin": true,
           "gridcolor": "white",
           "linecolor": "white",
           "ticks": "",
           "title": {
            "standoff": 15
           },
           "zerolinecolor": "white",
           "zerolinewidth": 2
          },
          "yaxis": {
           "automargin": true,
           "gridcolor": "white",
           "linecolor": "white",
           "ticks": "",
           "title": {
            "standoff": 15
           },
           "zerolinecolor": "white",
           "zerolinewidth": 2
          }
         }
        }
       }
      },
      "text/html": [
       "<div>\n",
       "        \n",
       "        \n",
       "            <div id=\"3ecb2258-e605-4ca1-9412-62efa042ec7e\" class=\"plotly-graph-div\" style=\"height:525px; width:100%;\"></div>\n",
       "            <script type=\"text/javascript\">\n",
       "                require([\"plotly\"], function(Plotly) {\n",
       "                    window.PLOTLYENV=window.PLOTLYENV || {};\n",
       "                    \n",
       "                if (document.getElementById(\"3ecb2258-e605-4ca1-9412-62efa042ec7e\")) {\n",
       "                    Plotly.newPlot(\n",
       "                        '3ecb2258-e605-4ca1-9412-62efa042ec7e',\n",
       "                        [{\"customdata\": [[\"Brussels\", 1], [\"Mbabane\", 2], [\"Brussels\", 3], [\"Brussels\", 4]], \"geo\": \"geo\", \"hoverlabel\": {\"namelength\": 0}, \"hovertemplate\": \"<b>%{hovertext}</b><br><br>Team=Belgium<br>Location=%{customdata[0]}<br>Weekend=%{customdata[1]}<br>Latitude=%{lat}<br>Longitude=%{lon}\", \"hovertext\": [\"Belgium\", \"Belgium\", \"Belgium\", \"Belgium\"], \"ids\": [1, 2, 3, 4], \"lat\": [50.8436709, -26.325745, 50.8436709, 50.8436709], \"legendgroup\": \"Team=Belgium\", \"line\": {\"color\": \"#636efa\", \"dash\": \"solid\"}, \"lon\": [4.367436693, 31.144663, 4.367436693, 4.367436693], \"mode\": \"lines\", \"name\": \"Team=Belgium\", \"showlegend\": true, \"type\": \"scattergeo\"}, {\"customdata\": [[\"Brussels\", 1], [\"Conakry\", 2], [\"Reykjavik\", 3], [\"London\", 4]], \"geo\": \"geo\", \"hoverlabel\": {\"namelength\": 0}, \"hovertemplate\": \"<b>%{hovertext}</b><br><br>Team=Guinea<br>Location=%{customdata[0]}<br>Weekend=%{customdata[1]}<br>Latitude=%{lat}<br>Longitude=%{lon}\", \"hovertext\": [\"Guinea\", \"Guinea\", \"Guinea\", \"Guinea\"], \"ids\": [1, 2, 3, 4], \"lat\": [50.8436709, 11.8602385, 64.24450355, 51.5073219], \"legendgroup\": \"Team=Guinea\", \"line\": {\"color\": \"#EF553B\", \"dash\": \"solid\"}, \"lon\": [4.367436693, -15.584547099999998, -21.76926357, -0.1276474], \"mode\": \"lines\", \"name\": \"Team=Guinea\", \"showlegend\": true, \"type\": \"scattergeo\"}, {\"customdata\": [[\"Brussels\", 1], [\"Lisbon\", 2], [\"London\", 3], [\"Ulaanbaatar\", 4]], \"geo\": \"geo\", \"hoverlabel\": {\"namelength\": 0}, \"hovertemplate\": \"<b>%{hovertext}</b><br><br>Team=Mongolia<br>Location=%{customdata[0]}<br>Weekend=%{customdata[1]}<br>Latitude=%{lat}<br>Longitude=%{lon}\", \"hovertext\": [\"Mongolia\", \"Mongolia\", \"Mongolia\", \"Mongolia\"], \"ids\": [1, 2, 3, 4], \"lat\": [50.8436709, 38.707750700000005, 51.5073219, 47.91846760000001], \"legendgroup\": \"Team=Mongolia\", \"line\": {\"color\": \"#00cc96\", \"dash\": \"solid\"}, \"lon\": [4.367436693, -9.1365919, -0.1276474, 106.91770159999999], \"mode\": \"lines\", \"name\": \"Team=Mongolia\", \"showlegend\": true, \"type\": \"scattergeo\"}, {\"customdata\": [[\"Porto-Novo\", 1], [\"Conakry\", 2], [\"Brussels\", 3], [\"Ulaanbaatar\", 4]], \"geo\": \"geo\", \"hoverlabel\": {\"namelength\": 0}, \"hovertemplate\": \"<b>%{hovertext}</b><br><br>Team=Benin<br>Location=%{customdata[0]}<br>Weekend=%{customdata[1]}<br>Latitude=%{lat}<br>Longitude=%{lon}\", \"hovertext\": [\"Benin\", \"Benin\", \"Benin\", \"Benin\"], \"ids\": [1, 2, 3, 4], \"lat\": [6.4990718, 11.8602385, 50.8436709, 47.91846760000001], \"legendgroup\": \"Team=Benin\", \"line\": {\"color\": \"#ab63fa\", \"dash\": \"solid\"}, \"lon\": [2.6253361, -15.584547099999998, 4.367436693, 106.91770159999999], \"mode\": \"lines\", \"name\": \"Team=Benin\", \"showlegend\": true, \"type\": \"scattergeo\"}, {\"customdata\": [[\"Porto-Novo\", 1], [\"Lisbon\", 2], [\"Reykjavik\", 3], [\"Brussels\", 4]], \"geo\": \"geo\", \"hoverlabel\": {\"namelength\": 0}, \"hovertemplate\": \"<b>%{hovertext}</b><br><br>Team=Iceland<br>Location=%{customdata[0]}<br>Weekend=%{customdata[1]}<br>Latitude=%{lat}<br>Longitude=%{lon}\", \"hovertext\": [\"Iceland\", \"Iceland\", \"Iceland\", \"Iceland\"], \"ids\": [1, 2, 3, 4], \"lat\": [6.4990718, 38.707750700000005, 64.24450355, 50.8436709], \"legendgroup\": \"Team=Iceland\", \"line\": {\"color\": \"#FFA15A\", \"dash\": \"solid\"}, \"lon\": [2.6253361, -9.1365919, -21.76926357, 4.367436693], \"mode\": \"lines\", \"name\": \"Team=Iceland\", \"showlegend\": true, \"type\": \"scattergeo\"}, {\"customdata\": [[\"Porto-Novo\", 1], [\"Mbabane\", 2], [\"London\", 3], [\"London\", 4]], \"geo\": \"geo\", \"hoverlabel\": {\"namelength\": 0}, \"hovertemplate\": \"<b>%{hovertext}</b><br><br>Team=United Kingdom<br>Location=%{customdata[0]}<br>Weekend=%{customdata[1]}<br>Latitude=%{lat}<br>Longitude=%{lon}\", \"hovertext\": [\"United Kingdom\", \"United Kingdom\", \"United Kingdom\", \"United Kingdom\"], \"ids\": [1, 2, 3, 4], \"lat\": [6.4990718, -26.325745, 51.5073219, 51.5073219], \"legendgroup\": \"Team=United Kingdom\", \"line\": {\"color\": \"#19d3f3\", \"dash\": \"solid\"}, \"lon\": [2.6253361, 31.144663, -0.1276474, -0.1276474], \"mode\": \"lines\", \"name\": \"Team=United Kingdom\", \"showlegend\": true, \"type\": \"scattergeo\"}, {\"customdata\": [[\"Victoria\", 1], [\"Mbabane\", 2], [\"Reykjavik\", 3], [\"Ulaanbaatar\", 4]], \"geo\": \"geo\", \"hoverlabel\": {\"namelength\": 0}, \"hovertemplate\": \"<b>%{hovertext}</b><br><br>Team=Eswatini<br>Location=%{customdata[0]}<br>Weekend=%{customdata[1]}<br>Latitude=%{lat}<br>Longitude=%{lon}\", \"hovertext\": [\"Eswatini\", \"Eswatini\", \"Eswatini\", \"Eswatini\"], \"ids\": [1, 2, 3, 4], \"lat\": [-4.6232085, -26.325745, 64.24450355, 47.91846760000001], \"legendgroup\": \"Team=Eswatini\", \"line\": {\"color\": \"#FF6692\", \"dash\": \"solid\"}, \"lon\": [55.452358999999994, 31.144663, -21.76926357, 106.91770159999999], \"mode\": \"lines\", \"name\": \"Team=Eswatini\", \"showlegend\": true, \"type\": \"scattergeo\"}, {\"customdata\": [[\"Victoria\", 1], [\"Lisbon\", 2], [\"Brussels\", 3], [\"London\", 4]], \"geo\": \"geo\", \"hoverlabel\": {\"namelength\": 0}, \"hovertemplate\": \"<b>%{hovertext}</b><br><br>Team=Portugal<br>Location=%{customdata[0]}<br>Weekend=%{customdata[1]}<br>Latitude=%{lat}<br>Longitude=%{lon}\", \"hovertext\": [\"Portugal\", \"Portugal\", \"Portugal\", \"Portugal\"], \"ids\": [1, 2, 3, 4], \"lat\": [-4.6232085, 38.707750700000005, 50.8436709, 51.5073219], \"legendgroup\": \"Team=Portugal\", \"line\": {\"color\": \"#B6E880\", \"dash\": \"solid\"}, \"lon\": [55.452358999999994, -9.1365919, 4.367436693, -0.1276474], \"mode\": \"lines\", \"name\": \"Team=Portugal\", \"showlegend\": true, \"type\": \"scattergeo\"}, {\"customdata\": [[\"Victoria\", 1], [\"Conakry\", 2], [\"London\", 3], [\"Brussels\", 4]], \"geo\": \"geo\", \"hoverlabel\": {\"namelength\": 0}, \"hovertemplate\": \"<b>%{hovertext}</b><br><br>Team=Seychelles<br>Location=%{customdata[0]}<br>Weekend=%{customdata[1]}<br>Latitude=%{lat}<br>Longitude=%{lon}\", \"hovertext\": [\"Seychelles\", \"Seychelles\", \"Seychelles\", \"Seychelles\"], \"ids\": [1, 2, 3, 4], \"lat\": [-4.6232085, 11.8602385, 51.5073219, 50.8436709], \"legendgroup\": \"Team=Seychelles\", \"line\": {\"color\": \"#FF97FF\", \"dash\": \"solid\"}, \"lon\": [55.452358999999994, -15.584547099999998, -0.1276474, 4.367436693], \"mode\": \"lines\", \"name\": \"Team=Seychelles\", \"showlegend\": true, \"type\": \"scattergeo\"}],\n",
       "                        {\"geo\": {\"center\": {}, \"domain\": {\"x\": [0.0, 1.0], \"y\": [0.0, 1.0]}}, \"legend\": {\"tracegroupgap\": 0}, \"margin\": {\"t\": 60}, \"template\": {\"data\": {\"bar\": [{\"error_x\": {\"color\": \"#2a3f5f\"}, \"error_y\": {\"color\": \"#2a3f5f\"}, \"marker\": {\"line\": {\"color\": \"#E5ECF6\", \"width\": 0.5}}, \"type\": \"bar\"}], \"barpolar\": [{\"marker\": {\"line\": {\"color\": \"#E5ECF6\", \"width\": 0.5}}, \"type\": \"barpolar\"}], \"carpet\": [{\"aaxis\": {\"endlinecolor\": \"#2a3f5f\", \"gridcolor\": \"white\", \"linecolor\": \"white\", \"minorgridcolor\": \"white\", \"startlinecolor\": \"#2a3f5f\"}, \"baxis\": {\"endlinecolor\": \"#2a3f5f\", \"gridcolor\": \"white\", \"linecolor\": \"white\", \"minorgridcolor\": \"white\", \"startlinecolor\": \"#2a3f5f\"}, \"type\": \"carpet\"}], \"choropleth\": [{\"colorbar\": {\"outlinewidth\": 0, \"ticks\": \"\"}, \"type\": \"choropleth\"}], \"contour\": [{\"colorbar\": {\"outlinewidth\": 0, \"ticks\": \"\"}, \"colorscale\": [[0.0, \"#0d0887\"], [0.1111111111111111, \"#46039f\"], [0.2222222222222222, \"#7201a8\"], [0.3333333333333333, \"#9c179e\"], [0.4444444444444444, \"#bd3786\"], [0.5555555555555556, \"#d8576b\"], [0.6666666666666666, \"#ed7953\"], [0.7777777777777778, \"#fb9f3a\"], [0.8888888888888888, \"#fdca26\"], [1.0, \"#f0f921\"]], \"type\": \"contour\"}], \"contourcarpet\": [{\"colorbar\": {\"outlinewidth\": 0, \"ticks\": \"\"}, \"type\": \"contourcarpet\"}], \"heatmap\": [{\"colorbar\": {\"outlinewidth\": 0, \"ticks\": \"\"}, \"colorscale\": [[0.0, \"#0d0887\"], [0.1111111111111111, \"#46039f\"], [0.2222222222222222, \"#7201a8\"], [0.3333333333333333, \"#9c179e\"], [0.4444444444444444, \"#bd3786\"], [0.5555555555555556, \"#d8576b\"], [0.6666666666666666, \"#ed7953\"], [0.7777777777777778, \"#fb9f3a\"], [0.8888888888888888, \"#fdca26\"], [1.0, \"#f0f921\"]], \"type\": \"heatmap\"}], \"heatmapgl\": [{\"colorbar\": {\"outlinewidth\": 0, \"ticks\": \"\"}, \"colorscale\": [[0.0, \"#0d0887\"], [0.1111111111111111, \"#46039f\"], [0.2222222222222222, \"#7201a8\"], [0.3333333333333333, \"#9c179e\"], [0.4444444444444444, \"#bd3786\"], [0.5555555555555556, \"#d8576b\"], [0.6666666666666666, \"#ed7953\"], [0.7777777777777778, \"#fb9f3a\"], [0.8888888888888888, \"#fdca26\"], [1.0, \"#f0f921\"]], \"type\": \"heatmapgl\"}], \"histogram\": [{\"marker\": {\"colorbar\": {\"outlinewidth\": 0, \"ticks\": \"\"}}, \"type\": \"histogram\"}], \"histogram2d\": [{\"colorbar\": {\"outlinewidth\": 0, \"ticks\": \"\"}, \"colorscale\": [[0.0, \"#0d0887\"], [0.1111111111111111, \"#46039f\"], [0.2222222222222222, \"#7201a8\"], [0.3333333333333333, \"#9c179e\"], [0.4444444444444444, \"#bd3786\"], [0.5555555555555556, \"#d8576b\"], [0.6666666666666666, \"#ed7953\"], [0.7777777777777778, \"#fb9f3a\"], [0.8888888888888888, \"#fdca26\"], [1.0, \"#f0f921\"]], \"type\": \"histogram2d\"}], \"histogram2dcontour\": [{\"colorbar\": {\"outlinewidth\": 0, \"ticks\": \"\"}, \"colorscale\": [[0.0, \"#0d0887\"], [0.1111111111111111, \"#46039f\"], [0.2222222222222222, \"#7201a8\"], [0.3333333333333333, \"#9c179e\"], [0.4444444444444444, \"#bd3786\"], [0.5555555555555556, \"#d8576b\"], [0.6666666666666666, \"#ed7953\"], [0.7777777777777778, \"#fb9f3a\"], [0.8888888888888888, \"#fdca26\"], [1.0, \"#f0f921\"]], \"type\": \"histogram2dcontour\"}], \"mesh3d\": [{\"colorbar\": {\"outlinewidth\": 0, \"ticks\": \"\"}, \"type\": \"mesh3d\"}], \"parcoords\": [{\"line\": {\"colorbar\": {\"outlinewidth\": 0, \"ticks\": \"\"}}, \"type\": \"parcoords\"}], \"pie\": [{\"automargin\": true, \"type\": \"pie\"}], \"scatter\": [{\"marker\": {\"colorbar\": {\"outlinewidth\": 0, \"ticks\": \"\"}}, \"type\": \"scatter\"}], \"scatter3d\": [{\"line\": {\"colorbar\": {\"outlinewidth\": 0, \"ticks\": \"\"}}, \"marker\": {\"colorbar\": {\"outlinewidth\": 0, \"ticks\": \"\"}}, \"type\": \"scatter3d\"}], \"scattercarpet\": [{\"marker\": {\"colorbar\": {\"outlinewidth\": 0, \"ticks\": \"\"}}, \"type\": \"scattercarpet\"}], \"scattergeo\": [{\"marker\": {\"colorbar\": {\"outlinewidth\": 0, \"ticks\": \"\"}}, \"type\": \"scattergeo\"}], \"scattergl\": [{\"marker\": {\"colorbar\": {\"outlinewidth\": 0, \"ticks\": \"\"}}, \"type\": \"scattergl\"}], \"scattermapbox\": [{\"marker\": {\"colorbar\": {\"outlinewidth\": 0, \"ticks\": \"\"}}, \"type\": \"scattermapbox\"}], \"scatterpolar\": [{\"marker\": {\"colorbar\": {\"outlinewidth\": 0, \"ticks\": \"\"}}, \"type\": \"scatterpolar\"}], \"scatterpolargl\": [{\"marker\": {\"colorbar\": {\"outlinewidth\": 0, \"ticks\": \"\"}}, \"type\": \"scatterpolargl\"}], \"scatterternary\": [{\"marker\": {\"colorbar\": {\"outlinewidth\": 0, \"ticks\": \"\"}}, \"type\": \"scatterternary\"}], \"surface\": [{\"colorbar\": {\"outlinewidth\": 0, \"ticks\": \"\"}, \"colorscale\": [[0.0, \"#0d0887\"], [0.1111111111111111, \"#46039f\"], [0.2222222222222222, \"#7201a8\"], [0.3333333333333333, \"#9c179e\"], [0.4444444444444444, \"#bd3786\"], [0.5555555555555556, \"#d8576b\"], [0.6666666666666666, \"#ed7953\"], [0.7777777777777778, \"#fb9f3a\"], [0.8888888888888888, \"#fdca26\"], [1.0, \"#f0f921\"]], \"type\": \"surface\"}], \"table\": [{\"cells\": {\"fill\": {\"color\": \"#EBF0F8\"}, \"line\": {\"color\": \"white\"}}, \"header\": {\"fill\": {\"color\": \"#C8D4E3\"}, \"line\": {\"color\": \"white\"}}, \"type\": \"table\"}]}, \"layout\": {\"annotationdefaults\": {\"arrowcolor\": \"#2a3f5f\", \"arrowhead\": 0, \"arrowwidth\": 1}, \"coloraxis\": {\"colorbar\": {\"outlinewidth\": 0, \"ticks\": \"\"}}, \"colorscale\": {\"diverging\": [[0, \"#8e0152\"], [0.1, \"#c51b7d\"], [0.2, \"#de77ae\"], [0.3, \"#f1b6da\"], [0.4, \"#fde0ef\"], [0.5, \"#f7f7f7\"], [0.6, \"#e6f5d0\"], [0.7, \"#b8e186\"], [0.8, \"#7fbc41\"], [0.9, \"#4d9221\"], [1, \"#276419\"]], \"sequential\": [[0.0, \"#0d0887\"], [0.1111111111111111, \"#46039f\"], [0.2222222222222222, \"#7201a8\"], [0.3333333333333333, \"#9c179e\"], [0.4444444444444444, \"#bd3786\"], [0.5555555555555556, \"#d8576b\"], [0.6666666666666666, \"#ed7953\"], [0.7777777777777778, \"#fb9f3a\"], [0.8888888888888888, \"#fdca26\"], [1.0, \"#f0f921\"]], \"sequentialminus\": [[0.0, \"#0d0887\"], [0.1111111111111111, \"#46039f\"], [0.2222222222222222, \"#7201a8\"], [0.3333333333333333, \"#9c179e\"], [0.4444444444444444, \"#bd3786\"], [0.5555555555555556, \"#d8576b\"], [0.6666666666666666, \"#ed7953\"], [0.7777777777777778, \"#fb9f3a\"], [0.8888888888888888, \"#fdca26\"], [1.0, \"#f0f921\"]]}, \"colorway\": [\"#636efa\", \"#EF553B\", \"#00cc96\", \"#ab63fa\", \"#FFA15A\", \"#19d3f3\", \"#FF6692\", \"#B6E880\", \"#FF97FF\", \"#FECB52\"], \"font\": {\"color\": \"#2a3f5f\"}, \"geo\": {\"bgcolor\": \"white\", \"lakecolor\": \"white\", \"landcolor\": \"#E5ECF6\", \"showlakes\": true, \"showland\": true, \"subunitcolor\": \"white\"}, \"hoverlabel\": {\"align\": \"left\"}, \"hovermode\": \"closest\", \"mapbox\": {\"style\": \"light\"}, \"paper_bgcolor\": \"white\", \"plot_bgcolor\": \"#E5ECF6\", \"polar\": {\"angularaxis\": {\"gridcolor\": \"white\", \"linecolor\": \"white\", \"ticks\": \"\"}, \"bgcolor\": \"#E5ECF6\", \"radialaxis\": {\"gridcolor\": \"white\", \"linecolor\": \"white\", \"ticks\": \"\"}}, \"scene\": {\"xaxis\": {\"backgroundcolor\": \"#E5ECF6\", \"gridcolor\": \"white\", \"gridwidth\": 2, \"linecolor\": \"white\", \"showbackground\": true, \"ticks\": \"\", \"zerolinecolor\": \"white\"}, \"yaxis\": {\"backgroundcolor\": \"#E5ECF6\", \"gridcolor\": \"white\", \"gridwidth\": 2, \"linecolor\": \"white\", \"showbackground\": true, \"ticks\": \"\", \"zerolinecolor\": \"white\"}, \"zaxis\": {\"backgroundcolor\": \"#E5ECF6\", \"gridcolor\": \"white\", \"gridwidth\": 2, \"linecolor\": \"white\", \"showbackground\": true, \"ticks\": \"\", \"zerolinecolor\": \"white\"}}, \"shapedefaults\": {\"line\": {\"color\": \"#2a3f5f\"}}, \"ternary\": {\"aaxis\": {\"gridcolor\": \"white\", \"linecolor\": \"white\", \"ticks\": \"\"}, \"baxis\": {\"gridcolor\": \"white\", \"linecolor\": \"white\", \"ticks\": \"\"}, \"bgcolor\": \"#E5ECF6\", \"caxis\": {\"gridcolor\": \"white\", \"linecolor\": \"white\", \"ticks\": \"\"}}, \"title\": {\"x\": 0.05}, \"xaxis\": {\"automargin\": true, \"gridcolor\": \"white\", \"linecolor\": \"white\", \"ticks\": \"\", \"title\": {\"standoff\": 15}, \"zerolinecolor\": \"white\", \"zerolinewidth\": 2}, \"yaxis\": {\"automargin\": true, \"gridcolor\": \"white\", \"linecolor\": \"white\", \"ticks\": \"\", \"title\": {\"standoff\": 15}, \"zerolinecolor\": \"white\", \"zerolinewidth\": 2}}}},\n",
       "                        {\"responsive\": true}\n",
       "                    ).then(function(){\n",
       "                            \n",
       "var gd = document.getElementById('3ecb2258-e605-4ca1-9412-62efa042ec7e');\n",
       "var x = new MutationObserver(function (mutations, observer) {{\n",
       "        var display = window.getComputedStyle(gd).display;\n",
       "        if (!display || display === 'none') {{\n",
       "            console.log([gd, 'removed!']);\n",
       "            Plotly.purge(gd);\n",
       "            observer.disconnect();\n",
       "        }}\n",
       "}});\n",
       "\n",
       "// Listen for the removal of the full notebook cells\n",
       "var notebookContainer = gd.closest('#notebook-container');\n",
       "if (notebookContainer) {{\n",
       "    x.observe(notebookContainer, {childList: true});\n",
       "}}\n",
       "\n",
       "// Listen for the clearing of the current output cell\n",
       "var outputEl = gd.closest('.output');\n",
       "if (outputEl) {{\n",
       "    x.observe(outputEl, {childList: true});\n",
       "}}\n",
       "\n",
       "                        })\n",
       "                };\n",
       "                });\n",
       "            </script>\n",
       "        </div>"
      ]
     },
     "metadata": {},
     "output_type": "display_data"
    }
   ],
   "source": [
    "px.line_geo(df_aug_25.sort_values('Weekend'),lat='Latitude',lon='Longitude',\n",
    "            color='Team',line_group='Team',\n",
    "            hover_name='Team',animation_group='Weekend',hover_data=['Location','Weekend'],)\n"
   ]
  },
  {
   "cell_type": "code",
   "execution_count": 79,
   "metadata": {},
   "outputs": [
    {
     "name": "stdout",
     "output_type": "stream",
     "text": [
      "Reconcilation...\n",
      "[OK]   90862.21 vs 90862.21\n"
     ]
    }
   ],
   "source": [
    "_result_01 = results()\n",
    "_result_01.parse_solution(models[0.1])\n",
    "\n",
    "df_pos_01 = _result_01.df_pos.reset_index().melt(id_vars='Team',value_name='Location')\n",
    "df_aug_01 = df_pos_01.merge(df_geodata,on=['Location'])"
   ]
  },
  {
   "cell_type": "code",
   "execution_count": 80,
   "metadata": {},
   "outputs": [
    {
     "name": "stdout",
     "output_type": "stream",
     "text": [
      "P\n",
      "0.1    104462.214923\n",
      "Name: Total Travel, dtype: float64\n"
     ]
    }
   ],
   "source": [
    "print(_result_01.df_gkpi['Total Travel'])"
   ]
  },
  {
   "cell_type": "code",
   "execution_count": 81,
   "metadata": {},
   "outputs": [
    {
     "data": {
      "application/vnd.plotly.v1+json": {
       "config": {
        "plotlyServerURL": "https://plot.ly"
       },
       "data": [
        {
         "customdata": [
          [
           "Victoria",
           1
          ],
          [
           "Brussels",
           2
          ],
          [
           "Brussels",
           3
          ],
          [
           "Brussels",
           4
          ]
         ],
         "geo": "geo",
         "hoverlabel": {
          "namelength": 0
         },
         "hovertemplate": "<b>%{hovertext}</b><br><br>Team=Belgium<br>Location=%{customdata[0]}<br>Weekend=%{customdata[1]}<br>Latitude=%{lat}<br>Longitude=%{lon}",
         "hovertext": [
          "Belgium",
          "Belgium",
          "Belgium",
          "Belgium"
         ],
         "ids": [
          1,
          2,
          3,
          4
         ],
         "lat": [
          -4.6232085,
          50.8436709,
          50.8436709,
          50.8436709
         ],
         "legendgroup": "Team=Belgium",
         "line": {
          "color": "#636efa",
          "dash": "solid"
         },
         "lon": [
          55.452358999999994,
          4.367436693,
          4.367436693,
          4.367436693
         ],
         "mode": "lines",
         "name": "Team=Belgium",
         "showlegend": true,
         "type": "scattergeo"
        },
        {
         "customdata": [
          [
           "Victoria",
           1
          ],
          [
           "Lisbon",
           2
          ],
          [
           "Reykjavik",
           3
          ],
          [
           "Ulaanbaatar",
           4
          ]
         ],
         "geo": "geo",
         "hoverlabel": {
          "namelength": 0
         },
         "hovertemplate": "<b>%{hovertext}</b><br><br>Team=Seychelles<br>Location=%{customdata[0]}<br>Weekend=%{customdata[1]}<br>Latitude=%{lat}<br>Longitude=%{lon}",
         "hovertext": [
          "Seychelles",
          "Seychelles",
          "Seychelles",
          "Seychelles"
         ],
         "ids": [
          1,
          2,
          3,
          4
         ],
         "lat": [
          -4.6232085,
          38.707750700000005,
          64.24450355,
          47.91846760000001
         ],
         "legendgroup": "Team=Seychelles",
         "line": {
          "color": "#EF553B",
          "dash": "solid"
         },
         "lon": [
          55.452358999999994,
          -9.1365919,
          -21.76926357,
          106.91770159999999
         ],
         "mode": "lines",
         "name": "Team=Seychelles",
         "showlegend": true,
         "type": "scattergeo"
        },
        {
         "customdata": [
          [
           "Victoria",
           1
          ],
          [
           "Porto-Novo",
           2
          ],
          [
           "London",
           3
          ],
          [
           "London",
           4
          ]
         ],
         "geo": "geo",
         "hoverlabel": {
          "namelength": 0
         },
         "hovertemplate": "<b>%{hovertext}</b><br><br>Team=United Kingdom<br>Location=%{customdata[0]}<br>Weekend=%{customdata[1]}<br>Latitude=%{lat}<br>Longitude=%{lon}",
         "hovertext": [
          "United Kingdom",
          "United Kingdom",
          "United Kingdom",
          "United Kingdom"
         ],
         "ids": [
          1,
          2,
          3,
          4
         ],
         "lat": [
          -4.6232085,
          6.4990718,
          51.5073219,
          51.5073219
         ],
         "legendgroup": "Team=United Kingdom",
         "line": {
          "color": "#00cc96",
          "dash": "solid"
         },
         "lon": [
          55.452358999999994,
          2.6253361,
          -0.1276474,
          -0.1276474
         ],
         "mode": "lines",
         "name": "Team=United Kingdom",
         "showlegend": true,
         "type": "scattergeo"
        },
        {
         "customdata": [
          [
           "Conakry",
           1
          ],
          [
           "Porto-Novo",
           2
          ],
          [
           "Brussels",
           3
          ],
          [
           "Ulaanbaatar",
           4
          ]
         ],
         "geo": "geo",
         "hoverlabel": {
          "namelength": 0
         },
         "hovertemplate": "<b>%{hovertext}</b><br><br>Team=Benin<br>Location=%{customdata[0]}<br>Weekend=%{customdata[1]}<br>Latitude=%{lat}<br>Longitude=%{lon}",
         "hovertext": [
          "Benin",
          "Benin",
          "Benin",
          "Benin"
         ],
         "ids": [
          1,
          2,
          3,
          4
         ],
         "lat": [
          11.8602385,
          6.4990718,
          50.8436709,
          47.91846760000001
         ],
         "legendgroup": "Team=Benin",
         "line": {
          "color": "#ab63fa",
          "dash": "solid"
         },
         "lon": [
          -15.584547099999998,
          2.6253361,
          4.367436693,
          106.91770159999999
         ],
         "mode": "lines",
         "name": "Team=Benin",
         "showlegend": true,
         "type": "scattergeo"
        },
        {
         "customdata": [
          [
           "Conakry",
           1
          ],
          [
           "Lisbon",
           2
          ],
          [
           "London",
           3
          ],
          [
           "Brussels",
           4
          ]
         ],
         "geo": "geo",
         "hoverlabel": {
          "namelength": 0
         },
         "hovertemplate": "<b>%{hovertext}</b><br><br>Team=Guinea<br>Location=%{customdata[0]}<br>Weekend=%{customdata[1]}<br>Latitude=%{lat}<br>Longitude=%{lon}",
         "hovertext": [
          "Guinea",
          "Guinea",
          "Guinea",
          "Guinea"
         ],
         "ids": [
          1,
          2,
          3,
          4
         ],
         "lat": [
          11.8602385,
          38.707750700000005,
          51.5073219,
          50.8436709
         ],
         "legendgroup": "Team=Guinea",
         "line": {
          "color": "#FFA15A",
          "dash": "solid"
         },
         "lon": [
          -15.584547099999998,
          -9.1365919,
          -0.1276474,
          4.367436693
         ],
         "mode": "lines",
         "name": "Team=Guinea",
         "showlegend": true,
         "type": "scattergeo"
        },
        {
         "customdata": [
          [
           "Conakry",
           1
          ],
          [
           "Brussels",
           2
          ],
          [
           "Reykjavik",
           3
          ],
          [
           "London",
           4
          ]
         ],
         "geo": "geo",
         "hoverlabel": {
          "namelength": 0
         },
         "hovertemplate": "<b>%{hovertext}</b><br><br>Team=Iceland<br>Location=%{customdata[0]}<br>Weekend=%{customdata[1]}<br>Latitude=%{lat}<br>Longitude=%{lon}",
         "hovertext": [
          "Iceland",
          "Iceland",
          "Iceland",
          "Iceland"
         ],
         "ids": [
          1,
          2,
          3,
          4
         ],
         "lat": [
          11.8602385,
          50.8436709,
          64.24450355,
          51.5073219
         ],
         "legendgroup": "Team=Iceland",
         "line": {
          "color": "#19d3f3",
          "dash": "solid"
         },
         "lon": [
          -15.584547099999998,
          4.367436693,
          -21.76926357,
          -0.1276474
         ],
         "mode": "lines",
         "name": "Team=Iceland",
         "showlegend": true,
         "type": "scattergeo"
        },
        {
         "customdata": [
          [
           "Mbabane",
           1
          ],
          [
           "Porto-Novo",
           2
          ],
          [
           "Reykjavik",
           3
          ],
          [
           "Brussels",
           4
          ]
         ],
         "geo": "geo",
         "hoverlabel": {
          "namelength": 0
         },
         "hovertemplate": "<b>%{hovertext}</b><br><br>Team=Eswatini<br>Location=%{customdata[0]}<br>Weekend=%{customdata[1]}<br>Latitude=%{lat}<br>Longitude=%{lon}",
         "hovertext": [
          "Eswatini",
          "Eswatini",
          "Eswatini",
          "Eswatini"
         ],
         "ids": [
          1,
          2,
          3,
          4
         ],
         "lat": [
          -26.325745,
          6.4990718,
          64.24450355,
          50.8436709
         ],
         "legendgroup": "Team=Eswatini",
         "line": {
          "color": "#FF6692",
          "dash": "solid"
         },
         "lon": [
          31.144663,
          2.6253361,
          -21.76926357,
          4.367436693
         ],
         "mode": "lines",
         "name": "Team=Eswatini",
         "showlegend": true,
         "type": "scattergeo"
        },
        {
         "customdata": [
          [
           "Mbabane",
           1
          ],
          [
           "Brussels",
           2
          ],
          [
           "London",
           3
          ],
          [
           "Ulaanbaatar",
           4
          ]
         ],
         "geo": "geo",
         "hoverlabel": {
          "namelength": 0
         },
         "hovertemplate": "<b>%{hovertext}</b><br><br>Team=Mongolia<br>Location=%{customdata[0]}<br>Weekend=%{customdata[1]}<br>Latitude=%{lat}<br>Longitude=%{lon}",
         "hovertext": [
          "Mongolia",
          "Mongolia",
          "Mongolia",
          "Mongolia"
         ],
         "ids": [
          1,
          2,
          3,
          4
         ],
         "lat": [
          -26.325745,
          50.8436709,
          51.5073219,
          47.91846760000001
         ],
         "legendgroup": "Team=Mongolia",
         "line": {
          "color": "#B6E880",
          "dash": "solid"
         },
         "lon": [
          31.144663,
          4.367436693,
          -0.1276474,
          106.91770159999999
         ],
         "mode": "lines",
         "name": "Team=Mongolia",
         "showlegend": true,
         "type": "scattergeo"
        },
        {
         "customdata": [
          [
           "Mbabane",
           1
          ],
          [
           "Lisbon",
           2
          ],
          [
           "Brussels",
           3
          ],
          [
           "London",
           4
          ]
         ],
         "geo": "geo",
         "hoverlabel": {
          "namelength": 0
         },
         "hovertemplate": "<b>%{hovertext}</b><br><br>Team=Portugal<br>Location=%{customdata[0]}<br>Weekend=%{customdata[1]}<br>Latitude=%{lat}<br>Longitude=%{lon}",
         "hovertext": [
          "Portugal",
          "Portugal",
          "Portugal",
          "Portugal"
         ],
         "ids": [
          1,
          2,
          3,
          4
         ],
         "lat": [
          -26.325745,
          38.707750700000005,
          50.8436709,
          51.5073219
         ],
         "legendgroup": "Team=Portugal",
         "line": {
          "color": "#FF97FF",
          "dash": "solid"
         },
         "lon": [
          31.144663,
          -9.1365919,
          4.367436693,
          -0.1276474
         ],
         "mode": "lines",
         "name": "Team=Portugal",
         "showlegend": true,
         "type": "scattergeo"
        }
       ],
       "layout": {
        "geo": {
         "center": {},
         "domain": {
          "x": [
           0,
           1
          ],
          "y": [
           0,
           1
          ]
         }
        },
        "legend": {
         "tracegroupgap": 0
        },
        "margin": {
         "t": 60
        },
        "template": {
         "data": {
          "bar": [
           {
            "error_x": {
             "color": "#2a3f5f"
            },
            "error_y": {
             "color": "#2a3f5f"
            },
            "marker": {
             "line": {
              "color": "#E5ECF6",
              "width": 0.5
             }
            },
            "type": "bar"
           }
          ],
          "barpolar": [
           {
            "marker": {
             "line": {
              "color": "#E5ECF6",
              "width": 0.5
             }
            },
            "type": "barpolar"
           }
          ],
          "carpet": [
           {
            "aaxis": {
             "endlinecolor": "#2a3f5f",
             "gridcolor": "white",
             "linecolor": "white",
             "minorgridcolor": "white",
             "startlinecolor": "#2a3f5f"
            },
            "baxis": {
             "endlinecolor": "#2a3f5f",
             "gridcolor": "white",
             "linecolor": "white",
             "minorgridcolor": "white",
             "startlinecolor": "#2a3f5f"
            },
            "type": "carpet"
           }
          ],
          "choropleth": [
           {
            "colorbar": {
             "outlinewidth": 0,
             "ticks": ""
            },
            "type": "choropleth"
           }
          ],
          "contour": [
           {
            "colorbar": {
             "outlinewidth": 0,
             "ticks": ""
            },
            "colorscale": [
             [
              0,
              "#0d0887"
             ],
             [
              0.1111111111111111,
              "#46039f"
             ],
             [
              0.2222222222222222,
              "#7201a8"
             ],
             [
              0.3333333333333333,
              "#9c179e"
             ],
             [
              0.4444444444444444,
              "#bd3786"
             ],
             [
              0.5555555555555556,
              "#d8576b"
             ],
             [
              0.6666666666666666,
              "#ed7953"
             ],
             [
              0.7777777777777778,
              "#fb9f3a"
             ],
             [
              0.8888888888888888,
              "#fdca26"
             ],
             [
              1,
              "#f0f921"
             ]
            ],
            "type": "contour"
           }
          ],
          "contourcarpet": [
           {
            "colorbar": {
             "outlinewidth": 0,
             "ticks": ""
            },
            "type": "contourcarpet"
           }
          ],
          "heatmap": [
           {
            "colorbar": {
             "outlinewidth": 0,
             "ticks": ""
            },
            "colorscale": [
             [
              0,
              "#0d0887"
             ],
             [
              0.1111111111111111,
              "#46039f"
             ],
             [
              0.2222222222222222,
              "#7201a8"
             ],
             [
              0.3333333333333333,
              "#9c179e"
             ],
             [
              0.4444444444444444,
              "#bd3786"
             ],
             [
              0.5555555555555556,
              "#d8576b"
             ],
             [
              0.6666666666666666,
              "#ed7953"
             ],
             [
              0.7777777777777778,
              "#fb9f3a"
             ],
             [
              0.8888888888888888,
              "#fdca26"
             ],
             [
              1,
              "#f0f921"
             ]
            ],
            "type": "heatmap"
           }
          ],
          "heatmapgl": [
           {
            "colorbar": {
             "outlinewidth": 0,
             "ticks": ""
            },
            "colorscale": [
             [
              0,
              "#0d0887"
             ],
             [
              0.1111111111111111,
              "#46039f"
             ],
             [
              0.2222222222222222,
              "#7201a8"
             ],
             [
              0.3333333333333333,
              "#9c179e"
             ],
             [
              0.4444444444444444,
              "#bd3786"
             ],
             [
              0.5555555555555556,
              "#d8576b"
             ],
             [
              0.6666666666666666,
              "#ed7953"
             ],
             [
              0.7777777777777778,
              "#fb9f3a"
             ],
             [
              0.8888888888888888,
              "#fdca26"
             ],
             [
              1,
              "#f0f921"
             ]
            ],
            "type": "heatmapgl"
           }
          ],
          "histogram": [
           {
            "marker": {
             "colorbar": {
              "outlinewidth": 0,
              "ticks": ""
             }
            },
            "type": "histogram"
           }
          ],
          "histogram2d": [
           {
            "colorbar": {
             "outlinewidth": 0,
             "ticks": ""
            },
            "colorscale": [
             [
              0,
              "#0d0887"
             ],
             [
              0.1111111111111111,
              "#46039f"
             ],
             [
              0.2222222222222222,
              "#7201a8"
             ],
             [
              0.3333333333333333,
              "#9c179e"
             ],
             [
              0.4444444444444444,
              "#bd3786"
             ],
             [
              0.5555555555555556,
              "#d8576b"
             ],
             [
              0.6666666666666666,
              "#ed7953"
             ],
             [
              0.7777777777777778,
              "#fb9f3a"
             ],
             [
              0.8888888888888888,
              "#fdca26"
             ],
             [
              1,
              "#f0f921"
             ]
            ],
            "type": "histogram2d"
           }
          ],
          "histogram2dcontour": [
           {
            "colorbar": {
             "outlinewidth": 0,
             "ticks": ""
            },
            "colorscale": [
             [
              0,
              "#0d0887"
             ],
             [
              0.1111111111111111,
              "#46039f"
             ],
             [
              0.2222222222222222,
              "#7201a8"
             ],
             [
              0.3333333333333333,
              "#9c179e"
             ],
             [
              0.4444444444444444,
              "#bd3786"
             ],
             [
              0.5555555555555556,
              "#d8576b"
             ],
             [
              0.6666666666666666,
              "#ed7953"
             ],
             [
              0.7777777777777778,
              "#fb9f3a"
             ],
             [
              0.8888888888888888,
              "#fdca26"
             ],
             [
              1,
              "#f0f921"
             ]
            ],
            "type": "histogram2dcontour"
           }
          ],
          "mesh3d": [
           {
            "colorbar": {
             "outlinewidth": 0,
             "ticks": ""
            },
            "type": "mesh3d"
           }
          ],
          "parcoords": [
           {
            "line": {
             "colorbar": {
              "outlinewidth": 0,
              "ticks": ""
             }
            },
            "type": "parcoords"
           }
          ],
          "pie": [
           {
            "automargin": true,
            "type": "pie"
           }
          ],
          "scatter": [
           {
            "marker": {
             "colorbar": {
              "outlinewidth": 0,
              "ticks": ""
             }
            },
            "type": "scatter"
           }
          ],
          "scatter3d": [
           {
            "line": {
             "colorbar": {
              "outlinewidth": 0,
              "ticks": ""
             }
            },
            "marker": {
             "colorbar": {
              "outlinewidth": 0,
              "ticks": ""
             }
            },
            "type": "scatter3d"
           }
          ],
          "scattercarpet": [
           {
            "marker": {
             "colorbar": {
              "outlinewidth": 0,
              "ticks": ""
             }
            },
            "type": "scattercarpet"
           }
          ],
          "scattergeo": [
           {
            "marker": {
             "colorbar": {
              "outlinewidth": 0,
              "ticks": ""
             }
            },
            "type": "scattergeo"
           }
          ],
          "scattergl": [
           {
            "marker": {
             "colorbar": {
              "outlinewidth": 0,
              "ticks": ""
             }
            },
            "type": "scattergl"
           }
          ],
          "scattermapbox": [
           {
            "marker": {
             "colorbar": {
              "outlinewidth": 0,
              "ticks": ""
             }
            },
            "type": "scattermapbox"
           }
          ],
          "scatterpolar": [
           {
            "marker": {
             "colorbar": {
              "outlinewidth": 0,
              "ticks": ""
             }
            },
            "type": "scatterpolar"
           }
          ],
          "scatterpolargl": [
           {
            "marker": {
             "colorbar": {
              "outlinewidth": 0,
              "ticks": ""
             }
            },
            "type": "scatterpolargl"
           }
          ],
          "scatterternary": [
           {
            "marker": {
             "colorbar": {
              "outlinewidth": 0,
              "ticks": ""
             }
            },
            "type": "scatterternary"
           }
          ],
          "surface": [
           {
            "colorbar": {
             "outlinewidth": 0,
             "ticks": ""
            },
            "colorscale": [
             [
              0,
              "#0d0887"
             ],
             [
              0.1111111111111111,
              "#46039f"
             ],
             [
              0.2222222222222222,
              "#7201a8"
             ],
             [
              0.3333333333333333,
              "#9c179e"
             ],
             [
              0.4444444444444444,
              "#bd3786"
             ],
             [
              0.5555555555555556,
              "#d8576b"
             ],
             [
              0.6666666666666666,
              "#ed7953"
             ],
             [
              0.7777777777777778,
              "#fb9f3a"
             ],
             [
              0.8888888888888888,
              "#fdca26"
             ],
             [
              1,
              "#f0f921"
             ]
            ],
            "type": "surface"
           }
          ],
          "table": [
           {
            "cells": {
             "fill": {
              "color": "#EBF0F8"
             },
             "line": {
              "color": "white"
             }
            },
            "header": {
             "fill": {
              "color": "#C8D4E3"
             },
             "line": {
              "color": "white"
             }
            },
            "type": "table"
           }
          ]
         },
         "layout": {
          "annotationdefaults": {
           "arrowcolor": "#2a3f5f",
           "arrowhead": 0,
           "arrowwidth": 1
          },
          "coloraxis": {
           "colorbar": {
            "outlinewidth": 0,
            "ticks": ""
           }
          },
          "colorscale": {
           "diverging": [
            [
             0,
             "#8e0152"
            ],
            [
             0.1,
             "#c51b7d"
            ],
            [
             0.2,
             "#de77ae"
            ],
            [
             0.3,
             "#f1b6da"
            ],
            [
             0.4,
             "#fde0ef"
            ],
            [
             0.5,
             "#f7f7f7"
            ],
            [
             0.6,
             "#e6f5d0"
            ],
            [
             0.7,
             "#b8e186"
            ],
            [
             0.8,
             "#7fbc41"
            ],
            [
             0.9,
             "#4d9221"
            ],
            [
             1,
             "#276419"
            ]
           ],
           "sequential": [
            [
             0,
             "#0d0887"
            ],
            [
             0.1111111111111111,
             "#46039f"
            ],
            [
             0.2222222222222222,
             "#7201a8"
            ],
            [
             0.3333333333333333,
             "#9c179e"
            ],
            [
             0.4444444444444444,
             "#bd3786"
            ],
            [
             0.5555555555555556,
             "#d8576b"
            ],
            [
             0.6666666666666666,
             "#ed7953"
            ],
            [
             0.7777777777777778,
             "#fb9f3a"
            ],
            [
             0.8888888888888888,
             "#fdca26"
            ],
            [
             1,
             "#f0f921"
            ]
           ],
           "sequentialminus": [
            [
             0,
             "#0d0887"
            ],
            [
             0.1111111111111111,
             "#46039f"
            ],
            [
             0.2222222222222222,
             "#7201a8"
            ],
            [
             0.3333333333333333,
             "#9c179e"
            ],
            [
             0.4444444444444444,
             "#bd3786"
            ],
            [
             0.5555555555555556,
             "#d8576b"
            ],
            [
             0.6666666666666666,
             "#ed7953"
            ],
            [
             0.7777777777777778,
             "#fb9f3a"
            ],
            [
             0.8888888888888888,
             "#fdca26"
            ],
            [
             1,
             "#f0f921"
            ]
           ]
          },
          "colorway": [
           "#636efa",
           "#EF553B",
           "#00cc96",
           "#ab63fa",
           "#FFA15A",
           "#19d3f3",
           "#FF6692",
           "#B6E880",
           "#FF97FF",
           "#FECB52"
          ],
          "font": {
           "color": "#2a3f5f"
          },
          "geo": {
           "bgcolor": "white",
           "lakecolor": "white",
           "landcolor": "#E5ECF6",
           "showlakes": true,
           "showland": true,
           "subunitcolor": "white"
          },
          "hoverlabel": {
           "align": "left"
          },
          "hovermode": "closest",
          "mapbox": {
           "style": "light"
          },
          "paper_bgcolor": "white",
          "plot_bgcolor": "#E5ECF6",
          "polar": {
           "angularaxis": {
            "gridcolor": "white",
            "linecolor": "white",
            "ticks": ""
           },
           "bgcolor": "#E5ECF6",
           "radialaxis": {
            "gridcolor": "white",
            "linecolor": "white",
            "ticks": ""
           }
          },
          "scene": {
           "xaxis": {
            "backgroundcolor": "#E5ECF6",
            "gridcolor": "white",
            "gridwidth": 2,
            "linecolor": "white",
            "showbackground": true,
            "ticks": "",
            "zerolinecolor": "white"
           },
           "yaxis": {
            "backgroundcolor": "#E5ECF6",
            "gridcolor": "white",
            "gridwidth": 2,
            "linecolor": "white",
            "showbackground": true,
            "ticks": "",
            "zerolinecolor": "white"
           },
           "zaxis": {
            "backgroundcolor": "#E5ECF6",
            "gridcolor": "white",
            "gridwidth": 2,
            "linecolor": "white",
            "showbackground": true,
            "ticks": "",
            "zerolinecolor": "white"
           }
          },
          "shapedefaults": {
           "line": {
            "color": "#2a3f5f"
           }
          },
          "ternary": {
           "aaxis": {
            "gridcolor": "white",
            "linecolor": "white",
            "ticks": ""
           },
           "baxis": {
            "gridcolor": "white",
            "linecolor": "white",
            "ticks": ""
           },
           "bgcolor": "#E5ECF6",
           "caxis": {
            "gridcolor": "white",
            "linecolor": "white",
            "ticks": ""
           }
          },
          "title": {
           "x": 0.05
          },
          "xaxis": {
           "automargin": true,
           "gridcolor": "white",
           "linecolor": "white",
           "ticks": "",
           "title": {
            "standoff": 15
           },
           "zerolinecolor": "white",
           "zerolinewidth": 2
          },
          "yaxis": {
           "automargin": true,
           "gridcolor": "white",
           "linecolor": "white",
           "ticks": "",
           "title": {
            "standoff": 15
           },
           "zerolinecolor": "white",
           "zerolinewidth": 2
          }
         }
        }
       }
      },
      "text/html": [
       "<div>\n",
       "        \n",
       "        \n",
       "            <div id=\"d408ccf3-f2dd-463f-ba1e-779521509b30\" class=\"plotly-graph-div\" style=\"height:525px; width:100%;\"></div>\n",
       "            <script type=\"text/javascript\">\n",
       "                require([\"plotly\"], function(Plotly) {\n",
       "                    window.PLOTLYENV=window.PLOTLYENV || {};\n",
       "                    \n",
       "                if (document.getElementById(\"d408ccf3-f2dd-463f-ba1e-779521509b30\")) {\n",
       "                    Plotly.newPlot(\n",
       "                        'd408ccf3-f2dd-463f-ba1e-779521509b30',\n",
       "                        [{\"customdata\": [[\"Victoria\", 1], [\"Brussels\", 2], [\"Brussels\", 3], [\"Brussels\", 4]], \"geo\": \"geo\", \"hoverlabel\": {\"namelength\": 0}, \"hovertemplate\": \"<b>%{hovertext}</b><br><br>Team=Belgium<br>Location=%{customdata[0]}<br>Weekend=%{customdata[1]}<br>Latitude=%{lat}<br>Longitude=%{lon}\", \"hovertext\": [\"Belgium\", \"Belgium\", \"Belgium\", \"Belgium\"], \"ids\": [1, 2, 3, 4], \"lat\": [-4.6232085, 50.8436709, 50.8436709, 50.8436709], \"legendgroup\": \"Team=Belgium\", \"line\": {\"color\": \"#636efa\", \"dash\": \"solid\"}, \"lon\": [55.452358999999994, 4.367436693, 4.367436693, 4.367436693], \"mode\": \"lines\", \"name\": \"Team=Belgium\", \"showlegend\": true, \"type\": \"scattergeo\"}, {\"customdata\": [[\"Victoria\", 1], [\"Lisbon\", 2], [\"Reykjavik\", 3], [\"Ulaanbaatar\", 4]], \"geo\": \"geo\", \"hoverlabel\": {\"namelength\": 0}, \"hovertemplate\": \"<b>%{hovertext}</b><br><br>Team=Seychelles<br>Location=%{customdata[0]}<br>Weekend=%{customdata[1]}<br>Latitude=%{lat}<br>Longitude=%{lon}\", \"hovertext\": [\"Seychelles\", \"Seychelles\", \"Seychelles\", \"Seychelles\"], \"ids\": [1, 2, 3, 4], \"lat\": [-4.6232085, 38.707750700000005, 64.24450355, 47.91846760000001], \"legendgroup\": \"Team=Seychelles\", \"line\": {\"color\": \"#EF553B\", \"dash\": \"solid\"}, \"lon\": [55.452358999999994, -9.1365919, -21.76926357, 106.91770159999999], \"mode\": \"lines\", \"name\": \"Team=Seychelles\", \"showlegend\": true, \"type\": \"scattergeo\"}, {\"customdata\": [[\"Victoria\", 1], [\"Porto-Novo\", 2], [\"London\", 3], [\"London\", 4]], \"geo\": \"geo\", \"hoverlabel\": {\"namelength\": 0}, \"hovertemplate\": \"<b>%{hovertext}</b><br><br>Team=United Kingdom<br>Location=%{customdata[0]}<br>Weekend=%{customdata[1]}<br>Latitude=%{lat}<br>Longitude=%{lon}\", \"hovertext\": [\"United Kingdom\", \"United Kingdom\", \"United Kingdom\", \"United Kingdom\"], \"ids\": [1, 2, 3, 4], \"lat\": [-4.6232085, 6.4990718, 51.5073219, 51.5073219], \"legendgroup\": \"Team=United Kingdom\", \"line\": {\"color\": \"#00cc96\", \"dash\": \"solid\"}, \"lon\": [55.452358999999994, 2.6253361, -0.1276474, -0.1276474], \"mode\": \"lines\", \"name\": \"Team=United Kingdom\", \"showlegend\": true, \"type\": \"scattergeo\"}, {\"customdata\": [[\"Conakry\", 1], [\"Porto-Novo\", 2], [\"Brussels\", 3], [\"Ulaanbaatar\", 4]], \"geo\": \"geo\", \"hoverlabel\": {\"namelength\": 0}, \"hovertemplate\": \"<b>%{hovertext}</b><br><br>Team=Benin<br>Location=%{customdata[0]}<br>Weekend=%{customdata[1]}<br>Latitude=%{lat}<br>Longitude=%{lon}\", \"hovertext\": [\"Benin\", \"Benin\", \"Benin\", \"Benin\"], \"ids\": [1, 2, 3, 4], \"lat\": [11.8602385, 6.4990718, 50.8436709, 47.91846760000001], \"legendgroup\": \"Team=Benin\", \"line\": {\"color\": \"#ab63fa\", \"dash\": \"solid\"}, \"lon\": [-15.584547099999998, 2.6253361, 4.367436693, 106.91770159999999], \"mode\": \"lines\", \"name\": \"Team=Benin\", \"showlegend\": true, \"type\": \"scattergeo\"}, {\"customdata\": [[\"Conakry\", 1], [\"Lisbon\", 2], [\"London\", 3], [\"Brussels\", 4]], \"geo\": \"geo\", \"hoverlabel\": {\"namelength\": 0}, \"hovertemplate\": \"<b>%{hovertext}</b><br><br>Team=Guinea<br>Location=%{customdata[0]}<br>Weekend=%{customdata[1]}<br>Latitude=%{lat}<br>Longitude=%{lon}\", \"hovertext\": [\"Guinea\", \"Guinea\", \"Guinea\", \"Guinea\"], \"ids\": [1, 2, 3, 4], \"lat\": [11.8602385, 38.707750700000005, 51.5073219, 50.8436709], \"legendgroup\": \"Team=Guinea\", \"line\": {\"color\": \"#FFA15A\", \"dash\": \"solid\"}, \"lon\": [-15.584547099999998, -9.1365919, -0.1276474, 4.367436693], \"mode\": \"lines\", \"name\": \"Team=Guinea\", \"showlegend\": true, \"type\": \"scattergeo\"}, {\"customdata\": [[\"Conakry\", 1], [\"Brussels\", 2], [\"Reykjavik\", 3], [\"London\", 4]], \"geo\": \"geo\", \"hoverlabel\": {\"namelength\": 0}, \"hovertemplate\": \"<b>%{hovertext}</b><br><br>Team=Iceland<br>Location=%{customdata[0]}<br>Weekend=%{customdata[1]}<br>Latitude=%{lat}<br>Longitude=%{lon}\", \"hovertext\": [\"Iceland\", \"Iceland\", \"Iceland\", \"Iceland\"], \"ids\": [1, 2, 3, 4], \"lat\": [11.8602385, 50.8436709, 64.24450355, 51.5073219], \"legendgroup\": \"Team=Iceland\", \"line\": {\"color\": \"#19d3f3\", \"dash\": \"solid\"}, \"lon\": [-15.584547099999998, 4.367436693, -21.76926357, -0.1276474], \"mode\": \"lines\", \"name\": \"Team=Iceland\", \"showlegend\": true, \"type\": \"scattergeo\"}, {\"customdata\": [[\"Mbabane\", 1], [\"Porto-Novo\", 2], [\"Reykjavik\", 3], [\"Brussels\", 4]], \"geo\": \"geo\", \"hoverlabel\": {\"namelength\": 0}, \"hovertemplate\": \"<b>%{hovertext}</b><br><br>Team=Eswatini<br>Location=%{customdata[0]}<br>Weekend=%{customdata[1]}<br>Latitude=%{lat}<br>Longitude=%{lon}\", \"hovertext\": [\"Eswatini\", \"Eswatini\", \"Eswatini\", \"Eswatini\"], \"ids\": [1, 2, 3, 4], \"lat\": [-26.325745, 6.4990718, 64.24450355, 50.8436709], \"legendgroup\": \"Team=Eswatini\", \"line\": {\"color\": \"#FF6692\", \"dash\": \"solid\"}, \"lon\": [31.144663, 2.6253361, -21.76926357, 4.367436693], \"mode\": \"lines\", \"name\": \"Team=Eswatini\", \"showlegend\": true, \"type\": \"scattergeo\"}, {\"customdata\": [[\"Mbabane\", 1], [\"Brussels\", 2], [\"London\", 3], [\"Ulaanbaatar\", 4]], \"geo\": \"geo\", \"hoverlabel\": {\"namelength\": 0}, \"hovertemplate\": \"<b>%{hovertext}</b><br><br>Team=Mongolia<br>Location=%{customdata[0]}<br>Weekend=%{customdata[1]}<br>Latitude=%{lat}<br>Longitude=%{lon}\", \"hovertext\": [\"Mongolia\", \"Mongolia\", \"Mongolia\", \"Mongolia\"], \"ids\": [1, 2, 3, 4], \"lat\": [-26.325745, 50.8436709, 51.5073219, 47.91846760000001], \"legendgroup\": \"Team=Mongolia\", \"line\": {\"color\": \"#B6E880\", \"dash\": \"solid\"}, \"lon\": [31.144663, 4.367436693, -0.1276474, 106.91770159999999], \"mode\": \"lines\", \"name\": \"Team=Mongolia\", \"showlegend\": true, \"type\": \"scattergeo\"}, {\"customdata\": [[\"Mbabane\", 1], [\"Lisbon\", 2], [\"Brussels\", 3], [\"London\", 4]], \"geo\": \"geo\", \"hoverlabel\": {\"namelength\": 0}, \"hovertemplate\": \"<b>%{hovertext}</b><br><br>Team=Portugal<br>Location=%{customdata[0]}<br>Weekend=%{customdata[1]}<br>Latitude=%{lat}<br>Longitude=%{lon}\", \"hovertext\": [\"Portugal\", \"Portugal\", \"Portugal\", \"Portugal\"], \"ids\": [1, 2, 3, 4], \"lat\": [-26.325745, 38.707750700000005, 50.8436709, 51.5073219], \"legendgroup\": \"Team=Portugal\", \"line\": {\"color\": \"#FF97FF\", \"dash\": \"solid\"}, \"lon\": [31.144663, -9.1365919, 4.367436693, -0.1276474], \"mode\": \"lines\", \"name\": \"Team=Portugal\", \"showlegend\": true, \"type\": \"scattergeo\"}],\n",
       "                        {\"geo\": {\"center\": {}, \"domain\": {\"x\": [0.0, 1.0], \"y\": [0.0, 1.0]}}, \"legend\": {\"tracegroupgap\": 0}, \"margin\": {\"t\": 60}, \"template\": {\"data\": {\"bar\": [{\"error_x\": {\"color\": \"#2a3f5f\"}, \"error_y\": {\"color\": \"#2a3f5f\"}, \"marker\": {\"line\": {\"color\": \"#E5ECF6\", \"width\": 0.5}}, \"type\": \"bar\"}], \"barpolar\": [{\"marker\": {\"line\": {\"color\": \"#E5ECF6\", \"width\": 0.5}}, \"type\": \"barpolar\"}], \"carpet\": [{\"aaxis\": {\"endlinecolor\": \"#2a3f5f\", \"gridcolor\": \"white\", \"linecolor\": \"white\", \"minorgridcolor\": \"white\", \"startlinecolor\": \"#2a3f5f\"}, \"baxis\": {\"endlinecolor\": \"#2a3f5f\", \"gridcolor\": \"white\", \"linecolor\": \"white\", \"minorgridcolor\": \"white\", \"startlinecolor\": \"#2a3f5f\"}, \"type\": \"carpet\"}], \"choropleth\": [{\"colorbar\": {\"outlinewidth\": 0, \"ticks\": \"\"}, \"type\": \"choropleth\"}], \"contour\": [{\"colorbar\": {\"outlinewidth\": 0, \"ticks\": \"\"}, \"colorscale\": [[0.0, \"#0d0887\"], [0.1111111111111111, \"#46039f\"], [0.2222222222222222, \"#7201a8\"], [0.3333333333333333, \"#9c179e\"], [0.4444444444444444, \"#bd3786\"], [0.5555555555555556, \"#d8576b\"], [0.6666666666666666, \"#ed7953\"], [0.7777777777777778, \"#fb9f3a\"], [0.8888888888888888, \"#fdca26\"], [1.0, \"#f0f921\"]], \"type\": \"contour\"}], \"contourcarpet\": [{\"colorbar\": {\"outlinewidth\": 0, \"ticks\": \"\"}, \"type\": \"contourcarpet\"}], \"heatmap\": [{\"colorbar\": {\"outlinewidth\": 0, \"ticks\": \"\"}, \"colorscale\": [[0.0, \"#0d0887\"], [0.1111111111111111, \"#46039f\"], [0.2222222222222222, \"#7201a8\"], [0.3333333333333333, \"#9c179e\"], [0.4444444444444444, \"#bd3786\"], [0.5555555555555556, \"#d8576b\"], [0.6666666666666666, \"#ed7953\"], [0.7777777777777778, \"#fb9f3a\"], [0.8888888888888888, \"#fdca26\"], [1.0, \"#f0f921\"]], \"type\": \"heatmap\"}], \"heatmapgl\": [{\"colorbar\": {\"outlinewidth\": 0, \"ticks\": \"\"}, \"colorscale\": [[0.0, \"#0d0887\"], [0.1111111111111111, \"#46039f\"], [0.2222222222222222, \"#7201a8\"], [0.3333333333333333, \"#9c179e\"], [0.4444444444444444, \"#bd3786\"], [0.5555555555555556, \"#d8576b\"], [0.6666666666666666, \"#ed7953\"], [0.7777777777777778, \"#fb9f3a\"], [0.8888888888888888, \"#fdca26\"], [1.0, \"#f0f921\"]], \"type\": \"heatmapgl\"}], \"histogram\": [{\"marker\": {\"colorbar\": {\"outlinewidth\": 0, \"ticks\": \"\"}}, \"type\": \"histogram\"}], \"histogram2d\": [{\"colorbar\": {\"outlinewidth\": 0, \"ticks\": \"\"}, \"colorscale\": [[0.0, \"#0d0887\"], [0.1111111111111111, \"#46039f\"], [0.2222222222222222, \"#7201a8\"], [0.3333333333333333, \"#9c179e\"], [0.4444444444444444, \"#bd3786\"], [0.5555555555555556, \"#d8576b\"], [0.6666666666666666, \"#ed7953\"], [0.7777777777777778, \"#fb9f3a\"], [0.8888888888888888, \"#fdca26\"], [1.0, \"#f0f921\"]], \"type\": \"histogram2d\"}], \"histogram2dcontour\": [{\"colorbar\": {\"outlinewidth\": 0, \"ticks\": \"\"}, \"colorscale\": [[0.0, \"#0d0887\"], [0.1111111111111111, \"#46039f\"], [0.2222222222222222, \"#7201a8\"], [0.3333333333333333, \"#9c179e\"], [0.4444444444444444, \"#bd3786\"], [0.5555555555555556, \"#d8576b\"], [0.6666666666666666, \"#ed7953\"], [0.7777777777777778, \"#fb9f3a\"], [0.8888888888888888, \"#fdca26\"], [1.0, \"#f0f921\"]], \"type\": \"histogram2dcontour\"}], \"mesh3d\": [{\"colorbar\": {\"outlinewidth\": 0, \"ticks\": \"\"}, \"type\": \"mesh3d\"}], \"parcoords\": [{\"line\": {\"colorbar\": {\"outlinewidth\": 0, \"ticks\": \"\"}}, \"type\": \"parcoords\"}], \"pie\": [{\"automargin\": true, \"type\": \"pie\"}], \"scatter\": [{\"marker\": {\"colorbar\": {\"outlinewidth\": 0, \"ticks\": \"\"}}, \"type\": \"scatter\"}], \"scatter3d\": [{\"line\": {\"colorbar\": {\"outlinewidth\": 0, \"ticks\": \"\"}}, \"marker\": {\"colorbar\": {\"outlinewidth\": 0, \"ticks\": \"\"}}, \"type\": \"scatter3d\"}], \"scattercarpet\": [{\"marker\": {\"colorbar\": {\"outlinewidth\": 0, \"ticks\": \"\"}}, \"type\": \"scattercarpet\"}], \"scattergeo\": [{\"marker\": {\"colorbar\": {\"outlinewidth\": 0, \"ticks\": \"\"}}, \"type\": \"scattergeo\"}], \"scattergl\": [{\"marker\": {\"colorbar\": {\"outlinewidth\": 0, \"ticks\": \"\"}}, \"type\": \"scattergl\"}], \"scattermapbox\": [{\"marker\": {\"colorbar\": {\"outlinewidth\": 0, \"ticks\": \"\"}}, \"type\": \"scattermapbox\"}], \"scatterpolar\": [{\"marker\": {\"colorbar\": {\"outlinewidth\": 0, \"ticks\": \"\"}}, \"type\": \"scatterpolar\"}], \"scatterpolargl\": [{\"marker\": {\"colorbar\": {\"outlinewidth\": 0, \"ticks\": \"\"}}, \"type\": \"scatterpolargl\"}], \"scatterternary\": [{\"marker\": {\"colorbar\": {\"outlinewidth\": 0, \"ticks\": \"\"}}, \"type\": \"scatterternary\"}], \"surface\": [{\"colorbar\": {\"outlinewidth\": 0, \"ticks\": \"\"}, \"colorscale\": [[0.0, \"#0d0887\"], [0.1111111111111111, \"#46039f\"], [0.2222222222222222, \"#7201a8\"], [0.3333333333333333, \"#9c179e\"], [0.4444444444444444, \"#bd3786\"], [0.5555555555555556, \"#d8576b\"], [0.6666666666666666, \"#ed7953\"], [0.7777777777777778, \"#fb9f3a\"], [0.8888888888888888, \"#fdca26\"], [1.0, \"#f0f921\"]], \"type\": \"surface\"}], \"table\": [{\"cells\": {\"fill\": {\"color\": \"#EBF0F8\"}, \"line\": {\"color\": \"white\"}}, \"header\": {\"fill\": {\"color\": \"#C8D4E3\"}, \"line\": {\"color\": \"white\"}}, \"type\": \"table\"}]}, \"layout\": {\"annotationdefaults\": {\"arrowcolor\": \"#2a3f5f\", \"arrowhead\": 0, \"arrowwidth\": 1}, \"coloraxis\": {\"colorbar\": {\"outlinewidth\": 0, \"ticks\": \"\"}}, \"colorscale\": {\"diverging\": [[0, \"#8e0152\"], [0.1, \"#c51b7d\"], [0.2, \"#de77ae\"], [0.3, \"#f1b6da\"], [0.4, \"#fde0ef\"], [0.5, \"#f7f7f7\"], [0.6, \"#e6f5d0\"], [0.7, \"#b8e186\"], [0.8, \"#7fbc41\"], [0.9, \"#4d9221\"], [1, \"#276419\"]], \"sequential\": [[0.0, \"#0d0887\"], [0.1111111111111111, \"#46039f\"], [0.2222222222222222, \"#7201a8\"], [0.3333333333333333, \"#9c179e\"], [0.4444444444444444, \"#bd3786\"], [0.5555555555555556, \"#d8576b\"], [0.6666666666666666, \"#ed7953\"], [0.7777777777777778, \"#fb9f3a\"], [0.8888888888888888, \"#fdca26\"], [1.0, \"#f0f921\"]], \"sequentialminus\": [[0.0, \"#0d0887\"], [0.1111111111111111, \"#46039f\"], [0.2222222222222222, \"#7201a8\"], [0.3333333333333333, \"#9c179e\"], [0.4444444444444444, \"#bd3786\"], [0.5555555555555556, \"#d8576b\"], [0.6666666666666666, \"#ed7953\"], [0.7777777777777778, \"#fb9f3a\"], [0.8888888888888888, \"#fdca26\"], [1.0, \"#f0f921\"]]}, \"colorway\": [\"#636efa\", \"#EF553B\", \"#00cc96\", \"#ab63fa\", \"#FFA15A\", \"#19d3f3\", \"#FF6692\", \"#B6E880\", \"#FF97FF\", \"#FECB52\"], \"font\": {\"color\": \"#2a3f5f\"}, \"geo\": {\"bgcolor\": \"white\", \"lakecolor\": \"white\", \"landcolor\": \"#E5ECF6\", \"showlakes\": true, \"showland\": true, \"subunitcolor\": \"white\"}, \"hoverlabel\": {\"align\": \"left\"}, \"hovermode\": \"closest\", \"mapbox\": {\"style\": \"light\"}, \"paper_bgcolor\": \"white\", \"plot_bgcolor\": \"#E5ECF6\", \"polar\": {\"angularaxis\": {\"gridcolor\": \"white\", \"linecolor\": \"white\", \"ticks\": \"\"}, \"bgcolor\": \"#E5ECF6\", \"radialaxis\": {\"gridcolor\": \"white\", \"linecolor\": \"white\", \"ticks\": \"\"}}, \"scene\": {\"xaxis\": {\"backgroundcolor\": \"#E5ECF6\", \"gridcolor\": \"white\", \"gridwidth\": 2, \"linecolor\": \"white\", \"showbackground\": true, \"ticks\": \"\", \"zerolinecolor\": \"white\"}, \"yaxis\": {\"backgroundcolor\": \"#E5ECF6\", \"gridcolor\": \"white\", \"gridwidth\": 2, \"linecolor\": \"white\", \"showbackground\": true, \"ticks\": \"\", \"zerolinecolor\": \"white\"}, \"zaxis\": {\"backgroundcolor\": \"#E5ECF6\", \"gridcolor\": \"white\", \"gridwidth\": 2, \"linecolor\": \"white\", \"showbackground\": true, \"ticks\": \"\", \"zerolinecolor\": \"white\"}}, \"shapedefaults\": {\"line\": {\"color\": \"#2a3f5f\"}}, \"ternary\": {\"aaxis\": {\"gridcolor\": \"white\", \"linecolor\": \"white\", \"ticks\": \"\"}, \"baxis\": {\"gridcolor\": \"white\", \"linecolor\": \"white\", \"ticks\": \"\"}, \"bgcolor\": \"#E5ECF6\", \"caxis\": {\"gridcolor\": \"white\", \"linecolor\": \"white\", \"ticks\": \"\"}}, \"title\": {\"x\": 0.05}, \"xaxis\": {\"automargin\": true, \"gridcolor\": \"white\", \"linecolor\": \"white\", \"ticks\": \"\", \"title\": {\"standoff\": 15}, \"zerolinecolor\": \"white\", \"zerolinewidth\": 2}, \"yaxis\": {\"automargin\": true, \"gridcolor\": \"white\", \"linecolor\": \"white\", \"ticks\": \"\", \"title\": {\"standoff\": 15}, \"zerolinecolor\": \"white\", \"zerolinewidth\": 2}}}},\n",
       "                        {\"responsive\": true}\n",
       "                    ).then(function(){\n",
       "                            \n",
       "var gd = document.getElementById('d408ccf3-f2dd-463f-ba1e-779521509b30');\n",
       "var x = new MutationObserver(function (mutations, observer) {{\n",
       "        var display = window.getComputedStyle(gd).display;\n",
       "        if (!display || display === 'none') {{\n",
       "            console.log([gd, 'removed!']);\n",
       "            Plotly.purge(gd);\n",
       "            observer.disconnect();\n",
       "        }}\n",
       "}});\n",
       "\n",
       "// Listen for the removal of the full notebook cells\n",
       "var notebookContainer = gd.closest('#notebook-container');\n",
       "if (notebookContainer) {{\n",
       "    x.observe(notebookContainer, {childList: true});\n",
       "}}\n",
       "\n",
       "// Listen for the clearing of the current output cell\n",
       "var outputEl = gd.closest('.output');\n",
       "if (outputEl) {{\n",
       "    x.observe(outputEl, {childList: true});\n",
       "}}\n",
       "\n",
       "                        })\n",
       "                };\n",
       "                });\n",
       "            </script>\n",
       "        </div>"
      ]
     },
     "metadata": {},
     "output_type": "display_data"
    }
   ],
   "source": [
    "px.line_geo(df_aug_01.sort_values('Weekend'),lat='Latitude',lon='Longitude',\n",
    "            color='Team',line_group='Team',\n",
    "            hover_name='Team',animation_group='Weekend',hover_data=['Location','Weekend'],)"
   ]
  },
  {
   "cell_type": "markdown",
   "metadata": {},
   "source": [
    "# Analysis of Solutions"
   ]
  },
  {
   "cell_type": "code",
   "execution_count": null,
   "metadata": {},
   "outputs": [],
   "source": []
  },
  {
   "cell_type": "code",
   "execution_count": 82,
   "metadata": {},
   "outputs": [
    {
     "name": "stdout",
     "output_type": "stream",
     "text": [
      "Reconcilation...\n",
      "[OK]   90862.21 vs 90862.21\n",
      "Reconcilation...\n",
      "[OK]   77157.76 vs 77157.76\n",
      "Reconcilation...\n",
      "[OK]   34062.87 vs 34062.87\n",
      "Reconcilation...\n",
      "[OK]   -47687.13 vs -47687.13\n",
      "Reconcilation...\n",
      "[OK]   -211187.13 vs -211187.13\n",
      "Reconcilation...\n",
      "[OK]   -701687.13 vs -701687.13\n",
      "Reconcilation...\n",
      "[OK]   -1519187.13 vs -1519187.13\n",
      "Reconcilation...\n",
      "[OK]   -2338469.83 vs -2338469.83\n",
      "Reconcilation...\n",
      "[OK]   -3158469.83 vs -3158469.83\n",
      "Reconcilation...\n",
      "[OK]   -3978469.83 vs -3978469.83\n"
     ]
    }
   ],
   "source": [
    "all_results = {}\n",
    "for p in p_list:\n",
    "    _res = results()\n",
    "    _res.parse_solution(models[p])\n",
    "    all_results[p] = _res"
   ]
  },
  {
   "cell_type": "code",
   "execution_count": 83,
   "metadata": {},
   "outputs": [
    {
     "data": {
      "text/html": [
       "<div>\n",
       "<style scoped>\n",
       "    .dataframe tbody tr th:only-of-type {\n",
       "        vertical-align: middle;\n",
       "    }\n",
       "\n",
       "    .dataframe tbody tr th {\n",
       "        vertical-align: top;\n",
       "    }\n",
       "\n",
       "    .dataframe thead th {\n",
       "        text-align: right;\n",
       "    }\n",
       "</style>\n",
       "<table border=\"1\" class=\"dataframe\">\n",
       "  <thead>\n",
       "    <tr style=\"text-align: right;\">\n",
       "      <th>Weekend</th>\n",
       "      <th>1</th>\n",
       "      <th>2</th>\n",
       "      <th>3</th>\n",
       "      <th>4</th>\n",
       "    </tr>\n",
       "    <tr>\n",
       "      <th>Team</th>\n",
       "      <th></th>\n",
       "      <th></th>\n",
       "      <th></th>\n",
       "      <th></th>\n",
       "    </tr>\n",
       "  </thead>\n",
       "  <tbody>\n",
       "    <tr>\n",
       "      <th>Belgium</th>\n",
       "      <td>Brussels</td>\n",
       "      <td>Mbabane</td>\n",
       "      <td>Brussels</td>\n",
       "      <td>Brussels</td>\n",
       "    </tr>\n",
       "    <tr>\n",
       "      <th>Benin</th>\n",
       "      <td>Porto-Novo</td>\n",
       "      <td>Conakry</td>\n",
       "      <td>Brussels</td>\n",
       "      <td>Ulaanbaatar</td>\n",
       "    </tr>\n",
       "    <tr>\n",
       "      <th>Eswatini</th>\n",
       "      <td>Victoria</td>\n",
       "      <td>Mbabane</td>\n",
       "      <td>Reykjavik</td>\n",
       "      <td>Ulaanbaatar</td>\n",
       "    </tr>\n",
       "    <tr>\n",
       "      <th>Guinea</th>\n",
       "      <td>Brussels</td>\n",
       "      <td>Conakry</td>\n",
       "      <td>Reykjavik</td>\n",
       "      <td>London</td>\n",
       "    </tr>\n",
       "    <tr>\n",
       "      <th>Iceland</th>\n",
       "      <td>Porto-Novo</td>\n",
       "      <td>Lisbon</td>\n",
       "      <td>Reykjavik</td>\n",
       "      <td>Brussels</td>\n",
       "    </tr>\n",
       "    <tr>\n",
       "      <th>Mongolia</th>\n",
       "      <td>Brussels</td>\n",
       "      <td>Lisbon</td>\n",
       "      <td>London</td>\n",
       "      <td>Ulaanbaatar</td>\n",
       "    </tr>\n",
       "    <tr>\n",
       "      <th>Portugal</th>\n",
       "      <td>Victoria</td>\n",
       "      <td>Lisbon</td>\n",
       "      <td>Brussels</td>\n",
       "      <td>London</td>\n",
       "    </tr>\n",
       "    <tr>\n",
       "      <th>Seychelles</th>\n",
       "      <td>Victoria</td>\n",
       "      <td>Conakry</td>\n",
       "      <td>London</td>\n",
       "      <td>Brussels</td>\n",
       "    </tr>\n",
       "    <tr>\n",
       "      <th>United Kingdom</th>\n",
       "      <td>Porto-Novo</td>\n",
       "      <td>Mbabane</td>\n",
       "      <td>London</td>\n",
       "      <td>London</td>\n",
       "    </tr>\n",
       "  </tbody>\n",
       "</table>\n",
       "</div>"
      ],
      "text/plain": [
       "Weekend                  1        2          3            4\n",
       "Team                                                       \n",
       "Belgium           Brussels  Mbabane   Brussels     Brussels\n",
       "Benin           Porto-Novo  Conakry   Brussels  Ulaanbaatar\n",
       "Eswatini          Victoria  Mbabane  Reykjavik  Ulaanbaatar\n",
       "Guinea            Brussels  Conakry  Reykjavik       London\n",
       "Iceland         Porto-Novo   Lisbon  Reykjavik     Brussels\n",
       "Mongolia          Brussels   Lisbon     London  Ulaanbaatar\n",
       "Portugal          Victoria   Lisbon   Brussels       London\n",
       "Seychelles        Victoria  Conakry     London     Brussels\n",
       "United Kingdom  Porto-Novo  Mbabane     London       London"
      ]
     },
     "execution_count": 83,
     "metadata": {},
     "output_type": "execute_result"
    }
   ],
   "source": [
    "all_results[25].df_pos"
   ]
  },
  {
   "cell_type": "markdown",
   "metadata": {},
   "source": [
    "# Global KPIs\n"
   ]
  },
  {
   "cell_type": "code",
   "execution_count": 84,
   "metadata": {},
   "outputs": [],
   "source": [
    "df_gkpis = pd.DataFrame()\n",
    "df_TeamAnalysis = pd.DataFrame()\n",
    "for p,r in all_results.items():\n",
    "    df_gkpis = df_gkpis.append(r.df_gkpi)\n",
    "    _df = r.df_dist\n",
    "    _df['Total Travel'] = _df.sum(axis=1)\n",
    "    _df['P'] = p\n",
    "    df_TeamAnalysis = df_TeamAnalysis.append(_df)"
   ]
  },
  {
   "cell_type": "code",
   "execution_count": 85,
   "metadata": {},
   "outputs": [
    {
     "data": {
      "text/html": [
       "<div>\n",
       "<style scoped>\n",
       "    .dataframe tbody tr th:only-of-type {\n",
       "        vertical-align: middle;\n",
       "    }\n",
       "\n",
       "    .dataframe tbody tr th {\n",
       "        vertical-align: top;\n",
       "    }\n",
       "\n",
       "    .dataframe thead th {\n",
       "        text-align: right;\n",
       "    }\n",
       "</style>\n",
       "<table border=\"1\" class=\"dataframe\">\n",
       "  <thead>\n",
       "    <tr style=\"text-align: right;\">\n",
       "      <th>Weekend</th>\n",
       "      <th>1-&gt;2</th>\n",
       "      <th>2-&gt;3</th>\n",
       "      <th>3-&gt;4</th>\n",
       "      <th>Total Travel</th>\n",
       "      <th>P</th>\n",
       "    </tr>\n",
       "    <tr>\n",
       "      <th>Team</th>\n",
       "      <th></th>\n",
       "      <th></th>\n",
       "      <th></th>\n",
       "      <th></th>\n",
       "      <th></th>\n",
       "    </tr>\n",
       "  </thead>\n",
       "  <tbody>\n",
       "    <tr>\n",
       "      <th>Belgium</th>\n",
       "      <td>7833.727289</td>\n",
       "      <td>0.000000</td>\n",
       "      <td>0.000000</td>\n",
       "      <td>7833.727289</td>\n",
       "      <td>0.1</td>\n",
       "    </tr>\n",
       "    <tr>\n",
       "      <th>Benin</th>\n",
       "      <td>2086.359544</td>\n",
       "      <td>4918.694200</td>\n",
       "      <td>6812.523638</td>\n",
       "      <td>13817.577382</td>\n",
       "      <td>0.1</td>\n",
       "    </tr>\n",
       "    <tr>\n",
       "      <th>Eswatini</th>\n",
       "      <td>4761.346862</td>\n",
       "      <td>6696.592607</td>\n",
       "      <td>2133.756729</td>\n",
       "      <td>13591.696198</td>\n",
       "      <td>0.1</td>\n",
       "    </tr>\n",
       "    <tr>\n",
       "      <th>Guinea</th>\n",
       "      <td>3042.357442</td>\n",
       "      <td>1586.542513</td>\n",
       "      <td>322.849447</td>\n",
       "      <td>4951.749402</td>\n",
       "      <td>0.1</td>\n",
       "    </tr>\n",
       "    <tr>\n",
       "      <th>Iceland</th>\n",
       "      <td>4688.429454</td>\n",
       "      <td>2133.756729</td>\n",
       "      <td>1894.445055</td>\n",
       "      <td>8716.631238</td>\n",
       "      <td>0.1</td>\n",
       "    </tr>\n",
       "    <tr>\n",
       "      <th>...</th>\n",
       "      <td>...</td>\n",
       "      <td>...</td>\n",
       "      <td>...</td>\n",
       "      <td>...</td>\n",
       "      <td>...</td>\n",
       "    </tr>\n",
       "    <tr>\n",
       "      <th>Iceland</th>\n",
       "      <td>3758.839534</td>\n",
       "      <td>2960.706246</td>\n",
       "      <td>2133.756729</td>\n",
       "      <td>8853.302509</td>\n",
       "      <td>25.0</td>\n",
       "    </tr>\n",
       "    <tr>\n",
       "      <th>Mongolia</th>\n",
       "      <td>1715.157554</td>\n",
       "      <td>1586.542513</td>\n",
       "      <td>6993.217230</td>\n",
       "      <td>10294.917297</td>\n",
       "      <td>25.0</td>\n",
       "    </tr>\n",
       "    <tr>\n",
       "      <th>Portugal</th>\n",
       "      <td>8172.888127</td>\n",
       "      <td>1715.157554</td>\n",
       "      <td>322.849447</td>\n",
       "      <td>10210.895128</td>\n",
       "      <td>25.0</td>\n",
       "    </tr>\n",
       "    <tr>\n",
       "      <th>Seychelles</th>\n",
       "      <td>8070.099455</td>\n",
       "      <td>4613.926397</td>\n",
       "      <td>322.849447</td>\n",
       "      <td>13006.875299</td>\n",
       "      <td>25.0</td>\n",
       "    </tr>\n",
       "    <tr>\n",
       "      <th>United Kingdom</th>\n",
       "      <td>4761.346862</td>\n",
       "      <td>9149.200410</td>\n",
       "      <td>0.000000</td>\n",
       "      <td>13910.547272</td>\n",
       "      <td>25.0</td>\n",
       "    </tr>\n",
       "  </tbody>\n",
       "</table>\n",
       "<p>90 rows × 5 columns</p>\n",
       "</div>"
      ],
      "text/plain": [
       "Weekend                1->2         2->3         3->4  Total Travel     P\n",
       "Team                                                                     \n",
       "Belgium         7833.727289     0.000000     0.000000   7833.727289   0.1\n",
       "Benin           2086.359544  4918.694200  6812.523638  13817.577382   0.1\n",
       "Eswatini        4761.346862  6696.592607  2133.756729  13591.696198   0.1\n",
       "Guinea          3042.357442  1586.542513   322.849447   4951.749402   0.1\n",
       "Iceland         4688.429454  2133.756729  1894.445055   8716.631238   0.1\n",
       "...                     ...          ...          ...           ...   ...\n",
       "Iceland         3758.839534  2960.706246  2133.756729   8853.302509  25.0\n",
       "Mongolia        1715.157554  1586.542513  6993.217230  10294.917297  25.0\n",
       "Portugal        8172.888127  1715.157554   322.849447  10210.895128  25.0\n",
       "Seychelles      8070.099455  4613.926397   322.849447  13006.875299  25.0\n",
       "United Kingdom  4761.346862  9149.200410     0.000000  13910.547272  25.0\n",
       "\n",
       "[90 rows x 5 columns]"
      ]
     },
     "execution_count": 85,
     "metadata": {},
     "output_type": "execute_result"
    }
   ],
   "source": [
    "df_TeamAnalysis"
   ]
  },
  {
   "cell_type": "code",
   "execution_count": 86,
   "metadata": {},
   "outputs": [
    {
     "data": {
      "text/html": [
       "<div>\n",
       "<style scoped>\n",
       "    .dataframe tbody tr th:only-of-type {\n",
       "        vertical-align: middle;\n",
       "    }\n",
       "\n",
       "    .dataframe tbody tr th {\n",
       "        vertical-align: top;\n",
       "    }\n",
       "\n",
       "    .dataframe thead th {\n",
       "        text-align: right;\n",
       "    }\n",
       "</style>\n",
       "<table border=\"1\" class=\"dataframe\">\n",
       "  <thead>\n",
       "    <tr style=\"text-align: right;\">\n",
       "      <th></th>\n",
       "      <th>Shortest Journey</th>\n",
       "      <th>Longest Journey</th>\n",
       "      <th>Delta</th>\n",
       "      <th>Mean Journey</th>\n",
       "      <th>Total Travel</th>\n",
       "      <th>Longest Leg</th>\n",
       "      <th>Lowest # Spectators</th>\n",
       "      <th>Highest # Spectators</th>\n",
       "      <th>Total # Spectators</th>\n",
       "      <th>Mean # Spectators</th>\n",
       "    </tr>\n",
       "    <tr>\n",
       "      <th>P</th>\n",
       "      <th></th>\n",
       "      <th></th>\n",
       "      <th></th>\n",
       "      <th></th>\n",
       "      <th></th>\n",
       "      <th></th>\n",
       "      <th></th>\n",
       "      <th></th>\n",
       "      <th></th>\n",
       "      <th></th>\n",
       "    </tr>\n",
       "  </thead>\n",
       "  <tbody>\n",
       "    <tr>\n",
       "      <th>0.1</th>\n",
       "      <td>4951.749402</td>\n",
       "      <td>17926.447366</td>\n",
       "      <td>12974.697964</td>\n",
       "      <td>11606.912769</td>\n",
       "      <td>104462.214923</td>\n",
       "      <td>8944.363016</td>\n",
       "      <td>16000</td>\n",
       "      <td>2500</td>\n",
       "      <td>136000</td>\n",
       "      <td>11333.333333</td>\n",
       "    </tr>\n",
       "    <tr>\n",
       "      <th>0.2</th>\n",
       "      <td>4951.749402</td>\n",
       "      <td>17987.509111</td>\n",
       "      <td>13035.759709</td>\n",
       "      <td>11628.640158</td>\n",
       "      <td>104657.761421</td>\n",
       "      <td>9149.200410</td>\n",
       "      <td>16000</td>\n",
       "      <td>2500</td>\n",
       "      <td>137500</td>\n",
       "      <td>11458.333333</td>\n",
       "    </tr>\n",
       "    <tr>\n",
       "      <th>0.5</th>\n",
       "      <td>5080.364443</td>\n",
       "      <td>20518.233516</td>\n",
       "      <td>15437.869073</td>\n",
       "      <td>12868.096745</td>\n",
       "      <td>115812.870705</td>\n",
       "      <td>11035.887420</td>\n",
       "      <td>16500</td>\n",
       "      <td>7500</td>\n",
       "      <td>163500</td>\n",
       "      <td>13625.000000</td>\n",
       "    </tr>\n",
       "    <tr>\n",
       "      <th>1.0</th>\n",
       "      <td>4936.775844</td>\n",
       "      <td>22345.180037</td>\n",
       "      <td>17408.404193</td>\n",
       "      <td>12868.096745</td>\n",
       "      <td>115812.870705</td>\n",
       "      <td>11035.887420</td>\n",
       "      <td>16500</td>\n",
       "      <td>7500</td>\n",
       "      <td>163500</td>\n",
       "      <td>13625.000000</td>\n",
       "    </tr>\n",
       "    <tr>\n",
       "      <th>2.0</th>\n",
       "      <td>4951.749402</td>\n",
       "      <td>19672.903918</td>\n",
       "      <td>14721.154516</td>\n",
       "      <td>12868.096745</td>\n",
       "      <td>115812.870705</td>\n",
       "      <td>11035.887420</td>\n",
       "      <td>16500</td>\n",
       "      <td>7500</td>\n",
       "      <td>163500</td>\n",
       "      <td>13625.000000</td>\n",
       "    </tr>\n",
       "    <tr>\n",
       "      <th>5.0</th>\n",
       "      <td>5011.278901</td>\n",
       "      <td>20518.233516</td>\n",
       "      <td>15506.954615</td>\n",
       "      <td>12868.096745</td>\n",
       "      <td>115812.870705</td>\n",
       "      <td>11035.887420</td>\n",
       "      <td>16500</td>\n",
       "      <td>7500</td>\n",
       "      <td>163500</td>\n",
       "      <td>13625.000000</td>\n",
       "    </tr>\n",
       "    <tr>\n",
       "      <th>10.0</th>\n",
       "      <td>4936.775844</td>\n",
       "      <td>20903.764502</td>\n",
       "      <td>15966.988658</td>\n",
       "      <td>12868.096745</td>\n",
       "      <td>115812.870705</td>\n",
       "      <td>11035.887420</td>\n",
       "      <td>16500</td>\n",
       "      <td>7500</td>\n",
       "      <td>163500</td>\n",
       "      <td>13625.000000</td>\n",
       "    </tr>\n",
       "    <tr>\n",
       "      <th>15.0</th>\n",
       "      <td>3301.700067</td>\n",
       "      <td>19672.903918</td>\n",
       "      <td>16371.203851</td>\n",
       "      <td>13503.352212</td>\n",
       "      <td>121530.169904</td>\n",
       "      <td>11035.887420</td>\n",
       "      <td>16500</td>\n",
       "      <td>7500</td>\n",
       "      <td>164000</td>\n",
       "      <td>13666.666667</td>\n",
       "    </tr>\n",
       "    <tr>\n",
       "      <th>20.0</th>\n",
       "      <td>5668.231494</td>\n",
       "      <td>19672.903918</td>\n",
       "      <td>14004.672424</td>\n",
       "      <td>13503.352212</td>\n",
       "      <td>121530.169904</td>\n",
       "      <td>11035.887420</td>\n",
       "      <td>16500</td>\n",
       "      <td>7500</td>\n",
       "      <td>164000</td>\n",
       "      <td>13666.666667</td>\n",
       "    </tr>\n",
       "    <tr>\n",
       "      <th>25.0</th>\n",
       "      <td>8853.302509</td>\n",
       "      <td>21359.226691</td>\n",
       "      <td>12505.924182</td>\n",
       "      <td>13503.352212</td>\n",
       "      <td>121530.169904</td>\n",
       "      <td>11035.887420</td>\n",
       "      <td>16500</td>\n",
       "      <td>7500</td>\n",
       "      <td>164000</td>\n",
       "      <td>13666.666667</td>\n",
       "    </tr>\n",
       "  </tbody>\n",
       "</table>\n",
       "</div>"
      ],
      "text/plain": [
       "      Shortest Journey  Longest Journey         Delta  Mean Journey  \\\n",
       "P                                                                     \n",
       "0.1        4951.749402     17926.447366  12974.697964  11606.912769   \n",
       "0.2        4951.749402     17987.509111  13035.759709  11628.640158   \n",
       "0.5        5080.364443     20518.233516  15437.869073  12868.096745   \n",
       "1.0        4936.775844     22345.180037  17408.404193  12868.096745   \n",
       "2.0        4951.749402     19672.903918  14721.154516  12868.096745   \n",
       "5.0        5011.278901     20518.233516  15506.954615  12868.096745   \n",
       "10.0       4936.775844     20903.764502  15966.988658  12868.096745   \n",
       "15.0       3301.700067     19672.903918  16371.203851  13503.352212   \n",
       "20.0       5668.231494     19672.903918  14004.672424  13503.352212   \n",
       "25.0       8853.302509     21359.226691  12505.924182  13503.352212   \n",
       "\n",
       "       Total Travel   Longest Leg  Lowest # Spectators  Highest # Spectators  \\\n",
       "P                                                                              \n",
       "0.1   104462.214923   8944.363016                16000                  2500   \n",
       "0.2   104657.761421   9149.200410                16000                  2500   \n",
       "0.5   115812.870705  11035.887420                16500                  7500   \n",
       "1.0   115812.870705  11035.887420                16500                  7500   \n",
       "2.0   115812.870705  11035.887420                16500                  7500   \n",
       "5.0   115812.870705  11035.887420                16500                  7500   \n",
       "10.0  115812.870705  11035.887420                16500                  7500   \n",
       "15.0  121530.169904  11035.887420                16500                  7500   \n",
       "20.0  121530.169904  11035.887420                16500                  7500   \n",
       "25.0  121530.169904  11035.887420                16500                  7500   \n",
       "\n",
       "      Total # Spectators  Mean # Spectators  \n",
       "P                                            \n",
       "0.1               136000       11333.333333  \n",
       "0.2               137500       11458.333333  \n",
       "0.5               163500       13625.000000  \n",
       "1.0               163500       13625.000000  \n",
       "2.0               163500       13625.000000  \n",
       "5.0               163500       13625.000000  \n",
       "10.0              163500       13625.000000  \n",
       "15.0              164000       13666.666667  \n",
       "20.0              164000       13666.666667  \n",
       "25.0              164000       13666.666667  "
      ]
     },
     "execution_count": 86,
     "metadata": {},
     "output_type": "execute_result"
    }
   ],
   "source": [
    "df_gkpis"
   ]
  },
  {
   "cell_type": "code",
   "execution_count": 87,
   "metadata": {},
   "outputs": [
    {
     "data": {
      "application/vnd.plotly.v1+json": {
       "config": {
        "linkText": "Export to plot.ly",
        "plotlyServerURL": "https://plot.ly",
        "showLink": true
       },
       "data": [
        {
         "line": {
          "color": "rgba(255, 153, 51, 1.0)",
          "dash": "solid",
          "shape": "linear",
          "width": 1.3
         },
         "marker": {
          "size": 12,
          "symbol": "circle"
         },
         "mode": "markers",
         "name": "Total Travel",
         "text": "",
         "type": "scatter",
         "x": [
          136000,
          137500,
          163500,
          163500,
          163500,
          163500,
          163500,
          164000,
          164000,
          164000
         ],
         "y": [
          104462.2149234,
          104657.76142139999,
          115812.87070459999,
          115812.87070459999,
          115812.8707046,
          115812.87070459999,
          115812.8707046,
          121530.1699036,
          121530.1699036,
          121530.16990359999
         ]
        }
       ],
       "layout": {
        "legend": {
         "bgcolor": "#F5F6F9",
         "font": {
          "color": "#4D5663"
         }
        },
        "paper_bgcolor": "#F5F6F9",
        "plot_bgcolor": "#F5F6F9",
        "template": {
         "data": {
          "bar": [
           {
            "error_x": {
             "color": "#2a3f5f"
            },
            "error_y": {
             "color": "#2a3f5f"
            },
            "marker": {
             "line": {
              "color": "#E5ECF6",
              "width": 0.5
             }
            },
            "type": "bar"
           }
          ],
          "barpolar": [
           {
            "marker": {
             "line": {
              "color": "#E5ECF6",
              "width": 0.5
             }
            },
            "type": "barpolar"
           }
          ],
          "carpet": [
           {
            "aaxis": {
             "endlinecolor": "#2a3f5f",
             "gridcolor": "white",
             "linecolor": "white",
             "minorgridcolor": "white",
             "startlinecolor": "#2a3f5f"
            },
            "baxis": {
             "endlinecolor": "#2a3f5f",
             "gridcolor": "white",
             "linecolor": "white",
             "minorgridcolor": "white",
             "startlinecolor": "#2a3f5f"
            },
            "type": "carpet"
           }
          ],
          "choropleth": [
           {
            "colorbar": {
             "outlinewidth": 0,
             "ticks": ""
            },
            "type": "choropleth"
           }
          ],
          "contour": [
           {
            "colorbar": {
             "outlinewidth": 0,
             "ticks": ""
            },
            "colorscale": [
             [
              0,
              "#0d0887"
             ],
             [
              0.1111111111111111,
              "#46039f"
             ],
             [
              0.2222222222222222,
              "#7201a8"
             ],
             [
              0.3333333333333333,
              "#9c179e"
             ],
             [
              0.4444444444444444,
              "#bd3786"
             ],
             [
              0.5555555555555556,
              "#d8576b"
             ],
             [
              0.6666666666666666,
              "#ed7953"
             ],
             [
              0.7777777777777778,
              "#fb9f3a"
             ],
             [
              0.8888888888888888,
              "#fdca26"
             ],
             [
              1,
              "#f0f921"
             ]
            ],
            "type": "contour"
           }
          ],
          "contourcarpet": [
           {
            "colorbar": {
             "outlinewidth": 0,
             "ticks": ""
            },
            "type": "contourcarpet"
           }
          ],
          "heatmap": [
           {
            "colorbar": {
             "outlinewidth": 0,
             "ticks": ""
            },
            "colorscale": [
             [
              0,
              "#0d0887"
             ],
             [
              0.1111111111111111,
              "#46039f"
             ],
             [
              0.2222222222222222,
              "#7201a8"
             ],
             [
              0.3333333333333333,
              "#9c179e"
             ],
             [
              0.4444444444444444,
              "#bd3786"
             ],
             [
              0.5555555555555556,
              "#d8576b"
             ],
             [
              0.6666666666666666,
              "#ed7953"
             ],
             [
              0.7777777777777778,
              "#fb9f3a"
             ],
             [
              0.8888888888888888,
              "#fdca26"
             ],
             [
              1,
              "#f0f921"
             ]
            ],
            "type": "heatmap"
           }
          ],
          "heatmapgl": [
           {
            "colorbar": {
             "outlinewidth": 0,
             "ticks": ""
            },
            "colorscale": [
             [
              0,
              "#0d0887"
             ],
             [
              0.1111111111111111,
              "#46039f"
             ],
             [
              0.2222222222222222,
              "#7201a8"
             ],
             [
              0.3333333333333333,
              "#9c179e"
             ],
             [
              0.4444444444444444,
              "#bd3786"
             ],
             [
              0.5555555555555556,
              "#d8576b"
             ],
             [
              0.6666666666666666,
              "#ed7953"
             ],
             [
              0.7777777777777778,
              "#fb9f3a"
             ],
             [
              0.8888888888888888,
              "#fdca26"
             ],
             [
              1,
              "#f0f921"
             ]
            ],
            "type": "heatmapgl"
           }
          ],
          "histogram": [
           {
            "marker": {
             "colorbar": {
              "outlinewidth": 0,
              "ticks": ""
             }
            },
            "type": "histogram"
           }
          ],
          "histogram2d": [
           {
            "colorbar": {
             "outlinewidth": 0,
             "ticks": ""
            },
            "colorscale": [
             [
              0,
              "#0d0887"
             ],
             [
              0.1111111111111111,
              "#46039f"
             ],
             [
              0.2222222222222222,
              "#7201a8"
             ],
             [
              0.3333333333333333,
              "#9c179e"
             ],
             [
              0.4444444444444444,
              "#bd3786"
             ],
             [
              0.5555555555555556,
              "#d8576b"
             ],
             [
              0.6666666666666666,
              "#ed7953"
             ],
             [
              0.7777777777777778,
              "#fb9f3a"
             ],
             [
              0.8888888888888888,
              "#fdca26"
             ],
             [
              1,
              "#f0f921"
             ]
            ],
            "type": "histogram2d"
           }
          ],
          "histogram2dcontour": [
           {
            "colorbar": {
             "outlinewidth": 0,
             "ticks": ""
            },
            "colorscale": [
             [
              0,
              "#0d0887"
             ],
             [
              0.1111111111111111,
              "#46039f"
             ],
             [
              0.2222222222222222,
              "#7201a8"
             ],
             [
              0.3333333333333333,
              "#9c179e"
             ],
             [
              0.4444444444444444,
              "#bd3786"
             ],
             [
              0.5555555555555556,
              "#d8576b"
             ],
             [
              0.6666666666666666,
              "#ed7953"
             ],
             [
              0.7777777777777778,
              "#fb9f3a"
             ],
             [
              0.8888888888888888,
              "#fdca26"
             ],
             [
              1,
              "#f0f921"
             ]
            ],
            "type": "histogram2dcontour"
           }
          ],
          "mesh3d": [
           {
            "colorbar": {
             "outlinewidth": 0,
             "ticks": ""
            },
            "type": "mesh3d"
           }
          ],
          "parcoords": [
           {
            "line": {
             "colorbar": {
              "outlinewidth": 0,
              "ticks": ""
             }
            },
            "type": "parcoords"
           }
          ],
          "pie": [
           {
            "automargin": true,
            "type": "pie"
           }
          ],
          "scatter": [
           {
            "marker": {
             "colorbar": {
              "outlinewidth": 0,
              "ticks": ""
             }
            },
            "type": "scatter"
           }
          ],
          "scatter3d": [
           {
            "line": {
             "colorbar": {
              "outlinewidth": 0,
              "ticks": ""
             }
            },
            "marker": {
             "colorbar": {
              "outlinewidth": 0,
              "ticks": ""
             }
            },
            "type": "scatter3d"
           }
          ],
          "scattercarpet": [
           {
            "marker": {
             "colorbar": {
              "outlinewidth": 0,
              "ticks": ""
             }
            },
            "type": "scattercarpet"
           }
          ],
          "scattergeo": [
           {
            "marker": {
             "colorbar": {
              "outlinewidth": 0,
              "ticks": ""
             }
            },
            "type": "scattergeo"
           }
          ],
          "scattergl": [
           {
            "marker": {
             "colorbar": {
              "outlinewidth": 0,
              "ticks": ""
             }
            },
            "type": "scattergl"
           }
          ],
          "scattermapbox": [
           {
            "marker": {
             "colorbar": {
              "outlinewidth": 0,
              "ticks": ""
             }
            },
            "type": "scattermapbox"
           }
          ],
          "scatterpolar": [
           {
            "marker": {
             "colorbar": {
              "outlinewidth": 0,
              "ticks": ""
             }
            },
            "type": "scatterpolar"
           }
          ],
          "scatterpolargl": [
           {
            "marker": {
             "colorbar": {
              "outlinewidth": 0,
              "ticks": ""
             }
            },
            "type": "scatterpolargl"
           }
          ],
          "scatterternary": [
           {
            "marker": {
             "colorbar": {
              "outlinewidth": 0,
              "ticks": ""
             }
            },
            "type": "scatterternary"
           }
          ],
          "surface": [
           {
            "colorbar": {
             "outlinewidth": 0,
             "ticks": ""
            },
            "colorscale": [
             [
              0,
              "#0d0887"
             ],
             [
              0.1111111111111111,
              "#46039f"
             ],
             [
              0.2222222222222222,
              "#7201a8"
             ],
             [
              0.3333333333333333,
              "#9c179e"
             ],
             [
              0.4444444444444444,
              "#bd3786"
             ],
             [
              0.5555555555555556,
              "#d8576b"
             ],
             [
              0.6666666666666666,
              "#ed7953"
             ],
             [
              0.7777777777777778,
              "#fb9f3a"
             ],
             [
              0.8888888888888888,
              "#fdca26"
             ],
             [
              1,
              "#f0f921"
             ]
            ],
            "type": "surface"
           }
          ],
          "table": [
           {
            "cells": {
             "fill": {
              "color": "#EBF0F8"
             },
             "line": {
              "color": "white"
             }
            },
            "header": {
             "fill": {
              "color": "#C8D4E3"
             },
             "line": {
              "color": "white"
             }
            },
            "type": "table"
           }
          ]
         },
         "layout": {
          "annotationdefaults": {
           "arrowcolor": "#2a3f5f",
           "arrowhead": 0,
           "arrowwidth": 1
          },
          "coloraxis": {
           "colorbar": {
            "outlinewidth": 0,
            "ticks": ""
           }
          },
          "colorscale": {
           "diverging": [
            [
             0,
             "#8e0152"
            ],
            [
             0.1,
             "#c51b7d"
            ],
            [
             0.2,
             "#de77ae"
            ],
            [
             0.3,
             "#f1b6da"
            ],
            [
             0.4,
             "#fde0ef"
            ],
            [
             0.5,
             "#f7f7f7"
            ],
            [
             0.6,
             "#e6f5d0"
            ],
            [
             0.7,
             "#b8e186"
            ],
            [
             0.8,
             "#7fbc41"
            ],
            [
             0.9,
             "#4d9221"
            ],
            [
             1,
             "#276419"
            ]
           ],
           "sequential": [
            [
             0,
             "#0d0887"
            ],
            [
             0.1111111111111111,
             "#46039f"
            ],
            [
             0.2222222222222222,
             "#7201a8"
            ],
            [
             0.3333333333333333,
             "#9c179e"
            ],
            [
             0.4444444444444444,
             "#bd3786"
            ],
            [
             0.5555555555555556,
             "#d8576b"
            ],
            [
             0.6666666666666666,
             "#ed7953"
            ],
            [
             0.7777777777777778,
             "#fb9f3a"
            ],
            [
             0.8888888888888888,
             "#fdca26"
            ],
            [
             1,
             "#f0f921"
            ]
           ],
           "sequentialminus": [
            [
             0,
             "#0d0887"
            ],
            [
             0.1111111111111111,
             "#46039f"
            ],
            [
             0.2222222222222222,
             "#7201a8"
            ],
            [
             0.3333333333333333,
             "#9c179e"
            ],
            [
             0.4444444444444444,
             "#bd3786"
            ],
            [
             0.5555555555555556,
             "#d8576b"
            ],
            [
             0.6666666666666666,
             "#ed7953"
            ],
            [
             0.7777777777777778,
             "#fb9f3a"
            ],
            [
             0.8888888888888888,
             "#fdca26"
            ],
            [
             1,
             "#f0f921"
            ]
           ]
          },
          "colorway": [
           "#636efa",
           "#EF553B",
           "#00cc96",
           "#ab63fa",
           "#FFA15A",
           "#19d3f3",
           "#FF6692",
           "#B6E880",
           "#FF97FF",
           "#FECB52"
          ],
          "font": {
           "color": "#2a3f5f"
          },
          "geo": {
           "bgcolor": "white",
           "lakecolor": "white",
           "landcolor": "#E5ECF6",
           "showlakes": true,
           "showland": true,
           "subunitcolor": "white"
          },
          "hoverlabel": {
           "align": "left"
          },
          "hovermode": "closest",
          "mapbox": {
           "style": "light"
          },
          "paper_bgcolor": "white",
          "plot_bgcolor": "#E5ECF6",
          "polar": {
           "angularaxis": {
            "gridcolor": "white",
            "linecolor": "white",
            "ticks": ""
           },
           "bgcolor": "#E5ECF6",
           "radialaxis": {
            "gridcolor": "white",
            "linecolor": "white",
            "ticks": ""
           }
          },
          "scene": {
           "xaxis": {
            "backgroundcolor": "#E5ECF6",
            "gridcolor": "white",
            "gridwidth": 2,
            "linecolor": "white",
            "showbackground": true,
            "ticks": "",
            "zerolinecolor": "white"
           },
           "yaxis": {
            "backgroundcolor": "#E5ECF6",
            "gridcolor": "white",
            "gridwidth": 2,
            "linecolor": "white",
            "showbackground": true,
            "ticks": "",
            "zerolinecolor": "white"
           },
           "zaxis": {
            "backgroundcolor": "#E5ECF6",
            "gridcolor": "white",
            "gridwidth": 2,
            "linecolor": "white",
            "showbackground": true,
            "ticks": "",
            "zerolinecolor": "white"
           }
          },
          "shapedefaults": {
           "line": {
            "color": "#2a3f5f"
           }
          },
          "ternary": {
           "aaxis": {
            "gridcolor": "white",
            "linecolor": "white",
            "ticks": ""
           },
           "baxis": {
            "gridcolor": "white",
            "linecolor": "white",
            "ticks": ""
           },
           "bgcolor": "#E5ECF6",
           "caxis": {
            "gridcolor": "white",
            "linecolor": "white",
            "ticks": ""
           }
          },
          "title": {
           "x": 0.05
          },
          "xaxis": {
           "automargin": true,
           "gridcolor": "white",
           "linecolor": "white",
           "ticks": "",
           "title": {
            "standoff": 15
           },
           "zerolinecolor": "white",
           "zerolinewidth": 2
          },
          "yaxis": {
           "automargin": true,
           "gridcolor": "white",
           "linecolor": "white",
           "ticks": "",
           "title": {
            "standoff": 15
           },
           "zerolinecolor": "white",
           "zerolinewidth": 2
          }
         }
        },
        "title": {
         "font": {
          "color": "#4D5663"
         }
        },
        "xaxis": {
         "gridcolor": "#E1E5ED",
         "showgrid": true,
         "tickfont": {
          "color": "#4D5663"
         },
         "title": {
          "font": {
           "color": "#4D5663"
          },
          "text": "Total # Spectators"
         },
         "zerolinecolor": "#E1E5ED"
        },
        "yaxis": {
         "gridcolor": "#E1E5ED",
         "showgrid": true,
         "tickfont": {
          "color": "#4D5663"
         },
         "title": {
          "font": {
           "color": "#4D5663"
          },
          "text": "Total Travelled Distance"
         },
         "zerolinecolor": "#E1E5ED"
        }
       }
      },
      "text/html": [
       "<div>\n",
       "        \n",
       "        \n",
       "            <div id=\"f9d14794-cb33-43a0-a8a9-9839b7b29193\" class=\"plotly-graph-div\" style=\"height:525px; width:100%;\"></div>\n",
       "            <script type=\"text/javascript\">\n",
       "                require([\"plotly\"], function(Plotly) {\n",
       "                    window.PLOTLYENV=window.PLOTLYENV || {};\n",
       "                    window.PLOTLYENV.BASE_URL='https://plot.ly';\n",
       "                    \n",
       "                if (document.getElementById(\"f9d14794-cb33-43a0-a8a9-9839b7b29193\")) {\n",
       "                    Plotly.newPlot(\n",
       "                        'f9d14794-cb33-43a0-a8a9-9839b7b29193',\n",
       "                        [{\"line\": {\"color\": \"rgba(255, 153, 51, 1.0)\", \"dash\": \"solid\", \"shape\": \"linear\", \"width\": 1.3}, \"marker\": {\"size\": 12, \"symbol\": \"circle\"}, \"mode\": \"markers\", \"name\": \"Total Travel\", \"text\": \"\", \"type\": \"scatter\", \"x\": [136000, 137500, 163500, 163500, 163500, 163500, 163500, 164000, 164000, 164000], \"y\": [104462.2149234, 104657.76142139999, 115812.87070459999, 115812.87070459999, 115812.8707046, 115812.87070459999, 115812.8707046, 121530.1699036, 121530.1699036, 121530.16990359999]}],\n",
       "                        {\"legend\": {\"bgcolor\": \"#F5F6F9\", \"font\": {\"color\": \"#4D5663\"}}, \"paper_bgcolor\": \"#F5F6F9\", \"plot_bgcolor\": \"#F5F6F9\", \"template\": {\"data\": {\"bar\": [{\"error_x\": {\"color\": \"#2a3f5f\"}, \"error_y\": {\"color\": \"#2a3f5f\"}, \"marker\": {\"line\": {\"color\": \"#E5ECF6\", \"width\": 0.5}}, \"type\": \"bar\"}], \"barpolar\": [{\"marker\": {\"line\": {\"color\": \"#E5ECF6\", \"width\": 0.5}}, \"type\": \"barpolar\"}], \"carpet\": [{\"aaxis\": {\"endlinecolor\": \"#2a3f5f\", \"gridcolor\": \"white\", \"linecolor\": \"white\", \"minorgridcolor\": \"white\", \"startlinecolor\": \"#2a3f5f\"}, \"baxis\": {\"endlinecolor\": \"#2a3f5f\", \"gridcolor\": \"white\", \"linecolor\": \"white\", \"minorgridcolor\": \"white\", \"startlinecolor\": \"#2a3f5f\"}, \"type\": \"carpet\"}], \"choropleth\": [{\"colorbar\": {\"outlinewidth\": 0, \"ticks\": \"\"}, \"type\": \"choropleth\"}], \"contour\": [{\"colorbar\": {\"outlinewidth\": 0, \"ticks\": \"\"}, \"colorscale\": [[0.0, \"#0d0887\"], [0.1111111111111111, \"#46039f\"], [0.2222222222222222, \"#7201a8\"], [0.3333333333333333, \"#9c179e\"], [0.4444444444444444, \"#bd3786\"], [0.5555555555555556, \"#d8576b\"], [0.6666666666666666, \"#ed7953\"], [0.7777777777777778, \"#fb9f3a\"], [0.8888888888888888, \"#fdca26\"], [1.0, \"#f0f921\"]], \"type\": \"contour\"}], \"contourcarpet\": [{\"colorbar\": {\"outlinewidth\": 0, \"ticks\": \"\"}, \"type\": \"contourcarpet\"}], \"heatmap\": [{\"colorbar\": {\"outlinewidth\": 0, \"ticks\": \"\"}, \"colorscale\": [[0.0, \"#0d0887\"], [0.1111111111111111, \"#46039f\"], [0.2222222222222222, \"#7201a8\"], [0.3333333333333333, \"#9c179e\"], [0.4444444444444444, \"#bd3786\"], [0.5555555555555556, \"#d8576b\"], [0.6666666666666666, \"#ed7953\"], [0.7777777777777778, \"#fb9f3a\"], [0.8888888888888888, \"#fdca26\"], [1.0, \"#f0f921\"]], \"type\": \"heatmap\"}], \"heatmapgl\": [{\"colorbar\": {\"outlinewidth\": 0, \"ticks\": \"\"}, \"colorscale\": [[0.0, \"#0d0887\"], [0.1111111111111111, \"#46039f\"], [0.2222222222222222, \"#7201a8\"], [0.3333333333333333, \"#9c179e\"], [0.4444444444444444, \"#bd3786\"], [0.5555555555555556, \"#d8576b\"], [0.6666666666666666, \"#ed7953\"], [0.7777777777777778, \"#fb9f3a\"], [0.8888888888888888, \"#fdca26\"], [1.0, \"#f0f921\"]], \"type\": \"heatmapgl\"}], \"histogram\": [{\"marker\": {\"colorbar\": {\"outlinewidth\": 0, \"ticks\": \"\"}}, \"type\": \"histogram\"}], \"histogram2d\": [{\"colorbar\": {\"outlinewidth\": 0, \"ticks\": \"\"}, \"colorscale\": [[0.0, \"#0d0887\"], [0.1111111111111111, \"#46039f\"], [0.2222222222222222, \"#7201a8\"], [0.3333333333333333, \"#9c179e\"], [0.4444444444444444, \"#bd3786\"], [0.5555555555555556, \"#d8576b\"], [0.6666666666666666, \"#ed7953\"], [0.7777777777777778, \"#fb9f3a\"], [0.8888888888888888, \"#fdca26\"], [1.0, \"#f0f921\"]], \"type\": \"histogram2d\"}], \"histogram2dcontour\": [{\"colorbar\": {\"outlinewidth\": 0, \"ticks\": \"\"}, \"colorscale\": [[0.0, \"#0d0887\"], [0.1111111111111111, \"#46039f\"], [0.2222222222222222, \"#7201a8\"], [0.3333333333333333, \"#9c179e\"], [0.4444444444444444, \"#bd3786\"], [0.5555555555555556, \"#d8576b\"], [0.6666666666666666, \"#ed7953\"], [0.7777777777777778, \"#fb9f3a\"], [0.8888888888888888, \"#fdca26\"], [1.0, \"#f0f921\"]], \"type\": \"histogram2dcontour\"}], \"mesh3d\": [{\"colorbar\": {\"outlinewidth\": 0, \"ticks\": \"\"}, \"type\": \"mesh3d\"}], \"parcoords\": [{\"line\": {\"colorbar\": {\"outlinewidth\": 0, \"ticks\": \"\"}}, \"type\": \"parcoords\"}], \"pie\": [{\"automargin\": true, \"type\": \"pie\"}], \"scatter\": [{\"marker\": {\"colorbar\": {\"outlinewidth\": 0, \"ticks\": \"\"}}, \"type\": \"scatter\"}], \"scatter3d\": [{\"line\": {\"colorbar\": {\"outlinewidth\": 0, \"ticks\": \"\"}}, \"marker\": {\"colorbar\": {\"outlinewidth\": 0, \"ticks\": \"\"}}, \"type\": \"scatter3d\"}], \"scattercarpet\": [{\"marker\": {\"colorbar\": {\"outlinewidth\": 0, \"ticks\": \"\"}}, \"type\": \"scattercarpet\"}], \"scattergeo\": [{\"marker\": {\"colorbar\": {\"outlinewidth\": 0, \"ticks\": \"\"}}, \"type\": \"scattergeo\"}], \"scattergl\": [{\"marker\": {\"colorbar\": {\"outlinewidth\": 0, \"ticks\": \"\"}}, \"type\": \"scattergl\"}], \"scattermapbox\": [{\"marker\": {\"colorbar\": {\"outlinewidth\": 0, \"ticks\": \"\"}}, \"type\": \"scattermapbox\"}], \"scatterpolar\": [{\"marker\": {\"colorbar\": {\"outlinewidth\": 0, \"ticks\": \"\"}}, \"type\": \"scatterpolar\"}], \"scatterpolargl\": [{\"marker\": {\"colorbar\": {\"outlinewidth\": 0, \"ticks\": \"\"}}, \"type\": \"scatterpolargl\"}], \"scatterternary\": [{\"marker\": {\"colorbar\": {\"outlinewidth\": 0, \"ticks\": \"\"}}, \"type\": \"scatterternary\"}], \"surface\": [{\"colorbar\": {\"outlinewidth\": 0, \"ticks\": \"\"}, \"colorscale\": [[0.0, \"#0d0887\"], [0.1111111111111111, \"#46039f\"], [0.2222222222222222, \"#7201a8\"], [0.3333333333333333, \"#9c179e\"], [0.4444444444444444, \"#bd3786\"], [0.5555555555555556, \"#d8576b\"], [0.6666666666666666, \"#ed7953\"], [0.7777777777777778, \"#fb9f3a\"], [0.8888888888888888, \"#fdca26\"], [1.0, \"#f0f921\"]], \"type\": \"surface\"}], \"table\": [{\"cells\": {\"fill\": {\"color\": \"#EBF0F8\"}, \"line\": {\"color\": \"white\"}}, \"header\": {\"fill\": {\"color\": \"#C8D4E3\"}, \"line\": {\"color\": \"white\"}}, \"type\": \"table\"}]}, \"layout\": {\"annotationdefaults\": {\"arrowcolor\": \"#2a3f5f\", \"arrowhead\": 0, \"arrowwidth\": 1}, \"coloraxis\": {\"colorbar\": {\"outlinewidth\": 0, \"ticks\": \"\"}}, \"colorscale\": {\"diverging\": [[0, \"#8e0152\"], [0.1, \"#c51b7d\"], [0.2, \"#de77ae\"], [0.3, \"#f1b6da\"], [0.4, \"#fde0ef\"], [0.5, \"#f7f7f7\"], [0.6, \"#e6f5d0\"], [0.7, \"#b8e186\"], [0.8, \"#7fbc41\"], [0.9, \"#4d9221\"], [1, \"#276419\"]], \"sequential\": [[0.0, \"#0d0887\"], [0.1111111111111111, \"#46039f\"], [0.2222222222222222, \"#7201a8\"], [0.3333333333333333, \"#9c179e\"], [0.4444444444444444, \"#bd3786\"], [0.5555555555555556, \"#d8576b\"], [0.6666666666666666, \"#ed7953\"], [0.7777777777777778, \"#fb9f3a\"], [0.8888888888888888, \"#fdca26\"], [1.0, \"#f0f921\"]], \"sequentialminus\": [[0.0, \"#0d0887\"], [0.1111111111111111, \"#46039f\"], [0.2222222222222222, \"#7201a8\"], [0.3333333333333333, \"#9c179e\"], [0.4444444444444444, \"#bd3786\"], [0.5555555555555556, \"#d8576b\"], [0.6666666666666666, \"#ed7953\"], [0.7777777777777778, \"#fb9f3a\"], [0.8888888888888888, \"#fdca26\"], [1.0, \"#f0f921\"]]}, \"colorway\": [\"#636efa\", \"#EF553B\", \"#00cc96\", \"#ab63fa\", \"#FFA15A\", \"#19d3f3\", \"#FF6692\", \"#B6E880\", \"#FF97FF\", \"#FECB52\"], \"font\": {\"color\": \"#2a3f5f\"}, \"geo\": {\"bgcolor\": \"white\", \"lakecolor\": \"white\", \"landcolor\": \"#E5ECF6\", \"showlakes\": true, \"showland\": true, \"subunitcolor\": \"white\"}, \"hoverlabel\": {\"align\": \"left\"}, \"hovermode\": \"closest\", \"mapbox\": {\"style\": \"light\"}, \"paper_bgcolor\": \"white\", \"plot_bgcolor\": \"#E5ECF6\", \"polar\": {\"angularaxis\": {\"gridcolor\": \"white\", \"linecolor\": \"white\", \"ticks\": \"\"}, \"bgcolor\": \"#E5ECF6\", \"radialaxis\": {\"gridcolor\": \"white\", \"linecolor\": \"white\", \"ticks\": \"\"}}, \"scene\": {\"xaxis\": {\"backgroundcolor\": \"#E5ECF6\", \"gridcolor\": \"white\", \"gridwidth\": 2, \"linecolor\": \"white\", \"showbackground\": true, \"ticks\": \"\", \"zerolinecolor\": \"white\"}, \"yaxis\": {\"backgroundcolor\": \"#E5ECF6\", \"gridcolor\": \"white\", \"gridwidth\": 2, \"linecolor\": \"white\", \"showbackground\": true, \"ticks\": \"\", \"zerolinecolor\": \"white\"}, \"zaxis\": {\"backgroundcolor\": \"#E5ECF6\", \"gridcolor\": \"white\", \"gridwidth\": 2, \"linecolor\": \"white\", \"showbackground\": true, \"ticks\": \"\", \"zerolinecolor\": \"white\"}}, \"shapedefaults\": {\"line\": {\"color\": \"#2a3f5f\"}}, \"ternary\": {\"aaxis\": {\"gridcolor\": \"white\", \"linecolor\": \"white\", \"ticks\": \"\"}, \"baxis\": {\"gridcolor\": \"white\", \"linecolor\": \"white\", \"ticks\": \"\"}, \"bgcolor\": \"#E5ECF6\", \"caxis\": {\"gridcolor\": \"white\", \"linecolor\": \"white\", \"ticks\": \"\"}}, \"title\": {\"x\": 0.05}, \"xaxis\": {\"automargin\": true, \"gridcolor\": \"white\", \"linecolor\": \"white\", \"ticks\": \"\", \"title\": {\"standoff\": 15}, \"zerolinecolor\": \"white\", \"zerolinewidth\": 2}, \"yaxis\": {\"automargin\": true, \"gridcolor\": \"white\", \"linecolor\": \"white\", \"ticks\": \"\", \"title\": {\"standoff\": 15}, \"zerolinecolor\": \"white\", \"zerolinewidth\": 2}}}, \"title\": {\"font\": {\"color\": \"#4D5663\"}}, \"xaxis\": {\"gridcolor\": \"#E1E5ED\", \"showgrid\": true, \"tickfont\": {\"color\": \"#4D5663\"}, \"title\": {\"font\": {\"color\": \"#4D5663\"}, \"text\": \"Total # Spectators\"}, \"zerolinecolor\": \"#E1E5ED\"}, \"yaxis\": {\"gridcolor\": \"#E1E5ED\", \"showgrid\": true, \"tickfont\": {\"color\": \"#4D5663\"}, \"title\": {\"font\": {\"color\": \"#4D5663\"}, \"text\": \"Total Travelled Distance\"}, \"zerolinecolor\": \"#E1E5ED\"}},\n",
       "                        {\"showLink\": true, \"linkText\": \"Export to plot.ly\", \"plotlyServerURL\": \"https://plot.ly\", \"responsive\": true}\n",
       "                    ).then(function(){\n",
       "                            \n",
       "var gd = document.getElementById('f9d14794-cb33-43a0-a8a9-9839b7b29193');\n",
       "var x = new MutationObserver(function (mutations, observer) {{\n",
       "        var display = window.getComputedStyle(gd).display;\n",
       "        if (!display || display === 'none') {{\n",
       "            console.log([gd, 'removed!']);\n",
       "            Plotly.purge(gd);\n",
       "            observer.disconnect();\n",
       "        }}\n",
       "}});\n",
       "\n",
       "// Listen for the removal of the full notebook cells\n",
       "var notebookContainer = gd.closest('#notebook-container');\n",
       "if (notebookContainer) {{\n",
       "    x.observe(notebookContainer, {childList: true});\n",
       "}}\n",
       "\n",
       "// Listen for the clearing of the current output cell\n",
       "var outputEl = gd.closest('.output');\n",
       "if (outputEl) {{\n",
       "    x.observe(outputEl, {childList: true});\n",
       "}}\n",
       "\n",
       "                        })\n",
       "                };\n",
       "                });\n",
       "            </script>\n",
       "        </div>"
      ]
     },
     "metadata": {},
     "output_type": "display_data"
    }
   ],
   "source": [
    "df_gkpis.iplot(kind='scatter',x='Total # Spectators',y='Total Travel', mode='markers',\n",
    "               xTitle='Total # Spectators',yTitle='Total Travelled Distance',)"
   ]
  },
  {
   "cell_type": "code",
   "execution_count": 88,
   "metadata": {},
   "outputs": [
    {
     "data": {
      "application/vnd.plotly.v1+json": {
       "config": {
        "plotlyServerURL": "https://plot.ly"
       },
       "data": [
        {
         "hoverlabel": {
          "namelength": 0
         },
         "hovertemplate": "Total # Spectators=%{x}<br>Total Travel=%{y}<br>P=%{marker.color}",
         "legendgroup": "",
         "marker": {
          "color": [
           0.1,
           0.2,
           0.5,
           1,
           2,
           5,
           10,
           15,
           20,
           25
          ],
          "coloraxis": "coloraxis",
          "symbol": "circle"
         },
         "mode": "markers",
         "name": "",
         "showlegend": false,
         "type": "scatter",
         "x": [
          136000,
          137500,
          163500,
          163500,
          163500,
          163500,
          163500,
          164000,
          164000,
          164000
         ],
         "xaxis": "x",
         "y": [
          104462.2149234,
          104657.76142139999,
          115812.87070459999,
          115812.87070459999,
          115812.8707046,
          115812.87070459999,
          115812.8707046,
          121530.1699036,
          121530.1699036,
          121530.16990359999
         ],
         "yaxis": "y"
        },
        {
         "alignmentgroup": "True",
         "bingroup": "x",
         "hoverlabel": {
          "namelength": 0
         },
         "hovertemplate": "Total # Spectators=%{x}<br>count=%{y}",
         "legendgroup": "",
         "marker": {
          "color": "#0d0887"
         },
         "name": "",
         "offsetgroup": "",
         "opacity": 0.5,
         "showlegend": false,
         "type": "histogram",
         "x": [
          136000,
          137500,
          163500,
          163500,
          163500,
          163500,
          163500,
          164000,
          164000,
          164000
         ],
         "xaxis": "x3",
         "yaxis": "y3"
        },
        {
         "alignmentgroup": "True",
         "bingroup": "y",
         "hoverlabel": {
          "namelength": 0
         },
         "hovertemplate": "Total Travel=%{y}<br>count=%{x}",
         "legendgroup": "",
         "marker": {
          "color": "#0d0887"
         },
         "name": "",
         "offsetgroup": "",
         "opacity": 0.5,
         "showlegend": false,
         "type": "histogram",
         "xaxis": "x2",
         "y": [
          104462.2149234,
          104657.76142139999,
          115812.87070459999,
          115812.87070459999,
          115812.8707046,
          115812.87070459999,
          115812.8707046,
          121530.1699036,
          121530.1699036,
          121530.16990359999
         ],
         "yaxis": "y2"
        }
       ],
       "layout": {
        "barmode": "overlay",
        "coloraxis": {
         "colorbar": {
          "title": {
           "text": "P"
          }
         },
         "colorscale": [
          [
           0,
           "#0d0887"
          ],
          [
           0.1111111111111111,
           "#46039f"
          ],
          [
           0.2222222222222222,
           "#7201a8"
          ],
          [
           0.3333333333333333,
           "#9c179e"
          ],
          [
           0.4444444444444444,
           "#bd3786"
          ],
          [
           0.5555555555555556,
           "#d8576b"
          ],
          [
           0.6666666666666666,
           "#ed7953"
          ],
          [
           0.7777777777777778,
           "#fb9f3a"
          ],
          [
           0.8888888888888888,
           "#fdca26"
          ],
          [
           1,
           "#f0f921"
          ]
         ]
        },
        "legend": {
         "tracegroupgap": 0
        },
        "margin": {
         "t": 60
        },
        "template": {
         "data": {
          "bar": [
           {
            "error_x": {
             "color": "#2a3f5f"
            },
            "error_y": {
             "color": "#2a3f5f"
            },
            "marker": {
             "line": {
              "color": "#E5ECF6",
              "width": 0.5
             }
            },
            "type": "bar"
           }
          ],
          "barpolar": [
           {
            "marker": {
             "line": {
              "color": "#E5ECF6",
              "width": 0.5
             }
            },
            "type": "barpolar"
           }
          ],
          "carpet": [
           {
            "aaxis": {
             "endlinecolor": "#2a3f5f",
             "gridcolor": "white",
             "linecolor": "white",
             "minorgridcolor": "white",
             "startlinecolor": "#2a3f5f"
            },
            "baxis": {
             "endlinecolor": "#2a3f5f",
             "gridcolor": "white",
             "linecolor": "white",
             "minorgridcolor": "white",
             "startlinecolor": "#2a3f5f"
            },
            "type": "carpet"
           }
          ],
          "choropleth": [
           {
            "colorbar": {
             "outlinewidth": 0,
             "ticks": ""
            },
            "type": "choropleth"
           }
          ],
          "contour": [
           {
            "colorbar": {
             "outlinewidth": 0,
             "ticks": ""
            },
            "colorscale": [
             [
              0,
              "#0d0887"
             ],
             [
              0.1111111111111111,
              "#46039f"
             ],
             [
              0.2222222222222222,
              "#7201a8"
             ],
             [
              0.3333333333333333,
              "#9c179e"
             ],
             [
              0.4444444444444444,
              "#bd3786"
             ],
             [
              0.5555555555555556,
              "#d8576b"
             ],
             [
              0.6666666666666666,
              "#ed7953"
             ],
             [
              0.7777777777777778,
              "#fb9f3a"
             ],
             [
              0.8888888888888888,
              "#fdca26"
             ],
             [
              1,
              "#f0f921"
             ]
            ],
            "type": "contour"
           }
          ],
          "contourcarpet": [
           {
            "colorbar": {
             "outlinewidth": 0,
             "ticks": ""
            },
            "type": "contourcarpet"
           }
          ],
          "heatmap": [
           {
            "colorbar": {
             "outlinewidth": 0,
             "ticks": ""
            },
            "colorscale": [
             [
              0,
              "#0d0887"
             ],
             [
              0.1111111111111111,
              "#46039f"
             ],
             [
              0.2222222222222222,
              "#7201a8"
             ],
             [
              0.3333333333333333,
              "#9c179e"
             ],
             [
              0.4444444444444444,
              "#bd3786"
             ],
             [
              0.5555555555555556,
              "#d8576b"
             ],
             [
              0.6666666666666666,
              "#ed7953"
             ],
             [
              0.7777777777777778,
              "#fb9f3a"
             ],
             [
              0.8888888888888888,
              "#fdca26"
             ],
             [
              1,
              "#f0f921"
             ]
            ],
            "type": "heatmap"
           }
          ],
          "heatmapgl": [
           {
            "colorbar": {
             "outlinewidth": 0,
             "ticks": ""
            },
            "colorscale": [
             [
              0,
              "#0d0887"
             ],
             [
              0.1111111111111111,
              "#46039f"
             ],
             [
              0.2222222222222222,
              "#7201a8"
             ],
             [
              0.3333333333333333,
              "#9c179e"
             ],
             [
              0.4444444444444444,
              "#bd3786"
             ],
             [
              0.5555555555555556,
              "#d8576b"
             ],
             [
              0.6666666666666666,
              "#ed7953"
             ],
             [
              0.7777777777777778,
              "#fb9f3a"
             ],
             [
              0.8888888888888888,
              "#fdca26"
             ],
             [
              1,
              "#f0f921"
             ]
            ],
            "type": "heatmapgl"
           }
          ],
          "histogram": [
           {
            "marker": {
             "colorbar": {
              "outlinewidth": 0,
              "ticks": ""
             }
            },
            "type": "histogram"
           }
          ],
          "histogram2d": [
           {
            "colorbar": {
             "outlinewidth": 0,
             "ticks": ""
            },
            "colorscale": [
             [
              0,
              "#0d0887"
             ],
             [
              0.1111111111111111,
              "#46039f"
             ],
             [
              0.2222222222222222,
              "#7201a8"
             ],
             [
              0.3333333333333333,
              "#9c179e"
             ],
             [
              0.4444444444444444,
              "#bd3786"
             ],
             [
              0.5555555555555556,
              "#d8576b"
             ],
             [
              0.6666666666666666,
              "#ed7953"
             ],
             [
              0.7777777777777778,
              "#fb9f3a"
             ],
             [
              0.8888888888888888,
              "#fdca26"
             ],
             [
              1,
              "#f0f921"
             ]
            ],
            "type": "histogram2d"
           }
          ],
          "histogram2dcontour": [
           {
            "colorbar": {
             "outlinewidth": 0,
             "ticks": ""
            },
            "colorscale": [
             [
              0,
              "#0d0887"
             ],
             [
              0.1111111111111111,
              "#46039f"
             ],
             [
              0.2222222222222222,
              "#7201a8"
             ],
             [
              0.3333333333333333,
              "#9c179e"
             ],
             [
              0.4444444444444444,
              "#bd3786"
             ],
             [
              0.5555555555555556,
              "#d8576b"
             ],
             [
              0.6666666666666666,
              "#ed7953"
             ],
             [
              0.7777777777777778,
              "#fb9f3a"
             ],
             [
              0.8888888888888888,
              "#fdca26"
             ],
             [
              1,
              "#f0f921"
             ]
            ],
            "type": "histogram2dcontour"
           }
          ],
          "mesh3d": [
           {
            "colorbar": {
             "outlinewidth": 0,
             "ticks": ""
            },
            "type": "mesh3d"
           }
          ],
          "parcoords": [
           {
            "line": {
             "colorbar": {
              "outlinewidth": 0,
              "ticks": ""
             }
            },
            "type": "parcoords"
           }
          ],
          "pie": [
           {
            "automargin": true,
            "type": "pie"
           }
          ],
          "scatter": [
           {
            "marker": {
             "colorbar": {
              "outlinewidth": 0,
              "ticks": ""
             }
            },
            "type": "scatter"
           }
          ],
          "scatter3d": [
           {
            "line": {
             "colorbar": {
              "outlinewidth": 0,
              "ticks": ""
             }
            },
            "marker": {
             "colorbar": {
              "outlinewidth": 0,
              "ticks": ""
             }
            },
            "type": "scatter3d"
           }
          ],
          "scattercarpet": [
           {
            "marker": {
             "colorbar": {
              "outlinewidth": 0,
              "ticks": ""
             }
            },
            "type": "scattercarpet"
           }
          ],
          "scattergeo": [
           {
            "marker": {
             "colorbar": {
              "outlinewidth": 0,
              "ticks": ""
             }
            },
            "type": "scattergeo"
           }
          ],
          "scattergl": [
           {
            "marker": {
             "colorbar": {
              "outlinewidth": 0,
              "ticks": ""
             }
            },
            "type": "scattergl"
           }
          ],
          "scattermapbox": [
           {
            "marker": {
             "colorbar": {
              "outlinewidth": 0,
              "ticks": ""
             }
            },
            "type": "scattermapbox"
           }
          ],
          "scatterpolar": [
           {
            "marker": {
             "colorbar": {
              "outlinewidth": 0,
              "ticks": ""
             }
            },
            "type": "scatterpolar"
           }
          ],
          "scatterpolargl": [
           {
            "marker": {
             "colorbar": {
              "outlinewidth": 0,
              "ticks": ""
             }
            },
            "type": "scatterpolargl"
           }
          ],
          "scatterternary": [
           {
            "marker": {
             "colorbar": {
              "outlinewidth": 0,
              "ticks": ""
             }
            },
            "type": "scatterternary"
           }
          ],
          "surface": [
           {
            "colorbar": {
             "outlinewidth": 0,
             "ticks": ""
            },
            "colorscale": [
             [
              0,
              "#0d0887"
             ],
             [
              0.1111111111111111,
              "#46039f"
             ],
             [
              0.2222222222222222,
              "#7201a8"
             ],
             [
              0.3333333333333333,
              "#9c179e"
             ],
             [
              0.4444444444444444,
              "#bd3786"
             ],
             [
              0.5555555555555556,
              "#d8576b"
             ],
             [
              0.6666666666666666,
              "#ed7953"
             ],
             [
              0.7777777777777778,
              "#fb9f3a"
             ],
             [
              0.8888888888888888,
              "#fdca26"
             ],
             [
              1,
              "#f0f921"
             ]
            ],
            "type": "surface"
           }
          ],
          "table": [
           {
            "cells": {
             "fill": {
              "color": "#EBF0F8"
             },
             "line": {
              "color": "white"
             }
            },
            "header": {
             "fill": {
              "color": "#C8D4E3"
             },
             "line": {
              "color": "white"
             }
            },
            "type": "table"
           }
          ]
         },
         "layout": {
          "annotationdefaults": {
           "arrowcolor": "#2a3f5f",
           "arrowhead": 0,
           "arrowwidth": 1
          },
          "coloraxis": {
           "colorbar": {
            "outlinewidth": 0,
            "ticks": ""
           }
          },
          "colorscale": {
           "diverging": [
            [
             0,
             "#8e0152"
            ],
            [
             0.1,
             "#c51b7d"
            ],
            [
             0.2,
             "#de77ae"
            ],
            [
             0.3,
             "#f1b6da"
            ],
            [
             0.4,
             "#fde0ef"
            ],
            [
             0.5,
             "#f7f7f7"
            ],
            [
             0.6,
             "#e6f5d0"
            ],
            [
             0.7,
             "#b8e186"
            ],
            [
             0.8,
             "#7fbc41"
            ],
            [
             0.9,
             "#4d9221"
            ],
            [
             1,
             "#276419"
            ]
           ],
           "sequential": [
            [
             0,
             "#0d0887"
            ],
            [
             0.1111111111111111,
             "#46039f"
            ],
            [
             0.2222222222222222,
             "#7201a8"
            ],
            [
             0.3333333333333333,
             "#9c179e"
            ],
            [
             0.4444444444444444,
             "#bd3786"
            ],
            [
             0.5555555555555556,
             "#d8576b"
            ],
            [
             0.6666666666666666,
             "#ed7953"
            ],
            [
             0.7777777777777778,
             "#fb9f3a"
            ],
            [
             0.8888888888888888,
             "#fdca26"
            ],
            [
             1,
             "#f0f921"
            ]
           ],
           "sequentialminus": [
            [
             0,
             "#0d0887"
            ],
            [
             0.1111111111111111,
             "#46039f"
            ],
            [
             0.2222222222222222,
             "#7201a8"
            ],
            [
             0.3333333333333333,
             "#9c179e"
            ],
            [
             0.4444444444444444,
             "#bd3786"
            ],
            [
             0.5555555555555556,
             "#d8576b"
            ],
            [
             0.6666666666666666,
             "#ed7953"
            ],
            [
             0.7777777777777778,
             "#fb9f3a"
            ],
            [
             0.8888888888888888,
             "#fdca26"
            ],
            [
             1,
             "#f0f921"
            ]
           ]
          },
          "colorway": [
           "#636efa",
           "#EF553B",
           "#00cc96",
           "#ab63fa",
           "#FFA15A",
           "#19d3f3",
           "#FF6692",
           "#B6E880",
           "#FF97FF",
           "#FECB52"
          ],
          "font": {
           "color": "#2a3f5f"
          },
          "geo": {
           "bgcolor": "white",
           "lakecolor": "white",
           "landcolor": "#E5ECF6",
           "showlakes": true,
           "showland": true,
           "subunitcolor": "white"
          },
          "hoverlabel": {
           "align": "left"
          },
          "hovermode": "closest",
          "mapbox": {
           "style": "light"
          },
          "paper_bgcolor": "white",
          "plot_bgcolor": "#E5ECF6",
          "polar": {
           "angularaxis": {
            "gridcolor": "white",
            "linecolor": "white",
            "ticks": ""
           },
           "bgcolor": "#E5ECF6",
           "radialaxis": {
            "gridcolor": "white",
            "linecolor": "white",
            "ticks": ""
           }
          },
          "scene": {
           "xaxis": {
            "backgroundcolor": "#E5ECF6",
            "gridcolor": "white",
            "gridwidth": 2,
            "linecolor": "white",
            "showbackground": true,
            "ticks": "",
            "zerolinecolor": "white"
           },
           "yaxis": {
            "backgroundcolor": "#E5ECF6",
            "gridcolor": "white",
            "gridwidth": 2,
            "linecolor": "white",
            "showbackground": true,
            "ticks": "",
            "zerolinecolor": "white"
           },
           "zaxis": {
            "backgroundcolor": "#E5ECF6",
            "gridcolor": "white",
            "gridwidth": 2,
            "linecolor": "white",
            "showbackground": true,
            "ticks": "",
            "zerolinecolor": "white"
           }
          },
          "shapedefaults": {
           "line": {
            "color": "#2a3f5f"
           }
          },
          "ternary": {
           "aaxis": {
            "gridcolor": "white",
            "linecolor": "white",
            "ticks": ""
           },
           "baxis": {
            "gridcolor": "white",
            "linecolor": "white",
            "ticks": ""
           },
           "bgcolor": "#E5ECF6",
           "caxis": {
            "gridcolor": "white",
            "linecolor": "white",
            "ticks": ""
           }
          },
          "title": {
           "x": 0.05
          },
          "xaxis": {
           "automargin": true,
           "gridcolor": "white",
           "linecolor": "white",
           "ticks": "",
           "title": {
            "standoff": 15
           },
           "zerolinecolor": "white",
           "zerolinewidth": 2
          },
          "yaxis": {
           "automargin": true,
           "gridcolor": "white",
           "linecolor": "white",
           "ticks": "",
           "title": {
            "standoff": 15
           },
           "zerolinecolor": "white",
           "zerolinewidth": 2
          }
         }
        },
        "xaxis": {
         "anchor": "y",
         "domain": [
          0,
          0.7363
         ],
         "title": {
          "text": "Total # Spectators"
         }
        },
        "xaxis2": {
         "anchor": "y2",
         "domain": [
          0.7413,
          1
         ],
         "matches": "x2",
         "showgrid": true,
         "showline": false,
         "showticklabels": false,
         "ticks": ""
        },
        "xaxis3": {
         "anchor": "y3",
         "domain": [
          0,
          0.7363
         ],
         "matches": "x",
         "showgrid": true,
         "showticklabels": false
        },
        "xaxis4": {
         "anchor": "y4",
         "domain": [
          0.7413,
          1
         ],
         "matches": "x2",
         "showgrid": true,
         "showline": false,
         "showticklabels": false,
         "ticks": ""
        },
        "yaxis": {
         "anchor": "x",
         "domain": [
          0,
          0.7326
         ],
         "title": {
          "text": "Total Travel"
         }
        },
        "yaxis2": {
         "anchor": "x2",
         "domain": [
          0,
          0.7326
         ],
         "matches": "y",
         "showgrid": true,
         "showticklabels": false
        },
        "yaxis3": {
         "anchor": "x3",
         "domain": [
          0.7426,
          1
         ],
         "matches": "y3",
         "showgrid": true,
         "showline": false,
         "showticklabels": false,
         "ticks": ""
        },
        "yaxis4": {
         "anchor": "x4",
         "domain": [
          0.7426,
          1
         ],
         "matches": "y3",
         "showgrid": true,
         "showline": false,
         "showticklabels": false,
         "ticks": ""
        }
       }
      },
      "text/html": [
       "<div>\n",
       "        \n",
       "        \n",
       "            <div id=\"fb55791e-ef69-4990-8a70-e4cf4ec752c7\" class=\"plotly-graph-div\" style=\"height:525px; width:100%;\"></div>\n",
       "            <script type=\"text/javascript\">\n",
       "                require([\"plotly\"], function(Plotly) {\n",
       "                    window.PLOTLYENV=window.PLOTLYENV || {};\n",
       "                    \n",
       "                if (document.getElementById(\"fb55791e-ef69-4990-8a70-e4cf4ec752c7\")) {\n",
       "                    Plotly.newPlot(\n",
       "                        'fb55791e-ef69-4990-8a70-e4cf4ec752c7',\n",
       "                        [{\"hoverlabel\": {\"namelength\": 0}, \"hovertemplate\": \"Total # Spectators=%{x}<br>Total Travel=%{y}<br>P=%{marker.color}\", \"legendgroup\": \"\", \"marker\": {\"color\": [0.1, 0.2, 0.5, 1.0, 2.0, 5.0, 10.0, 15.0, 20.0, 25.0], \"coloraxis\": \"coloraxis\", \"symbol\": \"circle\"}, \"mode\": \"markers\", \"name\": \"\", \"showlegend\": false, \"type\": \"scatter\", \"x\": [136000, 137500, 163500, 163500, 163500, 163500, 163500, 164000, 164000, 164000], \"xaxis\": \"x\", \"y\": [104462.2149234, 104657.76142139999, 115812.87070459999, 115812.87070459999, 115812.8707046, 115812.87070459999, 115812.8707046, 121530.1699036, 121530.1699036, 121530.16990359999], \"yaxis\": \"y\"}, {\"alignmentgroup\": \"True\", \"bingroup\": \"x\", \"hoverlabel\": {\"namelength\": 0}, \"hovertemplate\": \"Total # Spectators=%{x}<br>count=%{y}\", \"legendgroup\": \"\", \"marker\": {\"color\": \"#0d0887\"}, \"name\": \"\", \"offsetgroup\": \"\", \"opacity\": 0.5, \"showlegend\": false, \"type\": \"histogram\", \"x\": [136000, 137500, 163500, 163500, 163500, 163500, 163500, 164000, 164000, 164000], \"xaxis\": \"x3\", \"yaxis\": \"y3\"}, {\"alignmentgroup\": \"True\", \"bingroup\": \"y\", \"hoverlabel\": {\"namelength\": 0}, \"hovertemplate\": \"Total Travel=%{y}<br>count=%{x}\", \"legendgroup\": \"\", \"marker\": {\"color\": \"#0d0887\"}, \"name\": \"\", \"offsetgroup\": \"\", \"opacity\": 0.5, \"showlegend\": false, \"type\": \"histogram\", \"xaxis\": \"x2\", \"y\": [104462.2149234, 104657.76142139999, 115812.87070459999, 115812.87070459999, 115812.8707046, 115812.87070459999, 115812.8707046, 121530.1699036, 121530.1699036, 121530.16990359999], \"yaxis\": \"y2\"}],\n",
       "                        {\"barmode\": \"overlay\", \"coloraxis\": {\"colorbar\": {\"title\": {\"text\": \"P\"}}, \"colorscale\": [[0.0, \"#0d0887\"], [0.1111111111111111, \"#46039f\"], [0.2222222222222222, \"#7201a8\"], [0.3333333333333333, \"#9c179e\"], [0.4444444444444444, \"#bd3786\"], [0.5555555555555556, \"#d8576b\"], [0.6666666666666666, \"#ed7953\"], [0.7777777777777778, \"#fb9f3a\"], [0.8888888888888888, \"#fdca26\"], [1.0, \"#f0f921\"]]}, \"legend\": {\"tracegroupgap\": 0}, \"margin\": {\"t\": 60}, \"template\": {\"data\": {\"bar\": [{\"error_x\": {\"color\": \"#2a3f5f\"}, \"error_y\": {\"color\": \"#2a3f5f\"}, \"marker\": {\"line\": {\"color\": \"#E5ECF6\", \"width\": 0.5}}, \"type\": \"bar\"}], \"barpolar\": [{\"marker\": {\"line\": {\"color\": \"#E5ECF6\", \"width\": 0.5}}, \"type\": \"barpolar\"}], \"carpet\": [{\"aaxis\": {\"endlinecolor\": \"#2a3f5f\", \"gridcolor\": \"white\", \"linecolor\": \"white\", \"minorgridcolor\": \"white\", \"startlinecolor\": \"#2a3f5f\"}, \"baxis\": {\"endlinecolor\": \"#2a3f5f\", \"gridcolor\": \"white\", \"linecolor\": \"white\", \"minorgridcolor\": \"white\", \"startlinecolor\": \"#2a3f5f\"}, \"type\": \"carpet\"}], \"choropleth\": [{\"colorbar\": {\"outlinewidth\": 0, \"ticks\": \"\"}, \"type\": \"choropleth\"}], \"contour\": [{\"colorbar\": {\"outlinewidth\": 0, \"ticks\": \"\"}, \"colorscale\": [[0.0, \"#0d0887\"], [0.1111111111111111, \"#46039f\"], [0.2222222222222222, \"#7201a8\"], [0.3333333333333333, \"#9c179e\"], [0.4444444444444444, \"#bd3786\"], [0.5555555555555556, \"#d8576b\"], [0.6666666666666666, \"#ed7953\"], [0.7777777777777778, \"#fb9f3a\"], [0.8888888888888888, \"#fdca26\"], [1.0, \"#f0f921\"]], \"type\": \"contour\"}], \"contourcarpet\": [{\"colorbar\": {\"outlinewidth\": 0, \"ticks\": \"\"}, \"type\": \"contourcarpet\"}], \"heatmap\": [{\"colorbar\": {\"outlinewidth\": 0, \"ticks\": \"\"}, \"colorscale\": [[0.0, \"#0d0887\"], [0.1111111111111111, \"#46039f\"], [0.2222222222222222, \"#7201a8\"], [0.3333333333333333, \"#9c179e\"], [0.4444444444444444, \"#bd3786\"], [0.5555555555555556, \"#d8576b\"], [0.6666666666666666, \"#ed7953\"], [0.7777777777777778, \"#fb9f3a\"], [0.8888888888888888, \"#fdca26\"], [1.0, \"#f0f921\"]], \"type\": \"heatmap\"}], \"heatmapgl\": [{\"colorbar\": {\"outlinewidth\": 0, \"ticks\": \"\"}, \"colorscale\": [[0.0, \"#0d0887\"], [0.1111111111111111, \"#46039f\"], [0.2222222222222222, \"#7201a8\"], [0.3333333333333333, \"#9c179e\"], [0.4444444444444444, \"#bd3786\"], [0.5555555555555556, \"#d8576b\"], [0.6666666666666666, \"#ed7953\"], [0.7777777777777778, \"#fb9f3a\"], [0.8888888888888888, \"#fdca26\"], [1.0, \"#f0f921\"]], \"type\": \"heatmapgl\"}], \"histogram\": [{\"marker\": {\"colorbar\": {\"outlinewidth\": 0, \"ticks\": \"\"}}, \"type\": \"histogram\"}], \"histogram2d\": [{\"colorbar\": {\"outlinewidth\": 0, \"ticks\": \"\"}, \"colorscale\": [[0.0, \"#0d0887\"], [0.1111111111111111, \"#46039f\"], [0.2222222222222222, \"#7201a8\"], [0.3333333333333333, \"#9c179e\"], [0.4444444444444444, \"#bd3786\"], [0.5555555555555556, \"#d8576b\"], [0.6666666666666666, \"#ed7953\"], [0.7777777777777778, \"#fb9f3a\"], [0.8888888888888888, \"#fdca26\"], [1.0, \"#f0f921\"]], \"type\": \"histogram2d\"}], \"histogram2dcontour\": [{\"colorbar\": {\"outlinewidth\": 0, \"ticks\": \"\"}, \"colorscale\": [[0.0, \"#0d0887\"], [0.1111111111111111, \"#46039f\"], [0.2222222222222222, \"#7201a8\"], [0.3333333333333333, \"#9c179e\"], [0.4444444444444444, \"#bd3786\"], [0.5555555555555556, \"#d8576b\"], [0.6666666666666666, \"#ed7953\"], [0.7777777777777778, \"#fb9f3a\"], [0.8888888888888888, \"#fdca26\"], [1.0, \"#f0f921\"]], \"type\": \"histogram2dcontour\"}], \"mesh3d\": [{\"colorbar\": {\"outlinewidth\": 0, \"ticks\": \"\"}, \"type\": \"mesh3d\"}], \"parcoords\": [{\"line\": {\"colorbar\": {\"outlinewidth\": 0, \"ticks\": \"\"}}, \"type\": \"parcoords\"}], \"pie\": [{\"automargin\": true, \"type\": \"pie\"}], \"scatter\": [{\"marker\": {\"colorbar\": {\"outlinewidth\": 0, \"ticks\": \"\"}}, \"type\": \"scatter\"}], \"scatter3d\": [{\"line\": {\"colorbar\": {\"outlinewidth\": 0, \"ticks\": \"\"}}, \"marker\": {\"colorbar\": {\"outlinewidth\": 0, \"ticks\": \"\"}}, \"type\": \"scatter3d\"}], \"scattercarpet\": [{\"marker\": {\"colorbar\": {\"outlinewidth\": 0, \"ticks\": \"\"}}, \"type\": \"scattercarpet\"}], \"scattergeo\": [{\"marker\": {\"colorbar\": {\"outlinewidth\": 0, \"ticks\": \"\"}}, \"type\": \"scattergeo\"}], \"scattergl\": [{\"marker\": {\"colorbar\": {\"outlinewidth\": 0, \"ticks\": \"\"}}, \"type\": \"scattergl\"}], \"scattermapbox\": [{\"marker\": {\"colorbar\": {\"outlinewidth\": 0, \"ticks\": \"\"}}, \"type\": \"scattermapbox\"}], \"scatterpolar\": [{\"marker\": {\"colorbar\": {\"outlinewidth\": 0, \"ticks\": \"\"}}, \"type\": \"scatterpolar\"}], \"scatterpolargl\": [{\"marker\": {\"colorbar\": {\"outlinewidth\": 0, \"ticks\": \"\"}}, \"type\": \"scatterpolargl\"}], \"scatterternary\": [{\"marker\": {\"colorbar\": {\"outlinewidth\": 0, \"ticks\": \"\"}}, \"type\": \"scatterternary\"}], \"surface\": [{\"colorbar\": {\"outlinewidth\": 0, \"ticks\": \"\"}, \"colorscale\": [[0.0, \"#0d0887\"], [0.1111111111111111, \"#46039f\"], [0.2222222222222222, \"#7201a8\"], [0.3333333333333333, \"#9c179e\"], [0.4444444444444444, \"#bd3786\"], [0.5555555555555556, \"#d8576b\"], [0.6666666666666666, \"#ed7953\"], [0.7777777777777778, \"#fb9f3a\"], [0.8888888888888888, \"#fdca26\"], [1.0, \"#f0f921\"]], \"type\": \"surface\"}], \"table\": [{\"cells\": {\"fill\": {\"color\": \"#EBF0F8\"}, \"line\": {\"color\": \"white\"}}, \"header\": {\"fill\": {\"color\": \"#C8D4E3\"}, \"line\": {\"color\": \"white\"}}, \"type\": \"table\"}]}, \"layout\": {\"annotationdefaults\": {\"arrowcolor\": \"#2a3f5f\", \"arrowhead\": 0, \"arrowwidth\": 1}, \"coloraxis\": {\"colorbar\": {\"outlinewidth\": 0, \"ticks\": \"\"}}, \"colorscale\": {\"diverging\": [[0, \"#8e0152\"], [0.1, \"#c51b7d\"], [0.2, \"#de77ae\"], [0.3, \"#f1b6da\"], [0.4, \"#fde0ef\"], [0.5, \"#f7f7f7\"], [0.6, \"#e6f5d0\"], [0.7, \"#b8e186\"], [0.8, \"#7fbc41\"], [0.9, \"#4d9221\"], [1, \"#276419\"]], \"sequential\": [[0.0, \"#0d0887\"], [0.1111111111111111, \"#46039f\"], [0.2222222222222222, \"#7201a8\"], [0.3333333333333333, \"#9c179e\"], [0.4444444444444444, \"#bd3786\"], [0.5555555555555556, \"#d8576b\"], [0.6666666666666666, \"#ed7953\"], [0.7777777777777778, \"#fb9f3a\"], [0.8888888888888888, \"#fdca26\"], [1.0, \"#f0f921\"]], \"sequentialminus\": [[0.0, \"#0d0887\"], [0.1111111111111111, \"#46039f\"], [0.2222222222222222, \"#7201a8\"], [0.3333333333333333, \"#9c179e\"], [0.4444444444444444, \"#bd3786\"], [0.5555555555555556, \"#d8576b\"], [0.6666666666666666, \"#ed7953\"], [0.7777777777777778, \"#fb9f3a\"], [0.8888888888888888, \"#fdca26\"], [1.0, \"#f0f921\"]]}, \"colorway\": [\"#636efa\", \"#EF553B\", \"#00cc96\", \"#ab63fa\", \"#FFA15A\", \"#19d3f3\", \"#FF6692\", \"#B6E880\", \"#FF97FF\", \"#FECB52\"], \"font\": {\"color\": \"#2a3f5f\"}, \"geo\": {\"bgcolor\": \"white\", \"lakecolor\": \"white\", \"landcolor\": \"#E5ECF6\", \"showlakes\": true, \"showland\": true, \"subunitcolor\": \"white\"}, \"hoverlabel\": {\"align\": \"left\"}, \"hovermode\": \"closest\", \"mapbox\": {\"style\": \"light\"}, \"paper_bgcolor\": \"white\", \"plot_bgcolor\": \"#E5ECF6\", \"polar\": {\"angularaxis\": {\"gridcolor\": \"white\", \"linecolor\": \"white\", \"ticks\": \"\"}, \"bgcolor\": \"#E5ECF6\", \"radialaxis\": {\"gridcolor\": \"white\", \"linecolor\": \"white\", \"ticks\": \"\"}}, \"scene\": {\"xaxis\": {\"backgroundcolor\": \"#E5ECF6\", \"gridcolor\": \"white\", \"gridwidth\": 2, \"linecolor\": \"white\", \"showbackground\": true, \"ticks\": \"\", \"zerolinecolor\": \"white\"}, \"yaxis\": {\"backgroundcolor\": \"#E5ECF6\", \"gridcolor\": \"white\", \"gridwidth\": 2, \"linecolor\": \"white\", \"showbackground\": true, \"ticks\": \"\", \"zerolinecolor\": \"white\"}, \"zaxis\": {\"backgroundcolor\": \"#E5ECF6\", \"gridcolor\": \"white\", \"gridwidth\": 2, \"linecolor\": \"white\", \"showbackground\": true, \"ticks\": \"\", \"zerolinecolor\": \"white\"}}, \"shapedefaults\": {\"line\": {\"color\": \"#2a3f5f\"}}, \"ternary\": {\"aaxis\": {\"gridcolor\": \"white\", \"linecolor\": \"white\", \"ticks\": \"\"}, \"baxis\": {\"gridcolor\": \"white\", \"linecolor\": \"white\", \"ticks\": \"\"}, \"bgcolor\": \"#E5ECF6\", \"caxis\": {\"gridcolor\": \"white\", \"linecolor\": \"white\", \"ticks\": \"\"}}, \"title\": {\"x\": 0.05}, \"xaxis\": {\"automargin\": true, \"gridcolor\": \"white\", \"linecolor\": \"white\", \"ticks\": \"\", \"title\": {\"standoff\": 15}, \"zerolinecolor\": \"white\", \"zerolinewidth\": 2}, \"yaxis\": {\"automargin\": true, \"gridcolor\": \"white\", \"linecolor\": \"white\", \"ticks\": \"\", \"title\": {\"standoff\": 15}, \"zerolinecolor\": \"white\", \"zerolinewidth\": 2}}}, \"xaxis\": {\"anchor\": \"y\", \"domain\": [0.0, 0.7363], \"title\": {\"text\": \"Total # Spectators\"}}, \"xaxis2\": {\"anchor\": \"y2\", \"domain\": [0.7413, 1.0], \"matches\": \"x2\", \"showgrid\": true, \"showline\": false, \"showticklabels\": false, \"ticks\": \"\"}, \"xaxis3\": {\"anchor\": \"y3\", \"domain\": [0.0, 0.7363], \"matches\": \"x\", \"showgrid\": true, \"showticklabels\": false}, \"xaxis4\": {\"anchor\": \"y4\", \"domain\": [0.7413, 1.0], \"matches\": \"x2\", \"showgrid\": true, \"showline\": false, \"showticklabels\": false, \"ticks\": \"\"}, \"yaxis\": {\"anchor\": \"x\", \"domain\": [0.0, 0.7326], \"title\": {\"text\": \"Total Travel\"}}, \"yaxis2\": {\"anchor\": \"x2\", \"domain\": [0.0, 0.7326], \"matches\": \"y\", \"showgrid\": true, \"showticklabels\": false}, \"yaxis3\": {\"anchor\": \"x3\", \"domain\": [0.7426, 1.0], \"matches\": \"y3\", \"showgrid\": true, \"showline\": false, \"showticklabels\": false, \"ticks\": \"\"}, \"yaxis4\": {\"anchor\": \"x4\", \"domain\": [0.7426, 1.0], \"matches\": \"y3\", \"showgrid\": true, \"showline\": false, \"showticklabels\": false, \"ticks\": \"\"}},\n",
       "                        {\"responsive\": true}\n",
       "                    ).then(function(){\n",
       "                            \n",
       "var gd = document.getElementById('fb55791e-ef69-4990-8a70-e4cf4ec752c7');\n",
       "var x = new MutationObserver(function (mutations, observer) {{\n",
       "        var display = window.getComputedStyle(gd).display;\n",
       "        if (!display || display === 'none') {{\n",
       "            console.log([gd, 'removed!']);\n",
       "            Plotly.purge(gd);\n",
       "            observer.disconnect();\n",
       "        }}\n",
       "}});\n",
       "\n",
       "// Listen for the removal of the full notebook cells\n",
       "var notebookContainer = gd.closest('#notebook-container');\n",
       "if (notebookContainer) {{\n",
       "    x.observe(notebookContainer, {childList: true});\n",
       "}}\n",
       "\n",
       "// Listen for the clearing of the current output cell\n",
       "var outputEl = gd.closest('.output');\n",
       "if (outputEl) {{\n",
       "    x.observe(outputEl, {childList: true});\n",
       "}}\n",
       "\n",
       "                        })\n",
       "                };\n",
       "                });\n",
       "            </script>\n",
       "        </div>"
      ]
     },
     "metadata": {},
     "output_type": "display_data"
    }
   ],
   "source": [
    "px.scatter(df_gkpis.reset_index(),x='Total # Spectators',y='Total Travel',marginal_x=\"histogram\",marginal_y=\"histogram\",color='P')"
   ]
  },
  {
   "cell_type": "markdown",
   "metadata": {},
   "source": [
    "## Pareto front"
   ]
  },
  {
   "cell_type": "code",
   "execution_count": 89,
   "metadata": {},
   "outputs": [
    {
     "data": {
      "application/vnd.plotly.v1+json": {
       "config": {
        "plotlyServerURL": "https://plot.ly"
       },
       "data": [
        {
         "hoverlabel": {
          "namelength": 0
         },
         "hovertemplate": "Total # Spectators=%{x}<br>Total Travel=%{y}<br>Delta=%{z}<br>P=%{marker.color}",
         "legendgroup": "",
         "marker": {
          "color": [
           0.1,
           0.2,
           0.5,
           1,
           2,
           5,
           10,
           15,
           20,
           25
          ],
          "coloraxis": "coloraxis",
          "symbol": "circle"
         },
         "mode": "markers",
         "name": "",
         "scene": "scene",
         "showlegend": false,
         "type": "scatter3d",
         "x": [
          136000,
          137500,
          163500,
          163500,
          163500,
          163500,
          163500,
          164000,
          164000,
          164000
         ],
         "y": [
          104462.2149234,
          104657.76142139999,
          115812.87070459999,
          115812.87070459999,
          115812.8707046,
          115812.87070459999,
          115812.8707046,
          121530.1699036,
          121530.1699036,
          121530.16990359999
         ],
         "z": [
          12974.6979642,
          13035.7597092,
          15437.869073199996,
          17408.404193199996,
          14721.1545162,
          15506.954615199997,
          15966.988658199998,
          16371.203851,
          14004.6724242,
          12505.924182000002
         ]
        }
       ],
       "layout": {
        "coloraxis": {
         "colorbar": {
          "title": {
           "text": "P"
          }
         },
         "colorscale": [
          [
           0,
           "#0d0887"
          ],
          [
           0.1111111111111111,
           "#46039f"
          ],
          [
           0.2222222222222222,
           "#7201a8"
          ],
          [
           0.3333333333333333,
           "#9c179e"
          ],
          [
           0.4444444444444444,
           "#bd3786"
          ],
          [
           0.5555555555555556,
           "#d8576b"
          ],
          [
           0.6666666666666666,
           "#ed7953"
          ],
          [
           0.7777777777777778,
           "#fb9f3a"
          ],
          [
           0.8888888888888888,
           "#fdca26"
          ],
          [
           1,
           "#f0f921"
          ]
         ]
        },
        "height": 600,
        "legend": {
         "tracegroupgap": 0
        },
        "margin": {
         "t": 60
        },
        "scene": {
         "domain": {
          "x": [
           0,
           1
          ],
          "y": [
           0,
           1
          ]
         },
         "xaxis": {
          "title": {
           "text": "Total # Spectators"
          }
         },
         "yaxis": {
          "title": {
           "text": "Total Travel"
          }
         },
         "zaxis": {
          "title": {
           "text": "Delta"
          }
         }
        },
        "template": {
         "data": {
          "bar": [
           {
            "error_x": {
             "color": "#2a3f5f"
            },
            "error_y": {
             "color": "#2a3f5f"
            },
            "marker": {
             "line": {
              "color": "#E5ECF6",
              "width": 0.5
             }
            },
            "type": "bar"
           }
          ],
          "barpolar": [
           {
            "marker": {
             "line": {
              "color": "#E5ECF6",
              "width": 0.5
             }
            },
            "type": "barpolar"
           }
          ],
          "carpet": [
           {
            "aaxis": {
             "endlinecolor": "#2a3f5f",
             "gridcolor": "white",
             "linecolor": "white",
             "minorgridcolor": "white",
             "startlinecolor": "#2a3f5f"
            },
            "baxis": {
             "endlinecolor": "#2a3f5f",
             "gridcolor": "white",
             "linecolor": "white",
             "minorgridcolor": "white",
             "startlinecolor": "#2a3f5f"
            },
            "type": "carpet"
           }
          ],
          "choropleth": [
           {
            "colorbar": {
             "outlinewidth": 0,
             "ticks": ""
            },
            "type": "choropleth"
           }
          ],
          "contour": [
           {
            "colorbar": {
             "outlinewidth": 0,
             "ticks": ""
            },
            "colorscale": [
             [
              0,
              "#0d0887"
             ],
             [
              0.1111111111111111,
              "#46039f"
             ],
             [
              0.2222222222222222,
              "#7201a8"
             ],
             [
              0.3333333333333333,
              "#9c179e"
             ],
             [
              0.4444444444444444,
              "#bd3786"
             ],
             [
              0.5555555555555556,
              "#d8576b"
             ],
             [
              0.6666666666666666,
              "#ed7953"
             ],
             [
              0.7777777777777778,
              "#fb9f3a"
             ],
             [
              0.8888888888888888,
              "#fdca26"
             ],
             [
              1,
              "#f0f921"
             ]
            ],
            "type": "contour"
           }
          ],
          "contourcarpet": [
           {
            "colorbar": {
             "outlinewidth": 0,
             "ticks": ""
            },
            "type": "contourcarpet"
           }
          ],
          "heatmap": [
           {
            "colorbar": {
             "outlinewidth": 0,
             "ticks": ""
            },
            "colorscale": [
             [
              0,
              "#0d0887"
             ],
             [
              0.1111111111111111,
              "#46039f"
             ],
             [
              0.2222222222222222,
              "#7201a8"
             ],
             [
              0.3333333333333333,
              "#9c179e"
             ],
             [
              0.4444444444444444,
              "#bd3786"
             ],
             [
              0.5555555555555556,
              "#d8576b"
             ],
             [
              0.6666666666666666,
              "#ed7953"
             ],
             [
              0.7777777777777778,
              "#fb9f3a"
             ],
             [
              0.8888888888888888,
              "#fdca26"
             ],
             [
              1,
              "#f0f921"
             ]
            ],
            "type": "heatmap"
           }
          ],
          "heatmapgl": [
           {
            "colorbar": {
             "outlinewidth": 0,
             "ticks": ""
            },
            "colorscale": [
             [
              0,
              "#0d0887"
             ],
             [
              0.1111111111111111,
              "#46039f"
             ],
             [
              0.2222222222222222,
              "#7201a8"
             ],
             [
              0.3333333333333333,
              "#9c179e"
             ],
             [
              0.4444444444444444,
              "#bd3786"
             ],
             [
              0.5555555555555556,
              "#d8576b"
             ],
             [
              0.6666666666666666,
              "#ed7953"
             ],
             [
              0.7777777777777778,
              "#fb9f3a"
             ],
             [
              0.8888888888888888,
              "#fdca26"
             ],
             [
              1,
              "#f0f921"
             ]
            ],
            "type": "heatmapgl"
           }
          ],
          "histogram": [
           {
            "marker": {
             "colorbar": {
              "outlinewidth": 0,
              "ticks": ""
             }
            },
            "type": "histogram"
           }
          ],
          "histogram2d": [
           {
            "colorbar": {
             "outlinewidth": 0,
             "ticks": ""
            },
            "colorscale": [
             [
              0,
              "#0d0887"
             ],
             [
              0.1111111111111111,
              "#46039f"
             ],
             [
              0.2222222222222222,
              "#7201a8"
             ],
             [
              0.3333333333333333,
              "#9c179e"
             ],
             [
              0.4444444444444444,
              "#bd3786"
             ],
             [
              0.5555555555555556,
              "#d8576b"
             ],
             [
              0.6666666666666666,
              "#ed7953"
             ],
             [
              0.7777777777777778,
              "#fb9f3a"
             ],
             [
              0.8888888888888888,
              "#fdca26"
             ],
             [
              1,
              "#f0f921"
             ]
            ],
            "type": "histogram2d"
           }
          ],
          "histogram2dcontour": [
           {
            "colorbar": {
             "outlinewidth": 0,
             "ticks": ""
            },
            "colorscale": [
             [
              0,
              "#0d0887"
             ],
             [
              0.1111111111111111,
              "#46039f"
             ],
             [
              0.2222222222222222,
              "#7201a8"
             ],
             [
              0.3333333333333333,
              "#9c179e"
             ],
             [
              0.4444444444444444,
              "#bd3786"
             ],
             [
              0.5555555555555556,
              "#d8576b"
             ],
             [
              0.6666666666666666,
              "#ed7953"
             ],
             [
              0.7777777777777778,
              "#fb9f3a"
             ],
             [
              0.8888888888888888,
              "#fdca26"
             ],
             [
              1,
              "#f0f921"
             ]
            ],
            "type": "histogram2dcontour"
           }
          ],
          "mesh3d": [
           {
            "colorbar": {
             "outlinewidth": 0,
             "ticks": ""
            },
            "type": "mesh3d"
           }
          ],
          "parcoords": [
           {
            "line": {
             "colorbar": {
              "outlinewidth": 0,
              "ticks": ""
             }
            },
            "type": "parcoords"
           }
          ],
          "pie": [
           {
            "automargin": true,
            "type": "pie"
           }
          ],
          "scatter": [
           {
            "marker": {
             "colorbar": {
              "outlinewidth": 0,
              "ticks": ""
             }
            },
            "type": "scatter"
           }
          ],
          "scatter3d": [
           {
            "line": {
             "colorbar": {
              "outlinewidth": 0,
              "ticks": ""
             }
            },
            "marker": {
             "colorbar": {
              "outlinewidth": 0,
              "ticks": ""
             }
            },
            "type": "scatter3d"
           }
          ],
          "scattercarpet": [
           {
            "marker": {
             "colorbar": {
              "outlinewidth": 0,
              "ticks": ""
             }
            },
            "type": "scattercarpet"
           }
          ],
          "scattergeo": [
           {
            "marker": {
             "colorbar": {
              "outlinewidth": 0,
              "ticks": ""
             }
            },
            "type": "scattergeo"
           }
          ],
          "scattergl": [
           {
            "marker": {
             "colorbar": {
              "outlinewidth": 0,
              "ticks": ""
             }
            },
            "type": "scattergl"
           }
          ],
          "scattermapbox": [
           {
            "marker": {
             "colorbar": {
              "outlinewidth": 0,
              "ticks": ""
             }
            },
            "type": "scattermapbox"
           }
          ],
          "scatterpolar": [
           {
            "marker": {
             "colorbar": {
              "outlinewidth": 0,
              "ticks": ""
             }
            },
            "type": "scatterpolar"
           }
          ],
          "scatterpolargl": [
           {
            "marker": {
             "colorbar": {
              "outlinewidth": 0,
              "ticks": ""
             }
            },
            "type": "scatterpolargl"
           }
          ],
          "scatterternary": [
           {
            "marker": {
             "colorbar": {
              "outlinewidth": 0,
              "ticks": ""
             }
            },
            "type": "scatterternary"
           }
          ],
          "surface": [
           {
            "colorbar": {
             "outlinewidth": 0,
             "ticks": ""
            },
            "colorscale": [
             [
              0,
              "#0d0887"
             ],
             [
              0.1111111111111111,
              "#46039f"
             ],
             [
              0.2222222222222222,
              "#7201a8"
             ],
             [
              0.3333333333333333,
              "#9c179e"
             ],
             [
              0.4444444444444444,
              "#bd3786"
             ],
             [
              0.5555555555555556,
              "#d8576b"
             ],
             [
              0.6666666666666666,
              "#ed7953"
             ],
             [
              0.7777777777777778,
              "#fb9f3a"
             ],
             [
              0.8888888888888888,
              "#fdca26"
             ],
             [
              1,
              "#f0f921"
             ]
            ],
            "type": "surface"
           }
          ],
          "table": [
           {
            "cells": {
             "fill": {
              "color": "#EBF0F8"
             },
             "line": {
              "color": "white"
             }
            },
            "header": {
             "fill": {
              "color": "#C8D4E3"
             },
             "line": {
              "color": "white"
             }
            },
            "type": "table"
           }
          ]
         },
         "layout": {
          "annotationdefaults": {
           "arrowcolor": "#2a3f5f",
           "arrowhead": 0,
           "arrowwidth": 1
          },
          "coloraxis": {
           "colorbar": {
            "outlinewidth": 0,
            "ticks": ""
           }
          },
          "colorscale": {
           "diverging": [
            [
             0,
             "#8e0152"
            ],
            [
             0.1,
             "#c51b7d"
            ],
            [
             0.2,
             "#de77ae"
            ],
            [
             0.3,
             "#f1b6da"
            ],
            [
             0.4,
             "#fde0ef"
            ],
            [
             0.5,
             "#f7f7f7"
            ],
            [
             0.6,
             "#e6f5d0"
            ],
            [
             0.7,
             "#b8e186"
            ],
            [
             0.8,
             "#7fbc41"
            ],
            [
             0.9,
             "#4d9221"
            ],
            [
             1,
             "#276419"
            ]
           ],
           "sequential": [
            [
             0,
             "#0d0887"
            ],
            [
             0.1111111111111111,
             "#46039f"
            ],
            [
             0.2222222222222222,
             "#7201a8"
            ],
            [
             0.3333333333333333,
             "#9c179e"
            ],
            [
             0.4444444444444444,
             "#bd3786"
            ],
            [
             0.5555555555555556,
             "#d8576b"
            ],
            [
             0.6666666666666666,
             "#ed7953"
            ],
            [
             0.7777777777777778,
             "#fb9f3a"
            ],
            [
             0.8888888888888888,
             "#fdca26"
            ],
            [
             1,
             "#f0f921"
            ]
           ],
           "sequentialminus": [
            [
             0,
             "#0d0887"
            ],
            [
             0.1111111111111111,
             "#46039f"
            ],
            [
             0.2222222222222222,
             "#7201a8"
            ],
            [
             0.3333333333333333,
             "#9c179e"
            ],
            [
             0.4444444444444444,
             "#bd3786"
            ],
            [
             0.5555555555555556,
             "#d8576b"
            ],
            [
             0.6666666666666666,
             "#ed7953"
            ],
            [
             0.7777777777777778,
             "#fb9f3a"
            ],
            [
             0.8888888888888888,
             "#fdca26"
            ],
            [
             1,
             "#f0f921"
            ]
           ]
          },
          "colorway": [
           "#636efa",
           "#EF553B",
           "#00cc96",
           "#ab63fa",
           "#FFA15A",
           "#19d3f3",
           "#FF6692",
           "#B6E880",
           "#FF97FF",
           "#FECB52"
          ],
          "font": {
           "color": "#2a3f5f"
          },
          "geo": {
           "bgcolor": "white",
           "lakecolor": "white",
           "landcolor": "#E5ECF6",
           "showlakes": true,
           "showland": true,
           "subunitcolor": "white"
          },
          "hoverlabel": {
           "align": "left"
          },
          "hovermode": "closest",
          "mapbox": {
           "style": "light"
          },
          "paper_bgcolor": "white",
          "plot_bgcolor": "#E5ECF6",
          "polar": {
           "angularaxis": {
            "gridcolor": "white",
            "linecolor": "white",
            "ticks": ""
           },
           "bgcolor": "#E5ECF6",
           "radialaxis": {
            "gridcolor": "white",
            "linecolor": "white",
            "ticks": ""
           }
          },
          "scene": {
           "xaxis": {
            "backgroundcolor": "#E5ECF6",
            "gridcolor": "white",
            "gridwidth": 2,
            "linecolor": "white",
            "showbackground": true,
            "ticks": "",
            "zerolinecolor": "white"
           },
           "yaxis": {
            "backgroundcolor": "#E5ECF6",
            "gridcolor": "white",
            "gridwidth": 2,
            "linecolor": "white",
            "showbackground": true,
            "ticks": "",
            "zerolinecolor": "white"
           },
           "zaxis": {
            "backgroundcolor": "#E5ECF6",
            "gridcolor": "white",
            "gridwidth": 2,
            "linecolor": "white",
            "showbackground": true,
            "ticks": "",
            "zerolinecolor": "white"
           }
          },
          "shapedefaults": {
           "line": {
            "color": "#2a3f5f"
           }
          },
          "ternary": {
           "aaxis": {
            "gridcolor": "white",
            "linecolor": "white",
            "ticks": ""
           },
           "baxis": {
            "gridcolor": "white",
            "linecolor": "white",
            "ticks": ""
           },
           "bgcolor": "#E5ECF6",
           "caxis": {
            "gridcolor": "white",
            "linecolor": "white",
            "ticks": ""
           }
          },
          "title": {
           "x": 0.05
          },
          "xaxis": {
           "automargin": true,
           "gridcolor": "white",
           "linecolor": "white",
           "ticks": "",
           "title": {
            "standoff": 15
           },
           "zerolinecolor": "white",
           "zerolinewidth": 2
          },
          "yaxis": {
           "automargin": true,
           "gridcolor": "white",
           "linecolor": "white",
           "ticks": "",
           "title": {
            "standoff": 15
           },
           "zerolinecolor": "white",
           "zerolinewidth": 2
          }
         }
        },
        "width": 900
       }
      },
      "text/html": [
       "<div>\n",
       "        \n",
       "        \n",
       "            <div id=\"def038d0-a54d-4994-9f5e-6e478001ec53\" class=\"plotly-graph-div\" style=\"height:600px; width:900px;\"></div>\n",
       "            <script type=\"text/javascript\">\n",
       "                require([\"plotly\"], function(Plotly) {\n",
       "                    window.PLOTLYENV=window.PLOTLYENV || {};\n",
       "                    \n",
       "                if (document.getElementById(\"def038d0-a54d-4994-9f5e-6e478001ec53\")) {\n",
       "                    Plotly.newPlot(\n",
       "                        'def038d0-a54d-4994-9f5e-6e478001ec53',\n",
       "                        [{\"hoverlabel\": {\"namelength\": 0}, \"hovertemplate\": \"Total # Spectators=%{x}<br>Total Travel=%{y}<br>Delta=%{z}<br>P=%{marker.color}\", \"legendgroup\": \"\", \"marker\": {\"color\": [0.1, 0.2, 0.5, 1.0, 2.0, 5.0, 10.0, 15.0, 20.0, 25.0], \"coloraxis\": \"coloraxis\", \"symbol\": \"circle\"}, \"mode\": \"markers\", \"name\": \"\", \"scene\": \"scene\", \"showlegend\": false, \"type\": \"scatter3d\", \"x\": [136000, 137500, 163500, 163500, 163500, 163500, 163500, 164000, 164000, 164000], \"y\": [104462.2149234, 104657.76142139999, 115812.87070459999, 115812.87070459999, 115812.8707046, 115812.87070459999, 115812.8707046, 121530.1699036, 121530.1699036, 121530.16990359999], \"z\": [12974.6979642, 13035.7597092, 15437.869073199996, 17408.404193199996, 14721.1545162, 15506.954615199997, 15966.988658199998, 16371.203851, 14004.6724242, 12505.924182000002]}],\n",
       "                        {\"coloraxis\": {\"colorbar\": {\"title\": {\"text\": \"P\"}}, \"colorscale\": [[0.0, \"#0d0887\"], [0.1111111111111111, \"#46039f\"], [0.2222222222222222, \"#7201a8\"], [0.3333333333333333, \"#9c179e\"], [0.4444444444444444, \"#bd3786\"], [0.5555555555555556, \"#d8576b\"], [0.6666666666666666, \"#ed7953\"], [0.7777777777777778, \"#fb9f3a\"], [0.8888888888888888, \"#fdca26\"], [1.0, \"#f0f921\"]]}, \"height\": 600, \"legend\": {\"tracegroupgap\": 0}, \"margin\": {\"t\": 60}, \"scene\": {\"domain\": {\"x\": [0.0, 1.0], \"y\": [0.0, 1.0]}, \"xaxis\": {\"title\": {\"text\": \"Total # Spectators\"}}, \"yaxis\": {\"title\": {\"text\": \"Total Travel\"}}, \"zaxis\": {\"title\": {\"text\": \"Delta\"}}}, \"template\": {\"data\": {\"bar\": [{\"error_x\": {\"color\": \"#2a3f5f\"}, \"error_y\": {\"color\": \"#2a3f5f\"}, \"marker\": {\"line\": {\"color\": \"#E5ECF6\", \"width\": 0.5}}, \"type\": \"bar\"}], \"barpolar\": [{\"marker\": {\"line\": {\"color\": \"#E5ECF6\", \"width\": 0.5}}, \"type\": \"barpolar\"}], \"carpet\": [{\"aaxis\": {\"endlinecolor\": \"#2a3f5f\", \"gridcolor\": \"white\", \"linecolor\": \"white\", \"minorgridcolor\": \"white\", \"startlinecolor\": \"#2a3f5f\"}, \"baxis\": {\"endlinecolor\": \"#2a3f5f\", \"gridcolor\": \"white\", \"linecolor\": \"white\", \"minorgridcolor\": \"white\", \"startlinecolor\": \"#2a3f5f\"}, \"type\": \"carpet\"}], \"choropleth\": [{\"colorbar\": {\"outlinewidth\": 0, \"ticks\": \"\"}, \"type\": \"choropleth\"}], \"contour\": [{\"colorbar\": {\"outlinewidth\": 0, \"ticks\": \"\"}, \"colorscale\": [[0.0, \"#0d0887\"], [0.1111111111111111, \"#46039f\"], [0.2222222222222222, \"#7201a8\"], [0.3333333333333333, \"#9c179e\"], [0.4444444444444444, \"#bd3786\"], [0.5555555555555556, \"#d8576b\"], [0.6666666666666666, \"#ed7953\"], [0.7777777777777778, \"#fb9f3a\"], [0.8888888888888888, \"#fdca26\"], [1.0, \"#f0f921\"]], \"type\": \"contour\"}], \"contourcarpet\": [{\"colorbar\": {\"outlinewidth\": 0, \"ticks\": \"\"}, \"type\": \"contourcarpet\"}], \"heatmap\": [{\"colorbar\": {\"outlinewidth\": 0, \"ticks\": \"\"}, \"colorscale\": [[0.0, \"#0d0887\"], [0.1111111111111111, \"#46039f\"], [0.2222222222222222, \"#7201a8\"], [0.3333333333333333, \"#9c179e\"], [0.4444444444444444, \"#bd3786\"], [0.5555555555555556, \"#d8576b\"], [0.6666666666666666, \"#ed7953\"], [0.7777777777777778, \"#fb9f3a\"], [0.8888888888888888, \"#fdca26\"], [1.0, \"#f0f921\"]], \"type\": \"heatmap\"}], \"heatmapgl\": [{\"colorbar\": {\"outlinewidth\": 0, \"ticks\": \"\"}, \"colorscale\": [[0.0, \"#0d0887\"], [0.1111111111111111, \"#46039f\"], [0.2222222222222222, \"#7201a8\"], [0.3333333333333333, \"#9c179e\"], [0.4444444444444444, \"#bd3786\"], [0.5555555555555556, \"#d8576b\"], [0.6666666666666666, \"#ed7953\"], [0.7777777777777778, \"#fb9f3a\"], [0.8888888888888888, \"#fdca26\"], [1.0, \"#f0f921\"]], \"type\": \"heatmapgl\"}], \"histogram\": [{\"marker\": {\"colorbar\": {\"outlinewidth\": 0, \"ticks\": \"\"}}, \"type\": \"histogram\"}], \"histogram2d\": [{\"colorbar\": {\"outlinewidth\": 0, \"ticks\": \"\"}, \"colorscale\": [[0.0, \"#0d0887\"], [0.1111111111111111, \"#46039f\"], [0.2222222222222222, \"#7201a8\"], [0.3333333333333333, \"#9c179e\"], [0.4444444444444444, \"#bd3786\"], [0.5555555555555556, \"#d8576b\"], [0.6666666666666666, \"#ed7953\"], [0.7777777777777778, \"#fb9f3a\"], [0.8888888888888888, \"#fdca26\"], [1.0, \"#f0f921\"]], \"type\": \"histogram2d\"}], \"histogram2dcontour\": [{\"colorbar\": {\"outlinewidth\": 0, \"ticks\": \"\"}, \"colorscale\": [[0.0, \"#0d0887\"], [0.1111111111111111, \"#46039f\"], [0.2222222222222222, \"#7201a8\"], [0.3333333333333333, \"#9c179e\"], [0.4444444444444444, \"#bd3786\"], [0.5555555555555556, \"#d8576b\"], [0.6666666666666666, \"#ed7953\"], [0.7777777777777778, \"#fb9f3a\"], [0.8888888888888888, \"#fdca26\"], [1.0, \"#f0f921\"]], \"type\": \"histogram2dcontour\"}], \"mesh3d\": [{\"colorbar\": {\"outlinewidth\": 0, \"ticks\": \"\"}, \"type\": \"mesh3d\"}], \"parcoords\": [{\"line\": {\"colorbar\": {\"outlinewidth\": 0, \"ticks\": \"\"}}, \"type\": \"parcoords\"}], \"pie\": [{\"automargin\": true, \"type\": \"pie\"}], \"scatter\": [{\"marker\": {\"colorbar\": {\"outlinewidth\": 0, \"ticks\": \"\"}}, \"type\": \"scatter\"}], \"scatter3d\": [{\"line\": {\"colorbar\": {\"outlinewidth\": 0, \"ticks\": \"\"}}, \"marker\": {\"colorbar\": {\"outlinewidth\": 0, \"ticks\": \"\"}}, \"type\": \"scatter3d\"}], \"scattercarpet\": [{\"marker\": {\"colorbar\": {\"outlinewidth\": 0, \"ticks\": \"\"}}, \"type\": \"scattercarpet\"}], \"scattergeo\": [{\"marker\": {\"colorbar\": {\"outlinewidth\": 0, \"ticks\": \"\"}}, \"type\": \"scattergeo\"}], \"scattergl\": [{\"marker\": {\"colorbar\": {\"outlinewidth\": 0, \"ticks\": \"\"}}, \"type\": \"scattergl\"}], \"scattermapbox\": [{\"marker\": {\"colorbar\": {\"outlinewidth\": 0, \"ticks\": \"\"}}, \"type\": \"scattermapbox\"}], \"scatterpolar\": [{\"marker\": {\"colorbar\": {\"outlinewidth\": 0, \"ticks\": \"\"}}, \"type\": \"scatterpolar\"}], \"scatterpolargl\": [{\"marker\": {\"colorbar\": {\"outlinewidth\": 0, \"ticks\": \"\"}}, \"type\": \"scatterpolargl\"}], \"scatterternary\": [{\"marker\": {\"colorbar\": {\"outlinewidth\": 0, \"ticks\": \"\"}}, \"type\": \"scatterternary\"}], \"surface\": [{\"colorbar\": {\"outlinewidth\": 0, \"ticks\": \"\"}, \"colorscale\": [[0.0, \"#0d0887\"], [0.1111111111111111, \"#46039f\"], [0.2222222222222222, \"#7201a8\"], [0.3333333333333333, \"#9c179e\"], [0.4444444444444444, \"#bd3786\"], [0.5555555555555556, \"#d8576b\"], [0.6666666666666666, \"#ed7953\"], [0.7777777777777778, \"#fb9f3a\"], [0.8888888888888888, \"#fdca26\"], [1.0, \"#f0f921\"]], \"type\": \"surface\"}], \"table\": [{\"cells\": {\"fill\": {\"color\": \"#EBF0F8\"}, \"line\": {\"color\": \"white\"}}, \"header\": {\"fill\": {\"color\": \"#C8D4E3\"}, \"line\": {\"color\": \"white\"}}, \"type\": \"table\"}]}, \"layout\": {\"annotationdefaults\": {\"arrowcolor\": \"#2a3f5f\", \"arrowhead\": 0, \"arrowwidth\": 1}, \"coloraxis\": {\"colorbar\": {\"outlinewidth\": 0, \"ticks\": \"\"}}, \"colorscale\": {\"diverging\": [[0, \"#8e0152\"], [0.1, \"#c51b7d\"], [0.2, \"#de77ae\"], [0.3, \"#f1b6da\"], [0.4, \"#fde0ef\"], [0.5, \"#f7f7f7\"], [0.6, \"#e6f5d0\"], [0.7, \"#b8e186\"], [0.8, \"#7fbc41\"], [0.9, \"#4d9221\"], [1, \"#276419\"]], \"sequential\": [[0.0, \"#0d0887\"], [0.1111111111111111, \"#46039f\"], [0.2222222222222222, \"#7201a8\"], [0.3333333333333333, \"#9c179e\"], [0.4444444444444444, \"#bd3786\"], [0.5555555555555556, \"#d8576b\"], [0.6666666666666666, \"#ed7953\"], [0.7777777777777778, \"#fb9f3a\"], [0.8888888888888888, \"#fdca26\"], [1.0, \"#f0f921\"]], \"sequentialminus\": [[0.0, \"#0d0887\"], [0.1111111111111111, \"#46039f\"], [0.2222222222222222, \"#7201a8\"], [0.3333333333333333, \"#9c179e\"], [0.4444444444444444, \"#bd3786\"], [0.5555555555555556, \"#d8576b\"], [0.6666666666666666, \"#ed7953\"], [0.7777777777777778, \"#fb9f3a\"], [0.8888888888888888, \"#fdca26\"], [1.0, \"#f0f921\"]]}, \"colorway\": [\"#636efa\", \"#EF553B\", \"#00cc96\", \"#ab63fa\", \"#FFA15A\", \"#19d3f3\", \"#FF6692\", \"#B6E880\", \"#FF97FF\", \"#FECB52\"], \"font\": {\"color\": \"#2a3f5f\"}, \"geo\": {\"bgcolor\": \"white\", \"lakecolor\": \"white\", \"landcolor\": \"#E5ECF6\", \"showlakes\": true, \"showland\": true, \"subunitcolor\": \"white\"}, \"hoverlabel\": {\"align\": \"left\"}, \"hovermode\": \"closest\", \"mapbox\": {\"style\": \"light\"}, \"paper_bgcolor\": \"white\", \"plot_bgcolor\": \"#E5ECF6\", \"polar\": {\"angularaxis\": {\"gridcolor\": \"white\", \"linecolor\": \"white\", \"ticks\": \"\"}, \"bgcolor\": \"#E5ECF6\", \"radialaxis\": {\"gridcolor\": \"white\", \"linecolor\": \"white\", \"ticks\": \"\"}}, \"scene\": {\"xaxis\": {\"backgroundcolor\": \"#E5ECF6\", \"gridcolor\": \"white\", \"gridwidth\": 2, \"linecolor\": \"white\", \"showbackground\": true, \"ticks\": \"\", \"zerolinecolor\": \"white\"}, \"yaxis\": {\"backgroundcolor\": \"#E5ECF6\", \"gridcolor\": \"white\", \"gridwidth\": 2, \"linecolor\": \"white\", \"showbackground\": true, \"ticks\": \"\", \"zerolinecolor\": \"white\"}, \"zaxis\": {\"backgroundcolor\": \"#E5ECF6\", \"gridcolor\": \"white\", \"gridwidth\": 2, \"linecolor\": \"white\", \"showbackground\": true, \"ticks\": \"\", \"zerolinecolor\": \"white\"}}, \"shapedefaults\": {\"line\": {\"color\": \"#2a3f5f\"}}, \"ternary\": {\"aaxis\": {\"gridcolor\": \"white\", \"linecolor\": \"white\", \"ticks\": \"\"}, \"baxis\": {\"gridcolor\": \"white\", \"linecolor\": \"white\", \"ticks\": \"\"}, \"bgcolor\": \"#E5ECF6\", \"caxis\": {\"gridcolor\": \"white\", \"linecolor\": \"white\", \"ticks\": \"\"}}, \"title\": {\"x\": 0.05}, \"xaxis\": {\"automargin\": true, \"gridcolor\": \"white\", \"linecolor\": \"white\", \"ticks\": \"\", \"title\": {\"standoff\": 15}, \"zerolinecolor\": \"white\", \"zerolinewidth\": 2}, \"yaxis\": {\"automargin\": true, \"gridcolor\": \"white\", \"linecolor\": \"white\", \"ticks\": \"\", \"title\": {\"standoff\": 15}, \"zerolinecolor\": \"white\", \"zerolinewidth\": 2}}}, \"width\": 900},\n",
       "                        {\"responsive\": true}\n",
       "                    ).then(function(){\n",
       "                            \n",
       "var gd = document.getElementById('def038d0-a54d-4994-9f5e-6e478001ec53');\n",
       "var x = new MutationObserver(function (mutations, observer) {{\n",
       "        var display = window.getComputedStyle(gd).display;\n",
       "        if (!display || display === 'none') {{\n",
       "            console.log([gd, 'removed!']);\n",
       "            Plotly.purge(gd);\n",
       "            observer.disconnect();\n",
       "        }}\n",
       "}});\n",
       "\n",
       "// Listen for the removal of the full notebook cells\n",
       "var notebookContainer = gd.closest('#notebook-container');\n",
       "if (notebookContainer) {{\n",
       "    x.observe(notebookContainer, {childList: true});\n",
       "}}\n",
       "\n",
       "// Listen for the clearing of the current output cell\n",
       "var outputEl = gd.closest('.output');\n",
       "if (outputEl) {{\n",
       "    x.observe(outputEl, {childList: true});\n",
       "}}\n",
       "\n",
       "                        })\n",
       "                };\n",
       "                });\n",
       "            </script>\n",
       "        </div>"
      ]
     },
     "metadata": {},
     "output_type": "display_data"
    }
   ],
   "source": [
    "px.scatter_3d(df_gkpis.reset_index(),x='Total # Spectators',y='Total Travel',z='Delta',color='P',\n",
    "             width=900, height=600)"
   ]
  },
  {
   "cell_type": "markdown",
   "metadata": {},
   "source": [
    "## Tendency to Travel of partecipants"
   ]
  },
  {
   "cell_type": "code",
   "execution_count": 90,
   "metadata": {},
   "outputs": [
    {
     "data": {
      "application/vnd.plotly.v1+json": {
       "config": {
        "linkText": "Export to plot.ly",
        "plotlyServerURL": "https://plot.ly",
        "showLink": true
       },
       "data": [
        {
         "boxpoints": "all",
         "line": {
          "width": 1.3
         },
         "marker": {
          "color": "rgba(255, 153, 51, 1.0)"
         },
         "name": "Belgium",
         "orientation": "v",
         "type": "box",
         "y": [
          7833.727289,
          8461.1005708,
          12758.528909,
          9888.045681,
          12758.528909,
          9888.045681,
          5473.997088,
          17888.726032,
          17888.726032,
          17888.726032
         ]
        },
        {
         "boxpoints": "all",
         "line": {
          "width": 1.3
         },
         "marker": {
          "color": "rgba(55, 128, 191, 1.0)"
         },
         "name": "Benin",
         "orientation": "v",
         "type": "box",
         "y": [
          13817.577382,
          13591.696197999998,
          5668.2314938,
          7097.6384448,
          17930.991011000002,
          20518.233515999997,
          20903.764501999998,
          7023.1353878,
          17691.679337,
          13587.312635999999
         ]
        },
        {
         "boxpoints": "all",
         "line": {
          "width": 1.3
         },
         "marker": {
          "color": "rgba(50, 171, 96, 1.0)"
         },
         "name": "Eswatini",
         "orientation": "v",
         "type": "box",
         "y": [
          13591.696197999998,
          16859.338666,
          19757.937532000004,
          22345.180037,
          15855.5058458,
          16060.3432398,
          15855.5058458,
          17691.679337,
          19672.903918,
          21359.226691000003
         ]
        },
        {
         "boxpoints": "all",
         "line": {
          "width": 1.3
         },
         "marker": {
          "color": "rgba(128, 0, 128, 1.0)"
         },
         "name": "Guinea",
         "orientation": "v",
         "type": "box",
         "y": [
          4951.7494018,
          7327.9031908,
          11607.143627,
          4936.7758438,
          12628.345524,
          5011.2789008,
          4936.7758438,
          17316.774978,
          13587.312635999999,
          12418.367040000001
         ]
        },
        {
         "boxpoints": "all",
         "line": {
          "width": 1.3
         },
         "marker": {
          "color": "rgba(219, 64, 82, 1.0)"
         },
         "name": "Iceland",
         "orientation": "v",
         "type": "box",
         "y": [
          8716.631238,
          13028.039428,
          9816.297129999999,
          17930.991011000002,
          13028.039428,
          10055.608804,
          9816.297129999999,
          13267.351102,
          16039.348715,
          8853.302509000001
         ]
        },
        {
         "boxpoints": "all",
         "line": {
          "width": 1.3
         },
         "marker": {
          "color": "rgba(0, 128, 128, 1.0)"
         },
         "name": "Mongolia",
         "orientation": "v",
         "type": "box",
         "y": [
          16260.4296928,
          13301.224445,
          20518.233515999997,
          12338.599277,
          12286.520725999999,
          19677.243081999997,
          19571.052547,
          19672.903918,
          11468.716793,
          10294.917297
         ]
        },
        {
         "boxpoints": "all",
         "line": {
          "width": 1.3
         },
         "marker": {
          "color": "rgba(255, 255, 51, 1.0)"
         },
         "name": "Portugal",
         "orientation": "v",
         "type": "box",
         "y": [
          10369.6644748,
          4951.7494018,
          5080.3644428,
          7897.508743,
          4951.7494018,
          12795.916681,
          12795.916681,
          12286.520725999999,
          5668.2314938,
          10210.8951278
         ]
        },
        {
         "boxpoints": "all",
         "line": {
          "width": 1.3
         },
         "marker": {
          "color": "rgba(128, 128, 0, 1.0)"
         },
         "name": "Seychelles",
         "orientation": "v",
         "type": "box",
         "y": [
          17926.447366,
          17987.509111,
          17926.447366,
          20698.444979,
          19672.903918,
          16460.818753,
          16700.130427,
          13081.378355800001,
          10210.8951278,
          13006.8752988
         ]
        },
        {
         "boxpoints": "all",
         "line": {
          "width": 1.3
         },
         "marker": {
          "color": "rgba(251, 128, 114, 1.0)"
         },
         "name": "United Kingdom",
         "orientation": "v",
         "type": "box",
         "y": [
          10994.291881,
          9149.20041,
          12679.686688,
          12679.686688,
          6700.285941,
          5345.382047,
          9759.430639999999,
          3301.7000669999998,
          9302.355851,
          13910.547272
         ]
        }
       ],
       "layout": {
        "legend": {
         "bgcolor": "#F5F6F9",
         "font": {
          "color": "#4D5663"
         }
        },
        "paper_bgcolor": "#F5F6F9",
        "plot_bgcolor": "#F5F6F9",
        "template": {
         "data": {
          "bar": [
           {
            "error_x": {
             "color": "#2a3f5f"
            },
            "error_y": {
             "color": "#2a3f5f"
            },
            "marker": {
             "line": {
              "color": "#E5ECF6",
              "width": 0.5
             }
            },
            "type": "bar"
           }
          ],
          "barpolar": [
           {
            "marker": {
             "line": {
              "color": "#E5ECF6",
              "width": 0.5
             }
            },
            "type": "barpolar"
           }
          ],
          "carpet": [
           {
            "aaxis": {
             "endlinecolor": "#2a3f5f",
             "gridcolor": "white",
             "linecolor": "white",
             "minorgridcolor": "white",
             "startlinecolor": "#2a3f5f"
            },
            "baxis": {
             "endlinecolor": "#2a3f5f",
             "gridcolor": "white",
             "linecolor": "white",
             "minorgridcolor": "white",
             "startlinecolor": "#2a3f5f"
            },
            "type": "carpet"
           }
          ],
          "choropleth": [
           {
            "colorbar": {
             "outlinewidth": 0,
             "ticks": ""
            },
            "type": "choropleth"
           }
          ],
          "contour": [
           {
            "colorbar": {
             "outlinewidth": 0,
             "ticks": ""
            },
            "colorscale": [
             [
              0,
              "#0d0887"
             ],
             [
              0.1111111111111111,
              "#46039f"
             ],
             [
              0.2222222222222222,
              "#7201a8"
             ],
             [
              0.3333333333333333,
              "#9c179e"
             ],
             [
              0.4444444444444444,
              "#bd3786"
             ],
             [
              0.5555555555555556,
              "#d8576b"
             ],
             [
              0.6666666666666666,
              "#ed7953"
             ],
             [
              0.7777777777777778,
              "#fb9f3a"
             ],
             [
              0.8888888888888888,
              "#fdca26"
             ],
             [
              1,
              "#f0f921"
             ]
            ],
            "type": "contour"
           }
          ],
          "contourcarpet": [
           {
            "colorbar": {
             "outlinewidth": 0,
             "ticks": ""
            },
            "type": "contourcarpet"
           }
          ],
          "heatmap": [
           {
            "colorbar": {
             "outlinewidth": 0,
             "ticks": ""
            },
            "colorscale": [
             [
              0,
              "#0d0887"
             ],
             [
              0.1111111111111111,
              "#46039f"
             ],
             [
              0.2222222222222222,
              "#7201a8"
             ],
             [
              0.3333333333333333,
              "#9c179e"
             ],
             [
              0.4444444444444444,
              "#bd3786"
             ],
             [
              0.5555555555555556,
              "#d8576b"
             ],
             [
              0.6666666666666666,
              "#ed7953"
             ],
             [
              0.7777777777777778,
              "#fb9f3a"
             ],
             [
              0.8888888888888888,
              "#fdca26"
             ],
             [
              1,
              "#f0f921"
             ]
            ],
            "type": "heatmap"
           }
          ],
          "heatmapgl": [
           {
            "colorbar": {
             "outlinewidth": 0,
             "ticks": ""
            },
            "colorscale": [
             [
              0,
              "#0d0887"
             ],
             [
              0.1111111111111111,
              "#46039f"
             ],
             [
              0.2222222222222222,
              "#7201a8"
             ],
             [
              0.3333333333333333,
              "#9c179e"
             ],
             [
              0.4444444444444444,
              "#bd3786"
             ],
             [
              0.5555555555555556,
              "#d8576b"
             ],
             [
              0.6666666666666666,
              "#ed7953"
             ],
             [
              0.7777777777777778,
              "#fb9f3a"
             ],
             [
              0.8888888888888888,
              "#fdca26"
             ],
             [
              1,
              "#f0f921"
             ]
            ],
            "type": "heatmapgl"
           }
          ],
          "histogram": [
           {
            "marker": {
             "colorbar": {
              "outlinewidth": 0,
              "ticks": ""
             }
            },
            "type": "histogram"
           }
          ],
          "histogram2d": [
           {
            "colorbar": {
             "outlinewidth": 0,
             "ticks": ""
            },
            "colorscale": [
             [
              0,
              "#0d0887"
             ],
             [
              0.1111111111111111,
              "#46039f"
             ],
             [
              0.2222222222222222,
              "#7201a8"
             ],
             [
              0.3333333333333333,
              "#9c179e"
             ],
             [
              0.4444444444444444,
              "#bd3786"
             ],
             [
              0.5555555555555556,
              "#d8576b"
             ],
             [
              0.6666666666666666,
              "#ed7953"
             ],
             [
              0.7777777777777778,
              "#fb9f3a"
             ],
             [
              0.8888888888888888,
              "#fdca26"
             ],
             [
              1,
              "#f0f921"
             ]
            ],
            "type": "histogram2d"
           }
          ],
          "histogram2dcontour": [
           {
            "colorbar": {
             "outlinewidth": 0,
             "ticks": ""
            },
            "colorscale": [
             [
              0,
              "#0d0887"
             ],
             [
              0.1111111111111111,
              "#46039f"
             ],
             [
              0.2222222222222222,
              "#7201a8"
             ],
             [
              0.3333333333333333,
              "#9c179e"
             ],
             [
              0.4444444444444444,
              "#bd3786"
             ],
             [
              0.5555555555555556,
              "#d8576b"
             ],
             [
              0.6666666666666666,
              "#ed7953"
             ],
             [
              0.7777777777777778,
              "#fb9f3a"
             ],
             [
              0.8888888888888888,
              "#fdca26"
             ],
             [
              1,
              "#f0f921"
             ]
            ],
            "type": "histogram2dcontour"
           }
          ],
          "mesh3d": [
           {
            "colorbar": {
             "outlinewidth": 0,
             "ticks": ""
            },
            "type": "mesh3d"
           }
          ],
          "parcoords": [
           {
            "line": {
             "colorbar": {
              "outlinewidth": 0,
              "ticks": ""
             }
            },
            "type": "parcoords"
           }
          ],
          "pie": [
           {
            "automargin": true,
            "type": "pie"
           }
          ],
          "scatter": [
           {
            "marker": {
             "colorbar": {
              "outlinewidth": 0,
              "ticks": ""
             }
            },
            "type": "scatter"
           }
          ],
          "scatter3d": [
           {
            "line": {
             "colorbar": {
              "outlinewidth": 0,
              "ticks": ""
             }
            },
            "marker": {
             "colorbar": {
              "outlinewidth": 0,
              "ticks": ""
             }
            },
            "type": "scatter3d"
           }
          ],
          "scattercarpet": [
           {
            "marker": {
             "colorbar": {
              "outlinewidth": 0,
              "ticks": ""
             }
            },
            "type": "scattercarpet"
           }
          ],
          "scattergeo": [
           {
            "marker": {
             "colorbar": {
              "outlinewidth": 0,
              "ticks": ""
             }
            },
            "type": "scattergeo"
           }
          ],
          "scattergl": [
           {
            "marker": {
             "colorbar": {
              "outlinewidth": 0,
              "ticks": ""
             }
            },
            "type": "scattergl"
           }
          ],
          "scattermapbox": [
           {
            "marker": {
             "colorbar": {
              "outlinewidth": 0,
              "ticks": ""
             }
            },
            "type": "scattermapbox"
           }
          ],
          "scatterpolar": [
           {
            "marker": {
             "colorbar": {
              "outlinewidth": 0,
              "ticks": ""
             }
            },
            "type": "scatterpolar"
           }
          ],
          "scatterpolargl": [
           {
            "marker": {
             "colorbar": {
              "outlinewidth": 0,
              "ticks": ""
             }
            },
            "type": "scatterpolargl"
           }
          ],
          "scatterternary": [
           {
            "marker": {
             "colorbar": {
              "outlinewidth": 0,
              "ticks": ""
             }
            },
            "type": "scatterternary"
           }
          ],
          "surface": [
           {
            "colorbar": {
             "outlinewidth": 0,
             "ticks": ""
            },
            "colorscale": [
             [
              0,
              "#0d0887"
             ],
             [
              0.1111111111111111,
              "#46039f"
             ],
             [
              0.2222222222222222,
              "#7201a8"
             ],
             [
              0.3333333333333333,
              "#9c179e"
             ],
             [
              0.4444444444444444,
              "#bd3786"
             ],
             [
              0.5555555555555556,
              "#d8576b"
             ],
             [
              0.6666666666666666,
              "#ed7953"
             ],
             [
              0.7777777777777778,
              "#fb9f3a"
             ],
             [
              0.8888888888888888,
              "#fdca26"
             ],
             [
              1,
              "#f0f921"
             ]
            ],
            "type": "surface"
           }
          ],
          "table": [
           {
            "cells": {
             "fill": {
              "color": "#EBF0F8"
             },
             "line": {
              "color": "white"
             }
            },
            "header": {
             "fill": {
              "color": "#C8D4E3"
             },
             "line": {
              "color": "white"
             }
            },
            "type": "table"
           }
          ]
         },
         "layout": {
          "annotationdefaults": {
           "arrowcolor": "#2a3f5f",
           "arrowhead": 0,
           "arrowwidth": 1
          },
          "coloraxis": {
           "colorbar": {
            "outlinewidth": 0,
            "ticks": ""
           }
          },
          "colorscale": {
           "diverging": [
            [
             0,
             "#8e0152"
            ],
            [
             0.1,
             "#c51b7d"
            ],
            [
             0.2,
             "#de77ae"
            ],
            [
             0.3,
             "#f1b6da"
            ],
            [
             0.4,
             "#fde0ef"
            ],
            [
             0.5,
             "#f7f7f7"
            ],
            [
             0.6,
             "#e6f5d0"
            ],
            [
             0.7,
             "#b8e186"
            ],
            [
             0.8,
             "#7fbc41"
            ],
            [
             0.9,
             "#4d9221"
            ],
            [
             1,
             "#276419"
            ]
           ],
           "sequential": [
            [
             0,
             "#0d0887"
            ],
            [
             0.1111111111111111,
             "#46039f"
            ],
            [
             0.2222222222222222,
             "#7201a8"
            ],
            [
             0.3333333333333333,
             "#9c179e"
            ],
            [
             0.4444444444444444,
             "#bd3786"
            ],
            [
             0.5555555555555556,
             "#d8576b"
            ],
            [
             0.6666666666666666,
             "#ed7953"
            ],
            [
             0.7777777777777778,
             "#fb9f3a"
            ],
            [
             0.8888888888888888,
             "#fdca26"
            ],
            [
             1,
             "#f0f921"
            ]
           ],
           "sequentialminus": [
            [
             0,
             "#0d0887"
            ],
            [
             0.1111111111111111,
             "#46039f"
            ],
            [
             0.2222222222222222,
             "#7201a8"
            ],
            [
             0.3333333333333333,
             "#9c179e"
            ],
            [
             0.4444444444444444,
             "#bd3786"
            ],
            [
             0.5555555555555556,
             "#d8576b"
            ],
            [
             0.6666666666666666,
             "#ed7953"
            ],
            [
             0.7777777777777778,
             "#fb9f3a"
            ],
            [
             0.8888888888888888,
             "#fdca26"
            ],
            [
             1,
             "#f0f921"
            ]
           ]
          },
          "colorway": [
           "#636efa",
           "#EF553B",
           "#00cc96",
           "#ab63fa",
           "#FFA15A",
           "#19d3f3",
           "#FF6692",
           "#B6E880",
           "#FF97FF",
           "#FECB52"
          ],
          "font": {
           "color": "#2a3f5f"
          },
          "geo": {
           "bgcolor": "white",
           "lakecolor": "white",
           "landcolor": "#E5ECF6",
           "showlakes": true,
           "showland": true,
           "subunitcolor": "white"
          },
          "hoverlabel": {
           "align": "left"
          },
          "hovermode": "closest",
          "mapbox": {
           "style": "light"
          },
          "paper_bgcolor": "white",
          "plot_bgcolor": "#E5ECF6",
          "polar": {
           "angularaxis": {
            "gridcolor": "white",
            "linecolor": "white",
            "ticks": ""
           },
           "bgcolor": "#E5ECF6",
           "radialaxis": {
            "gridcolor": "white",
            "linecolor": "white",
            "ticks": ""
           }
          },
          "scene": {
           "xaxis": {
            "backgroundcolor": "#E5ECF6",
            "gridcolor": "white",
            "gridwidth": 2,
            "linecolor": "white",
            "showbackground": true,
            "ticks": "",
            "zerolinecolor": "white"
           },
           "yaxis": {
            "backgroundcolor": "#E5ECF6",
            "gridcolor": "white",
            "gridwidth": 2,
            "linecolor": "white",
            "showbackground": true,
            "ticks": "",
            "zerolinecolor": "white"
           },
           "zaxis": {
            "backgroundcolor": "#E5ECF6",
            "gridcolor": "white",
            "gridwidth": 2,
            "linecolor": "white",
            "showbackground": true,
            "ticks": "",
            "zerolinecolor": "white"
           }
          },
          "shapedefaults": {
           "line": {
            "color": "#2a3f5f"
           }
          },
          "ternary": {
           "aaxis": {
            "gridcolor": "white",
            "linecolor": "white",
            "ticks": ""
           },
           "baxis": {
            "gridcolor": "white",
            "linecolor": "white",
            "ticks": ""
           },
           "bgcolor": "#E5ECF6",
           "caxis": {
            "gridcolor": "white",
            "linecolor": "white",
            "ticks": ""
           }
          },
          "title": {
           "x": 0.05
          },
          "xaxis": {
           "automargin": true,
           "gridcolor": "white",
           "linecolor": "white",
           "ticks": "",
           "title": {
            "standoff": 15
           },
           "zerolinecolor": "white",
           "zerolinewidth": 2
          },
          "yaxis": {
           "automargin": true,
           "gridcolor": "white",
           "linecolor": "white",
           "ticks": "",
           "title": {
            "standoff": 15
           },
           "zerolinecolor": "white",
           "zerolinewidth": 2
          }
         }
        },
        "title": {
         "font": {
          "color": "#4D5663"
         }
        },
        "xaxis": {
         "gridcolor": "#E1E5ED",
         "showgrid": true,
         "tickfont": {
          "color": "#4D5663"
         },
         "title": {
          "font": {
           "color": "#4D5663"
          },
          "text": ""
         },
         "zerolinecolor": "#E1E5ED"
        },
        "yaxis": {
         "gridcolor": "#E1E5ED",
         "showgrid": true,
         "tickfont": {
          "color": "#4D5663"
         },
         "title": {
          "font": {
           "color": "#4D5663"
          },
          "text": ""
         },
         "zerolinecolor": "#E1E5ED"
        }
       }
      },
      "text/html": [
       "<div>\n",
       "        \n",
       "        \n",
       "            <div id=\"ab5c45da-3b9d-417d-9d4b-5f6988dfbe96\" class=\"plotly-graph-div\" style=\"height:525px; width:100%;\"></div>\n",
       "            <script type=\"text/javascript\">\n",
       "                require([\"plotly\"], function(Plotly) {\n",
       "                    window.PLOTLYENV=window.PLOTLYENV || {};\n",
       "                    window.PLOTLYENV.BASE_URL='https://plot.ly';\n",
       "                    \n",
       "                if (document.getElementById(\"ab5c45da-3b9d-417d-9d4b-5f6988dfbe96\")) {\n",
       "                    Plotly.newPlot(\n",
       "                        'ab5c45da-3b9d-417d-9d4b-5f6988dfbe96',\n",
       "                        [{\"boxpoints\": \"all\", \"line\": {\"width\": 1.3}, \"marker\": {\"color\": \"rgba(255, 153, 51, 1.0)\"}, \"name\": \"Belgium\", \"orientation\": \"v\", \"type\": \"box\", \"y\": [7833.727289, 8461.1005708, 12758.528909, 9888.045681, 12758.528909, 9888.045681, 5473.997088, 17888.726032, 17888.726032, 17888.726032]}, {\"boxpoints\": \"all\", \"line\": {\"width\": 1.3}, \"marker\": {\"color\": \"rgba(55, 128, 191, 1.0)\"}, \"name\": \"Benin\", \"orientation\": \"v\", \"type\": \"box\", \"y\": [13817.577382, 13591.696197999998, 5668.2314938, 7097.6384448, 17930.991011000002, 20518.233515999997, 20903.764501999998, 7023.1353878, 17691.679337, 13587.312635999999]}, {\"boxpoints\": \"all\", \"line\": {\"width\": 1.3}, \"marker\": {\"color\": \"rgba(50, 171, 96, 1.0)\"}, \"name\": \"Eswatini\", \"orientation\": \"v\", \"type\": \"box\", \"y\": [13591.696197999998, 16859.338666, 19757.937532000004, 22345.180037, 15855.5058458, 16060.3432398, 15855.5058458, 17691.679337, 19672.903918, 21359.226691000003]}, {\"boxpoints\": \"all\", \"line\": {\"width\": 1.3}, \"marker\": {\"color\": \"rgba(128, 0, 128, 1.0)\"}, \"name\": \"Guinea\", \"orientation\": \"v\", \"type\": \"box\", \"y\": [4951.7494018, 7327.9031908, 11607.143627, 4936.7758438, 12628.345524, 5011.2789008, 4936.7758438, 17316.774978, 13587.312635999999, 12418.367040000001]}, {\"boxpoints\": \"all\", \"line\": {\"width\": 1.3}, \"marker\": {\"color\": \"rgba(219, 64, 82, 1.0)\"}, \"name\": \"Iceland\", \"orientation\": \"v\", \"type\": \"box\", \"y\": [8716.631238, 13028.039428, 9816.297129999999, 17930.991011000002, 13028.039428, 10055.608804, 9816.297129999999, 13267.351102, 16039.348715, 8853.302509000001]}, {\"boxpoints\": \"all\", \"line\": {\"width\": 1.3}, \"marker\": {\"color\": \"rgba(0, 128, 128, 1.0)\"}, \"name\": \"Mongolia\", \"orientation\": \"v\", \"type\": \"box\", \"y\": [16260.4296928, 13301.224445, 20518.233515999997, 12338.599277, 12286.520725999999, 19677.243081999997, 19571.052547, 19672.903918, 11468.716793, 10294.917297]}, {\"boxpoints\": \"all\", \"line\": {\"width\": 1.3}, \"marker\": {\"color\": \"rgba(255, 255, 51, 1.0)\"}, \"name\": \"Portugal\", \"orientation\": \"v\", \"type\": \"box\", \"y\": [10369.6644748, 4951.7494018, 5080.3644428, 7897.508743, 4951.7494018, 12795.916681, 12795.916681, 12286.520725999999, 5668.2314938, 10210.8951278]}, {\"boxpoints\": \"all\", \"line\": {\"width\": 1.3}, \"marker\": {\"color\": \"rgba(128, 128, 0, 1.0)\"}, \"name\": \"Seychelles\", \"orientation\": \"v\", \"type\": \"box\", \"y\": [17926.447366, 17987.509111, 17926.447366, 20698.444979, 19672.903918, 16460.818753, 16700.130427, 13081.378355800001, 10210.8951278, 13006.8752988]}, {\"boxpoints\": \"all\", \"line\": {\"width\": 1.3}, \"marker\": {\"color\": \"rgba(251, 128, 114, 1.0)\"}, \"name\": \"United Kingdom\", \"orientation\": \"v\", \"type\": \"box\", \"y\": [10994.291881, 9149.20041, 12679.686688, 12679.686688, 6700.285941, 5345.382047, 9759.430639999999, 3301.7000669999998, 9302.355851, 13910.547272]}],\n",
       "                        {\"legend\": {\"bgcolor\": \"#F5F6F9\", \"font\": {\"color\": \"#4D5663\"}}, \"paper_bgcolor\": \"#F5F6F9\", \"plot_bgcolor\": \"#F5F6F9\", \"template\": {\"data\": {\"bar\": [{\"error_x\": {\"color\": \"#2a3f5f\"}, \"error_y\": {\"color\": \"#2a3f5f\"}, \"marker\": {\"line\": {\"color\": \"#E5ECF6\", \"width\": 0.5}}, \"type\": \"bar\"}], \"barpolar\": [{\"marker\": {\"line\": {\"color\": \"#E5ECF6\", \"width\": 0.5}}, \"type\": \"barpolar\"}], \"carpet\": [{\"aaxis\": {\"endlinecolor\": \"#2a3f5f\", \"gridcolor\": \"white\", \"linecolor\": \"white\", \"minorgridcolor\": \"white\", \"startlinecolor\": \"#2a3f5f\"}, \"baxis\": {\"endlinecolor\": \"#2a3f5f\", \"gridcolor\": \"white\", \"linecolor\": \"white\", \"minorgridcolor\": \"white\", \"startlinecolor\": \"#2a3f5f\"}, \"type\": \"carpet\"}], \"choropleth\": [{\"colorbar\": {\"outlinewidth\": 0, \"ticks\": \"\"}, \"type\": \"choropleth\"}], \"contour\": [{\"colorbar\": {\"outlinewidth\": 0, \"ticks\": \"\"}, \"colorscale\": [[0.0, \"#0d0887\"], [0.1111111111111111, \"#46039f\"], [0.2222222222222222, \"#7201a8\"], [0.3333333333333333, \"#9c179e\"], [0.4444444444444444, \"#bd3786\"], [0.5555555555555556, \"#d8576b\"], [0.6666666666666666, \"#ed7953\"], [0.7777777777777778, \"#fb9f3a\"], [0.8888888888888888, \"#fdca26\"], [1.0, \"#f0f921\"]], \"type\": \"contour\"}], \"contourcarpet\": [{\"colorbar\": {\"outlinewidth\": 0, \"ticks\": \"\"}, \"type\": \"contourcarpet\"}], \"heatmap\": [{\"colorbar\": {\"outlinewidth\": 0, \"ticks\": \"\"}, \"colorscale\": [[0.0, \"#0d0887\"], [0.1111111111111111, \"#46039f\"], [0.2222222222222222, \"#7201a8\"], [0.3333333333333333, \"#9c179e\"], [0.4444444444444444, \"#bd3786\"], [0.5555555555555556, \"#d8576b\"], [0.6666666666666666, \"#ed7953\"], [0.7777777777777778, \"#fb9f3a\"], [0.8888888888888888, \"#fdca26\"], [1.0, \"#f0f921\"]], \"type\": \"heatmap\"}], \"heatmapgl\": [{\"colorbar\": {\"outlinewidth\": 0, \"ticks\": \"\"}, \"colorscale\": [[0.0, \"#0d0887\"], [0.1111111111111111, \"#46039f\"], [0.2222222222222222, \"#7201a8\"], [0.3333333333333333, \"#9c179e\"], [0.4444444444444444, \"#bd3786\"], [0.5555555555555556, \"#d8576b\"], [0.6666666666666666, \"#ed7953\"], [0.7777777777777778, \"#fb9f3a\"], [0.8888888888888888, \"#fdca26\"], [1.0, \"#f0f921\"]], \"type\": \"heatmapgl\"}], \"histogram\": [{\"marker\": {\"colorbar\": {\"outlinewidth\": 0, \"ticks\": \"\"}}, \"type\": \"histogram\"}], \"histogram2d\": [{\"colorbar\": {\"outlinewidth\": 0, \"ticks\": \"\"}, \"colorscale\": [[0.0, \"#0d0887\"], [0.1111111111111111, \"#46039f\"], [0.2222222222222222, \"#7201a8\"], [0.3333333333333333, \"#9c179e\"], [0.4444444444444444, \"#bd3786\"], [0.5555555555555556, \"#d8576b\"], [0.6666666666666666, \"#ed7953\"], [0.7777777777777778, \"#fb9f3a\"], [0.8888888888888888, \"#fdca26\"], [1.0, \"#f0f921\"]], \"type\": \"histogram2d\"}], \"histogram2dcontour\": [{\"colorbar\": {\"outlinewidth\": 0, \"ticks\": \"\"}, \"colorscale\": [[0.0, \"#0d0887\"], [0.1111111111111111, \"#46039f\"], [0.2222222222222222, \"#7201a8\"], [0.3333333333333333, \"#9c179e\"], [0.4444444444444444, \"#bd3786\"], [0.5555555555555556, \"#d8576b\"], [0.6666666666666666, \"#ed7953\"], [0.7777777777777778, \"#fb9f3a\"], [0.8888888888888888, \"#fdca26\"], [1.0, \"#f0f921\"]], \"type\": \"histogram2dcontour\"}], \"mesh3d\": [{\"colorbar\": {\"outlinewidth\": 0, \"ticks\": \"\"}, \"type\": \"mesh3d\"}], \"parcoords\": [{\"line\": {\"colorbar\": {\"outlinewidth\": 0, \"ticks\": \"\"}}, \"type\": \"parcoords\"}], \"pie\": [{\"automargin\": true, \"type\": \"pie\"}], \"scatter\": [{\"marker\": {\"colorbar\": {\"outlinewidth\": 0, \"ticks\": \"\"}}, \"type\": \"scatter\"}], \"scatter3d\": [{\"line\": {\"colorbar\": {\"outlinewidth\": 0, \"ticks\": \"\"}}, \"marker\": {\"colorbar\": {\"outlinewidth\": 0, \"ticks\": \"\"}}, \"type\": \"scatter3d\"}], \"scattercarpet\": [{\"marker\": {\"colorbar\": {\"outlinewidth\": 0, \"ticks\": \"\"}}, \"type\": \"scattercarpet\"}], \"scattergeo\": [{\"marker\": {\"colorbar\": {\"outlinewidth\": 0, \"ticks\": \"\"}}, \"type\": \"scattergeo\"}], \"scattergl\": [{\"marker\": {\"colorbar\": {\"outlinewidth\": 0, \"ticks\": \"\"}}, \"type\": \"scattergl\"}], \"scattermapbox\": [{\"marker\": {\"colorbar\": {\"outlinewidth\": 0, \"ticks\": \"\"}}, \"type\": \"scattermapbox\"}], \"scatterpolar\": [{\"marker\": {\"colorbar\": {\"outlinewidth\": 0, \"ticks\": \"\"}}, \"type\": \"scatterpolar\"}], \"scatterpolargl\": [{\"marker\": {\"colorbar\": {\"outlinewidth\": 0, \"ticks\": \"\"}}, \"type\": \"scatterpolargl\"}], \"scatterternary\": [{\"marker\": {\"colorbar\": {\"outlinewidth\": 0, \"ticks\": \"\"}}, \"type\": \"scatterternary\"}], \"surface\": [{\"colorbar\": {\"outlinewidth\": 0, \"ticks\": \"\"}, \"colorscale\": [[0.0, \"#0d0887\"], [0.1111111111111111, \"#46039f\"], [0.2222222222222222, \"#7201a8\"], [0.3333333333333333, \"#9c179e\"], [0.4444444444444444, \"#bd3786\"], [0.5555555555555556, \"#d8576b\"], [0.6666666666666666, \"#ed7953\"], [0.7777777777777778, \"#fb9f3a\"], [0.8888888888888888, \"#fdca26\"], [1.0, \"#f0f921\"]], \"type\": \"surface\"}], \"table\": [{\"cells\": {\"fill\": {\"color\": \"#EBF0F8\"}, \"line\": {\"color\": \"white\"}}, \"header\": {\"fill\": {\"color\": \"#C8D4E3\"}, \"line\": {\"color\": \"white\"}}, \"type\": \"table\"}]}, \"layout\": {\"annotationdefaults\": {\"arrowcolor\": \"#2a3f5f\", \"arrowhead\": 0, \"arrowwidth\": 1}, \"coloraxis\": {\"colorbar\": {\"outlinewidth\": 0, \"ticks\": \"\"}}, \"colorscale\": {\"diverging\": [[0, \"#8e0152\"], [0.1, \"#c51b7d\"], [0.2, \"#de77ae\"], [0.3, \"#f1b6da\"], [0.4, \"#fde0ef\"], [0.5, \"#f7f7f7\"], [0.6, \"#e6f5d0\"], [0.7, \"#b8e186\"], [0.8, \"#7fbc41\"], [0.9, \"#4d9221\"], [1, \"#276419\"]], \"sequential\": [[0.0, \"#0d0887\"], [0.1111111111111111, \"#46039f\"], [0.2222222222222222, \"#7201a8\"], [0.3333333333333333, \"#9c179e\"], [0.4444444444444444, \"#bd3786\"], [0.5555555555555556, \"#d8576b\"], [0.6666666666666666, \"#ed7953\"], [0.7777777777777778, \"#fb9f3a\"], [0.8888888888888888, \"#fdca26\"], [1.0, \"#f0f921\"]], \"sequentialminus\": [[0.0, \"#0d0887\"], [0.1111111111111111, \"#46039f\"], [0.2222222222222222, \"#7201a8\"], [0.3333333333333333, \"#9c179e\"], [0.4444444444444444, \"#bd3786\"], [0.5555555555555556, \"#d8576b\"], [0.6666666666666666, \"#ed7953\"], [0.7777777777777778, \"#fb9f3a\"], [0.8888888888888888, \"#fdca26\"], [1.0, \"#f0f921\"]]}, \"colorway\": [\"#636efa\", \"#EF553B\", \"#00cc96\", \"#ab63fa\", \"#FFA15A\", \"#19d3f3\", \"#FF6692\", \"#B6E880\", \"#FF97FF\", \"#FECB52\"], \"font\": {\"color\": \"#2a3f5f\"}, \"geo\": {\"bgcolor\": \"white\", \"lakecolor\": \"white\", \"landcolor\": \"#E5ECF6\", \"showlakes\": true, \"showland\": true, \"subunitcolor\": \"white\"}, \"hoverlabel\": {\"align\": \"left\"}, \"hovermode\": \"closest\", \"mapbox\": {\"style\": \"light\"}, \"paper_bgcolor\": \"white\", \"plot_bgcolor\": \"#E5ECF6\", \"polar\": {\"angularaxis\": {\"gridcolor\": \"white\", \"linecolor\": \"white\", \"ticks\": \"\"}, \"bgcolor\": \"#E5ECF6\", \"radialaxis\": {\"gridcolor\": \"white\", \"linecolor\": \"white\", \"ticks\": \"\"}}, \"scene\": {\"xaxis\": {\"backgroundcolor\": \"#E5ECF6\", \"gridcolor\": \"white\", \"gridwidth\": 2, \"linecolor\": \"white\", \"showbackground\": true, \"ticks\": \"\", \"zerolinecolor\": \"white\"}, \"yaxis\": {\"backgroundcolor\": \"#E5ECF6\", \"gridcolor\": \"white\", \"gridwidth\": 2, \"linecolor\": \"white\", \"showbackground\": true, \"ticks\": \"\", \"zerolinecolor\": \"white\"}, \"zaxis\": {\"backgroundcolor\": \"#E5ECF6\", \"gridcolor\": \"white\", \"gridwidth\": 2, \"linecolor\": \"white\", \"showbackground\": true, \"ticks\": \"\", \"zerolinecolor\": \"white\"}}, \"shapedefaults\": {\"line\": {\"color\": \"#2a3f5f\"}}, \"ternary\": {\"aaxis\": {\"gridcolor\": \"white\", \"linecolor\": \"white\", \"ticks\": \"\"}, \"baxis\": {\"gridcolor\": \"white\", \"linecolor\": \"white\", \"ticks\": \"\"}, \"bgcolor\": \"#E5ECF6\", \"caxis\": {\"gridcolor\": \"white\", \"linecolor\": \"white\", \"ticks\": \"\"}}, \"title\": {\"x\": 0.05}, \"xaxis\": {\"automargin\": true, \"gridcolor\": \"white\", \"linecolor\": \"white\", \"ticks\": \"\", \"title\": {\"standoff\": 15}, \"zerolinecolor\": \"white\", \"zerolinewidth\": 2}, \"yaxis\": {\"automargin\": true, \"gridcolor\": \"white\", \"linecolor\": \"white\", \"ticks\": \"\", \"title\": {\"standoff\": 15}, \"zerolinecolor\": \"white\", \"zerolinewidth\": 2}}}, \"title\": {\"font\": {\"color\": \"#4D5663\"}}, \"xaxis\": {\"gridcolor\": \"#E1E5ED\", \"showgrid\": true, \"tickfont\": {\"color\": \"#4D5663\"}, \"title\": {\"font\": {\"color\": \"#4D5663\"}, \"text\": \"\"}, \"zerolinecolor\": \"#E1E5ED\"}, \"yaxis\": {\"gridcolor\": \"#E1E5ED\", \"showgrid\": true, \"tickfont\": {\"color\": \"#4D5663\"}, \"title\": {\"font\": {\"color\": \"#4D5663\"}, \"text\": \"\"}, \"zerolinecolor\": \"#E1E5ED\"}},\n",
       "                        {\"showLink\": true, \"linkText\": \"Export to plot.ly\", \"plotlyServerURL\": \"https://plot.ly\", \"responsive\": true}\n",
       "                    ).then(function(){\n",
       "                            \n",
       "var gd = document.getElementById('ab5c45da-3b9d-417d-9d4b-5f6988dfbe96');\n",
       "var x = new MutationObserver(function (mutations, observer) {{\n",
       "        var display = window.getComputedStyle(gd).display;\n",
       "        if (!display || display === 'none') {{\n",
       "            console.log([gd, 'removed!']);\n",
       "            Plotly.purge(gd);\n",
       "            observer.disconnect();\n",
       "        }}\n",
       "}});\n",
       "\n",
       "// Listen for the removal of the full notebook cells\n",
       "var notebookContainer = gd.closest('#notebook-container');\n",
       "if (notebookContainer) {{\n",
       "    x.observe(notebookContainer, {childList: true});\n",
       "}}\n",
       "\n",
       "// Listen for the clearing of the current output cell\n",
       "var outputEl = gd.closest('.output');\n",
       "if (outputEl) {{\n",
       "    x.observe(outputEl, {childList: true});\n",
       "}}\n",
       "\n",
       "                        })\n",
       "                };\n",
       "                });\n",
       "            </script>\n",
       "        </div>"
      ]
     },
     "metadata": {},
     "output_type": "display_data"
    }
   ],
   "source": [
    "df_TeamAnalysis.pivot_table(index='P',columns='Team',values='Total Travel').iplot(kind='box',boxpoints='all',)"
   ]
  },
  {
   "cell_type": "code",
   "execution_count": 91,
   "metadata": {},
   "outputs": [
    {
     "data": {
      "application/vnd.plotly.v1+json": {
       "config": {
        "plotlyServerURL": "https://plot.ly"
       },
       "data": [
        {
         "alignmentgroup": "True",
         "boxpoints": "all",
         "customdata": [
          [
           0.1
          ],
          [
           0.1
          ],
          [
           0.1
          ],
          [
           0.1
          ],
          [
           0.1
          ],
          [
           0.1
          ],
          [
           0.1
          ],
          [
           0.1
          ],
          [
           0.1
          ],
          [
           0.2
          ],
          [
           0.2
          ],
          [
           0.2
          ],
          [
           0.2
          ],
          [
           0.2
          ],
          [
           0.2
          ],
          [
           0.2
          ],
          [
           0.2
          ],
          [
           0.2
          ],
          [
           0.5
          ],
          [
           0.5
          ],
          [
           0.5
          ],
          [
           0.5
          ],
          [
           0.5
          ],
          [
           0.5
          ],
          [
           0.5
          ],
          [
           0.5
          ],
          [
           0.5
          ],
          [
           1
          ],
          [
           1
          ],
          [
           1
          ],
          [
           1
          ],
          [
           1
          ],
          [
           1
          ],
          [
           1
          ],
          [
           1
          ],
          [
           1
          ],
          [
           2
          ],
          [
           2
          ],
          [
           2
          ],
          [
           2
          ],
          [
           2
          ],
          [
           2
          ],
          [
           2
          ],
          [
           2
          ],
          [
           2
          ],
          [
           5
          ],
          [
           5
          ],
          [
           5
          ],
          [
           5
          ],
          [
           5
          ],
          [
           5
          ],
          [
           5
          ],
          [
           5
          ],
          [
           5
          ],
          [
           10
          ],
          [
           10
          ],
          [
           10
          ],
          [
           10
          ],
          [
           10
          ],
          [
           10
          ],
          [
           10
          ],
          [
           10
          ],
          [
           10
          ],
          [
           15
          ],
          [
           15
          ],
          [
           15
          ],
          [
           15
          ],
          [
           15
          ],
          [
           15
          ],
          [
           15
          ],
          [
           15
          ],
          [
           15
          ],
          [
           20
          ],
          [
           20
          ],
          [
           20
          ],
          [
           20
          ],
          [
           20
          ],
          [
           20
          ],
          [
           20
          ],
          [
           20
          ],
          [
           20
          ],
          [
           25
          ],
          [
           25
          ],
          [
           25
          ],
          [
           25
          ],
          [
           25
          ],
          [
           25
          ],
          [
           25
          ],
          [
           25
          ],
          [
           25
          ]
         ],
         "hoverlabel": {
          "namelength": 0
         },
         "hovertemplate": "Team=%{x}<br>Total Travel=%{y}<br>P=%{customdata[0]}",
         "legendgroup": "",
         "marker": {
          "color": "#636efa"
         },
         "name": "",
         "notched": false,
         "offsetgroup": "",
         "orientation": "v",
         "showlegend": false,
         "type": "box",
         "x": [
          "Belgium",
          "Benin",
          "Eswatini",
          "Guinea",
          "Iceland",
          "Mongolia",
          "Portugal",
          "Seychelles",
          "United Kingdom",
          "Belgium",
          "Benin",
          "Eswatini",
          "Guinea",
          "Iceland",
          "Mongolia",
          "Portugal",
          "Seychelles",
          "United Kingdom",
          "Belgium",
          "Benin",
          "Eswatini",
          "Guinea",
          "Iceland",
          "Mongolia",
          "Portugal",
          "Seychelles",
          "United Kingdom",
          "Belgium",
          "Benin",
          "Eswatini",
          "Guinea",
          "Iceland",
          "Mongolia",
          "Portugal",
          "Seychelles",
          "United Kingdom",
          "Belgium",
          "Benin",
          "Eswatini",
          "Guinea",
          "Iceland",
          "Mongolia",
          "Portugal",
          "Seychelles",
          "United Kingdom",
          "Belgium",
          "Benin",
          "Eswatini",
          "Guinea",
          "Iceland",
          "Mongolia",
          "Portugal",
          "Seychelles",
          "United Kingdom",
          "Belgium",
          "Benin",
          "Eswatini",
          "Guinea",
          "Iceland",
          "Mongolia",
          "Portugal",
          "Seychelles",
          "United Kingdom",
          "Belgium",
          "Benin",
          "Eswatini",
          "Guinea",
          "Iceland",
          "Mongolia",
          "Portugal",
          "Seychelles",
          "United Kingdom",
          "Belgium",
          "Benin",
          "Eswatini",
          "Guinea",
          "Iceland",
          "Mongolia",
          "Portugal",
          "Seychelles",
          "United Kingdom",
          "Belgium",
          "Benin",
          "Eswatini",
          "Guinea",
          "Iceland",
          "Mongolia",
          "Portugal",
          "Seychelles",
          "United Kingdom"
         ],
         "x0": " ",
         "xaxis": "x",
         "y": [
          7833.727289,
          13817.577382,
          13591.696197999998,
          4951.7494018,
          8716.631238,
          16260.4296928,
          10369.6644748,
          17926.447366,
          10994.291881,
          8461.1005708,
          13591.696197999998,
          16859.338666,
          7327.9031908,
          13028.039428,
          13301.224445,
          4951.7494018,
          17987.509111,
          9149.20041,
          12758.528909,
          5668.2314938,
          19757.937532000004,
          11607.143627,
          9816.297129999999,
          20518.233515999997,
          5080.3644428,
          17926.447366,
          12679.686688,
          9888.045681,
          7097.6384448,
          22345.180037,
          4936.7758438,
          17930.991011000002,
          12338.599277,
          7897.508743,
          20698.444979,
          12679.686688,
          12758.528909,
          17930.991011000002,
          15855.5058458,
          12628.345524,
          13028.039428,
          12286.520725999999,
          4951.7494018,
          19672.903918,
          6700.285941,
          9888.045681,
          20518.233515999997,
          16060.3432398,
          5011.2789008,
          10055.608804,
          19677.243081999997,
          12795.916681,
          16460.818753,
          5345.382047,
          5473.997088,
          20903.764501999998,
          15855.5058458,
          4936.7758438,
          9816.297129999999,
          19571.052547,
          12795.916681,
          16700.130427,
          9759.430639999999,
          17888.726032,
          7023.1353878,
          17691.679337,
          17316.774978,
          13267.351102,
          19672.903918,
          12286.520725999999,
          13081.378355800001,
          3301.7000669999998,
          17888.726032,
          17691.679337,
          19672.903918,
          13587.312635999999,
          16039.348715,
          11468.716793,
          5668.2314938,
          10210.8951278,
          9302.355851,
          17888.726032,
          13587.312635999999,
          21359.226691000003,
          12418.367040000001,
          8853.302509000001,
          10294.917297,
          10210.8951278,
          13006.8752988,
          13910.547272
         ],
         "y0": " ",
         "yaxis": "y"
        }
       ],
       "layout": {
        "boxmode": "group",
        "legend": {
         "tracegroupgap": 0
        },
        "margin": {
         "t": 60
        },
        "template": {
         "data": {
          "bar": [
           {
            "error_x": {
             "color": "#2a3f5f"
            },
            "error_y": {
             "color": "#2a3f5f"
            },
            "marker": {
             "line": {
              "color": "#E5ECF6",
              "width": 0.5
             }
            },
            "type": "bar"
           }
          ],
          "barpolar": [
           {
            "marker": {
             "line": {
              "color": "#E5ECF6",
              "width": 0.5
             }
            },
            "type": "barpolar"
           }
          ],
          "carpet": [
           {
            "aaxis": {
             "endlinecolor": "#2a3f5f",
             "gridcolor": "white",
             "linecolor": "white",
             "minorgridcolor": "white",
             "startlinecolor": "#2a3f5f"
            },
            "baxis": {
             "endlinecolor": "#2a3f5f",
             "gridcolor": "white",
             "linecolor": "white",
             "minorgridcolor": "white",
             "startlinecolor": "#2a3f5f"
            },
            "type": "carpet"
           }
          ],
          "choropleth": [
           {
            "colorbar": {
             "outlinewidth": 0,
             "ticks": ""
            },
            "type": "choropleth"
           }
          ],
          "contour": [
           {
            "colorbar": {
             "outlinewidth": 0,
             "ticks": ""
            },
            "colorscale": [
             [
              0,
              "#0d0887"
             ],
             [
              0.1111111111111111,
              "#46039f"
             ],
             [
              0.2222222222222222,
              "#7201a8"
             ],
             [
              0.3333333333333333,
              "#9c179e"
             ],
             [
              0.4444444444444444,
              "#bd3786"
             ],
             [
              0.5555555555555556,
              "#d8576b"
             ],
             [
              0.6666666666666666,
              "#ed7953"
             ],
             [
              0.7777777777777778,
              "#fb9f3a"
             ],
             [
              0.8888888888888888,
              "#fdca26"
             ],
             [
              1,
              "#f0f921"
             ]
            ],
            "type": "contour"
           }
          ],
          "contourcarpet": [
           {
            "colorbar": {
             "outlinewidth": 0,
             "ticks": ""
            },
            "type": "contourcarpet"
           }
          ],
          "heatmap": [
           {
            "colorbar": {
             "outlinewidth": 0,
             "ticks": ""
            },
            "colorscale": [
             [
              0,
              "#0d0887"
             ],
             [
              0.1111111111111111,
              "#46039f"
             ],
             [
              0.2222222222222222,
              "#7201a8"
             ],
             [
              0.3333333333333333,
              "#9c179e"
             ],
             [
              0.4444444444444444,
              "#bd3786"
             ],
             [
              0.5555555555555556,
              "#d8576b"
             ],
             [
              0.6666666666666666,
              "#ed7953"
             ],
             [
              0.7777777777777778,
              "#fb9f3a"
             ],
             [
              0.8888888888888888,
              "#fdca26"
             ],
             [
              1,
              "#f0f921"
             ]
            ],
            "type": "heatmap"
           }
          ],
          "heatmapgl": [
           {
            "colorbar": {
             "outlinewidth": 0,
             "ticks": ""
            },
            "colorscale": [
             [
              0,
              "#0d0887"
             ],
             [
              0.1111111111111111,
              "#46039f"
             ],
             [
              0.2222222222222222,
              "#7201a8"
             ],
             [
              0.3333333333333333,
              "#9c179e"
             ],
             [
              0.4444444444444444,
              "#bd3786"
             ],
             [
              0.5555555555555556,
              "#d8576b"
             ],
             [
              0.6666666666666666,
              "#ed7953"
             ],
             [
              0.7777777777777778,
              "#fb9f3a"
             ],
             [
              0.8888888888888888,
              "#fdca26"
             ],
             [
              1,
              "#f0f921"
             ]
            ],
            "type": "heatmapgl"
           }
          ],
          "histogram": [
           {
            "marker": {
             "colorbar": {
              "outlinewidth": 0,
              "ticks": ""
             }
            },
            "type": "histogram"
           }
          ],
          "histogram2d": [
           {
            "colorbar": {
             "outlinewidth": 0,
             "ticks": ""
            },
            "colorscale": [
             [
              0,
              "#0d0887"
             ],
             [
              0.1111111111111111,
              "#46039f"
             ],
             [
              0.2222222222222222,
              "#7201a8"
             ],
             [
              0.3333333333333333,
              "#9c179e"
             ],
             [
              0.4444444444444444,
              "#bd3786"
             ],
             [
              0.5555555555555556,
              "#d8576b"
             ],
             [
              0.6666666666666666,
              "#ed7953"
             ],
             [
              0.7777777777777778,
              "#fb9f3a"
             ],
             [
              0.8888888888888888,
              "#fdca26"
             ],
             [
              1,
              "#f0f921"
             ]
            ],
            "type": "histogram2d"
           }
          ],
          "histogram2dcontour": [
           {
            "colorbar": {
             "outlinewidth": 0,
             "ticks": ""
            },
            "colorscale": [
             [
              0,
              "#0d0887"
             ],
             [
              0.1111111111111111,
              "#46039f"
             ],
             [
              0.2222222222222222,
              "#7201a8"
             ],
             [
              0.3333333333333333,
              "#9c179e"
             ],
             [
              0.4444444444444444,
              "#bd3786"
             ],
             [
              0.5555555555555556,
              "#d8576b"
             ],
             [
              0.6666666666666666,
              "#ed7953"
             ],
             [
              0.7777777777777778,
              "#fb9f3a"
             ],
             [
              0.8888888888888888,
              "#fdca26"
             ],
             [
              1,
              "#f0f921"
             ]
            ],
            "type": "histogram2dcontour"
           }
          ],
          "mesh3d": [
           {
            "colorbar": {
             "outlinewidth": 0,
             "ticks": ""
            },
            "type": "mesh3d"
           }
          ],
          "parcoords": [
           {
            "line": {
             "colorbar": {
              "outlinewidth": 0,
              "ticks": ""
             }
            },
            "type": "parcoords"
           }
          ],
          "pie": [
           {
            "automargin": true,
            "type": "pie"
           }
          ],
          "scatter": [
           {
            "marker": {
             "colorbar": {
              "outlinewidth": 0,
              "ticks": ""
             }
            },
            "type": "scatter"
           }
          ],
          "scatter3d": [
           {
            "line": {
             "colorbar": {
              "outlinewidth": 0,
              "ticks": ""
             }
            },
            "marker": {
             "colorbar": {
              "outlinewidth": 0,
              "ticks": ""
             }
            },
            "type": "scatter3d"
           }
          ],
          "scattercarpet": [
           {
            "marker": {
             "colorbar": {
              "outlinewidth": 0,
              "ticks": ""
             }
            },
            "type": "scattercarpet"
           }
          ],
          "scattergeo": [
           {
            "marker": {
             "colorbar": {
              "outlinewidth": 0,
              "ticks": ""
             }
            },
            "type": "scattergeo"
           }
          ],
          "scattergl": [
           {
            "marker": {
             "colorbar": {
              "outlinewidth": 0,
              "ticks": ""
             }
            },
            "type": "scattergl"
           }
          ],
          "scattermapbox": [
           {
            "marker": {
             "colorbar": {
              "outlinewidth": 0,
              "ticks": ""
             }
            },
            "type": "scattermapbox"
           }
          ],
          "scatterpolar": [
           {
            "marker": {
             "colorbar": {
              "outlinewidth": 0,
              "ticks": ""
             }
            },
            "type": "scatterpolar"
           }
          ],
          "scatterpolargl": [
           {
            "marker": {
             "colorbar": {
              "outlinewidth": 0,
              "ticks": ""
             }
            },
            "type": "scatterpolargl"
           }
          ],
          "scatterternary": [
           {
            "marker": {
             "colorbar": {
              "outlinewidth": 0,
              "ticks": ""
             }
            },
            "type": "scatterternary"
           }
          ],
          "surface": [
           {
            "colorbar": {
             "outlinewidth": 0,
             "ticks": ""
            },
            "colorscale": [
             [
              0,
              "#0d0887"
             ],
             [
              0.1111111111111111,
              "#46039f"
             ],
             [
              0.2222222222222222,
              "#7201a8"
             ],
             [
              0.3333333333333333,
              "#9c179e"
             ],
             [
              0.4444444444444444,
              "#bd3786"
             ],
             [
              0.5555555555555556,
              "#d8576b"
             ],
             [
              0.6666666666666666,
              "#ed7953"
             ],
             [
              0.7777777777777778,
              "#fb9f3a"
             ],
             [
              0.8888888888888888,
              "#fdca26"
             ],
             [
              1,
              "#f0f921"
             ]
            ],
            "type": "surface"
           }
          ],
          "table": [
           {
            "cells": {
             "fill": {
              "color": "#EBF0F8"
             },
             "line": {
              "color": "white"
             }
            },
            "header": {
             "fill": {
              "color": "#C8D4E3"
             },
             "line": {
              "color": "white"
             }
            },
            "type": "table"
           }
          ]
         },
         "layout": {
          "annotationdefaults": {
           "arrowcolor": "#2a3f5f",
           "arrowhead": 0,
           "arrowwidth": 1
          },
          "coloraxis": {
           "colorbar": {
            "outlinewidth": 0,
            "ticks": ""
           }
          },
          "colorscale": {
           "diverging": [
            [
             0,
             "#8e0152"
            ],
            [
             0.1,
             "#c51b7d"
            ],
            [
             0.2,
             "#de77ae"
            ],
            [
             0.3,
             "#f1b6da"
            ],
            [
             0.4,
             "#fde0ef"
            ],
            [
             0.5,
             "#f7f7f7"
            ],
            [
             0.6,
             "#e6f5d0"
            ],
            [
             0.7,
             "#b8e186"
            ],
            [
             0.8,
             "#7fbc41"
            ],
            [
             0.9,
             "#4d9221"
            ],
            [
             1,
             "#276419"
            ]
           ],
           "sequential": [
            [
             0,
             "#0d0887"
            ],
            [
             0.1111111111111111,
             "#46039f"
            ],
            [
             0.2222222222222222,
             "#7201a8"
            ],
            [
             0.3333333333333333,
             "#9c179e"
            ],
            [
             0.4444444444444444,
             "#bd3786"
            ],
            [
             0.5555555555555556,
             "#d8576b"
            ],
            [
             0.6666666666666666,
             "#ed7953"
            ],
            [
             0.7777777777777778,
             "#fb9f3a"
            ],
            [
             0.8888888888888888,
             "#fdca26"
            ],
            [
             1,
             "#f0f921"
            ]
           ],
           "sequentialminus": [
            [
             0,
             "#0d0887"
            ],
            [
             0.1111111111111111,
             "#46039f"
            ],
            [
             0.2222222222222222,
             "#7201a8"
            ],
            [
             0.3333333333333333,
             "#9c179e"
            ],
            [
             0.4444444444444444,
             "#bd3786"
            ],
            [
             0.5555555555555556,
             "#d8576b"
            ],
            [
             0.6666666666666666,
             "#ed7953"
            ],
            [
             0.7777777777777778,
             "#fb9f3a"
            ],
            [
             0.8888888888888888,
             "#fdca26"
            ],
            [
             1,
             "#f0f921"
            ]
           ]
          },
          "colorway": [
           "#636efa",
           "#EF553B",
           "#00cc96",
           "#ab63fa",
           "#FFA15A",
           "#19d3f3",
           "#FF6692",
           "#B6E880",
           "#FF97FF",
           "#FECB52"
          ],
          "font": {
           "color": "#2a3f5f"
          },
          "geo": {
           "bgcolor": "white",
           "lakecolor": "white",
           "landcolor": "#E5ECF6",
           "showlakes": true,
           "showland": true,
           "subunitcolor": "white"
          },
          "hoverlabel": {
           "align": "left"
          },
          "hovermode": "closest",
          "mapbox": {
           "style": "light"
          },
          "paper_bgcolor": "white",
          "plot_bgcolor": "#E5ECF6",
          "polar": {
           "angularaxis": {
            "gridcolor": "white",
            "linecolor": "white",
            "ticks": ""
           },
           "bgcolor": "#E5ECF6",
           "radialaxis": {
            "gridcolor": "white",
            "linecolor": "white",
            "ticks": ""
           }
          },
          "scene": {
           "xaxis": {
            "backgroundcolor": "#E5ECF6",
            "gridcolor": "white",
            "gridwidth": 2,
            "linecolor": "white",
            "showbackground": true,
            "ticks": "",
            "zerolinecolor": "white"
           },
           "yaxis": {
            "backgroundcolor": "#E5ECF6",
            "gridcolor": "white",
            "gridwidth": 2,
            "linecolor": "white",
            "showbackground": true,
            "ticks": "",
            "zerolinecolor": "white"
           },
           "zaxis": {
            "backgroundcolor": "#E5ECF6",
            "gridcolor": "white",
            "gridwidth": 2,
            "linecolor": "white",
            "showbackground": true,
            "ticks": "",
            "zerolinecolor": "white"
           }
          },
          "shapedefaults": {
           "line": {
            "color": "#2a3f5f"
           }
          },
          "ternary": {
           "aaxis": {
            "gridcolor": "white",
            "linecolor": "white",
            "ticks": ""
           },
           "baxis": {
            "gridcolor": "white",
            "linecolor": "white",
            "ticks": ""
           },
           "bgcolor": "#E5ECF6",
           "caxis": {
            "gridcolor": "white",
            "linecolor": "white",
            "ticks": ""
           }
          },
          "title": {
           "x": 0.05
          },
          "xaxis": {
           "automargin": true,
           "gridcolor": "white",
           "linecolor": "white",
           "ticks": "",
           "title": {
            "standoff": 15
           },
           "zerolinecolor": "white",
           "zerolinewidth": 2
          },
          "yaxis": {
           "automargin": true,
           "gridcolor": "white",
           "linecolor": "white",
           "ticks": "",
           "title": {
            "standoff": 15
           },
           "zerolinecolor": "white",
           "zerolinewidth": 2
          }
         }
        },
        "xaxis": {
         "anchor": "y",
         "domain": [
          0,
          1
         ],
         "title": {
          "text": "Team"
         }
        },
        "yaxis": {
         "anchor": "x",
         "domain": [
          0,
          1
         ],
         "title": {
          "text": "Total Travel"
         }
        }
       }
      },
      "text/html": [
       "<div>\n",
       "        \n",
       "        \n",
       "            <div id=\"84c765ea-4921-4687-aed2-a04255aa385c\" class=\"plotly-graph-div\" style=\"height:525px; width:100%;\"></div>\n",
       "            <script type=\"text/javascript\">\n",
       "                require([\"plotly\"], function(Plotly) {\n",
       "                    window.PLOTLYENV=window.PLOTLYENV || {};\n",
       "                    \n",
       "                if (document.getElementById(\"84c765ea-4921-4687-aed2-a04255aa385c\")) {\n",
       "                    Plotly.newPlot(\n",
       "                        '84c765ea-4921-4687-aed2-a04255aa385c',\n",
       "                        [{\"alignmentgroup\": \"True\", \"boxpoints\": \"all\", \"customdata\": [[0.1], [0.1], [0.1], [0.1], [0.1], [0.1], [0.1], [0.1], [0.1], [0.2], [0.2], [0.2], [0.2], [0.2], [0.2], [0.2], [0.2], [0.2], [0.5], [0.5], [0.5], [0.5], [0.5], [0.5], [0.5], [0.5], [0.5], [1.0], [1.0], [1.0], [1.0], [1.0], [1.0], [1.0], [1.0], [1.0], [2.0], [2.0], [2.0], [2.0], [2.0], [2.0], [2.0], [2.0], [2.0], [5.0], [5.0], [5.0], [5.0], [5.0], [5.0], [5.0], [5.0], [5.0], [10.0], [10.0], [10.0], [10.0], [10.0], [10.0], [10.0], [10.0], [10.0], [15.0], [15.0], [15.0], [15.0], [15.0], [15.0], [15.0], [15.0], [15.0], [20.0], [20.0], [20.0], [20.0], [20.0], [20.0], [20.0], [20.0], [20.0], [25.0], [25.0], [25.0], [25.0], [25.0], [25.0], [25.0], [25.0], [25.0]], \"hoverlabel\": {\"namelength\": 0}, \"hovertemplate\": \"Team=%{x}<br>Total Travel=%{y}<br>P=%{customdata[0]}\", \"legendgroup\": \"\", \"marker\": {\"color\": \"#636efa\"}, \"name\": \"\", \"notched\": false, \"offsetgroup\": \"\", \"orientation\": \"v\", \"showlegend\": false, \"type\": \"box\", \"x\": [\"Belgium\", \"Benin\", \"Eswatini\", \"Guinea\", \"Iceland\", \"Mongolia\", \"Portugal\", \"Seychelles\", \"United Kingdom\", \"Belgium\", \"Benin\", \"Eswatini\", \"Guinea\", \"Iceland\", \"Mongolia\", \"Portugal\", \"Seychelles\", \"United Kingdom\", \"Belgium\", \"Benin\", \"Eswatini\", \"Guinea\", \"Iceland\", \"Mongolia\", \"Portugal\", \"Seychelles\", \"United Kingdom\", \"Belgium\", \"Benin\", \"Eswatini\", \"Guinea\", \"Iceland\", \"Mongolia\", \"Portugal\", \"Seychelles\", \"United Kingdom\", \"Belgium\", \"Benin\", \"Eswatini\", \"Guinea\", \"Iceland\", \"Mongolia\", \"Portugal\", \"Seychelles\", \"United Kingdom\", \"Belgium\", \"Benin\", \"Eswatini\", \"Guinea\", \"Iceland\", \"Mongolia\", \"Portugal\", \"Seychelles\", \"United Kingdom\", \"Belgium\", \"Benin\", \"Eswatini\", \"Guinea\", \"Iceland\", \"Mongolia\", \"Portugal\", \"Seychelles\", \"United Kingdom\", \"Belgium\", \"Benin\", \"Eswatini\", \"Guinea\", \"Iceland\", \"Mongolia\", \"Portugal\", \"Seychelles\", \"United Kingdom\", \"Belgium\", \"Benin\", \"Eswatini\", \"Guinea\", \"Iceland\", \"Mongolia\", \"Portugal\", \"Seychelles\", \"United Kingdom\", \"Belgium\", \"Benin\", \"Eswatini\", \"Guinea\", \"Iceland\", \"Mongolia\", \"Portugal\", \"Seychelles\", \"United Kingdom\"], \"x0\": \" \", \"xaxis\": \"x\", \"y\": [7833.727289, 13817.577382, 13591.696197999998, 4951.7494018, 8716.631238, 16260.4296928, 10369.6644748, 17926.447366, 10994.291881, 8461.1005708, 13591.696197999998, 16859.338666, 7327.9031908, 13028.039428, 13301.224445, 4951.7494018, 17987.509111, 9149.20041, 12758.528909, 5668.2314938, 19757.937532000004, 11607.143627, 9816.297129999999, 20518.233515999997, 5080.3644428, 17926.447366, 12679.686688, 9888.045681, 7097.6384448, 22345.180037, 4936.7758438, 17930.991011000002, 12338.599277, 7897.508743, 20698.444979, 12679.686688, 12758.528909, 17930.991011000002, 15855.5058458, 12628.345524, 13028.039428, 12286.520725999999, 4951.7494018, 19672.903918, 6700.285941, 9888.045681, 20518.233515999997, 16060.3432398, 5011.2789008, 10055.608804, 19677.243081999997, 12795.916681, 16460.818753, 5345.382047, 5473.997088, 20903.764501999998, 15855.5058458, 4936.7758438, 9816.297129999999, 19571.052547, 12795.916681, 16700.130427, 9759.430639999999, 17888.726032, 7023.1353878, 17691.679337, 17316.774978, 13267.351102, 19672.903918, 12286.520725999999, 13081.378355800001, 3301.7000669999998, 17888.726032, 17691.679337, 19672.903918, 13587.312635999999, 16039.348715, 11468.716793, 5668.2314938, 10210.8951278, 9302.355851, 17888.726032, 13587.312635999999, 21359.226691000003, 12418.367040000001, 8853.302509000001, 10294.917297, 10210.8951278, 13006.8752988, 13910.547272], \"y0\": \" \", \"yaxis\": \"y\"}],\n",
       "                        {\"boxmode\": \"group\", \"legend\": {\"tracegroupgap\": 0}, \"margin\": {\"t\": 60}, \"template\": {\"data\": {\"bar\": [{\"error_x\": {\"color\": \"#2a3f5f\"}, \"error_y\": {\"color\": \"#2a3f5f\"}, \"marker\": {\"line\": {\"color\": \"#E5ECF6\", \"width\": 0.5}}, \"type\": \"bar\"}], \"barpolar\": [{\"marker\": {\"line\": {\"color\": \"#E5ECF6\", \"width\": 0.5}}, \"type\": \"barpolar\"}], \"carpet\": [{\"aaxis\": {\"endlinecolor\": \"#2a3f5f\", \"gridcolor\": \"white\", \"linecolor\": \"white\", \"minorgridcolor\": \"white\", \"startlinecolor\": \"#2a3f5f\"}, \"baxis\": {\"endlinecolor\": \"#2a3f5f\", \"gridcolor\": \"white\", \"linecolor\": \"white\", \"minorgridcolor\": \"white\", \"startlinecolor\": \"#2a3f5f\"}, \"type\": \"carpet\"}], \"choropleth\": [{\"colorbar\": {\"outlinewidth\": 0, \"ticks\": \"\"}, \"type\": \"choropleth\"}], \"contour\": [{\"colorbar\": {\"outlinewidth\": 0, \"ticks\": \"\"}, \"colorscale\": [[0.0, \"#0d0887\"], [0.1111111111111111, \"#46039f\"], [0.2222222222222222, \"#7201a8\"], [0.3333333333333333, \"#9c179e\"], [0.4444444444444444, \"#bd3786\"], [0.5555555555555556, \"#d8576b\"], [0.6666666666666666, \"#ed7953\"], [0.7777777777777778, \"#fb9f3a\"], [0.8888888888888888, \"#fdca26\"], [1.0, \"#f0f921\"]], \"type\": \"contour\"}], \"contourcarpet\": [{\"colorbar\": {\"outlinewidth\": 0, \"ticks\": \"\"}, \"type\": \"contourcarpet\"}], \"heatmap\": [{\"colorbar\": {\"outlinewidth\": 0, \"ticks\": \"\"}, \"colorscale\": [[0.0, \"#0d0887\"], [0.1111111111111111, \"#46039f\"], [0.2222222222222222, \"#7201a8\"], [0.3333333333333333, \"#9c179e\"], [0.4444444444444444, \"#bd3786\"], [0.5555555555555556, \"#d8576b\"], [0.6666666666666666, \"#ed7953\"], [0.7777777777777778, \"#fb9f3a\"], [0.8888888888888888, \"#fdca26\"], [1.0, \"#f0f921\"]], \"type\": \"heatmap\"}], \"heatmapgl\": [{\"colorbar\": {\"outlinewidth\": 0, \"ticks\": \"\"}, \"colorscale\": [[0.0, \"#0d0887\"], [0.1111111111111111, \"#46039f\"], [0.2222222222222222, \"#7201a8\"], [0.3333333333333333, \"#9c179e\"], [0.4444444444444444, \"#bd3786\"], [0.5555555555555556, \"#d8576b\"], [0.6666666666666666, \"#ed7953\"], [0.7777777777777778, \"#fb9f3a\"], [0.8888888888888888, \"#fdca26\"], [1.0, \"#f0f921\"]], \"type\": \"heatmapgl\"}], \"histogram\": [{\"marker\": {\"colorbar\": {\"outlinewidth\": 0, \"ticks\": \"\"}}, \"type\": \"histogram\"}], \"histogram2d\": [{\"colorbar\": {\"outlinewidth\": 0, \"ticks\": \"\"}, \"colorscale\": [[0.0, \"#0d0887\"], [0.1111111111111111, \"#46039f\"], [0.2222222222222222, \"#7201a8\"], [0.3333333333333333, \"#9c179e\"], [0.4444444444444444, \"#bd3786\"], [0.5555555555555556, \"#d8576b\"], [0.6666666666666666, \"#ed7953\"], [0.7777777777777778, \"#fb9f3a\"], [0.8888888888888888, \"#fdca26\"], [1.0, \"#f0f921\"]], \"type\": \"histogram2d\"}], \"histogram2dcontour\": [{\"colorbar\": {\"outlinewidth\": 0, \"ticks\": \"\"}, \"colorscale\": [[0.0, \"#0d0887\"], [0.1111111111111111, \"#46039f\"], [0.2222222222222222, \"#7201a8\"], [0.3333333333333333, \"#9c179e\"], [0.4444444444444444, \"#bd3786\"], [0.5555555555555556, \"#d8576b\"], [0.6666666666666666, \"#ed7953\"], [0.7777777777777778, \"#fb9f3a\"], [0.8888888888888888, \"#fdca26\"], [1.0, \"#f0f921\"]], \"type\": \"histogram2dcontour\"}], \"mesh3d\": [{\"colorbar\": {\"outlinewidth\": 0, \"ticks\": \"\"}, \"type\": \"mesh3d\"}], \"parcoords\": [{\"line\": {\"colorbar\": {\"outlinewidth\": 0, \"ticks\": \"\"}}, \"type\": \"parcoords\"}], \"pie\": [{\"automargin\": true, \"type\": \"pie\"}], \"scatter\": [{\"marker\": {\"colorbar\": {\"outlinewidth\": 0, \"ticks\": \"\"}}, \"type\": \"scatter\"}], \"scatter3d\": [{\"line\": {\"colorbar\": {\"outlinewidth\": 0, \"ticks\": \"\"}}, \"marker\": {\"colorbar\": {\"outlinewidth\": 0, \"ticks\": \"\"}}, \"type\": \"scatter3d\"}], \"scattercarpet\": [{\"marker\": {\"colorbar\": {\"outlinewidth\": 0, \"ticks\": \"\"}}, \"type\": \"scattercarpet\"}], \"scattergeo\": [{\"marker\": {\"colorbar\": {\"outlinewidth\": 0, \"ticks\": \"\"}}, \"type\": \"scattergeo\"}], \"scattergl\": [{\"marker\": {\"colorbar\": {\"outlinewidth\": 0, \"ticks\": \"\"}}, \"type\": \"scattergl\"}], \"scattermapbox\": [{\"marker\": {\"colorbar\": {\"outlinewidth\": 0, \"ticks\": \"\"}}, \"type\": \"scattermapbox\"}], \"scatterpolar\": [{\"marker\": {\"colorbar\": {\"outlinewidth\": 0, \"ticks\": \"\"}}, \"type\": \"scatterpolar\"}], \"scatterpolargl\": [{\"marker\": {\"colorbar\": {\"outlinewidth\": 0, \"ticks\": \"\"}}, \"type\": \"scatterpolargl\"}], \"scatterternary\": [{\"marker\": {\"colorbar\": {\"outlinewidth\": 0, \"ticks\": \"\"}}, \"type\": \"scatterternary\"}], \"surface\": [{\"colorbar\": {\"outlinewidth\": 0, \"ticks\": \"\"}, \"colorscale\": [[0.0, \"#0d0887\"], [0.1111111111111111, \"#46039f\"], [0.2222222222222222, \"#7201a8\"], [0.3333333333333333, \"#9c179e\"], [0.4444444444444444, \"#bd3786\"], [0.5555555555555556, \"#d8576b\"], [0.6666666666666666, \"#ed7953\"], [0.7777777777777778, \"#fb9f3a\"], [0.8888888888888888, \"#fdca26\"], [1.0, \"#f0f921\"]], \"type\": \"surface\"}], \"table\": [{\"cells\": {\"fill\": {\"color\": \"#EBF0F8\"}, \"line\": {\"color\": \"white\"}}, \"header\": {\"fill\": {\"color\": \"#C8D4E3\"}, \"line\": {\"color\": \"white\"}}, \"type\": \"table\"}]}, \"layout\": {\"annotationdefaults\": {\"arrowcolor\": \"#2a3f5f\", \"arrowhead\": 0, \"arrowwidth\": 1}, \"coloraxis\": {\"colorbar\": {\"outlinewidth\": 0, \"ticks\": \"\"}}, \"colorscale\": {\"diverging\": [[0, \"#8e0152\"], [0.1, \"#c51b7d\"], [0.2, \"#de77ae\"], [0.3, \"#f1b6da\"], [0.4, \"#fde0ef\"], [0.5, \"#f7f7f7\"], [0.6, \"#e6f5d0\"], [0.7, \"#b8e186\"], [0.8, \"#7fbc41\"], [0.9, \"#4d9221\"], [1, \"#276419\"]], \"sequential\": [[0.0, \"#0d0887\"], [0.1111111111111111, \"#46039f\"], [0.2222222222222222, \"#7201a8\"], [0.3333333333333333, \"#9c179e\"], [0.4444444444444444, \"#bd3786\"], [0.5555555555555556, \"#d8576b\"], [0.6666666666666666, \"#ed7953\"], [0.7777777777777778, \"#fb9f3a\"], [0.8888888888888888, \"#fdca26\"], [1.0, \"#f0f921\"]], \"sequentialminus\": [[0.0, \"#0d0887\"], [0.1111111111111111, \"#46039f\"], [0.2222222222222222, \"#7201a8\"], [0.3333333333333333, \"#9c179e\"], [0.4444444444444444, \"#bd3786\"], [0.5555555555555556, \"#d8576b\"], [0.6666666666666666, \"#ed7953\"], [0.7777777777777778, \"#fb9f3a\"], [0.8888888888888888, \"#fdca26\"], [1.0, \"#f0f921\"]]}, \"colorway\": [\"#636efa\", \"#EF553B\", \"#00cc96\", \"#ab63fa\", \"#FFA15A\", \"#19d3f3\", \"#FF6692\", \"#B6E880\", \"#FF97FF\", \"#FECB52\"], \"font\": {\"color\": \"#2a3f5f\"}, \"geo\": {\"bgcolor\": \"white\", \"lakecolor\": \"white\", \"landcolor\": \"#E5ECF6\", \"showlakes\": true, \"showland\": true, \"subunitcolor\": \"white\"}, \"hoverlabel\": {\"align\": \"left\"}, \"hovermode\": \"closest\", \"mapbox\": {\"style\": \"light\"}, \"paper_bgcolor\": \"white\", \"plot_bgcolor\": \"#E5ECF6\", \"polar\": {\"angularaxis\": {\"gridcolor\": \"white\", \"linecolor\": \"white\", \"ticks\": \"\"}, \"bgcolor\": \"#E5ECF6\", \"radialaxis\": {\"gridcolor\": \"white\", \"linecolor\": \"white\", \"ticks\": \"\"}}, \"scene\": {\"xaxis\": {\"backgroundcolor\": \"#E5ECF6\", \"gridcolor\": \"white\", \"gridwidth\": 2, \"linecolor\": \"white\", \"showbackground\": true, \"ticks\": \"\", \"zerolinecolor\": \"white\"}, \"yaxis\": {\"backgroundcolor\": \"#E5ECF6\", \"gridcolor\": \"white\", \"gridwidth\": 2, \"linecolor\": \"white\", \"showbackground\": true, \"ticks\": \"\", \"zerolinecolor\": \"white\"}, \"zaxis\": {\"backgroundcolor\": \"#E5ECF6\", \"gridcolor\": \"white\", \"gridwidth\": 2, \"linecolor\": \"white\", \"showbackground\": true, \"ticks\": \"\", \"zerolinecolor\": \"white\"}}, \"shapedefaults\": {\"line\": {\"color\": \"#2a3f5f\"}}, \"ternary\": {\"aaxis\": {\"gridcolor\": \"white\", \"linecolor\": \"white\", \"ticks\": \"\"}, \"baxis\": {\"gridcolor\": \"white\", \"linecolor\": \"white\", \"ticks\": \"\"}, \"bgcolor\": \"#E5ECF6\", \"caxis\": {\"gridcolor\": \"white\", \"linecolor\": \"white\", \"ticks\": \"\"}}, \"title\": {\"x\": 0.05}, \"xaxis\": {\"automargin\": true, \"gridcolor\": \"white\", \"linecolor\": \"white\", \"ticks\": \"\", \"title\": {\"standoff\": 15}, \"zerolinecolor\": \"white\", \"zerolinewidth\": 2}, \"yaxis\": {\"automargin\": true, \"gridcolor\": \"white\", \"linecolor\": \"white\", \"ticks\": \"\", \"title\": {\"standoff\": 15}, \"zerolinecolor\": \"white\", \"zerolinewidth\": 2}}}, \"xaxis\": {\"anchor\": \"y\", \"domain\": [0.0, 1.0], \"title\": {\"text\": \"Team\"}}, \"yaxis\": {\"anchor\": \"x\", \"domain\": [0.0, 1.0], \"title\": {\"text\": \"Total Travel\"}}},\n",
       "                        {\"responsive\": true}\n",
       "                    ).then(function(){\n",
       "                            \n",
       "var gd = document.getElementById('84c765ea-4921-4687-aed2-a04255aa385c');\n",
       "var x = new MutationObserver(function (mutations, observer) {{\n",
       "        var display = window.getComputedStyle(gd).display;\n",
       "        if (!display || display === 'none') {{\n",
       "            console.log([gd, 'removed!']);\n",
       "            Plotly.purge(gd);\n",
       "            observer.disconnect();\n",
       "        }}\n",
       "}});\n",
       "\n",
       "// Listen for the removal of the full notebook cells\n",
       "var notebookContainer = gd.closest('#notebook-container');\n",
       "if (notebookContainer) {{\n",
       "    x.observe(notebookContainer, {childList: true});\n",
       "}}\n",
       "\n",
       "// Listen for the clearing of the current output cell\n",
       "var outputEl = gd.closest('.output');\n",
       "if (outputEl) {{\n",
       "    x.observe(outputEl, {childList: true});\n",
       "}}\n",
       "\n",
       "                        })\n",
       "                };\n",
       "                });\n",
       "            </script>\n",
       "        </div>"
      ]
     },
     "metadata": {},
     "output_type": "display_data"
    }
   ],
   "source": [
    "px.box(df_TeamAnalysis.reset_index(),x='Team',y='Total Travel',hover_data=['P'],points='all')"
   ]
  },
  {
   "cell_type": "markdown",
   "metadata": {},
   "source": [
    "# Challenge: Gurobi VS GLPK"
   ]
  },
  {
   "cell_type": "code",
   "execution_count": null,
   "metadata": {},
   "outputs": [],
   "source": []
  },
  {
   "cell_type": "code",
   "execution_count": 139,
   "metadata": {},
   "outputs": [],
   "source": [
    "opt_glpk = SolverFactory(\"glpk\")\n"
   ]
  },
  {
   "cell_type": "code",
   "execution_count": 140,
   "metadata": {},
   "outputs": [],
   "source": [
    "p_test = 3"
   ]
  },
  {
   "cell_type": "code",
   "execution_count": 141,
   "metadata": {},
   "outputs": [],
   "source": [
    "model_gu = model.clone()\n",
    "model_gu.P_param = p_test\n",
    "\n"
   ]
  },
  {
   "cell_type": "code",
   "execution_count": 142,
   "metadata": {},
   "outputs": [
    {
     "name": "stdout",
     "output_type": "stream",
     "text": [
      "\n",
      "--------------------------------------------\n",
      "Warning: your license will expire in 9 days\n",
      "--------------------------------------------\n",
      "\n",
      "Using license file C:\\Users\\niccolomoretti\\gurobi.lic\n",
      "Read LP format model from file C:\\Users\\NICCOL~1\\AppData\\Local\\Temp\\tmpso0_2az5.pyomo.lp\n",
      "Reading time = 0.07 seconds\n",
      "x541: 8926 rows, 541 columns, 35641 nonzeros\n",
      "Gurobi Optimizer version 9.0.0 build v9.0.0rc2 (win64)\n",
      "Optimize a model with 8926 rows, 541 columns and 35641 nonzeros\n",
      "Model fingerprint: 0x43d970bf\n",
      "Variable types: 1 continuous, 540 integer (540 binary)\n",
      "Coefficient statistics:\n",
      "  Matrix range     [1e+00, 1e+00]\n",
      "  Objective range  [3e+02, 7e+04]\n",
      "  Bounds range     [1e+00, 1e+00]\n",
      "  RHS range        [1e+00, 3e+00]\n",
      "Presolve removed 6076 rows and 82 columns\n",
      "Presolve time: 0.08s\n",
      "Presolved: 2850 rows, 459 columns, 12069 nonzeros\n",
      "Variable types: 0 continuous, 459 integer (459 binary)\n",
      "Found heuristic solution: objective -383468.2876\n",
      "\n",
      "Root relaxation: objective -5.639977e+05, 534 iterations, 0.05 seconds\n",
      "\n",
      "    Nodes    |    Current Node    |     Objective Bounds      |     Work\n",
      " Expl Unexpl |  Obj  Depth IntInf | Incumbent    BestBd   Gap | It/Node Time\n",
      "\n",
      "     0     0 -563997.68    0  109 -383468.29 -563997.68  47.1%     -    0s\n",
      "H    0     0                    -534469.8301 -563997.68  5.52%     -    0s\n",
      "     0     0 -561748.57    0   90 -534469.83 -561748.57  5.10%     -    0s\n",
      "     0     0 -561253.44    0  114 -534469.83 -561253.44  5.01%     -    0s\n",
      "     0     0 -561063.14    0  117 -534469.83 -561063.14  4.98%     -    0s\n",
      "     0     0 -555786.05    0  125 -534469.83 -555786.05  3.99%     -    0s\n",
      "     0     0 -555315.23    0  120 -534469.83 -555315.23  3.90%     -    0s\n",
      "     0     0 -554498.06    0  136 -534469.83 -554498.06  3.75%     -    0s\n",
      "     0     0 -554313.74    0  145 -534469.83 -554313.74  3.71%     -    0s\n",
      "     0     0 -554036.13    0  140 -534469.83 -554036.13  3.66%     -    0s\n",
      "     0     0 -554033.73    0  135 -534469.83 -554033.73  3.66%     -    0s\n",
      "     0     0 -554033.05    0  135 -534469.83 -554033.05  3.66%     -    0s\n",
      "     0     0 -552132.15    0  140 -534469.83 -552132.15  3.30%     -    1s\n",
      "     0     0 -552043.03    0  145 -534469.83 -552043.03  3.29%     -    1s\n",
      "     0     0 -552007.24    0  145 -534469.83 -552007.24  3.28%     -    1s\n",
      "     0     0 -551927.75    0  146 -534469.83 -551927.75  3.27%     -    1s\n",
      "     0     0 -551919.66    0  142 -534469.83 -551919.66  3.26%     -    1s\n",
      "     0     0 -551919.66    0  144 -534469.83 -551919.66  3.26%     -    1s\n",
      "     0     0 -551913.86    0  146 -534469.83 -551913.86  3.26%     -    1s\n",
      "     0     0 -551819.70    0  144 -534469.83 -551819.70  3.25%     -    1s\n",
      "     0     0 -551764.71    0  144 -534469.83 -551764.71  3.24%     -    1s\n",
      "     0     0 -551762.15    0  145 -534469.83 -551762.15  3.24%     -    1s\n",
      "     0     0 -551760.21    0  147 -534469.83 -551760.21  3.24%     -    1s\n",
      "     0     0 -551497.88    0  148 -534469.83 -551497.88  3.19%     -    1s\n",
      "     0     0 -551441.03    0  148 -534469.83 -551441.03  3.18%     -    1s\n",
      "     0     0 -551441.03    0  147 -534469.83 -551441.03  3.18%     -    1s\n",
      "     0     0 -551311.17    0  141 -534469.83 -551311.17  3.15%     -    1s\n",
      "     0     0 -551296.17    0  148 -534469.83 -551296.17  3.15%     -    1s\n",
      "     0     0 -551296.17    0  154 -534469.83 -551296.17  3.15%     -    1s\n",
      "     0     0 -551296.17    0  148 -534469.83 -551296.17  3.15%     -    1s\n",
      "     0     0 -551296.17    0  148 -534469.83 -551296.17  3.15%     -    1s\n",
      "     0     0 -551291.24    0  147 -534469.83 -551291.24  3.15%     -    1s\n",
      "     0     0 -551291.24    0  147 -534469.83 -551291.24  3.15%     -    1s\n",
      "     0     0 -551276.82    0  105 -534469.83 -551276.82  3.14%     -    2s\n",
      "     0     0 -551276.82    0  126 -534469.83 -551276.82  3.14%     -    2s\n",
      "     0     0 -551135.08    0  132 -534469.83 -551135.08  3.12%     -    2s\n",
      "     0     0 -551124.37    0  131 -534469.83 -551124.37  3.12%     -    2s\n",
      "     0     0 -551124.37    0  131 -534469.83 -551124.37  3.12%     -    2s\n",
      "     0     0 -551124.27    0  134 -534469.83 -551124.27  3.12%     -    2s\n",
      "     0     0 -550352.98    0  137 -534469.83 -550352.98  2.97%     -    2s\n",
      "     0     0 -550111.35    0  140 -534469.83 -550111.35  2.93%     -    2s\n",
      "     0     0 -550096.92    0  140 -534469.83 -550096.92  2.92%     -    2s\n",
      "     0     0 -549725.62    0  153 -534469.83 -549725.62  2.85%     -    2s\n",
      "     0     0 -549713.46    0  150 -534469.83 -549713.46  2.85%     -    2s\n",
      "     0     0 -549691.35    0  155 -534469.83 -549691.35  2.85%     -    2s\n",
      "     0     0 -549688.88    0  156 -534469.83 -549688.88  2.85%     -    2s\n",
      "     0     0 -549652.01    0  151 -534469.83 -549652.01  2.84%     -    2s\n",
      "     0     0 -549652.01    0  152 -534469.83 -549652.01  2.84%     -    2s\n",
      "     0     0 -549652.01    0  155 -534469.83 -549652.01  2.84%     -    3s\n",
      "     0     0 -549652.01    0  155 -534469.83 -549652.01  2.84%     -    3s\n",
      "     0     0 -549525.57    0  149 -534469.83 -549525.57  2.82%     -    3s\n",
      "     0     0 -549384.49    0  150 -534469.83 -549384.49  2.79%     -    3s\n",
      "     0     0 -549368.29    0  145 -534469.83 -549368.29  2.79%     -    3s\n",
      "     0     0 -549366.39    0  145 -534469.83 -549366.39  2.79%     -    3s\n",
      "     0     0 -549366.39    0  142 -534469.83 -549366.39  2.79%     -    3s\n",
      "     0     0 -549366.39    0  142 -534469.83 -549366.39  2.79%     -    3s\n",
      "     0     0 -549366.39    0  140 -534469.83 -549366.39  2.79%     -    3s\n",
      "     0     0 -549366.39    0  146 -534469.83 -549366.39  2.79%     -    3s\n",
      "     0     0 -549366.39    0  143 -534469.83 -549366.39  2.79%     -    3s\n",
      "     0     0 -549366.39    0  143 -534469.83 -549366.39  2.79%     -    3s\n",
      "     0     2 -549332.67    0  143 -534469.83 -549332.67  2.78%     -    3s\n",
      "*   34    29              14    -538187.1293 -545149.48  1.29%  55.4    3s\n",
      "\n",
      "Cutting planes:\n",
      "  Gomory: 5\n",
      "  MIR: 17\n",
      "  Zero half: 30\n",
      "  RLT: 1\n",
      "\n",
      "Explored 72 nodes (7704 simplex iterations) in 3.88 seconds\n",
      "Thread count was 4 (of 4 available processors)\n",
      "\n",
      "Solution count 3: -538187 -534470 -383468 \n",
      "No other solutions better than -538187\n",
      "\n",
      "Optimal solution found (tolerance 1.00e-04)\n",
      "Best objective -5.381871292954e+05, best bound -5.381871292954e+05, gap 0.0000%\n",
      "Wall time: 6.04 s\n"
     ]
    }
   ],
   "source": [
    "%%time\n",
    "res_gu = opt.solve(model_gu,tee=True)"
   ]
  },
  {
   "cell_type": "code",
   "execution_count": 143,
   "metadata": {},
   "outputs": [],
   "source": [
    "model_gl = model.clone()\n",
    "model_gl.P_param = p_test"
   ]
  },
  {
   "cell_type": "code",
   "execution_count": 144,
   "metadata": {},
   "outputs": [
    {
     "name": "stdout",
     "output_type": "stream",
     "text": [
      "GLPSOL: GLPK LP/MIP Solver, v4.65\n",
      "Parameter(s) specified in the command line:\n",
      " --write C:\\Users\\NICCOL~1\\AppData\\Local\\Temp\\tmp6ble7f8b.glpk.raw --wglp\n",
      " C:\\Users\\NICCOL~1\\AppData\\Local\\Temp\\tmp_j5r5s7l.glpk.glp --cpxlp C:\\Users\\NICCOL~1\\AppData\\Local\\Temp\\tmp3st8igh8.pyomo.lp\n",
      "Reading problem data from 'C:\\Users\\NICCOL~1\\AppData\\Local\\Temp\\tmp3st8igh8.pyomo.lp'...\n",
      "C:\\Users\\NICCOL~1\\AppData\\Local\\Temp\\tmp3st8igh8.pyomo.lp:63364: warning: lower bound of variable 'x1' redefined\n",
      "C:\\Users\\NICCOL~1\\AppData\\Local\\Temp\\tmp3st8igh8.pyomo.lp:63364: warning: upper bound of variable 'x1' redefined\n",
      "8926 rows, 541 columns, 35641 non-zeros\n",
      "540 integer variables, all of which are binary\n",
      "63904 lines were read\n",
      "Writing problem data to 'C:\\Users\\NICCOL~1\\AppData\\Local\\Temp\\tmp_j5r5s7l.glpk.glp'...\n",
      "54191 lines were written\n",
      "GLPK Integer Optimizer, v4.65\n",
      "8926 rows, 541 columns, 35641 non-zeros\n",
      "540 integer variables, all of which are binary\n",
      "Preprocessing...\n",
      "8262 hidden covering inequaliti(es) were detected\n",
      "8682 rows, 459 columns, 35397 non-zeros\n",
      "459 integer variables, all of which are binary\n",
      "Scaling...\n",
      " A: min|aij| =  1.000e+00  max|aij| =  1.000e+00  ratio =  1.000e+00\n",
      "Problem data seem to be well scaled\n",
      "Constructing initial basis...\n",
      "Size of triangular part is 8678\n",
      "Solving LP relaxation...\n",
      "GLPK Simplex Optimizer, v4.65\n",
      "8682 rows, 459 columns, 35397 non-zeros\n",
      "      0: obj =  -4.920000000e+05 inf =   2.478e+03 (1355)\n",
      "    165: obj =  -4.356936963e+05 inf =   1.119e-14 (0) 1\n",
      "*   338: obj =  -5.639976779e+05 inf =   2.307e-14 (0) 1\n",
      "OPTIMAL LP SOLUTION FOUND\n",
      "Integer optimization begins...\n",
      "Long-step dual simplex will be used\n",
      "+   338: mip =     not found yet >=              -inf        (1; 0)\n",
      "+  3130: >>>>>  -3.063417848e+05 >=  -5.614046882e+05  83.3% (94; 1)\n",
      "+  4182: >>>>>  -4.469315833e+05 >=  -5.605751058e+05  25.4% (124; 2)\n",
      "+  6606: >>>>>  -4.572846710e+05 >=  -5.605751058e+05  22.6% (160; 67)\n",
      "+  7284: >>>>>  -4.935637693e+05 >=  -5.604733806e+05  13.6% (173; 72)\n",
      "+  7803: >>>>>  -5.248788682e+05 >=  -5.577950268e+05   6.3% (140; 171)\n",
      "+ 11378: mip =  -5.248788682e+05 >=  -5.415019406e+05   3.2% (83; 378)\n",
      "+ 14130: >>>>>  -5.344698301e+05 >=  -5.381871293e+05   0.7% (139; 400)\n",
      "+ 17022: mip =  -5.344698301e+05 >=  -5.381871293e+05   0.7% (136; 583)\n",
      "+ 17313: >>>>>  -5.381871293e+05 >=  -5.381871293e+05   0.0% (142; 589)\n",
      "+ 17313: mip =  -5.381871293e+05 >=     tree is empty   0.0% (0; 939)\n",
      "INTEGER OPTIMAL SOLUTION FOUND\n",
      "Time used:   27.0 secs\n",
      "Memory used: 14.6 Mb (15310995 bytes)\n",
      "Writing MIP solution to 'C:\\Users\\NICCOL~1\\AppData\\Local\\Temp\\tmp6ble7f8b.glpk.raw'...\n",
      "9476 lines were written\n",
      "Wall time: 30 s\n"
     ]
    }
   ],
   "source": [
    "%%time\n",
    "res_gl = opt_glpk.solve(model_gl,tee=True)"
   ]
  },
  {
   "cell_type": "code",
   "execution_count": 145,
   "metadata": {},
   "outputs": [
    {
     "data": {
      "text/plain": [
       "'3.8766040802001953'"
      ]
     },
     "execution_count": 145,
     "metadata": {},
     "output_type": "execute_result"
    }
   ],
   "source": [
    "res_gu['Solver'][0]['Wall time']"
   ]
  },
  {
   "cell_type": "code",
   "execution_count": 146,
   "metadata": {},
   "outputs": [
    {
     "data": {
      "text/plain": [
       "27.598974466323853"
      ]
     },
     "execution_count": 146,
     "metadata": {},
     "output_type": "execute_result"
    }
   ],
   "source": [
    "res_gl['Solver'][0]['Time']"
   ]
  },
  {
   "cell_type": "code",
   "execution_count": 151,
   "metadata": {},
   "outputs": [
    {
     "data": {
      "text/plain": [
       "-538187.1292954"
      ]
     },
     "execution_count": 151,
     "metadata": {},
     "output_type": "execute_result"
    }
   ],
   "source": [
    "model_gu.obj.expr()"
   ]
  },
  {
   "cell_type": "code",
   "execution_count": 152,
   "metadata": {},
   "outputs": [
    {
     "data": {
      "text/plain": [
       "-538187.1292954"
      ]
     },
     "execution_count": 152,
     "metadata": {},
     "output_type": "execute_result"
    }
   ],
   "source": [
    "model_gl.obj.expr()"
   ]
  },
  {
   "cell_type": "code",
   "execution_count": null,
   "metadata": {},
   "outputs": [],
   "source": []
  }
 ],
 "metadata": {
  "kernelspec": {
   "display_name": "Python [conda env:Opt_Workshop_PG] *",
   "language": "python",
   "name": "conda-env-Opt_Workshop_PG-py"
  },
  "language_info": {
   "codemirror_mode": {
    "name": "ipython",
    "version": 3
   },
   "file_extension": ".py",
   "mimetype": "text/x-python",
   "name": "python",
   "nbconvert_exporter": "python",
   "pygments_lexer": "ipython3",
   "version": "3.7.5"
  }
 },
 "nbformat": 4,
 "nbformat_minor": 2
}
