{
 "cells": [
  {
   "cell_type": "markdown",
   "metadata": {},
   "source": [
    "# The Transportation Problem           &emsp;   &emsp;      &emsp;       (*)\n",
    "\n",
    "## Summary\n",
    "\n",
    "Suppose we have a set of production **Plants** for a certain good, let's say milk, and a set of distant **Markets** that such Plants should supply in a given area.\n",
    "\n",
    "Each plant has a milk production **Capacity** limit (cannot distribute more than a certain quantity) and each Market has a minimal **Demand** (minimal quantity that a market should get).\n",
    "\n",
    "Assuming that we know the **transportation Cost** to bring 1 liter from each plant to every market, we want to setup the best distribution setup, that is, the setup that **minimizes the total transportation costs**.\n",
    "\n"
   ]
  },
  {
   "cell_type": "markdown",
   "metadata": {},
   "source": [
    "![pic](images/OPT_Map_problem.png)\n",
    "![pic2](images/OPT_Map_solution.png)\n"
   ]
  },
  {
   "cell_type": "markdown",
   "metadata": {},
   "source": [
    "Problem             |  A solution\n",
    ":-------------------------:|:-------------------------:\n",
    "![pic3](images/OPT_Map_problem.png)  |  ![pic4](images/OPT_Map_solution.png)"
   ]
  },
  {
   "cell_type": "markdown",
   "metadata": {},
   "source": [
    "\n",
    "\n",
    "## Problem Statement\n",
    "\n",
    "The Transport Problem can be formulated mathematically using the following model.  \n",
    "\n",
    "###  Sets\n",
    "\\begin{align}\n",
    "&\\text{set of Plants} &P & & = {p_1,p_2,p_3}  \\\\\n",
    "&\\text{set of Markets} &M & & = {m_1,m_2,m_3}\n",
    "\\end{align}\n",
    "### Parameters\n",
    "\\begin{align}\n",
    "&\\text{Capacity of plant $p$ in liter} & C_p & &       &\\forall p \\in P  & & [\\text{eg } & C_{p_1} &= 350 l &]\\\\\n",
    "&\\text{Demand at market $m$ in liter} & D_m & &      &\\forall m \\in M  & & [\\text{eg } & D_{m_2} &= 600 l &]\\\\\n",
    "&\\text{Transport Cost in per liter}& Cost_{pm}& &   & \\forall p \\in P, m \\in M & & [\\text{eg } & Cost_{p_1m_2} &= 1.7  \\text{ \\$/l} &]\\\\\n",
    "\\end{align}\n",
    "### Variables\n",
    "\\begin{align}\n",
    "&\\text{Shipment quantities} & x_{pm}    &\\in  \\mathrm{R\\geq 0} & & \\forall p \\in P, m \\in M \\tag{V1}\\\\\n",
    "\\end{align}\n",
    "\n"
   ]
  },
  {
   "cell_type": "markdown",
   "metadata": {},
   "source": [
    "### <span style=\"color:blue\">Objective</span>\n",
    "Minimize the total cost of the shipments: \n",
    "$$\\min_{x} \\sum_{p \\in P} \\sum_{m \\in M} Cost_{pm} x_{pm} \\tag{obj}$$\n",
    "### <span style=\"color:blue\">Constraints</span>\n",
    "\n",
    "\\begin{align}\n",
    "&\\text{Satisfy demand at market $p$}& &\\sum_{p \\in P} x_{pm} \\geq D_{m} &\\forall m \\in M \\tag{C1} & & [\\text{eg } & & x_{p_1 m_2} + x_{p_2 m_2} + x_{p_3 m_2} &\\geq 600 l &]\\\\\n",
    "&\\text{Observe supply limit at plant $p$}& &\\sum_{m \\in M} x_{pm} \\leq C_{p} &\\forall p \\in P \\tag{C2} & & [\\text{eg }& & x_{p_1 m_1} + x_{p_1 m_2} + x_{p_1 m_3} &\\leq 350 l &]\\\\\n",
    "&\\text{Non-negative transportation quantities}& &x_{pm} \\geq 0 &\\forall p \\in P, \\forall m \\in M \\tag{C3}\n",
    "\\end{align}\n"
   ]
  },
  {
   "cell_type": "markdown",
   "metadata": {},
   "source": [
    "### Variables*\n",
    "\\begin{align}\n",
    "& \\text{Plant $p$ is active} &y_p & &  &\\in \\{0,1\\} \\tag{V2*}\\\\\n",
    "\\end{align}\n",
    "### <span style=\"color:blue\">Constraints*</span>\n",
    "\\begin{align}\n",
    "&\\text{Supply capacity if plant $p$ is active}& &\\sum_{m \\in J} x_{pm} \\leq C_{p} * y_p & \\forall p \\in P \\tag{C2*}\\\\\n",
    "&\\text{Total active Plants }& &\\sum_{p \\in P} y_p = N \\tag{C4*}  & & [& y_{p_1} + y_{p_2} + y_{p_3} &=2  &  &]\\\\\n",
    "\\end{align}\n"
   ]
  },
  {
   "cell_type": "code",
   "execution_count": null,
   "metadata": {},
   "outputs": [],
   "source": []
  },
  {
   "cell_type": "code",
   "execution_count": null,
   "metadata": {},
   "outputs": [],
   "source": []
  },
  {
   "cell_type": "markdown",
   "metadata": {},
   "source": [
    "# Implementation in PYOMO"
   ]
  },
  {
   "cell_type": "code",
   "execution_count": 1,
   "metadata": {},
   "outputs": [],
   "source": [
    "from pyomo.environ import *\n"
   ]
  },
  {
   "cell_type": "code",
   "execution_count": 2,
   "metadata": {},
   "outputs": [],
   "source": [
    "model = ConcreteModel()\n"
   ]
  },
  {
   "cell_type": "code",
   "execution_count": 3,
   "metadata": {},
   "outputs": [],
   "source": [
    "#solver = SolverFactory(\"glpk\")\n",
    "solver = SolverFactory(\"gurobi\")"
   ]
  },
  {
   "cell_type": "markdown",
   "metadata": {},
   "source": [
    "#  Sets\n",
    "\\begin{align}\n",
    "P & & \\text{Plants} & & \\textit{\\{Seattle Plant, San-Diego Plant,Gotham City Plant\\}}\\\\\n",
    "M & & \\text{Markets} & & \\textit{\\{New-York, Chicago, Topeka\\}}\n",
    "\\end{align}"
   ]
  },
  {
   "cell_type": "code",
   "execution_count": 4,
   "metadata": {},
   "outputs": [],
   "source": [
    "model.p = Set(initialize=['Seattle Plant','San-Diego Plant','Gotham City Plant'],\n",
    "              doc='Plants')\n",
    "model.m = Set(initialize=['New-York','Chicago', 'Topeka'], \n",
    "              doc='Markets')"
   ]
  },
  {
   "cell_type": "markdown",
   "metadata": {},
   "source": [
    "#   Parameters\n"
   ]
  },
  {
   "cell_type": "markdown",
   "metadata": {},
   "source": [
    " * ${C}_p$  = \n",
    "    \\begin{cases}\n",
    "                 &\\text{Seattle Plant}      &350 \\\\\n",
    "                 &\\text{San-Diego Plant}   &600 \\\\\n",
    "                 &\\text{Gotham City Plant} & 500\\\\\n",
    "   \\end{cases}\n",
    " * $D_m$  =\n",
    " \\begin{cases}\n",
    "                 &\\text{New-York}     &350 \\\\\n",
    "                 &\\text{Chicago}   &600 \\\\\n",
    "                 &\\text{Topeka}    &  275\n",
    "\\end{cases}\n"
   ]
  },
  {
   "cell_type": "code",
   "execution_count": 5,
   "metadata": {},
   "outputs": [],
   "source": [
    "model.C = Param(model.p, \n",
    "                 initialize={'Seattle Plant':350,'San-Diego Plant':600,'Gotham City Plant':500},\n",
    "                 mutable=True, doc='Capacity of plant p in liters')\n",
    "model.D = Param(model.m, \n",
    "                 initialize={'New-York':325,'Chicago':300,'Topeka':275},\n",
    "                 mutable=True, doc='Demand at market m in liters')\n"
   ]
  },
  {
   "cell_type": "markdown",
   "metadata": {},
   "source": [
    "* $Cost_{pm} =$\n",
    "\n",
    "|   \t | \\| |New-York |   Chicago|   Topeka|\n",
    "|---\t | ---|---\t  |---\t    |---\t|\n",
    "|**Seattle**   | \\| |   2.5|   1.7 |   1.8|\n",
    "|**San-Diego** |\\| |   2.5|   1.8|   1.4|\n",
    "|**Gotham** |\\| |   2.7|   3.3|   1.1|"
   ]
  },
  {
   "cell_type": "code",
   "execution_count": 6,
   "metadata": {},
   "outputs": [],
   "source": [
    "ctab = {\n",
    "    ('Seattle Plant',  'New-York') : 2.5,\n",
    "    ('Seattle Plant',  'Chicago')  : 1.7,\n",
    "    ('Seattle Plant',  'Topeka')   : 1.8,\n",
    "    ('San-Diego Plant','New-York') : 2.5,\n",
    "    ('San-Diego Plant','Chicago')  : 1.8,\n",
    "    ('San-Diego Plant','Topeka')   : 1.4,\n",
    "    ('Gotham City Plant','New-York') : 2.7,\n",
    "    ('Gotham City Plant','Chicago')  : 3.3,\n",
    "    ('Gotham City Plant','Topeka')   : 1.1\n",
    "    }\n",
    "\n",
    "model.Cost = Param(model.p, model.m, \n",
    "                initialize=ctab, \n",
    "                doc='Transport cost per liter',mutable=True)"
   ]
  },
  {
   "cell_type": "markdown",
   "metadata": {},
   "source": [
    "#   Variables"
   ]
  },
  {
   "cell_type": "markdown",
   "metadata": {},
   "source": [
    "*  $x_{pm} \\in  \\mathrm{R} $  <br/>\n",
    "Non-negative transportation quantities $ x_{pm} \\geq 0, \\forall p \\in P, \\forall m \\in M$\n",
    "* $y_p  \\in \\{0,1\\}$ \n"
   ]
  },
  {
   "cell_type": "code",
   "execution_count": 7,
   "metadata": {},
   "outputs": [],
   "source": [
    "model.x = Var(model.p, model.m, within=NonNegativeIntegers, doc='Shipment quantities in liter')\n",
    "model.y = Var(model.p,within=Boolean,doc='Opened Plants')"
   ]
  },
  {
   "cell_type": "markdown",
   "metadata": {},
   "source": [
    "# <span style=\"color:blue\">Constraints</span>"
   ]
  },
  {
   "cell_type": "markdown",
   "metadata": {},
   "source": [
    " * Satisfy demand at market $m$ $ \\sum_{m \\in M} x_{pm} \\geq D_{m}, \\forall m \\in M \\tag{C2}$\n"
   ]
  },
  {
   "cell_type": "code",
   "execution_count": 8,
   "metadata": {},
   "outputs": [],
   "source": [
    "def demand_rule(model, m):\n",
    "    return sum(model.x[p,m] for p in model.p) >= model.D[m]  \n",
    "\n",
    "model.demand = Constraint(model.m, rule=demand_rule, doc='Satisfy demand at market m')"
   ]
  },
  {
   "cell_type": "markdown",
   "metadata": {},
   "source": [
    "* Supply capacity if plant $p$ is active $\\sum_{m \\in M} x_{pm} \\leq C_{p} * y_p  \\forall p \\in P \\tag{C1*}$\n",
    "\n"
   ]
  },
  {
   "cell_type": "code",
   "execution_count": 9,
   "metadata": {},
   "outputs": [],
   "source": [
    "def supply_rule_if_active(model, p):\n",
    "    return sum(model.x[p,m] for m in model.m) <= model.C[p] * model.y[p]\n",
    "\n",
    "model.supply_if_active = Constraint(model.p, rule=supply_rule_if_active, doc='Observe supply limit at plant p if active')"
   ]
  },
  {
   "cell_type": "markdown",
   "metadata": {},
   "source": [
    "* Total active plants \n",
    "\n",
    "$ \\sum_{p \\in P} y_p = 2 \\tag{C4*}$"
   ]
  },
  {
   "cell_type": "code",
   "execution_count": 10,
   "metadata": {},
   "outputs": [],
   "source": [
    "def tot_active(model,p):\n",
    "    return sum(model.y[p] for p in model.p) == 2\n",
    "\n",
    "model.tot_active = Constraint(model.p, rule=tot_active, doc='Total active plants')"
   ]
  },
  {
   "cell_type": "markdown",
   "metadata": {},
   "source": [
    "# <span style=\"color:blue\">Objective</span>"
   ]
  },
  {
   "cell_type": "markdown",
   "metadata": {},
   "source": [
    " * Minimize $  \\sum_{p \\in P} \\sum_{m \\in M} Cost_{pm} x_{pm} \\tag{obj} $"
   ]
  },
  {
   "cell_type": "code",
   "execution_count": 11,
   "metadata": {},
   "outputs": [],
   "source": [
    "def objective_rule(model):\n",
    "    return sum( model.Cost[p,m] * model.x[p,m] for p in model.p for m in model.m)\n",
    "\n",
    "model.objective = Objective(rule=objective_rule, sense=minimize, doc='Cost of transport')"
   ]
  },
  {
   "cell_type": "code",
   "execution_count": null,
   "metadata": {},
   "outputs": [],
   "source": []
  },
  {
   "cell_type": "code",
   "execution_count": 12,
   "metadata": {},
   "outputs": [],
   "source": [
    "def pprint_model(model):\n",
    "    if model.solutions.solutions:\n",
    "        print(model.x.display())\n",
    "        print(model.y.display())\n",
    "        print('Cost %.0f $' % model.objective())\n",
    "    else:\n",
    "        print('No Solution')"
   ]
  },
  {
   "cell_type": "markdown",
   "metadata": {},
   "source": [
    "# Results\n",
    "### Transport Problem"
   ]
  },
  {
   "cell_type": "code",
   "execution_count": 13,
   "metadata": {},
   "outputs": [],
   "source": [
    "model_a = model.clone()\n",
    "model_a.name = 'Original'"
   ]
  },
  {
   "cell_type": "code",
   "execution_count": 14,
   "metadata": {},
   "outputs": [
    {
     "name": "stdout",
     "output_type": "stream",
     "text": [
      "\r\n",
      "--------------------------------------------\r\n",
      "Warning: your license will expire in 9 days\r\n",
      "--------------------------------------------\r\n",
      "\r\n",
      "Using license file C:\\Users\\niccolomoretti\\gurobi.lic\r\n",
      "Read LP format model from file C:\\Users\\NICCOL~1\\AppData\\Local\\Temp\\tmpdb7ygldv.pyomo.lp\r\n",
      "Reading time = 0.01 seconds\r\n",
      "x13: 10 rows, 13 columns, 31 nonzeros\r\n",
      "Gurobi Optimizer version 9.0.0 build v9.0.0rc2 (win64)\r\n",
      "Optimize a model with 10 rows, 13 columns and 31 nonzeros\r\n",
      "Model fingerprint: 0x7e1295bf\r\n",
      "Variable types: 1 continuous, 12 integer (3 binary)\r\n",
      "Coefficient statistics:\r\n",
      "  Matrix range     [1e+00, 6e+02]\r\n",
      "  Objective range  [1e+00, 3e+00]\r\n",
      "  Bounds range     [1e+00, 1e+00]\r\n",
      "  RHS range        [1e+00, 3e+02]\r\n",
      "Found heuristic solution: objective 2187.5000000\r\n",
      "Presolve removed 3 rows and 1 columns\r\n",
      "Presolve time: 0.01s\r\n",
      "Presolved: 7 rows, 12 columns, 24 nonzeros\r\n",
      "Variable types: 0 continuous, 12 integer (3 binary)\r\n",
      "\r\n",
      "Root relaxation: objective 1.625000e+03, 7 iterations, 0.00 seconds\r\n",
      "\r\n",
      "    Nodes    |    Current Node    |     Objective Bounds      |     Work\r\n",
      " Expl Unexpl |  Obj  Depth IntInf | Incumbent    BestBd   Gap | It/Node Time\r\n",
      "\r\n",
      "     0     0 1625.00000    0    3 2187.50000 1625.00000  25.7%     -    0s\r\n",
      "H    0     0                    1707.5000000 1625.00000  4.83%     -    0s\r\n",
      "*    0     0               0    1660.0000000 1660.00000  0.00%     -    0s\r\n",
      "\r\n",
      "Cutting planes:\r\n",
      "  Gomory: 3\r\n",
      "  Implied bound: 2\r\n",
      "\r\n",
      "Explored 1 nodes (8 simplex iterations) in 0.03 seconds\r\n",
      "Thread count was 4 (of 4 available processors)\r\n",
      "\r\n",
      "Solution count 3: 1660 1707.5 2187.5 \r\n",
      "\r\n",
      "Optimal solution found (tolerance 1.00e-04)\r\n",
      "Best objective 1.660000000000e+03, best bound 1.660000000000e+03, gap 0.0000%\r\n"
     ]
    }
   ],
   "source": [
    "results_a = solver.solve(model_a,tee=True)"
   ]
  },
  {
   "cell_type": "code",
   "execution_count": 15,
   "metadata": {},
   "outputs": [
    {
     "name": "stdout",
     "output_type": "stream",
     "text": [
      "x : Shipment quantities in liter\n",
      "    Size=9, Index=x_index\n",
      "    Key                               : Lower : Value : Upper : Fixed : Stale : Domain\n",
      "     ('Gotham City Plant', 'Chicago') :     0 :  -0.0 :  None : False : False : NonNegativeIntegers\n",
      "    ('Gotham City Plant', 'New-York') :     0 :  25.0 :  None : False : False : NonNegativeIntegers\n",
      "      ('Gotham City Plant', 'Topeka') :     0 : 275.0 :  None : False : False : NonNegativeIntegers\n",
      "       ('San-Diego Plant', 'Chicago') :     0 : 300.0 :  None : False : False : NonNegativeIntegers\n",
      "      ('San-Diego Plant', 'New-York') :     0 : 300.0 :  None : False : False : NonNegativeIntegers\n",
      "        ('San-Diego Plant', 'Topeka') :     0 :  -0.0 :  None : False : False : NonNegativeIntegers\n",
      "         ('Seattle Plant', 'Chicago') :     0 :   0.0 :  None : False : False : NonNegativeIntegers\n",
      "        ('Seattle Plant', 'New-York') :     0 :  -0.0 :  None : False : False : NonNegativeIntegers\n",
      "          ('Seattle Plant', 'Topeka') :     0 :  -0.0 :  None : False : False : NonNegativeIntegers\n",
      "None\n",
      "y : Opened Plants\n",
      "    Size=3, Index=p\n",
      "    Key               : Lower : Value : Upper : Fixed : Stale : Domain\n",
      "    Gotham City Plant :     0 :   1.0 :     1 : False : False : Boolean\n",
      "      San-Diego Plant :     0 :   1.0 :     1 : False : False : Boolean\n",
      "        Seattle Plant :     0 :   0.0 :     1 : False : False : Boolean\n",
      "None\n",
      "Cost 1660 $\n"
     ]
    }
   ],
   "source": [
    "pprint_model(model_a)"
   ]
  },
  {
   "cell_type": "code",
   "execution_count": null,
   "metadata": {},
   "outputs": [],
   "source": []
  },
  {
   "cell_type": "markdown",
   "metadata": {},
   "source": [
    "### All active Plants"
   ]
  },
  {
   "cell_type": "code",
   "execution_count": 16,
   "metadata": {},
   "outputs": [],
   "source": [
    "model_b = model.clone()\n",
    "model_b.name = 'All Active Plants'"
   ]
  },
  {
   "cell_type": "code",
   "execution_count": 17,
   "metadata": {},
   "outputs": [],
   "source": [
    "model_b.tot_active.deactivate()"
   ]
  },
  {
   "cell_type": "code",
   "execution_count": 18,
   "metadata": {},
   "outputs": [
    {
     "name": "stdout",
     "output_type": "stream",
     "text": [
      "\r\n",
      "--------------------------------------------\r\n",
      "Warning: your license will expire in 9 days\r\n",
      "--------------------------------------------\r\n",
      "\r\n",
      "Using license file C:\\Users\\niccolomoretti\\gurobi.lic\r\n",
      "Read LP format model from file C:\\Users\\NICCOL~1\\AppData\\Local\\Temp\\tmp725zmox_.pyomo.lp\r\n",
      "Reading time = 0.00 seconds\r\n",
      "x13: 7 rows, 13 columns, 22 nonzeros\r\n",
      "Gurobi Optimizer version 9.0.0 build v9.0.0rc2 (win64)\r\n",
      "Optimize a model with 7 rows, 13 columns and 22 nonzeros\r\n",
      "Model fingerprint: 0x19480e74\r\n",
      "Variable types: 1 continuous, 12 integer (3 binary)\r\n",
      "Coefficient statistics:\r\n",
      "  Matrix range     [1e+00, 6e+02]\r\n",
      "  Objective range  [1e+00, 3e+00]\r\n",
      "  Bounds range     [1e+00, 1e+00]\r\n",
      "  RHS range        [1e+00, 3e+02]\r\n",
      "Found heuristic solution: objective 1715.0000000\r\n",
      "Presolve removed 1 rows and 4 columns\r\n",
      "Presolve time: 0.00s\r\n",
      "Presolved: 6 rows, 9 columns, 18 nonzeros\r\n",
      "Variable types: 0 continuous, 9 integer (0 binary)\r\n",
      "\r\n",
      "Root relaxation: objective 1.625000e+03, 3 iterations, 0.00 seconds\r\n",
      "\r\n",
      "    Nodes    |    Current Node    |     Objective Bounds      |     Work\r\n",
      " Expl Unexpl |  Obj  Depth IntInf | Incumbent    BestBd   Gap | It/Node Time\r\n",
      "\r\n",
      "*    0     0               0    1625.0000000 1625.00000  0.00%     -    0s\r\n",
      "\r\n",
      "Explored 0 nodes (3 simplex iterations) in 0.00 seconds\r\n",
      "Thread count was 4 (of 4 available processors)\r\n",
      "\r\n",
      "Solution count 2: 1625 1715 \r\n",
      "\r\n",
      "Optimal solution found (tolerance 1.00e-04)\r\n",
      "Best objective 1.625000000000e+03, best bound 1.625000000000e+03, gap 0.0000%\r\n"
     ]
    }
   ],
   "source": [
    "results_b = solver.solve(model_b,tee=True)"
   ]
  },
  {
   "cell_type": "code",
   "execution_count": 19,
   "metadata": {},
   "outputs": [
    {
     "name": "stdout",
     "output_type": "stream",
     "text": [
      "x : Shipment quantities in liter\n",
      "    Size=9, Index=x_index\n",
      "    Key                               : Lower : Value : Upper : Fixed : Stale : Domain\n",
      "     ('Gotham City Plant', 'Chicago') :     0 :  -0.0 :  None : False : False : NonNegativeIntegers\n",
      "    ('Gotham City Plant', 'New-York') :     0 :  -0.0 :  None : False : False : NonNegativeIntegers\n",
      "      ('Gotham City Plant', 'Topeka') :     0 : 275.0 :  None : False : False : NonNegativeIntegers\n",
      "       ('San-Diego Plant', 'Chicago') :     0 :  -0.0 :  None : False : False : NonNegativeIntegers\n",
      "      ('San-Diego Plant', 'New-York') :     0 : 325.0 :  None : False : False : NonNegativeIntegers\n",
      "        ('San-Diego Plant', 'Topeka') :     0 :  -0.0 :  None : False : False : NonNegativeIntegers\n",
      "         ('Seattle Plant', 'Chicago') :     0 : 300.0 :  None : False : False : NonNegativeIntegers\n",
      "        ('Seattle Plant', 'New-York') :     0 :  -0.0 :  None : False : False : NonNegativeIntegers\n",
      "          ('Seattle Plant', 'Topeka') :     0 :  -0.0 :  None : False : False : NonNegativeIntegers\n",
      "None\n",
      "y : Opened Plants\n",
      "    Size=3, Index=p\n",
      "    Key               : Lower : Value : Upper : Fixed : Stale : Domain\n",
      "    Gotham City Plant :     0 :   1.0 :     1 : False : False : Boolean\n",
      "      San-Diego Plant :     0 :   1.0 :     1 : False : False : Boolean\n",
      "        Seattle Plant :     0 :   1.0 :     1 : False : False : Boolean\n",
      "None\n",
      "Cost 1625 $\n"
     ]
    }
   ],
   "source": [
    "pprint_model(model_b)"
   ]
  },
  {
   "cell_type": "code",
   "execution_count": 20,
   "metadata": {},
   "outputs": [
    {
     "name": "stdout",
     "output_type": "stream",
     "text": [
      "Objective function:\n",
      "Original Model:                           1660$\n",
      "No-Constraint Model:                      1625$\n"
     ]
    }
   ],
   "source": [
    "print('Objective function:')\n",
    "print('Original Model:                           %.0f$' % model_a.objective())\n",
    "print('No-Constraint Model:                      %.0f$' % model_b.objective())\n"
   ]
  },
  {
   "cell_type": "markdown",
   "metadata": {},
   "source": [
    "### Unfeasible Problem"
   ]
  },
  {
   "cell_type": "code",
   "execution_count": 21,
   "metadata": {},
   "outputs": [],
   "source": [
    "model_c = model.clone()\n",
    "model_c.name = 'No solution'"
   ]
  },
  {
   "cell_type": "code",
   "execution_count": 22,
   "metadata": {},
   "outputs": [],
   "source": [
    "model_c.D['Topeka'] = 10000"
   ]
  },
  {
   "cell_type": "code",
   "execution_count": 23,
   "metadata": {},
   "outputs": [
    {
     "name": "stdout",
     "output_type": "stream",
     "text": [
      "\n",
      "--------------------------------------------\n",
      "Warning: your license will expire in 9 days\n",
      "--------------------------------------------\n",
      "\n",
      "Using license file C:\\Users\\niccolomoretti\\gurobi.lic\n",
      "Read LP format model from file C:\\Users\\NICCOL~1\\AppData\\Local\\Temp\\tmptkp9mwms.pyomo.lp\n",
      "Reading time = 0.00 seconds\n",
      "x13: 10 rows, 13 columns, 31 nonzeros\n",
      "Gurobi Optimizer version 9.0.0 build v9.0.0rc2 (win64)\n",
      "Optimize a model with 10 rows, 13 columns and 31 nonzeros\n",
      "Model fingerprint: 0x907accc2\n",
      "Variable types: 1 continuous, 12 integer (3 binary)\n",
      "Coefficient statistics:\n",
      "  Matrix range     [1e+00, 6e+02]\n",
      "  Objective range  [1e+00, 3e+00]\n",
      "  Bounds range     [1e+00, 1e+00]\n",
      "  RHS range        [1e+00, 1e+04]\n",
      "Presolve removed 1 rows and 1 columns\n",
      "Presolve time: 0.00s\n",
      "\n",
      "Explored 0 nodes (0 simplex iterations) in 0.00 seconds\n",
      "Thread count was 1 (of 4 available processors)\n",
      "\n",
      "Solution count 0\n",
      "\n",
      "Model is infeasible\n",
      "Best objective -, best bound -, gap -\n",
      "WARNING: Loading a SolverResults object with a warning status into model=No\n",
      "    solution;\n",
      "        message from solver=Model was proven to be infeasible.\n"
     ]
    }
   ],
   "source": [
    "results_c = solver.solve(model_c,tee=True)"
   ]
  },
  {
   "cell_type": "code",
   "execution_count": 24,
   "metadata": {},
   "outputs": [
    {
     "name": "stdout",
     "output_type": "stream",
     "text": [
      "No Solution\n"
     ]
    }
   ],
   "source": [
    "pprint_model(model_c)"
   ]
  },
  {
   "cell_type": "code",
   "execution_count": null,
   "metadata": {},
   "outputs": [],
   "source": []
  },
  {
   "cell_type": "code",
   "execution_count": null,
   "metadata": {},
   "outputs": [],
   "source": []
  },
  {
   "cell_type": "markdown",
   "metadata": {},
   "source": [
    "## (*) Example taken from https://github.com/Pyomo/PyomoGallery and adapted"
   ]
  },
  {
   "cell_type": "code",
   "execution_count": null,
   "metadata": {},
   "outputs": [],
   "source": []
  }
 ],
 "metadata": {
  "kernelspec": {
   "display_name": "Python [conda env:Opt_Workshop_PG] *",
   "language": "python",
   "name": "conda-env-Opt_Workshop_PG-py"
  },
  "language_info": {
   "codemirror_mode": {
    "name": "ipython",
    "version": 3
   },
   "file_extension": ".py",
   "mimetype": "text/x-python",
   "name": "python",
   "nbconvert_exporter": "python",
   "pygments_lexer": "ipython3",
   "version": "3.7.5"
  }
 },
 "nbformat": 4,
 "nbformat_minor": 2
}
